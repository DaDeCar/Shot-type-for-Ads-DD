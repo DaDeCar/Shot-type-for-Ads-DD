{
 "cells": [
  {
   "cell_type": "markdown",
   "id": "bc1e3b08",
   "metadata": {},
   "source": [
    "# Shot Type for Ads\n",
    "\n",
    "## Exploratory Data Analysis\n"
   ]
  },
  {
   "cell_type": "code",
   "execution_count": 104,
   "id": "8e3bd481",
   "metadata": {},
   "outputs": [],
   "source": [
    "import os\n",
    "\n",
    "import cv2\n",
    "import matplotlib.pyplot as plt\n",
    "import seaborn as sns\n",
    "\n",
    "import pandas as pd\n",
    "import json\n",
    "\n",
    "import warnings\n",
    "warnings.filterwarnings('ignore')"
   ]
  },
  {
   "cell_type": "markdown",
   "id": "c2cf9e87",
   "metadata": {},
   "source": [
    "### Load dataset"
   ]
  },
  {
   "cell_type": "code",
   "execution_count": 8,
   "id": "eb05013e",
   "metadata": {},
   "outputs": [],
   "source": [
    "# reading the JSON data using json.load()\n",
    "file = '/workspaces/final-project-shot-type/data/shot-type-dataset/v1_split_trailer.json'\n",
    "with open(file) as train_file:\n",
    "    dict= json.load(train_file)\n"
   ]
  },
  {
   "cell_type": "code",
   "execution_count": 9,
   "id": "6dea0cd0",
   "metadata": {},
   "outputs": [],
   "source": [
    "dataset = []\n",
    "movie = []\n",
    "shot= []\n",
    "scale_label = []\n",
    "scale_val = []\n",
    "mov_label = []\n",
    "mov_val = []\n",
    "\n",
    "for key_type_ds in dict:\n",
    "    for key_movie in dict[key_type_ds]:\n",
    "        for key_shot in dict[key_type_ds][key_movie]:\n",
    "\n",
    "            dataset.append(key_type_ds)\n",
    "            movie.append(key_movie)\n",
    "            shot.append(key_shot)\n",
    "            scale_label.append(dict[key_type_ds][key_movie][key_shot]['scale']['label'])\n",
    "            scale_val.append(dict[key_type_ds][key_movie][key_shot]['scale']['value'])\n",
    "            mov_label.append(dict[key_type_ds][key_movie][key_shot]['movement']['label'])\n",
    "            mov_val.append(dict[key_type_ds][key_movie][key_shot]['movement']['value'])\n",
    "            \n",
    "data = list(zip(dataset, movie, shot, scale_label, scale_val, mov_label, mov_val))  \n",
    "columns = ['dataset','movie', 'shot', 'scale_label', 'scale_val', 'move_label', 'move_val']  \n",
    "        \n",
    "df = pd.DataFrame(data, columns=columns)"
   ]
  },
  {
   "cell_type": "code",
   "execution_count": 10,
   "id": "48bd8c01",
   "metadata": {},
   "outputs": [
    {
     "data": {
      "text/html": [
       "<div>\n",
       "<style scoped>\n",
       "    .dataframe tbody tr th:only-of-type {\n",
       "        vertical-align: middle;\n",
       "    }\n",
       "\n",
       "    .dataframe tbody tr th {\n",
       "        vertical-align: top;\n",
       "    }\n",
       "\n",
       "    .dataframe thead th {\n",
       "        text-align: right;\n",
       "    }\n",
       "</style>\n",
       "<table border=\"1\" class=\"dataframe\">\n",
       "  <thead>\n",
       "    <tr style=\"text-align: right;\">\n",
       "      <th></th>\n",
       "      <th>dataset</th>\n",
       "      <th>movie</th>\n",
       "      <th>shot</th>\n",
       "      <th>scale_label</th>\n",
       "      <th>scale_val</th>\n",
       "      <th>move_label</th>\n",
       "      <th>move_val</th>\n",
       "    </tr>\n",
       "  </thead>\n",
       "  <tbody>\n",
       "    <tr>\n",
       "      <th>0</th>\n",
       "      <td>train</td>\n",
       "      <td>tt0444850</td>\n",
       "      <td>0014</td>\n",
       "      <td>CS</td>\n",
       "      <td>1</td>\n",
       "      <td>Static</td>\n",
       "      <td>4</td>\n",
       "    </tr>\n",
       "    <tr>\n",
       "      <th>1</th>\n",
       "      <td>train</td>\n",
       "      <td>tt0444850</td>\n",
       "      <td>0015</td>\n",
       "      <td>CS</td>\n",
       "      <td>1</td>\n",
       "      <td>Static</td>\n",
       "      <td>4</td>\n",
       "    </tr>\n",
       "    <tr>\n",
       "      <th>2</th>\n",
       "      <td>train</td>\n",
       "      <td>tt0444850</td>\n",
       "      <td>0016</td>\n",
       "      <td>ECS</td>\n",
       "      <td>0</td>\n",
       "      <td>Static</td>\n",
       "      <td>4</td>\n",
       "    </tr>\n",
       "    <tr>\n",
       "      <th>3</th>\n",
       "      <td>train</td>\n",
       "      <td>tt2005173</td>\n",
       "      <td>0002</td>\n",
       "      <td>MS</td>\n",
       "      <td>2</td>\n",
       "      <td>Static</td>\n",
       "      <td>4</td>\n",
       "    </tr>\n",
       "    <tr>\n",
       "      <th>4</th>\n",
       "      <td>train</td>\n",
       "      <td>tt2005173</td>\n",
       "      <td>0014</td>\n",
       "      <td>CS</td>\n",
       "      <td>1</td>\n",
       "      <td>Static</td>\n",
       "      <td>4</td>\n",
       "    </tr>\n",
       "    <tr>\n",
       "      <th>...</th>\n",
       "      <td>...</td>\n",
       "      <td>...</td>\n",
       "      <td>...</td>\n",
       "      <td>...</td>\n",
       "      <td>...</td>\n",
       "      <td>...</td>\n",
       "      <td>...</td>\n",
       "    </tr>\n",
       "    <tr>\n",
       "      <th>33648</th>\n",
       "      <td>test</td>\n",
       "      <td>tt6644200</td>\n",
       "      <td>0011</td>\n",
       "      <td>FS</td>\n",
       "      <td>3</td>\n",
       "      <td>Static</td>\n",
       "      <td>4</td>\n",
       "    </tr>\n",
       "    <tr>\n",
       "      <th>33649</th>\n",
       "      <td>test</td>\n",
       "      <td>tt6644200</td>\n",
       "      <td>0015</td>\n",
       "      <td>MS</td>\n",
       "      <td>2</td>\n",
       "      <td>Motion</td>\n",
       "      <td>0</td>\n",
       "    </tr>\n",
       "    <tr>\n",
       "      <th>33650</th>\n",
       "      <td>test</td>\n",
       "      <td>tt6644200</td>\n",
       "      <td>0021</td>\n",
       "      <td>FS</td>\n",
       "      <td>3</td>\n",
       "      <td>Motion</td>\n",
       "      <td>0</td>\n",
       "    </tr>\n",
       "    <tr>\n",
       "      <th>33651</th>\n",
       "      <td>test</td>\n",
       "      <td>tt6644200</td>\n",
       "      <td>0026</td>\n",
       "      <td>LS</td>\n",
       "      <td>4</td>\n",
       "      <td>Static</td>\n",
       "      <td>4</td>\n",
       "    </tr>\n",
       "    <tr>\n",
       "      <th>33652</th>\n",
       "      <td>test</td>\n",
       "      <td>tt6644200</td>\n",
       "      <td>0042</td>\n",
       "      <td>ECS</td>\n",
       "      <td>0</td>\n",
       "      <td>Static</td>\n",
       "      <td>4</td>\n",
       "    </tr>\n",
       "  </tbody>\n",
       "</table>\n",
       "<p>33653 rows × 7 columns</p>\n",
       "</div>"
      ],
      "text/plain": [
       "      dataset      movie  shot scale_label  scale_val move_label  move_val\n",
       "0       train  tt0444850  0014          CS          1     Static         4\n",
       "1       train  tt0444850  0015          CS          1     Static         4\n",
       "2       train  tt0444850  0016         ECS          0     Static         4\n",
       "3       train  tt2005173  0002          MS          2     Static         4\n",
       "4       train  tt2005173  0014          CS          1     Static         4\n",
       "...       ...        ...   ...         ...        ...        ...       ...\n",
       "33648    test  tt6644200  0011          FS          3     Static         4\n",
       "33649    test  tt6644200  0015          MS          2     Motion         0\n",
       "33650    test  tt6644200  0021          FS          3     Motion         0\n",
       "33651    test  tt6644200  0026          LS          4     Static         4\n",
       "33652    test  tt6644200  0042         ECS          0     Static         4\n",
       "\n",
       "[33653 rows x 7 columns]"
      ]
     },
     "execution_count": 10,
     "metadata": {},
     "output_type": "execute_result"
    }
   ],
   "source": [
    "df"
   ]
  },
  {
   "cell_type": "markdown",
   "id": "5c6a32a1",
   "metadata": {},
   "source": [
    "#### Number of movies"
   ]
  },
  {
   "cell_type": "code",
   "execution_count": 11,
   "id": "0564515e",
   "metadata": {},
   "outputs": [
    {
     "data": {
      "text/plain": [
       "7848"
      ]
     },
     "execution_count": 11,
     "metadata": {},
     "output_type": "execute_result"
    }
   ],
   "source": [
    "movies_num = df['movie'].unique().shape[0]\n",
    "movies_num"
   ]
  },
  {
   "cell_type": "markdown",
   "id": "22e0f0ec",
   "metadata": {},
   "source": [
    "#### Number of shots"
   ]
  },
  {
   "cell_type": "code",
   "execution_count": 12,
   "id": "f82af0f7",
   "metadata": {},
   "outputs": [
    {
     "data": {
      "text/plain": [
       "33653"
      ]
     },
     "execution_count": 12,
     "metadata": {},
     "output_type": "execute_result"
    }
   ],
   "source": [
    "shots_num = df['shot'].shape[0]\n",
    "shots_num"
   ]
  },
  {
   "cell_type": "code",
   "execution_count": 96,
   "id": "88d9a2ef",
   "metadata": {},
   "outputs": [
    {
     "data": {
      "image/png": "[encoded data removed]",
      "text/plain": [
       "<Figure size 600x500 with 1 Axes>"
      ]
     },
     "metadata": {},
     "output_type": "display_data"
    }
   ],
   "source": [
    "# Plotting the Education level with percentages\n",
    "fig, axes = plt.subplots(figsize=(6,5))\n",
    "ax=sns.countplot(x= df['scale_label'].values)\n",
    "ax.set(xlabel='Type of Scale Labels')\n",
    "\n",
    "#calculating percentage of each label\n",
    "total = float(len(df['scale_label']))\n",
    "for p in axes.patches:\n",
    "    percentage = '{:.1f}%'.format(100 * p.get_height()/total)\n",
    "    x = p.get_x() + p.get_width()\n",
    "    y = p.get_height()\n",
    "    ax.annotate(percentage, (x, y),ha='right')\n",
    "\n",
    "\n",
    "fig.tight_layout()\n",
    "plt.show()"
   ]
  },
  {
   "cell_type": "code",
   "execution_count": 97,
   "id": "f86e39e0",
   "metadata": {},
   "outputs": [
    {
     "data": {
      "image/png": "[encoded data removed]",
      "text/plain": [
       "<Figure size 600x500 with 1 Axes>"
      ]
     },
     "metadata": {},
     "output_type": "display_data"
    }
   ],
   "source": [
    "# Plotting the Education level with percentages\n",
    "fig, axes = plt.subplots(figsize=(6,5))\n",
    "ax=sns.countplot(x= df['move_label'].values)\n",
    "ax.set(xlabel='Type of Movement Labels')\n",
    "\n",
    "#calculating percentage of each label\n",
    "total = float(len(df['move_label']))\n",
    "for p in axes.patches:\n",
    "    percentage = '{:.1f}%'.format(100 * p.get_height()/total)\n",
    "    x = p.get_x() + p.get_width()\n",
    "    y = p.get_height()\n",
    "    ax.annotate(percentage, (x, y),ha='right')\n",
    "\n",
    "\n",
    "fig.tight_layout()\n",
    "plt.show()"
   ]
  },
  {
   "cell_type": "markdown",
   "id": "ab5f9de3",
   "metadata": {},
   "source": [
    "#### Number of FPS, Total Frames and trailer duration "
   ]
  },
  {
   "cell_type": "code",
   "execution_count": 17,
   "id": "74280274",
   "metadata": {},
   "outputs": [],
   "source": [
    "import cv2"
   ]
  },
  {
   "cell_type": "code",
   "execution_count": null,
   "id": "78148afb",
   "metadata": {},
   "outputs": [],
   "source": [
    "fps_list = []\n",
    "frames_list = []\n",
    "duration_list = []\n",
    "\n",
    "\n",
    "for idx in df.index.values:\n",
    "    movie = df['movie'].iloc[idx]\n",
    "    shot = df['shot'].iloc[idx]\n",
    "    video = cv2.VideoCapture('/workspaces/final-project-shot-type/data/shot-type-dataset/trailer/'+ movie +'/shot_' + shot + '.mp4')\n",
    "    total_frames = video.get(cv2.CAP_PROP_FRAME_COUNT)\n",
    "    fps = round (video.get(cv2.CAP_PROP_FPS),0)\n",
    "    frames_list.append(total_frames)\n",
    "    fps_list.append(fps)\n",
    "    duration_list.append(round (total_frames / fps,1))\n",
    "    print(f'movie {idx} / {len(df.index.values)} done')\n"
   ]
  },
  {
   "cell_type": "code",
   "execution_count": 92,
   "id": "fa039752",
   "metadata": {},
   "outputs": [],
   "source": [
    "df['total_frames'] = frames_list\n",
    "df['fps'] = fps_list\n",
    "df ['trailer_duration'] = duration_list"
   ]
  },
  {
   "cell_type": "code",
   "execution_count": 93,
   "id": "b6f60c38",
   "metadata": {},
   "outputs": [
    {
     "data": {
      "text/html": [
       "<div>\n",
       "<style scoped>\n",
       "    .dataframe tbody tr th:only-of-type {\n",
       "        vertical-align: middle;\n",
       "    }\n",
       "\n",
       "    .dataframe tbody tr th {\n",
       "        vertical-align: top;\n",
       "    }\n",
       "\n",
       "    .dataframe thead th {\n",
       "        text-align: right;\n",
       "    }\n",
       "</style>\n",
       "<table border=\"1\" class=\"dataframe\">\n",
       "  <thead>\n",
       "    <tr style=\"text-align: right;\">\n",
       "      <th></th>\n",
       "      <th>dataset</th>\n",
       "      <th>movie</th>\n",
       "      <th>shot</th>\n",
       "      <th>scale_label</th>\n",
       "      <th>scale_val</th>\n",
       "      <th>move_label</th>\n",
       "      <th>move_val</th>\n",
       "      <th>total_frames</th>\n",
       "      <th>fps</th>\n",
       "      <th>trailer_duration</th>\n",
       "    </tr>\n",
       "  </thead>\n",
       "  <tbody>\n",
       "    <tr>\n",
       "      <th>0</th>\n",
       "      <td>train</td>\n",
       "      <td>tt0444850</td>\n",
       "      <td>0014</td>\n",
       "      <td>CS</td>\n",
       "      <td>1</td>\n",
       "      <td>Static</td>\n",
       "      <td>4</td>\n",
       "      <td>53.0</td>\n",
       "      <td>24.0</td>\n",
       "      <td>2.2</td>\n",
       "    </tr>\n",
       "    <tr>\n",
       "      <th>1</th>\n",
       "      <td>train</td>\n",
       "      <td>tt0444850</td>\n",
       "      <td>0015</td>\n",
       "      <td>CS</td>\n",
       "      <td>1</td>\n",
       "      <td>Static</td>\n",
       "      <td>4</td>\n",
       "      <td>45.0</td>\n",
       "      <td>24.0</td>\n",
       "      <td>1.9</td>\n",
       "    </tr>\n",
       "    <tr>\n",
       "      <th>2</th>\n",
       "      <td>train</td>\n",
       "      <td>tt0444850</td>\n",
       "      <td>0016</td>\n",
       "      <td>ECS</td>\n",
       "      <td>0</td>\n",
       "      <td>Static</td>\n",
       "      <td>4</td>\n",
       "      <td>24.0</td>\n",
       "      <td>24.0</td>\n",
       "      <td>1.0</td>\n",
       "    </tr>\n",
       "    <tr>\n",
       "      <th>3</th>\n",
       "      <td>train</td>\n",
       "      <td>tt2005173</td>\n",
       "      <td>0002</td>\n",
       "      <td>MS</td>\n",
       "      <td>2</td>\n",
       "      <td>Static</td>\n",
       "      <td>4</td>\n",
       "      <td>22.0</td>\n",
       "      <td>25.0</td>\n",
       "      <td>0.9</td>\n",
       "    </tr>\n",
       "    <tr>\n",
       "      <th>4</th>\n",
       "      <td>train</td>\n",
       "      <td>tt2005173</td>\n",
       "      <td>0014</td>\n",
       "      <td>CS</td>\n",
       "      <td>1</td>\n",
       "      <td>Static</td>\n",
       "      <td>4</td>\n",
       "      <td>22.0</td>\n",
       "      <td>25.0</td>\n",
       "      <td>0.9</td>\n",
       "    </tr>\n",
       "    <tr>\n",
       "      <th>...</th>\n",
       "      <td>...</td>\n",
       "      <td>...</td>\n",
       "      <td>...</td>\n",
       "      <td>...</td>\n",
       "      <td>...</td>\n",
       "      <td>...</td>\n",
       "      <td>...</td>\n",
       "      <td>...</td>\n",
       "      <td>...</td>\n",
       "      <td>...</td>\n",
       "    </tr>\n",
       "    <tr>\n",
       "      <th>33648</th>\n",
       "      <td>test</td>\n",
       "      <td>tt6644200</td>\n",
       "      <td>0011</td>\n",
       "      <td>FS</td>\n",
       "      <td>3</td>\n",
       "      <td>Static</td>\n",
       "      <td>4</td>\n",
       "      <td>26.0</td>\n",
       "      <td>24.0</td>\n",
       "      <td>1.1</td>\n",
       "    </tr>\n",
       "    <tr>\n",
       "      <th>33649</th>\n",
       "      <td>test</td>\n",
       "      <td>tt6644200</td>\n",
       "      <td>0015</td>\n",
       "      <td>MS</td>\n",
       "      <td>2</td>\n",
       "      <td>Motion</td>\n",
       "      <td>0</td>\n",
       "      <td>38.0</td>\n",
       "      <td>24.0</td>\n",
       "      <td>1.6</td>\n",
       "    </tr>\n",
       "    <tr>\n",
       "      <th>33650</th>\n",
       "      <td>test</td>\n",
       "      <td>tt6644200</td>\n",
       "      <td>0021</td>\n",
       "      <td>FS</td>\n",
       "      <td>3</td>\n",
       "      <td>Motion</td>\n",
       "      <td>0</td>\n",
       "      <td>47.0</td>\n",
       "      <td>24.0</td>\n",
       "      <td>2.0</td>\n",
       "    </tr>\n",
       "    <tr>\n",
       "      <th>33651</th>\n",
       "      <td>test</td>\n",
       "      <td>tt6644200</td>\n",
       "      <td>0026</td>\n",
       "      <td>LS</td>\n",
       "      <td>4</td>\n",
       "      <td>Static</td>\n",
       "      <td>4</td>\n",
       "      <td>28.0</td>\n",
       "      <td>24.0</td>\n",
       "      <td>1.2</td>\n",
       "    </tr>\n",
       "    <tr>\n",
       "      <th>33652</th>\n",
       "      <td>test</td>\n",
       "      <td>tt6644200</td>\n",
       "      <td>0042</td>\n",
       "      <td>ECS</td>\n",
       "      <td>0</td>\n",
       "      <td>Static</td>\n",
       "      <td>4</td>\n",
       "      <td>22.0</td>\n",
       "      <td>24.0</td>\n",
       "      <td>0.9</td>\n",
       "    </tr>\n",
       "  </tbody>\n",
       "</table>\n",
       "<p>33653 rows × 10 columns</p>\n",
       "</div>"
      ],
      "text/plain": [
       "      dataset      movie  shot scale_label  scale_val move_label  move_val  \\\n",
       "0       train  tt0444850  0014          CS          1     Static         4   \n",
       "1       train  tt0444850  0015          CS          1     Static         4   \n",
       "2       train  tt0444850  0016         ECS          0     Static         4   \n",
       "3       train  tt2005173  0002          MS          2     Static         4   \n",
       "4       train  tt2005173  0014          CS          1     Static         4   \n",
       "...       ...        ...   ...         ...        ...        ...       ...   \n",
       "33648    test  tt6644200  0011          FS          3     Static         4   \n",
       "33649    test  tt6644200  0015          MS          2     Motion         0   \n",
       "33650    test  tt6644200  0021          FS          3     Motion         0   \n",
       "33651    test  tt6644200  0026          LS          4     Static         4   \n",
       "33652    test  tt6644200  0042         ECS          0     Static         4   \n",
       "\n",
       "       total_frames   fps  trailer_duration  \n",
       "0              53.0  24.0               2.2  \n",
       "1              45.0  24.0               1.9  \n",
       "2              24.0  24.0               1.0  \n",
       "3              22.0  25.0               0.9  \n",
       "4              22.0  25.0               0.9  \n",
       "...             ...   ...               ...  \n",
       "33648          26.0  24.0               1.1  \n",
       "33649          38.0  24.0               1.6  \n",
       "33650          47.0  24.0               2.0  \n",
       "33651          28.0  24.0               1.2  \n",
       "33652          22.0  24.0               0.9  \n",
       "\n",
       "[33653 rows x 10 columns]"
      ]
     },
     "execution_count": 93,
     "metadata": {},
     "output_type": "execute_result"
    }
   ],
   "source": [
    "df"
   ]
  },
  {
   "cell_type": "markdown",
   "id": "25f12b8e",
   "metadata": {},
   "source": [
    "#### We check if all the trailers have more or equal than 8 fps"
   ]
  },
  {
   "cell_type": "code",
   "execution_count": 116,
   "id": "91b2caef",
   "metadata": {},
   "outputs": [
    {
     "data": {
      "text/plain": [
       "0"
      ]
     },
     "execution_count": 116,
     "metadata": {},
     "output_type": "execute_result"
    }
   ],
   "source": [
    "df[ df['fps'] < 8 ].shape[0]"
   ]
  },
  {
   "cell_type": "code",
   "execution_count": 98,
   "id": "ebc24958",
   "metadata": {},
   "outputs": [
    {
     "data": {
      "image/png": "[encoded data removed]",
      "text/plain": [
       "<Figure size 600x500 with 1 Axes>"
      ]
     },
     "metadata": {},
     "output_type": "display_data"
    }
   ],
   "source": [
    "\n",
    "fig, axes = plt.subplots(figsize=(6,5))\n",
    "ax=sns.countplot(x= df['fps'].values)\n",
    "ax.set(xlabel='FPS distribution ')\n",
    "\n",
    "#calculating percentage of each label\n",
    "total = float(len(df['fps']))\n",
    "for p in axes.patches:\n",
    "    percentage = '{:.1f}%'.format(100 * p.get_height()/total)\n",
    "    x = p.get_x() + p.get_width()\n",
    "    y = p.get_height()\n",
    "    ax.annotate(percentage, (x, y),ha='right')\n",
    "\n",
    "\n",
    "fig.tight_layout()\n",
    "plt.show()"
   ]
  },
  {
   "cell_type": "code",
   "execution_count": 105,
   "id": "fae5619d",
   "metadata": {},
   "outputs": [
    {
     "data": {
      "image/png": "[encoded data removed]",
      "text/plain": [
       "<Figure size 600x500 with 1 Axes>"
      ]
     },
     "metadata": {},
     "output_type": "display_data"
    }
   ],
   "source": [
    "\n",
    "fig, axes = plt.subplots(figsize=(6,5))\n",
    "sns.distplot(df['total_frames'], kde=True)\n",
    "fig.tight_layout()"
   ]
  },
  {
   "cell_type": "code",
   "execution_count": 109,
   "id": "f4134f88",
   "metadata": {},
   "outputs": [
    {
     "data": {
      "image/png": "[encoded data removed]",
      "text/plain": [
       "<Figure size 600x500 with 1 Axes>"
      ]
     },
     "metadata": {},
     "output_type": "display_data"
    }
   ],
   "source": [
    "fig, axes = plt.subplots(figsize=(6,5))\n",
    "sns.distplot(df['trailer_duration'], kde=True)\n",
    "ax.set(xlabel='Trailer duration (seg)')\n",
    "fig.tight_layout()"
   ]
  }
 ],
 "metadata": {
  "kernelspec": {
   "display_name": "Python 3.8.10 64-bit",
   "language": "python",
   "name": "python3"
  },
  "language_info": {
   "codemirror_mode": {
    "name": "ipython",
    "version": 3
   },
   "file_extension": ".py",
   "mimetype": "text/x-python",
   "name": "python",
   "nbconvert_exporter": "python",
   "pygments_lexer": "ipython3",
   "version": "3.8.10"
  },
  "vscode": {
   "interpreter": {
    "hash": "31f2aee4e71d21fbe5cf8b01ff0e069b9275f58929596ceb00d14d90e3e16cd6"
   }
  }
 },
 "nbformat": 4,
 "nbformat_minor": 5
}
