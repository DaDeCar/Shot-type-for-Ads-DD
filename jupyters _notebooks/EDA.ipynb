{
 "cells": [
  {
   "cell_type": "markdown",
   "id": "bc1e3b08",
   "metadata": {},
   "source": [
    "# Shot Type for Ads\n",
    "\n",
    "## Exploratory Data Analysis\n"
   ]
  },
  {
   "cell_type": "code",
   "execution_count": 161,
   "id": "8e3bd481",
   "metadata": {},
   "outputs": [],
   "source": [
    "import os\n",
    "\n",
    "import cv2\n",
    "import matplotlib.pyplot as plt\n",
    "import seaborn as sns\n",
    "\n",
    "import pandas as pd\n",
    "import json\n",
    "\n"
   ]
  },
  {
   "cell_type": "markdown",
   "id": "c2cf9e87",
   "metadata": {},
   "source": [
    "### Load dataset"
   ]
  },
  {
   "cell_type": "code",
   "execution_count": 145,
   "id": "eb05013e",
   "metadata": {},
   "outputs": [],
   "source": [
    "# reading the JSON data using json.load()\n",
    "file = '../dataset/v1_split_trailer.json'\n",
    "with open(file) as train_file:\n",
    "    dict= json.load(train_file)\n"
   ]
  },
  {
   "cell_type": "code",
   "execution_count": 146,
   "id": "6dea0cd0",
   "metadata": {},
   "outputs": [],
   "source": [
    "dataset = []\n",
    "movie = []\n",
    "shot= []\n",
    "scale_label = []\n",
    "scale_val = []\n",
    "mov_label = []\n",
    "mov_val = []\n",
    "\n",
    "for key_type_ds in dict:\n",
    "    for key_movie in dict[key_type_ds]:\n",
    "        for key_shot in dict[key_type_ds][key_movie]:\n",
    "\n",
    "            dataset.append(key_type_ds)\n",
    "            movie.append(key_movie)\n",
    "            shot.append(key_shot)\n",
    "            scale_label.append(dict[key_type_ds][key_movie][key_shot]['scale']['label'])\n",
    "            scale_val.append(dict[key_type_ds][key_movie][key_shot]['scale']['value'])\n",
    "            mov_label.append(dict[key_type_ds][key_movie][key_shot]['movement']['label'])\n",
    "            mov_val.append(dict[key_type_ds][key_movie][key_shot]['movement']['value'])\n",
    "            \n",
    "data = list(zip(dataset, movie, shot, scale_label, scale_val, mov_label, mov_val))  \n",
    "columns = ['dataset','movie', 'shot', 'scale_label', 'scale_val', 'move_label', 'move_val']  \n",
    "        \n",
    "df = pd.DataFrame(data, columns=columns)"
   ]
  },
  {
   "cell_type": "code",
   "execution_count": 147,
   "id": "48bd8c01",
   "metadata": {},
   "outputs": [
    {
     "data": {
      "text/html": [
       "<div>\n",
       "<style scoped>\n",
       "    .dataframe tbody tr th:only-of-type {\n",
       "        vertical-align: middle;\n",
       "    }\n",
       "\n",
       "    .dataframe tbody tr th {\n",
       "        vertical-align: top;\n",
       "    }\n",
       "\n",
       "    .dataframe thead th {\n",
       "        text-align: right;\n",
       "    }\n",
       "</style>\n",
       "<table border=\"1\" class=\"dataframe\">\n",
       "  <thead>\n",
       "    <tr style=\"text-align: right;\">\n",
       "      <th></th>\n",
       "      <th>dataset</th>\n",
       "      <th>movie</th>\n",
       "      <th>shot</th>\n",
       "      <th>scale_label</th>\n",
       "      <th>scale_val</th>\n",
       "      <th>move_label</th>\n",
       "      <th>move_val</th>\n",
       "    </tr>\n",
       "  </thead>\n",
       "  <tbody>\n",
       "    <tr>\n",
       "      <th>0</th>\n",
       "      <td>train</td>\n",
       "      <td>tt0444850</td>\n",
       "      <td>0014</td>\n",
       "      <td>CS</td>\n",
       "      <td>1</td>\n",
       "      <td>Static</td>\n",
       "      <td>4</td>\n",
       "    </tr>\n",
       "    <tr>\n",
       "      <th>1</th>\n",
       "      <td>train</td>\n",
       "      <td>tt0444850</td>\n",
       "      <td>0015</td>\n",
       "      <td>CS</td>\n",
       "      <td>1</td>\n",
       "      <td>Static</td>\n",
       "      <td>4</td>\n",
       "    </tr>\n",
       "    <tr>\n",
       "      <th>2</th>\n",
       "      <td>train</td>\n",
       "      <td>tt0444850</td>\n",
       "      <td>0016</td>\n",
       "      <td>ECS</td>\n",
       "      <td>0</td>\n",
       "      <td>Static</td>\n",
       "      <td>4</td>\n",
       "    </tr>\n",
       "    <tr>\n",
       "      <th>3</th>\n",
       "      <td>train</td>\n",
       "      <td>tt2005173</td>\n",
       "      <td>0002</td>\n",
       "      <td>MS</td>\n",
       "      <td>2</td>\n",
       "      <td>Static</td>\n",
       "      <td>4</td>\n",
       "    </tr>\n",
       "    <tr>\n",
       "      <th>4</th>\n",
       "      <td>train</td>\n",
       "      <td>tt2005173</td>\n",
       "      <td>0014</td>\n",
       "      <td>CS</td>\n",
       "      <td>1</td>\n",
       "      <td>Static</td>\n",
       "      <td>4</td>\n",
       "    </tr>\n",
       "    <tr>\n",
       "      <th>...</th>\n",
       "      <td>...</td>\n",
       "      <td>...</td>\n",
       "      <td>...</td>\n",
       "      <td>...</td>\n",
       "      <td>...</td>\n",
       "      <td>...</td>\n",
       "      <td>...</td>\n",
       "    </tr>\n",
       "    <tr>\n",
       "      <th>33648</th>\n",
       "      <td>test</td>\n",
       "      <td>tt6644200</td>\n",
       "      <td>0011</td>\n",
       "      <td>FS</td>\n",
       "      <td>3</td>\n",
       "      <td>Static</td>\n",
       "      <td>4</td>\n",
       "    </tr>\n",
       "    <tr>\n",
       "      <th>33649</th>\n",
       "      <td>test</td>\n",
       "      <td>tt6644200</td>\n",
       "      <td>0015</td>\n",
       "      <td>MS</td>\n",
       "      <td>2</td>\n",
       "      <td>Motion</td>\n",
       "      <td>0</td>\n",
       "    </tr>\n",
       "    <tr>\n",
       "      <th>33650</th>\n",
       "      <td>test</td>\n",
       "      <td>tt6644200</td>\n",
       "      <td>0021</td>\n",
       "      <td>FS</td>\n",
       "      <td>3</td>\n",
       "      <td>Motion</td>\n",
       "      <td>0</td>\n",
       "    </tr>\n",
       "    <tr>\n",
       "      <th>33651</th>\n",
       "      <td>test</td>\n",
       "      <td>tt6644200</td>\n",
       "      <td>0026</td>\n",
       "      <td>LS</td>\n",
       "      <td>4</td>\n",
       "      <td>Static</td>\n",
       "      <td>4</td>\n",
       "    </tr>\n",
       "    <tr>\n",
       "      <th>33652</th>\n",
       "      <td>test</td>\n",
       "      <td>tt6644200</td>\n",
       "      <td>0042</td>\n",
       "      <td>ECS</td>\n",
       "      <td>0</td>\n",
       "      <td>Static</td>\n",
       "      <td>4</td>\n",
       "    </tr>\n",
       "  </tbody>\n",
       "</table>\n",
       "<p>33653 rows × 7 columns</p>\n",
       "</div>"
      ],
      "text/plain": [
       "      dataset      movie  shot scale_label  scale_val move_label  move_val\n",
       "0       train  tt0444850  0014          CS          1     Static         4\n",
       "1       train  tt0444850  0015          CS          1     Static         4\n",
       "2       train  tt0444850  0016         ECS          0     Static         4\n",
       "3       train  tt2005173  0002          MS          2     Static         4\n",
       "4       train  tt2005173  0014          CS          1     Static         4\n",
       "...       ...        ...   ...         ...        ...        ...       ...\n",
       "33648    test  tt6644200  0011          FS          3     Static         4\n",
       "33649    test  tt6644200  0015          MS          2     Motion         0\n",
       "33650    test  tt6644200  0021          FS          3     Motion         0\n",
       "33651    test  tt6644200  0026          LS          4     Static         4\n",
       "33652    test  tt6644200  0042         ECS          0     Static         4\n",
       "\n",
       "[33653 rows x 7 columns]"
      ]
     },
     "execution_count": 147,
     "metadata": {},
     "output_type": "execute_result"
    }
   ],
   "source": [
    "df"
   ]
  },
  {
   "cell_type": "markdown",
   "id": "5c6a32a1",
   "metadata": {},
   "source": [
    "#### Number of movies"
   ]
  },
  {
   "cell_type": "code",
   "execution_count": 157,
   "id": "0564515e",
   "metadata": {},
   "outputs": [
    {
     "data": {
      "text/plain": [
       "7848"
      ]
     },
     "execution_count": 157,
     "metadata": {},
     "output_type": "execute_result"
    }
   ],
   "source": [
    "movies_num = df['movie'].unique().shape[0]\n",
    "movies_num"
   ]
  },
  {
   "cell_type": "markdown",
   "id": "22e0f0ec",
   "metadata": {},
   "source": [
    "#### Number of shots"
   ]
  },
  {
   "cell_type": "code",
   "execution_count": 158,
   "id": "f82af0f7",
   "metadata": {},
   "outputs": [
    {
     "data": {
      "text/plain": [
       "33653"
      ]
     },
     "execution_count": 158,
     "metadata": {},
     "output_type": "execute_result"
    }
   ],
   "source": [
    "shots_num = df['shot'].shape[0]\n",
    "shots_num"
   ]
  },
  {
   "cell_type": "code",
   "execution_count": 180,
   "id": "88d9a2ef",
   "metadata": {},
   "outputs": [
    {
     "data": {
      "image/png": "[encoded data removed]",
      "text/plain": [
       "<Figure size 600x500 with 1 Axes>"
      ]
     },
     "metadata": {},
     "output_type": "display_data"
    }
   ],
   "source": [
    "# Plotting the Education level with percentages\n",
    "fig, axes = plt.subplots(figsize=(6,5))\n",
    "ax=sns.countplot(x= df['scale_label'].values)\n",
    "\n",
    "#calculating percentage of each label\n",
    "total = float(len(df['scale_label']))\n",
    "for p in axes.patches:\n",
    "    percentage = '{:.1f}%'.format(100 * p.get_height()/total)\n",
    "    x = p.get_x() + p.get_width()\n",
    "    y = p.get_height()\n",
    "    ax.annotate(percentage, (x, y),ha='right')\n",
    "\n",
    "\n",
    "fig.tight_layout()\n",
    "plt.show()"
   ]
  },
  {
   "cell_type": "code",
   "execution_count": 181,
   "id": "f86e39e0",
   "metadata": {},
   "outputs": [
    {
     "data": {
      "image/png": "[encoded data removed]",
      "text/plain": [
       "<Figure size 600x500 with 1 Axes>"
      ]
     },
     "metadata": {},
     "output_type": "display_data"
    }
   ],
   "source": [
    "# Plotting the Education level with percentages\n",
    "fig, axes = plt.subplots(figsize=(6,5))\n",
    "ax=sns.countplot(x= df['move_label'].values)\n",
    "\n",
    "#calculating percentage of each label\n",
    "total = float(len(df['move_label']))\n",
    "for p in axes.patches:\n",
    "    percentage = '{:.1f}%'.format(100 * p.get_height()/total)\n",
    "    x = p.get_x() + p.get_width()\n",
    "    y = p.get_height()\n",
    "    ax.annotate(percentage, (x, y),ha='right')\n",
    "\n",
    "\n",
    "fig.tight_layout()\n",
    "plt.show()"
   ]
  },
  {
   "cell_type": "markdown",
   "id": "ab5f9de3",
   "metadata": {},
   "source": [
    "#### Number of FPS, Frames and duration "
   ]
  },
  {
   "cell_type": "code",
   "execution_count": 182,
   "id": "74280274",
   "metadata": {},
   "outputs": [],
   "source": [
    "import cv2"
   ]
  },
  {
   "cell_type": "code",
   "execution_count": null,
   "id": "c4011bfe",
   "metadata": {},
   "outputs": [],
   "source": [
    "video = cv2.VideoCapture('shot_0016.mp4')\n",
    "total_frames = video.get(cv2.CAP_PROP_FRAME_COUNT)\n",
    "print(total_frames)\n",
    "fps = video.get(cv2.CAP_PROP_FPS)\n",
    "print(fps)"
   ]
  }
 ],
 "metadata": {
  "kernelspec": {
   "display_name": "Python 3.8.10 64-bit",
   "language": "python",
   "name": "python3"
  },
  "language_info": {
   "codemirror_mode": {
    "name": "ipython",
    "version": 3
   },
   "file_extension": ".py",
   "mimetype": "text/x-python",
   "name": "python",
   "nbconvert_exporter": "python",
   "pygments_lexer": "ipython3",
   "version": "3.10.6"
  },
  "vscode": {
   "interpreter": {
    "hash": "31f2aee4e71d21fbe5cf8b01ff0e069b9275f58929596ceb00d14d90e3e16cd6"
   }
  }
 },
 "nbformat": 4,
 "nbformat_minor": 5
}
