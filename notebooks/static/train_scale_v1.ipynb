{
 "cells": [
  {
   "cell_type": "code",
   "execution_count": 1,
   "metadata": {},
   "outputs": [],
   "source": [
    "#from tensorflow_docs.vis import embed\n",
    "from tensorflow import keras\n",
    "#from imutils import paths\n",
    "\n",
    "import seaborn as sns\n",
    "import tensorflow as tf\n",
    "import pandas as pd\n",
    "import numpy as np\n",
    "#import imageio\n",
    "import cv2\n",
    "import os\n",
    "import json\n",
    "from ipywidgets import Video, Image\n",
    "\n",
    "from sklearn.tree import DecisionTreeRegressor\n",
    "from sklearn.linear_model import LogisticRegression\n",
    "from sklearn.metrics import precision_recall_fscore_support\n",
    "from sklearn.metrics import accuracy_score\n",
    "from sklearn.metrics import classification_report\n",
    "from sklearn.metrics import confusion_matrix"
   ]
  },
  {
   "cell_type": "markdown",
   "metadata": {},
   "source": [
    "Data preparation"
   ]
  },
  {
   "cell_type": "code",
   "execution_count": null,
   "metadata": {},
   "outputs": [],
   "source": []
  },
  {
   "cell_type": "markdown",
   "metadata": {},
   "source": [
    "Preparing training data"
   ]
  },
  {
   "cell_type": "code",
   "execution_count": 2,
   "metadata": {},
   "outputs": [],
   "source": [
    "# data_df = pd. read_csv('/home/app/src/data/CSV/dataset_df.csv', dtype={\"shot\": str})\n",
    "\n",
    "# data_df.drop(columns=['scale_val'], inplace=True)\n",
    "# data_df.drop(columns = ['move_val'], inplace=True)\n",
    "\n",
    "# train_path = '/workspaces/final-project-shot-type/data/shot-type-dataset/trailer_v3/train/'\n",
    "# data_df['video_name'] = train_path + 'shot_' + data_df['movie'] + '_' + data_df['shot'] + '.mp4'\n",
    "# train_df = data_df[(data_df['dataset']=='train') | (data_df['dataset']=='val') ]\n",
    "# train_df = train_df[['video_name', 'move_label','scale_label']]\n",
    "# train_df = train_df.rename(columns ={'scale_label': 'tag'})\n",
    "\n",
    "\n",
    "# test_path = '/workspaces/final-project-shot-type/data/shot-type-dataset/trailer_v3/test/'\n",
    "# data_df['video_name'] = test_path + 'shot_' + data_df['movie'] + '_' + data_df['shot'] + '.mp4'\n",
    "# test_df = data_df[data_df['dataset']=='test']\n",
    "# test_df = test_df[['video_name', 'move_label','scale_label']]\n",
    "# test_df = test_df.rename(columns ={'scale_label': 'tag'})"
   ]
  },
  {
   "cell_type": "code",
   "execution_count": 3,
   "metadata": {},
   "outputs": [],
   "source": [
    "#train_df = pd.read_csv('/home/app/src/data/CSV/dataset_train_10k_v1.csv', )"
   ]
  },
  {
   "cell_type": "code",
   "execution_count": 4,
   "metadata": {},
   "outputs": [],
   "source": [
    "#test_df = pd.read_csv('/home/app/src/data/CSV/dataset_test_10k_v1.csv', )"
   ]
  },
  {
   "cell_type": "code",
   "execution_count": 5,
   "metadata": {},
   "outputs": [],
   "source": [
    "#df_train.to_csv('/workspaces/final-project-shot-type/data/CSV/dataset_train_v1.csv')"
   ]
  },
  {
   "cell_type": "markdown",
   "metadata": {},
   "source": [
    "Preparing Test Data"
   ]
  },
  {
   "cell_type": "code",
   "execution_count": 6,
   "metadata": {},
   "outputs": [],
   "source": [
    "#df_test.to_csv('/workspaces/final-project-shot-type/data/CSV/dataset_test_v1.csv')"
   ]
  },
  {
   "cell_type": "code",
   "execution_count": 7,
   "metadata": {},
   "outputs": [],
   "source": [
    "train_df= pd.read_csv('/home/app/src/final-project-shot-type/CSV/dataset_train_v3.csv', )\n",
    "test_df= pd.read_csv('/home/app/src/final-project-shot-type/CSV/dataset_train_v3.csv', )"
   ]
  },
  {
   "cell_type": "code",
   "execution_count": 8,
   "metadata": {},
   "outputs": [
    {
     "name": "stdout",
     "output_type": "stream",
     "text": [
      "Total videos for training: 25466\n",
      "Total videos for testing: 25466\n"
     ]
    },
    {
     "data": {
      "text/html": [
       "<div>\n",
       "<style scoped>\n",
       "    .dataframe tbody tr th:only-of-type {\n",
       "        vertical-align: middle;\n",
       "    }\n",
       "\n",
       "    .dataframe tbody tr th {\n",
       "        vertical-align: top;\n",
       "    }\n",
       "\n",
       "    .dataframe thead th {\n",
       "        text-align: right;\n",
       "    }\n",
       "</style>\n",
       "<table border=\"1\" class=\"dataframe\">\n",
       "  <thead>\n",
       "    <tr style=\"text-align: right;\">\n",
       "      <th></th>\n",
       "      <th>video_name</th>\n",
       "      <th>move_label</th>\n",
       "      <th>tag</th>\n",
       "    </tr>\n",
       "  </thead>\n",
       "  <tbody>\n",
       "    <tr>\n",
       "      <th>19122</th>\n",
       "      <td>/home/app/src/data/shot-type-dataset/trailer_v...</td>\n",
       "      <td>Static</td>\n",
       "      <td>ECS</td>\n",
       "    </tr>\n",
       "    <tr>\n",
       "      <th>24476</th>\n",
       "      <td>/home/app/src/data/shot-type-dataset/trailer_v...</td>\n",
       "      <td>Motion</td>\n",
       "      <td>MS</td>\n",
       "    </tr>\n",
       "    <tr>\n",
       "      <th>10852</th>\n",
       "      <td>/home/app/src/data/shot-type-dataset/trailer_v...</td>\n",
       "      <td>Static</td>\n",
       "      <td>CS</td>\n",
       "    </tr>\n",
       "    <tr>\n",
       "      <th>24269</th>\n",
       "      <td>/home/app/src/data/shot-type-dataset/trailer_v...</td>\n",
       "      <td>Static</td>\n",
       "      <td>CS</td>\n",
       "    </tr>\n",
       "    <tr>\n",
       "      <th>24321</th>\n",
       "      <td>/home/app/src/data/shot-type-dataset/trailer_v...</td>\n",
       "      <td>Static</td>\n",
       "      <td>ECS</td>\n",
       "    </tr>\n",
       "    <tr>\n",
       "      <th>19745</th>\n",
       "      <td>/home/app/src/data/shot-type-dataset/trailer_v...</td>\n",
       "      <td>Static</td>\n",
       "      <td>LS</td>\n",
       "    </tr>\n",
       "    <tr>\n",
       "      <th>25357</th>\n",
       "      <td>/home/app/src/data/shot-type-dataset/trailer_v...</td>\n",
       "      <td>Motion</td>\n",
       "      <td>LS</td>\n",
       "    </tr>\n",
       "    <tr>\n",
       "      <th>5879</th>\n",
       "      <td>/home/app/src/data/shot-type-dataset/trailer_v...</td>\n",
       "      <td>Static</td>\n",
       "      <td>CS</td>\n",
       "    </tr>\n",
       "    <tr>\n",
       "      <th>19947</th>\n",
       "      <td>/home/app/src/data/shot-type-dataset/trailer_v...</td>\n",
       "      <td>Motion</td>\n",
       "      <td>MS</td>\n",
       "    </tr>\n",
       "    <tr>\n",
       "      <th>25387</th>\n",
       "      <td>/home/app/src/data/shot-type-dataset/trailer_v...</td>\n",
       "      <td>Static</td>\n",
       "      <td>MS</td>\n",
       "    </tr>\n",
       "  </tbody>\n",
       "</table>\n",
       "</div>"
      ],
      "text/plain": [
       "                                              video_name move_label  tag\n",
       "19122  /home/app/src/data/shot-type-dataset/trailer_v...     Static  ECS\n",
       "24476  /home/app/src/data/shot-type-dataset/trailer_v...     Motion   MS\n",
       "10852  /home/app/src/data/shot-type-dataset/trailer_v...     Static   CS\n",
       "24269  /home/app/src/data/shot-type-dataset/trailer_v...     Static   CS\n",
       "24321  /home/app/src/data/shot-type-dataset/trailer_v...     Static  ECS\n",
       "19745  /home/app/src/data/shot-type-dataset/trailer_v...     Static   LS\n",
       "25357  /home/app/src/data/shot-type-dataset/trailer_v...     Motion   LS\n",
       "5879   /home/app/src/data/shot-type-dataset/trailer_v...     Static   CS\n",
       "19947  /home/app/src/data/shot-type-dataset/trailer_v...     Motion   MS\n",
       "25387  /home/app/src/data/shot-type-dataset/trailer_v...     Static   MS"
      ]
     },
     "execution_count": 8,
     "metadata": {},
     "output_type": "execute_result"
    }
   ],
   "source": [
    "train_df= train_df\n",
    "\n",
    "# train_df = pd.read_csv('/workspaces/final-project-shot-type/data/CSV/dataset_train_v1.csv')\n",
    "test_df = test_df\n",
    "\n",
    "print(f\"Total videos for training: {len(train_df)}\")\n",
    "print(f\"Total videos for testing: {len(test_df)}\")\n",
    "\n",
    "train_df.sample(10)"
   ]
  },
  {
   "cell_type": "code",
   "execution_count": 9,
   "metadata": {},
   "outputs": [
    {
     "data": {
      "text/plain": [
       "MS     5656\n",
       "CS     5578\n",
       "FS     5161\n",
       "ECS    4868\n",
       "LS     4203\n",
       "Name: tag, dtype: int64"
      ]
     },
     "execution_count": 9,
     "metadata": {},
     "output_type": "execute_result"
    }
   ],
   "source": [
    "train_df['tag'].value_counts()"
   ]
  },
  {
   "cell_type": "markdown",
   "metadata": {},
   "source": [
    "Define hyperparameters"
   ]
  },
  {
   "cell_type": "code",
   "execution_count": 10,
   "metadata": {},
   "outputs": [],
   "source": [
    "IMG_SIZE = 224\n",
    "BATCH_SIZE = 64\n",
    "EPOCHS = 25\n",
    "\n",
    "MAX_SEQ_LENGTH = 30\n",
    "NUM_FEATURES = 2048"
   ]
  },
  {
   "cell_type": "markdown",
   "metadata": {},
   "source": [
    "Loading frames and working on frame's size"
   ]
  },
  {
   "cell_type": "code",
   "execution_count": 11,
   "metadata": {},
   "outputs": [],
   "source": [
    "def crop_center_square(frame):\n",
    "    y, x = frame.shape[0:2]\n",
    "    min_dim = min(y, x)\n",
    "    start_x = (x // 2) - (min_dim // 2)\n",
    "    start_y = (y // 2) - (min_dim // 2)\n",
    "    return frame[start_y : start_y + min_dim, start_x : start_x + min_dim]\n",
    "\n",
    "\n",
    "def load_video(path, max_frames=0, resize=(IMG_SIZE, IMG_SIZE)):\n",
    "    cap = cv2.VideoCapture(path)\n",
    "    frames = []\n",
    "    try:\n",
    "        while True:\n",
    "            ret, frame = cap.read()\n",
    "            if not ret:\n",
    "                break\n",
    "            frame = crop_center_square(frame)\n",
    "            frame = cv2.resize(frame, resize)\n",
    "            frame = frame[:, :, [2, 1, 0]]\n",
    "            frames.append(frame)\n",
    "\n",
    "            if len(frames) == max_frames:\n",
    "                break\n",
    "    finally:\n",
    "        cap.release()\n",
    "    return np.array(frames)"
   ]
  },
  {
   "cell_type": "markdown",
   "metadata": {},
   "source": [
    "Feature extractor"
   ]
  },
  {
   "cell_type": "code",
   "execution_count": 12,
   "metadata": {},
   "outputs": [
    {
     "name": "stderr",
     "output_type": "stream",
     "text": [
      "2022-11-17 20:04:03.307386: I tensorflow/stream_executor/cuda/cuda_gpu_executor.cc:936] successful NUMA node read from SysFS had negative value (-1), but there must be at least one NUMA node, so returning NUMA node zero\n",
      "2022-11-17 20:04:03.316434: I tensorflow/stream_executor/cuda/cuda_gpu_executor.cc:936] successful NUMA node read from SysFS had negative value (-1), but there must be at least one NUMA node, so returning NUMA node zero\n",
      "2022-11-17 20:04:03.317286: I tensorflow/stream_executor/cuda/cuda_gpu_executor.cc:936] successful NUMA node read from SysFS had negative value (-1), but there must be at least one NUMA node, so returning NUMA node zero\n",
      "2022-11-17 20:04:03.318554: I tensorflow/core/platform/cpu_feature_guard.cc:151] This TensorFlow binary is optimized with oneAPI Deep Neural Network Library (oneDNN) to use the following CPU instructions in performance-critical operations:  AVX2 FMA\n",
      "To enable them in other operations, rebuild TensorFlow with the appropriate compiler flags.\n",
      "2022-11-17 20:04:03.319009: I tensorflow/stream_executor/cuda/cuda_gpu_executor.cc:936] successful NUMA node read from SysFS had negative value (-1), but there must be at least one NUMA node, so returning NUMA node zero\n",
      "2022-11-17 20:04:03.319851: I tensorflow/stream_executor/cuda/cuda_gpu_executor.cc:936] successful NUMA node read from SysFS had negative value (-1), but there must be at least one NUMA node, so returning NUMA node zero\n",
      "2022-11-17 20:04:03.320726: I tensorflow/stream_executor/cuda/cuda_gpu_executor.cc:936] successful NUMA node read from SysFS had negative value (-1), but there must be at least one NUMA node, so returning NUMA node zero\n",
      "2022-11-17 20:04:03.968948: I tensorflow/stream_executor/cuda/cuda_gpu_executor.cc:936] successful NUMA node read from SysFS had negative value (-1), but there must be at least one NUMA node, so returning NUMA node zero\n",
      "2022-11-17 20:04:03.970042: I tensorflow/stream_executor/cuda/cuda_gpu_executor.cc:936] successful NUMA node read from SysFS had negative value (-1), but there must be at least one NUMA node, so returning NUMA node zero\n",
      "2022-11-17 20:04:03.971070: I tensorflow/stream_executor/cuda/cuda_gpu_executor.cc:936] successful NUMA node read from SysFS had negative value (-1), but there must be at least one NUMA node, so returning NUMA node zero\n",
      "2022-11-17 20:04:03.971996: I tensorflow/core/common_runtime/gpu/gpu_device.cc:1525] Created device /job:localhost/replica:0/task:0/device:GPU:0 with 10794 MB memory:  -> device: 0, name: Tesla K80, pci bus id: 0000:00:1e.0, compute capability: 3.7\n"
     ]
    },
    {
     "name": "stdout",
     "output_type": "stream",
     "text": [
      "Model: \"feature_extractor\"\n",
      "_________________________________________________________________\n",
      " Layer (type)                Output Shape              Param #   \n",
      "=================================================================\n",
      " input_2 (InputLayer)        [(None, 224, 224, 3)]     0         \n",
      "                                                                 \n",
      " tf.math.truediv (TFOpLambda  (None, 224, 224, 3)      0         \n",
      " )                                                               \n",
      "                                                                 \n",
      " tf.math.subtract (TFOpLambd  (None, 224, 224, 3)      0         \n",
      " a)                                                              \n",
      "                                                                 \n",
      " inception_v3 (Functional)   (None, 2048)              21802784  \n",
      "                                                                 \n",
      "=================================================================\n",
      "Total params: 21,802,784\n",
      "Trainable params: 21,768,352\n",
      "Non-trainable params: 34,432\n",
      "_________________________________________________________________\n",
      "None\n"
     ]
    }
   ],
   "source": [
    "def build_feature_extractor():\n",
    "    feature_extractor = keras.applications.InceptionV3(\n",
    "        weights=\"imagenet\",\n",
    "        include_top=False,\n",
    "        pooling=\"avg\",\n",
    "        input_shape=(IMG_SIZE, IMG_SIZE, 3),\n",
    "    )\n",
    "    preprocess_input = keras.applications.inception_v3.preprocess_input\n",
    "\n",
    "    inputs = keras.Input((IMG_SIZE, IMG_SIZE, 3))\n",
    "    preprocessed = preprocess_input(inputs)\n",
    "\n",
    "    outputs = feature_extractor(preprocessed)\n",
    "    return keras.Model(inputs, outputs, name=\"feature_extractor\")\n",
    "\n",
    "\n",
    "feature_extractor = build_feature_extractor()\n",
    "print(feature_extractor.summary())"
   ]
  },
  {
   "cell_type": "markdown",
   "metadata": {},
   "source": [
    "Working on labels"
   ]
  },
  {
   "cell_type": "code",
   "execution_count": 13,
   "metadata": {},
   "outputs": [
    {
     "name": "stdout",
     "output_type": "stream",
     "text": [
      "['CS', 'ECS', 'FS', 'LS', 'MS']\n"
     ]
    }
   ],
   "source": [
    "label_processor = keras.layers.StringLookup(\n",
    "    num_oov_indices=0, vocabulary=np.unique(train_df[\"tag\"])\n",
    ")\n",
    "print(label_processor.get_vocabulary())"
   ]
  },
  {
   "cell_type": "markdown",
   "metadata": {},
   "source": [
    "Preparing videos"
   ]
  },
  {
   "cell_type": "code",
   "execution_count": 14,
   "metadata": {},
   "outputs": [],
   "source": [
    "# def prepare_all_videos(df, root_dir):\n",
    "#     num_samples = len(df)\n",
    "#     video_paths = df[\"video_name\"].values.tolist()\n",
    "#     labels = df[\"tag\"].values\n",
    "#     labels = label_processor(labels[..., None]).numpy()\n",
    "\n",
    "#     # `frame_masks` and `frame_features` are what we will feed to our sequence model.\n",
    "#     # `frame_masks` will contain a bunch of booleans denoting if a timestep is\n",
    "#     # masked with padding or not.\n",
    "#     frame_masks = np.zeros(shape=(num_samples, MAX_SEQ_LENGTH), dtype=\"bool\")\n",
    "#     frame_features = np.zeros(\n",
    "#         shape=(num_samples, MAX_SEQ_LENGTH, NUM_FEATURES), dtype=\"float32\"\n",
    "#     )\n",
    "\n",
    "#     # For each video.\n",
    "#     for idx, path in enumerate(video_paths):\n",
    "#         # Gather all its frames and add a batch dimension.\n",
    "#         frames = load_video(os.path.join(root_dir, path))\n",
    "#         frames = frames[None, ...]\n",
    "\n",
    "#         # Initialize placeholders to store the masks and features of the current video.\n",
    "#         temp_frame_mask = np.zeros(shape=(1, MAX_SEQ_LENGTH,), dtype=\"bool\")\n",
    "#         temp_frame_features = np.zeros(\n",
    "#             shape=(1, MAX_SEQ_LENGTH, NUM_FEATURES), dtype=\"float32\"\n",
    "#         )\n",
    "\n",
    "#         # Extract features from the frames of the current video.\n",
    "#         for i, batch in enumerate(frames):\n",
    "#             video_length = batch.shape[0]\n",
    "#             length = min(MAX_SEQ_LENGTH, video_length)\n",
    "#             for j in range(length):\n",
    "#                 temp_frame_features[i, j, :] = feature_extractor.predict(\n",
    "#                     batch[None, j, :]\n",
    "#                 )\n",
    "#             temp_frame_mask[i, :length] = 1  # 1 = not masked, 0 = masked\n",
    "\n",
    "#         frame_features[idx,] = temp_frame_features.squeeze()\n",
    "#         frame_masks[idx,] = temp_frame_mask.squeeze()\n",
    "\n",
    "#     return (frame_features, frame_masks), labels\n",
    "\n",
    "\n",
    "# train_data, train_labels = prepare_all_videos(train_df, \"train\")\n",
    "# test_data, test_labels = prepare_all_videos(test_df, \"test\")\n",
    "\n",
    "# print(f\"Frame features in train set: {train_data[0].shape}\")\n",
    "# print(f\"Frame masks in train set: {train_data[1].shape}\")"
   ]
  },
  {
   "cell_type": "markdown",
   "metadata": {},
   "source": [
    "Saving embeddings"
   ]
  },
  {
   "cell_type": "markdown",
   "metadata": {},
   "source": [
    "Train"
   ]
  },
  {
   "cell_type": "code",
   "execution_count": 15,
   "metadata": {},
   "outputs": [],
   "source": [
    "#train_data_embedding_0_10k = np.save('/workspaces/final-project-shot-type/embeddings/train_data_embedding_0_10k.npy', train_data[0])"
   ]
  },
  {
   "cell_type": "code",
   "execution_count": 16,
   "metadata": {},
   "outputs": [],
   "source": [
    "#train_data_embedding_1_10k = np.save('/workspaces/final-project-shot-type/embeddings/train_data_embedding_1_10k.npy', train_data[1])"
   ]
  },
  {
   "cell_type": "code",
   "execution_count": 17,
   "metadata": {},
   "outputs": [],
   "source": [
    "#train_labels_embedding_10k = np.save('/workspaces/final-project-shot-type/embeddings/train_labels_embedding_10k.npy', train_labels)"
   ]
  },
  {
   "cell_type": "markdown",
   "metadata": {},
   "source": [
    "Test"
   ]
  },
  {
   "cell_type": "code",
   "execution_count": 18,
   "metadata": {},
   "outputs": [],
   "source": [
    "#test_data_embedding_0_10k = np.save('/workspaces/final-project-shot-type/embeddings/test_data_embedding_0_10k.npy', test_data[0])"
   ]
  },
  {
   "cell_type": "code",
   "execution_count": 19,
   "metadata": {},
   "outputs": [],
   "source": [
    "#test_data_embedding_1_10k = np.save('/workspaces/final-project-shot-type/embeddings/test_data_embedding_1_10k.npy', test_data[1])"
   ]
  },
  {
   "cell_type": "code",
   "execution_count": 20,
   "metadata": {},
   "outputs": [],
   "source": [
    "#test_labels_embedding_10k = np.save('/workspaces/final-project-shot-type/embeddings/test_labels_embedding_10k.npy', test_labels)"
   ]
  },
  {
   "cell_type": "markdown",
   "metadata": {},
   "source": []
  },
  {
   "cell_type": "markdown",
   "metadata": {},
   "source": [
    "Loading embeddings"
   ]
  },
  {
   "cell_type": "code",
   "execution_count": 21,
   "metadata": {},
   "outputs": [],
   "source": [
    "path_load_embeddings= '/home/app/src/embeddings/'\n",
    "\n",
    "#Train\n",
    "train_data_0 = np.load(path_load_embeddings + 'train_data_embedding_0_full_30F.npy')\n",
    "train_data_1 = np.load(path_load_embeddings + 'train_data_embedding_1_full_30F.npy')\n",
    "train_data=(train_data_0, train_data_1)\n",
    "train_labels = np.load(path_load_embeddings + 'train_labels1_embedding_full_30F.npy')\n",
    "\n",
    "#Test\n",
    "test_data_0 = np.load(path_load_embeddings + 'test_data_embedding_0_full_30F.npy')\n",
    "test_data_1 = np.load(path_load_embeddings + 'test_data_embedding_1_full_30F.npy')\n",
    "test_data=(test_data_0, test_data_1)\n",
    "test_labels = np.load(path_load_embeddings + 'test_labels1_embedding_full_30F.npy')"
   ]
  },
  {
   "cell_type": "markdown",
   "metadata": {},
   "source": [
    "Sequence model (RNN)"
   ]
  },
  {
   "cell_type": "code",
   "execution_count": 22,
   "metadata": {},
   "outputs": [
    {
     "name": "stderr",
     "output_type": "stream",
     "text": [
      "2022-11-17 20:04:16.296812: W tensorflow/core/framework/cpu_allocator_impl.cc:82] Allocation of 4380917760 exceeds 10% of free system memory.\n",
      "2022-11-17 20:04:20.429818: W tensorflow/core/framework/cpu_allocator_impl.cc:82] Allocation of 4380917760 exceeds 10% of free system memory.\n"
     ]
    },
    {
     "name": "stdout",
     "output_type": "stream",
     "text": [
      "Epoch 1/25\n"
     ]
    },
    {
     "name": "stderr",
     "output_type": "stream",
     "text": [
      "2022-11-17 20:04:31.306166: I tensorflow/stream_executor/cuda/cuda_dnn.cc:368] Loaded cuDNN version 8200\n"
     ]
    },
    {
     "name": "stdout",
     "output_type": "stream",
     "text": [
      "557/558 [============================>.] - ETA: 0s - loss: 1.1036 - accuracy: 0.5614\n",
      "Epoch 1: val_loss improved from inf to 0.65745, saving model to /home/app/src/final-project-shot-type/experiments/inceptionv3_GRU/static/model.weights_static.h5\n",
      "558/558 [==============================] - 27s 33ms/step - loss: 1.1035 - accuracy: 0.5614 - val_loss: 0.6575 - val_accuracy: 0.7753 - lr: 0.0010\n",
      "Epoch 2/25\n",
      "556/558 [============================>.] - ETA: 0s - loss: 0.6843 - accuracy: 0.7514\n",
      "Epoch 2: val_loss improved from 0.65745 to 0.57853, saving model to /home/app/src/final-project-shot-type/experiments/inceptionv3_GRU/static/model.weights_static.h5\n",
      "558/558 [==============================] - 14s 25ms/step - loss: 0.6843 - accuracy: 0.7514 - val_loss: 0.5785 - val_accuracy: 0.7978 - lr: 0.0010\n",
      "Epoch 3/25\n",
      "557/558 [============================>.] - ETA: 0s - loss: 0.6070 - accuracy: 0.7807\n",
      "Epoch 3: val_loss improved from 0.57853 to 0.48843, saving model to /home/app/src/final-project-shot-type/experiments/inceptionv3_GRU/static/model.weights_static.h5\n",
      "558/558 [==============================] - 14s 24ms/step - loss: 0.6070 - accuracy: 0.7808 - val_loss: 0.4884 - val_accuracy: 0.8238 - lr: 0.0010\n",
      "Epoch 4/25\n",
      "556/558 [============================>.] - ETA: 0s - loss: 0.5696 - accuracy: 0.7988\n",
      "Epoch 4: val_loss did not improve from 0.48843\n",
      "558/558 [==============================] - 14s 25ms/step - loss: 0.5699 - accuracy: 0.7987 - val_loss: 0.4965 - val_accuracy: 0.8196 - lr: 0.0010\n",
      "Epoch 5/25\n",
      "556/558 [============================>.] - ETA: 0s - loss: 0.5349 - accuracy: 0.8110\n",
      "Epoch 5: val_loss improved from 0.48843 to 0.48767, saving model to /home/app/src/final-project-shot-type/experiments/inceptionv3_GRU/static/model.weights_static.h5\n",
      "558/558 [==============================] - 14s 26ms/step - loss: 0.5350 - accuracy: 0.8110 - val_loss: 0.4877 - val_accuracy: 0.8204 - lr: 0.0010\n",
      "Epoch 6/25\n",
      "557/558 [============================>.] - ETA: 0s - loss: 0.5136 - accuracy: 0.8174\n",
      "Epoch 6: val_loss did not improve from 0.48767\n",
      "558/558 [==============================] - 15s 26ms/step - loss: 0.5135 - accuracy: 0.8174 - val_loss: 0.4891 - val_accuracy: 0.8181 - lr: 0.0010\n",
      "Epoch 7/25\n",
      "557/558 [============================>.] - ETA: 0s - loss: 0.4809 - accuracy: 0.8301\n",
      "Epoch 7: val_loss improved from 0.48767 to 0.47634, saving model to /home/app/src/final-project-shot-type/experiments/inceptionv3_GRU/static/model.weights_static.h5\n",
      "558/558 [==============================] - 15s 26ms/step - loss: 0.4809 - accuracy: 0.8301 - val_loss: 0.4763 - val_accuracy: 0.8284 - lr: 0.0010\n",
      "Epoch 8/25\n",
      "557/558 [============================>.] - ETA: 0s - loss: 0.4716 - accuracy: 0.8357\n",
      "Epoch 8: val_loss improved from 0.47634 to 0.45394, saving model to /home/app/src/final-project-shot-type/experiments/inceptionv3_GRU/static/model.weights_static.h5\n",
      "558/558 [==============================] - 15s 26ms/step - loss: 0.4715 - accuracy: 0.8357 - val_loss: 0.4539 - val_accuracy: 0.8335 - lr: 0.0010\n",
      "Epoch 9/25\n",
      "557/558 [============================>.] - ETA: 0s - loss: 0.4465 - accuracy: 0.8450\n",
      "Epoch 9: val_loss did not improve from 0.45394\n",
      "558/558 [==============================] - 15s 27ms/step - loss: 0.4465 - accuracy: 0.8451 - val_loss: 0.5054 - val_accuracy: 0.8196 - lr: 0.0010\n",
      "Epoch 10/25\n",
      "557/558 [============================>.] - ETA: 0s - loss: 0.4435 - accuracy: 0.8475\n",
      "Epoch 10: val_loss did not improve from 0.45394\n",
      "558/558 [==============================] - 15s 26ms/step - loss: 0.4435 - accuracy: 0.8475 - val_loss: 0.5138 - val_accuracy: 0.8205 - lr: 0.0010\n",
      "Epoch 11/25\n",
      "557/558 [============================>.] - ETA: 0s - loss: 0.4286 - accuracy: 0.8535\n",
      "Epoch 11: val_loss did not improve from 0.45394\n",
      "558/558 [==============================] - 15s 26ms/step - loss: 0.4286 - accuracy: 0.8534 - val_loss: 0.4867 - val_accuracy: 0.8267 - lr: 0.0010\n",
      "Epoch 12/25\n",
      "558/558 [==============================] - ETA: 0s - loss: 0.3915 - accuracy: 0.8677\n",
      "Epoch 12: val_loss did not improve from 0.45394\n",
      "558/558 [==============================] - 14s 26ms/step - loss: 0.3915 - accuracy: 0.8677 - val_loss: 0.4764 - val_accuracy: 0.8330 - lr: 5.0000e-04\n",
      "Epoch 13/25\n",
      "558/558 [==============================] - ETA: 0s - loss: 0.3745 - accuracy: 0.8713\n",
      "Epoch 13: val_loss did not improve from 0.45394\n",
      "558/558 [==============================] - 14s 25ms/step - loss: 0.3745 - accuracy: 0.8713 - val_loss: 0.4857 - val_accuracy: 0.8325 - lr: 5.0000e-04\n",
      "Epoch 14/25\n",
      "556/558 [============================>.] - ETA: 0s - loss: 0.3642 - accuracy: 0.8752\n",
      "Epoch 14: val_loss did not improve from 0.45394\n",
      "558/558 [==============================] - 14s 25ms/step - loss: 0.3638 - accuracy: 0.8754 - val_loss: 0.4971 - val_accuracy: 0.8310 - lr: 5.0000e-04\n",
      "Epoch 15/25\n",
      "556/558 [============================>.] - ETA: 0s - loss: 0.3405 - accuracy: 0.8839\n",
      "Epoch 15: val_loss did not improve from 0.45394\n",
      "558/558 [==============================] - 14s 25ms/step - loss: 0.3407 - accuracy: 0.8839 - val_loss: 0.4913 - val_accuracy: 0.8344 - lr: 2.5000e-04\n",
      "Epoch 16/25\n",
      "556/558 [============================>.] - ETA: 0s - loss: 0.3355 - accuracy: 0.8832\n",
      "Epoch 16: val_loss did not improve from 0.45394\n",
      "558/558 [==============================] - 14s 26ms/step - loss: 0.3353 - accuracy: 0.8833 - val_loss: 0.5062 - val_accuracy: 0.8344 - lr: 2.5000e-04\n",
      "Epoch 17/25\n",
      "558/558 [==============================] - ETA: 0s - loss: 0.3233 - accuracy: 0.8893\n",
      "Epoch 17: val_loss did not improve from 0.45394\n",
      "558/558 [==============================] - 14s 26ms/step - loss: 0.3233 - accuracy: 0.8893 - val_loss: 0.5067 - val_accuracy: 0.8308 - lr: 2.5000e-04\n",
      "Epoch 18/25\n",
      "557/558 [============================>.] - ETA: 0s - loss: 0.3125 - accuracy: 0.8920\n",
      "Epoch 18: val_loss did not improve from 0.45394\n",
      "558/558 [==============================] - 14s 26ms/step - loss: 0.3125 - accuracy: 0.8920 - val_loss: 0.5127 - val_accuracy: 0.8302 - lr: 1.2500e-04\n",
      "Epoch 19/25\n",
      "556/558 [============================>.] - ETA: 0s - loss: 0.3079 - accuracy: 0.8946\n",
      "Epoch 19: val_loss did not improve from 0.45394\n",
      "558/558 [==============================] - 14s 26ms/step - loss: 0.3078 - accuracy: 0.8946 - val_loss: 0.5175 - val_accuracy: 0.8335 - lr: 1.2500e-04\n",
      "Epoch 20/25\n",
      "556/558 [============================>.] - ETA: 0s - loss: 0.3055 - accuracy: 0.8965\n",
      "Epoch 20: val_loss did not improve from 0.45394\n",
      "558/558 [==============================] - 14s 26ms/step - loss: 0.3060 - accuracy: 0.8963 - val_loss: 0.5186 - val_accuracy: 0.8338 - lr: 1.2500e-04\n",
      "Epoch 21/25\n",
      "557/558 [============================>.] - ETA: 0s - loss: 0.2963 - accuracy: 0.9010\n",
      "Epoch 21: val_loss did not improve from 0.45394\n",
      "558/558 [==============================] - 14s 25ms/step - loss: 0.2963 - accuracy: 0.9010 - val_loss: 0.5232 - val_accuracy: 0.8331 - lr: 6.2500e-05\n",
      "Epoch 22/25\n",
      "557/558 [============================>.] - ETA: 0s - loss: 0.2922 - accuracy: 0.9034\n",
      "Epoch 22: val_loss did not improve from 0.45394\n",
      "558/558 [==============================] - 14s 25ms/step - loss: 0.2922 - accuracy: 0.9034 - val_loss: 0.5261 - val_accuracy: 0.8338 - lr: 6.2500e-05\n",
      "Epoch 23/25\n",
      "557/558 [============================>.] - ETA: 0s - loss: 0.2917 - accuracy: 0.9027\n",
      "Epoch 23: val_loss did not improve from 0.45394\n",
      "558/558 [==============================] - 14s 25ms/step - loss: 0.2917 - accuracy: 0.9027 - val_loss: 0.5268 - val_accuracy: 0.8336 - lr: 6.2500e-05\n",
      "Epoch 24/25\n",
      "557/558 [============================>.] - ETA: 0s - loss: 0.2897 - accuracy: 0.9050\n",
      "Epoch 24: val_loss did not improve from 0.45394\n",
      "558/558 [==============================] - 14s 26ms/step - loss: 0.2896 - accuracy: 0.9050 - val_loss: 0.5279 - val_accuracy: 0.8327 - lr: 3.1250e-05\n",
      "Epoch 25/25\n",
      "557/558 [============================>.] - ETA: 0s - loss: 0.2847 - accuracy: 0.9059\n",
      "Epoch 25: val_loss did not improve from 0.45394\n",
      "558/558 [==============================] - 14s 26ms/step - loss: 0.2847 - accuracy: 0.9059 - val_loss: 0.5316 - val_accuracy: 0.8330 - lr: 3.1250e-05\n",
      "256/256 [==============================] - 3s 10ms/step - loss: 0.4483 - accuracy: 0.8408\n",
      "Test accuracy: 84.08%\n"
     ]
    }
   ],
   "source": [
    "def get_sequence_model():\n",
    "    class_vocab = label_processor.get_vocabulary()\n",
    "\n",
    "    frame_features_input = keras.Input((MAX_SEQ_LENGTH, NUM_FEATURES))\n",
    "    mask_input = keras.Input((MAX_SEQ_LENGTH,), dtype=\"bool\")\n",
    "\n",
    "    # Refer to the following tutorial to understand the significance of using `mask`:\n",
    "    # https://keras.io/api/layers/recurrent_layers/gru/\n",
    "    x = keras.layers.GRU(16, return_sequences=True)(\n",
    "        frame_features_input, mask=mask_input\n",
    "    )\n",
    "    x = keras.layers.GRU(8)(x)\n",
    "    x = keras.layers.Dropout(0.4)(x)\n",
    "    x = keras.layers.Dense(8, activation=\"relu\")(x)\n",
    "    output = keras.layers.Dense(len(class_vocab), activation=\"softmax\")(x)\n",
    "\n",
    "    rnn_model = keras.Model([frame_features_input, mask_input], output)\n",
    "\n",
    "    rnn_model.compile(\n",
    "        loss=\"sparse_categorical_crossentropy\", optimizer=tf.keras.optimizers.Adam(learning_rate=1e-3), metrics=[\"accuracy\"],\n",
    "    )\n",
    "    return rnn_model\n",
    "\n",
    "\n",
    "# Utility for running experiments.\n",
    "def run_experiment():\n",
    "    filepath = \"/home/app/src/final-project-shot-type/experiments/inceptionv3_GRU/static/model.weights_static.h5\"\n",
    "    filepath_log = '/home/app/src/final-project-shot-type/experiments/inceptionv3_GRU/static'\n",
    "    reduce_lr = keras.callbacks.ReduceLROnPlateau(monitor='val_loss', factor=0.5,\n",
    "                              patience=3, min_lr=0.000001)\n",
    "    checkpoint = keras.callbacks.ModelCheckpoint(\n",
    "        filepath, save_weights_only=True, save_best_only=True, verbose=1\n",
    "    )\n",
    "    tensor_board = keras.callbacks.TensorBoard (filepath_log)\n",
    "\n",
    "    seq_model = get_sequence_model()\n",
    "    history = seq_model.fit(\n",
    "        [train_data[0], train_data[1]],\n",
    "        train_labels,\n",
    "        validation_split=0.3,\n",
    "        epochs=EPOCHS,\n",
    "        callbacks=[checkpoint, reduce_lr, tensor_board],\n",
    "    )\n",
    "\n",
    "    seq_model.load_weights(filepath)\n",
    "    _, accuracy = seq_model.evaluate([test_data[0], test_data[1]], test_labels)\n",
    "    print(f\"Test accuracy: {round(accuracy * 100, 2)}%\")\n",
    "    # Getting predictions\n",
    "    y_pred_proba = seq_model.predict([test_data[0], test_data[1]])\n",
    "    y_pred = []   \n",
    "    for arr in y_pred_proba:\n",
    "        idx_max = np.argmax(arr)\n",
    "        y_pred.append(idx_max)\n",
    "\n",
    "    return history, seq_model, y_pred\n",
    "\n",
    "\n",
    "_, sequence_model, y_pred = run_experiment()"
   ]
  },
  {
   "cell_type": "code",
   "execution_count": 23,
   "metadata": {},
   "outputs": [
    {
     "name": "stderr",
     "output_type": "stream",
     "text": [
      "UsageError: Line magic function `%tensorboard` not found.\n"
     ]
    }
   ],
   "source": [
    "%tensorboard == logdir /home/app/src/final-project-shot-type/experiments/inceptionv3_GRU/static"
   ]
  },
  {
   "cell_type": "code",
   "execution_count": 24,
   "metadata": {},
   "outputs": [
    {
     "data": {
      "text/plain": [
       "(25466, 30, 2048)"
      ]
     },
     "execution_count": 24,
     "metadata": {},
     "output_type": "execute_result"
    }
   ],
   "source": [
    "train_data_0.shape"
   ]
  },
  {
   "cell_type": "code",
   "execution_count": 25,
   "metadata": {},
   "outputs": [
    {
     "data": {
      "text/plain": [
       "<AxesSubplot: >"
      ]
     },
     "execution_count": 25,
     "metadata": {},
     "output_type": "execute_result"
    },
    {
     "data": {
      "image/png": "[encoded data removed]",
      "text/plain": [
       "<Figure size 640x480 with 2 Axes>"
      ]
     },
     "metadata": {},
     "output_type": "display_data"
    }
   ],
   "source": [
    "# Confussion Matrix\n",
    "c_matrix = confusion_matrix(test_labels, y_pred , normalize='pred')\n",
    "# Plotting\n",
    "class_vocab = label_processor.get_vocabulary()\n",
    "df_cm = pd.DataFrame(c_matrix,index = [i for i in class_vocab],\n",
    "                  columns = [i for i in class_vocab])\n",
    "sns.set(font_scale=1.4) # for label size\n",
    "sns.heatmap(df_cm, annot=True, annot_kws={\"size\": 16}) # font size"
   ]
  },
  {
   "cell_type": "code",
   "execution_count": 26,
   "metadata": {},
   "outputs": [
    {
     "name": "stdout",
     "output_type": "stream",
     "text": [
      "              precision    recall  f1-score   support\n",
      "\n",
      "          CS       0.80      0.81      0.80      1792\n",
      "         ECS       0.85      0.85      0.85      1641\n",
      "          FS       0.84      0.86      0.85      1642\n",
      "          LS       0.91      0.89      0.90      1359\n",
      "          MS       0.82      0.81      0.82      1753\n",
      "\n",
      "    accuracy                           0.84      8187\n",
      "   macro avg       0.84      0.84      0.84      8187\n",
      "weighted avg       0.84      0.84      0.84      8187\n",
      "\n"
     ]
    }
   ],
   "source": [
    "# Metrics report\n",
    "class_vocab = label_processor.get_vocabulary()\n",
    "print(classification_report(test_labels, y_pred, target_names=class_vocab ))"
   ]
  },
  {
   "cell_type": "markdown",
   "metadata": {},
   "source": [
    "Predictions"
   ]
  },
  {
   "cell_type": "code",
   "execution_count": 27,
   "metadata": {},
   "outputs": [
    {
     "name": "stdout",
     "output_type": "stream",
     "text": [
      "Test video path: /home/app/src/data/shot-type-dataset/trailer_v3/train/shot_tt6024768_0017.mp4\n",
      "  CS: 24.38%\n",
      "  FS: 23.20%\n",
      "  ECS: 23.16%\n",
      "  MS: 19.22%\n",
      "  LS: 10.04%\n",
      "Real Label: CS\n"
     ]
    },
    {
     "ename": "FileNotFoundError",
     "evalue": "[Errno 2] No such file or directory: '/home/app/src/data/shot-type-dataset/trailer_v3/train/shot_tt6024768_0017.mp4'",
     "output_type": "error",
     "traceback": [
      "\u001b[0;31m---------------------------------------------------------------------------\u001b[0m",
      "\u001b[0;31mFileNotFoundError\u001b[0m                         Traceback (most recent call last)",
      "Cell \u001b[0;32mIn [27], line 42\u001b[0m\n\u001b[1;32m     40\u001b[0m real_label \u001b[39m=\u001b[39m test_df[test_df[\u001b[39m'\u001b[39m\u001b[39mvideo_name\u001b[39m\u001b[39m'\u001b[39m] \u001b[39m==\u001b[39mtest_video][\u001b[39m'\u001b[39m\u001b[39mtag\u001b[39m\u001b[39m'\u001b[39m]\u001b[39m.\u001b[39miloc[\u001b[39m0\u001b[39m]\n\u001b[1;32m     41\u001b[0m \u001b[39mprint\u001b[39m(\u001b[39mf\u001b[39m\u001b[39m'\u001b[39m\u001b[39mReal Label: \u001b[39m\u001b[39m{\u001b[39;00mreal_label\u001b[39m}\u001b[39;00m\u001b[39m'\u001b[39m)\n\u001b[0;32m---> 42\u001b[0m new_ \u001b[39m=\u001b[39m Video\u001b[39m.\u001b[39;49mfrom_file(test_video,play\u001b[39m=\u001b[39;49m\u001b[39mTrue\u001b[39;49;00m)\n\u001b[1;32m     43\u001b[0m new_\n\u001b[1;32m     44\u001b[0m \u001b[39m#to_gif(test_frames[:MAX_SEQ_LENGTH])\u001b[39;00m\n",
      "File \u001b[0;32m~/.local/lib/python3.8/site-packages/ipywidgets/widgets/widget_media.py:192\u001b[0m, in \u001b[0;36mVideo.from_file\u001b[0;34m(cls, filename, **kwargs)\u001b[0m\n\u001b[1;32m    190\u001b[0m \u001b[39m@classmethod\u001b[39m\n\u001b[1;32m    191\u001b[0m \u001b[39mdef\u001b[39;00m \u001b[39mfrom_file\u001b[39m(\u001b[39mcls\u001b[39m, filename, \u001b[39m*\u001b[39m\u001b[39m*\u001b[39mkwargs):\n\u001b[0;32m--> 192\u001b[0m     \u001b[39mreturn\u001b[39;00m \u001b[39mcls\u001b[39;49m\u001b[39m.\u001b[39;49m_from_file(\u001b[39m'\u001b[39;49m\u001b[39mvideo\u001b[39;49m\u001b[39m'\u001b[39;49m, filename, \u001b[39m*\u001b[39;49m\u001b[39m*\u001b[39;49mkwargs)\n",
      "File \u001b[0;32m~/.local/lib/python3.8/site-packages/ipywidgets/widgets/widget_media.py:43\u001b[0m, in \u001b[0;36m_Media._from_file\u001b[0;34m(cls, tag, filename, **kwargs)\u001b[0m\n\u001b[1;32m     28\u001b[0m \u001b[39m@classmethod\u001b[39m\n\u001b[1;32m     29\u001b[0m \u001b[39mdef\u001b[39;00m \u001b[39m_from_file\u001b[39m(\u001b[39mcls\u001b[39m, tag, filename, \u001b[39m*\u001b[39m\u001b[39m*\u001b[39mkwargs):\n\u001b[1;32m     30\u001b[0m     \u001b[39m\"\"\"\u001b[39;00m\n\u001b[1;32m     31\u001b[0m \u001b[39m    Create an :class:`Media` from a local file.\u001b[39;00m\n\u001b[1;32m     32\u001b[0m \n\u001b[0;32m   (...)\u001b[0m\n\u001b[1;32m     41\u001b[0m \u001b[39m    Returns an `Media` with the value set from the filename.\u001b[39;00m\n\u001b[1;32m     42\u001b[0m \u001b[39m    \"\"\"\u001b[39;00m\n\u001b[0;32m---> 43\u001b[0m     value \u001b[39m=\u001b[39m \u001b[39mcls\u001b[39;49m\u001b[39m.\u001b[39;49m_load_file_value(filename)\n\u001b[1;32m     45\u001b[0m     \u001b[39mif\u001b[39;00m \u001b[39m'\u001b[39m\u001b[39mformat\u001b[39m\u001b[39m'\u001b[39m \u001b[39mnot\u001b[39;00m \u001b[39min\u001b[39;00m kwargs:\n\u001b[1;32m     46\u001b[0m         \u001b[39mformat\u001b[39m \u001b[39m=\u001b[39m \u001b[39mcls\u001b[39m\u001b[39m.\u001b[39m_guess_format(tag, filename)\n",
      "File \u001b[0;32m~/.local/lib/python3.8/site-packages/ipywidgets/widgets/widget_media.py:94\u001b[0m, in \u001b[0;36m_Media._load_file_value\u001b[0;34m(cls, filename)\u001b[0m\n\u001b[1;32m     92\u001b[0m     \u001b[39mreturn\u001b[39;00m filename\u001b[39m.\u001b[39mread()\n\u001b[1;32m     93\u001b[0m \u001b[39melse\u001b[39;00m:\n\u001b[0;32m---> 94\u001b[0m     \u001b[39mwith\u001b[39;00m \u001b[39mopen\u001b[39;49m(filename, \u001b[39m'\u001b[39;49m\u001b[39mrb\u001b[39;49m\u001b[39m'\u001b[39;49m) \u001b[39mas\u001b[39;00m f:\n\u001b[1;32m     95\u001b[0m         \u001b[39mreturn\u001b[39;00m f\u001b[39m.\u001b[39mread()\n",
      "\u001b[0;31mFileNotFoundError\u001b[0m: [Errno 2] No such file or directory: '/home/app/src/data/shot-type-dataset/trailer_v3/train/shot_tt6024768_0017.mp4'"
     ]
    }
   ],
   "source": [
    "def prepare_single_video(frames):\n",
    "    frames = frames[None, ...]\n",
    "    frame_mask = np.zeros(shape=(1, MAX_SEQ_LENGTH,), dtype=\"bool\")\n",
    "    frame_features = np.zeros(shape=(1, MAX_SEQ_LENGTH, NUM_FEATURES), dtype=\"float32\")\n",
    "\n",
    "    for i, batch in enumerate(frames):\n",
    "        video_length = batch.shape[0]\n",
    "        length = min(MAX_SEQ_LENGTH, video_length)\n",
    "        for j in range(length):\n",
    "            frame_features[i, j, :] = feature_extractor.predict(batch[None, j, :])\n",
    "        frame_mask[i, :length] = 1  # 1 = not masked, 0 = masked\n",
    "\n",
    "    return frame_features, frame_mask\n",
    "\n",
    "\n",
    "def sequence_prediction(path):\n",
    "    class_vocab = label_processor.get_vocabulary()\n",
    "\n",
    "    frames = load_video(os.path.join(\"test\", path))\n",
    "    frame_features, frame_mask = prepare_single_video(frames)\n",
    "    probabilities = sequence_model.predict([frame_features, frame_mask])[0]\n",
    "\n",
    "    for i in np.argsort(probabilities)[::-1]:\n",
    "        print(f\"  {class_vocab[i]}: {probabilities[i] * 100:5.2f}%\")\n",
    "    return frames\n",
    "\n",
    "\n",
    "# This utility is for visualization.\n",
    "# Referenced from:\n",
    "# https://www.tensorflow.org/hub/tutorials/action_recognition_with_tf_hub\n",
    "def to_gif(images):\n",
    "    converted_images = images.astype(np.uint8)\n",
    "    imageio.mimsave(\"animation.gif\", converted_images, fps=10)\n",
    "    return embed.embed_file(\"animation.gif\")\n",
    "\n",
    "\n",
    "test_video = np.random.choice(test_df[\"video_name\"].values.tolist())\n",
    "print(f\"Test video path: {test_video}\")\n",
    "test_frames = sequence_prediction(test_video)\n",
    "real_label = test_df[test_df['video_name'] ==test_video]['tag'].iloc[0]\n",
    "print(f'Real Label: {real_label}')\n",
    "new_ = Video.from_file(test_video,play=True)\n",
    "new_\n",
    "#to_gif(test_frames[:MAX_SEQ_LENGTH])"
   ]
  }
 ],
 "metadata": {
  "kernelspec": {
   "display_name": "Python 3.10.6 64-bit",
   "language": "python",
   "name": "python3"
  },
  "language_info": {
   "codemirror_mode": {
    "name": "ipython",
    "version": 3
   },
   "file_extension": ".py",
   "mimetype": "text/x-python",
   "name": "python",
   "nbconvert_exporter": "python",
   "pygments_lexer": "ipython3",
   "version": "3.8.10"
  },
  "orig_nbformat": 4,
  "vscode": {
   "interpreter": {
    "hash": "31f2aee4e71d21fbe5cf8b01ff0e069b9275f58929596ceb00d14d90e3e16cd6"
   }
  }
 },
 "nbformat": 4,
 "nbformat_minor": 2
}
