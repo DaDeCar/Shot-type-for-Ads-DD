{
 "cells": [
  {
   "cell_type": "markdown",
   "metadata": {},
   "source": [
    "## Video Augmentation for final project"
   ]
  },
  {
   "cell_type": "code",
   "execution_count": 16,
   "metadata": {
    "pycharm": {
     "is_executing": false
    }
   },
   "outputs": [],
   "source": [
    "from PIL import Image, ImageSequence\n",
    "\n",
    "from pathlib import Path\n",
    "import sys\n",
    "sys.path.append(str(Path('/home/danield/AnyoneAI/Curso/final_project/videos_data_aug/vidaug/vidaug/augmentors').parent.parent))\n",
    "\n",
    "import vidaug.augmentors as va\n",
    "import imageio\n",
    "import cv2\n",
    "import numpy as np\n",
    "import pandas as pd\n",
    "\n",
    "import moviepy.editor as mp\n",
    "\n"
   ]
  },
  {
   "cell_type": "code",
   "execution_count": 17,
   "metadata": {},
   "outputs": [],
   "source": [
    "# Function that loads .mp4 video\n",
    "\n",
    "def load_video(path, max_frames=0):\n",
    "    cap = cv2.VideoCapture(path)\n",
    "    # getting total frames and fps \n",
    "    #total_frames = cap.get(cv2.CAP_PROP_FRAME_COUNT)\n",
    "    fps = round (cap.get(cv2.CAP_PROP_FPS),0)\n",
    "    frames = []\n",
    "    try:\n",
    "        while True:\n",
    "            ret, frame = cap.read()\n",
    "            if not ret:\n",
    "                break\n",
    "            frame = frame[:, :, [2, 1, 0]]\n",
    "            frames.append(frame)\n",
    "            if len(frames) == max_frames:\n",
    "                break\n",
    "    finally:\n",
    "        cap.release()\n",
    "    return np.array(frames), fps"
   ]
  },
  {
   "cell_type": "code",
   "execution_count": 18,
   "metadata": {},
   "outputs": [],
   "source": [
    "# Function that converts .mp4 to gif\n",
    "def to_gif(video_path_mp4, video_path_save_gif, max_frames):\n",
    "    images, fps = load_video(video_path_mp4, max_frames)\n",
    "    converted_images = images.astype(np.uint8)\n",
    "    imageio.mimsave(video_path_save_gif, converted_images, fps=fps)\n",
    "    return "
   ]
  },
  {
   "cell_type": "code",
   "execution_count": 19,
   "metadata": {},
   "outputs": [],
   "source": [
    "# Function that loads .gif\n",
    "def gif_loader(path, modality=\"RGB\"):\n",
    "    frames = []\n",
    "    with open(path, 'rb') as f:\n",
    "        with Image.open(f) as video:\n",
    "            index = 1\n",
    "            for frame in ImageSequence.Iterator(video):\n",
    "                frames.append(frame.convert(modality))\n",
    "                index += 1\n",
    "            video.close()\n",
    "        f.close()\n",
    "    return frames\n"
   ]
  },
  {
   "cell_type": "markdown",
   "metadata": {},
   "source": [
    "Defining the types of data augmentation that have been applied"
   ]
  },
  {
   "cell_type": "code",
   "execution_count": 20,
   "metadata": {},
   "outputs": [],
   "source": [
    "# Initializing list of sequences, wich one is a type of data aug\n",
    "list_seq = []\n",
    "\n",
    "sometimes = lambda aug: va.Sometimes(1, aug) # Used to apply augmentor with 100% probability\n",
    "\n",
    "# FLIP\n",
    "seq = va.Sequential([ # randomly rotates the video with a degree randomly choosen from [-10, 10]  \n",
    "    sometimes(va.HorizontalFlip()), # horizontally flip the video with 100% probability\n",
    "    ])\n",
    "seq1 = va.Sequential([   \n",
    "    sometimes(va.VerticalFlip()), # vertically flip the video with 100% probability\n",
    "    ])\n",
    "\n",
    "# AFFINE\n",
    "seq2 = va.Sequential([  \n",
    "sometimes(va.RandomRotate(degrees=45)), # Rotate the video 45 degrees  with 100% probability\n",
    "])\n",
    "seq3 = va.Sequential([   \n",
    "sometimes(va.RandomTranslate(x=500, y=500)), # Moves the screen\n",
    "])\n",
    "\n",
    "# GEOMETRIC\n",
    "seq4 = va.Sequential([  \n",
    "sometimes(va.PiecewiseAffineTransform(displacement=10, displacement_kernel=0.5, displacement_magnification=5)),\n",
    "])\n",
    "\n",
    "# INTENSITY\n",
    "seq5 = va.Sequential([  \n",
    "sometimes(va.InvertColor()), \n",
    "])\n",
    "seq6= va.Sequential([  \n",
    "sometimes(va.Add(value=155)), # value > 255 or value < -255 \n",
    "])\n",
    "seq7= va.Sequential([  \n",
    "sometimes(va.Multiply(value=7)), # value > 0\n",
    "])\n",
    "seq8= va.Sequential([  \n",
    "sometimes(va.Pepper(ratio=3)), # Smaller the ratio, higher the number of black pixels.\n",
    "])\n",
    "seq9= va.Sequential([  \n",
    "sometimes(va.Salt(ratio=4)), # Smaller the ratio, higher the number of white pixels.\n",
    "])\n",
    "#TEMPORAL\n",
    "seq10= va.Sequential([  \n",
    "sometimes(va.Downsample(ratio=0.5)), # Downsampling ratio in [0.0 <= ratio <= 1.0]\n",
    "])\n",
    "\n",
    "# Appending every data aug to the list\n",
    "list_seq.append(seq)\n",
    "list_seq.append(seq1)\n",
    "list_seq.append(seq2)\n",
    "list_seq.append(seq3)\n",
    "list_seq.append(seq4)\n",
    "list_seq.append(seq5)\n",
    "list_seq.append(seq6)\n",
    "list_seq.append(seq7)\n",
    "list_seq.append(seq8)\n",
    "list_seq.append(seq9)\n",
    "list_seq.append(seq10)"
   ]
  },
  {
   "cell_type": "markdown",
   "metadata": {},
   "source": [
    "Loading dataframe for raw videos"
   ]
  },
  {
   "cell_type": "code",
   "execution_count": 22,
   "metadata": {},
   "outputs": [
    {
     "data": {
      "text/html": [
       "<div>\n",
       "<style scoped>\n",
       "    .dataframe tbody tr th:only-of-type {\n",
       "        vertical-align: middle;\n",
       "    }\n",
       "\n",
       "    .dataframe tbody tr th {\n",
       "        vertical-align: top;\n",
       "    }\n",
       "\n",
       "    .dataframe thead th {\n",
       "        text-align: right;\n",
       "    }\n",
       "</style>\n",
       "<table border=\"1\" class=\"dataframe\">\n",
       "  <thead>\n",
       "    <tr style=\"text-align: right;\">\n",
       "      <th></th>\n",
       "      <th>video_name</th>\n",
       "      <th>tag</th>\n",
       "      <th>movie</th>\n",
       "      <th>shot</th>\n",
       "    </tr>\n",
       "  </thead>\n",
       "  <tbody>\n",
       "    <tr>\n",
       "      <th>0</th>\n",
       "      <td>/home/danield/AnyoneAI/Curso/final_project/vid...</td>\n",
       "      <td>Pull</td>\n",
       "      <td>tt1376168</td>\n",
       "      <td>0034</td>\n",
       "    </tr>\n",
       "    <tr>\n",
       "      <th>1</th>\n",
       "      <td>/home/danield/AnyoneAI/Curso/final_project/vid...</td>\n",
       "      <td>Push</td>\n",
       "      <td>tt1828968</td>\n",
       "      <td>0050</td>\n",
       "    </tr>\n",
       "    <tr>\n",
       "      <th>2</th>\n",
       "      <td>/home/danield/AnyoneAI/Curso/final_project/vid...</td>\n",
       "      <td>Push</td>\n",
       "      <td>tt0108289</td>\n",
       "      <td>0022</td>\n",
       "    </tr>\n",
       "    <tr>\n",
       "      <th>3</th>\n",
       "      <td>/home/danield/AnyoneAI/Curso/final_project/vid...</td>\n",
       "      <td>Push</td>\n",
       "      <td>tt0108289</td>\n",
       "      <td>0042</td>\n",
       "    </tr>\n",
       "    <tr>\n",
       "      <th>4</th>\n",
       "      <td>/home/danield/AnyoneAI/Curso/final_project/vid...</td>\n",
       "      <td>Pull</td>\n",
       "      <td>tt2349952</td>\n",
       "      <td>0053</td>\n",
       "    </tr>\n",
       "    <tr>\n",
       "      <th>...</th>\n",
       "      <td>...</td>\n",
       "      <td>...</td>\n",
       "      <td>...</td>\n",
       "      <td>...</td>\n",
       "    </tr>\n",
       "    <tr>\n",
       "      <th>848</th>\n",
       "      <td>/home/danield/AnyoneAI/Curso/final_project/vid...</td>\n",
       "      <td>Pull</td>\n",
       "      <td>tt5082670</td>\n",
       "      <td>0005</td>\n",
       "    </tr>\n",
       "    <tr>\n",
       "      <th>849</th>\n",
       "      <td>/home/danield/AnyoneAI/Curso/final_project/vid...</td>\n",
       "      <td>Pull</td>\n",
       "      <td>tt5085688</td>\n",
       "      <td>0007</td>\n",
       "    </tr>\n",
       "    <tr>\n",
       "      <th>850</th>\n",
       "      <td>/home/danield/AnyoneAI/Curso/final_project/vid...</td>\n",
       "      <td>Pull</td>\n",
       "      <td>tt5967998</td>\n",
       "      <td>0022</td>\n",
       "    </tr>\n",
       "    <tr>\n",
       "      <th>851</th>\n",
       "      <td>/home/danield/AnyoneAI/Curso/final_project/vid...</td>\n",
       "      <td>Pull</td>\n",
       "      <td>tt5967998</td>\n",
       "      <td>0063</td>\n",
       "    </tr>\n",
       "    <tr>\n",
       "      <th>852</th>\n",
       "      <td>/home/danield/AnyoneAI/Curso/final_project/vid...</td>\n",
       "      <td>Pull</td>\n",
       "      <td>tt6210456</td>\n",
       "      <td>0021</td>\n",
       "    </tr>\n",
       "  </tbody>\n",
       "</table>\n",
       "<p>853 rows × 4 columns</p>\n",
       "</div>"
      ],
      "text/plain": [
       "                                            video_name   tag      movie  shot\n",
       "0    /home/danield/AnyoneAI/Curso/final_project/vid...  Pull  tt1376168  0034\n",
       "1    /home/danield/AnyoneAI/Curso/final_project/vid...  Push  tt1828968  0050\n",
       "2    /home/danield/AnyoneAI/Curso/final_project/vid...  Push  tt0108289  0022\n",
       "3    /home/danield/AnyoneAI/Curso/final_project/vid...  Push  tt0108289  0042\n",
       "4    /home/danield/AnyoneAI/Curso/final_project/vid...  Pull  tt2349952  0053\n",
       "..                                                 ...   ...        ...   ...\n",
       "848  /home/danield/AnyoneAI/Curso/final_project/vid...  Pull  tt5082670  0005\n",
       "849  /home/danield/AnyoneAI/Curso/final_project/vid...  Pull  tt5085688  0007\n",
       "850  /home/danield/AnyoneAI/Curso/final_project/vid...  Pull  tt5967998  0022\n",
       "851  /home/danield/AnyoneAI/Curso/final_project/vid...  Pull  tt5967998  0063\n",
       "852  /home/danield/AnyoneAI/Curso/final_project/vid...  Pull  tt6210456  0021\n",
       "\n",
       "[853 rows x 4 columns]"
      ]
     },
     "execution_count": 22,
     "metadata": {},
     "output_type": "execute_result"
    }
   ],
   "source": [
    "df_videos_to_aug = pd.read_csv('/home/danield/AnyoneAI/Curso/final_project/videos_data_aug/vidaug/CSV/dataset_to_aug_LOCAL.csv',dtype={\"shot\": str})\n",
    "df_videos_to_aug"
   ]
  },
  {
   "cell_type": "code",
   "execution_count": 23,
   "metadata": {},
   "outputs": [],
   "source": [
    "# Script for pass server video address to local address\n",
    "\n",
    "new_addr_list=[]\n",
    "\n",
    "for idx_videos, video_to_aug in df_videos_to_aug.iterrows():\n",
    "    new_addr = str('/home/danield/AnyoneAI/Curso/final_project/videos_data_aug/vidaug/to_data_aug/'+ video_to_aug.movie + '_' + video_to_aug.shot + '.mp4')\n",
    "    new_addr_list.append(new_addr)\n",
    "\n",
    "df_videos_to_aug['video_name'] = new_addr_list\n",
    "\n",
    "#df_videos_to_aug.to_csv('/home/danield/AnyoneAI/Curso/final_project/videos_data_aug/vidaug/CSV/dataset_to_aug_LOCAL.csv', index = False)\n"
   ]
  },
  {
   "cell_type": "markdown",
   "metadata": {},
   "source": [
    "VIDEO AUGMENTATION"
   ]
  },
  {
   "cell_type": "code",
   "execution_count": 24,
   "metadata": {
    "pycharm": {
     "is_executing": false,
     "metadata": false,
     "name": "#%%\n"
    }
   },
   "outputs": [
    {
     "name": "stdout",
     "output_type": "stream",
     "text": [
      "processing video 0/853\n",
      "Moviepy - Building video /home/danield/AnyoneAI/Curso/final_project/videos_data_aug/vidaug/data/trailer_aug/tt1376168_0034_aug_0.mp4.\n",
      "Moviepy - Writing video /home/danield/AnyoneAI/Curso/final_project/videos_data_aug/vidaug/data/trailer_aug/tt1376168_0034_aug_0.mp4\n",
      "\n"
     ]
    },
    {
     "name": "stderr",
     "output_type": "stream",
     "text": [
      "                                                             "
     ]
    },
    {
     "name": "stdout",
     "output_type": "stream",
     "text": [
      "Moviepy - Done !\n",
      "Moviepy - video ready /home/danield/AnyoneAI/Curso/final_project/videos_data_aug/vidaug/data/trailer_aug/tt1376168_0034_aug_0.mp4\n"
     ]
    },
    {
     "name": "stderr",
     "output_type": "stream",
     "text": [
      "\r"
     ]
    },
    {
     "name": "stdout",
     "output_type": "stream",
     "text": [
      "Moviepy - Building video /home/danield/AnyoneAI/Curso/final_project/videos_data_aug/vidaug/data/trailer_aug/tt1376168_0034_aug_1.mp4.\n",
      "Moviepy - Writing video /home/danield/AnyoneAI/Curso/final_project/videos_data_aug/vidaug/data/trailer_aug/tt1376168_0034_aug_1.mp4\n",
      "\n"
     ]
    },
    {
     "name": "stderr",
     "output_type": "stream",
     "text": [
      "                                                   "
     ]
    },
    {
     "name": "stdout",
     "output_type": "stream",
     "text": [
      "Moviepy - Done !\n",
      "Moviepy - video ready /home/danield/AnyoneAI/Curso/final_project/videos_data_aug/vidaug/data/trailer_aug/tt1376168_0034_aug_1.mp4\n"
     ]
    },
    {
     "name": "stderr",
     "output_type": "stream",
     "text": [
      "\r"
     ]
    },
    {
     "name": "stdout",
     "output_type": "stream",
     "text": [
      "Moviepy - Building video /home/danield/AnyoneAI/Curso/final_project/videos_data_aug/vidaug/data/trailer_aug/tt1376168_0034_aug_2.mp4.\n",
      "Moviepy - Writing video /home/danield/AnyoneAI/Curso/final_project/videos_data_aug/vidaug/data/trailer_aug/tt1376168_0034_aug_2.mp4\n",
      "\n"
     ]
    },
    {
     "name": "stderr",
     "output_type": "stream",
     "text": [
      "                                                             \r"
     ]
    },
    {
     "name": "stdout",
     "output_type": "stream",
     "text": [
      "Moviepy - Done !\n",
      "Moviepy - video ready /home/danield/AnyoneAI/Curso/final_project/videos_data_aug/vidaug/data/trailer_aug/tt1376168_0034_aug_2.mp4\n",
      "Moviepy - Building video /home/danield/AnyoneAI/Curso/final_project/videos_data_aug/vidaug/data/trailer_aug/tt1376168_0034_aug_3.mp4.\n",
      "Moviepy - Writing video /home/danield/AnyoneAI/Curso/final_project/videos_data_aug/vidaug/data/trailer_aug/tt1376168_0034_aug_3.mp4\n",
      "\n"
     ]
    },
    {
     "name": "stderr",
     "output_type": "stream",
     "text": [
      "                                                   "
     ]
    },
    {
     "name": "stdout",
     "output_type": "stream",
     "text": [
      "Moviepy - Done !\n",
      "Moviepy - video ready /home/danield/AnyoneAI/Curso/final_project/videos_data_aug/vidaug/data/trailer_aug/tt1376168_0034_aug_3.mp4\n"
     ]
    },
    {
     "name": "stderr",
     "output_type": "stream",
     "text": [
      "\r"
     ]
    },
    {
     "name": "stdout",
     "output_type": "stream",
     "text": [
      "Moviepy - Building video /home/danield/AnyoneAI/Curso/final_project/videos_data_aug/vidaug/data/trailer_aug/tt1376168_0034_aug_4.mp4.\n",
      "Moviepy - Writing video /home/danield/AnyoneAI/Curso/final_project/videos_data_aug/vidaug/data/trailer_aug/tt1376168_0034_aug_4.mp4\n",
      "\n"
     ]
    },
    {
     "name": "stderr",
     "output_type": "stream",
     "text": [
      "                                                             \r"
     ]
    },
    {
     "name": "stdout",
     "output_type": "stream",
     "text": [
      "Moviepy - Done !\n",
      "Moviepy - video ready /home/danield/AnyoneAI/Curso/final_project/videos_data_aug/vidaug/data/trailer_aug/tt1376168_0034_aug_4.mp4\n",
      "Moviepy - Building video /home/danield/AnyoneAI/Curso/final_project/videos_data_aug/vidaug/data/trailer_aug/tt1376168_0034_aug_5.mp4.\n",
      "Moviepy - Writing video /home/danield/AnyoneAI/Curso/final_project/videos_data_aug/vidaug/data/trailer_aug/tt1376168_0034_aug_5.mp4\n",
      "\n"
     ]
    },
    {
     "name": "stderr",
     "output_type": "stream",
     "text": [
      "                                                             "
     ]
    },
    {
     "name": "stdout",
     "output_type": "stream",
     "text": [
      "Moviepy - Done !\n",
      "Moviepy - video ready /home/danield/AnyoneAI/Curso/final_project/videos_data_aug/vidaug/data/trailer_aug/tt1376168_0034_aug_5.mp4\n"
     ]
    },
    {
     "name": "stderr",
     "output_type": "stream",
     "text": [
      "\r"
     ]
    },
    {
     "name": "stdout",
     "output_type": "stream",
     "text": [
      "Moviepy - Building video /home/danield/AnyoneAI/Curso/final_project/videos_data_aug/vidaug/data/trailer_aug/tt1376168_0034_aug_6.mp4.\n",
      "Moviepy - Writing video /home/danield/AnyoneAI/Curso/final_project/videos_data_aug/vidaug/data/trailer_aug/tt1376168_0034_aug_6.mp4\n",
      "\n"
     ]
    },
    {
     "name": "stderr",
     "output_type": "stream",
     "text": [
      "                                                             \r"
     ]
    },
    {
     "name": "stdout",
     "output_type": "stream",
     "text": [
      "Moviepy - Done !\n",
      "Moviepy - video ready /home/danield/AnyoneAI/Curso/final_project/videos_data_aug/vidaug/data/trailer_aug/tt1376168_0034_aug_6.mp4\n",
      "Moviepy - Building video /home/danield/AnyoneAI/Curso/final_project/videos_data_aug/vidaug/data/trailer_aug/tt1376168_0034_aug_7.mp4.\n",
      "Moviepy - Writing video /home/danield/AnyoneAI/Curso/final_project/videos_data_aug/vidaug/data/trailer_aug/tt1376168_0034_aug_7.mp4\n",
      "\n"
     ]
    },
    {
     "name": "stderr",
     "output_type": "stream",
     "text": [
      "                                                   "
     ]
    },
    {
     "name": "stdout",
     "output_type": "stream",
     "text": [
      "Moviepy - Done !\n",
      "Moviepy - video ready /home/danield/AnyoneAI/Curso/final_project/videos_data_aug/vidaug/data/trailer_aug/tt1376168_0034_aug_7.mp4\n"
     ]
    },
    {
     "name": "stderr",
     "output_type": "stream",
     "text": [
      "\r"
     ]
    },
    {
     "name": "stdout",
     "output_type": "stream",
     "text": [
      "processing video 1/853\n",
      "Moviepy - Building video /home/danield/AnyoneAI/Curso/final_project/videos_data_aug/vidaug/data/trailer_aug/tt1828968_0050_aug_0.mp4.\n",
      "Moviepy - Writing video /home/danield/AnyoneAI/Curso/final_project/videos_data_aug/vidaug/data/trailer_aug/tt1828968_0050_aug_0.mp4\n",
      "\n"
     ]
    },
    {
     "name": "stderr",
     "output_type": "stream",
     "text": [
      "                                                             \r"
     ]
    },
    {
     "name": "stdout",
     "output_type": "stream",
     "text": [
      "Moviepy - Done !\n",
      "Moviepy - video ready /home/danield/AnyoneAI/Curso/final_project/videos_data_aug/vidaug/data/trailer_aug/tt1828968_0050_aug_0.mp4\n",
      "Moviepy - Building video /home/danield/AnyoneAI/Curso/final_project/videos_data_aug/vidaug/data/trailer_aug/tt1828968_0050_aug_1.mp4.\n",
      "Moviepy - Writing video /home/danield/AnyoneAI/Curso/final_project/videos_data_aug/vidaug/data/trailer_aug/tt1828968_0050_aug_1.mp4\n",
      "\n"
     ]
    },
    {
     "name": "stderr",
     "output_type": "stream",
     "text": [
      "                                                             \r"
     ]
    },
    {
     "name": "stdout",
     "output_type": "stream",
     "text": [
      "Moviepy - Done !\n",
      "Moviepy - video ready /home/danield/AnyoneAI/Curso/final_project/videos_data_aug/vidaug/data/trailer_aug/tt1828968_0050_aug_1.mp4\n",
      "Moviepy - Building video /home/danield/AnyoneAI/Curso/final_project/videos_data_aug/vidaug/data/trailer_aug/tt1828968_0050_aug_2.mp4.\n",
      "Moviepy - Writing video /home/danield/AnyoneAI/Curso/final_project/videos_data_aug/vidaug/data/trailer_aug/tt1828968_0050_aug_2.mp4\n",
      "\n"
     ]
    },
    {
     "name": "stderr",
     "output_type": "stream",
     "text": [
      "                                                             \r"
     ]
    },
    {
     "name": "stdout",
     "output_type": "stream",
     "text": [
      "Moviepy - Done !\n",
      "Moviepy - video ready /home/danield/AnyoneAI/Curso/final_project/videos_data_aug/vidaug/data/trailer_aug/tt1828968_0050_aug_2.mp4\n",
      "Moviepy - Building video /home/danield/AnyoneAI/Curso/final_project/videos_data_aug/vidaug/data/trailer_aug/tt1828968_0050_aug_3.mp4.\n",
      "Moviepy - Writing video /home/danield/AnyoneAI/Curso/final_project/videos_data_aug/vidaug/data/trailer_aug/tt1828968_0050_aug_3.mp4\n",
      "\n"
     ]
    },
    {
     "name": "stderr",
     "output_type": "stream",
     "text": [
      "                                                             \r"
     ]
    },
    {
     "name": "stdout",
     "output_type": "stream",
     "text": [
      "Moviepy - Done !\n",
      "Moviepy - video ready /home/danield/AnyoneAI/Curso/final_project/videos_data_aug/vidaug/data/trailer_aug/tt1828968_0050_aug_3.mp4\n",
      "Moviepy - Building video /home/danield/AnyoneAI/Curso/final_project/videos_data_aug/vidaug/data/trailer_aug/tt1828968_0050_aug_4.mp4.\n",
      "Moviepy - Writing video /home/danield/AnyoneAI/Curso/final_project/videos_data_aug/vidaug/data/trailer_aug/tt1828968_0050_aug_4.mp4\n",
      "\n"
     ]
    },
    {
     "name": "stderr",
     "output_type": "stream",
     "text": [
      "                                                             \r"
     ]
    },
    {
     "name": "stdout",
     "output_type": "stream",
     "text": [
      "Moviepy - Done !\n",
      "Moviepy - video ready /home/danield/AnyoneAI/Curso/final_project/videos_data_aug/vidaug/data/trailer_aug/tt1828968_0050_aug_4.mp4\n",
      "Moviepy - Building video /home/danield/AnyoneAI/Curso/final_project/videos_data_aug/vidaug/data/trailer_aug/tt1828968_0050_aug_5.mp4.\n",
      "Moviepy - Writing video /home/danield/AnyoneAI/Curso/final_project/videos_data_aug/vidaug/data/trailer_aug/tt1828968_0050_aug_5.mp4\n",
      "\n"
     ]
    },
    {
     "name": "stderr",
     "output_type": "stream",
     "text": [
      "                                                             \r"
     ]
    },
    {
     "name": "stdout",
     "output_type": "stream",
     "text": [
      "Moviepy - Done !\n",
      "Moviepy - video ready /home/danield/AnyoneAI/Curso/final_project/videos_data_aug/vidaug/data/trailer_aug/tt1828968_0050_aug_5.mp4\n",
      "Moviepy - Building video /home/danield/AnyoneAI/Curso/final_project/videos_data_aug/vidaug/data/trailer_aug/tt1828968_0050_aug_6.mp4.\n",
      "Moviepy - Writing video /home/danield/AnyoneAI/Curso/final_project/videos_data_aug/vidaug/data/trailer_aug/tt1828968_0050_aug_6.mp4\n",
      "\n"
     ]
    },
    {
     "name": "stderr",
     "output_type": "stream",
     "text": [
      "                                                             \r"
     ]
    },
    {
     "name": "stdout",
     "output_type": "stream",
     "text": [
      "Moviepy - Done !\n",
      "Moviepy - video ready /home/danield/AnyoneAI/Curso/final_project/videos_data_aug/vidaug/data/trailer_aug/tt1828968_0050_aug_6.mp4\n",
      "Moviepy - Building video /home/danield/AnyoneAI/Curso/final_project/videos_data_aug/vidaug/data/trailer_aug/tt1828968_0050_aug_7.mp4.\n",
      "Moviepy - Writing video /home/danield/AnyoneAI/Curso/final_project/videos_data_aug/vidaug/data/trailer_aug/tt1828968_0050_aug_7.mp4\n",
      "\n"
     ]
    },
    {
     "name": "stderr",
     "output_type": "stream",
     "text": [
      "                                                   "
     ]
    },
    {
     "name": "stdout",
     "output_type": "stream",
     "text": [
      "Moviepy - Done !\n",
      "Moviepy - video ready /home/danield/AnyoneAI/Curso/final_project/videos_data_aug/vidaug/data/trailer_aug/tt1828968_0050_aug_7.mp4\n"
     ]
    },
    {
     "name": "stderr",
     "output_type": "stream",
     "text": [
      "\r"
     ]
    },
    {
     "name": "stdout",
     "output_type": "stream",
     "text": [
      "processing video 2/853\n",
      "Moviepy - Building video /home/danield/AnyoneAI/Curso/final_project/videos_data_aug/vidaug/data/trailer_aug/tt0108289_0022_aug_0.mp4.\n",
      "Moviepy - Writing video /home/danield/AnyoneAI/Curso/final_project/videos_data_aug/vidaug/data/trailer_aug/tt0108289_0022_aug_0.mp4\n",
      "\n"
     ]
    },
    {
     "name": "stderr",
     "output_type": "stream",
     "text": [
      "                                                            \r"
     ]
    },
    {
     "name": "stdout",
     "output_type": "stream",
     "text": [
      "Moviepy - Done !\n",
      "Moviepy - video ready /home/danield/AnyoneAI/Curso/final_project/videos_data_aug/vidaug/data/trailer_aug/tt0108289_0022_aug_0.mp4\n",
      "Moviepy - Building video /home/danield/AnyoneAI/Curso/final_project/videos_data_aug/vidaug/data/trailer_aug/tt0108289_0022_aug_1.mp4.\n",
      "Moviepy - Writing video /home/danield/AnyoneAI/Curso/final_project/videos_data_aug/vidaug/data/trailer_aug/tt0108289_0022_aug_1.mp4\n",
      "\n"
     ]
    },
    {
     "name": "stderr",
     "output_type": "stream",
     "text": [
      "                                                            \r"
     ]
    },
    {
     "name": "stdout",
     "output_type": "stream",
     "text": [
      "Moviepy - Done !\n",
      "Moviepy - video ready /home/danield/AnyoneAI/Curso/final_project/videos_data_aug/vidaug/data/trailer_aug/tt0108289_0022_aug_1.mp4\n",
      "Moviepy - Building video /home/danield/AnyoneAI/Curso/final_project/videos_data_aug/vidaug/data/trailer_aug/tt0108289_0022_aug_2.mp4.\n",
      "Moviepy - Writing video /home/danield/AnyoneAI/Curso/final_project/videos_data_aug/vidaug/data/trailer_aug/tt0108289_0022_aug_2.mp4\n",
      "\n"
     ]
    },
    {
     "name": "stderr",
     "output_type": "stream",
     "text": [
      "                                                            \r"
     ]
    },
    {
     "name": "stdout",
     "output_type": "stream",
     "text": [
      "Moviepy - Done !\n",
      "Moviepy - video ready /home/danield/AnyoneAI/Curso/final_project/videos_data_aug/vidaug/data/trailer_aug/tt0108289_0022_aug_2.mp4\n",
      "Moviepy - Building video /home/danield/AnyoneAI/Curso/final_project/videos_data_aug/vidaug/data/trailer_aug/tt0108289_0022_aug_3.mp4.\n",
      "Moviepy - Writing video /home/danield/AnyoneAI/Curso/final_project/videos_data_aug/vidaug/data/trailer_aug/tt0108289_0022_aug_3.mp4\n",
      "\n"
     ]
    },
    {
     "name": "stderr",
     "output_type": "stream",
     "text": [
      "                                                            \r"
     ]
    },
    {
     "name": "stdout",
     "output_type": "stream",
     "text": [
      "Moviepy - Done !\n",
      "Moviepy - video ready /home/danield/AnyoneAI/Curso/final_project/videos_data_aug/vidaug/data/trailer_aug/tt0108289_0022_aug_3.mp4\n",
      "Moviepy - Building video /home/danield/AnyoneAI/Curso/final_project/videos_data_aug/vidaug/data/trailer_aug/tt0108289_0022_aug_4.mp4.\n",
      "Moviepy - Writing video /home/danield/AnyoneAI/Curso/final_project/videos_data_aug/vidaug/data/trailer_aug/tt0108289_0022_aug_4.mp4\n",
      "\n"
     ]
    },
    {
     "name": "stderr",
     "output_type": "stream",
     "text": [
      "                                                            \r"
     ]
    },
    {
     "name": "stdout",
     "output_type": "stream",
     "text": [
      "Moviepy - Done !\n",
      "Moviepy - video ready /home/danield/AnyoneAI/Curso/final_project/videos_data_aug/vidaug/data/trailer_aug/tt0108289_0022_aug_4.mp4\n",
      "Moviepy - Building video /home/danield/AnyoneAI/Curso/final_project/videos_data_aug/vidaug/data/trailer_aug/tt0108289_0022_aug_5.mp4.\n",
      "Moviepy - Writing video /home/danield/AnyoneAI/Curso/final_project/videos_data_aug/vidaug/data/trailer_aug/tt0108289_0022_aug_5.mp4\n",
      "\n"
     ]
    },
    {
     "name": "stderr",
     "output_type": "stream",
     "text": [
      "                                                            \r"
     ]
    },
    {
     "name": "stdout",
     "output_type": "stream",
     "text": [
      "Moviepy - Done !\n",
      "Moviepy - video ready /home/danield/AnyoneAI/Curso/final_project/videos_data_aug/vidaug/data/trailer_aug/tt0108289_0022_aug_5.mp4\n",
      "Moviepy - Building video /home/danield/AnyoneAI/Curso/final_project/videos_data_aug/vidaug/data/trailer_aug/tt0108289_0022_aug_6.mp4.\n",
      "Moviepy - Writing video /home/danield/AnyoneAI/Curso/final_project/videos_data_aug/vidaug/data/trailer_aug/tt0108289_0022_aug_6.mp4\n",
      "\n"
     ]
    },
    {
     "name": "stderr",
     "output_type": "stream",
     "text": [
      "                                                            \r"
     ]
    },
    {
     "name": "stdout",
     "output_type": "stream",
     "text": [
      "Moviepy - Done !\n",
      "Moviepy - video ready /home/danield/AnyoneAI/Curso/final_project/videos_data_aug/vidaug/data/trailer_aug/tt0108289_0022_aug_6.mp4\n",
      "Moviepy - Building video /home/danield/AnyoneAI/Curso/final_project/videos_data_aug/vidaug/data/trailer_aug/tt0108289_0022_aug_7.mp4.\n",
      "Moviepy - Writing video /home/danield/AnyoneAI/Curso/final_project/videos_data_aug/vidaug/data/trailer_aug/tt0108289_0022_aug_7.mp4\n",
      "\n"
     ]
    },
    {
     "name": "stderr",
     "output_type": "stream",
     "text": [
      "                                                           \r"
     ]
    },
    {
     "name": "stdout",
     "output_type": "stream",
     "text": [
      "Moviepy - Done !\n",
      "Moviepy - video ready /home/danield/AnyoneAI/Curso/final_project/videos_data_aug/vidaug/data/trailer_aug/tt0108289_0022_aug_7.mp4\n",
      "processing video 3/853\n",
      "Moviepy - Building video /home/danield/AnyoneAI/Curso/final_project/videos_data_aug/vidaug/data/trailer_aug/tt0108289_0042_aug_0.mp4.\n",
      "Moviepy - Writing video /home/danield/AnyoneAI/Curso/final_project/videos_data_aug/vidaug/data/trailer_aug/tt0108289_0042_aug_0.mp4\n",
      "\n"
     ]
    },
    {
     "name": "stderr",
     "output_type": "stream",
     "text": [
      "                                                            \r"
     ]
    },
    {
     "name": "stdout",
     "output_type": "stream",
     "text": [
      "Moviepy - Done !\n",
      "Moviepy - video ready /home/danield/AnyoneAI/Curso/final_project/videos_data_aug/vidaug/data/trailer_aug/tt0108289_0042_aug_0.mp4\n",
      "Moviepy - Building video /home/danield/AnyoneAI/Curso/final_project/videos_data_aug/vidaug/data/trailer_aug/tt0108289_0042_aug_1.mp4.\n",
      "Moviepy - Writing video /home/danield/AnyoneAI/Curso/final_project/videos_data_aug/vidaug/data/trailer_aug/tt0108289_0042_aug_1.mp4\n",
      "\n"
     ]
    },
    {
     "name": "stderr",
     "output_type": "stream",
     "text": [
      "                                                            \r"
     ]
    },
    {
     "name": "stdout",
     "output_type": "stream",
     "text": [
      "Moviepy - Done !\n",
      "Moviepy - video ready /home/danield/AnyoneAI/Curso/final_project/videos_data_aug/vidaug/data/trailer_aug/tt0108289_0042_aug_1.mp4\n",
      "Moviepy - Building video /home/danield/AnyoneAI/Curso/final_project/videos_data_aug/vidaug/data/trailer_aug/tt0108289_0042_aug_2.mp4.\n",
      "Moviepy - Writing video /home/danield/AnyoneAI/Curso/final_project/videos_data_aug/vidaug/data/trailer_aug/tt0108289_0042_aug_2.mp4\n",
      "\n"
     ]
    },
    {
     "name": "stderr",
     "output_type": "stream",
     "text": [
      "                                                            \r"
     ]
    },
    {
     "name": "stdout",
     "output_type": "stream",
     "text": [
      "Moviepy - Done !\n",
      "Moviepy - video ready /home/danield/AnyoneAI/Curso/final_project/videos_data_aug/vidaug/data/trailer_aug/tt0108289_0042_aug_2.mp4\n",
      "Moviepy - Building video /home/danield/AnyoneAI/Curso/final_project/videos_data_aug/vidaug/data/trailer_aug/tt0108289_0042_aug_3.mp4.\n",
      "Moviepy - Writing video /home/danield/AnyoneAI/Curso/final_project/videos_data_aug/vidaug/data/trailer_aug/tt0108289_0042_aug_3.mp4\n",
      "\n"
     ]
    },
    {
     "name": "stderr",
     "output_type": "stream",
     "text": [
      "                                                             \r"
     ]
    },
    {
     "name": "stdout",
     "output_type": "stream",
     "text": [
      "Moviepy - Done !\n",
      "Moviepy - video ready /home/danield/AnyoneAI/Curso/final_project/videos_data_aug/vidaug/data/trailer_aug/tt0108289_0042_aug_3.mp4\n",
      "Moviepy - Building video /home/danield/AnyoneAI/Curso/final_project/videos_data_aug/vidaug/data/trailer_aug/tt0108289_0042_aug_4.mp4.\n",
      "Moviepy - Writing video /home/danield/AnyoneAI/Curso/final_project/videos_data_aug/vidaug/data/trailer_aug/tt0108289_0042_aug_4.mp4\n",
      "\n"
     ]
    },
    {
     "name": "stderr",
     "output_type": "stream",
     "text": [
      "                                                            \r"
     ]
    },
    {
     "name": "stdout",
     "output_type": "stream",
     "text": [
      "Moviepy - Done !\n",
      "Moviepy - video ready /home/danield/AnyoneAI/Curso/final_project/videos_data_aug/vidaug/data/trailer_aug/tt0108289_0042_aug_4.mp4\n",
      "Moviepy - Building video /home/danield/AnyoneAI/Curso/final_project/videos_data_aug/vidaug/data/trailer_aug/tt0108289_0042_aug_5.mp4.\n",
      "Moviepy - Writing video /home/danield/AnyoneAI/Curso/final_project/videos_data_aug/vidaug/data/trailer_aug/tt0108289_0042_aug_5.mp4\n",
      "\n"
     ]
    },
    {
     "name": "stderr",
     "output_type": "stream",
     "text": [
      "                                                            \r"
     ]
    },
    {
     "name": "stdout",
     "output_type": "stream",
     "text": [
      "Moviepy - Done !\n",
      "Moviepy - video ready /home/danield/AnyoneAI/Curso/final_project/videos_data_aug/vidaug/data/trailer_aug/tt0108289_0042_aug_5.mp4\n",
      "Moviepy - Building video /home/danield/AnyoneAI/Curso/final_project/videos_data_aug/vidaug/data/trailer_aug/tt0108289_0042_aug_6.mp4.\n",
      "Moviepy - Writing video /home/danield/AnyoneAI/Curso/final_project/videos_data_aug/vidaug/data/trailer_aug/tt0108289_0042_aug_6.mp4\n",
      "\n"
     ]
    },
    {
     "name": "stderr",
     "output_type": "stream",
     "text": [
      "                                                            \r"
     ]
    },
    {
     "name": "stdout",
     "output_type": "stream",
     "text": [
      "Moviepy - Done !\n",
      "Moviepy - video ready /home/danield/AnyoneAI/Curso/final_project/videos_data_aug/vidaug/data/trailer_aug/tt0108289_0042_aug_6.mp4\n",
      "Moviepy - Building video /home/danield/AnyoneAI/Curso/final_project/videos_data_aug/vidaug/data/trailer_aug/tt0108289_0042_aug_7.mp4.\n",
      "Moviepy - Writing video /home/danield/AnyoneAI/Curso/final_project/videos_data_aug/vidaug/data/trailer_aug/tt0108289_0042_aug_7.mp4\n",
      "\n"
     ]
    },
    {
     "name": "stderr",
     "output_type": "stream",
     "text": [
      "                                                           \r"
     ]
    },
    {
     "name": "stdout",
     "output_type": "stream",
     "text": [
      "Moviepy - Done !\n",
      "Moviepy - video ready /home/danield/AnyoneAI/Curso/final_project/videos_data_aug/vidaug/data/trailer_aug/tt0108289_0042_aug_7.mp4\n",
      "processing video 4/853\n",
      "Moviepy - Building video /home/danield/AnyoneAI/Curso/final_project/videos_data_aug/vidaug/data/trailer_aug/tt2349952_0053_aug_0.mp4.\n",
      "Moviepy - Writing video /home/danield/AnyoneAI/Curso/final_project/videos_data_aug/vidaug/data/trailer_aug/tt2349952_0053_aug_0.mp4\n",
      "\n"
     ]
    },
    {
     "name": "stderr",
     "output_type": "stream",
     "text": [
      "                                                            \r"
     ]
    },
    {
     "name": "stdout",
     "output_type": "stream",
     "text": [
      "Moviepy - Done !\n",
      "Moviepy - video ready /home/danield/AnyoneAI/Curso/final_project/videos_data_aug/vidaug/data/trailer_aug/tt2349952_0053_aug_0.mp4\n",
      "Moviepy - Building video /home/danield/AnyoneAI/Curso/final_project/videos_data_aug/vidaug/data/trailer_aug/tt2349952_0053_aug_1.mp4.\n",
      "Moviepy - Writing video /home/danield/AnyoneAI/Curso/final_project/videos_data_aug/vidaug/data/trailer_aug/tt2349952_0053_aug_1.mp4\n",
      "\n"
     ]
    },
    {
     "name": "stderr",
     "output_type": "stream",
     "text": [
      "                                                            \r"
     ]
    },
    {
     "name": "stdout",
     "output_type": "stream",
     "text": [
      "Moviepy - Done !\n",
      "Moviepy - video ready /home/danield/AnyoneAI/Curso/final_project/videos_data_aug/vidaug/data/trailer_aug/tt2349952_0053_aug_1.mp4\n",
      "Moviepy - Building video /home/danield/AnyoneAI/Curso/final_project/videos_data_aug/vidaug/data/trailer_aug/tt2349952_0053_aug_2.mp4.\n",
      "Moviepy - Writing video /home/danield/AnyoneAI/Curso/final_project/videos_data_aug/vidaug/data/trailer_aug/tt2349952_0053_aug_2.mp4\n",
      "\n"
     ]
    },
    {
     "name": "stderr",
     "output_type": "stream",
     "text": [
      "                                                            \r"
     ]
    },
    {
     "name": "stdout",
     "output_type": "stream",
     "text": [
      "Moviepy - Done !\n",
      "Moviepy - video ready /home/danield/AnyoneAI/Curso/final_project/videos_data_aug/vidaug/data/trailer_aug/tt2349952_0053_aug_2.mp4\n",
      "Moviepy - Building video /home/danield/AnyoneAI/Curso/final_project/videos_data_aug/vidaug/data/trailer_aug/tt2349952_0053_aug_3.mp4.\n",
      "Moviepy - Writing video /home/danield/AnyoneAI/Curso/final_project/videos_data_aug/vidaug/data/trailer_aug/tt2349952_0053_aug_3.mp4\n",
      "\n"
     ]
    },
    {
     "name": "stderr",
     "output_type": "stream",
     "text": [
      "                                                            \r"
     ]
    },
    {
     "name": "stdout",
     "output_type": "stream",
     "text": [
      "Moviepy - Done !\n",
      "Moviepy - video ready /home/danield/AnyoneAI/Curso/final_project/videos_data_aug/vidaug/data/trailer_aug/tt2349952_0053_aug_3.mp4\n",
      "Moviepy - Building video /home/danield/AnyoneAI/Curso/final_project/videos_data_aug/vidaug/data/trailer_aug/tt2349952_0053_aug_4.mp4.\n",
      "Moviepy - Writing video /home/danield/AnyoneAI/Curso/final_project/videos_data_aug/vidaug/data/trailer_aug/tt2349952_0053_aug_4.mp4\n",
      "\n"
     ]
    },
    {
     "name": "stderr",
     "output_type": "stream",
     "text": [
      "                                                            \r"
     ]
    },
    {
     "name": "stdout",
     "output_type": "stream",
     "text": [
      "Moviepy - Done !\n",
      "Moviepy - video ready /home/danield/AnyoneAI/Curso/final_project/videos_data_aug/vidaug/data/trailer_aug/tt2349952_0053_aug_4.mp4\n",
      "Moviepy - Building video /home/danield/AnyoneAI/Curso/final_project/videos_data_aug/vidaug/data/trailer_aug/tt2349952_0053_aug_5.mp4.\n",
      "Moviepy - Writing video /home/danield/AnyoneAI/Curso/final_project/videos_data_aug/vidaug/data/trailer_aug/tt2349952_0053_aug_5.mp4\n",
      "\n"
     ]
    },
    {
     "name": "stderr",
     "output_type": "stream",
     "text": [
      "                                                            \r"
     ]
    },
    {
     "name": "stdout",
     "output_type": "stream",
     "text": [
      "Moviepy - Done !\n",
      "Moviepy - video ready /home/danield/AnyoneAI/Curso/final_project/videos_data_aug/vidaug/data/trailer_aug/tt2349952_0053_aug_5.mp4\n",
      "Moviepy - Building video /home/danield/AnyoneAI/Curso/final_project/videos_data_aug/vidaug/data/trailer_aug/tt2349952_0053_aug_6.mp4.\n",
      "Moviepy - Writing video /home/danield/AnyoneAI/Curso/final_project/videos_data_aug/vidaug/data/trailer_aug/tt2349952_0053_aug_6.mp4\n",
      "\n"
     ]
    },
    {
     "name": "stderr",
     "output_type": "stream",
     "text": [
      "                                                            \r"
     ]
    },
    {
     "name": "stdout",
     "output_type": "stream",
     "text": [
      "Moviepy - Done !\n",
      "Moviepy - video ready /home/danield/AnyoneAI/Curso/final_project/videos_data_aug/vidaug/data/trailer_aug/tt2349952_0053_aug_6.mp4\n",
      "Moviepy - Building video /home/danield/AnyoneAI/Curso/final_project/videos_data_aug/vidaug/data/trailer_aug/tt2349952_0053_aug_7.mp4.\n",
      "Moviepy - Writing video /home/danield/AnyoneAI/Curso/final_project/videos_data_aug/vidaug/data/trailer_aug/tt2349952_0053_aug_7.mp4\n",
      "\n"
     ]
    },
    {
     "name": "stderr",
     "output_type": "stream",
     "text": [
      "                                                           \r"
     ]
    },
    {
     "name": "stdout",
     "output_type": "stream",
     "text": [
      "Moviepy - Done !\n",
      "Moviepy - video ready /home/danield/AnyoneAI/Curso/final_project/videos_data_aug/vidaug/data/trailer_aug/tt2349952_0053_aug_7.mp4\n",
      "processing video 5/853\n",
      "Moviepy - Building video /home/danield/AnyoneAI/Curso/final_project/videos_data_aug/vidaug/data/trailer_aug/tt0069768_0011_aug_0.mp4.\n",
      "Moviepy - Writing video /home/danield/AnyoneAI/Curso/final_project/videos_data_aug/vidaug/data/trailer_aug/tt0069768_0011_aug_0.mp4\n",
      "\n"
     ]
    },
    {
     "name": "stderr",
     "output_type": "stream",
     "text": [
      "                                                             \r"
     ]
    },
    {
     "name": "stdout",
     "output_type": "stream",
     "text": [
      "Moviepy - Done !\n",
      "Moviepy - video ready /home/danield/AnyoneAI/Curso/final_project/videos_data_aug/vidaug/data/trailer_aug/tt0069768_0011_aug_0.mp4\n",
      "Moviepy - Building video /home/danield/AnyoneAI/Curso/final_project/videos_data_aug/vidaug/data/trailer_aug/tt0069768_0011_aug_1.mp4.\n",
      "Moviepy - Writing video /home/danield/AnyoneAI/Curso/final_project/videos_data_aug/vidaug/data/trailer_aug/tt0069768_0011_aug_1.mp4\n",
      "\n"
     ]
    },
    {
     "name": "stderr",
     "output_type": "stream",
     "text": [
      "                                                             \r"
     ]
    },
    {
     "name": "stdout",
     "output_type": "stream",
     "text": [
      "Moviepy - Done !\n",
      "Moviepy - video ready /home/danield/AnyoneAI/Curso/final_project/videos_data_aug/vidaug/data/trailer_aug/tt0069768_0011_aug_1.mp4\n",
      "Moviepy - Building video /home/danield/AnyoneAI/Curso/final_project/videos_data_aug/vidaug/data/trailer_aug/tt0069768_0011_aug_2.mp4.\n",
      "Moviepy - Writing video /home/danield/AnyoneAI/Curso/final_project/videos_data_aug/vidaug/data/trailer_aug/tt0069768_0011_aug_2.mp4\n",
      "\n"
     ]
    },
    {
     "name": "stderr",
     "output_type": "stream",
     "text": [
      "                                                             \r"
     ]
    },
    {
     "name": "stdout",
     "output_type": "stream",
     "text": [
      "Moviepy - Done !\n",
      "Moviepy - video ready /home/danield/AnyoneAI/Curso/final_project/videos_data_aug/vidaug/data/trailer_aug/tt0069768_0011_aug_2.mp4\n",
      "Moviepy - Building video /home/danield/AnyoneAI/Curso/final_project/videos_data_aug/vidaug/data/trailer_aug/tt0069768_0011_aug_3.mp4.\n",
      "Moviepy - Writing video /home/danield/AnyoneAI/Curso/final_project/videos_data_aug/vidaug/data/trailer_aug/tt0069768_0011_aug_3.mp4\n",
      "\n"
     ]
    },
    {
     "name": "stderr",
     "output_type": "stream",
     "text": [
      "                                                             \r"
     ]
    },
    {
     "name": "stdout",
     "output_type": "stream",
     "text": [
      "Moviepy - Done !\n",
      "Moviepy - video ready /home/danield/AnyoneAI/Curso/final_project/videos_data_aug/vidaug/data/trailer_aug/tt0069768_0011_aug_3.mp4\n",
      "Moviepy - Building video /home/danield/AnyoneAI/Curso/final_project/videos_data_aug/vidaug/data/trailer_aug/tt0069768_0011_aug_4.mp4.\n",
      "Moviepy - Writing video /home/danield/AnyoneAI/Curso/final_project/videos_data_aug/vidaug/data/trailer_aug/tt0069768_0011_aug_4.mp4\n",
      "\n"
     ]
    },
    {
     "name": "stderr",
     "output_type": "stream",
     "text": [
      "                                                             \r"
     ]
    },
    {
     "name": "stdout",
     "output_type": "stream",
     "text": [
      "Moviepy - Done !\n",
      "Moviepy - video ready /home/danield/AnyoneAI/Curso/final_project/videos_data_aug/vidaug/data/trailer_aug/tt0069768_0011_aug_4.mp4\n",
      "Moviepy - Building video /home/danield/AnyoneAI/Curso/final_project/videos_data_aug/vidaug/data/trailer_aug/tt0069768_0011_aug_5.mp4.\n",
      "Moviepy - Writing video /home/danield/AnyoneAI/Curso/final_project/videos_data_aug/vidaug/data/trailer_aug/tt0069768_0011_aug_5.mp4\n",
      "\n"
     ]
    },
    {
     "name": "stderr",
     "output_type": "stream",
     "text": [
      "                                                             \r"
     ]
    },
    {
     "name": "stdout",
     "output_type": "stream",
     "text": [
      "Moviepy - Done !\n",
      "Moviepy - video ready /home/danield/AnyoneAI/Curso/final_project/videos_data_aug/vidaug/data/trailer_aug/tt0069768_0011_aug_5.mp4\n",
      "Moviepy - Building video /home/danield/AnyoneAI/Curso/final_project/videos_data_aug/vidaug/data/trailer_aug/tt0069768_0011_aug_6.mp4.\n",
      "Moviepy - Writing video /home/danield/AnyoneAI/Curso/final_project/videos_data_aug/vidaug/data/trailer_aug/tt0069768_0011_aug_6.mp4\n",
      "\n"
     ]
    },
    {
     "name": "stderr",
     "output_type": "stream",
     "text": [
      "                                                             \r"
     ]
    },
    {
     "name": "stdout",
     "output_type": "stream",
     "text": [
      "Moviepy - Done !\n",
      "Moviepy - video ready /home/danield/AnyoneAI/Curso/final_project/videos_data_aug/vidaug/data/trailer_aug/tt0069768_0011_aug_6.mp4\n",
      "Moviepy - Building video /home/danield/AnyoneAI/Curso/final_project/videos_data_aug/vidaug/data/trailer_aug/tt0069768_0011_aug_7.mp4.\n",
      "Moviepy - Writing video /home/danield/AnyoneAI/Curso/final_project/videos_data_aug/vidaug/data/trailer_aug/tt0069768_0011_aug_7.mp4\n",
      "\n"
     ]
    },
    {
     "name": "stderr",
     "output_type": "stream",
     "text": [
      "                                                   "
     ]
    },
    {
     "name": "stdout",
     "output_type": "stream",
     "text": [
      "Moviepy - Done !\n",
      "Moviepy - video ready /home/danield/AnyoneAI/Curso/final_project/videos_data_aug/vidaug/data/trailer_aug/tt0069768_0011_aug_7.mp4\n"
     ]
    },
    {
     "name": "stderr",
     "output_type": "stream",
     "text": [
      "\r"
     ]
    },
    {
     "name": "stdout",
     "output_type": "stream",
     "text": [
      "processing video 6/853\n",
      "Moviepy - Building video /home/danield/AnyoneAI/Curso/final_project/videos_data_aug/vidaug/data/trailer_aug/tt0063172_0036_aug_0.mp4.\n",
      "Moviepy - Writing video /home/danield/AnyoneAI/Curso/final_project/videos_data_aug/vidaug/data/trailer_aug/tt0063172_0036_aug_0.mp4\n",
      "\n"
     ]
    },
    {
     "name": "stderr",
     "output_type": "stream",
     "text": [
      "                                                            \r"
     ]
    },
    {
     "name": "stdout",
     "output_type": "stream",
     "text": [
      "Moviepy - Done !\n",
      "Moviepy - video ready /home/danield/AnyoneAI/Curso/final_project/videos_data_aug/vidaug/data/trailer_aug/tt0063172_0036_aug_0.mp4\n",
      "Moviepy - Building video /home/danield/AnyoneAI/Curso/final_project/videos_data_aug/vidaug/data/trailer_aug/tt0063172_0036_aug_1.mp4.\n",
      "Moviepy - Writing video /home/danield/AnyoneAI/Curso/final_project/videos_data_aug/vidaug/data/trailer_aug/tt0063172_0036_aug_1.mp4\n",
      "\n"
     ]
    },
    {
     "name": "stderr",
     "output_type": "stream",
     "text": [
      "                                                            \r"
     ]
    },
    {
     "name": "stdout",
     "output_type": "stream",
     "text": [
      "Moviepy - Done !\n",
      "Moviepy - video ready /home/danield/AnyoneAI/Curso/final_project/videos_data_aug/vidaug/data/trailer_aug/tt0063172_0036_aug_1.mp4\n",
      "Moviepy - Building video /home/danield/AnyoneAI/Curso/final_project/videos_data_aug/vidaug/data/trailer_aug/tt0063172_0036_aug_2.mp4.\n",
      "Moviepy - Writing video /home/danield/AnyoneAI/Curso/final_project/videos_data_aug/vidaug/data/trailer_aug/tt0063172_0036_aug_2.mp4\n",
      "\n"
     ]
    },
    {
     "name": "stderr",
     "output_type": "stream",
     "text": [
      "                                                            \r"
     ]
    },
    {
     "name": "stdout",
     "output_type": "stream",
     "text": [
      "Moviepy - Done !\n",
      "Moviepy - video ready /home/danield/AnyoneAI/Curso/final_project/videos_data_aug/vidaug/data/trailer_aug/tt0063172_0036_aug_2.mp4\n",
      "Moviepy - Building video /home/danield/AnyoneAI/Curso/final_project/videos_data_aug/vidaug/data/trailer_aug/tt0063172_0036_aug_3.mp4.\n",
      "Moviepy - Writing video /home/danield/AnyoneAI/Curso/final_project/videos_data_aug/vidaug/data/trailer_aug/tt0063172_0036_aug_3.mp4\n",
      "\n"
     ]
    },
    {
     "name": "stderr",
     "output_type": "stream",
     "text": [
      "                                                             \r"
     ]
    },
    {
     "name": "stdout",
     "output_type": "stream",
     "text": [
      "Moviepy - Done !\n",
      "Moviepy - video ready /home/danield/AnyoneAI/Curso/final_project/videos_data_aug/vidaug/data/trailer_aug/tt0063172_0036_aug_3.mp4\n",
      "Moviepy - Building video /home/danield/AnyoneAI/Curso/final_project/videos_data_aug/vidaug/data/trailer_aug/tt0063172_0036_aug_4.mp4.\n",
      "Moviepy - Writing video /home/danield/AnyoneAI/Curso/final_project/videos_data_aug/vidaug/data/trailer_aug/tt0063172_0036_aug_4.mp4\n",
      "\n"
     ]
    },
    {
     "name": "stderr",
     "output_type": "stream",
     "text": [
      "                                                            \r"
     ]
    },
    {
     "name": "stdout",
     "output_type": "stream",
     "text": [
      "Moviepy - Done !\n",
      "Moviepy - video ready /home/danield/AnyoneAI/Curso/final_project/videos_data_aug/vidaug/data/trailer_aug/tt0063172_0036_aug_4.mp4\n",
      "Moviepy - Building video /home/danield/AnyoneAI/Curso/final_project/videos_data_aug/vidaug/data/trailer_aug/tt0063172_0036_aug_5.mp4.\n",
      "Moviepy - Writing video /home/danield/AnyoneAI/Curso/final_project/videos_data_aug/vidaug/data/trailer_aug/tt0063172_0036_aug_5.mp4\n",
      "\n"
     ]
    },
    {
     "name": "stderr",
     "output_type": "stream",
     "text": [
      "                                                            \r"
     ]
    },
    {
     "name": "stdout",
     "output_type": "stream",
     "text": [
      "Moviepy - Done !\n",
      "Moviepy - video ready /home/danield/AnyoneAI/Curso/final_project/videos_data_aug/vidaug/data/trailer_aug/tt0063172_0036_aug_5.mp4\n",
      "Moviepy - Building video /home/danield/AnyoneAI/Curso/final_project/videos_data_aug/vidaug/data/trailer_aug/tt0063172_0036_aug_6.mp4.\n",
      "Moviepy - Writing video /home/danield/AnyoneAI/Curso/final_project/videos_data_aug/vidaug/data/trailer_aug/tt0063172_0036_aug_6.mp4\n",
      "\n"
     ]
    },
    {
     "name": "stderr",
     "output_type": "stream",
     "text": [
      "                                                             \r"
     ]
    },
    {
     "name": "stdout",
     "output_type": "stream",
     "text": [
      "Moviepy - Done !\n",
      "Moviepy - video ready /home/danield/AnyoneAI/Curso/final_project/videos_data_aug/vidaug/data/trailer_aug/tt0063172_0036_aug_6.mp4\n",
      "Moviepy - Building video /home/danield/AnyoneAI/Curso/final_project/videos_data_aug/vidaug/data/trailer_aug/tt0063172_0036_aug_7.mp4.\n",
      "Moviepy - Writing video /home/danield/AnyoneAI/Curso/final_project/videos_data_aug/vidaug/data/trailer_aug/tt0063172_0036_aug_7.mp4\n",
      "\n"
     ]
    },
    {
     "name": "stderr",
     "output_type": "stream",
     "text": [
      "                                                   \r"
     ]
    },
    {
     "name": "stdout",
     "output_type": "stream",
     "text": [
      "Moviepy - Done !\n",
      "Moviepy - video ready /home/danield/AnyoneAI/Curso/final_project/videos_data_aug/vidaug/data/trailer_aug/tt0063172_0036_aug_7.mp4\n",
      "processing video 7/853\n",
      "Moviepy - Building video /home/danield/AnyoneAI/Curso/final_project/videos_data_aug/vidaug/data/trailer_aug/tt0080717_0072_aug_0.mp4.\n",
      "Moviepy - Writing video /home/danield/AnyoneAI/Curso/final_project/videos_data_aug/vidaug/data/trailer_aug/tt0080717_0072_aug_0.mp4\n",
      "\n"
     ]
    },
    {
     "name": "stderr",
     "output_type": "stream",
     "text": [
      "                                                             \r"
     ]
    },
    {
     "name": "stdout",
     "output_type": "stream",
     "text": [
      "Moviepy - Done !\n",
      "Moviepy - video ready /home/danield/AnyoneAI/Curso/final_project/videos_data_aug/vidaug/data/trailer_aug/tt0080717_0072_aug_0.mp4\n",
      "Moviepy - Building video /home/danield/AnyoneAI/Curso/final_project/videos_data_aug/vidaug/data/trailer_aug/tt0080717_0072_aug_1.mp4.\n",
      "Moviepy - Writing video /home/danield/AnyoneAI/Curso/final_project/videos_data_aug/vidaug/data/trailer_aug/tt0080717_0072_aug_1.mp4\n",
      "\n"
     ]
    },
    {
     "name": "stderr",
     "output_type": "stream",
     "text": [
      "                                                             \r"
     ]
    },
    {
     "name": "stdout",
     "output_type": "stream",
     "text": [
      "Moviepy - Done !\n",
      "Moviepy - video ready /home/danield/AnyoneAI/Curso/final_project/videos_data_aug/vidaug/data/trailer_aug/tt0080717_0072_aug_1.mp4\n",
      "Moviepy - Building video /home/danield/AnyoneAI/Curso/final_project/videos_data_aug/vidaug/data/trailer_aug/tt0080717_0072_aug_2.mp4.\n",
      "Moviepy - Writing video /home/danield/AnyoneAI/Curso/final_project/videos_data_aug/vidaug/data/trailer_aug/tt0080717_0072_aug_2.mp4\n",
      "\n"
     ]
    },
    {
     "name": "stderr",
     "output_type": "stream",
     "text": [
      "                                                             \r"
     ]
    },
    {
     "name": "stdout",
     "output_type": "stream",
     "text": [
      "Moviepy - Done !\n",
      "Moviepy - video ready /home/danield/AnyoneAI/Curso/final_project/videos_data_aug/vidaug/data/trailer_aug/tt0080717_0072_aug_2.mp4\n",
      "Moviepy - Building video /home/danield/AnyoneAI/Curso/final_project/videos_data_aug/vidaug/data/trailer_aug/tt0080717_0072_aug_3.mp4.\n",
      "Moviepy - Writing video /home/danield/AnyoneAI/Curso/final_project/videos_data_aug/vidaug/data/trailer_aug/tt0080717_0072_aug_3.mp4\n",
      "\n"
     ]
    },
    {
     "name": "stderr",
     "output_type": "stream",
     "text": [
      "                                                   "
     ]
    },
    {
     "name": "stdout",
     "output_type": "stream",
     "text": [
      "Moviepy - Done !\n",
      "Moviepy - video ready /home/danield/AnyoneAI/Curso/final_project/videos_data_aug/vidaug/data/trailer_aug/tt0080717_0072_aug_3.mp4\n"
     ]
    },
    {
     "name": "stderr",
     "output_type": "stream",
     "text": [
      "\r"
     ]
    },
    {
     "name": "stdout",
     "output_type": "stream",
     "text": [
      "Moviepy - Building video /home/danield/AnyoneAI/Curso/final_project/videos_data_aug/vidaug/data/trailer_aug/tt0080717_0072_aug_4.mp4.\n",
      "Moviepy - Writing video /home/danield/AnyoneAI/Curso/final_project/videos_data_aug/vidaug/data/trailer_aug/tt0080717_0072_aug_4.mp4\n",
      "\n"
     ]
    },
    {
     "name": "stderr",
     "output_type": "stream",
     "text": [
      "                                                             \r"
     ]
    },
    {
     "name": "stdout",
     "output_type": "stream",
     "text": [
      "Moviepy - Done !\n",
      "Moviepy - video ready /home/danield/AnyoneAI/Curso/final_project/videos_data_aug/vidaug/data/trailer_aug/tt0080717_0072_aug_4.mp4\n",
      "Moviepy - Building video /home/danield/AnyoneAI/Curso/final_project/videos_data_aug/vidaug/data/trailer_aug/tt0080717_0072_aug_5.mp4.\n",
      "Moviepy - Writing video /home/danield/AnyoneAI/Curso/final_project/videos_data_aug/vidaug/data/trailer_aug/tt0080717_0072_aug_5.mp4\n",
      "\n"
     ]
    },
    {
     "name": "stderr",
     "output_type": "stream",
     "text": [
      "                                                             \r"
     ]
    },
    {
     "name": "stdout",
     "output_type": "stream",
     "text": [
      "Moviepy - Done !\n",
      "Moviepy - video ready /home/danield/AnyoneAI/Curso/final_project/videos_data_aug/vidaug/data/trailer_aug/tt0080717_0072_aug_5.mp4\n",
      "Moviepy - Building video /home/danield/AnyoneAI/Curso/final_project/videos_data_aug/vidaug/data/trailer_aug/tt0080717_0072_aug_6.mp4.\n",
      "Moviepy - Writing video /home/danield/AnyoneAI/Curso/final_project/videos_data_aug/vidaug/data/trailer_aug/tt0080717_0072_aug_6.mp4\n",
      "\n"
     ]
    },
    {
     "name": "stderr",
     "output_type": "stream",
     "text": [
      "                                                   \r"
     ]
    },
    {
     "name": "stdout",
     "output_type": "stream",
     "text": [
      "Moviepy - Done !\n",
      "Moviepy - video ready /home/danield/AnyoneAI/Curso/final_project/videos_data_aug/vidaug/data/trailer_aug/tt0080717_0072_aug_6.mp4\n",
      "Moviepy - Building video /home/danield/AnyoneAI/Curso/final_project/videos_data_aug/vidaug/data/trailer_aug/tt0080717_0072_aug_7.mp4.\n",
      "Moviepy - Writing video /home/danield/AnyoneAI/Curso/final_project/videos_data_aug/vidaug/data/trailer_aug/tt0080717_0072_aug_7.mp4\n",
      "\n"
     ]
    },
    {
     "name": "stderr",
     "output_type": "stream",
     "text": [
      "                                                   "
     ]
    },
    {
     "name": "stdout",
     "output_type": "stream",
     "text": [
      "Moviepy - Done !\n",
      "Moviepy - video ready /home/danield/AnyoneAI/Curso/final_project/videos_data_aug/vidaug/data/trailer_aug/tt0080717_0072_aug_7.mp4\n"
     ]
    },
    {
     "name": "stderr",
     "output_type": "stream",
     "text": [
      "\r"
     ]
    },
    {
     "name": "stdout",
     "output_type": "stream",
     "text": [
      "processing video 8/853\n",
      "Moviepy - Building video /home/danield/AnyoneAI/Curso/final_project/videos_data_aug/vidaug/data/trailer_aug/tt0173369_0135_aug_0.mp4.\n",
      "Moviepy - Writing video /home/danield/AnyoneAI/Curso/final_project/videos_data_aug/vidaug/data/trailer_aug/tt0173369_0135_aug_0.mp4\n",
      "\n"
     ]
    },
    {
     "name": "stderr",
     "output_type": "stream",
     "text": [
      "                                                            \r"
     ]
    },
    {
     "name": "stdout",
     "output_type": "stream",
     "text": [
      "Moviepy - Done !\n",
      "Moviepy - video ready /home/danield/AnyoneAI/Curso/final_project/videos_data_aug/vidaug/data/trailer_aug/tt0173369_0135_aug_0.mp4\n",
      "Moviepy - Building video /home/danield/AnyoneAI/Curso/final_project/videos_data_aug/vidaug/data/trailer_aug/tt0173369_0135_aug_1.mp4.\n",
      "Moviepy - Writing video /home/danield/AnyoneAI/Curso/final_project/videos_data_aug/vidaug/data/trailer_aug/tt0173369_0135_aug_1.mp4\n",
      "\n"
     ]
    },
    {
     "name": "stderr",
     "output_type": "stream",
     "text": [
      "                                                            \r"
     ]
    },
    {
     "name": "stdout",
     "output_type": "stream",
     "text": [
      "Moviepy - Done !\n",
      "Moviepy - video ready /home/danield/AnyoneAI/Curso/final_project/videos_data_aug/vidaug/data/trailer_aug/tt0173369_0135_aug_1.mp4\n",
      "Moviepy - Building video /home/danield/AnyoneAI/Curso/final_project/videos_data_aug/vidaug/data/trailer_aug/tt0173369_0135_aug_2.mp4.\n",
      "Moviepy - Writing video /home/danield/AnyoneAI/Curso/final_project/videos_data_aug/vidaug/data/trailer_aug/tt0173369_0135_aug_2.mp4\n",
      "\n"
     ]
    },
    {
     "name": "stderr",
     "output_type": "stream",
     "text": [
      "                                                            \r"
     ]
    },
    {
     "name": "stdout",
     "output_type": "stream",
     "text": [
      "Moviepy - Done !\n",
      "Moviepy - video ready /home/danield/AnyoneAI/Curso/final_project/videos_data_aug/vidaug/data/trailer_aug/tt0173369_0135_aug_2.mp4\n",
      "Moviepy - Building video /home/danield/AnyoneAI/Curso/final_project/videos_data_aug/vidaug/data/trailer_aug/tt0173369_0135_aug_3.mp4.\n",
      "Moviepy - Writing video /home/danield/AnyoneAI/Curso/final_project/videos_data_aug/vidaug/data/trailer_aug/tt0173369_0135_aug_3.mp4\n",
      "\n"
     ]
    },
    {
     "name": "stderr",
     "output_type": "stream",
     "text": [
      "                                                             \r"
     ]
    },
    {
     "name": "stdout",
     "output_type": "stream",
     "text": [
      "Moviepy - Done !\n",
      "Moviepy - video ready /home/danield/AnyoneAI/Curso/final_project/videos_data_aug/vidaug/data/trailer_aug/tt0173369_0135_aug_3.mp4\n",
      "Moviepy - Building video /home/danield/AnyoneAI/Curso/final_project/videos_data_aug/vidaug/data/trailer_aug/tt0173369_0135_aug_4.mp4.\n",
      "Moviepy - Writing video /home/danield/AnyoneAI/Curso/final_project/videos_data_aug/vidaug/data/trailer_aug/tt0173369_0135_aug_4.mp4\n",
      "\n"
     ]
    },
    {
     "name": "stderr",
     "output_type": "stream",
     "text": [
      "                                                            \r"
     ]
    },
    {
     "name": "stdout",
     "output_type": "stream",
     "text": [
      "Moviepy - Done !\n",
      "Moviepy - video ready /home/danield/AnyoneAI/Curso/final_project/videos_data_aug/vidaug/data/trailer_aug/tt0173369_0135_aug_4.mp4\n",
      "Moviepy - Building video /home/danield/AnyoneAI/Curso/final_project/videos_data_aug/vidaug/data/trailer_aug/tt0173369_0135_aug_5.mp4.\n",
      "Moviepy - Writing video /home/danield/AnyoneAI/Curso/final_project/videos_data_aug/vidaug/data/trailer_aug/tt0173369_0135_aug_5.mp4\n",
      "\n"
     ]
    },
    {
     "name": "stderr",
     "output_type": "stream",
     "text": [
      "                                                            \r"
     ]
    },
    {
     "name": "stdout",
     "output_type": "stream",
     "text": [
      "Moviepy - Done !\n",
      "Moviepy - video ready /home/danield/AnyoneAI/Curso/final_project/videos_data_aug/vidaug/data/trailer_aug/tt0173369_0135_aug_5.mp4\n",
      "Moviepy - Building video /home/danield/AnyoneAI/Curso/final_project/videos_data_aug/vidaug/data/trailer_aug/tt0173369_0135_aug_6.mp4.\n",
      "Moviepy - Writing video /home/danield/AnyoneAI/Curso/final_project/videos_data_aug/vidaug/data/trailer_aug/tt0173369_0135_aug_6.mp4\n",
      "\n"
     ]
    },
    {
     "name": "stderr",
     "output_type": "stream",
     "text": [
      "                                                            \r"
     ]
    },
    {
     "name": "stdout",
     "output_type": "stream",
     "text": [
      "Moviepy - Done !\n",
      "Moviepy - video ready /home/danield/AnyoneAI/Curso/final_project/videos_data_aug/vidaug/data/trailer_aug/tt0173369_0135_aug_6.mp4\n",
      "Moviepy - Building video /home/danield/AnyoneAI/Curso/final_project/videos_data_aug/vidaug/data/trailer_aug/tt0173369_0135_aug_7.mp4.\n",
      "Moviepy - Writing video /home/danield/AnyoneAI/Curso/final_project/videos_data_aug/vidaug/data/trailer_aug/tt0173369_0135_aug_7.mp4\n",
      "\n"
     ]
    },
    {
     "name": "stderr",
     "output_type": "stream",
     "text": [
      "                                                           \r"
     ]
    },
    {
     "name": "stdout",
     "output_type": "stream",
     "text": [
      "Moviepy - Done !\n",
      "Moviepy - video ready /home/danield/AnyoneAI/Curso/final_project/videos_data_aug/vidaug/data/trailer_aug/tt0173369_0135_aug_7.mp4\n",
      "processing video 9/853\n",
      "Moviepy - Building video /home/danield/AnyoneAI/Curso/final_project/videos_data_aug/vidaug/data/trailer_aug/tt1461432_0049_aug_0.mp4.\n",
      "Moviepy - Writing video /home/danield/AnyoneAI/Curso/final_project/videos_data_aug/vidaug/data/trailer_aug/tt1461432_0049_aug_0.mp4\n",
      "\n"
     ]
    },
    {
     "name": "stderr",
     "output_type": "stream",
     "text": [
      "                                                             \r"
     ]
    },
    {
     "name": "stdout",
     "output_type": "stream",
     "text": [
      "Moviepy - Done !\n",
      "Moviepy - video ready /home/danield/AnyoneAI/Curso/final_project/videos_data_aug/vidaug/data/trailer_aug/tt1461432_0049_aug_0.mp4\n",
      "Moviepy - Building video /home/danield/AnyoneAI/Curso/final_project/videos_data_aug/vidaug/data/trailer_aug/tt1461432_0049_aug_1.mp4.\n",
      "Moviepy - Writing video /home/danield/AnyoneAI/Curso/final_project/videos_data_aug/vidaug/data/trailer_aug/tt1461432_0049_aug_1.mp4\n",
      "\n"
     ]
    },
    {
     "name": "stderr",
     "output_type": "stream",
     "text": [
      "                                                             \r"
     ]
    },
    {
     "name": "stdout",
     "output_type": "stream",
     "text": [
      "Moviepy - Done !\n",
      "Moviepy - video ready /home/danield/AnyoneAI/Curso/final_project/videos_data_aug/vidaug/data/trailer_aug/tt1461432_0049_aug_1.mp4\n",
      "Moviepy - Building video /home/danield/AnyoneAI/Curso/final_project/videos_data_aug/vidaug/data/trailer_aug/tt1461432_0049_aug_2.mp4.\n",
      "Moviepy - Writing video /home/danield/AnyoneAI/Curso/final_project/videos_data_aug/vidaug/data/trailer_aug/tt1461432_0049_aug_2.mp4\n",
      "\n"
     ]
    },
    {
     "name": "stderr",
     "output_type": "stream",
     "text": [
      "                                                             \r"
     ]
    },
    {
     "name": "stdout",
     "output_type": "stream",
     "text": [
      "Moviepy - Done !\n",
      "Moviepy - video ready /home/danield/AnyoneAI/Curso/final_project/videos_data_aug/vidaug/data/trailer_aug/tt1461432_0049_aug_2.mp4\n",
      "Moviepy - Building video /home/danield/AnyoneAI/Curso/final_project/videos_data_aug/vidaug/data/trailer_aug/tt1461432_0049_aug_3.mp4.\n",
      "Moviepy - Writing video /home/danield/AnyoneAI/Curso/final_project/videos_data_aug/vidaug/data/trailer_aug/tt1461432_0049_aug_3.mp4\n",
      "\n"
     ]
    },
    {
     "name": "stderr",
     "output_type": "stream",
     "text": [
      "                                                   \r"
     ]
    },
    {
     "name": "stdout",
     "output_type": "stream",
     "text": [
      "Moviepy - Done !\n",
      "Moviepy - video ready /home/danield/AnyoneAI/Curso/final_project/videos_data_aug/vidaug/data/trailer_aug/tt1461432_0049_aug_3.mp4\n",
      "Moviepy - Building video /home/danield/AnyoneAI/Curso/final_project/videos_data_aug/vidaug/data/trailer_aug/tt1461432_0049_aug_4.mp4.\n",
      "Moviepy - Writing video /home/danield/AnyoneAI/Curso/final_project/videos_data_aug/vidaug/data/trailer_aug/tt1461432_0049_aug_4.mp4\n",
      "\n"
     ]
    },
    {
     "name": "stderr",
     "output_type": "stream",
     "text": [
      "                                                             \r"
     ]
    },
    {
     "name": "stdout",
     "output_type": "stream",
     "text": [
      "Moviepy - Done !\n",
      "Moviepy - video ready /home/danield/AnyoneAI/Curso/final_project/videos_data_aug/vidaug/data/trailer_aug/tt1461432_0049_aug_4.mp4\n",
      "Moviepy - Building video /home/danield/AnyoneAI/Curso/final_project/videos_data_aug/vidaug/data/trailer_aug/tt1461432_0049_aug_5.mp4.\n",
      "Moviepy - Writing video /home/danield/AnyoneAI/Curso/final_project/videos_data_aug/vidaug/data/trailer_aug/tt1461432_0049_aug_5.mp4\n",
      "\n"
     ]
    },
    {
     "name": "stderr",
     "output_type": "stream",
     "text": [
      "                                                             \r"
     ]
    },
    {
     "name": "stdout",
     "output_type": "stream",
     "text": [
      "Moviepy - Done !\n",
      "Moviepy - video ready /home/danield/AnyoneAI/Curso/final_project/videos_data_aug/vidaug/data/trailer_aug/tt1461432_0049_aug_5.mp4\n",
      "Moviepy - Building video /home/danield/AnyoneAI/Curso/final_project/videos_data_aug/vidaug/data/trailer_aug/tt1461432_0049_aug_6.mp4.\n",
      "Moviepy - Writing video /home/danield/AnyoneAI/Curso/final_project/videos_data_aug/vidaug/data/trailer_aug/tt1461432_0049_aug_6.mp4\n",
      "\n"
     ]
    },
    {
     "name": "stderr",
     "output_type": "stream",
     "text": [
      "                                                             \r"
     ]
    },
    {
     "name": "stdout",
     "output_type": "stream",
     "text": [
      "Moviepy - Done !\n",
      "Moviepy - video ready /home/danield/AnyoneAI/Curso/final_project/videos_data_aug/vidaug/data/trailer_aug/tt1461432_0049_aug_6.mp4\n",
      "Moviepy - Building video /home/danield/AnyoneAI/Curso/final_project/videos_data_aug/vidaug/data/trailer_aug/tt1461432_0049_aug_7.mp4.\n",
      "Moviepy - Writing video /home/danield/AnyoneAI/Curso/final_project/videos_data_aug/vidaug/data/trailer_aug/tt1461432_0049_aug_7.mp4\n",
      "\n"
     ]
    },
    {
     "name": "stderr",
     "output_type": "stream",
     "text": [
      "                                                   "
     ]
    },
    {
     "name": "stdout",
     "output_type": "stream",
     "text": [
      "Moviepy - Done !\n",
      "Moviepy - video ready /home/danield/AnyoneAI/Curso/final_project/videos_data_aug/vidaug/data/trailer_aug/tt1461432_0049_aug_7.mp4\n"
     ]
    },
    {
     "name": "stderr",
     "output_type": "stream",
     "text": [
      "\r"
     ]
    },
    {
     "name": "stdout",
     "output_type": "stream",
     "text": [
      "processing video 10/853\n",
      "Moviepy - Building video /home/danield/AnyoneAI/Curso/final_project/videos_data_aug/vidaug/data/trailer_aug/tt4175088_0054_aug_0.mp4.\n",
      "Moviepy - Writing video /home/danield/AnyoneAI/Curso/final_project/videos_data_aug/vidaug/data/trailer_aug/tt4175088_0054_aug_0.mp4\n",
      "\n"
     ]
    },
    {
     "name": "stderr",
     "output_type": "stream",
     "text": [
      "                                                            \r"
     ]
    },
    {
     "name": "stdout",
     "output_type": "stream",
     "text": [
      "Moviepy - Done !\n",
      "Moviepy - video ready /home/danield/AnyoneAI/Curso/final_project/videos_data_aug/vidaug/data/trailer_aug/tt4175088_0054_aug_0.mp4\n",
      "Moviepy - Building video /home/danield/AnyoneAI/Curso/final_project/videos_data_aug/vidaug/data/trailer_aug/tt4175088_0054_aug_1.mp4.\n",
      "Moviepy - Writing video /home/danield/AnyoneAI/Curso/final_project/videos_data_aug/vidaug/data/trailer_aug/tt4175088_0054_aug_1.mp4\n",
      "\n"
     ]
    },
    {
     "name": "stderr",
     "output_type": "stream",
     "text": [
      "                                                            \r"
     ]
    },
    {
     "name": "stdout",
     "output_type": "stream",
     "text": [
      "Moviepy - Done !\n",
      "Moviepy - video ready /home/danield/AnyoneAI/Curso/final_project/videos_data_aug/vidaug/data/trailer_aug/tt4175088_0054_aug_1.mp4\n",
      "Moviepy - Building video /home/danield/AnyoneAI/Curso/final_project/videos_data_aug/vidaug/data/trailer_aug/tt4175088_0054_aug_2.mp4.\n",
      "Moviepy - Writing video /home/danield/AnyoneAI/Curso/final_project/videos_data_aug/vidaug/data/trailer_aug/tt4175088_0054_aug_2.mp4\n",
      "\n"
     ]
    },
    {
     "name": "stderr",
     "output_type": "stream",
     "text": [
      "                                                            \r"
     ]
    },
    {
     "name": "stdout",
     "output_type": "stream",
     "text": [
      "Moviepy - Done !\n",
      "Moviepy - video ready /home/danield/AnyoneAI/Curso/final_project/videos_data_aug/vidaug/data/trailer_aug/tt4175088_0054_aug_2.mp4\n",
      "Moviepy - Building video /home/danield/AnyoneAI/Curso/final_project/videos_data_aug/vidaug/data/trailer_aug/tt4175088_0054_aug_3.mp4.\n",
      "Moviepy - Writing video /home/danield/AnyoneAI/Curso/final_project/videos_data_aug/vidaug/data/trailer_aug/tt4175088_0054_aug_3.mp4\n",
      "\n"
     ]
    },
    {
     "name": "stderr",
     "output_type": "stream",
     "text": [
      "                                                             \r"
     ]
    },
    {
     "name": "stdout",
     "output_type": "stream",
     "text": [
      "Moviepy - Done !\n",
      "Moviepy - video ready /home/danield/AnyoneAI/Curso/final_project/videos_data_aug/vidaug/data/trailer_aug/tt4175088_0054_aug_3.mp4\n",
      "Moviepy - Building video /home/danield/AnyoneAI/Curso/final_project/videos_data_aug/vidaug/data/trailer_aug/tt4175088_0054_aug_4.mp4.\n",
      "Moviepy - Writing video /home/danield/AnyoneAI/Curso/final_project/videos_data_aug/vidaug/data/trailer_aug/tt4175088_0054_aug_4.mp4\n",
      "\n"
     ]
    },
    {
     "name": "stderr",
     "output_type": "stream",
     "text": [
      "                                                            \r"
     ]
    },
    {
     "name": "stdout",
     "output_type": "stream",
     "text": [
      "Moviepy - Done !\n",
      "Moviepy - video ready /home/danield/AnyoneAI/Curso/final_project/videos_data_aug/vidaug/data/trailer_aug/tt4175088_0054_aug_4.mp4\n",
      "Moviepy - Building video /home/danield/AnyoneAI/Curso/final_project/videos_data_aug/vidaug/data/trailer_aug/tt4175088_0054_aug_5.mp4.\n",
      "Moviepy - Writing video /home/danield/AnyoneAI/Curso/final_project/videos_data_aug/vidaug/data/trailer_aug/tt4175088_0054_aug_5.mp4\n",
      "\n"
     ]
    },
    {
     "name": "stderr",
     "output_type": "stream",
     "text": [
      "                                                            \r"
     ]
    },
    {
     "name": "stdout",
     "output_type": "stream",
     "text": [
      "Moviepy - Done !\n",
      "Moviepy - video ready /home/danield/AnyoneAI/Curso/final_project/videos_data_aug/vidaug/data/trailer_aug/tt4175088_0054_aug_5.mp4\n",
      "Moviepy - Building video /home/danield/AnyoneAI/Curso/final_project/videos_data_aug/vidaug/data/trailer_aug/tt4175088_0054_aug_6.mp4.\n",
      "Moviepy - Writing video /home/danield/AnyoneAI/Curso/final_project/videos_data_aug/vidaug/data/trailer_aug/tt4175088_0054_aug_6.mp4\n",
      "\n"
     ]
    },
    {
     "name": "stderr",
     "output_type": "stream",
     "text": [
      "                                                            \r"
     ]
    },
    {
     "name": "stdout",
     "output_type": "stream",
     "text": [
      "Moviepy - Done !\n",
      "Moviepy - video ready /home/danield/AnyoneAI/Curso/final_project/videos_data_aug/vidaug/data/trailer_aug/tt4175088_0054_aug_6.mp4\n",
      "Moviepy - Building video /home/danield/AnyoneAI/Curso/final_project/videos_data_aug/vidaug/data/trailer_aug/tt4175088_0054_aug_7.mp4.\n",
      "Moviepy - Writing video /home/danield/AnyoneAI/Curso/final_project/videos_data_aug/vidaug/data/trailer_aug/tt4175088_0054_aug_7.mp4\n",
      "\n"
     ]
    },
    {
     "name": "stderr",
     "output_type": "stream",
     "text": [
      "                                                            \r"
     ]
    },
    {
     "name": "stdout",
     "output_type": "stream",
     "text": [
      "Moviepy - Done !\n",
      "Moviepy - video ready /home/danield/AnyoneAI/Curso/final_project/videos_data_aug/vidaug/data/trailer_aug/tt4175088_0054_aug_7.mp4\n",
      "processing video 11/853\n",
      "Moviepy - Building video /home/danield/AnyoneAI/Curso/final_project/videos_data_aug/vidaug/data/trailer_aug/tt1327618_0004_aug_0.mp4.\n",
      "Moviepy - Writing video /home/danield/AnyoneAI/Curso/final_project/videos_data_aug/vidaug/data/trailer_aug/tt1327618_0004_aug_0.mp4\n",
      "\n"
     ]
    },
    {
     "name": "stderr",
     "output_type": "stream",
     "text": [
      "                                                            \r"
     ]
    },
    {
     "name": "stdout",
     "output_type": "stream",
     "text": [
      "Moviepy - Done !\n",
      "Moviepy - video ready /home/danield/AnyoneAI/Curso/final_project/videos_data_aug/vidaug/data/trailer_aug/tt1327618_0004_aug_0.mp4\n",
      "Moviepy - Building video /home/danield/AnyoneAI/Curso/final_project/videos_data_aug/vidaug/data/trailer_aug/tt1327618_0004_aug_1.mp4.\n",
      "Moviepy - Writing video /home/danield/AnyoneAI/Curso/final_project/videos_data_aug/vidaug/data/trailer_aug/tt1327618_0004_aug_1.mp4\n",
      "\n"
     ]
    },
    {
     "name": "stderr",
     "output_type": "stream",
     "text": [
      "                                                            \r"
     ]
    },
    {
     "name": "stdout",
     "output_type": "stream",
     "text": [
      "Moviepy - Done !\n",
      "Moviepy - video ready /home/danield/AnyoneAI/Curso/final_project/videos_data_aug/vidaug/data/trailer_aug/tt1327618_0004_aug_1.mp4\n",
      "Moviepy - Building video /home/danield/AnyoneAI/Curso/final_project/videos_data_aug/vidaug/data/trailer_aug/tt1327618_0004_aug_2.mp4.\n",
      "Moviepy - Writing video /home/danield/AnyoneAI/Curso/final_project/videos_data_aug/vidaug/data/trailer_aug/tt1327618_0004_aug_2.mp4\n",
      "\n"
     ]
    },
    {
     "name": "stderr",
     "output_type": "stream",
     "text": [
      "                                                            \r"
     ]
    },
    {
     "name": "stdout",
     "output_type": "stream",
     "text": [
      "Moviepy - Done !\n",
      "Moviepy - video ready /home/danield/AnyoneAI/Curso/final_project/videos_data_aug/vidaug/data/trailer_aug/tt1327618_0004_aug_2.mp4\n",
      "Moviepy - Building video /home/danield/AnyoneAI/Curso/final_project/videos_data_aug/vidaug/data/trailer_aug/tt1327618_0004_aug_3.mp4.\n",
      "Moviepy - Writing video /home/danield/AnyoneAI/Curso/final_project/videos_data_aug/vidaug/data/trailer_aug/tt1327618_0004_aug_3.mp4\n",
      "\n"
     ]
    },
    {
     "name": "stderr",
     "output_type": "stream",
     "text": [
      "                                                             \r"
     ]
    },
    {
     "name": "stdout",
     "output_type": "stream",
     "text": [
      "Moviepy - Done !\n",
      "Moviepy - video ready /home/danield/AnyoneAI/Curso/final_project/videos_data_aug/vidaug/data/trailer_aug/tt1327618_0004_aug_3.mp4\n",
      "Moviepy - Building video /home/danield/AnyoneAI/Curso/final_project/videos_data_aug/vidaug/data/trailer_aug/tt1327618_0004_aug_4.mp4.\n",
      "Moviepy - Writing video /home/danield/AnyoneAI/Curso/final_project/videos_data_aug/vidaug/data/trailer_aug/tt1327618_0004_aug_4.mp4\n",
      "\n"
     ]
    },
    {
     "name": "stderr",
     "output_type": "stream",
     "text": [
      "                                                            \r"
     ]
    },
    {
     "name": "stdout",
     "output_type": "stream",
     "text": [
      "Moviepy - Done !\n",
      "Moviepy - video ready /home/danield/AnyoneAI/Curso/final_project/videos_data_aug/vidaug/data/trailer_aug/tt1327618_0004_aug_4.mp4\n",
      "Moviepy - Building video /home/danield/AnyoneAI/Curso/final_project/videos_data_aug/vidaug/data/trailer_aug/tt1327618_0004_aug_5.mp4.\n",
      "Moviepy - Writing video /home/danield/AnyoneAI/Curso/final_project/videos_data_aug/vidaug/data/trailer_aug/tt1327618_0004_aug_5.mp4\n",
      "\n"
     ]
    },
    {
     "name": "stderr",
     "output_type": "stream",
     "text": [
      "                                                            \r"
     ]
    },
    {
     "name": "stdout",
     "output_type": "stream",
     "text": [
      "Moviepy - Done !\n",
      "Moviepy - video ready /home/danield/AnyoneAI/Curso/final_project/videos_data_aug/vidaug/data/trailer_aug/tt1327618_0004_aug_5.mp4\n",
      "Moviepy - Building video /home/danield/AnyoneAI/Curso/final_project/videos_data_aug/vidaug/data/trailer_aug/tt1327618_0004_aug_6.mp4.\n",
      "Moviepy - Writing video /home/danield/AnyoneAI/Curso/final_project/videos_data_aug/vidaug/data/trailer_aug/tt1327618_0004_aug_6.mp4\n",
      "\n"
     ]
    },
    {
     "name": "stderr",
     "output_type": "stream",
     "text": [
      "                                                            \r"
     ]
    },
    {
     "name": "stdout",
     "output_type": "stream",
     "text": [
      "Moviepy - Done !\n",
      "Moviepy - video ready /home/danield/AnyoneAI/Curso/final_project/videos_data_aug/vidaug/data/trailer_aug/tt1327618_0004_aug_6.mp4\n",
      "Moviepy - Building video /home/danield/AnyoneAI/Curso/final_project/videos_data_aug/vidaug/data/trailer_aug/tt1327618_0004_aug_7.mp4.\n",
      "Moviepy - Writing video /home/danield/AnyoneAI/Curso/final_project/videos_data_aug/vidaug/data/trailer_aug/tt1327618_0004_aug_7.mp4\n",
      "\n"
     ]
    },
    {
     "name": "stderr",
     "output_type": "stream",
     "text": [
      "                                                           \r"
     ]
    },
    {
     "name": "stdout",
     "output_type": "stream",
     "text": [
      "Moviepy - Done !\n",
      "Moviepy - video ready /home/danield/AnyoneAI/Curso/final_project/videos_data_aug/vidaug/data/trailer_aug/tt1327618_0004_aug_7.mp4\n",
      "processing video 12/853\n",
      "Moviepy - Building video /home/danield/AnyoneAI/Curso/final_project/videos_data_aug/vidaug/data/trailer_aug/tt1619030_0039_aug_0.mp4.\n",
      "Moviepy - Writing video /home/danield/AnyoneAI/Curso/final_project/videos_data_aug/vidaug/data/trailer_aug/tt1619030_0039_aug_0.mp4\n",
      "\n"
     ]
    },
    {
     "name": "stderr",
     "output_type": "stream",
     "text": [
      "                                                             \r"
     ]
    },
    {
     "name": "stdout",
     "output_type": "stream",
     "text": [
      "Moviepy - Done !\n",
      "Moviepy - video ready /home/danield/AnyoneAI/Curso/final_project/videos_data_aug/vidaug/data/trailer_aug/tt1619030_0039_aug_0.mp4\n",
      "Moviepy - Building video /home/danield/AnyoneAI/Curso/final_project/videos_data_aug/vidaug/data/trailer_aug/tt1619030_0039_aug_1.mp4.\n",
      "Moviepy - Writing video /home/danield/AnyoneAI/Curso/final_project/videos_data_aug/vidaug/data/trailer_aug/tt1619030_0039_aug_1.mp4\n",
      "\n"
     ]
    },
    {
     "name": "stderr",
     "output_type": "stream",
     "text": [
      "                                                             \r"
     ]
    },
    {
     "name": "stdout",
     "output_type": "stream",
     "text": [
      "Moviepy - Done !\n",
      "Moviepy - video ready /home/danield/AnyoneAI/Curso/final_project/videos_data_aug/vidaug/data/trailer_aug/tt1619030_0039_aug_1.mp4\n",
      "Moviepy - Building video /home/danield/AnyoneAI/Curso/final_project/videos_data_aug/vidaug/data/trailer_aug/tt1619030_0039_aug_2.mp4.\n",
      "Moviepy - Writing video /home/danield/AnyoneAI/Curso/final_project/videos_data_aug/vidaug/data/trailer_aug/tt1619030_0039_aug_2.mp4\n",
      "\n"
     ]
    },
    {
     "name": "stderr",
     "output_type": "stream",
     "text": [
      "                                                             \r"
     ]
    },
    {
     "name": "stdout",
     "output_type": "stream",
     "text": [
      "Moviepy - Done !\n",
      "Moviepy - video ready /home/danield/AnyoneAI/Curso/final_project/videos_data_aug/vidaug/data/trailer_aug/tt1619030_0039_aug_2.mp4\n",
      "Moviepy - Building video /home/danield/AnyoneAI/Curso/final_project/videos_data_aug/vidaug/data/trailer_aug/tt1619030_0039_aug_3.mp4.\n",
      "Moviepy - Writing video /home/danield/AnyoneAI/Curso/final_project/videos_data_aug/vidaug/data/trailer_aug/tt1619030_0039_aug_3.mp4\n",
      "\n"
     ]
    },
    {
     "name": "stderr",
     "output_type": "stream",
     "text": [
      "                                                   "
     ]
    },
    {
     "name": "stdout",
     "output_type": "stream",
     "text": [
      "Moviepy - Done !\n",
      "Moviepy - video ready /home/danield/AnyoneAI/Curso/final_project/videos_data_aug/vidaug/data/trailer_aug/tt1619030_0039_aug_3.mp4\n"
     ]
    },
    {
     "name": "stderr",
     "output_type": "stream",
     "text": [
      "\r"
     ]
    },
    {
     "name": "stdout",
     "output_type": "stream",
     "text": [
      "Moviepy - Building video /home/danield/AnyoneAI/Curso/final_project/videos_data_aug/vidaug/data/trailer_aug/tt1619030_0039_aug_4.mp4.\n",
      "Moviepy - Writing video /home/danield/AnyoneAI/Curso/final_project/videos_data_aug/vidaug/data/trailer_aug/tt1619030_0039_aug_4.mp4\n",
      "\n"
     ]
    },
    {
     "name": "stderr",
     "output_type": "stream",
     "text": [
      "                                                             \r"
     ]
    },
    {
     "name": "stdout",
     "output_type": "stream",
     "text": [
      "Moviepy - Done !\n",
      "Moviepy - video ready /home/danield/AnyoneAI/Curso/final_project/videos_data_aug/vidaug/data/trailer_aug/tt1619030_0039_aug_4.mp4\n",
      "Moviepy - Building video /home/danield/AnyoneAI/Curso/final_project/videos_data_aug/vidaug/data/trailer_aug/tt1619030_0039_aug_5.mp4.\n",
      "Moviepy - Writing video /home/danield/AnyoneAI/Curso/final_project/videos_data_aug/vidaug/data/trailer_aug/tt1619030_0039_aug_5.mp4\n",
      "\n"
     ]
    },
    {
     "name": "stderr",
     "output_type": "stream",
     "text": [
      "                                                             \r"
     ]
    },
    {
     "name": "stdout",
     "output_type": "stream",
     "text": [
      "Moviepy - Done !\n",
      "Moviepy - video ready /home/danield/AnyoneAI/Curso/final_project/videos_data_aug/vidaug/data/trailer_aug/tt1619030_0039_aug_5.mp4\n",
      "Moviepy - Building video /home/danield/AnyoneAI/Curso/final_project/videos_data_aug/vidaug/data/trailer_aug/tt1619030_0039_aug_6.mp4.\n",
      "Moviepy - Writing video /home/danield/AnyoneAI/Curso/final_project/videos_data_aug/vidaug/data/trailer_aug/tt1619030_0039_aug_6.mp4\n",
      "\n"
     ]
    },
    {
     "name": "stderr",
     "output_type": "stream",
     "text": [
      "                                                             \r"
     ]
    },
    {
     "name": "stdout",
     "output_type": "stream",
     "text": [
      "Moviepy - Done !\n",
      "Moviepy - video ready /home/danield/AnyoneAI/Curso/final_project/videos_data_aug/vidaug/data/trailer_aug/tt1619030_0039_aug_6.mp4\n",
      "Moviepy - Building video /home/danield/AnyoneAI/Curso/final_project/videos_data_aug/vidaug/data/trailer_aug/tt1619030_0039_aug_7.mp4.\n",
      "Moviepy - Writing video /home/danield/AnyoneAI/Curso/final_project/videos_data_aug/vidaug/data/trailer_aug/tt1619030_0039_aug_7.mp4\n",
      "\n"
     ]
    },
    {
     "name": "stderr",
     "output_type": "stream",
     "text": [
      "                                                   "
     ]
    },
    {
     "name": "stdout",
     "output_type": "stream",
     "text": [
      "Moviepy - Done !\n",
      "Moviepy - video ready /home/danield/AnyoneAI/Curso/final_project/videos_data_aug/vidaug/data/trailer_aug/tt1619030_0039_aug_7.mp4\n"
     ]
    },
    {
     "name": "stderr",
     "output_type": "stream",
     "text": [
      "\r"
     ]
    },
    {
     "name": "stdout",
     "output_type": "stream",
     "text": [
      "processing video 13/853\n",
      "Moviepy - Building video /home/danield/AnyoneAI/Curso/final_project/videos_data_aug/vidaug/data/trailer_aug/tt1592855_0044_aug_0.mp4.\n",
      "Moviepy - Writing video /home/danield/AnyoneAI/Curso/final_project/videos_data_aug/vidaug/data/trailer_aug/tt1592855_0044_aug_0.mp4\n",
      "\n"
     ]
    },
    {
     "name": "stderr",
     "output_type": "stream",
     "text": [
      "                                                             \r"
     ]
    },
    {
     "name": "stdout",
     "output_type": "stream",
     "text": [
      "Moviepy - Done !\n",
      "Moviepy - video ready /home/danield/AnyoneAI/Curso/final_project/videos_data_aug/vidaug/data/trailer_aug/tt1592855_0044_aug_0.mp4\n",
      "Moviepy - Building video /home/danield/AnyoneAI/Curso/final_project/videos_data_aug/vidaug/data/trailer_aug/tt1592855_0044_aug_1.mp4.\n",
      "Moviepy - Writing video /home/danield/AnyoneAI/Curso/final_project/videos_data_aug/vidaug/data/trailer_aug/tt1592855_0044_aug_1.mp4\n",
      "\n"
     ]
    },
    {
     "name": "stderr",
     "output_type": "stream",
     "text": [
      "                                                             \r"
     ]
    },
    {
     "name": "stdout",
     "output_type": "stream",
     "text": [
      "Moviepy - Done !\n",
      "Moviepy - video ready /home/danield/AnyoneAI/Curso/final_project/videos_data_aug/vidaug/data/trailer_aug/tt1592855_0044_aug_1.mp4\n",
      "Moviepy - Building video /home/danield/AnyoneAI/Curso/final_project/videos_data_aug/vidaug/data/trailer_aug/tt1592855_0044_aug_2.mp4.\n",
      "Moviepy - Writing video /home/danield/AnyoneAI/Curso/final_project/videos_data_aug/vidaug/data/trailer_aug/tt1592855_0044_aug_2.mp4\n",
      "\n"
     ]
    },
    {
     "name": "stderr",
     "output_type": "stream",
     "text": [
      "                                                             \r"
     ]
    },
    {
     "name": "stdout",
     "output_type": "stream",
     "text": [
      "Moviepy - Done !\n",
      "Moviepy - video ready /home/danield/AnyoneAI/Curso/final_project/videos_data_aug/vidaug/data/trailer_aug/tt1592855_0044_aug_2.mp4\n",
      "Moviepy - Building video /home/danield/AnyoneAI/Curso/final_project/videos_data_aug/vidaug/data/trailer_aug/tt1592855_0044_aug_3.mp4.\n",
      "Moviepy - Writing video /home/danield/AnyoneAI/Curso/final_project/videos_data_aug/vidaug/data/trailer_aug/tt1592855_0044_aug_3.mp4\n",
      "\n"
     ]
    },
    {
     "name": "stderr",
     "output_type": "stream",
     "text": [
      "                                                   "
     ]
    },
    {
     "name": "stdout",
     "output_type": "stream",
     "text": [
      "Moviepy - Done !\n",
      "Moviepy - video ready /home/danield/AnyoneAI/Curso/final_project/videos_data_aug/vidaug/data/trailer_aug/tt1592855_0044_aug_3.mp4\n"
     ]
    },
    {
     "name": "stderr",
     "output_type": "stream",
     "text": [
      "\r"
     ]
    },
    {
     "name": "stdout",
     "output_type": "stream",
     "text": [
      "Moviepy - Building video /home/danield/AnyoneAI/Curso/final_project/videos_data_aug/vidaug/data/trailer_aug/tt1592855_0044_aug_4.mp4.\n",
      "Moviepy - Writing video /home/danield/AnyoneAI/Curso/final_project/videos_data_aug/vidaug/data/trailer_aug/tt1592855_0044_aug_4.mp4\n",
      "\n"
     ]
    },
    {
     "name": "stderr",
     "output_type": "stream",
     "text": [
      "                                                             \r"
     ]
    },
    {
     "name": "stdout",
     "output_type": "stream",
     "text": [
      "Moviepy - Done !\n",
      "Moviepy - video ready /home/danield/AnyoneAI/Curso/final_project/videos_data_aug/vidaug/data/trailer_aug/tt1592855_0044_aug_4.mp4\n",
      "Moviepy - Building video /home/danield/AnyoneAI/Curso/final_project/videos_data_aug/vidaug/data/trailer_aug/tt1592855_0044_aug_5.mp4.\n",
      "Moviepy - Writing video /home/danield/AnyoneAI/Curso/final_project/videos_data_aug/vidaug/data/trailer_aug/tt1592855_0044_aug_5.mp4\n",
      "\n"
     ]
    },
    {
     "name": "stderr",
     "output_type": "stream",
     "text": [
      "                                                             \r"
     ]
    },
    {
     "name": "stdout",
     "output_type": "stream",
     "text": [
      "Moviepy - Done !\n",
      "Moviepy - video ready /home/danield/AnyoneAI/Curso/final_project/videos_data_aug/vidaug/data/trailer_aug/tt1592855_0044_aug_5.mp4\n",
      "Moviepy - Building video /home/danield/AnyoneAI/Curso/final_project/videos_data_aug/vidaug/data/trailer_aug/tt1592855_0044_aug_6.mp4.\n",
      "Moviepy - Writing video /home/danield/AnyoneAI/Curso/final_project/videos_data_aug/vidaug/data/trailer_aug/tt1592855_0044_aug_6.mp4\n",
      "\n"
     ]
    },
    {
     "name": "stderr",
     "output_type": "stream",
     "text": [
      "                                                             \r"
     ]
    },
    {
     "name": "stdout",
     "output_type": "stream",
     "text": [
      "Moviepy - Done !\n",
      "Moviepy - video ready /home/danield/AnyoneAI/Curso/final_project/videos_data_aug/vidaug/data/trailer_aug/tt1592855_0044_aug_6.mp4\n",
      "Moviepy - Building video /home/danield/AnyoneAI/Curso/final_project/videos_data_aug/vidaug/data/trailer_aug/tt1592855_0044_aug_7.mp4.\n",
      "Moviepy - Writing video /home/danield/AnyoneAI/Curso/final_project/videos_data_aug/vidaug/data/trailer_aug/tt1592855_0044_aug_7.mp4\n",
      "\n"
     ]
    },
    {
     "name": "stderr",
     "output_type": "stream",
     "text": [
      "                                                   "
     ]
    },
    {
     "name": "stdout",
     "output_type": "stream",
     "text": [
      "Moviepy - Done !\n",
      "Moviepy - video ready /home/danield/AnyoneAI/Curso/final_project/videos_data_aug/vidaug/data/trailer_aug/tt1592855_0044_aug_7.mp4\n"
     ]
    },
    {
     "name": "stderr",
     "output_type": "stream",
     "text": [
      "\r"
     ]
    },
    {
     "name": "stdout",
     "output_type": "stream",
     "text": [
      "processing video 14/853\n",
      "Moviepy - Building video /home/danield/AnyoneAI/Curso/final_project/videos_data_aug/vidaug/data/trailer_aug/tt1756447_0018_aug_0.mp4.\n",
      "Moviepy - Writing video /home/danield/AnyoneAI/Curso/final_project/videos_data_aug/vidaug/data/trailer_aug/tt1756447_0018_aug_0.mp4\n",
      "\n"
     ]
    },
    {
     "name": "stderr",
     "output_type": "stream",
     "text": [
      "                                                            \r"
     ]
    },
    {
     "name": "stdout",
     "output_type": "stream",
     "text": [
      "Moviepy - Done !\n",
      "Moviepy - video ready /home/danield/AnyoneAI/Curso/final_project/videos_data_aug/vidaug/data/trailer_aug/tt1756447_0018_aug_0.mp4\n",
      "Moviepy - Building video /home/danield/AnyoneAI/Curso/final_project/videos_data_aug/vidaug/data/trailer_aug/tt1756447_0018_aug_1.mp4.\n",
      "Moviepy - Writing video /home/danield/AnyoneAI/Curso/final_project/videos_data_aug/vidaug/data/trailer_aug/tt1756447_0018_aug_1.mp4\n",
      "\n"
     ]
    },
    {
     "name": "stderr",
     "output_type": "stream",
     "text": [
      "                                                            \r"
     ]
    },
    {
     "name": "stdout",
     "output_type": "stream",
     "text": [
      "Moviepy - Done !\n",
      "Moviepy - video ready /home/danield/AnyoneAI/Curso/final_project/videos_data_aug/vidaug/data/trailer_aug/tt1756447_0018_aug_1.mp4\n",
      "Moviepy - Building video /home/danield/AnyoneAI/Curso/final_project/videos_data_aug/vidaug/data/trailer_aug/tt1756447_0018_aug_2.mp4.\n",
      "Moviepy - Writing video /home/danield/AnyoneAI/Curso/final_project/videos_data_aug/vidaug/data/trailer_aug/tt1756447_0018_aug_2.mp4\n",
      "\n"
     ]
    },
    {
     "name": "stderr",
     "output_type": "stream",
     "text": [
      "                                                            \r"
     ]
    },
    {
     "name": "stdout",
     "output_type": "stream",
     "text": [
      "Moviepy - Done !\n",
      "Moviepy - video ready /home/danield/AnyoneAI/Curso/final_project/videos_data_aug/vidaug/data/trailer_aug/tt1756447_0018_aug_2.mp4\n",
      "Moviepy - Building video /home/danield/AnyoneAI/Curso/final_project/videos_data_aug/vidaug/data/trailer_aug/tt1756447_0018_aug_3.mp4.\n",
      "Moviepy - Writing video /home/danield/AnyoneAI/Curso/final_project/videos_data_aug/vidaug/data/trailer_aug/tt1756447_0018_aug_3.mp4\n",
      "\n"
     ]
    },
    {
     "name": "stderr",
     "output_type": "stream",
     "text": [
      "                                                            \r"
     ]
    },
    {
     "name": "stdout",
     "output_type": "stream",
     "text": [
      "Moviepy - Done !\n",
      "Moviepy - video ready /home/danield/AnyoneAI/Curso/final_project/videos_data_aug/vidaug/data/trailer_aug/tt1756447_0018_aug_3.mp4\n",
      "Moviepy - Building video /home/danield/AnyoneAI/Curso/final_project/videos_data_aug/vidaug/data/trailer_aug/tt1756447_0018_aug_4.mp4.\n",
      "Moviepy - Writing video /home/danield/AnyoneAI/Curso/final_project/videos_data_aug/vidaug/data/trailer_aug/tt1756447_0018_aug_4.mp4\n",
      "\n"
     ]
    },
    {
     "name": "stderr",
     "output_type": "stream",
     "text": [
      "                                                            \r"
     ]
    },
    {
     "name": "stdout",
     "output_type": "stream",
     "text": [
      "Moviepy - Done !\n",
      "Moviepy - video ready /home/danield/AnyoneAI/Curso/final_project/videos_data_aug/vidaug/data/trailer_aug/tt1756447_0018_aug_4.mp4\n",
      "Moviepy - Building video /home/danield/AnyoneAI/Curso/final_project/videos_data_aug/vidaug/data/trailer_aug/tt1756447_0018_aug_5.mp4.\n",
      "Moviepy - Writing video /home/danield/AnyoneAI/Curso/final_project/videos_data_aug/vidaug/data/trailer_aug/tt1756447_0018_aug_5.mp4\n",
      "\n"
     ]
    },
    {
     "name": "stderr",
     "output_type": "stream",
     "text": [
      "                                                            \r"
     ]
    },
    {
     "name": "stdout",
     "output_type": "stream",
     "text": [
      "Moviepy - Done !\n",
      "Moviepy - video ready /home/danield/AnyoneAI/Curso/final_project/videos_data_aug/vidaug/data/trailer_aug/tt1756447_0018_aug_5.mp4\n",
      "Moviepy - Building video /home/danield/AnyoneAI/Curso/final_project/videos_data_aug/vidaug/data/trailer_aug/tt1756447_0018_aug_6.mp4.\n",
      "Moviepy - Writing video /home/danield/AnyoneAI/Curso/final_project/videos_data_aug/vidaug/data/trailer_aug/tt1756447_0018_aug_6.mp4\n",
      "\n"
     ]
    },
    {
     "name": "stderr",
     "output_type": "stream",
     "text": [
      "                                                            \r"
     ]
    },
    {
     "name": "stdout",
     "output_type": "stream",
     "text": [
      "Moviepy - Done !\n",
      "Moviepy - video ready /home/danield/AnyoneAI/Curso/final_project/videos_data_aug/vidaug/data/trailer_aug/tt1756447_0018_aug_6.mp4\n",
      "Moviepy - Building video /home/danield/AnyoneAI/Curso/final_project/videos_data_aug/vidaug/data/trailer_aug/tt1756447_0018_aug_7.mp4.\n",
      "Moviepy - Writing video /home/danield/AnyoneAI/Curso/final_project/videos_data_aug/vidaug/data/trailer_aug/tt1756447_0018_aug_7.mp4\n",
      "\n"
     ]
    },
    {
     "name": "stderr",
     "output_type": "stream",
     "text": [
      "                                                           \r"
     ]
    },
    {
     "name": "stdout",
     "output_type": "stream",
     "text": [
      "Moviepy - Done !\n",
      "Moviepy - video ready /home/danield/AnyoneAI/Curso/final_project/videos_data_aug/vidaug/data/trailer_aug/tt1756447_0018_aug_7.mp4\n",
      "processing video 15/853\n",
      "Moviepy - Building video /home/danield/AnyoneAI/Curso/final_project/videos_data_aug/vidaug/data/trailer_aug/tt1560969_0074_aug_0.mp4.\n",
      "Moviepy - Writing video /home/danield/AnyoneAI/Curso/final_project/videos_data_aug/vidaug/data/trailer_aug/tt1560969_0074_aug_0.mp4\n",
      "\n"
     ]
    },
    {
     "name": "stderr",
     "output_type": "stream",
     "text": [
      "                                                            \r"
     ]
    },
    {
     "name": "stdout",
     "output_type": "stream",
     "text": [
      "Moviepy - Done !\n",
      "Moviepy - video ready /home/danield/AnyoneAI/Curso/final_project/videos_data_aug/vidaug/data/trailer_aug/tt1560969_0074_aug_0.mp4\n",
      "Moviepy - Building video /home/danield/AnyoneAI/Curso/final_project/videos_data_aug/vidaug/data/trailer_aug/tt1560969_0074_aug_1.mp4.\n",
      "Moviepy - Writing video /home/danield/AnyoneAI/Curso/final_project/videos_data_aug/vidaug/data/trailer_aug/tt1560969_0074_aug_1.mp4\n",
      "\n"
     ]
    },
    {
     "name": "stderr",
     "output_type": "stream",
     "text": [
      "                                                            \r"
     ]
    },
    {
     "name": "stdout",
     "output_type": "stream",
     "text": [
      "Moviepy - Done !\n",
      "Moviepy - video ready /home/danield/AnyoneAI/Curso/final_project/videos_data_aug/vidaug/data/trailer_aug/tt1560969_0074_aug_1.mp4\n",
      "Moviepy - Building video /home/danield/AnyoneAI/Curso/final_project/videos_data_aug/vidaug/data/trailer_aug/tt1560969_0074_aug_2.mp4.\n",
      "Moviepy - Writing video /home/danield/AnyoneAI/Curso/final_project/videos_data_aug/vidaug/data/trailer_aug/tt1560969_0074_aug_2.mp4\n",
      "\n"
     ]
    },
    {
     "name": "stderr",
     "output_type": "stream",
     "text": [
      "                                                           \r"
     ]
    },
    {
     "name": "stdout",
     "output_type": "stream",
     "text": [
      "Moviepy - Done !\n",
      "Moviepy - video ready /home/danield/AnyoneAI/Curso/final_project/videos_data_aug/vidaug/data/trailer_aug/tt1560969_0074_aug_2.mp4\n",
      "Moviepy - Building video /home/danield/AnyoneAI/Curso/final_project/videos_data_aug/vidaug/data/trailer_aug/tt1560969_0074_aug_3.mp4.\n",
      "Moviepy - Writing video /home/danield/AnyoneAI/Curso/final_project/videos_data_aug/vidaug/data/trailer_aug/tt1560969_0074_aug_3.mp4\n",
      "\n"
     ]
    },
    {
     "name": "stderr",
     "output_type": "stream",
     "text": [
      "                                                             \r"
     ]
    },
    {
     "name": "stdout",
     "output_type": "stream",
     "text": [
      "Moviepy - Done !\n",
      "Moviepy - video ready /home/danield/AnyoneAI/Curso/final_project/videos_data_aug/vidaug/data/trailer_aug/tt1560969_0074_aug_3.mp4\n",
      "Moviepy - Building video /home/danield/AnyoneAI/Curso/final_project/videos_data_aug/vidaug/data/trailer_aug/tt1560969_0074_aug_4.mp4.\n",
      "Moviepy - Writing video /home/danield/AnyoneAI/Curso/final_project/videos_data_aug/vidaug/data/trailer_aug/tt1560969_0074_aug_4.mp4\n",
      "\n"
     ]
    },
    {
     "name": "stderr",
     "output_type": "stream",
     "text": [
      "                                                            \r"
     ]
    },
    {
     "name": "stdout",
     "output_type": "stream",
     "text": [
      "Moviepy - Done !\n",
      "Moviepy - video ready /home/danield/AnyoneAI/Curso/final_project/videos_data_aug/vidaug/data/trailer_aug/tt1560969_0074_aug_4.mp4\n",
      "Moviepy - Building video /home/danield/AnyoneAI/Curso/final_project/videos_data_aug/vidaug/data/trailer_aug/tt1560969_0074_aug_5.mp4.\n",
      "Moviepy - Writing video /home/danield/AnyoneAI/Curso/final_project/videos_data_aug/vidaug/data/trailer_aug/tt1560969_0074_aug_5.mp4\n",
      "\n"
     ]
    },
    {
     "name": "stderr",
     "output_type": "stream",
     "text": [
      "                                                            \r"
     ]
    },
    {
     "name": "stdout",
     "output_type": "stream",
     "text": [
      "Moviepy - Done !\n",
      "Moviepy - video ready /home/danield/AnyoneAI/Curso/final_project/videos_data_aug/vidaug/data/trailer_aug/tt1560969_0074_aug_5.mp4\n",
      "Moviepy - Building video /home/danield/AnyoneAI/Curso/final_project/videos_data_aug/vidaug/data/trailer_aug/tt1560969_0074_aug_6.mp4.\n",
      "Moviepy - Writing video /home/danield/AnyoneAI/Curso/final_project/videos_data_aug/vidaug/data/trailer_aug/tt1560969_0074_aug_6.mp4\n",
      "\n"
     ]
    },
    {
     "name": "stderr",
     "output_type": "stream",
     "text": [
      "                                                            \r"
     ]
    },
    {
     "name": "stdout",
     "output_type": "stream",
     "text": [
      "Moviepy - Done !\n",
      "Moviepy - video ready /home/danield/AnyoneAI/Curso/final_project/videos_data_aug/vidaug/data/trailer_aug/tt1560969_0074_aug_6.mp4\n",
      "Moviepy - Building video /home/danield/AnyoneAI/Curso/final_project/videos_data_aug/vidaug/data/trailer_aug/tt1560969_0074_aug_7.mp4.\n",
      "Moviepy - Writing video /home/danield/AnyoneAI/Curso/final_project/videos_data_aug/vidaug/data/trailer_aug/tt1560969_0074_aug_7.mp4\n",
      "\n"
     ]
    },
    {
     "name": "stderr",
     "output_type": "stream",
     "text": [
      "                                                           \r"
     ]
    },
    {
     "name": "stdout",
     "output_type": "stream",
     "text": [
      "Moviepy - Done !\n",
      "Moviepy - video ready /home/danield/AnyoneAI/Curso/final_project/videos_data_aug/vidaug/data/trailer_aug/tt1560969_0074_aug_7.mp4\n",
      "processing video 16/853\n",
      "Moviepy - Building video /home/danield/AnyoneAI/Curso/final_project/videos_data_aug/vidaug/data/trailer_aug/tt2006810_0023_aug_0.mp4.\n",
      "Moviepy - Writing video /home/danield/AnyoneAI/Curso/final_project/videos_data_aug/vidaug/data/trailer_aug/tt2006810_0023_aug_0.mp4\n",
      "\n"
     ]
    },
    {
     "name": "stderr",
     "output_type": "stream",
     "text": [
      "                                                            \r"
     ]
    },
    {
     "name": "stdout",
     "output_type": "stream",
     "text": [
      "Moviepy - Done !\n",
      "Moviepy - video ready /home/danield/AnyoneAI/Curso/final_project/videos_data_aug/vidaug/data/trailer_aug/tt2006810_0023_aug_0.mp4\n",
      "Moviepy - Building video /home/danield/AnyoneAI/Curso/final_project/videos_data_aug/vidaug/data/trailer_aug/tt2006810_0023_aug_1.mp4.\n",
      "Moviepy - Writing video /home/danield/AnyoneAI/Curso/final_project/videos_data_aug/vidaug/data/trailer_aug/tt2006810_0023_aug_1.mp4\n",
      "\n"
     ]
    },
    {
     "name": "stderr",
     "output_type": "stream",
     "text": [
      "                                                            \r"
     ]
    },
    {
     "name": "stdout",
     "output_type": "stream",
     "text": [
      "Moviepy - Done !\n",
      "Moviepy - video ready /home/danield/AnyoneAI/Curso/final_project/videos_data_aug/vidaug/data/trailer_aug/tt2006810_0023_aug_1.mp4\n",
      "Moviepy - Building video /home/danield/AnyoneAI/Curso/final_project/videos_data_aug/vidaug/data/trailer_aug/tt2006810_0023_aug_2.mp4.\n",
      "Moviepy - Writing video /home/danield/AnyoneAI/Curso/final_project/videos_data_aug/vidaug/data/trailer_aug/tt2006810_0023_aug_2.mp4\n",
      "\n"
     ]
    },
    {
     "name": "stderr",
     "output_type": "stream",
     "text": [
      "                                                            \r"
     ]
    },
    {
     "name": "stdout",
     "output_type": "stream",
     "text": [
      "Moviepy - Done !\n",
      "Moviepy - video ready /home/danield/AnyoneAI/Curso/final_project/videos_data_aug/vidaug/data/trailer_aug/tt2006810_0023_aug_2.mp4\n",
      "Moviepy - Building video /home/danield/AnyoneAI/Curso/final_project/videos_data_aug/vidaug/data/trailer_aug/tt2006810_0023_aug_3.mp4.\n",
      "Moviepy - Writing video /home/danield/AnyoneAI/Curso/final_project/videos_data_aug/vidaug/data/trailer_aug/tt2006810_0023_aug_3.mp4\n",
      "\n"
     ]
    },
    {
     "name": "stderr",
     "output_type": "stream",
     "text": [
      "                                                             \r"
     ]
    },
    {
     "name": "stdout",
     "output_type": "stream",
     "text": [
      "Moviepy - Done !\n",
      "Moviepy - video ready /home/danield/AnyoneAI/Curso/final_project/videos_data_aug/vidaug/data/trailer_aug/tt2006810_0023_aug_3.mp4\n",
      "Moviepy - Building video /home/danield/AnyoneAI/Curso/final_project/videos_data_aug/vidaug/data/trailer_aug/tt2006810_0023_aug_4.mp4.\n",
      "Moviepy - Writing video /home/danield/AnyoneAI/Curso/final_project/videos_data_aug/vidaug/data/trailer_aug/tt2006810_0023_aug_4.mp4\n",
      "\n"
     ]
    },
    {
     "name": "stderr",
     "output_type": "stream",
     "text": [
      "                                                            \r"
     ]
    },
    {
     "name": "stdout",
     "output_type": "stream",
     "text": [
      "Moviepy - Done !\n",
      "Moviepy - video ready /home/danield/AnyoneAI/Curso/final_project/videos_data_aug/vidaug/data/trailer_aug/tt2006810_0023_aug_4.mp4\n",
      "Moviepy - Building video /home/danield/AnyoneAI/Curso/final_project/videos_data_aug/vidaug/data/trailer_aug/tt2006810_0023_aug_5.mp4.\n",
      "Moviepy - Writing video /home/danield/AnyoneAI/Curso/final_project/videos_data_aug/vidaug/data/trailer_aug/tt2006810_0023_aug_5.mp4\n",
      "\n"
     ]
    },
    {
     "name": "stderr",
     "output_type": "stream",
     "text": [
      "                                                            \r"
     ]
    },
    {
     "name": "stdout",
     "output_type": "stream",
     "text": [
      "Moviepy - Done !\n",
      "Moviepy - video ready /home/danield/AnyoneAI/Curso/final_project/videos_data_aug/vidaug/data/trailer_aug/tt2006810_0023_aug_5.mp4\n",
      "Moviepy - Building video /home/danield/AnyoneAI/Curso/final_project/videos_data_aug/vidaug/data/trailer_aug/tt2006810_0023_aug_6.mp4.\n",
      "Moviepy - Writing video /home/danield/AnyoneAI/Curso/final_project/videos_data_aug/vidaug/data/trailer_aug/tt2006810_0023_aug_6.mp4\n",
      "\n"
     ]
    },
    {
     "name": "stderr",
     "output_type": "stream",
     "text": [
      "                                                            \r"
     ]
    },
    {
     "name": "stdout",
     "output_type": "stream",
     "text": [
      "Moviepy - Done !\n",
      "Moviepy - video ready /home/danield/AnyoneAI/Curso/final_project/videos_data_aug/vidaug/data/trailer_aug/tt2006810_0023_aug_6.mp4\n",
      "Moviepy - Building video /home/danield/AnyoneAI/Curso/final_project/videos_data_aug/vidaug/data/trailer_aug/tt2006810_0023_aug_7.mp4.\n",
      "Moviepy - Writing video /home/danield/AnyoneAI/Curso/final_project/videos_data_aug/vidaug/data/trailer_aug/tt2006810_0023_aug_7.mp4\n",
      "\n"
     ]
    },
    {
     "name": "stderr",
     "output_type": "stream",
     "text": [
      "                                                            \r"
     ]
    },
    {
     "name": "stdout",
     "output_type": "stream",
     "text": [
      "Moviepy - Done !\n",
      "Moviepy - video ready /home/danield/AnyoneAI/Curso/final_project/videos_data_aug/vidaug/data/trailer_aug/tt2006810_0023_aug_7.mp4\n",
      "processing video 17/853\n",
      "Moviepy - Building video /home/danield/AnyoneAI/Curso/final_project/videos_data_aug/vidaug/data/trailer_aug/tt6039872_0043_aug_0.mp4.\n",
      "Moviepy - Writing video /home/danield/AnyoneAI/Curso/final_project/videos_data_aug/vidaug/data/trailer_aug/tt6039872_0043_aug_0.mp4\n",
      "\n"
     ]
    },
    {
     "name": "stderr",
     "output_type": "stream",
     "text": [
      "                                                            \r"
     ]
    },
    {
     "name": "stdout",
     "output_type": "stream",
     "text": [
      "Moviepy - Done !\n",
      "Moviepy - video ready /home/danield/AnyoneAI/Curso/final_project/videos_data_aug/vidaug/data/trailer_aug/tt6039872_0043_aug_0.mp4\n",
      "Moviepy - Building video /home/danield/AnyoneAI/Curso/final_project/videos_data_aug/vidaug/data/trailer_aug/tt6039872_0043_aug_1.mp4.\n",
      "Moviepy - Writing video /home/danield/AnyoneAI/Curso/final_project/videos_data_aug/vidaug/data/trailer_aug/tt6039872_0043_aug_1.mp4\n",
      "\n"
     ]
    },
    {
     "name": "stderr",
     "output_type": "stream",
     "text": [
      "                                                            \r"
     ]
    },
    {
     "name": "stdout",
     "output_type": "stream",
     "text": [
      "Moviepy - Done !\n",
      "Moviepy - video ready /home/danield/AnyoneAI/Curso/final_project/videos_data_aug/vidaug/data/trailer_aug/tt6039872_0043_aug_1.mp4\n",
      "Moviepy - Building video /home/danield/AnyoneAI/Curso/final_project/videos_data_aug/vidaug/data/trailer_aug/tt6039872_0043_aug_2.mp4.\n",
      "Moviepy - Writing video /home/danield/AnyoneAI/Curso/final_project/videos_data_aug/vidaug/data/trailer_aug/tt6039872_0043_aug_2.mp4\n",
      "\n"
     ]
    },
    {
     "name": "stderr",
     "output_type": "stream",
     "text": [
      "                                                            \r"
     ]
    },
    {
     "name": "stdout",
     "output_type": "stream",
     "text": [
      "Moviepy - Done !\n",
      "Moviepy - video ready /home/danield/AnyoneAI/Curso/final_project/videos_data_aug/vidaug/data/trailer_aug/tt6039872_0043_aug_2.mp4\n",
      "Moviepy - Building video /home/danield/AnyoneAI/Curso/final_project/videos_data_aug/vidaug/data/trailer_aug/tt6039872_0043_aug_3.mp4.\n",
      "Moviepy - Writing video /home/danield/AnyoneAI/Curso/final_project/videos_data_aug/vidaug/data/trailer_aug/tt6039872_0043_aug_3.mp4\n",
      "\n"
     ]
    },
    {
     "name": "stderr",
     "output_type": "stream",
     "text": [
      "                                                            \r"
     ]
    },
    {
     "name": "stdout",
     "output_type": "stream",
     "text": [
      "Moviepy - Done !\n",
      "Moviepy - video ready /home/danield/AnyoneAI/Curso/final_project/videos_data_aug/vidaug/data/trailer_aug/tt6039872_0043_aug_3.mp4\n",
      "Moviepy - Building video /home/danield/AnyoneAI/Curso/final_project/videos_data_aug/vidaug/data/trailer_aug/tt6039872_0043_aug_4.mp4.\n",
      "Moviepy - Writing video /home/danield/AnyoneAI/Curso/final_project/videos_data_aug/vidaug/data/trailer_aug/tt6039872_0043_aug_4.mp4\n",
      "\n"
     ]
    },
    {
     "name": "stderr",
     "output_type": "stream",
     "text": [
      "                                                            \r"
     ]
    },
    {
     "name": "stdout",
     "output_type": "stream",
     "text": [
      "Moviepy - Done !\n",
      "Moviepy - video ready /home/danield/AnyoneAI/Curso/final_project/videos_data_aug/vidaug/data/trailer_aug/tt6039872_0043_aug_4.mp4\n",
      "Moviepy - Building video /home/danield/AnyoneAI/Curso/final_project/videos_data_aug/vidaug/data/trailer_aug/tt6039872_0043_aug_5.mp4.\n",
      "Moviepy - Writing video /home/danield/AnyoneAI/Curso/final_project/videos_data_aug/vidaug/data/trailer_aug/tt6039872_0043_aug_5.mp4\n",
      "\n"
     ]
    },
    {
     "name": "stderr",
     "output_type": "stream",
     "text": [
      "                                                            \r"
     ]
    },
    {
     "name": "stdout",
     "output_type": "stream",
     "text": [
      "Moviepy - Done !\n",
      "Moviepy - video ready /home/danield/AnyoneAI/Curso/final_project/videos_data_aug/vidaug/data/trailer_aug/tt6039872_0043_aug_5.mp4\n",
      "Moviepy - Building video /home/danield/AnyoneAI/Curso/final_project/videos_data_aug/vidaug/data/trailer_aug/tt6039872_0043_aug_6.mp4.\n",
      "Moviepy - Writing video /home/danield/AnyoneAI/Curso/final_project/videos_data_aug/vidaug/data/trailer_aug/tt6039872_0043_aug_6.mp4\n",
      "\n"
     ]
    },
    {
     "name": "stderr",
     "output_type": "stream",
     "text": [
      "                                                            \r"
     ]
    },
    {
     "name": "stdout",
     "output_type": "stream",
     "text": [
      "Moviepy - Done !\n",
      "Moviepy - video ready /home/danield/AnyoneAI/Curso/final_project/videos_data_aug/vidaug/data/trailer_aug/tt6039872_0043_aug_6.mp4\n",
      "Moviepy - Building video /home/danield/AnyoneAI/Curso/final_project/videos_data_aug/vidaug/data/trailer_aug/tt6039872_0043_aug_7.mp4.\n",
      "Moviepy - Writing video /home/danield/AnyoneAI/Curso/final_project/videos_data_aug/vidaug/data/trailer_aug/tt6039872_0043_aug_7.mp4\n",
      "\n"
     ]
    },
    {
     "name": "stderr",
     "output_type": "stream",
     "text": [
      "                                                           \r"
     ]
    },
    {
     "name": "stdout",
     "output_type": "stream",
     "text": [
      "Moviepy - Done !\n",
      "Moviepy - video ready /home/danield/AnyoneAI/Curso/final_project/videos_data_aug/vidaug/data/trailer_aug/tt6039872_0043_aug_7.mp4\n",
      "processing video 18/853\n",
      "Moviepy - Building video /home/danield/AnyoneAI/Curso/final_project/videos_data_aug/vidaug/data/trailer_aug/tt3312830_0038_aug_0.mp4.\n",
      "Moviepy - Writing video /home/danield/AnyoneAI/Curso/final_project/videos_data_aug/vidaug/data/trailer_aug/tt3312830_0038_aug_0.mp4\n",
      "\n"
     ]
    },
    {
     "name": "stderr",
     "output_type": "stream",
     "text": [
      "                                                            \r"
     ]
    },
    {
     "name": "stdout",
     "output_type": "stream",
     "text": [
      "Moviepy - Done !\n",
      "Moviepy - video ready /home/danield/AnyoneAI/Curso/final_project/videos_data_aug/vidaug/data/trailer_aug/tt3312830_0038_aug_0.mp4\n",
      "Moviepy - Building video /home/danield/AnyoneAI/Curso/final_project/videos_data_aug/vidaug/data/trailer_aug/tt3312830_0038_aug_1.mp4.\n",
      "Moviepy - Writing video /home/danield/AnyoneAI/Curso/final_project/videos_data_aug/vidaug/data/trailer_aug/tt3312830_0038_aug_1.mp4\n",
      "\n"
     ]
    },
    {
     "name": "stderr",
     "output_type": "stream",
     "text": [
      "                                                            \r"
     ]
    },
    {
     "name": "stdout",
     "output_type": "stream",
     "text": [
      "Moviepy - Done !\n",
      "Moviepy - video ready /home/danield/AnyoneAI/Curso/final_project/videos_data_aug/vidaug/data/trailer_aug/tt3312830_0038_aug_1.mp4\n",
      "Moviepy - Building video /home/danield/AnyoneAI/Curso/final_project/videos_data_aug/vidaug/data/trailer_aug/tt3312830_0038_aug_2.mp4.\n",
      "Moviepy - Writing video /home/danield/AnyoneAI/Curso/final_project/videos_data_aug/vidaug/data/trailer_aug/tt3312830_0038_aug_2.mp4\n",
      "\n"
     ]
    },
    {
     "name": "stderr",
     "output_type": "stream",
     "text": [
      "                                                            \r"
     ]
    },
    {
     "name": "stdout",
     "output_type": "stream",
     "text": [
      "Moviepy - Done !\n",
      "Moviepy - video ready /home/danield/AnyoneAI/Curso/final_project/videos_data_aug/vidaug/data/trailer_aug/tt3312830_0038_aug_2.mp4\n",
      "Moviepy - Building video /home/danield/AnyoneAI/Curso/final_project/videos_data_aug/vidaug/data/trailer_aug/tt3312830_0038_aug_3.mp4.\n",
      "Moviepy - Writing video /home/danield/AnyoneAI/Curso/final_project/videos_data_aug/vidaug/data/trailer_aug/tt3312830_0038_aug_3.mp4\n",
      "\n"
     ]
    },
    {
     "name": "stderr",
     "output_type": "stream",
     "text": [
      "                                                            \r"
     ]
    },
    {
     "name": "stdout",
     "output_type": "stream",
     "text": [
      "Moviepy - Done !\n",
      "Moviepy - video ready /home/danield/AnyoneAI/Curso/final_project/videos_data_aug/vidaug/data/trailer_aug/tt3312830_0038_aug_3.mp4\n",
      "Moviepy - Building video /home/danield/AnyoneAI/Curso/final_project/videos_data_aug/vidaug/data/trailer_aug/tt3312830_0038_aug_4.mp4.\n",
      "Moviepy - Writing video /home/danield/AnyoneAI/Curso/final_project/videos_data_aug/vidaug/data/trailer_aug/tt3312830_0038_aug_4.mp4\n",
      "\n"
     ]
    },
    {
     "name": "stderr",
     "output_type": "stream",
     "text": [
      "                                                            \r"
     ]
    },
    {
     "name": "stdout",
     "output_type": "stream",
     "text": [
      "Moviepy - Done !\n",
      "Moviepy - video ready /home/danield/AnyoneAI/Curso/final_project/videos_data_aug/vidaug/data/trailer_aug/tt3312830_0038_aug_4.mp4\n",
      "Moviepy - Building video /home/danield/AnyoneAI/Curso/final_project/videos_data_aug/vidaug/data/trailer_aug/tt3312830_0038_aug_5.mp4.\n",
      "Moviepy - Writing video /home/danield/AnyoneAI/Curso/final_project/videos_data_aug/vidaug/data/trailer_aug/tt3312830_0038_aug_5.mp4\n",
      "\n"
     ]
    },
    {
     "name": "stderr",
     "output_type": "stream",
     "text": [
      "                                                            \r"
     ]
    },
    {
     "name": "stdout",
     "output_type": "stream",
     "text": [
      "Moviepy - Done !\n",
      "Moviepy - video ready /home/danield/AnyoneAI/Curso/final_project/videos_data_aug/vidaug/data/trailer_aug/tt3312830_0038_aug_5.mp4\n",
      "Moviepy - Building video /home/danield/AnyoneAI/Curso/final_project/videos_data_aug/vidaug/data/trailer_aug/tt3312830_0038_aug_6.mp4.\n",
      "Moviepy - Writing video /home/danield/AnyoneAI/Curso/final_project/videos_data_aug/vidaug/data/trailer_aug/tt3312830_0038_aug_6.mp4\n",
      "\n"
     ]
    },
    {
     "name": "stderr",
     "output_type": "stream",
     "text": [
      "                                                            \r"
     ]
    },
    {
     "name": "stdout",
     "output_type": "stream",
     "text": [
      "Moviepy - Done !\n",
      "Moviepy - video ready /home/danield/AnyoneAI/Curso/final_project/videos_data_aug/vidaug/data/trailer_aug/tt3312830_0038_aug_6.mp4\n",
      "Moviepy - Building video /home/danield/AnyoneAI/Curso/final_project/videos_data_aug/vidaug/data/trailer_aug/tt3312830_0038_aug_7.mp4.\n",
      "Moviepy - Writing video /home/danield/AnyoneAI/Curso/final_project/videos_data_aug/vidaug/data/trailer_aug/tt3312830_0038_aug_7.mp4\n",
      "\n"
     ]
    },
    {
     "name": "stderr",
     "output_type": "stream",
     "text": [
      "                                                           \r"
     ]
    },
    {
     "name": "stdout",
     "output_type": "stream",
     "text": [
      "Moviepy - Done !\n",
      "Moviepy - video ready /home/danield/AnyoneAI/Curso/final_project/videos_data_aug/vidaug/data/trailer_aug/tt3312830_0038_aug_7.mp4\n",
      "processing video 19/853\n",
      "Moviepy - Building video /home/danield/AnyoneAI/Curso/final_project/videos_data_aug/vidaug/data/trailer_aug/tt5980232_0069_aug_0.mp4.\n",
      "Moviepy - Writing video /home/danield/AnyoneAI/Curso/final_project/videos_data_aug/vidaug/data/trailer_aug/tt5980232_0069_aug_0.mp4\n",
      "\n"
     ]
    },
    {
     "name": "stderr",
     "output_type": "stream",
     "text": [
      "                                                            \r"
     ]
    },
    {
     "name": "stdout",
     "output_type": "stream",
     "text": [
      "Moviepy - Done !\n",
      "Moviepy - video ready /home/danield/AnyoneAI/Curso/final_project/videos_data_aug/vidaug/data/trailer_aug/tt5980232_0069_aug_0.mp4\n",
      "Moviepy - Building video /home/danield/AnyoneAI/Curso/final_project/videos_data_aug/vidaug/data/trailer_aug/tt5980232_0069_aug_1.mp4.\n",
      "Moviepy - Writing video /home/danield/AnyoneAI/Curso/final_project/videos_data_aug/vidaug/data/trailer_aug/tt5980232_0069_aug_1.mp4\n",
      "\n"
     ]
    },
    {
     "name": "stderr",
     "output_type": "stream",
     "text": [
      "                                                            \r"
     ]
    },
    {
     "name": "stdout",
     "output_type": "stream",
     "text": [
      "Moviepy - Done !\n",
      "Moviepy - video ready /home/danield/AnyoneAI/Curso/final_project/videos_data_aug/vidaug/data/trailer_aug/tt5980232_0069_aug_1.mp4\n",
      "Moviepy - Building video /home/danield/AnyoneAI/Curso/final_project/videos_data_aug/vidaug/data/trailer_aug/tt5980232_0069_aug_2.mp4.\n",
      "Moviepy - Writing video /home/danield/AnyoneAI/Curso/final_project/videos_data_aug/vidaug/data/trailer_aug/tt5980232_0069_aug_2.mp4\n",
      "\n"
     ]
    },
    {
     "name": "stderr",
     "output_type": "stream",
     "text": [
      "                                                            \r"
     ]
    },
    {
     "name": "stdout",
     "output_type": "stream",
     "text": [
      "Moviepy - Done !\n",
      "Moviepy - video ready /home/danield/AnyoneAI/Curso/final_project/videos_data_aug/vidaug/data/trailer_aug/tt5980232_0069_aug_2.mp4\n",
      "Moviepy - Building video /home/danield/AnyoneAI/Curso/final_project/videos_data_aug/vidaug/data/trailer_aug/tt5980232_0069_aug_3.mp4.\n",
      "Moviepy - Writing video /home/danield/AnyoneAI/Curso/final_project/videos_data_aug/vidaug/data/trailer_aug/tt5980232_0069_aug_3.mp4\n",
      "\n"
     ]
    },
    {
     "name": "stderr",
     "output_type": "stream",
     "text": [
      "                                                            \r"
     ]
    },
    {
     "name": "stdout",
     "output_type": "stream",
     "text": [
      "Moviepy - Done !\n",
      "Moviepy - video ready /home/danield/AnyoneAI/Curso/final_project/videos_data_aug/vidaug/data/trailer_aug/tt5980232_0069_aug_3.mp4\n",
      "Moviepy - Building video /home/danield/AnyoneAI/Curso/final_project/videos_data_aug/vidaug/data/trailer_aug/tt5980232_0069_aug_4.mp4.\n",
      "Moviepy - Writing video /home/danield/AnyoneAI/Curso/final_project/videos_data_aug/vidaug/data/trailer_aug/tt5980232_0069_aug_4.mp4\n",
      "\n"
     ]
    },
    {
     "name": "stderr",
     "output_type": "stream",
     "text": [
      "                                                            \r"
     ]
    },
    {
     "name": "stdout",
     "output_type": "stream",
     "text": [
      "Moviepy - Done !\n",
      "Moviepy - video ready /home/danield/AnyoneAI/Curso/final_project/videos_data_aug/vidaug/data/trailer_aug/tt5980232_0069_aug_4.mp4\n",
      "Moviepy - Building video /home/danield/AnyoneAI/Curso/final_project/videos_data_aug/vidaug/data/trailer_aug/tt5980232_0069_aug_5.mp4.\n",
      "Moviepy - Writing video /home/danield/AnyoneAI/Curso/final_project/videos_data_aug/vidaug/data/trailer_aug/tt5980232_0069_aug_5.mp4\n",
      "\n"
     ]
    },
    {
     "name": "stderr",
     "output_type": "stream",
     "text": [
      "                                                            \r"
     ]
    },
    {
     "name": "stdout",
     "output_type": "stream",
     "text": [
      "Moviepy - Done !\n",
      "Moviepy - video ready /home/danield/AnyoneAI/Curso/final_project/videos_data_aug/vidaug/data/trailer_aug/tt5980232_0069_aug_5.mp4\n",
      "Moviepy - Building video /home/danield/AnyoneAI/Curso/final_project/videos_data_aug/vidaug/data/trailer_aug/tt5980232_0069_aug_6.mp4.\n",
      "Moviepy - Writing video /home/danield/AnyoneAI/Curso/final_project/videos_data_aug/vidaug/data/trailer_aug/tt5980232_0069_aug_6.mp4\n",
      "\n"
     ]
    },
    {
     "name": "stderr",
     "output_type": "stream",
     "text": [
      "                                                            \r"
     ]
    },
    {
     "name": "stdout",
     "output_type": "stream",
     "text": [
      "Moviepy - Done !\n",
      "Moviepy - video ready /home/danield/AnyoneAI/Curso/final_project/videos_data_aug/vidaug/data/trailer_aug/tt5980232_0069_aug_6.mp4\n",
      "Moviepy - Building video /home/danield/AnyoneAI/Curso/final_project/videos_data_aug/vidaug/data/trailer_aug/tt5980232_0069_aug_7.mp4.\n",
      "Moviepy - Writing video /home/danield/AnyoneAI/Curso/final_project/videos_data_aug/vidaug/data/trailer_aug/tt5980232_0069_aug_7.mp4\n",
      "\n"
     ]
    },
    {
     "name": "stderr",
     "output_type": "stream",
     "text": [
      "                                                           \r"
     ]
    },
    {
     "name": "stdout",
     "output_type": "stream",
     "text": [
      "Moviepy - Done !\n",
      "Moviepy - video ready /home/danield/AnyoneAI/Curso/final_project/videos_data_aug/vidaug/data/trailer_aug/tt5980232_0069_aug_7.mp4\n",
      "processing video 20/853\n",
      "Moviepy - Building video /home/danield/AnyoneAI/Curso/final_project/videos_data_aug/vidaug/data/trailer_aug/tt3695114_0013_aug_0.mp4.\n",
      "Moviepy - Writing video /home/danield/AnyoneAI/Curso/final_project/videos_data_aug/vidaug/data/trailer_aug/tt3695114_0013_aug_0.mp4\n",
      "\n"
     ]
    },
    {
     "name": "stderr",
     "output_type": "stream",
     "text": [
      "                                                            \r"
     ]
    },
    {
     "name": "stdout",
     "output_type": "stream",
     "text": [
      "Moviepy - Done !\n",
      "Moviepy - video ready /home/danield/AnyoneAI/Curso/final_project/videos_data_aug/vidaug/data/trailer_aug/tt3695114_0013_aug_0.mp4\n",
      "Moviepy - Building video /home/danield/AnyoneAI/Curso/final_project/videos_data_aug/vidaug/data/trailer_aug/tt3695114_0013_aug_1.mp4.\n",
      "Moviepy - Writing video /home/danield/AnyoneAI/Curso/final_project/videos_data_aug/vidaug/data/trailer_aug/tt3695114_0013_aug_1.mp4\n",
      "\n"
     ]
    },
    {
     "name": "stderr",
     "output_type": "stream",
     "text": [
      "                                                            \r"
     ]
    },
    {
     "name": "stdout",
     "output_type": "stream",
     "text": [
      "Moviepy - Done !\n",
      "Moviepy - video ready /home/danield/AnyoneAI/Curso/final_project/videos_data_aug/vidaug/data/trailer_aug/tt3695114_0013_aug_1.mp4\n",
      "Moviepy - Building video /home/danield/AnyoneAI/Curso/final_project/videos_data_aug/vidaug/data/trailer_aug/tt3695114_0013_aug_2.mp4.\n",
      "Moviepy - Writing video /home/danield/AnyoneAI/Curso/final_project/videos_data_aug/vidaug/data/trailer_aug/tt3695114_0013_aug_2.mp4\n",
      "\n"
     ]
    },
    {
     "name": "stderr",
     "output_type": "stream",
     "text": [
      "                                                            \r"
     ]
    },
    {
     "name": "stdout",
     "output_type": "stream",
     "text": [
      "Moviepy - Done !\n",
      "Moviepy - video ready /home/danield/AnyoneAI/Curso/final_project/videos_data_aug/vidaug/data/trailer_aug/tt3695114_0013_aug_2.mp4\n",
      "Moviepy - Building video /home/danield/AnyoneAI/Curso/final_project/videos_data_aug/vidaug/data/trailer_aug/tt3695114_0013_aug_3.mp4.\n",
      "Moviepy - Writing video /home/danield/AnyoneAI/Curso/final_project/videos_data_aug/vidaug/data/trailer_aug/tt3695114_0013_aug_3.mp4\n",
      "\n"
     ]
    },
    {
     "name": "stderr",
     "output_type": "stream",
     "text": [
      "                                                             \r"
     ]
    },
    {
     "name": "stdout",
     "output_type": "stream",
     "text": [
      "Moviepy - Done !\n",
      "Moviepy - video ready /home/danield/AnyoneAI/Curso/final_project/videos_data_aug/vidaug/data/trailer_aug/tt3695114_0013_aug_3.mp4\n",
      "Moviepy - Building video /home/danield/AnyoneAI/Curso/final_project/videos_data_aug/vidaug/data/trailer_aug/tt3695114_0013_aug_4.mp4.\n",
      "Moviepy - Writing video /home/danield/AnyoneAI/Curso/final_project/videos_data_aug/vidaug/data/trailer_aug/tt3695114_0013_aug_4.mp4\n",
      "\n"
     ]
    },
    {
     "name": "stderr",
     "output_type": "stream",
     "text": [
      "                                                            \r"
     ]
    },
    {
     "name": "stdout",
     "output_type": "stream",
     "text": [
      "Moviepy - Done !\n",
      "Moviepy - video ready /home/danield/AnyoneAI/Curso/final_project/videos_data_aug/vidaug/data/trailer_aug/tt3695114_0013_aug_4.mp4\n",
      "Moviepy - Building video /home/danield/AnyoneAI/Curso/final_project/videos_data_aug/vidaug/data/trailer_aug/tt3695114_0013_aug_5.mp4.\n",
      "Moviepy - Writing video /home/danield/AnyoneAI/Curso/final_project/videos_data_aug/vidaug/data/trailer_aug/tt3695114_0013_aug_5.mp4\n",
      "\n"
     ]
    },
    {
     "name": "stderr",
     "output_type": "stream",
     "text": [
      "                                                            \r"
     ]
    },
    {
     "name": "stdout",
     "output_type": "stream",
     "text": [
      "Moviepy - Done !\n",
      "Moviepy - video ready /home/danield/AnyoneAI/Curso/final_project/videos_data_aug/vidaug/data/trailer_aug/tt3695114_0013_aug_5.mp4\n",
      "Moviepy - Building video /home/danield/AnyoneAI/Curso/final_project/videos_data_aug/vidaug/data/trailer_aug/tt3695114_0013_aug_6.mp4.\n",
      "Moviepy - Writing video /home/danield/AnyoneAI/Curso/final_project/videos_data_aug/vidaug/data/trailer_aug/tt3695114_0013_aug_6.mp4\n",
      "\n"
     ]
    },
    {
     "name": "stderr",
     "output_type": "stream",
     "text": [
      "                                                            \r"
     ]
    },
    {
     "name": "stdout",
     "output_type": "stream",
     "text": [
      "Moviepy - Done !\n",
      "Moviepy - video ready /home/danield/AnyoneAI/Curso/final_project/videos_data_aug/vidaug/data/trailer_aug/tt3695114_0013_aug_6.mp4\n",
      "Moviepy - Building video /home/danield/AnyoneAI/Curso/final_project/videos_data_aug/vidaug/data/trailer_aug/tt3695114_0013_aug_7.mp4.\n",
      "Moviepy - Writing video /home/danield/AnyoneAI/Curso/final_project/videos_data_aug/vidaug/data/trailer_aug/tt3695114_0013_aug_7.mp4\n",
      "\n"
     ]
    },
    {
     "name": "stderr",
     "output_type": "stream",
     "text": [
      "                                                           \r"
     ]
    },
    {
     "name": "stdout",
     "output_type": "stream",
     "text": [
      "Moviepy - Done !\n",
      "Moviepy - video ready /home/danield/AnyoneAI/Curso/final_project/videos_data_aug/vidaug/data/trailer_aug/tt3695114_0013_aug_7.mp4\n",
      "processing video 21/853\n",
      "Moviepy - Building video /home/danield/AnyoneAI/Curso/final_project/videos_data_aug/vidaug/data/trailer_aug/tt3695114_0018_aug_0.mp4.\n",
      "Moviepy - Writing video /home/danield/AnyoneAI/Curso/final_project/videos_data_aug/vidaug/data/trailer_aug/tt3695114_0018_aug_0.mp4\n",
      "\n"
     ]
    },
    {
     "name": "stderr",
     "output_type": "stream",
     "text": [
      "                                                            \r"
     ]
    },
    {
     "name": "stdout",
     "output_type": "stream",
     "text": [
      "Moviepy - Done !\n",
      "Moviepy - video ready /home/danield/AnyoneAI/Curso/final_project/videos_data_aug/vidaug/data/trailer_aug/tt3695114_0018_aug_0.mp4\n",
      "Moviepy - Building video /home/danield/AnyoneAI/Curso/final_project/videos_data_aug/vidaug/data/trailer_aug/tt3695114_0018_aug_1.mp4.\n",
      "Moviepy - Writing video /home/danield/AnyoneAI/Curso/final_project/videos_data_aug/vidaug/data/trailer_aug/tt3695114_0018_aug_1.mp4\n",
      "\n"
     ]
    },
    {
     "name": "stderr",
     "output_type": "stream",
     "text": [
      "                                                            \r"
     ]
    },
    {
     "name": "stdout",
     "output_type": "stream",
     "text": [
      "Moviepy - Done !\n",
      "Moviepy - video ready /home/danield/AnyoneAI/Curso/final_project/videos_data_aug/vidaug/data/trailer_aug/tt3695114_0018_aug_1.mp4\n",
      "Moviepy - Building video /home/danield/AnyoneAI/Curso/final_project/videos_data_aug/vidaug/data/trailer_aug/tt3695114_0018_aug_2.mp4.\n",
      "Moviepy - Writing video /home/danield/AnyoneAI/Curso/final_project/videos_data_aug/vidaug/data/trailer_aug/tt3695114_0018_aug_2.mp4\n",
      "\n"
     ]
    },
    {
     "name": "stderr",
     "output_type": "stream",
     "text": [
      "                                                            \r"
     ]
    },
    {
     "name": "stdout",
     "output_type": "stream",
     "text": [
      "Moviepy - Done !\n",
      "Moviepy - video ready /home/danield/AnyoneAI/Curso/final_project/videos_data_aug/vidaug/data/trailer_aug/tt3695114_0018_aug_2.mp4\n",
      "Moviepy - Building video /home/danield/AnyoneAI/Curso/final_project/videos_data_aug/vidaug/data/trailer_aug/tt3695114_0018_aug_3.mp4.\n",
      "Moviepy - Writing video /home/danield/AnyoneAI/Curso/final_project/videos_data_aug/vidaug/data/trailer_aug/tt3695114_0018_aug_3.mp4\n",
      "\n"
     ]
    },
    {
     "name": "stderr",
     "output_type": "stream",
     "text": [
      "                                                            \r"
     ]
    },
    {
     "name": "stdout",
     "output_type": "stream",
     "text": [
      "Moviepy - Done !\n",
      "Moviepy - video ready /home/danield/AnyoneAI/Curso/final_project/videos_data_aug/vidaug/data/trailer_aug/tt3695114_0018_aug_3.mp4\n",
      "Moviepy - Building video /home/danield/AnyoneAI/Curso/final_project/videos_data_aug/vidaug/data/trailer_aug/tt3695114_0018_aug_4.mp4.\n",
      "Moviepy - Writing video /home/danield/AnyoneAI/Curso/final_project/videos_data_aug/vidaug/data/trailer_aug/tt3695114_0018_aug_4.mp4\n",
      "\n"
     ]
    },
    {
     "name": "stderr",
     "output_type": "stream",
     "text": [
      "                                                            \r"
     ]
    },
    {
     "name": "stdout",
     "output_type": "stream",
     "text": [
      "Moviepy - Done !\n",
      "Moviepy - video ready /home/danield/AnyoneAI/Curso/final_project/videos_data_aug/vidaug/data/trailer_aug/tt3695114_0018_aug_4.mp4\n",
      "Moviepy - Building video /home/danield/AnyoneAI/Curso/final_project/videos_data_aug/vidaug/data/trailer_aug/tt3695114_0018_aug_5.mp4.\n",
      "Moviepy - Writing video /home/danield/AnyoneAI/Curso/final_project/videos_data_aug/vidaug/data/trailer_aug/tt3695114_0018_aug_5.mp4\n",
      "\n"
     ]
    },
    {
     "name": "stderr",
     "output_type": "stream",
     "text": [
      "                                                            \r"
     ]
    },
    {
     "name": "stdout",
     "output_type": "stream",
     "text": [
      "Moviepy - Done !\n",
      "Moviepy - video ready /home/danield/AnyoneAI/Curso/final_project/videos_data_aug/vidaug/data/trailer_aug/tt3695114_0018_aug_5.mp4\n",
      "Moviepy - Building video /home/danield/AnyoneAI/Curso/final_project/videos_data_aug/vidaug/data/trailer_aug/tt3695114_0018_aug_6.mp4.\n",
      "Moviepy - Writing video /home/danield/AnyoneAI/Curso/final_project/videos_data_aug/vidaug/data/trailer_aug/tt3695114_0018_aug_6.mp4\n",
      "\n"
     ]
    },
    {
     "name": "stderr",
     "output_type": "stream",
     "text": [
      "                                                            \r"
     ]
    },
    {
     "name": "stdout",
     "output_type": "stream",
     "text": [
      "Moviepy - Done !\n",
      "Moviepy - video ready /home/danield/AnyoneAI/Curso/final_project/videos_data_aug/vidaug/data/trailer_aug/tt3695114_0018_aug_6.mp4\n",
      "Moviepy - Building video /home/danield/AnyoneAI/Curso/final_project/videos_data_aug/vidaug/data/trailer_aug/tt3695114_0018_aug_7.mp4.\n",
      "Moviepy - Writing video /home/danield/AnyoneAI/Curso/final_project/videos_data_aug/vidaug/data/trailer_aug/tt3695114_0018_aug_7.mp4\n",
      "\n"
     ]
    },
    {
     "name": "stderr",
     "output_type": "stream",
     "text": [
      "                                                            \r"
     ]
    },
    {
     "name": "stdout",
     "output_type": "stream",
     "text": [
      "Moviepy - Done !\n",
      "Moviepy - video ready /home/danield/AnyoneAI/Curso/final_project/videos_data_aug/vidaug/data/trailer_aug/tt3695114_0018_aug_7.mp4\n",
      "processing video 22/853\n",
      "Moviepy - Building video /home/danield/AnyoneAI/Curso/final_project/videos_data_aug/vidaug/data/trailer_aug/tt0047673_0004_aug_0.mp4.\n",
      "Moviepy - Writing video /home/danield/AnyoneAI/Curso/final_project/videos_data_aug/vidaug/data/trailer_aug/tt0047673_0004_aug_0.mp4\n",
      "\n"
     ]
    },
    {
     "name": "stderr",
     "output_type": "stream",
     "text": [
      "                                                            \r"
     ]
    },
    {
     "name": "stdout",
     "output_type": "stream",
     "text": [
      "Moviepy - Done !\n",
      "Moviepy - video ready /home/danield/AnyoneAI/Curso/final_project/videos_data_aug/vidaug/data/trailer_aug/tt0047673_0004_aug_0.mp4\n",
      "Moviepy - Building video /home/danield/AnyoneAI/Curso/final_project/videos_data_aug/vidaug/data/trailer_aug/tt0047673_0004_aug_1.mp4.\n",
      "Moviepy - Writing video /home/danield/AnyoneAI/Curso/final_project/videos_data_aug/vidaug/data/trailer_aug/tt0047673_0004_aug_1.mp4\n",
      "\n"
     ]
    },
    {
     "name": "stderr",
     "output_type": "stream",
     "text": [
      "                                                            \r"
     ]
    },
    {
     "name": "stdout",
     "output_type": "stream",
     "text": [
      "Moviepy - Done !\n",
      "Moviepy - video ready /home/danield/AnyoneAI/Curso/final_project/videos_data_aug/vidaug/data/trailer_aug/tt0047673_0004_aug_1.mp4\n",
      "Moviepy - Building video /home/danield/AnyoneAI/Curso/final_project/videos_data_aug/vidaug/data/trailer_aug/tt0047673_0004_aug_2.mp4.\n",
      "Moviepy - Writing video /home/danield/AnyoneAI/Curso/final_project/videos_data_aug/vidaug/data/trailer_aug/tt0047673_0004_aug_2.mp4\n",
      "\n"
     ]
    },
    {
     "name": "stderr",
     "output_type": "stream",
     "text": [
      "                                                            \r"
     ]
    },
    {
     "name": "stdout",
     "output_type": "stream",
     "text": [
      "Moviepy - Done !\n",
      "Moviepy - video ready /home/danield/AnyoneAI/Curso/final_project/videos_data_aug/vidaug/data/trailer_aug/tt0047673_0004_aug_2.mp4\n",
      "Moviepy - Building video /home/danield/AnyoneAI/Curso/final_project/videos_data_aug/vidaug/data/trailer_aug/tt0047673_0004_aug_3.mp4.\n",
      "Moviepy - Writing video /home/danield/AnyoneAI/Curso/final_project/videos_data_aug/vidaug/data/trailer_aug/tt0047673_0004_aug_3.mp4\n",
      "\n"
     ]
    },
    {
     "name": "stderr",
     "output_type": "stream",
     "text": [
      "                                                            \r"
     ]
    },
    {
     "name": "stdout",
     "output_type": "stream",
     "text": [
      "Moviepy - Done !\n",
      "Moviepy - video ready /home/danield/AnyoneAI/Curso/final_project/videos_data_aug/vidaug/data/trailer_aug/tt0047673_0004_aug_3.mp4\n",
      "Moviepy - Building video /home/danield/AnyoneAI/Curso/final_project/videos_data_aug/vidaug/data/trailer_aug/tt0047673_0004_aug_4.mp4.\n",
      "Moviepy - Writing video /home/danield/AnyoneAI/Curso/final_project/videos_data_aug/vidaug/data/trailer_aug/tt0047673_0004_aug_4.mp4\n",
      "\n"
     ]
    },
    {
     "name": "stderr",
     "output_type": "stream",
     "text": [
      "                                                            \r"
     ]
    },
    {
     "name": "stdout",
     "output_type": "stream",
     "text": [
      "Moviepy - Done !\n",
      "Moviepy - video ready /home/danield/AnyoneAI/Curso/final_project/videos_data_aug/vidaug/data/trailer_aug/tt0047673_0004_aug_4.mp4\n",
      "Moviepy - Building video /home/danield/AnyoneAI/Curso/final_project/videos_data_aug/vidaug/data/trailer_aug/tt0047673_0004_aug_5.mp4.\n",
      "Moviepy - Writing video /home/danield/AnyoneAI/Curso/final_project/videos_data_aug/vidaug/data/trailer_aug/tt0047673_0004_aug_5.mp4\n",
      "\n"
     ]
    },
    {
     "name": "stderr",
     "output_type": "stream",
     "text": [
      "                                                            \r"
     ]
    },
    {
     "name": "stdout",
     "output_type": "stream",
     "text": [
      "Moviepy - Done !\n",
      "Moviepy - video ready /home/danield/AnyoneAI/Curso/final_project/videos_data_aug/vidaug/data/trailer_aug/tt0047673_0004_aug_5.mp4\n",
      "Moviepy - Building video /home/danield/AnyoneAI/Curso/final_project/videos_data_aug/vidaug/data/trailer_aug/tt0047673_0004_aug_6.mp4.\n",
      "Moviepy - Writing video /home/danield/AnyoneAI/Curso/final_project/videos_data_aug/vidaug/data/trailer_aug/tt0047673_0004_aug_6.mp4\n",
      "\n"
     ]
    },
    {
     "name": "stderr",
     "output_type": "stream",
     "text": [
      "                                                            \r"
     ]
    },
    {
     "name": "stdout",
     "output_type": "stream",
     "text": [
      "Moviepy - Done !\n",
      "Moviepy - video ready /home/danield/AnyoneAI/Curso/final_project/videos_data_aug/vidaug/data/trailer_aug/tt0047673_0004_aug_6.mp4\n",
      "Moviepy - Building video /home/danield/AnyoneAI/Curso/final_project/videos_data_aug/vidaug/data/trailer_aug/tt0047673_0004_aug_7.mp4.\n",
      "Moviepy - Writing video /home/danield/AnyoneAI/Curso/final_project/videos_data_aug/vidaug/data/trailer_aug/tt0047673_0004_aug_7.mp4\n",
      "\n"
     ]
    },
    {
     "name": "stderr",
     "output_type": "stream",
     "text": [
      "                                                           \r"
     ]
    },
    {
     "name": "stdout",
     "output_type": "stream",
     "text": [
      "Moviepy - Done !\n",
      "Moviepy - video ready /home/danield/AnyoneAI/Curso/final_project/videos_data_aug/vidaug/data/trailer_aug/tt0047673_0004_aug_7.mp4\n",
      "processing video 23/853\n",
      "Moviepy - Building video /home/danield/AnyoneAI/Curso/final_project/videos_data_aug/vidaug/data/trailer_aug/tt0348210_0069_aug_0.mp4.\n",
      "Moviepy - Writing video /home/danield/AnyoneAI/Curso/final_project/videos_data_aug/vidaug/data/trailer_aug/tt0348210_0069_aug_0.mp4\n",
      "\n"
     ]
    },
    {
     "name": "stderr",
     "output_type": "stream",
     "text": [
      "                                                             \r"
     ]
    },
    {
     "name": "stdout",
     "output_type": "stream",
     "text": [
      "Moviepy - Done !\n",
      "Moviepy - video ready /home/danield/AnyoneAI/Curso/final_project/videos_data_aug/vidaug/data/trailer_aug/tt0348210_0069_aug_0.mp4\n",
      "Moviepy - Building video /home/danield/AnyoneAI/Curso/final_project/videos_data_aug/vidaug/data/trailer_aug/tt0348210_0069_aug_1.mp4.\n",
      "Moviepy - Writing video /home/danield/AnyoneAI/Curso/final_project/videos_data_aug/vidaug/data/trailer_aug/tt0348210_0069_aug_1.mp4\n",
      "\n"
     ]
    },
    {
     "name": "stderr",
     "output_type": "stream",
     "text": [
      "                                                             \r"
     ]
    },
    {
     "name": "stdout",
     "output_type": "stream",
     "text": [
      "Moviepy - Done !\n",
      "Moviepy - video ready /home/danield/AnyoneAI/Curso/final_project/videos_data_aug/vidaug/data/trailer_aug/tt0348210_0069_aug_1.mp4\n",
      "Moviepy - Building video /home/danield/AnyoneAI/Curso/final_project/videos_data_aug/vidaug/data/trailer_aug/tt0348210_0069_aug_2.mp4.\n",
      "Moviepy - Writing video /home/danield/AnyoneAI/Curso/final_project/videos_data_aug/vidaug/data/trailer_aug/tt0348210_0069_aug_2.mp4\n",
      "\n"
     ]
    },
    {
     "name": "stderr",
     "output_type": "stream",
     "text": [
      "                                                             \r"
     ]
    },
    {
     "name": "stdout",
     "output_type": "stream",
     "text": [
      "Moviepy - Done !\n",
      "Moviepy - video ready /home/danield/AnyoneAI/Curso/final_project/videos_data_aug/vidaug/data/trailer_aug/tt0348210_0069_aug_2.mp4\n",
      "Moviepy - Building video /home/danield/AnyoneAI/Curso/final_project/videos_data_aug/vidaug/data/trailer_aug/tt0348210_0069_aug_3.mp4.\n",
      "Moviepy - Writing video /home/danield/AnyoneAI/Curso/final_project/videos_data_aug/vidaug/data/trailer_aug/tt0348210_0069_aug_3.mp4\n",
      "\n"
     ]
    },
    {
     "name": "stderr",
     "output_type": "stream",
     "text": [
      "                                                             \r"
     ]
    },
    {
     "name": "stdout",
     "output_type": "stream",
     "text": [
      "Moviepy - Done !\n",
      "Moviepy - video ready /home/danield/AnyoneAI/Curso/final_project/videos_data_aug/vidaug/data/trailer_aug/tt0348210_0069_aug_3.mp4\n",
      "Moviepy - Building video /home/danield/AnyoneAI/Curso/final_project/videos_data_aug/vidaug/data/trailer_aug/tt0348210_0069_aug_4.mp4.\n",
      "Moviepy - Writing video /home/danield/AnyoneAI/Curso/final_project/videos_data_aug/vidaug/data/trailer_aug/tt0348210_0069_aug_4.mp4\n",
      "\n"
     ]
    },
    {
     "name": "stderr",
     "output_type": "stream",
     "text": [
      "                                                             \r"
     ]
    },
    {
     "name": "stdout",
     "output_type": "stream",
     "text": [
      "Moviepy - Done !\n",
      "Moviepy - video ready /home/danield/AnyoneAI/Curso/final_project/videos_data_aug/vidaug/data/trailer_aug/tt0348210_0069_aug_4.mp4\n",
      "Moviepy - Building video /home/danield/AnyoneAI/Curso/final_project/videos_data_aug/vidaug/data/trailer_aug/tt0348210_0069_aug_5.mp4.\n",
      "Moviepy - Writing video /home/danield/AnyoneAI/Curso/final_project/videos_data_aug/vidaug/data/trailer_aug/tt0348210_0069_aug_5.mp4\n",
      "\n"
     ]
    },
    {
     "name": "stderr",
     "output_type": "stream",
     "text": [
      "                                                             \r"
     ]
    },
    {
     "name": "stdout",
     "output_type": "stream",
     "text": [
      "Moviepy - Done !\n",
      "Moviepy - video ready /home/danield/AnyoneAI/Curso/final_project/videos_data_aug/vidaug/data/trailer_aug/tt0348210_0069_aug_5.mp4\n",
      "Moviepy - Building video /home/danield/AnyoneAI/Curso/final_project/videos_data_aug/vidaug/data/trailer_aug/tt0348210_0069_aug_6.mp4.\n",
      "Moviepy - Writing video /home/danield/AnyoneAI/Curso/final_project/videos_data_aug/vidaug/data/trailer_aug/tt0348210_0069_aug_6.mp4\n",
      "\n"
     ]
    },
    {
     "name": "stderr",
     "output_type": "stream",
     "text": [
      "                                                             \r"
     ]
    },
    {
     "name": "stdout",
     "output_type": "stream",
     "text": [
      "Moviepy - Done !\n",
      "Moviepy - video ready /home/danield/AnyoneAI/Curso/final_project/videos_data_aug/vidaug/data/trailer_aug/tt0348210_0069_aug_6.mp4\n",
      "Moviepy - Building video /home/danield/AnyoneAI/Curso/final_project/videos_data_aug/vidaug/data/trailer_aug/tt0348210_0069_aug_7.mp4.\n",
      "Moviepy - Writing video /home/danield/AnyoneAI/Curso/final_project/videos_data_aug/vidaug/data/trailer_aug/tt0348210_0069_aug_7.mp4\n",
      "\n"
     ]
    },
    {
     "name": "stderr",
     "output_type": "stream",
     "text": [
      "                                                   "
     ]
    },
    {
     "name": "stdout",
     "output_type": "stream",
     "text": [
      "Moviepy - Done !\n",
      "Moviepy - video ready /home/danield/AnyoneAI/Curso/final_project/videos_data_aug/vidaug/data/trailer_aug/tt0348210_0069_aug_7.mp4\n"
     ]
    },
    {
     "name": "stderr",
     "output_type": "stream",
     "text": [
      "\r"
     ]
    },
    {
     "name": "stdout",
     "output_type": "stream",
     "text": [
      "processing video 24/853\n",
      "Moviepy - Building video /home/danield/AnyoneAI/Curso/final_project/videos_data_aug/vidaug/data/trailer_aug/tt0348210_0091_aug_0.mp4.\n",
      "Moviepy - Writing video /home/danield/AnyoneAI/Curso/final_project/videos_data_aug/vidaug/data/trailer_aug/tt0348210_0091_aug_0.mp4\n",
      "\n"
     ]
    },
    {
     "name": "stderr",
     "output_type": "stream",
     "text": [
      "                                                             \r"
     ]
    },
    {
     "name": "stdout",
     "output_type": "stream",
     "text": [
      "Moviepy - Done !\n",
      "Moviepy - video ready /home/danield/AnyoneAI/Curso/final_project/videos_data_aug/vidaug/data/trailer_aug/tt0348210_0091_aug_0.mp4\n",
      "Moviepy - Building video /home/danield/AnyoneAI/Curso/final_project/videos_data_aug/vidaug/data/trailer_aug/tt0348210_0091_aug_1.mp4.\n",
      "Moviepy - Writing video /home/danield/AnyoneAI/Curso/final_project/videos_data_aug/vidaug/data/trailer_aug/tt0348210_0091_aug_1.mp4\n",
      "\n"
     ]
    },
    {
     "name": "stderr",
     "output_type": "stream",
     "text": [
      "                                                             \r"
     ]
    },
    {
     "name": "stdout",
     "output_type": "stream",
     "text": [
      "Moviepy - Done !\n",
      "Moviepy - video ready /home/danield/AnyoneAI/Curso/final_project/videos_data_aug/vidaug/data/trailer_aug/tt0348210_0091_aug_1.mp4\n",
      "Moviepy - Building video /home/danield/AnyoneAI/Curso/final_project/videos_data_aug/vidaug/data/trailer_aug/tt0348210_0091_aug_2.mp4.\n",
      "Moviepy - Writing video /home/danield/AnyoneAI/Curso/final_project/videos_data_aug/vidaug/data/trailer_aug/tt0348210_0091_aug_2.mp4\n",
      "\n"
     ]
    },
    {
     "name": "stderr",
     "output_type": "stream",
     "text": [
      "                                                             \r"
     ]
    },
    {
     "name": "stdout",
     "output_type": "stream",
     "text": [
      "Moviepy - Done !\n",
      "Moviepy - video ready /home/danield/AnyoneAI/Curso/final_project/videos_data_aug/vidaug/data/trailer_aug/tt0348210_0091_aug_2.mp4\n",
      "Moviepy - Building video /home/danield/AnyoneAI/Curso/final_project/videos_data_aug/vidaug/data/trailer_aug/tt0348210_0091_aug_3.mp4.\n",
      "Moviepy - Writing video /home/danield/AnyoneAI/Curso/final_project/videos_data_aug/vidaug/data/trailer_aug/tt0348210_0091_aug_3.mp4\n",
      "\n"
     ]
    },
    {
     "name": "stderr",
     "output_type": "stream",
     "text": [
      "                                                   \r"
     ]
    },
    {
     "name": "stdout",
     "output_type": "stream",
     "text": [
      "Moviepy - Done !\n",
      "Moviepy - video ready /home/danield/AnyoneAI/Curso/final_project/videos_data_aug/vidaug/data/trailer_aug/tt0348210_0091_aug_3.mp4\n",
      "Moviepy - Building video /home/danield/AnyoneAI/Curso/final_project/videos_data_aug/vidaug/data/trailer_aug/tt0348210_0091_aug_4.mp4.\n",
      "Moviepy - Writing video /home/danield/AnyoneAI/Curso/final_project/videos_data_aug/vidaug/data/trailer_aug/tt0348210_0091_aug_4.mp4\n",
      "\n"
     ]
    },
    {
     "name": "stderr",
     "output_type": "stream",
     "text": [
      "                                                             \r"
     ]
    },
    {
     "name": "stdout",
     "output_type": "stream",
     "text": [
      "Moviepy - Done !\n",
      "Moviepy - video ready /home/danield/AnyoneAI/Curso/final_project/videos_data_aug/vidaug/data/trailer_aug/tt0348210_0091_aug_4.mp4\n",
      "Moviepy - Building video /home/danield/AnyoneAI/Curso/final_project/videos_data_aug/vidaug/data/trailer_aug/tt0348210_0091_aug_5.mp4.\n",
      "Moviepy - Writing video /home/danield/AnyoneAI/Curso/final_project/videos_data_aug/vidaug/data/trailer_aug/tt0348210_0091_aug_5.mp4\n",
      "\n"
     ]
    },
    {
     "name": "stderr",
     "output_type": "stream",
     "text": [
      "                                                             \r"
     ]
    },
    {
     "name": "stdout",
     "output_type": "stream",
     "text": [
      "Moviepy - Done !\n",
      "Moviepy - video ready /home/danield/AnyoneAI/Curso/final_project/videos_data_aug/vidaug/data/trailer_aug/tt0348210_0091_aug_5.mp4\n",
      "Moviepy - Building video /home/danield/AnyoneAI/Curso/final_project/videos_data_aug/vidaug/data/trailer_aug/tt0348210_0091_aug_6.mp4.\n",
      "Moviepy - Writing video /home/danield/AnyoneAI/Curso/final_project/videos_data_aug/vidaug/data/trailer_aug/tt0348210_0091_aug_6.mp4\n",
      "\n"
     ]
    },
    {
     "name": "stderr",
     "output_type": "stream",
     "text": [
      "                                                             \r"
     ]
    },
    {
     "name": "stdout",
     "output_type": "stream",
     "text": [
      "Moviepy - Done !\n",
      "Moviepy - video ready /home/danield/AnyoneAI/Curso/final_project/videos_data_aug/vidaug/data/trailer_aug/tt0348210_0091_aug_6.mp4\n",
      "Moviepy - Building video /home/danield/AnyoneAI/Curso/final_project/videos_data_aug/vidaug/data/trailer_aug/tt0348210_0091_aug_7.mp4.\n",
      "Moviepy - Writing video /home/danield/AnyoneAI/Curso/final_project/videos_data_aug/vidaug/data/trailer_aug/tt0348210_0091_aug_7.mp4\n",
      "\n"
     ]
    },
    {
     "name": "stderr",
     "output_type": "stream",
     "text": [
      "                                                   \r"
     ]
    },
    {
     "name": "stdout",
     "output_type": "stream",
     "text": [
      "Moviepy - Done !\n",
      "Moviepy - video ready /home/danield/AnyoneAI/Curso/final_project/videos_data_aug/vidaug/data/trailer_aug/tt0348210_0091_aug_7.mp4\n",
      "processing video 25/853\n",
      "Moviepy - Building video /home/danield/AnyoneAI/Curso/final_project/videos_data_aug/vidaug/data/trailer_aug/tt0348210_0100_aug_0.mp4.\n",
      "Moviepy - Writing video /home/danield/AnyoneAI/Curso/final_project/videos_data_aug/vidaug/data/trailer_aug/tt0348210_0100_aug_0.mp4\n",
      "\n"
     ]
    },
    {
     "name": "stderr",
     "output_type": "stream",
     "text": [
      "                                                             \r"
     ]
    },
    {
     "name": "stdout",
     "output_type": "stream",
     "text": [
      "Moviepy - Done !\n",
      "Moviepy - video ready /home/danield/AnyoneAI/Curso/final_project/videos_data_aug/vidaug/data/trailer_aug/tt0348210_0100_aug_0.mp4\n",
      "Moviepy - Building video /home/danield/AnyoneAI/Curso/final_project/videos_data_aug/vidaug/data/trailer_aug/tt0348210_0100_aug_1.mp4.\n",
      "Moviepy - Writing video /home/danield/AnyoneAI/Curso/final_project/videos_data_aug/vidaug/data/trailer_aug/tt0348210_0100_aug_1.mp4\n",
      "\n"
     ]
    },
    {
     "name": "stderr",
     "output_type": "stream",
     "text": [
      "                                                             \r"
     ]
    },
    {
     "name": "stdout",
     "output_type": "stream",
     "text": [
      "Moviepy - Done !\n",
      "Moviepy - video ready /home/danield/AnyoneAI/Curso/final_project/videos_data_aug/vidaug/data/trailer_aug/tt0348210_0100_aug_1.mp4\n",
      "Moviepy - Building video /home/danield/AnyoneAI/Curso/final_project/videos_data_aug/vidaug/data/trailer_aug/tt0348210_0100_aug_2.mp4.\n",
      "Moviepy - Writing video /home/danield/AnyoneAI/Curso/final_project/videos_data_aug/vidaug/data/trailer_aug/tt0348210_0100_aug_2.mp4\n",
      "\n"
     ]
    },
    {
     "name": "stderr",
     "output_type": "stream",
     "text": [
      "                                                             \r"
     ]
    },
    {
     "name": "stdout",
     "output_type": "stream",
     "text": [
      "Moviepy - Done !\n",
      "Moviepy - video ready /home/danield/AnyoneAI/Curso/final_project/videos_data_aug/vidaug/data/trailer_aug/tt0348210_0100_aug_2.mp4\n",
      "Moviepy - Building video /home/danield/AnyoneAI/Curso/final_project/videos_data_aug/vidaug/data/trailer_aug/tt0348210_0100_aug_3.mp4.\n",
      "Moviepy - Writing video /home/danield/AnyoneAI/Curso/final_project/videos_data_aug/vidaug/data/trailer_aug/tt0348210_0100_aug_3.mp4\n",
      "\n"
     ]
    },
    {
     "name": "stderr",
     "output_type": "stream",
     "text": [
      "                                                             \r"
     ]
    },
    {
     "name": "stdout",
     "output_type": "stream",
     "text": [
      "Moviepy - Done !\n",
      "Moviepy - video ready /home/danield/AnyoneAI/Curso/final_project/videos_data_aug/vidaug/data/trailer_aug/tt0348210_0100_aug_3.mp4\n",
      "Moviepy - Building video /home/danield/AnyoneAI/Curso/final_project/videos_data_aug/vidaug/data/trailer_aug/tt0348210_0100_aug_4.mp4.\n",
      "Moviepy - Writing video /home/danield/AnyoneAI/Curso/final_project/videos_data_aug/vidaug/data/trailer_aug/tt0348210_0100_aug_4.mp4\n",
      "\n"
     ]
    },
    {
     "name": "stderr",
     "output_type": "stream",
     "text": [
      "                                                             \r"
     ]
    },
    {
     "name": "stdout",
     "output_type": "stream",
     "text": [
      "Moviepy - Done !\n",
      "Moviepy - video ready /home/danield/AnyoneAI/Curso/final_project/videos_data_aug/vidaug/data/trailer_aug/tt0348210_0100_aug_4.mp4\n",
      "Moviepy - Building video /home/danield/AnyoneAI/Curso/final_project/videos_data_aug/vidaug/data/trailer_aug/tt0348210_0100_aug_5.mp4.\n",
      "Moviepy - Writing video /home/danield/AnyoneAI/Curso/final_project/videos_data_aug/vidaug/data/trailer_aug/tt0348210_0100_aug_5.mp4\n",
      "\n"
     ]
    },
    {
     "name": "stderr",
     "output_type": "stream",
     "text": [
      "                                                             \r"
     ]
    },
    {
     "name": "stdout",
     "output_type": "stream",
     "text": [
      "Moviepy - Done !\n",
      "Moviepy - video ready /home/danield/AnyoneAI/Curso/final_project/videos_data_aug/vidaug/data/trailer_aug/tt0348210_0100_aug_5.mp4\n",
      "Moviepy - Building video /home/danield/AnyoneAI/Curso/final_project/videos_data_aug/vidaug/data/trailer_aug/tt0348210_0100_aug_6.mp4.\n",
      "Moviepy - Writing video /home/danield/AnyoneAI/Curso/final_project/videos_data_aug/vidaug/data/trailer_aug/tt0348210_0100_aug_6.mp4\n",
      "\n"
     ]
    },
    {
     "name": "stderr",
     "output_type": "stream",
     "text": [
      "                                                             \r"
     ]
    },
    {
     "name": "stdout",
     "output_type": "stream",
     "text": [
      "Moviepy - Done !\n",
      "Moviepy - video ready /home/danield/AnyoneAI/Curso/final_project/videos_data_aug/vidaug/data/trailer_aug/tt0348210_0100_aug_6.mp4\n",
      "Moviepy - Building video /home/danield/AnyoneAI/Curso/final_project/videos_data_aug/vidaug/data/trailer_aug/tt0348210_0100_aug_7.mp4.\n",
      "Moviepy - Writing video /home/danield/AnyoneAI/Curso/final_project/videos_data_aug/vidaug/data/trailer_aug/tt0348210_0100_aug_7.mp4\n",
      "\n"
     ]
    },
    {
     "name": "stderr",
     "output_type": "stream",
     "text": [
      "                                                   \r"
     ]
    },
    {
     "name": "stdout",
     "output_type": "stream",
     "text": [
      "Moviepy - Done !\n",
      "Moviepy - video ready /home/danield/AnyoneAI/Curso/final_project/videos_data_aug/vidaug/data/trailer_aug/tt0348210_0100_aug_7.mp4\n",
      "processing video 26/853\n",
      "Moviepy - Building video /home/danield/AnyoneAI/Curso/final_project/videos_data_aug/vidaug/data/trailer_aug/tt2544074_0004_aug_0.mp4.\n",
      "Moviepy - Writing video /home/danield/AnyoneAI/Curso/final_project/videos_data_aug/vidaug/data/trailer_aug/tt2544074_0004_aug_0.mp4\n",
      "\n"
     ]
    },
    {
     "name": "stderr",
     "output_type": "stream",
     "text": [
      "                                                            \r"
     ]
    },
    {
     "name": "stdout",
     "output_type": "stream",
     "text": [
      "Moviepy - Done !\n",
      "Moviepy - video ready /home/danield/AnyoneAI/Curso/final_project/videos_data_aug/vidaug/data/trailer_aug/tt2544074_0004_aug_0.mp4\n",
      "Moviepy - Building video /home/danield/AnyoneAI/Curso/final_project/videos_data_aug/vidaug/data/trailer_aug/tt2544074_0004_aug_1.mp4.\n",
      "Moviepy - Writing video /home/danield/AnyoneAI/Curso/final_project/videos_data_aug/vidaug/data/trailer_aug/tt2544074_0004_aug_1.mp4\n",
      "\n"
     ]
    },
    {
     "name": "stderr",
     "output_type": "stream",
     "text": [
      "                                                            \r"
     ]
    },
    {
     "name": "stdout",
     "output_type": "stream",
     "text": [
      "Moviepy - Done !\n",
      "Moviepy - video ready /home/danield/AnyoneAI/Curso/final_project/videos_data_aug/vidaug/data/trailer_aug/tt2544074_0004_aug_1.mp4\n",
      "Moviepy - Building video /home/danield/AnyoneAI/Curso/final_project/videos_data_aug/vidaug/data/trailer_aug/tt2544074_0004_aug_2.mp4.\n",
      "Moviepy - Writing video /home/danield/AnyoneAI/Curso/final_project/videos_data_aug/vidaug/data/trailer_aug/tt2544074_0004_aug_2.mp4\n",
      "\n"
     ]
    },
    {
     "name": "stderr",
     "output_type": "stream",
     "text": [
      "                                                            \r"
     ]
    },
    {
     "name": "stdout",
     "output_type": "stream",
     "text": [
      "Moviepy - Done !\n",
      "Moviepy - video ready /home/danield/AnyoneAI/Curso/final_project/videos_data_aug/vidaug/data/trailer_aug/tt2544074_0004_aug_2.mp4\n",
      "Moviepy - Building video /home/danield/AnyoneAI/Curso/final_project/videos_data_aug/vidaug/data/trailer_aug/tt2544074_0004_aug_3.mp4.\n",
      "Moviepy - Writing video /home/danield/AnyoneAI/Curso/final_project/videos_data_aug/vidaug/data/trailer_aug/tt2544074_0004_aug_3.mp4\n",
      "\n"
     ]
    },
    {
     "name": "stderr",
     "output_type": "stream",
     "text": [
      "                                                            \r"
     ]
    },
    {
     "name": "stdout",
     "output_type": "stream",
     "text": [
      "Moviepy - Done !\n",
      "Moviepy - video ready /home/danield/AnyoneAI/Curso/final_project/videos_data_aug/vidaug/data/trailer_aug/tt2544074_0004_aug_3.mp4\n",
      "Moviepy - Building video /home/danield/AnyoneAI/Curso/final_project/videos_data_aug/vidaug/data/trailer_aug/tt2544074_0004_aug_4.mp4.\n",
      "Moviepy - Writing video /home/danield/AnyoneAI/Curso/final_project/videos_data_aug/vidaug/data/trailer_aug/tt2544074_0004_aug_4.mp4\n",
      "\n"
     ]
    },
    {
     "name": "stderr",
     "output_type": "stream",
     "text": [
      "                                                            \r"
     ]
    },
    {
     "name": "stdout",
     "output_type": "stream",
     "text": [
      "Moviepy - Done !\n",
      "Moviepy - video ready /home/danield/AnyoneAI/Curso/final_project/videos_data_aug/vidaug/data/trailer_aug/tt2544074_0004_aug_4.mp4\n",
      "Moviepy - Building video /home/danield/AnyoneAI/Curso/final_project/videos_data_aug/vidaug/data/trailer_aug/tt2544074_0004_aug_5.mp4.\n",
      "Moviepy - Writing video /home/danield/AnyoneAI/Curso/final_project/videos_data_aug/vidaug/data/trailer_aug/tt2544074_0004_aug_5.mp4\n",
      "\n"
     ]
    },
    {
     "name": "stderr",
     "output_type": "stream",
     "text": [
      "                                                            \r"
     ]
    },
    {
     "name": "stdout",
     "output_type": "stream",
     "text": [
      "Moviepy - Done !\n",
      "Moviepy - video ready /home/danield/AnyoneAI/Curso/final_project/videos_data_aug/vidaug/data/trailer_aug/tt2544074_0004_aug_5.mp4\n",
      "Moviepy - Building video /home/danield/AnyoneAI/Curso/final_project/videos_data_aug/vidaug/data/trailer_aug/tt2544074_0004_aug_6.mp4.\n",
      "Moviepy - Writing video /home/danield/AnyoneAI/Curso/final_project/videos_data_aug/vidaug/data/trailer_aug/tt2544074_0004_aug_6.mp4\n",
      "\n"
     ]
    },
    {
     "name": "stderr",
     "output_type": "stream",
     "text": [
      "                                                             \r"
     ]
    },
    {
     "name": "stdout",
     "output_type": "stream",
     "text": [
      "Moviepy - Done !\n",
      "Moviepy - video ready /home/danield/AnyoneAI/Curso/final_project/videos_data_aug/vidaug/data/trailer_aug/tt2544074_0004_aug_6.mp4\n",
      "Moviepy - Building video /home/danield/AnyoneAI/Curso/final_project/videos_data_aug/vidaug/data/trailer_aug/tt2544074_0004_aug_7.mp4.\n",
      "Moviepy - Writing video /home/danield/AnyoneAI/Curso/final_project/videos_data_aug/vidaug/data/trailer_aug/tt2544074_0004_aug_7.mp4\n",
      "\n"
     ]
    },
    {
     "name": "stderr",
     "output_type": "stream",
     "text": [
      "                                                            \r"
     ]
    },
    {
     "name": "stdout",
     "output_type": "stream",
     "text": [
      "Moviepy - Done !\n",
      "Moviepy - video ready /home/danield/AnyoneAI/Curso/final_project/videos_data_aug/vidaug/data/trailer_aug/tt2544074_0004_aug_7.mp4\n",
      "processing video 27/853\n",
      "Moviepy - Building video /home/danield/AnyoneAI/Curso/final_project/videos_data_aug/vidaug/data/trailer_aug/tt1823684_0034_aug_0.mp4.\n",
      "Moviepy - Writing video /home/danield/AnyoneAI/Curso/final_project/videos_data_aug/vidaug/data/trailer_aug/tt1823684_0034_aug_0.mp4\n",
      "\n"
     ]
    },
    {
     "name": "stderr",
     "output_type": "stream",
     "text": [
      "                                                             \r"
     ]
    },
    {
     "name": "stdout",
     "output_type": "stream",
     "text": [
      "Moviepy - Done !\n",
      "Moviepy - video ready /home/danield/AnyoneAI/Curso/final_project/videos_data_aug/vidaug/data/trailer_aug/tt1823684_0034_aug_0.mp4\n",
      "Moviepy - Building video /home/danield/AnyoneAI/Curso/final_project/videos_data_aug/vidaug/data/trailer_aug/tt1823684_0034_aug_1.mp4.\n",
      "Moviepy - Writing video /home/danield/AnyoneAI/Curso/final_project/videos_data_aug/vidaug/data/trailer_aug/tt1823684_0034_aug_1.mp4\n",
      "\n"
     ]
    },
    {
     "name": "stderr",
     "output_type": "stream",
     "text": [
      "                                                             \r"
     ]
    },
    {
     "name": "stdout",
     "output_type": "stream",
     "text": [
      "Moviepy - Done !\n",
      "Moviepy - video ready /home/danield/AnyoneAI/Curso/final_project/videos_data_aug/vidaug/data/trailer_aug/tt1823684_0034_aug_1.mp4\n",
      "Moviepy - Building video /home/danield/AnyoneAI/Curso/final_project/videos_data_aug/vidaug/data/trailer_aug/tt1823684_0034_aug_2.mp4.\n",
      "Moviepy - Writing video /home/danield/AnyoneAI/Curso/final_project/videos_data_aug/vidaug/data/trailer_aug/tt1823684_0034_aug_2.mp4\n",
      "\n"
     ]
    },
    {
     "name": "stderr",
     "output_type": "stream",
     "text": [
      "                                                             \r"
     ]
    },
    {
     "name": "stdout",
     "output_type": "stream",
     "text": [
      "Moviepy - Done !\n",
      "Moviepy - video ready /home/danield/AnyoneAI/Curso/final_project/videos_data_aug/vidaug/data/trailer_aug/tt1823684_0034_aug_2.mp4\n",
      "Moviepy - Building video /home/danield/AnyoneAI/Curso/final_project/videos_data_aug/vidaug/data/trailer_aug/tt1823684_0034_aug_3.mp4.\n",
      "Moviepy - Writing video /home/danield/AnyoneAI/Curso/final_project/videos_data_aug/vidaug/data/trailer_aug/tt1823684_0034_aug_3.mp4\n",
      "\n"
     ]
    },
    {
     "name": "stderr",
     "output_type": "stream",
     "text": [
      "                                                             \r"
     ]
    },
    {
     "name": "stdout",
     "output_type": "stream",
     "text": [
      "Moviepy - Done !\n",
      "Moviepy - video ready /home/danield/AnyoneAI/Curso/final_project/videos_data_aug/vidaug/data/trailer_aug/tt1823684_0034_aug_3.mp4\n",
      "Moviepy - Building video /home/danield/AnyoneAI/Curso/final_project/videos_data_aug/vidaug/data/trailer_aug/tt1823684_0034_aug_4.mp4.\n",
      "Moviepy - Writing video /home/danield/AnyoneAI/Curso/final_project/videos_data_aug/vidaug/data/trailer_aug/tt1823684_0034_aug_4.mp4\n",
      "\n"
     ]
    },
    {
     "name": "stderr",
     "output_type": "stream",
     "text": [
      "                                                             \r"
     ]
    },
    {
     "name": "stdout",
     "output_type": "stream",
     "text": [
      "Moviepy - Done !\n",
      "Moviepy - video ready /home/danield/AnyoneAI/Curso/final_project/videos_data_aug/vidaug/data/trailer_aug/tt1823684_0034_aug_4.mp4\n",
      "Moviepy - Building video /home/danield/AnyoneAI/Curso/final_project/videos_data_aug/vidaug/data/trailer_aug/tt1823684_0034_aug_5.mp4.\n",
      "Moviepy - Writing video /home/danield/AnyoneAI/Curso/final_project/videos_data_aug/vidaug/data/trailer_aug/tt1823684_0034_aug_5.mp4\n",
      "\n"
     ]
    },
    {
     "name": "stderr",
     "output_type": "stream",
     "text": [
      "                                                             \r"
     ]
    },
    {
     "name": "stdout",
     "output_type": "stream",
     "text": [
      "Moviepy - Done !\n",
      "Moviepy - video ready /home/danield/AnyoneAI/Curso/final_project/videos_data_aug/vidaug/data/trailer_aug/tt1823684_0034_aug_5.mp4\n",
      "Moviepy - Building video /home/danield/AnyoneAI/Curso/final_project/videos_data_aug/vidaug/data/trailer_aug/tt1823684_0034_aug_6.mp4.\n",
      "Moviepy - Writing video /home/danield/AnyoneAI/Curso/final_project/videos_data_aug/vidaug/data/trailer_aug/tt1823684_0034_aug_6.mp4\n",
      "\n"
     ]
    },
    {
     "name": "stderr",
     "output_type": "stream",
     "text": [
      "                                                             \r"
     ]
    },
    {
     "name": "stdout",
     "output_type": "stream",
     "text": [
      "Moviepy - Done !\n",
      "Moviepy - video ready /home/danield/AnyoneAI/Curso/final_project/videos_data_aug/vidaug/data/trailer_aug/tt1823684_0034_aug_6.mp4\n",
      "Moviepy - Building video /home/danield/AnyoneAI/Curso/final_project/videos_data_aug/vidaug/data/trailer_aug/tt1823684_0034_aug_7.mp4.\n",
      "Moviepy - Writing video /home/danield/AnyoneAI/Curso/final_project/videos_data_aug/vidaug/data/trailer_aug/tt1823684_0034_aug_7.mp4\n",
      "\n"
     ]
    },
    {
     "name": "stderr",
     "output_type": "stream",
     "text": [
      "                                                            \r"
     ]
    },
    {
     "name": "stdout",
     "output_type": "stream",
     "text": [
      "Moviepy - Done !\n",
      "Moviepy - video ready /home/danield/AnyoneAI/Curso/final_project/videos_data_aug/vidaug/data/trailer_aug/tt1823684_0034_aug_7.mp4\n",
      "processing video 28/853\n",
      "Moviepy - Building video /home/danield/AnyoneAI/Curso/final_project/videos_data_aug/vidaug/data/trailer_aug/tt2425852_0026_aug_0.mp4.\n",
      "Moviepy - Writing video /home/danield/AnyoneAI/Curso/final_project/videos_data_aug/vidaug/data/trailer_aug/tt2425852_0026_aug_0.mp4\n",
      "\n"
     ]
    },
    {
     "name": "stderr",
     "output_type": "stream",
     "text": [
      "                                                             \r"
     ]
    },
    {
     "name": "stdout",
     "output_type": "stream",
     "text": [
      "Moviepy - Done !\n",
      "Moviepy - video ready /home/danield/AnyoneAI/Curso/final_project/videos_data_aug/vidaug/data/trailer_aug/tt2425852_0026_aug_0.mp4\n",
      "Moviepy - Building video /home/danield/AnyoneAI/Curso/final_project/videos_data_aug/vidaug/data/trailer_aug/tt2425852_0026_aug_1.mp4.\n",
      "Moviepy - Writing video /home/danield/AnyoneAI/Curso/final_project/videos_data_aug/vidaug/data/trailer_aug/tt2425852_0026_aug_1.mp4\n",
      "\n"
     ]
    },
    {
     "name": "stderr",
     "output_type": "stream",
     "text": [
      "                                                             \r"
     ]
    },
    {
     "name": "stdout",
     "output_type": "stream",
     "text": [
      "Moviepy - Done !\n",
      "Moviepy - video ready /home/danield/AnyoneAI/Curso/final_project/videos_data_aug/vidaug/data/trailer_aug/tt2425852_0026_aug_1.mp4\n",
      "Moviepy - Building video /home/danield/AnyoneAI/Curso/final_project/videos_data_aug/vidaug/data/trailer_aug/tt2425852_0026_aug_2.mp4.\n",
      "Moviepy - Writing video /home/danield/AnyoneAI/Curso/final_project/videos_data_aug/vidaug/data/trailer_aug/tt2425852_0026_aug_2.mp4\n",
      "\n"
     ]
    },
    {
     "name": "stderr",
     "output_type": "stream",
     "text": [
      "                                                             \r"
     ]
    },
    {
     "name": "stdout",
     "output_type": "stream",
     "text": [
      "Moviepy - Done !\n",
      "Moviepy - video ready /home/danield/AnyoneAI/Curso/final_project/videos_data_aug/vidaug/data/trailer_aug/tt2425852_0026_aug_2.mp4\n",
      "Moviepy - Building video /home/danield/AnyoneAI/Curso/final_project/videos_data_aug/vidaug/data/trailer_aug/tt2425852_0026_aug_3.mp4.\n",
      "Moviepy - Writing video /home/danield/AnyoneAI/Curso/final_project/videos_data_aug/vidaug/data/trailer_aug/tt2425852_0026_aug_3.mp4\n",
      "\n"
     ]
    },
    {
     "name": "stderr",
     "output_type": "stream",
     "text": [
      "                                                             \r"
     ]
    },
    {
     "name": "stdout",
     "output_type": "stream",
     "text": [
      "Moviepy - Done !\n",
      "Moviepy - video ready /home/danield/AnyoneAI/Curso/final_project/videos_data_aug/vidaug/data/trailer_aug/tt2425852_0026_aug_3.mp4\n",
      "Moviepy - Building video /home/danield/AnyoneAI/Curso/final_project/videos_data_aug/vidaug/data/trailer_aug/tt2425852_0026_aug_4.mp4.\n",
      "Moviepy - Writing video /home/danield/AnyoneAI/Curso/final_project/videos_data_aug/vidaug/data/trailer_aug/tt2425852_0026_aug_4.mp4\n",
      "\n"
     ]
    },
    {
     "name": "stderr",
     "output_type": "stream",
     "text": [
      "                                                            \r"
     ]
    },
    {
     "name": "stdout",
     "output_type": "stream",
     "text": [
      "Moviepy - Done !\n",
      "Moviepy - video ready /home/danield/AnyoneAI/Curso/final_project/videos_data_aug/vidaug/data/trailer_aug/tt2425852_0026_aug_4.mp4\n",
      "Moviepy - Building video /home/danield/AnyoneAI/Curso/final_project/videos_data_aug/vidaug/data/trailer_aug/tt2425852_0026_aug_5.mp4.\n",
      "Moviepy - Writing video /home/danield/AnyoneAI/Curso/final_project/videos_data_aug/vidaug/data/trailer_aug/tt2425852_0026_aug_5.mp4\n",
      "\n"
     ]
    },
    {
     "name": "stderr",
     "output_type": "stream",
     "text": [
      "                                                             \r"
     ]
    },
    {
     "name": "stdout",
     "output_type": "stream",
     "text": [
      "Moviepy - Done !\n",
      "Moviepy - video ready /home/danield/AnyoneAI/Curso/final_project/videos_data_aug/vidaug/data/trailer_aug/tt2425852_0026_aug_5.mp4\n",
      "Moviepy - Building video /home/danield/AnyoneAI/Curso/final_project/videos_data_aug/vidaug/data/trailer_aug/tt2425852_0026_aug_6.mp4.\n",
      "Moviepy - Writing video /home/danield/AnyoneAI/Curso/final_project/videos_data_aug/vidaug/data/trailer_aug/tt2425852_0026_aug_6.mp4\n",
      "\n"
     ]
    },
    {
     "name": "stderr",
     "output_type": "stream",
     "text": [
      "                                                             \r"
     ]
    },
    {
     "name": "stdout",
     "output_type": "stream",
     "text": [
      "Moviepy - Done !\n",
      "Moviepy - video ready /home/danield/AnyoneAI/Curso/final_project/videos_data_aug/vidaug/data/trailer_aug/tt2425852_0026_aug_6.mp4\n",
      "Moviepy - Building video /home/danield/AnyoneAI/Curso/final_project/videos_data_aug/vidaug/data/trailer_aug/tt2425852_0026_aug_7.mp4.\n",
      "Moviepy - Writing video /home/danield/AnyoneAI/Curso/final_project/videos_data_aug/vidaug/data/trailer_aug/tt2425852_0026_aug_7.mp4\n",
      "\n"
     ]
    },
    {
     "name": "stderr",
     "output_type": "stream",
     "text": [
      "                                                   \r"
     ]
    },
    {
     "name": "stdout",
     "output_type": "stream",
     "text": [
      "Moviepy - Done !\n",
      "Moviepy - video ready /home/danield/AnyoneAI/Curso/final_project/videos_data_aug/vidaug/data/trailer_aug/tt2425852_0026_aug_7.mp4\n",
      "processing video 29/853\n",
      "Moviepy - Building video /home/danield/AnyoneAI/Curso/final_project/videos_data_aug/vidaug/data/trailer_aug/tt2296809_0085_aug_0.mp4.\n",
      "Moviepy - Writing video /home/danield/AnyoneAI/Curso/final_project/videos_data_aug/vidaug/data/trailer_aug/tt2296809_0085_aug_0.mp4\n",
      "\n"
     ]
    },
    {
     "name": "stderr",
     "output_type": "stream",
     "text": [
      "                                                            \r"
     ]
    },
    {
     "name": "stdout",
     "output_type": "stream",
     "text": [
      "Moviepy - Done !\n",
      "Moviepy - video ready /home/danield/AnyoneAI/Curso/final_project/videos_data_aug/vidaug/data/trailer_aug/tt2296809_0085_aug_0.mp4\n",
      "Moviepy - Building video /home/danield/AnyoneAI/Curso/final_project/videos_data_aug/vidaug/data/trailer_aug/tt2296809_0085_aug_1.mp4.\n",
      "Moviepy - Writing video /home/danield/AnyoneAI/Curso/final_project/videos_data_aug/vidaug/data/trailer_aug/tt2296809_0085_aug_1.mp4\n",
      "\n"
     ]
    },
    {
     "name": "stderr",
     "output_type": "stream",
     "text": [
      "                                                            \r"
     ]
    },
    {
     "name": "stdout",
     "output_type": "stream",
     "text": [
      "Moviepy - Done !\n",
      "Moviepy - video ready /home/danield/AnyoneAI/Curso/final_project/videos_data_aug/vidaug/data/trailer_aug/tt2296809_0085_aug_1.mp4\n",
      "Moviepy - Building video /home/danield/AnyoneAI/Curso/final_project/videos_data_aug/vidaug/data/trailer_aug/tt2296809_0085_aug_2.mp4.\n",
      "Moviepy - Writing video /home/danield/AnyoneAI/Curso/final_project/videos_data_aug/vidaug/data/trailer_aug/tt2296809_0085_aug_2.mp4\n",
      "\n"
     ]
    },
    {
     "name": "stderr",
     "output_type": "stream",
     "text": [
      "                                                            \r"
     ]
    },
    {
     "name": "stdout",
     "output_type": "stream",
     "text": [
      "Moviepy - Done !\n",
      "Moviepy - video ready /home/danield/AnyoneAI/Curso/final_project/videos_data_aug/vidaug/data/trailer_aug/tt2296809_0085_aug_2.mp4\n",
      "Moviepy - Building video /home/danield/AnyoneAI/Curso/final_project/videos_data_aug/vidaug/data/trailer_aug/tt2296809_0085_aug_3.mp4.\n",
      "Moviepy - Writing video /home/danield/AnyoneAI/Curso/final_project/videos_data_aug/vidaug/data/trailer_aug/tt2296809_0085_aug_3.mp4\n",
      "\n"
     ]
    },
    {
     "name": "stderr",
     "output_type": "stream",
     "text": [
      "                                                             \r"
     ]
    },
    {
     "name": "stdout",
     "output_type": "stream",
     "text": [
      "Moviepy - Done !\n",
      "Moviepy - video ready /home/danield/AnyoneAI/Curso/final_project/videos_data_aug/vidaug/data/trailer_aug/tt2296809_0085_aug_3.mp4\n",
      "Moviepy - Building video /home/danield/AnyoneAI/Curso/final_project/videos_data_aug/vidaug/data/trailer_aug/tt2296809_0085_aug_4.mp4.\n",
      "Moviepy - Writing video /home/danield/AnyoneAI/Curso/final_project/videos_data_aug/vidaug/data/trailer_aug/tt2296809_0085_aug_4.mp4\n",
      "\n"
     ]
    },
    {
     "name": "stderr",
     "output_type": "stream",
     "text": [
      "                                                            \r"
     ]
    },
    {
     "name": "stdout",
     "output_type": "stream",
     "text": [
      "Moviepy - Done !\n",
      "Moviepy - video ready /home/danield/AnyoneAI/Curso/final_project/videos_data_aug/vidaug/data/trailer_aug/tt2296809_0085_aug_4.mp4\n",
      "Moviepy - Building video /home/danield/AnyoneAI/Curso/final_project/videos_data_aug/vidaug/data/trailer_aug/tt2296809_0085_aug_5.mp4.\n",
      "Moviepy - Writing video /home/danield/AnyoneAI/Curso/final_project/videos_data_aug/vidaug/data/trailer_aug/tt2296809_0085_aug_5.mp4\n",
      "\n"
     ]
    },
    {
     "name": "stderr",
     "output_type": "stream",
     "text": [
      "                                                            \r"
     ]
    },
    {
     "name": "stdout",
     "output_type": "stream",
     "text": [
      "Moviepy - Done !\n",
      "Moviepy - video ready /home/danield/AnyoneAI/Curso/final_project/videos_data_aug/vidaug/data/trailer_aug/tt2296809_0085_aug_5.mp4\n",
      "Moviepy - Building video /home/danield/AnyoneAI/Curso/final_project/videos_data_aug/vidaug/data/trailer_aug/tt2296809_0085_aug_6.mp4.\n",
      "Moviepy - Writing video /home/danield/AnyoneAI/Curso/final_project/videos_data_aug/vidaug/data/trailer_aug/tt2296809_0085_aug_6.mp4\n",
      "\n"
     ]
    },
    {
     "name": "stderr",
     "output_type": "stream",
     "text": [
      "                                                            \r"
     ]
    },
    {
     "name": "stdout",
     "output_type": "stream",
     "text": [
      "Moviepy - Done !\n",
      "Moviepy - video ready /home/danield/AnyoneAI/Curso/final_project/videos_data_aug/vidaug/data/trailer_aug/tt2296809_0085_aug_6.mp4\n",
      "Moviepy - Building video /home/danield/AnyoneAI/Curso/final_project/videos_data_aug/vidaug/data/trailer_aug/tt2296809_0085_aug_7.mp4.\n",
      "Moviepy - Writing video /home/danield/AnyoneAI/Curso/final_project/videos_data_aug/vidaug/data/trailer_aug/tt2296809_0085_aug_7.mp4\n",
      "\n"
     ]
    },
    {
     "name": "stderr",
     "output_type": "stream",
     "text": [
      "                                                           \r"
     ]
    },
    {
     "name": "stdout",
     "output_type": "stream",
     "text": [
      "Moviepy - Done !\n",
      "Moviepy - video ready /home/danield/AnyoneAI/Curso/final_project/videos_data_aug/vidaug/data/trailer_aug/tt2296809_0085_aug_7.mp4\n",
      "processing video 30/853\n",
      "Moviepy - Building video /home/danield/AnyoneAI/Curso/final_project/videos_data_aug/vidaug/data/trailer_aug/tt5141494_0063_aug_0.mp4.\n",
      "Moviepy - Writing video /home/danield/AnyoneAI/Curso/final_project/videos_data_aug/vidaug/data/trailer_aug/tt5141494_0063_aug_0.mp4\n",
      "\n"
     ]
    },
    {
     "name": "stderr",
     "output_type": "stream",
     "text": [
      "                                                            \r"
     ]
    },
    {
     "name": "stdout",
     "output_type": "stream",
     "text": [
      "Moviepy - Done !\n",
      "Moviepy - video ready /home/danield/AnyoneAI/Curso/final_project/videos_data_aug/vidaug/data/trailer_aug/tt5141494_0063_aug_0.mp4\n",
      "Moviepy - Building video /home/danield/AnyoneAI/Curso/final_project/videos_data_aug/vidaug/data/trailer_aug/tt5141494_0063_aug_1.mp4.\n",
      "Moviepy - Writing video /home/danield/AnyoneAI/Curso/final_project/videos_data_aug/vidaug/data/trailer_aug/tt5141494_0063_aug_1.mp4\n",
      "\n"
     ]
    },
    {
     "name": "stderr",
     "output_type": "stream",
     "text": [
      "                                                            \r"
     ]
    },
    {
     "name": "stdout",
     "output_type": "stream",
     "text": [
      "Moviepy - Done !\n",
      "Moviepy - video ready /home/danield/AnyoneAI/Curso/final_project/videos_data_aug/vidaug/data/trailer_aug/tt5141494_0063_aug_1.mp4\n",
      "Moviepy - Building video /home/danield/AnyoneAI/Curso/final_project/videos_data_aug/vidaug/data/trailer_aug/tt5141494_0063_aug_2.mp4.\n",
      "Moviepy - Writing video /home/danield/AnyoneAI/Curso/final_project/videos_data_aug/vidaug/data/trailer_aug/tt5141494_0063_aug_2.mp4\n",
      "\n"
     ]
    },
    {
     "name": "stderr",
     "output_type": "stream",
     "text": [
      "                                                            \r"
     ]
    },
    {
     "name": "stdout",
     "output_type": "stream",
     "text": [
      "Moviepy - Done !\n",
      "Moviepy - video ready /home/danield/AnyoneAI/Curso/final_project/videos_data_aug/vidaug/data/trailer_aug/tt5141494_0063_aug_2.mp4\n",
      "Moviepy - Building video /home/danield/AnyoneAI/Curso/final_project/videos_data_aug/vidaug/data/trailer_aug/tt5141494_0063_aug_3.mp4.\n",
      "Moviepy - Writing video /home/danield/AnyoneAI/Curso/final_project/videos_data_aug/vidaug/data/trailer_aug/tt5141494_0063_aug_3.mp4\n",
      "\n"
     ]
    },
    {
     "name": "stderr",
     "output_type": "stream",
     "text": [
      "                                                            \r"
     ]
    },
    {
     "name": "stdout",
     "output_type": "stream",
     "text": [
      "Moviepy - Done !\n",
      "Moviepy - video ready /home/danield/AnyoneAI/Curso/final_project/videos_data_aug/vidaug/data/trailer_aug/tt5141494_0063_aug_3.mp4\n",
      "Moviepy - Building video /home/danield/AnyoneAI/Curso/final_project/videos_data_aug/vidaug/data/trailer_aug/tt5141494_0063_aug_4.mp4.\n",
      "Moviepy - Writing video /home/danield/AnyoneAI/Curso/final_project/videos_data_aug/vidaug/data/trailer_aug/tt5141494_0063_aug_4.mp4\n",
      "\n"
     ]
    },
    {
     "name": "stderr",
     "output_type": "stream",
     "text": [
      "                                                            \r"
     ]
    },
    {
     "name": "stdout",
     "output_type": "stream",
     "text": [
      "Moviepy - Done !\n",
      "Moviepy - video ready /home/danield/AnyoneAI/Curso/final_project/videos_data_aug/vidaug/data/trailer_aug/tt5141494_0063_aug_4.mp4\n",
      "Moviepy - Building video /home/danield/AnyoneAI/Curso/final_project/videos_data_aug/vidaug/data/trailer_aug/tt5141494_0063_aug_5.mp4.\n",
      "Moviepy - Writing video /home/danield/AnyoneAI/Curso/final_project/videos_data_aug/vidaug/data/trailer_aug/tt5141494_0063_aug_5.mp4\n",
      "\n"
     ]
    },
    {
     "name": "stderr",
     "output_type": "stream",
     "text": [
      "                                                            \r"
     ]
    },
    {
     "name": "stdout",
     "output_type": "stream",
     "text": [
      "Moviepy - Done !\n",
      "Moviepy - video ready /home/danield/AnyoneAI/Curso/final_project/videos_data_aug/vidaug/data/trailer_aug/tt5141494_0063_aug_5.mp4\n",
      "Moviepy - Building video /home/danield/AnyoneAI/Curso/final_project/videos_data_aug/vidaug/data/trailer_aug/tt5141494_0063_aug_6.mp4.\n",
      "Moviepy - Writing video /home/danield/AnyoneAI/Curso/final_project/videos_data_aug/vidaug/data/trailer_aug/tt5141494_0063_aug_6.mp4\n",
      "\n"
     ]
    },
    {
     "name": "stderr",
     "output_type": "stream",
     "text": [
      "                                                             \r"
     ]
    },
    {
     "name": "stdout",
     "output_type": "stream",
     "text": [
      "Moviepy - Done !\n",
      "Moviepy - video ready /home/danield/AnyoneAI/Curso/final_project/videos_data_aug/vidaug/data/trailer_aug/tt5141494_0063_aug_6.mp4\n",
      "Moviepy - Building video /home/danield/AnyoneAI/Curso/final_project/videos_data_aug/vidaug/data/trailer_aug/tt5141494_0063_aug_7.mp4.\n",
      "Moviepy - Writing video /home/danield/AnyoneAI/Curso/final_project/videos_data_aug/vidaug/data/trailer_aug/tt5141494_0063_aug_7.mp4\n",
      "\n"
     ]
    },
    {
     "name": "stderr",
     "output_type": "stream",
     "text": [
      "                                                           \r"
     ]
    },
    {
     "name": "stdout",
     "output_type": "stream",
     "text": [
      "Moviepy - Done !\n",
      "Moviepy - video ready /home/danield/AnyoneAI/Curso/final_project/videos_data_aug/vidaug/data/trailer_aug/tt5141494_0063_aug_7.mp4\n",
      "processing video 31/853\n",
      "Moviepy - Building video /home/danield/AnyoneAI/Curso/final_project/videos_data_aug/vidaug/data/trailer_aug/tt5141494_0065_aug_0.mp4.\n",
      "Moviepy - Writing video /home/danield/AnyoneAI/Curso/final_project/videos_data_aug/vidaug/data/trailer_aug/tt5141494_0065_aug_0.mp4\n",
      "\n"
     ]
    },
    {
     "name": "stderr",
     "output_type": "stream",
     "text": [
      "                                                            \r"
     ]
    },
    {
     "name": "stdout",
     "output_type": "stream",
     "text": [
      "Moviepy - Done !\n",
      "Moviepy - video ready /home/danield/AnyoneAI/Curso/final_project/videos_data_aug/vidaug/data/trailer_aug/tt5141494_0065_aug_0.mp4\n",
      "Moviepy - Building video /home/danield/AnyoneAI/Curso/final_project/videos_data_aug/vidaug/data/trailer_aug/tt5141494_0065_aug_1.mp4.\n",
      "Moviepy - Writing video /home/danield/AnyoneAI/Curso/final_project/videos_data_aug/vidaug/data/trailer_aug/tt5141494_0065_aug_1.mp4\n",
      "\n"
     ]
    },
    {
     "name": "stderr",
     "output_type": "stream",
     "text": [
      "                                                            \r"
     ]
    },
    {
     "name": "stdout",
     "output_type": "stream",
     "text": [
      "Moviepy - Done !\n",
      "Moviepy - video ready /home/danield/AnyoneAI/Curso/final_project/videos_data_aug/vidaug/data/trailer_aug/tt5141494_0065_aug_1.mp4\n",
      "Moviepy - Building video /home/danield/AnyoneAI/Curso/final_project/videos_data_aug/vidaug/data/trailer_aug/tt5141494_0065_aug_2.mp4.\n",
      "Moviepy - Writing video /home/danield/AnyoneAI/Curso/final_project/videos_data_aug/vidaug/data/trailer_aug/tt5141494_0065_aug_2.mp4\n",
      "\n"
     ]
    },
    {
     "name": "stderr",
     "output_type": "stream",
     "text": [
      "                                                            \r"
     ]
    },
    {
     "name": "stdout",
     "output_type": "stream",
     "text": [
      "Moviepy - Done !\n",
      "Moviepy - video ready /home/danield/AnyoneAI/Curso/final_project/videos_data_aug/vidaug/data/trailer_aug/tt5141494_0065_aug_2.mp4\n",
      "Moviepy - Building video /home/danield/AnyoneAI/Curso/final_project/videos_data_aug/vidaug/data/trailer_aug/tt5141494_0065_aug_3.mp4.\n",
      "Moviepy - Writing video /home/danield/AnyoneAI/Curso/final_project/videos_data_aug/vidaug/data/trailer_aug/tt5141494_0065_aug_3.mp4\n",
      "\n"
     ]
    },
    {
     "name": "stderr",
     "output_type": "stream",
     "text": [
      "                                                            \r"
     ]
    },
    {
     "name": "stdout",
     "output_type": "stream",
     "text": [
      "Moviepy - Done !\n",
      "Moviepy - video ready /home/danield/AnyoneAI/Curso/final_project/videos_data_aug/vidaug/data/trailer_aug/tt5141494_0065_aug_3.mp4\n",
      "Moviepy - Building video /home/danield/AnyoneAI/Curso/final_project/videos_data_aug/vidaug/data/trailer_aug/tt5141494_0065_aug_4.mp4.\n",
      "Moviepy - Writing video /home/danield/AnyoneAI/Curso/final_project/videos_data_aug/vidaug/data/trailer_aug/tt5141494_0065_aug_4.mp4\n",
      "\n"
     ]
    },
    {
     "name": "stderr",
     "output_type": "stream",
     "text": [
      "                                                            \r"
     ]
    },
    {
     "name": "stdout",
     "output_type": "stream",
     "text": [
      "Moviepy - Done !\n",
      "Moviepy - video ready /home/danield/AnyoneAI/Curso/final_project/videos_data_aug/vidaug/data/trailer_aug/tt5141494_0065_aug_4.mp4\n",
      "Moviepy - Building video /home/danield/AnyoneAI/Curso/final_project/videos_data_aug/vidaug/data/trailer_aug/tt5141494_0065_aug_5.mp4.\n",
      "Moviepy - Writing video /home/danield/AnyoneAI/Curso/final_project/videos_data_aug/vidaug/data/trailer_aug/tt5141494_0065_aug_5.mp4\n",
      "\n"
     ]
    },
    {
     "name": "stderr",
     "output_type": "stream",
     "text": [
      "                                                            \r"
     ]
    },
    {
     "name": "stdout",
     "output_type": "stream",
     "text": [
      "Moviepy - Done !\n",
      "Moviepy - video ready /home/danield/AnyoneAI/Curso/final_project/videos_data_aug/vidaug/data/trailer_aug/tt5141494_0065_aug_5.mp4\n",
      "Moviepy - Building video /home/danield/AnyoneAI/Curso/final_project/videos_data_aug/vidaug/data/trailer_aug/tt5141494_0065_aug_6.mp4.\n",
      "Moviepy - Writing video /home/danield/AnyoneAI/Curso/final_project/videos_data_aug/vidaug/data/trailer_aug/tt5141494_0065_aug_6.mp4\n",
      "\n"
     ]
    },
    {
     "name": "stderr",
     "output_type": "stream",
     "text": [
      "                                                            \r"
     ]
    },
    {
     "name": "stdout",
     "output_type": "stream",
     "text": [
      "Moviepy - Done !\n",
      "Moviepy - video ready /home/danield/AnyoneAI/Curso/final_project/videos_data_aug/vidaug/data/trailer_aug/tt5141494_0065_aug_6.mp4\n",
      "Moviepy - Building video /home/danield/AnyoneAI/Curso/final_project/videos_data_aug/vidaug/data/trailer_aug/tt5141494_0065_aug_7.mp4.\n",
      "Moviepy - Writing video /home/danield/AnyoneAI/Curso/final_project/videos_data_aug/vidaug/data/trailer_aug/tt5141494_0065_aug_7.mp4\n",
      "\n"
     ]
    },
    {
     "name": "stderr",
     "output_type": "stream",
     "text": [
      "                                                            \r"
     ]
    },
    {
     "name": "stdout",
     "output_type": "stream",
     "text": [
      "Moviepy - Done !\n",
      "Moviepy - video ready /home/danield/AnyoneAI/Curso/final_project/videos_data_aug/vidaug/data/trailer_aug/tt5141494_0065_aug_7.mp4\n",
      "processing video 32/853\n",
      "Moviepy - Building video /home/danield/AnyoneAI/Curso/final_project/videos_data_aug/vidaug/data/trailer_aug/tt3109072_0034_aug_0.mp4.\n",
      "Moviepy - Writing video /home/danield/AnyoneAI/Curso/final_project/videos_data_aug/vidaug/data/trailer_aug/tt3109072_0034_aug_0.mp4\n",
      "\n"
     ]
    },
    {
     "name": "stderr",
     "output_type": "stream",
     "text": [
      "                                                            \r"
     ]
    },
    {
     "name": "stdout",
     "output_type": "stream",
     "text": [
      "Moviepy - Done !\n",
      "Moviepy - video ready /home/danield/AnyoneAI/Curso/final_project/videos_data_aug/vidaug/data/trailer_aug/tt3109072_0034_aug_0.mp4\n",
      "Moviepy - Building video /home/danield/AnyoneAI/Curso/final_project/videos_data_aug/vidaug/data/trailer_aug/tt3109072_0034_aug_1.mp4.\n",
      "Moviepy - Writing video /home/danield/AnyoneAI/Curso/final_project/videos_data_aug/vidaug/data/trailer_aug/tt3109072_0034_aug_1.mp4\n",
      "\n"
     ]
    },
    {
     "name": "stderr",
     "output_type": "stream",
     "text": [
      "                                                            \r"
     ]
    },
    {
     "name": "stdout",
     "output_type": "stream",
     "text": [
      "Moviepy - Done !\n",
      "Moviepy - video ready /home/danield/AnyoneAI/Curso/final_project/videos_data_aug/vidaug/data/trailer_aug/tt3109072_0034_aug_1.mp4\n",
      "Moviepy - Building video /home/danield/AnyoneAI/Curso/final_project/videos_data_aug/vidaug/data/trailer_aug/tt3109072_0034_aug_2.mp4.\n",
      "Moviepy - Writing video /home/danield/AnyoneAI/Curso/final_project/videos_data_aug/vidaug/data/trailer_aug/tt3109072_0034_aug_2.mp4\n",
      "\n"
     ]
    },
    {
     "name": "stderr",
     "output_type": "stream",
     "text": [
      "                                                            \r"
     ]
    },
    {
     "name": "stdout",
     "output_type": "stream",
     "text": [
      "Moviepy - Done !\n",
      "Moviepy - video ready /home/danield/AnyoneAI/Curso/final_project/videos_data_aug/vidaug/data/trailer_aug/tt3109072_0034_aug_2.mp4\n",
      "Moviepy - Building video /home/danield/AnyoneAI/Curso/final_project/videos_data_aug/vidaug/data/trailer_aug/tt3109072_0034_aug_3.mp4.\n",
      "Moviepy - Writing video /home/danield/AnyoneAI/Curso/final_project/videos_data_aug/vidaug/data/trailer_aug/tt3109072_0034_aug_3.mp4\n",
      "\n"
     ]
    },
    {
     "name": "stderr",
     "output_type": "stream",
     "text": [
      "                                                             \r"
     ]
    },
    {
     "name": "stdout",
     "output_type": "stream",
     "text": [
      "Moviepy - Done !\n",
      "Moviepy - video ready /home/danield/AnyoneAI/Curso/final_project/videos_data_aug/vidaug/data/trailer_aug/tt3109072_0034_aug_3.mp4\n",
      "Moviepy - Building video /home/danield/AnyoneAI/Curso/final_project/videos_data_aug/vidaug/data/trailer_aug/tt3109072_0034_aug_4.mp4.\n",
      "Moviepy - Writing video /home/danield/AnyoneAI/Curso/final_project/videos_data_aug/vidaug/data/trailer_aug/tt3109072_0034_aug_4.mp4\n",
      "\n"
     ]
    },
    {
     "name": "stderr",
     "output_type": "stream",
     "text": [
      "                                                            \r"
     ]
    },
    {
     "name": "stdout",
     "output_type": "stream",
     "text": [
      "Moviepy - Done !\n",
      "Moviepy - video ready /home/danield/AnyoneAI/Curso/final_project/videos_data_aug/vidaug/data/trailer_aug/tt3109072_0034_aug_4.mp4\n",
      "Moviepy - Building video /home/danield/AnyoneAI/Curso/final_project/videos_data_aug/vidaug/data/trailer_aug/tt3109072_0034_aug_5.mp4.\n",
      "Moviepy - Writing video /home/danield/AnyoneAI/Curso/final_project/videos_data_aug/vidaug/data/trailer_aug/tt3109072_0034_aug_5.mp4\n",
      "\n"
     ]
    },
    {
     "name": "stderr",
     "output_type": "stream",
     "text": [
      "                                                            \r"
     ]
    },
    {
     "name": "stdout",
     "output_type": "stream",
     "text": [
      "Moviepy - Done !\n",
      "Moviepy - video ready /home/danield/AnyoneAI/Curso/final_project/videos_data_aug/vidaug/data/trailer_aug/tt3109072_0034_aug_5.mp4\n",
      "Moviepy - Building video /home/danield/AnyoneAI/Curso/final_project/videos_data_aug/vidaug/data/trailer_aug/tt3109072_0034_aug_6.mp4.\n",
      "Moviepy - Writing video /home/danield/AnyoneAI/Curso/final_project/videos_data_aug/vidaug/data/trailer_aug/tt3109072_0034_aug_6.mp4\n",
      "\n"
     ]
    },
    {
     "name": "stderr",
     "output_type": "stream",
     "text": [
      "                                                            \r"
     ]
    },
    {
     "name": "stdout",
     "output_type": "stream",
     "text": [
      "Moviepy - Done !\n",
      "Moviepy - video ready /home/danield/AnyoneAI/Curso/final_project/videos_data_aug/vidaug/data/trailer_aug/tt3109072_0034_aug_6.mp4\n",
      "Moviepy - Building video /home/danield/AnyoneAI/Curso/final_project/videos_data_aug/vidaug/data/trailer_aug/tt3109072_0034_aug_7.mp4.\n",
      "Moviepy - Writing video /home/danield/AnyoneAI/Curso/final_project/videos_data_aug/vidaug/data/trailer_aug/tt3109072_0034_aug_7.mp4\n",
      "\n"
     ]
    },
    {
     "name": "stderr",
     "output_type": "stream",
     "text": [
      "                                                           \r"
     ]
    },
    {
     "name": "stdout",
     "output_type": "stream",
     "text": [
      "Moviepy - Done !\n",
      "Moviepy - video ready /home/danield/AnyoneAI/Curso/final_project/videos_data_aug/vidaug/data/trailer_aug/tt3109072_0034_aug_7.mp4\n",
      "processing video 33/853\n",
      "Moviepy - Building video /home/danield/AnyoneAI/Curso/final_project/videos_data_aug/vidaug/data/trailer_aug/tt2578608_0017_aug_0.mp4.\n",
      "Moviepy - Writing video /home/danield/AnyoneAI/Curso/final_project/videos_data_aug/vidaug/data/trailer_aug/tt2578608_0017_aug_0.mp4\n",
      "\n"
     ]
    },
    {
     "name": "stderr",
     "output_type": "stream",
     "text": [
      "                                                            \r"
     ]
    },
    {
     "name": "stdout",
     "output_type": "stream",
     "text": [
      "Moviepy - Done !\n",
      "Moviepy - video ready /home/danield/AnyoneAI/Curso/final_project/videos_data_aug/vidaug/data/trailer_aug/tt2578608_0017_aug_0.mp4\n",
      "Moviepy - Building video /home/danield/AnyoneAI/Curso/final_project/videos_data_aug/vidaug/data/trailer_aug/tt2578608_0017_aug_1.mp4.\n",
      "Moviepy - Writing video /home/danield/AnyoneAI/Curso/final_project/videos_data_aug/vidaug/data/trailer_aug/tt2578608_0017_aug_1.mp4\n",
      "\n"
     ]
    },
    {
     "name": "stderr",
     "output_type": "stream",
     "text": [
      "                                                            \r"
     ]
    },
    {
     "name": "stdout",
     "output_type": "stream",
     "text": [
      "Moviepy - Done !\n",
      "Moviepy - video ready /home/danield/AnyoneAI/Curso/final_project/videos_data_aug/vidaug/data/trailer_aug/tt2578608_0017_aug_1.mp4\n",
      "Moviepy - Building video /home/danield/AnyoneAI/Curso/final_project/videos_data_aug/vidaug/data/trailer_aug/tt2578608_0017_aug_2.mp4.\n",
      "Moviepy - Writing video /home/danield/AnyoneAI/Curso/final_project/videos_data_aug/vidaug/data/trailer_aug/tt2578608_0017_aug_2.mp4\n",
      "\n"
     ]
    },
    {
     "name": "stderr",
     "output_type": "stream",
     "text": [
      "                                                            \r"
     ]
    },
    {
     "name": "stdout",
     "output_type": "stream",
     "text": [
      "Moviepy - Done !\n",
      "Moviepy - video ready /home/danield/AnyoneAI/Curso/final_project/videos_data_aug/vidaug/data/trailer_aug/tt2578608_0017_aug_2.mp4\n",
      "Moviepy - Building video /home/danield/AnyoneAI/Curso/final_project/videos_data_aug/vidaug/data/trailer_aug/tt2578608_0017_aug_3.mp4.\n",
      "Moviepy - Writing video /home/danield/AnyoneAI/Curso/final_project/videos_data_aug/vidaug/data/trailer_aug/tt2578608_0017_aug_3.mp4\n",
      "\n"
     ]
    },
    {
     "name": "stderr",
     "output_type": "stream",
     "text": [
      "                                                            \r"
     ]
    },
    {
     "name": "stdout",
     "output_type": "stream",
     "text": [
      "Moviepy - Done !\n",
      "Moviepy - video ready /home/danield/AnyoneAI/Curso/final_project/videos_data_aug/vidaug/data/trailer_aug/tt2578608_0017_aug_3.mp4\n",
      "Moviepy - Building video /home/danield/AnyoneAI/Curso/final_project/videos_data_aug/vidaug/data/trailer_aug/tt2578608_0017_aug_4.mp4.\n",
      "Moviepy - Writing video /home/danield/AnyoneAI/Curso/final_project/videos_data_aug/vidaug/data/trailer_aug/tt2578608_0017_aug_4.mp4\n",
      "\n"
     ]
    },
    {
     "name": "stderr",
     "output_type": "stream",
     "text": [
      "                                                            \r"
     ]
    },
    {
     "name": "stdout",
     "output_type": "stream",
     "text": [
      "Moviepy - Done !\n",
      "Moviepy - video ready /home/danield/AnyoneAI/Curso/final_project/videos_data_aug/vidaug/data/trailer_aug/tt2578608_0017_aug_4.mp4\n",
      "Moviepy - Building video /home/danield/AnyoneAI/Curso/final_project/videos_data_aug/vidaug/data/trailer_aug/tt2578608_0017_aug_5.mp4.\n",
      "Moviepy - Writing video /home/danield/AnyoneAI/Curso/final_project/videos_data_aug/vidaug/data/trailer_aug/tt2578608_0017_aug_5.mp4\n",
      "\n"
     ]
    },
    {
     "name": "stderr",
     "output_type": "stream",
     "text": [
      "                                                            \r"
     ]
    },
    {
     "name": "stdout",
     "output_type": "stream",
     "text": [
      "Moviepy - Done !\n",
      "Moviepy - video ready /home/danield/AnyoneAI/Curso/final_project/videos_data_aug/vidaug/data/trailer_aug/tt2578608_0017_aug_5.mp4\n",
      "Moviepy - Building video /home/danield/AnyoneAI/Curso/final_project/videos_data_aug/vidaug/data/trailer_aug/tt2578608_0017_aug_6.mp4.\n",
      "Moviepy - Writing video /home/danield/AnyoneAI/Curso/final_project/videos_data_aug/vidaug/data/trailer_aug/tt2578608_0017_aug_6.mp4\n",
      "\n"
     ]
    },
    {
     "name": "stderr",
     "output_type": "stream",
     "text": [
      "                                                             \r"
     ]
    },
    {
     "name": "stdout",
     "output_type": "stream",
     "text": [
      "Moviepy - Done !\n",
      "Moviepy - video ready /home/danield/AnyoneAI/Curso/final_project/videos_data_aug/vidaug/data/trailer_aug/tt2578608_0017_aug_6.mp4\n",
      "Moviepy - Building video /home/danield/AnyoneAI/Curso/final_project/videos_data_aug/vidaug/data/trailer_aug/tt2578608_0017_aug_7.mp4.\n",
      "Moviepy - Writing video /home/danield/AnyoneAI/Curso/final_project/videos_data_aug/vidaug/data/trailer_aug/tt2578608_0017_aug_7.mp4\n",
      "\n"
     ]
    },
    {
     "name": "stderr",
     "output_type": "stream",
     "text": [
      "                                                           \r"
     ]
    },
    {
     "name": "stdout",
     "output_type": "stream",
     "text": [
      "Moviepy - Done !\n",
      "Moviepy - video ready /home/danield/AnyoneAI/Curso/final_project/videos_data_aug/vidaug/data/trailer_aug/tt2578608_0017_aug_7.mp4\n",
      "processing video 34/853\n",
      "Moviepy - Building video /home/danield/AnyoneAI/Curso/final_project/videos_data_aug/vidaug/data/trailer_aug/tt1054631_0044_aug_0.mp4.\n",
      "Moviepy - Writing video /home/danield/AnyoneAI/Curso/final_project/videos_data_aug/vidaug/data/trailer_aug/tt1054631_0044_aug_0.mp4\n",
      "\n"
     ]
    },
    {
     "name": "stderr",
     "output_type": "stream",
     "text": [
      "                                                            \r"
     ]
    },
    {
     "name": "stdout",
     "output_type": "stream",
     "text": [
      "Moviepy - Done !\n",
      "Moviepy - video ready /home/danield/AnyoneAI/Curso/final_project/videos_data_aug/vidaug/data/trailer_aug/tt1054631_0044_aug_0.mp4\n",
      "Moviepy - Building video /home/danield/AnyoneAI/Curso/final_project/videos_data_aug/vidaug/data/trailer_aug/tt1054631_0044_aug_1.mp4.\n",
      "Moviepy - Writing video /home/danield/AnyoneAI/Curso/final_project/videos_data_aug/vidaug/data/trailer_aug/tt1054631_0044_aug_1.mp4\n",
      "\n"
     ]
    },
    {
     "name": "stderr",
     "output_type": "stream",
     "text": [
      "                                                            \r"
     ]
    },
    {
     "name": "stdout",
     "output_type": "stream",
     "text": [
      "Moviepy - Done !\n",
      "Moviepy - video ready /home/danield/AnyoneAI/Curso/final_project/videos_data_aug/vidaug/data/trailer_aug/tt1054631_0044_aug_1.mp4\n",
      "Moviepy - Building video /home/danield/AnyoneAI/Curso/final_project/videos_data_aug/vidaug/data/trailer_aug/tt1054631_0044_aug_2.mp4.\n",
      "Moviepy - Writing video /home/danield/AnyoneAI/Curso/final_project/videos_data_aug/vidaug/data/trailer_aug/tt1054631_0044_aug_2.mp4\n",
      "\n"
     ]
    },
    {
     "name": "stderr",
     "output_type": "stream",
     "text": [
      "                                                            \r"
     ]
    },
    {
     "name": "stdout",
     "output_type": "stream",
     "text": [
      "Moviepy - Done !\n",
      "Moviepy - video ready /home/danield/AnyoneAI/Curso/final_project/videos_data_aug/vidaug/data/trailer_aug/tt1054631_0044_aug_2.mp4\n",
      "Moviepy - Building video /home/danield/AnyoneAI/Curso/final_project/videos_data_aug/vidaug/data/trailer_aug/tt1054631_0044_aug_3.mp4.\n",
      "Moviepy - Writing video /home/danield/AnyoneAI/Curso/final_project/videos_data_aug/vidaug/data/trailer_aug/tt1054631_0044_aug_3.mp4\n",
      "\n"
     ]
    },
    {
     "name": "stderr",
     "output_type": "stream",
     "text": [
      "                                                            \r"
     ]
    },
    {
     "name": "stdout",
     "output_type": "stream",
     "text": [
      "Moviepy - Done !\n",
      "Moviepy - video ready /home/danield/AnyoneAI/Curso/final_project/videos_data_aug/vidaug/data/trailer_aug/tt1054631_0044_aug_3.mp4\n",
      "Moviepy - Building video /home/danield/AnyoneAI/Curso/final_project/videos_data_aug/vidaug/data/trailer_aug/tt1054631_0044_aug_4.mp4.\n",
      "Moviepy - Writing video /home/danield/AnyoneAI/Curso/final_project/videos_data_aug/vidaug/data/trailer_aug/tt1054631_0044_aug_4.mp4\n",
      "\n"
     ]
    },
    {
     "name": "stderr",
     "output_type": "stream",
     "text": [
      "                                                            \r"
     ]
    },
    {
     "name": "stdout",
     "output_type": "stream",
     "text": [
      "Moviepy - Done !\n",
      "Moviepy - video ready /home/danield/AnyoneAI/Curso/final_project/videos_data_aug/vidaug/data/trailer_aug/tt1054631_0044_aug_4.mp4\n",
      "Moviepy - Building video /home/danield/AnyoneAI/Curso/final_project/videos_data_aug/vidaug/data/trailer_aug/tt1054631_0044_aug_5.mp4.\n",
      "Moviepy - Writing video /home/danield/AnyoneAI/Curso/final_project/videos_data_aug/vidaug/data/trailer_aug/tt1054631_0044_aug_5.mp4\n",
      "\n"
     ]
    },
    {
     "name": "stderr",
     "output_type": "stream",
     "text": [
      "                                                            \r"
     ]
    },
    {
     "name": "stdout",
     "output_type": "stream",
     "text": [
      "Moviepy - Done !\n",
      "Moviepy - video ready /home/danield/AnyoneAI/Curso/final_project/videos_data_aug/vidaug/data/trailer_aug/tt1054631_0044_aug_5.mp4\n",
      "Moviepy - Building video /home/danield/AnyoneAI/Curso/final_project/videos_data_aug/vidaug/data/trailer_aug/tt1054631_0044_aug_6.mp4.\n",
      "Moviepy - Writing video /home/danield/AnyoneAI/Curso/final_project/videos_data_aug/vidaug/data/trailer_aug/tt1054631_0044_aug_6.mp4\n",
      "\n"
     ]
    },
    {
     "name": "stderr",
     "output_type": "stream",
     "text": [
      "                                                            \r"
     ]
    },
    {
     "name": "stdout",
     "output_type": "stream",
     "text": [
      "Moviepy - Done !\n",
      "Moviepy - video ready /home/danield/AnyoneAI/Curso/final_project/videos_data_aug/vidaug/data/trailer_aug/tt1054631_0044_aug_6.mp4\n",
      "Moviepy - Building video /home/danield/AnyoneAI/Curso/final_project/videos_data_aug/vidaug/data/trailer_aug/tt1054631_0044_aug_7.mp4.\n",
      "Moviepy - Writing video /home/danield/AnyoneAI/Curso/final_project/videos_data_aug/vidaug/data/trailer_aug/tt1054631_0044_aug_7.mp4\n",
      "\n"
     ]
    },
    {
     "name": "stderr",
     "output_type": "stream",
     "text": [
      "                                                           \r"
     ]
    },
    {
     "name": "stdout",
     "output_type": "stream",
     "text": [
      "Moviepy - Done !\n",
      "Moviepy - video ready /home/danield/AnyoneAI/Curso/final_project/videos_data_aug/vidaug/data/trailer_aug/tt1054631_0044_aug_7.mp4\n",
      "processing video 35/853\n",
      "Moviepy - Building video /home/danield/AnyoneAI/Curso/final_project/videos_data_aug/vidaug/data/trailer_aug/tt1860213_0088_aug_0.mp4.\n",
      "Moviepy - Writing video /home/danield/AnyoneAI/Curso/final_project/videos_data_aug/vidaug/data/trailer_aug/tt1860213_0088_aug_0.mp4\n",
      "\n"
     ]
    },
    {
     "name": "stderr",
     "output_type": "stream",
     "text": [
      "                                                            \r"
     ]
    },
    {
     "name": "stdout",
     "output_type": "stream",
     "text": [
      "Moviepy - Done !\n",
      "Moviepy - video ready /home/danield/AnyoneAI/Curso/final_project/videos_data_aug/vidaug/data/trailer_aug/tt1860213_0088_aug_0.mp4\n",
      "Moviepy - Building video /home/danield/AnyoneAI/Curso/final_project/videos_data_aug/vidaug/data/trailer_aug/tt1860213_0088_aug_1.mp4.\n",
      "Moviepy - Writing video /home/danield/AnyoneAI/Curso/final_project/videos_data_aug/vidaug/data/trailer_aug/tt1860213_0088_aug_1.mp4\n",
      "\n"
     ]
    },
    {
     "name": "stderr",
     "output_type": "stream",
     "text": [
      "                                                            \r"
     ]
    },
    {
     "name": "stdout",
     "output_type": "stream",
     "text": [
      "Moviepy - Done !\n",
      "Moviepy - video ready /home/danield/AnyoneAI/Curso/final_project/videos_data_aug/vidaug/data/trailer_aug/tt1860213_0088_aug_1.mp4\n",
      "Moviepy - Building video /home/danield/AnyoneAI/Curso/final_project/videos_data_aug/vidaug/data/trailer_aug/tt1860213_0088_aug_2.mp4.\n",
      "Moviepy - Writing video /home/danield/AnyoneAI/Curso/final_project/videos_data_aug/vidaug/data/trailer_aug/tt1860213_0088_aug_2.mp4\n",
      "\n"
     ]
    },
    {
     "name": "stderr",
     "output_type": "stream",
     "text": [
      "                                                            \r"
     ]
    },
    {
     "name": "stdout",
     "output_type": "stream",
     "text": [
      "Moviepy - Done !\n",
      "Moviepy - video ready /home/danield/AnyoneAI/Curso/final_project/videos_data_aug/vidaug/data/trailer_aug/tt1860213_0088_aug_2.mp4\n",
      "Moviepy - Building video /home/danield/AnyoneAI/Curso/final_project/videos_data_aug/vidaug/data/trailer_aug/tt1860213_0088_aug_3.mp4.\n",
      "Moviepy - Writing video /home/danield/AnyoneAI/Curso/final_project/videos_data_aug/vidaug/data/trailer_aug/tt1860213_0088_aug_3.mp4\n",
      "\n"
     ]
    },
    {
     "name": "stderr",
     "output_type": "stream",
     "text": [
      "                                                             \r"
     ]
    },
    {
     "name": "stdout",
     "output_type": "stream",
     "text": [
      "Moviepy - Done !\n",
      "Moviepy - video ready /home/danield/AnyoneAI/Curso/final_project/videos_data_aug/vidaug/data/trailer_aug/tt1860213_0088_aug_3.mp4\n",
      "Moviepy - Building video /home/danield/AnyoneAI/Curso/final_project/videos_data_aug/vidaug/data/trailer_aug/tt1860213_0088_aug_4.mp4.\n",
      "Moviepy - Writing video /home/danield/AnyoneAI/Curso/final_project/videos_data_aug/vidaug/data/trailer_aug/tt1860213_0088_aug_4.mp4\n",
      "\n"
     ]
    },
    {
     "name": "stderr",
     "output_type": "stream",
     "text": [
      "                                                            \r"
     ]
    },
    {
     "name": "stdout",
     "output_type": "stream",
     "text": [
      "Moviepy - Done !\n",
      "Moviepy - video ready /home/danield/AnyoneAI/Curso/final_project/videos_data_aug/vidaug/data/trailer_aug/tt1860213_0088_aug_4.mp4\n",
      "Moviepy - Building video /home/danield/AnyoneAI/Curso/final_project/videos_data_aug/vidaug/data/trailer_aug/tt1860213_0088_aug_5.mp4.\n",
      "Moviepy - Writing video /home/danield/AnyoneAI/Curso/final_project/videos_data_aug/vidaug/data/trailer_aug/tt1860213_0088_aug_5.mp4\n",
      "\n"
     ]
    },
    {
     "name": "stderr",
     "output_type": "stream",
     "text": [
      "                                                             \r"
     ]
    },
    {
     "name": "stdout",
     "output_type": "stream",
     "text": [
      "Moviepy - Done !\n",
      "Moviepy - video ready /home/danield/AnyoneAI/Curso/final_project/videos_data_aug/vidaug/data/trailer_aug/tt1860213_0088_aug_5.mp4\n",
      "Moviepy - Building video /home/danield/AnyoneAI/Curso/final_project/videos_data_aug/vidaug/data/trailer_aug/tt1860213_0088_aug_6.mp4.\n",
      "Moviepy - Writing video /home/danield/AnyoneAI/Curso/final_project/videos_data_aug/vidaug/data/trailer_aug/tt1860213_0088_aug_6.mp4\n",
      "\n"
     ]
    },
    {
     "name": "stderr",
     "output_type": "stream",
     "text": [
      "                                                             \r"
     ]
    },
    {
     "name": "stdout",
     "output_type": "stream",
     "text": [
      "Moviepy - Done !\n",
      "Moviepy - video ready /home/danield/AnyoneAI/Curso/final_project/videos_data_aug/vidaug/data/trailer_aug/tt1860213_0088_aug_6.mp4\n",
      "Moviepy - Building video /home/danield/AnyoneAI/Curso/final_project/videos_data_aug/vidaug/data/trailer_aug/tt1860213_0088_aug_7.mp4.\n",
      "Moviepy - Writing video /home/danield/AnyoneAI/Curso/final_project/videos_data_aug/vidaug/data/trailer_aug/tt1860213_0088_aug_7.mp4\n",
      "\n"
     ]
    },
    {
     "name": "stderr",
     "output_type": "stream",
     "text": [
      "                                                   \r"
     ]
    },
    {
     "name": "stdout",
     "output_type": "stream",
     "text": [
      "Moviepy - Done !\n",
      "Moviepy - video ready /home/danield/AnyoneAI/Curso/final_project/videos_data_aug/vidaug/data/trailer_aug/tt1860213_0088_aug_7.mp4\n",
      "processing video 36/853\n",
      "Moviepy - Building video /home/danield/AnyoneAI/Curso/final_project/videos_data_aug/vidaug/data/trailer_aug/tt3475058_0004_aug_0.mp4.\n",
      "Moviepy - Writing video /home/danield/AnyoneAI/Curso/final_project/videos_data_aug/vidaug/data/trailer_aug/tt3475058_0004_aug_0.mp4\n",
      "\n"
     ]
    },
    {
     "name": "stderr",
     "output_type": "stream",
     "text": [
      "                                                            \r"
     ]
    },
    {
     "name": "stdout",
     "output_type": "stream",
     "text": [
      "Moviepy - Done !\n",
      "Moviepy - video ready /home/danield/AnyoneAI/Curso/final_project/videos_data_aug/vidaug/data/trailer_aug/tt3475058_0004_aug_0.mp4\n",
      "Moviepy - Building video /home/danield/AnyoneAI/Curso/final_project/videos_data_aug/vidaug/data/trailer_aug/tt3475058_0004_aug_1.mp4.\n",
      "Moviepy - Writing video /home/danield/AnyoneAI/Curso/final_project/videos_data_aug/vidaug/data/trailer_aug/tt3475058_0004_aug_1.mp4\n",
      "\n"
     ]
    },
    {
     "name": "stderr",
     "output_type": "stream",
     "text": [
      "                                                            \r"
     ]
    },
    {
     "name": "stdout",
     "output_type": "stream",
     "text": [
      "Moviepy - Done !\n",
      "Moviepy - video ready /home/danield/AnyoneAI/Curso/final_project/videos_data_aug/vidaug/data/trailer_aug/tt3475058_0004_aug_1.mp4\n",
      "Moviepy - Building video /home/danield/AnyoneAI/Curso/final_project/videos_data_aug/vidaug/data/trailer_aug/tt3475058_0004_aug_2.mp4.\n",
      "Moviepy - Writing video /home/danield/AnyoneAI/Curso/final_project/videos_data_aug/vidaug/data/trailer_aug/tt3475058_0004_aug_2.mp4\n",
      "\n"
     ]
    },
    {
     "name": "stderr",
     "output_type": "stream",
     "text": [
      "                                                            \r"
     ]
    },
    {
     "name": "stdout",
     "output_type": "stream",
     "text": [
      "Moviepy - Done !\n",
      "Moviepy - video ready /home/danield/AnyoneAI/Curso/final_project/videos_data_aug/vidaug/data/trailer_aug/tt3475058_0004_aug_2.mp4\n",
      "Moviepy - Building video /home/danield/AnyoneAI/Curso/final_project/videos_data_aug/vidaug/data/trailer_aug/tt3475058_0004_aug_3.mp4.\n",
      "Moviepy - Writing video /home/danield/AnyoneAI/Curso/final_project/videos_data_aug/vidaug/data/trailer_aug/tt3475058_0004_aug_3.mp4\n",
      "\n"
     ]
    },
    {
     "name": "stderr",
     "output_type": "stream",
     "text": [
      "                                                            \r"
     ]
    },
    {
     "name": "stdout",
     "output_type": "stream",
     "text": [
      "Moviepy - Done !\n",
      "Moviepy - video ready /home/danield/AnyoneAI/Curso/final_project/videos_data_aug/vidaug/data/trailer_aug/tt3475058_0004_aug_3.mp4\n",
      "Moviepy - Building video /home/danield/AnyoneAI/Curso/final_project/videos_data_aug/vidaug/data/trailer_aug/tt3475058_0004_aug_4.mp4.\n",
      "Moviepy - Writing video /home/danield/AnyoneAI/Curso/final_project/videos_data_aug/vidaug/data/trailer_aug/tt3475058_0004_aug_4.mp4\n",
      "\n"
     ]
    },
    {
     "name": "stderr",
     "output_type": "stream",
     "text": [
      "                                                            \r"
     ]
    },
    {
     "name": "stdout",
     "output_type": "stream",
     "text": [
      "Moviepy - Done !\n",
      "Moviepy - video ready /home/danield/AnyoneAI/Curso/final_project/videos_data_aug/vidaug/data/trailer_aug/tt3475058_0004_aug_4.mp4\n",
      "Moviepy - Building video /home/danield/AnyoneAI/Curso/final_project/videos_data_aug/vidaug/data/trailer_aug/tt3475058_0004_aug_5.mp4.\n",
      "Moviepy - Writing video /home/danield/AnyoneAI/Curso/final_project/videos_data_aug/vidaug/data/trailer_aug/tt3475058_0004_aug_5.mp4\n",
      "\n"
     ]
    },
    {
     "name": "stderr",
     "output_type": "stream",
     "text": [
      "                                                            \r"
     ]
    },
    {
     "name": "stdout",
     "output_type": "stream",
     "text": [
      "Moviepy - Done !\n",
      "Moviepy - video ready /home/danield/AnyoneAI/Curso/final_project/videos_data_aug/vidaug/data/trailer_aug/tt3475058_0004_aug_5.mp4\n",
      "Moviepy - Building video /home/danield/AnyoneAI/Curso/final_project/videos_data_aug/vidaug/data/trailer_aug/tt3475058_0004_aug_6.mp4.\n",
      "Moviepy - Writing video /home/danield/AnyoneAI/Curso/final_project/videos_data_aug/vidaug/data/trailer_aug/tt3475058_0004_aug_6.mp4\n",
      "\n"
     ]
    },
    {
     "name": "stderr",
     "output_type": "stream",
     "text": [
      "                                                            \r"
     ]
    },
    {
     "name": "stdout",
     "output_type": "stream",
     "text": [
      "Moviepy - Done !\n",
      "Moviepy - video ready /home/danield/AnyoneAI/Curso/final_project/videos_data_aug/vidaug/data/trailer_aug/tt3475058_0004_aug_6.mp4\n",
      "Moviepy - Building video /home/danield/AnyoneAI/Curso/final_project/videos_data_aug/vidaug/data/trailer_aug/tt3475058_0004_aug_7.mp4.\n",
      "Moviepy - Writing video /home/danield/AnyoneAI/Curso/final_project/videos_data_aug/vidaug/data/trailer_aug/tt3475058_0004_aug_7.mp4\n",
      "\n"
     ]
    },
    {
     "name": "stderr",
     "output_type": "stream",
     "text": [
      "                                                           \r"
     ]
    },
    {
     "name": "stdout",
     "output_type": "stream",
     "text": [
      "Moviepy - Done !\n",
      "Moviepy - video ready /home/danield/AnyoneAI/Curso/final_project/videos_data_aug/vidaug/data/trailer_aug/tt3475058_0004_aug_7.mp4\n",
      "processing video 37/853\n",
      "Moviepy - Building video /home/danield/AnyoneAI/Curso/final_project/videos_data_aug/vidaug/data/trailer_aug/tt2078727_0048_aug_0.mp4.\n",
      "Moviepy - Writing video /home/danield/AnyoneAI/Curso/final_project/videos_data_aug/vidaug/data/trailer_aug/tt2078727_0048_aug_0.mp4\n",
      "\n"
     ]
    },
    {
     "name": "stderr",
     "output_type": "stream",
     "text": [
      "                                                            \r"
     ]
    },
    {
     "name": "stdout",
     "output_type": "stream",
     "text": [
      "Moviepy - Done !\n",
      "Moviepy - video ready /home/danield/AnyoneAI/Curso/final_project/videos_data_aug/vidaug/data/trailer_aug/tt2078727_0048_aug_0.mp4\n",
      "Moviepy - Building video /home/danield/AnyoneAI/Curso/final_project/videos_data_aug/vidaug/data/trailer_aug/tt2078727_0048_aug_1.mp4.\n",
      "Moviepy - Writing video /home/danield/AnyoneAI/Curso/final_project/videos_data_aug/vidaug/data/trailer_aug/tt2078727_0048_aug_1.mp4\n",
      "\n"
     ]
    },
    {
     "name": "stderr",
     "output_type": "stream",
     "text": [
      "                                                            \r"
     ]
    },
    {
     "name": "stdout",
     "output_type": "stream",
     "text": [
      "Moviepy - Done !\n",
      "Moviepy - video ready /home/danield/AnyoneAI/Curso/final_project/videos_data_aug/vidaug/data/trailer_aug/tt2078727_0048_aug_1.mp4\n",
      "Moviepy - Building video /home/danield/AnyoneAI/Curso/final_project/videos_data_aug/vidaug/data/trailer_aug/tt2078727_0048_aug_2.mp4.\n",
      "Moviepy - Writing video /home/danield/AnyoneAI/Curso/final_project/videos_data_aug/vidaug/data/trailer_aug/tt2078727_0048_aug_2.mp4\n",
      "\n"
     ]
    },
    {
     "name": "stderr",
     "output_type": "stream",
     "text": [
      "                                                            \r"
     ]
    },
    {
     "name": "stdout",
     "output_type": "stream",
     "text": [
      "Moviepy - Done !\n",
      "Moviepy - video ready /home/danield/AnyoneAI/Curso/final_project/videos_data_aug/vidaug/data/trailer_aug/tt2078727_0048_aug_2.mp4\n",
      "Moviepy - Building video /home/danield/AnyoneAI/Curso/final_project/videos_data_aug/vidaug/data/trailer_aug/tt2078727_0048_aug_3.mp4.\n",
      "Moviepy - Writing video /home/danield/AnyoneAI/Curso/final_project/videos_data_aug/vidaug/data/trailer_aug/tt2078727_0048_aug_3.mp4\n",
      "\n"
     ]
    },
    {
     "name": "stderr",
     "output_type": "stream",
     "text": [
      "                                                            \r"
     ]
    },
    {
     "name": "stdout",
     "output_type": "stream",
     "text": [
      "Moviepy - Done !\n",
      "Moviepy - video ready /home/danield/AnyoneAI/Curso/final_project/videos_data_aug/vidaug/data/trailer_aug/tt2078727_0048_aug_3.mp4\n",
      "Moviepy - Building video /home/danield/AnyoneAI/Curso/final_project/videos_data_aug/vidaug/data/trailer_aug/tt2078727_0048_aug_4.mp4.\n",
      "Moviepy - Writing video /home/danield/AnyoneAI/Curso/final_project/videos_data_aug/vidaug/data/trailer_aug/tt2078727_0048_aug_4.mp4\n",
      "\n"
     ]
    },
    {
     "name": "stderr",
     "output_type": "stream",
     "text": [
      "                                                            \r"
     ]
    },
    {
     "name": "stdout",
     "output_type": "stream",
     "text": [
      "Moviepy - Done !\n",
      "Moviepy - video ready /home/danield/AnyoneAI/Curso/final_project/videos_data_aug/vidaug/data/trailer_aug/tt2078727_0048_aug_4.mp4\n",
      "Moviepy - Building video /home/danield/AnyoneAI/Curso/final_project/videos_data_aug/vidaug/data/trailer_aug/tt2078727_0048_aug_5.mp4.\n",
      "Moviepy - Writing video /home/danield/AnyoneAI/Curso/final_project/videos_data_aug/vidaug/data/trailer_aug/tt2078727_0048_aug_5.mp4\n",
      "\n"
     ]
    },
    {
     "name": "stderr",
     "output_type": "stream",
     "text": [
      "                                                            \r"
     ]
    },
    {
     "name": "stdout",
     "output_type": "stream",
     "text": [
      "Moviepy - Done !\n",
      "Moviepy - video ready /home/danield/AnyoneAI/Curso/final_project/videos_data_aug/vidaug/data/trailer_aug/tt2078727_0048_aug_5.mp4\n",
      "Moviepy - Building video /home/danield/AnyoneAI/Curso/final_project/videos_data_aug/vidaug/data/trailer_aug/tt2078727_0048_aug_6.mp4.\n",
      "Moviepy - Writing video /home/danield/AnyoneAI/Curso/final_project/videos_data_aug/vidaug/data/trailer_aug/tt2078727_0048_aug_6.mp4\n",
      "\n"
     ]
    },
    {
     "name": "stderr",
     "output_type": "stream",
     "text": [
      "                                                            \r"
     ]
    },
    {
     "name": "stdout",
     "output_type": "stream",
     "text": [
      "Moviepy - Done !\n",
      "Moviepy - video ready /home/danield/AnyoneAI/Curso/final_project/videos_data_aug/vidaug/data/trailer_aug/tt2078727_0048_aug_6.mp4\n",
      "Moviepy - Building video /home/danield/AnyoneAI/Curso/final_project/videos_data_aug/vidaug/data/trailer_aug/tt2078727_0048_aug_7.mp4.\n",
      "Moviepy - Writing video /home/danield/AnyoneAI/Curso/final_project/videos_data_aug/vidaug/data/trailer_aug/tt2078727_0048_aug_7.mp4\n",
      "\n"
     ]
    },
    {
     "name": "stderr",
     "output_type": "stream",
     "text": [
      "                                                            \r"
     ]
    },
    {
     "name": "stdout",
     "output_type": "stream",
     "text": [
      "Moviepy - Done !\n",
      "Moviepy - video ready /home/danield/AnyoneAI/Curso/final_project/videos_data_aug/vidaug/data/trailer_aug/tt2078727_0048_aug_7.mp4\n",
      "processing video 38/853\n",
      "Moviepy - Building video /home/danield/AnyoneAI/Curso/final_project/videos_data_aug/vidaug/data/trailer_aug/tt2239034_0010_aug_0.mp4.\n",
      "Moviepy - Writing video /home/danield/AnyoneAI/Curso/final_project/videos_data_aug/vidaug/data/trailer_aug/tt2239034_0010_aug_0.mp4\n",
      "\n"
     ]
    },
    {
     "name": "stderr",
     "output_type": "stream",
     "text": [
      "                                                             \r"
     ]
    },
    {
     "name": "stdout",
     "output_type": "stream",
     "text": [
      "Moviepy - Done !\n",
      "Moviepy - video ready /home/danield/AnyoneAI/Curso/final_project/videos_data_aug/vidaug/data/trailer_aug/tt2239034_0010_aug_0.mp4\n",
      "Moviepy - Building video /home/danield/AnyoneAI/Curso/final_project/videos_data_aug/vidaug/data/trailer_aug/tt2239034_0010_aug_1.mp4.\n",
      "Moviepy - Writing video /home/danield/AnyoneAI/Curso/final_project/videos_data_aug/vidaug/data/trailer_aug/tt2239034_0010_aug_1.mp4\n",
      "\n"
     ]
    },
    {
     "name": "stderr",
     "output_type": "stream",
     "text": [
      "                                                             \r"
     ]
    },
    {
     "name": "stdout",
     "output_type": "stream",
     "text": [
      "Moviepy - Done !\n",
      "Moviepy - video ready /home/danield/AnyoneAI/Curso/final_project/videos_data_aug/vidaug/data/trailer_aug/tt2239034_0010_aug_1.mp4\n",
      "Moviepy - Building video /home/danield/AnyoneAI/Curso/final_project/videos_data_aug/vidaug/data/trailer_aug/tt2239034_0010_aug_2.mp4.\n",
      "Moviepy - Writing video /home/danield/AnyoneAI/Curso/final_project/videos_data_aug/vidaug/data/trailer_aug/tt2239034_0010_aug_2.mp4\n",
      "\n"
     ]
    },
    {
     "name": "stderr",
     "output_type": "stream",
     "text": [
      "                                                             \r"
     ]
    },
    {
     "name": "stdout",
     "output_type": "stream",
     "text": [
      "Moviepy - Done !\n",
      "Moviepy - video ready /home/danield/AnyoneAI/Curso/final_project/videos_data_aug/vidaug/data/trailer_aug/tt2239034_0010_aug_2.mp4\n",
      "Moviepy - Building video /home/danield/AnyoneAI/Curso/final_project/videos_data_aug/vidaug/data/trailer_aug/tt2239034_0010_aug_3.mp4.\n",
      "Moviepy - Writing video /home/danield/AnyoneAI/Curso/final_project/videos_data_aug/vidaug/data/trailer_aug/tt2239034_0010_aug_3.mp4\n",
      "\n"
     ]
    },
    {
     "name": "stderr",
     "output_type": "stream",
     "text": [
      "                                                             \r"
     ]
    },
    {
     "name": "stdout",
     "output_type": "stream",
     "text": [
      "Moviepy - Done !\n",
      "Moviepy - video ready /home/danield/AnyoneAI/Curso/final_project/videos_data_aug/vidaug/data/trailer_aug/tt2239034_0010_aug_3.mp4\n",
      "Moviepy - Building video /home/danield/AnyoneAI/Curso/final_project/videos_data_aug/vidaug/data/trailer_aug/tt2239034_0010_aug_4.mp4.\n",
      "Moviepy - Writing video /home/danield/AnyoneAI/Curso/final_project/videos_data_aug/vidaug/data/trailer_aug/tt2239034_0010_aug_4.mp4\n",
      "\n"
     ]
    },
    {
     "name": "stderr",
     "output_type": "stream",
     "text": [
      "                                                             \r"
     ]
    },
    {
     "name": "stdout",
     "output_type": "stream",
     "text": [
      "Moviepy - Done !\n",
      "Moviepy - video ready /home/danield/AnyoneAI/Curso/final_project/videos_data_aug/vidaug/data/trailer_aug/tt2239034_0010_aug_4.mp4\n",
      "Moviepy - Building video /home/danield/AnyoneAI/Curso/final_project/videos_data_aug/vidaug/data/trailer_aug/tt2239034_0010_aug_5.mp4.\n",
      "Moviepy - Writing video /home/danield/AnyoneAI/Curso/final_project/videos_data_aug/vidaug/data/trailer_aug/tt2239034_0010_aug_5.mp4\n",
      "\n"
     ]
    },
    {
     "name": "stderr",
     "output_type": "stream",
     "text": [
      "                                                             \r"
     ]
    },
    {
     "name": "stdout",
     "output_type": "stream",
     "text": [
      "Moviepy - Done !\n",
      "Moviepy - video ready /home/danield/AnyoneAI/Curso/final_project/videos_data_aug/vidaug/data/trailer_aug/tt2239034_0010_aug_5.mp4\n",
      "Moviepy - Building video /home/danield/AnyoneAI/Curso/final_project/videos_data_aug/vidaug/data/trailer_aug/tt2239034_0010_aug_6.mp4.\n",
      "Moviepy - Writing video /home/danield/AnyoneAI/Curso/final_project/videos_data_aug/vidaug/data/trailer_aug/tt2239034_0010_aug_6.mp4\n",
      "\n"
     ]
    },
    {
     "name": "stderr",
     "output_type": "stream",
     "text": [
      "                                                             \r"
     ]
    },
    {
     "name": "stdout",
     "output_type": "stream",
     "text": [
      "Moviepy - Done !\n",
      "Moviepy - video ready /home/danield/AnyoneAI/Curso/final_project/videos_data_aug/vidaug/data/trailer_aug/tt2239034_0010_aug_6.mp4\n",
      "Moviepy - Building video /home/danield/AnyoneAI/Curso/final_project/videos_data_aug/vidaug/data/trailer_aug/tt2239034_0010_aug_7.mp4.\n",
      "Moviepy - Writing video /home/danield/AnyoneAI/Curso/final_project/videos_data_aug/vidaug/data/trailer_aug/tt2239034_0010_aug_7.mp4\n",
      "\n"
     ]
    },
    {
     "name": "stderr",
     "output_type": "stream",
     "text": [
      "                                                   "
     ]
    },
    {
     "name": "stdout",
     "output_type": "stream",
     "text": [
      "Moviepy - Done !\n",
      "Moviepy - video ready /home/danield/AnyoneAI/Curso/final_project/videos_data_aug/vidaug/data/trailer_aug/tt2239034_0010_aug_7.mp4\n"
     ]
    },
    {
     "name": "stderr",
     "output_type": "stream",
     "text": [
      "\r"
     ]
    },
    {
     "name": "stdout",
     "output_type": "stream",
     "text": [
      "processing video 39/853\n",
      "Moviepy - Building video /home/danield/AnyoneAI/Curso/final_project/videos_data_aug/vidaug/data/trailer_aug/tt2239034_0034_aug_0.mp4.\n",
      "Moviepy - Writing video /home/danield/AnyoneAI/Curso/final_project/videos_data_aug/vidaug/data/trailer_aug/tt2239034_0034_aug_0.mp4\n",
      "\n"
     ]
    },
    {
     "name": "stderr",
     "output_type": "stream",
     "text": [
      "                                                             \r"
     ]
    },
    {
     "name": "stdout",
     "output_type": "stream",
     "text": [
      "Moviepy - Done !\n",
      "Moviepy - video ready /home/danield/AnyoneAI/Curso/final_project/videos_data_aug/vidaug/data/trailer_aug/tt2239034_0034_aug_0.mp4\n",
      "Moviepy - Building video /home/danield/AnyoneAI/Curso/final_project/videos_data_aug/vidaug/data/trailer_aug/tt2239034_0034_aug_1.mp4.\n",
      "Moviepy - Writing video /home/danield/AnyoneAI/Curso/final_project/videos_data_aug/vidaug/data/trailer_aug/tt2239034_0034_aug_1.mp4\n",
      "\n"
     ]
    },
    {
     "name": "stderr",
     "output_type": "stream",
     "text": [
      "                                                             \r"
     ]
    },
    {
     "name": "stdout",
     "output_type": "stream",
     "text": [
      "Moviepy - Done !\n",
      "Moviepy - video ready /home/danield/AnyoneAI/Curso/final_project/videos_data_aug/vidaug/data/trailer_aug/tt2239034_0034_aug_1.mp4\n",
      "Moviepy - Building video /home/danield/AnyoneAI/Curso/final_project/videos_data_aug/vidaug/data/trailer_aug/tt2239034_0034_aug_2.mp4.\n",
      "Moviepy - Writing video /home/danield/AnyoneAI/Curso/final_project/videos_data_aug/vidaug/data/trailer_aug/tt2239034_0034_aug_2.mp4\n",
      "\n"
     ]
    },
    {
     "name": "stderr",
     "output_type": "stream",
     "text": [
      "                                                             \r"
     ]
    },
    {
     "name": "stdout",
     "output_type": "stream",
     "text": [
      "Moviepy - Done !\n",
      "Moviepy - video ready /home/danield/AnyoneAI/Curso/final_project/videos_data_aug/vidaug/data/trailer_aug/tt2239034_0034_aug_2.mp4\n",
      "Moviepy - Building video /home/danield/AnyoneAI/Curso/final_project/videos_data_aug/vidaug/data/trailer_aug/tt2239034_0034_aug_3.mp4.\n",
      "Moviepy - Writing video /home/danield/AnyoneAI/Curso/final_project/videos_data_aug/vidaug/data/trailer_aug/tt2239034_0034_aug_3.mp4\n",
      "\n"
     ]
    },
    {
     "name": "stderr",
     "output_type": "stream",
     "text": [
      "                                                   "
     ]
    },
    {
     "name": "stdout",
     "output_type": "stream",
     "text": [
      "Moviepy - Done !\n",
      "Moviepy - video ready /home/danield/AnyoneAI/Curso/final_project/videos_data_aug/vidaug/data/trailer_aug/tt2239034_0034_aug_3.mp4\n"
     ]
    },
    {
     "name": "stderr",
     "output_type": "stream",
     "text": [
      "\r"
     ]
    },
    {
     "name": "stdout",
     "output_type": "stream",
     "text": [
      "Moviepy - Building video /home/danield/AnyoneAI/Curso/final_project/videos_data_aug/vidaug/data/trailer_aug/tt2239034_0034_aug_4.mp4.\n",
      "Moviepy - Writing video /home/danield/AnyoneAI/Curso/final_project/videos_data_aug/vidaug/data/trailer_aug/tt2239034_0034_aug_4.mp4\n",
      "\n"
     ]
    },
    {
     "name": "stderr",
     "output_type": "stream",
     "text": [
      "                                                             \r"
     ]
    },
    {
     "name": "stdout",
     "output_type": "stream",
     "text": [
      "Moviepy - Done !\n",
      "Moviepy - video ready /home/danield/AnyoneAI/Curso/final_project/videos_data_aug/vidaug/data/trailer_aug/tt2239034_0034_aug_4.mp4\n",
      "Moviepy - Building video /home/danield/AnyoneAI/Curso/final_project/videos_data_aug/vidaug/data/trailer_aug/tt2239034_0034_aug_5.mp4.\n",
      "Moviepy - Writing video /home/danield/AnyoneAI/Curso/final_project/videos_data_aug/vidaug/data/trailer_aug/tt2239034_0034_aug_5.mp4\n",
      "\n"
     ]
    },
    {
     "name": "stderr",
     "output_type": "stream",
     "text": [
      "                                                             \r"
     ]
    },
    {
     "name": "stdout",
     "output_type": "stream",
     "text": [
      "Moviepy - Done !\n",
      "Moviepy - video ready /home/danield/AnyoneAI/Curso/final_project/videos_data_aug/vidaug/data/trailer_aug/tt2239034_0034_aug_5.mp4\n",
      "Moviepy - Building video /home/danield/AnyoneAI/Curso/final_project/videos_data_aug/vidaug/data/trailer_aug/tt2239034_0034_aug_6.mp4.\n",
      "Moviepy - Writing video /home/danield/AnyoneAI/Curso/final_project/videos_data_aug/vidaug/data/trailer_aug/tt2239034_0034_aug_6.mp4\n",
      "\n"
     ]
    },
    {
     "name": "stderr",
     "output_type": "stream",
     "text": [
      "                                                             \r"
     ]
    },
    {
     "name": "stdout",
     "output_type": "stream",
     "text": [
      "Moviepy - Done !\n",
      "Moviepy - video ready /home/danield/AnyoneAI/Curso/final_project/videos_data_aug/vidaug/data/trailer_aug/tt2239034_0034_aug_6.mp4\n",
      "Moviepy - Building video /home/danield/AnyoneAI/Curso/final_project/videos_data_aug/vidaug/data/trailer_aug/tt2239034_0034_aug_7.mp4.\n",
      "Moviepy - Writing video /home/danield/AnyoneAI/Curso/final_project/videos_data_aug/vidaug/data/trailer_aug/tt2239034_0034_aug_7.mp4\n",
      "\n"
     ]
    },
    {
     "name": "stderr",
     "output_type": "stream",
     "text": [
      "                                                   "
     ]
    },
    {
     "name": "stdout",
     "output_type": "stream",
     "text": [
      "Moviepy - Done !\n",
      "Moviepy - video ready /home/danield/AnyoneAI/Curso/final_project/videos_data_aug/vidaug/data/trailer_aug/tt2239034_0034_aug_7.mp4\n"
     ]
    },
    {
     "name": "stderr",
     "output_type": "stream",
     "text": [
      "\r"
     ]
    },
    {
     "name": "stdout",
     "output_type": "stream",
     "text": [
      "processing video 40/853\n",
      "Moviepy - Building video /home/danield/AnyoneAI/Curso/final_project/videos_data_aug/vidaug/data/trailer_aug/tt2274248_0054_aug_0.mp4.\n",
      "Moviepy - Writing video /home/danield/AnyoneAI/Curso/final_project/videos_data_aug/vidaug/data/trailer_aug/tt2274248_0054_aug_0.mp4\n",
      "\n"
     ]
    },
    {
     "name": "stderr",
     "output_type": "stream",
     "text": [
      "                                                             \r"
     ]
    },
    {
     "name": "stdout",
     "output_type": "stream",
     "text": [
      "Moviepy - Done !\n",
      "Moviepy - video ready /home/danield/AnyoneAI/Curso/final_project/videos_data_aug/vidaug/data/trailer_aug/tt2274248_0054_aug_0.mp4\n",
      "Moviepy - Building video /home/danield/AnyoneAI/Curso/final_project/videos_data_aug/vidaug/data/trailer_aug/tt2274248_0054_aug_1.mp4.\n",
      "Moviepy - Writing video /home/danield/AnyoneAI/Curso/final_project/videos_data_aug/vidaug/data/trailer_aug/tt2274248_0054_aug_1.mp4\n",
      "\n"
     ]
    },
    {
     "name": "stderr",
     "output_type": "stream",
     "text": [
      "                                                             \r"
     ]
    },
    {
     "name": "stdout",
     "output_type": "stream",
     "text": [
      "Moviepy - Done !\n",
      "Moviepy - video ready /home/danield/AnyoneAI/Curso/final_project/videos_data_aug/vidaug/data/trailer_aug/tt2274248_0054_aug_1.mp4\n",
      "Moviepy - Building video /home/danield/AnyoneAI/Curso/final_project/videos_data_aug/vidaug/data/trailer_aug/tt2274248_0054_aug_2.mp4.\n",
      "Moviepy - Writing video /home/danield/AnyoneAI/Curso/final_project/videos_data_aug/vidaug/data/trailer_aug/tt2274248_0054_aug_2.mp4\n",
      "\n"
     ]
    },
    {
     "name": "stderr",
     "output_type": "stream",
     "text": [
      "                                                             \r"
     ]
    },
    {
     "name": "stdout",
     "output_type": "stream",
     "text": [
      "Moviepy - Done !\n",
      "Moviepy - video ready /home/danield/AnyoneAI/Curso/final_project/videos_data_aug/vidaug/data/trailer_aug/tt2274248_0054_aug_2.mp4\n",
      "Moviepy - Building video /home/danield/AnyoneAI/Curso/final_project/videos_data_aug/vidaug/data/trailer_aug/tt2274248_0054_aug_3.mp4.\n",
      "Moviepy - Writing video /home/danield/AnyoneAI/Curso/final_project/videos_data_aug/vidaug/data/trailer_aug/tt2274248_0054_aug_3.mp4\n",
      "\n"
     ]
    },
    {
     "name": "stderr",
     "output_type": "stream",
     "text": [
      "                                                             \r"
     ]
    },
    {
     "name": "stdout",
     "output_type": "stream",
     "text": [
      "Moviepy - Done !\n",
      "Moviepy - video ready /home/danield/AnyoneAI/Curso/final_project/videos_data_aug/vidaug/data/trailer_aug/tt2274248_0054_aug_3.mp4\n",
      "Moviepy - Building video /home/danield/AnyoneAI/Curso/final_project/videos_data_aug/vidaug/data/trailer_aug/tt2274248_0054_aug_4.mp4.\n",
      "Moviepy - Writing video /home/danield/AnyoneAI/Curso/final_project/videos_data_aug/vidaug/data/trailer_aug/tt2274248_0054_aug_4.mp4\n",
      "\n"
     ]
    },
    {
     "name": "stderr",
     "output_type": "stream",
     "text": [
      "                                                             \r"
     ]
    },
    {
     "name": "stdout",
     "output_type": "stream",
     "text": [
      "Moviepy - Done !\n",
      "Moviepy - video ready /home/danield/AnyoneAI/Curso/final_project/videos_data_aug/vidaug/data/trailer_aug/tt2274248_0054_aug_4.mp4\n",
      "Moviepy - Building video /home/danield/AnyoneAI/Curso/final_project/videos_data_aug/vidaug/data/trailer_aug/tt2274248_0054_aug_5.mp4.\n",
      "Moviepy - Writing video /home/danield/AnyoneAI/Curso/final_project/videos_data_aug/vidaug/data/trailer_aug/tt2274248_0054_aug_5.mp4\n",
      "\n"
     ]
    },
    {
     "name": "stderr",
     "output_type": "stream",
     "text": [
      "                                                             \r"
     ]
    },
    {
     "name": "stdout",
     "output_type": "stream",
     "text": [
      "Moviepy - Done !\n",
      "Moviepy - video ready /home/danield/AnyoneAI/Curso/final_project/videos_data_aug/vidaug/data/trailer_aug/tt2274248_0054_aug_5.mp4\n",
      "Moviepy - Building video /home/danield/AnyoneAI/Curso/final_project/videos_data_aug/vidaug/data/trailer_aug/tt2274248_0054_aug_6.mp4.\n",
      "Moviepy - Writing video /home/danield/AnyoneAI/Curso/final_project/videos_data_aug/vidaug/data/trailer_aug/tt2274248_0054_aug_6.mp4\n",
      "\n"
     ]
    },
    {
     "name": "stderr",
     "output_type": "stream",
     "text": [
      "                                                             \r"
     ]
    },
    {
     "name": "stdout",
     "output_type": "stream",
     "text": [
      "Moviepy - Done !\n",
      "Moviepy - video ready /home/danield/AnyoneAI/Curso/final_project/videos_data_aug/vidaug/data/trailer_aug/tt2274248_0054_aug_6.mp4\n",
      "Moviepy - Building video /home/danield/AnyoneAI/Curso/final_project/videos_data_aug/vidaug/data/trailer_aug/tt2274248_0054_aug_7.mp4.\n",
      "Moviepy - Writing video /home/danield/AnyoneAI/Curso/final_project/videos_data_aug/vidaug/data/trailer_aug/tt2274248_0054_aug_7.mp4\n",
      "\n"
     ]
    },
    {
     "name": "stderr",
     "output_type": "stream",
     "text": [
      "                                                   "
     ]
    },
    {
     "name": "stdout",
     "output_type": "stream",
     "text": [
      "Moviepy - Done !\n",
      "Moviepy - video ready /home/danield/AnyoneAI/Curso/final_project/videos_data_aug/vidaug/data/trailer_aug/tt2274248_0054_aug_7.mp4\n"
     ]
    },
    {
     "name": "stderr",
     "output_type": "stream",
     "text": [
      "\r"
     ]
    },
    {
     "name": "stdout",
     "output_type": "stream",
     "text": [
      "processing video 41/853\n",
      "Moviepy - Building video /home/danield/AnyoneAI/Curso/final_project/videos_data_aug/vidaug/data/trailer_aug/tt1941498_0017_aug_0.mp4.\n",
      "Moviepy - Writing video /home/danield/AnyoneAI/Curso/final_project/videos_data_aug/vidaug/data/trailer_aug/tt1941498_0017_aug_0.mp4\n",
      "\n"
     ]
    },
    {
     "name": "stderr",
     "output_type": "stream",
     "text": [
      "                                                             \r"
     ]
    },
    {
     "name": "stdout",
     "output_type": "stream",
     "text": [
      "Moviepy - Done !\n",
      "Moviepy - video ready /home/danield/AnyoneAI/Curso/final_project/videos_data_aug/vidaug/data/trailer_aug/tt1941498_0017_aug_0.mp4\n",
      "Moviepy - Building video /home/danield/AnyoneAI/Curso/final_project/videos_data_aug/vidaug/data/trailer_aug/tt1941498_0017_aug_1.mp4.\n",
      "Moviepy - Writing video /home/danield/AnyoneAI/Curso/final_project/videos_data_aug/vidaug/data/trailer_aug/tt1941498_0017_aug_1.mp4\n",
      "\n"
     ]
    },
    {
     "name": "stderr",
     "output_type": "stream",
     "text": [
      "                                                             \r"
     ]
    },
    {
     "name": "stdout",
     "output_type": "stream",
     "text": [
      "Moviepy - Done !\n",
      "Moviepy - video ready /home/danield/AnyoneAI/Curso/final_project/videos_data_aug/vidaug/data/trailer_aug/tt1941498_0017_aug_1.mp4\n",
      "Moviepy - Building video /home/danield/AnyoneAI/Curso/final_project/videos_data_aug/vidaug/data/trailer_aug/tt1941498_0017_aug_2.mp4.\n",
      "Moviepy - Writing video /home/danield/AnyoneAI/Curso/final_project/videos_data_aug/vidaug/data/trailer_aug/tt1941498_0017_aug_2.mp4\n",
      "\n"
     ]
    },
    {
     "name": "stderr",
     "output_type": "stream",
     "text": [
      "                                                             \r"
     ]
    },
    {
     "name": "stdout",
     "output_type": "stream",
     "text": [
      "Moviepy - Done !\n",
      "Moviepy - video ready /home/danield/AnyoneAI/Curso/final_project/videos_data_aug/vidaug/data/trailer_aug/tt1941498_0017_aug_2.mp4\n",
      "Moviepy - Building video /home/danield/AnyoneAI/Curso/final_project/videos_data_aug/vidaug/data/trailer_aug/tt1941498_0017_aug_3.mp4.\n",
      "Moviepy - Writing video /home/danield/AnyoneAI/Curso/final_project/videos_data_aug/vidaug/data/trailer_aug/tt1941498_0017_aug_3.mp4\n",
      "\n"
     ]
    },
    {
     "name": "stderr",
     "output_type": "stream",
     "text": [
      "                                                             \r"
     ]
    },
    {
     "name": "stdout",
     "output_type": "stream",
     "text": [
      "Moviepy - Done !\n",
      "Moviepy - video ready /home/danield/AnyoneAI/Curso/final_project/videos_data_aug/vidaug/data/trailer_aug/tt1941498_0017_aug_3.mp4\n",
      "Moviepy - Building video /home/danield/AnyoneAI/Curso/final_project/videos_data_aug/vidaug/data/trailer_aug/tt1941498_0017_aug_4.mp4.\n",
      "Moviepy - Writing video /home/danield/AnyoneAI/Curso/final_project/videos_data_aug/vidaug/data/trailer_aug/tt1941498_0017_aug_4.mp4\n",
      "\n"
     ]
    },
    {
     "name": "stderr",
     "output_type": "stream",
     "text": [
      "                                                             \r"
     ]
    },
    {
     "name": "stdout",
     "output_type": "stream",
     "text": [
      "Moviepy - Done !\n",
      "Moviepy - video ready /home/danield/AnyoneAI/Curso/final_project/videos_data_aug/vidaug/data/trailer_aug/tt1941498_0017_aug_4.mp4\n",
      "Moviepy - Building video /home/danield/AnyoneAI/Curso/final_project/videos_data_aug/vidaug/data/trailer_aug/tt1941498_0017_aug_5.mp4.\n",
      "Moviepy - Writing video /home/danield/AnyoneAI/Curso/final_project/videos_data_aug/vidaug/data/trailer_aug/tt1941498_0017_aug_5.mp4\n",
      "\n"
     ]
    },
    {
     "name": "stderr",
     "output_type": "stream",
     "text": [
      "                                                             \r"
     ]
    },
    {
     "name": "stdout",
     "output_type": "stream",
     "text": [
      "Moviepy - Done !\n",
      "Moviepy - video ready /home/danield/AnyoneAI/Curso/final_project/videos_data_aug/vidaug/data/trailer_aug/tt1941498_0017_aug_5.mp4\n",
      "Moviepy - Building video /home/danield/AnyoneAI/Curso/final_project/videos_data_aug/vidaug/data/trailer_aug/tt1941498_0017_aug_6.mp4.\n",
      "Moviepy - Writing video /home/danield/AnyoneAI/Curso/final_project/videos_data_aug/vidaug/data/trailer_aug/tt1941498_0017_aug_6.mp4\n",
      "\n"
     ]
    },
    {
     "name": "stderr",
     "output_type": "stream",
     "text": [
      "                                                             \r"
     ]
    },
    {
     "name": "stdout",
     "output_type": "stream",
     "text": [
      "Moviepy - Done !\n",
      "Moviepy - video ready /home/danield/AnyoneAI/Curso/final_project/videos_data_aug/vidaug/data/trailer_aug/tt1941498_0017_aug_6.mp4\n",
      "Moviepy - Building video /home/danield/AnyoneAI/Curso/final_project/videos_data_aug/vidaug/data/trailer_aug/tt1941498_0017_aug_7.mp4.\n",
      "Moviepy - Writing video /home/danield/AnyoneAI/Curso/final_project/videos_data_aug/vidaug/data/trailer_aug/tt1941498_0017_aug_7.mp4\n",
      "\n"
     ]
    },
    {
     "name": "stderr",
     "output_type": "stream",
     "text": [
      "                                                   "
     ]
    },
    {
     "name": "stdout",
     "output_type": "stream",
     "text": [
      "Moviepy - Done !\n",
      "Moviepy - video ready /home/danield/AnyoneAI/Curso/final_project/videos_data_aug/vidaug/data/trailer_aug/tt1941498_0017_aug_7.mp4\n"
     ]
    },
    {
     "name": "stderr",
     "output_type": "stream",
     "text": [
      "\r"
     ]
    },
    {
     "name": "stdout",
     "output_type": "stream",
     "text": [
      "processing video 42/853\n",
      "Moviepy - Building video /home/danield/AnyoneAI/Curso/final_project/videos_data_aug/vidaug/data/trailer_aug/tt3458220_0010_aug_0.mp4.\n",
      "Moviepy - Writing video /home/danield/AnyoneAI/Curso/final_project/videos_data_aug/vidaug/data/trailer_aug/tt3458220_0010_aug_0.mp4\n",
      "\n"
     ]
    },
    {
     "name": "stderr",
     "output_type": "stream",
     "text": [
      "                                                             \r"
     ]
    },
    {
     "name": "stdout",
     "output_type": "stream",
     "text": [
      "Moviepy - Done !\n",
      "Moviepy - video ready /home/danield/AnyoneAI/Curso/final_project/videos_data_aug/vidaug/data/trailer_aug/tt3458220_0010_aug_0.mp4\n",
      "Moviepy - Building video /home/danield/AnyoneAI/Curso/final_project/videos_data_aug/vidaug/data/trailer_aug/tt3458220_0010_aug_1.mp4.\n",
      "Moviepy - Writing video /home/danield/AnyoneAI/Curso/final_project/videos_data_aug/vidaug/data/trailer_aug/tt3458220_0010_aug_1.mp4\n",
      "\n"
     ]
    },
    {
     "name": "stderr",
     "output_type": "stream",
     "text": [
      "                                                             \r"
     ]
    },
    {
     "name": "stdout",
     "output_type": "stream",
     "text": [
      "Moviepy - Done !\n",
      "Moviepy - video ready /home/danield/AnyoneAI/Curso/final_project/videos_data_aug/vidaug/data/trailer_aug/tt3458220_0010_aug_1.mp4\n",
      "Moviepy - Building video /home/danield/AnyoneAI/Curso/final_project/videos_data_aug/vidaug/data/trailer_aug/tt3458220_0010_aug_2.mp4.\n",
      "Moviepy - Writing video /home/danield/AnyoneAI/Curso/final_project/videos_data_aug/vidaug/data/trailer_aug/tt3458220_0010_aug_2.mp4\n",
      "\n"
     ]
    },
    {
     "name": "stderr",
     "output_type": "stream",
     "text": [
      "                                                             \r"
     ]
    },
    {
     "name": "stdout",
     "output_type": "stream",
     "text": [
      "Moviepy - Done !\n",
      "Moviepy - video ready /home/danield/AnyoneAI/Curso/final_project/videos_data_aug/vidaug/data/trailer_aug/tt3458220_0010_aug_2.mp4\n",
      "Moviepy - Building video /home/danield/AnyoneAI/Curso/final_project/videos_data_aug/vidaug/data/trailer_aug/tt3458220_0010_aug_3.mp4.\n",
      "Moviepy - Writing video /home/danield/AnyoneAI/Curso/final_project/videos_data_aug/vidaug/data/trailer_aug/tt3458220_0010_aug_3.mp4\n",
      "\n"
     ]
    },
    {
     "name": "stderr",
     "output_type": "stream",
     "text": [
      "                                                             \r"
     ]
    },
    {
     "name": "stdout",
     "output_type": "stream",
     "text": [
      "Moviepy - Done !\n",
      "Moviepy - video ready /home/danield/AnyoneAI/Curso/final_project/videos_data_aug/vidaug/data/trailer_aug/tt3458220_0010_aug_3.mp4\n",
      "Moviepy - Building video /home/danield/AnyoneAI/Curso/final_project/videos_data_aug/vidaug/data/trailer_aug/tt3458220_0010_aug_4.mp4.\n",
      "Moviepy - Writing video /home/danield/AnyoneAI/Curso/final_project/videos_data_aug/vidaug/data/trailer_aug/tt3458220_0010_aug_4.mp4\n",
      "\n"
     ]
    },
    {
     "name": "stderr",
     "output_type": "stream",
     "text": [
      "                                                             \r"
     ]
    },
    {
     "name": "stdout",
     "output_type": "stream",
     "text": [
      "Moviepy - Done !\n",
      "Moviepy - video ready /home/danield/AnyoneAI/Curso/final_project/videos_data_aug/vidaug/data/trailer_aug/tt3458220_0010_aug_4.mp4\n",
      "Moviepy - Building video /home/danield/AnyoneAI/Curso/final_project/videos_data_aug/vidaug/data/trailer_aug/tt3458220_0010_aug_5.mp4.\n",
      "Moviepy - Writing video /home/danield/AnyoneAI/Curso/final_project/videos_data_aug/vidaug/data/trailer_aug/tt3458220_0010_aug_5.mp4\n",
      "\n"
     ]
    },
    {
     "name": "stderr",
     "output_type": "stream",
     "text": [
      "                                                             \r"
     ]
    },
    {
     "name": "stdout",
     "output_type": "stream",
     "text": [
      "Moviepy - Done !\n",
      "Moviepy - video ready /home/danield/AnyoneAI/Curso/final_project/videos_data_aug/vidaug/data/trailer_aug/tt3458220_0010_aug_5.mp4\n",
      "Moviepy - Building video /home/danield/AnyoneAI/Curso/final_project/videos_data_aug/vidaug/data/trailer_aug/tt3458220_0010_aug_6.mp4.\n",
      "Moviepy - Writing video /home/danield/AnyoneAI/Curso/final_project/videos_data_aug/vidaug/data/trailer_aug/tt3458220_0010_aug_6.mp4\n",
      "\n"
     ]
    },
    {
     "name": "stderr",
     "output_type": "stream",
     "text": [
      "                                                             \r"
     ]
    },
    {
     "name": "stdout",
     "output_type": "stream",
     "text": [
      "Moviepy - Done !\n",
      "Moviepy - video ready /home/danield/AnyoneAI/Curso/final_project/videos_data_aug/vidaug/data/trailer_aug/tt3458220_0010_aug_6.mp4\n",
      "Moviepy - Building video /home/danield/AnyoneAI/Curso/final_project/videos_data_aug/vidaug/data/trailer_aug/tt3458220_0010_aug_7.mp4.\n",
      "Moviepy - Writing video /home/danield/AnyoneAI/Curso/final_project/videos_data_aug/vidaug/data/trailer_aug/tt3458220_0010_aug_7.mp4\n",
      "\n"
     ]
    },
    {
     "name": "stderr",
     "output_type": "stream",
     "text": [
      "                                                   "
     ]
    },
    {
     "name": "stdout",
     "output_type": "stream",
     "text": [
      "Moviepy - Done !\n",
      "Moviepy - video ready /home/danield/AnyoneAI/Curso/final_project/videos_data_aug/vidaug/data/trailer_aug/tt3458220_0010_aug_7.mp4\n"
     ]
    },
    {
     "name": "stderr",
     "output_type": "stream",
     "text": [
      "\r"
     ]
    },
    {
     "name": "stdout",
     "output_type": "stream",
     "text": [
      "processing video 43/853\n",
      "Moviepy - Building video /home/danield/AnyoneAI/Curso/final_project/videos_data_aug/vidaug/data/trailer_aug/tt0277910_0066_aug_0.mp4.\n",
      "Moviepy - Writing video /home/danield/AnyoneAI/Curso/final_project/videos_data_aug/vidaug/data/trailer_aug/tt0277910_0066_aug_0.mp4\n",
      "\n"
     ]
    },
    {
     "name": "stderr",
     "output_type": "stream",
     "text": [
      "                                                             \r"
     ]
    },
    {
     "name": "stdout",
     "output_type": "stream",
     "text": [
      "Moviepy - Done !\n",
      "Moviepy - video ready /home/danield/AnyoneAI/Curso/final_project/videos_data_aug/vidaug/data/trailer_aug/tt0277910_0066_aug_0.mp4\n",
      "Moviepy - Building video /home/danield/AnyoneAI/Curso/final_project/videos_data_aug/vidaug/data/trailer_aug/tt0277910_0066_aug_1.mp4.\n",
      "Moviepy - Writing video /home/danield/AnyoneAI/Curso/final_project/videos_data_aug/vidaug/data/trailer_aug/tt0277910_0066_aug_1.mp4\n",
      "\n"
     ]
    },
    {
     "name": "stderr",
     "output_type": "stream",
     "text": [
      "                                                             \r"
     ]
    },
    {
     "name": "stdout",
     "output_type": "stream",
     "text": [
      "Moviepy - Done !\n",
      "Moviepy - video ready /home/danield/AnyoneAI/Curso/final_project/videos_data_aug/vidaug/data/trailer_aug/tt0277910_0066_aug_1.mp4\n",
      "Moviepy - Building video /home/danield/AnyoneAI/Curso/final_project/videos_data_aug/vidaug/data/trailer_aug/tt0277910_0066_aug_2.mp4.\n",
      "Moviepy - Writing video /home/danield/AnyoneAI/Curso/final_project/videos_data_aug/vidaug/data/trailer_aug/tt0277910_0066_aug_2.mp4\n",
      "\n"
     ]
    },
    {
     "name": "stderr",
     "output_type": "stream",
     "text": [
      "                                                             \r"
     ]
    },
    {
     "name": "stdout",
     "output_type": "stream",
     "text": [
      "Moviepy - Done !\n",
      "Moviepy - video ready /home/danield/AnyoneAI/Curso/final_project/videos_data_aug/vidaug/data/trailer_aug/tt0277910_0066_aug_2.mp4\n",
      "Moviepy - Building video /home/danield/AnyoneAI/Curso/final_project/videos_data_aug/vidaug/data/trailer_aug/tt0277910_0066_aug_3.mp4.\n",
      "Moviepy - Writing video /home/danield/AnyoneAI/Curso/final_project/videos_data_aug/vidaug/data/trailer_aug/tt0277910_0066_aug_3.mp4\n",
      "\n"
     ]
    },
    {
     "name": "stderr",
     "output_type": "stream",
     "text": [
      "                                                   "
     ]
    },
    {
     "name": "stdout",
     "output_type": "stream",
     "text": [
      "Moviepy - Done !\n",
      "Moviepy - video ready /home/danield/AnyoneAI/Curso/final_project/videos_data_aug/vidaug/data/trailer_aug/tt0277910_0066_aug_3.mp4\n"
     ]
    },
    {
     "name": "stderr",
     "output_type": "stream",
     "text": [
      "\r"
     ]
    },
    {
     "name": "stdout",
     "output_type": "stream",
     "text": [
      "Moviepy - Building video /home/danield/AnyoneAI/Curso/final_project/videos_data_aug/vidaug/data/trailer_aug/tt0277910_0066_aug_4.mp4.\n",
      "Moviepy - Writing video /home/danield/AnyoneAI/Curso/final_project/videos_data_aug/vidaug/data/trailer_aug/tt0277910_0066_aug_4.mp4\n",
      "\n"
     ]
    },
    {
     "name": "stderr",
     "output_type": "stream",
     "text": [
      "                                                             \r"
     ]
    },
    {
     "name": "stdout",
     "output_type": "stream",
     "text": [
      "Moviepy - Done !\n",
      "Moviepy - video ready /home/danield/AnyoneAI/Curso/final_project/videos_data_aug/vidaug/data/trailer_aug/tt0277910_0066_aug_4.mp4\n",
      "Moviepy - Building video /home/danield/AnyoneAI/Curso/final_project/videos_data_aug/vidaug/data/trailer_aug/tt0277910_0066_aug_5.mp4.\n",
      "Moviepy - Writing video /home/danield/AnyoneAI/Curso/final_project/videos_data_aug/vidaug/data/trailer_aug/tt0277910_0066_aug_5.mp4\n",
      "\n"
     ]
    },
    {
     "name": "stderr",
     "output_type": "stream",
     "text": [
      "                                                             \r"
     ]
    },
    {
     "name": "stdout",
     "output_type": "stream",
     "text": [
      "Moviepy - Done !\n",
      "Moviepy - video ready /home/danield/AnyoneAI/Curso/final_project/videos_data_aug/vidaug/data/trailer_aug/tt0277910_0066_aug_5.mp4\n",
      "Moviepy - Building video /home/danield/AnyoneAI/Curso/final_project/videos_data_aug/vidaug/data/trailer_aug/tt0277910_0066_aug_6.mp4.\n",
      "Moviepy - Writing video /home/danield/AnyoneAI/Curso/final_project/videos_data_aug/vidaug/data/trailer_aug/tt0277910_0066_aug_6.mp4\n",
      "\n"
     ]
    },
    {
     "name": "stderr",
     "output_type": "stream",
     "text": [
      "                                                             \r"
     ]
    },
    {
     "name": "stdout",
     "output_type": "stream",
     "text": [
      "Moviepy - Done !\n",
      "Moviepy - video ready /home/danield/AnyoneAI/Curso/final_project/videos_data_aug/vidaug/data/trailer_aug/tt0277910_0066_aug_6.mp4\n",
      "Moviepy - Building video /home/danield/AnyoneAI/Curso/final_project/videos_data_aug/vidaug/data/trailer_aug/tt0277910_0066_aug_7.mp4.\n",
      "Moviepy - Writing video /home/danield/AnyoneAI/Curso/final_project/videos_data_aug/vidaug/data/trailer_aug/tt0277910_0066_aug_7.mp4\n",
      "\n"
     ]
    },
    {
     "name": "stderr",
     "output_type": "stream",
     "text": [
      "                                                   "
     ]
    },
    {
     "name": "stdout",
     "output_type": "stream",
     "text": [
      "Moviepy - Done !\n",
      "Moviepy - video ready /home/danield/AnyoneAI/Curso/final_project/videos_data_aug/vidaug/data/trailer_aug/tt0277910_0066_aug_7.mp4\n"
     ]
    },
    {
     "name": "stderr",
     "output_type": "stream",
     "text": [
      "\r"
     ]
    },
    {
     "name": "stdout",
     "output_type": "stream",
     "text": [
      "processing video 44/853\n",
      "Moviepy - Building video /home/danield/AnyoneAI/Curso/final_project/videos_data_aug/vidaug/data/trailer_aug/tt0277910_0119_aug_0.mp4.\n",
      "Moviepy - Writing video /home/danield/AnyoneAI/Curso/final_project/videos_data_aug/vidaug/data/trailer_aug/tt0277910_0119_aug_0.mp4\n",
      "\n"
     ]
    },
    {
     "name": "stderr",
     "output_type": "stream",
     "text": [
      "                                                             \r"
     ]
    },
    {
     "name": "stdout",
     "output_type": "stream",
     "text": [
      "Moviepy - Done !\n",
      "Moviepy - video ready /home/danield/AnyoneAI/Curso/final_project/videos_data_aug/vidaug/data/trailer_aug/tt0277910_0119_aug_0.mp4\n",
      "Moviepy - Building video /home/danield/AnyoneAI/Curso/final_project/videos_data_aug/vidaug/data/trailer_aug/tt0277910_0119_aug_1.mp4.\n",
      "Moviepy - Writing video /home/danield/AnyoneAI/Curso/final_project/videos_data_aug/vidaug/data/trailer_aug/tt0277910_0119_aug_1.mp4\n",
      "\n"
     ]
    },
    {
     "name": "stderr",
     "output_type": "stream",
     "text": [
      "                                                             \r"
     ]
    },
    {
     "name": "stdout",
     "output_type": "stream",
     "text": [
      "Moviepy - Done !\n",
      "Moviepy - video ready /home/danield/AnyoneAI/Curso/final_project/videos_data_aug/vidaug/data/trailer_aug/tt0277910_0119_aug_1.mp4\n",
      "Moviepy - Building video /home/danield/AnyoneAI/Curso/final_project/videos_data_aug/vidaug/data/trailer_aug/tt0277910_0119_aug_2.mp4.\n",
      "Moviepy - Writing video /home/danield/AnyoneAI/Curso/final_project/videos_data_aug/vidaug/data/trailer_aug/tt0277910_0119_aug_2.mp4\n",
      "\n"
     ]
    },
    {
     "name": "stderr",
     "output_type": "stream",
     "text": [
      "                                                   \r"
     ]
    },
    {
     "name": "stdout",
     "output_type": "stream",
     "text": [
      "Moviepy - Done !\n",
      "Moviepy - video ready /home/danield/AnyoneAI/Curso/final_project/videos_data_aug/vidaug/data/trailer_aug/tt0277910_0119_aug_2.mp4\n",
      "Moviepy - Building video /home/danield/AnyoneAI/Curso/final_project/videos_data_aug/vidaug/data/trailer_aug/tt0277910_0119_aug_3.mp4.\n",
      "Moviepy - Writing video /home/danield/AnyoneAI/Curso/final_project/videos_data_aug/vidaug/data/trailer_aug/tt0277910_0119_aug_3.mp4\n",
      "\n"
     ]
    },
    {
     "name": "stderr",
     "output_type": "stream",
     "text": [
      "                                                   "
     ]
    },
    {
     "name": "stdout",
     "output_type": "stream",
     "text": [
      "Moviepy - Done !\n",
      "Moviepy - video ready /home/danield/AnyoneAI/Curso/final_project/videos_data_aug/vidaug/data/trailer_aug/tt0277910_0119_aug_3.mp4\n"
     ]
    },
    {
     "name": "stderr",
     "output_type": "stream",
     "text": [
      "\r"
     ]
    },
    {
     "name": "stdout",
     "output_type": "stream",
     "text": [
      "Moviepy - Building video /home/danield/AnyoneAI/Curso/final_project/videos_data_aug/vidaug/data/trailer_aug/tt0277910_0119_aug_4.mp4.\n",
      "Moviepy - Writing video /home/danield/AnyoneAI/Curso/final_project/videos_data_aug/vidaug/data/trailer_aug/tt0277910_0119_aug_4.mp4\n",
      "\n"
     ]
    },
    {
     "name": "stderr",
     "output_type": "stream",
     "text": [
      "                                                             \r"
     ]
    },
    {
     "name": "stdout",
     "output_type": "stream",
     "text": [
      "Moviepy - Done !\n",
      "Moviepy - video ready /home/danield/AnyoneAI/Curso/final_project/videos_data_aug/vidaug/data/trailer_aug/tt0277910_0119_aug_4.mp4\n",
      "Moviepy - Building video /home/danield/AnyoneAI/Curso/final_project/videos_data_aug/vidaug/data/trailer_aug/tt0277910_0119_aug_5.mp4.\n",
      "Moviepy - Writing video /home/danield/AnyoneAI/Curso/final_project/videos_data_aug/vidaug/data/trailer_aug/tt0277910_0119_aug_5.mp4\n",
      "\n"
     ]
    },
    {
     "name": "stderr",
     "output_type": "stream",
     "text": [
      "                                                             \r"
     ]
    },
    {
     "name": "stdout",
     "output_type": "stream",
     "text": [
      "Moviepy - Done !\n",
      "Moviepy - video ready /home/danield/AnyoneAI/Curso/final_project/videos_data_aug/vidaug/data/trailer_aug/tt0277910_0119_aug_5.mp4\n",
      "Moviepy - Building video /home/danield/AnyoneAI/Curso/final_project/videos_data_aug/vidaug/data/trailer_aug/tt0277910_0119_aug_6.mp4.\n",
      "Moviepy - Writing video /home/danield/AnyoneAI/Curso/final_project/videos_data_aug/vidaug/data/trailer_aug/tt0277910_0119_aug_6.mp4\n",
      "\n"
     ]
    },
    {
     "name": "stderr",
     "output_type": "stream",
     "text": [
      "                                                   \r"
     ]
    },
    {
     "name": "stdout",
     "output_type": "stream",
     "text": [
      "Moviepy - Done !\n",
      "Moviepy - video ready /home/danield/AnyoneAI/Curso/final_project/videos_data_aug/vidaug/data/trailer_aug/tt0277910_0119_aug_6.mp4\n",
      "Moviepy - Building video /home/danield/AnyoneAI/Curso/final_project/videos_data_aug/vidaug/data/trailer_aug/tt0277910_0119_aug_7.mp4.\n",
      "Moviepy - Writing video /home/danield/AnyoneAI/Curso/final_project/videos_data_aug/vidaug/data/trailer_aug/tt0277910_0119_aug_7.mp4\n",
      "\n"
     ]
    },
    {
     "name": "stderr",
     "output_type": "stream",
     "text": [
      "                                                   "
     ]
    },
    {
     "name": "stdout",
     "output_type": "stream",
     "text": [
      "Moviepy - Done !\n",
      "Moviepy - video ready /home/danield/AnyoneAI/Curso/final_project/videos_data_aug/vidaug/data/trailer_aug/tt0277910_0119_aug_7.mp4\n"
     ]
    },
    {
     "name": "stderr",
     "output_type": "stream",
     "text": [
      "\r"
     ]
    },
    {
     "name": "stdout",
     "output_type": "stream",
     "text": [
      "processing video 45/853\n",
      "Moviepy - Building video /home/danield/AnyoneAI/Curso/final_project/videos_data_aug/vidaug/data/trailer_aug/tt3057638_0014_aug_0.mp4.\n",
      "Moviepy - Writing video /home/danield/AnyoneAI/Curso/final_project/videos_data_aug/vidaug/data/trailer_aug/tt3057638_0014_aug_0.mp4\n",
      "\n"
     ]
    },
    {
     "name": "stderr",
     "output_type": "stream",
     "text": [
      "                                                            \r"
     ]
    },
    {
     "name": "stdout",
     "output_type": "stream",
     "text": [
      "Moviepy - Done !\n",
      "Moviepy - video ready /home/danield/AnyoneAI/Curso/final_project/videos_data_aug/vidaug/data/trailer_aug/tt3057638_0014_aug_0.mp4\n",
      "Moviepy - Building video /home/danield/AnyoneAI/Curso/final_project/videos_data_aug/vidaug/data/trailer_aug/tt3057638_0014_aug_1.mp4.\n",
      "Moviepy - Writing video /home/danield/AnyoneAI/Curso/final_project/videos_data_aug/vidaug/data/trailer_aug/tt3057638_0014_aug_1.mp4\n",
      "\n"
     ]
    },
    {
     "name": "stderr",
     "output_type": "stream",
     "text": [
      "                                                            \r"
     ]
    },
    {
     "name": "stdout",
     "output_type": "stream",
     "text": [
      "Moviepy - Done !\n",
      "Moviepy - video ready /home/danield/AnyoneAI/Curso/final_project/videos_data_aug/vidaug/data/trailer_aug/tt3057638_0014_aug_1.mp4\n",
      "Moviepy - Building video /home/danield/AnyoneAI/Curso/final_project/videos_data_aug/vidaug/data/trailer_aug/tt3057638_0014_aug_2.mp4.\n",
      "Moviepy - Writing video /home/danield/AnyoneAI/Curso/final_project/videos_data_aug/vidaug/data/trailer_aug/tt3057638_0014_aug_2.mp4\n",
      "\n"
     ]
    },
    {
     "name": "stderr",
     "output_type": "stream",
     "text": [
      "                                                            \r"
     ]
    },
    {
     "name": "stdout",
     "output_type": "stream",
     "text": [
      "Moviepy - Done !\n",
      "Moviepy - video ready /home/danield/AnyoneAI/Curso/final_project/videos_data_aug/vidaug/data/trailer_aug/tt3057638_0014_aug_2.mp4\n",
      "Moviepy - Building video /home/danield/AnyoneAI/Curso/final_project/videos_data_aug/vidaug/data/trailer_aug/tt3057638_0014_aug_3.mp4.\n",
      "Moviepy - Writing video /home/danield/AnyoneAI/Curso/final_project/videos_data_aug/vidaug/data/trailer_aug/tt3057638_0014_aug_3.mp4\n",
      "\n"
     ]
    },
    {
     "name": "stderr",
     "output_type": "stream",
     "text": [
      "                                                            \r"
     ]
    },
    {
     "name": "stdout",
     "output_type": "stream",
     "text": [
      "Moviepy - Done !\n",
      "Moviepy - video ready /home/danield/AnyoneAI/Curso/final_project/videos_data_aug/vidaug/data/trailer_aug/tt3057638_0014_aug_3.mp4\n",
      "Moviepy - Building video /home/danield/AnyoneAI/Curso/final_project/videos_data_aug/vidaug/data/trailer_aug/tt3057638_0014_aug_4.mp4.\n",
      "Moviepy - Writing video /home/danield/AnyoneAI/Curso/final_project/videos_data_aug/vidaug/data/trailer_aug/tt3057638_0014_aug_4.mp4\n",
      "\n"
     ]
    },
    {
     "name": "stderr",
     "output_type": "stream",
     "text": [
      "                                                            \r"
     ]
    },
    {
     "name": "stdout",
     "output_type": "stream",
     "text": [
      "Moviepy - Done !\n",
      "Moviepy - video ready /home/danield/AnyoneAI/Curso/final_project/videos_data_aug/vidaug/data/trailer_aug/tt3057638_0014_aug_4.mp4\n",
      "Moviepy - Building video /home/danield/AnyoneAI/Curso/final_project/videos_data_aug/vidaug/data/trailer_aug/tt3057638_0014_aug_5.mp4.\n",
      "Moviepy - Writing video /home/danield/AnyoneAI/Curso/final_project/videos_data_aug/vidaug/data/trailer_aug/tt3057638_0014_aug_5.mp4\n",
      "\n"
     ]
    },
    {
     "name": "stderr",
     "output_type": "stream",
     "text": [
      "                                                            \r"
     ]
    },
    {
     "name": "stdout",
     "output_type": "stream",
     "text": [
      "Moviepy - Done !\n",
      "Moviepy - video ready /home/danield/AnyoneAI/Curso/final_project/videos_data_aug/vidaug/data/trailer_aug/tt3057638_0014_aug_5.mp4\n",
      "Moviepy - Building video /home/danield/AnyoneAI/Curso/final_project/videos_data_aug/vidaug/data/trailer_aug/tt3057638_0014_aug_6.mp4.\n",
      "Moviepy - Writing video /home/danield/AnyoneAI/Curso/final_project/videos_data_aug/vidaug/data/trailer_aug/tt3057638_0014_aug_6.mp4\n",
      "\n"
     ]
    },
    {
     "name": "stderr",
     "output_type": "stream",
     "text": [
      "                                                            \r"
     ]
    },
    {
     "name": "stdout",
     "output_type": "stream",
     "text": [
      "Moviepy - Done !\n",
      "Moviepy - video ready /home/danield/AnyoneAI/Curso/final_project/videos_data_aug/vidaug/data/trailer_aug/tt3057638_0014_aug_6.mp4\n",
      "Moviepy - Building video /home/danield/AnyoneAI/Curso/final_project/videos_data_aug/vidaug/data/trailer_aug/tt3057638_0014_aug_7.mp4.\n",
      "Moviepy - Writing video /home/danield/AnyoneAI/Curso/final_project/videos_data_aug/vidaug/data/trailer_aug/tt3057638_0014_aug_7.mp4\n",
      "\n"
     ]
    },
    {
     "name": "stderr",
     "output_type": "stream",
     "text": [
      "                                                            \r"
     ]
    },
    {
     "name": "stdout",
     "output_type": "stream",
     "text": [
      "Moviepy - Done !\n",
      "Moviepy - video ready /home/danield/AnyoneAI/Curso/final_project/videos_data_aug/vidaug/data/trailer_aug/tt3057638_0014_aug_7.mp4\n",
      "processing video 46/853\n",
      "Moviepy - Building video /home/danield/AnyoneAI/Curso/final_project/videos_data_aug/vidaug/data/trailer_aug/tt3057638_0016_aug_0.mp4.\n",
      "Moviepy - Writing video /home/danield/AnyoneAI/Curso/final_project/videos_data_aug/vidaug/data/trailer_aug/tt3057638_0016_aug_0.mp4\n",
      "\n"
     ]
    },
    {
     "name": "stderr",
     "output_type": "stream",
     "text": [
      "                                                            \r"
     ]
    },
    {
     "name": "stdout",
     "output_type": "stream",
     "text": [
      "Moviepy - Done !\n",
      "Moviepy - video ready /home/danield/AnyoneAI/Curso/final_project/videos_data_aug/vidaug/data/trailer_aug/tt3057638_0016_aug_0.mp4\n",
      "Moviepy - Building video /home/danield/AnyoneAI/Curso/final_project/videos_data_aug/vidaug/data/trailer_aug/tt3057638_0016_aug_1.mp4.\n",
      "Moviepy - Writing video /home/danield/AnyoneAI/Curso/final_project/videos_data_aug/vidaug/data/trailer_aug/tt3057638_0016_aug_1.mp4\n",
      "\n"
     ]
    },
    {
     "name": "stderr",
     "output_type": "stream",
     "text": [
      "                                                            \r"
     ]
    },
    {
     "name": "stdout",
     "output_type": "stream",
     "text": [
      "Moviepy - Done !\n",
      "Moviepy - video ready /home/danield/AnyoneAI/Curso/final_project/videos_data_aug/vidaug/data/trailer_aug/tt3057638_0016_aug_1.mp4\n",
      "Moviepy - Building video /home/danield/AnyoneAI/Curso/final_project/videos_data_aug/vidaug/data/trailer_aug/tt3057638_0016_aug_2.mp4.\n",
      "Moviepy - Writing video /home/danield/AnyoneAI/Curso/final_project/videos_data_aug/vidaug/data/trailer_aug/tt3057638_0016_aug_2.mp4\n",
      "\n"
     ]
    },
    {
     "name": "stderr",
     "output_type": "stream",
     "text": [
      "                                                            \r"
     ]
    },
    {
     "name": "stdout",
     "output_type": "stream",
     "text": [
      "Moviepy - Done !\n",
      "Moviepy - video ready /home/danield/AnyoneAI/Curso/final_project/videos_data_aug/vidaug/data/trailer_aug/tt3057638_0016_aug_2.mp4\n",
      "Moviepy - Building video /home/danield/AnyoneAI/Curso/final_project/videos_data_aug/vidaug/data/trailer_aug/tt3057638_0016_aug_3.mp4.\n",
      "Moviepy - Writing video /home/danield/AnyoneAI/Curso/final_project/videos_data_aug/vidaug/data/trailer_aug/tt3057638_0016_aug_3.mp4\n",
      "\n"
     ]
    },
    {
     "name": "stderr",
     "output_type": "stream",
     "text": [
      "                                                             \r"
     ]
    },
    {
     "name": "stdout",
     "output_type": "stream",
     "text": [
      "Moviepy - Done !\n",
      "Moviepy - video ready /home/danield/AnyoneAI/Curso/final_project/videos_data_aug/vidaug/data/trailer_aug/tt3057638_0016_aug_3.mp4\n",
      "Moviepy - Building video /home/danield/AnyoneAI/Curso/final_project/videos_data_aug/vidaug/data/trailer_aug/tt3057638_0016_aug_4.mp4.\n",
      "Moviepy - Writing video /home/danield/AnyoneAI/Curso/final_project/videos_data_aug/vidaug/data/trailer_aug/tt3057638_0016_aug_4.mp4\n",
      "\n"
     ]
    },
    {
     "name": "stderr",
     "output_type": "stream",
     "text": [
      "                                                            \r"
     ]
    },
    {
     "name": "stdout",
     "output_type": "stream",
     "text": [
      "Moviepy - Done !\n",
      "Moviepy - video ready /home/danield/AnyoneAI/Curso/final_project/videos_data_aug/vidaug/data/trailer_aug/tt3057638_0016_aug_4.mp4\n",
      "Moviepy - Building video /home/danield/AnyoneAI/Curso/final_project/videos_data_aug/vidaug/data/trailer_aug/tt3057638_0016_aug_5.mp4.\n",
      "Moviepy - Writing video /home/danield/AnyoneAI/Curso/final_project/videos_data_aug/vidaug/data/trailer_aug/tt3057638_0016_aug_5.mp4\n",
      "\n"
     ]
    },
    {
     "name": "stderr",
     "output_type": "stream",
     "text": [
      "                                                            \r"
     ]
    },
    {
     "name": "stdout",
     "output_type": "stream",
     "text": [
      "Moviepy - Done !\n",
      "Moviepy - video ready /home/danield/AnyoneAI/Curso/final_project/videos_data_aug/vidaug/data/trailer_aug/tt3057638_0016_aug_5.mp4\n",
      "Moviepy - Building video /home/danield/AnyoneAI/Curso/final_project/videos_data_aug/vidaug/data/trailer_aug/tt3057638_0016_aug_6.mp4.\n",
      "Moviepy - Writing video /home/danield/AnyoneAI/Curso/final_project/videos_data_aug/vidaug/data/trailer_aug/tt3057638_0016_aug_6.mp4\n",
      "\n"
     ]
    },
    {
     "name": "stderr",
     "output_type": "stream",
     "text": [
      "                                                            \r"
     ]
    },
    {
     "name": "stdout",
     "output_type": "stream",
     "text": [
      "Moviepy - Done !\n",
      "Moviepy - video ready /home/danield/AnyoneAI/Curso/final_project/videos_data_aug/vidaug/data/trailer_aug/tt3057638_0016_aug_6.mp4\n",
      "Moviepy - Building video /home/danield/AnyoneAI/Curso/final_project/videos_data_aug/vidaug/data/trailer_aug/tt3057638_0016_aug_7.mp4.\n",
      "Moviepy - Writing video /home/danield/AnyoneAI/Curso/final_project/videos_data_aug/vidaug/data/trailer_aug/tt3057638_0016_aug_7.mp4\n",
      "\n"
     ]
    },
    {
     "name": "stderr",
     "output_type": "stream",
     "text": [
      "                                                            \r"
     ]
    },
    {
     "name": "stdout",
     "output_type": "stream",
     "text": [
      "Moviepy - Done !\n",
      "Moviepy - video ready /home/danield/AnyoneAI/Curso/final_project/videos_data_aug/vidaug/data/trailer_aug/tt3057638_0016_aug_7.mp4\n",
      "processing video 47/853\n",
      "Moviepy - Building video /home/danield/AnyoneAI/Curso/final_project/videos_data_aug/vidaug/data/trailer_aug/tt1559038_0039_aug_0.mp4.\n",
      "Moviepy - Writing video /home/danield/AnyoneAI/Curso/final_project/videos_data_aug/vidaug/data/trailer_aug/tt1559038_0039_aug_0.mp4\n",
      "\n"
     ]
    },
    {
     "name": "stderr",
     "output_type": "stream",
     "text": [
      "                                                             \r"
     ]
    },
    {
     "name": "stdout",
     "output_type": "stream",
     "text": [
      "Moviepy - Done !\n",
      "Moviepy - video ready /home/danield/AnyoneAI/Curso/final_project/videos_data_aug/vidaug/data/trailer_aug/tt1559038_0039_aug_0.mp4\n",
      "Moviepy - Building video /home/danield/AnyoneAI/Curso/final_project/videos_data_aug/vidaug/data/trailer_aug/tt1559038_0039_aug_1.mp4.\n",
      "Moviepy - Writing video /home/danield/AnyoneAI/Curso/final_project/videos_data_aug/vidaug/data/trailer_aug/tt1559038_0039_aug_1.mp4\n",
      "\n"
     ]
    },
    {
     "name": "stderr",
     "output_type": "stream",
     "text": [
      "                                                             \r"
     ]
    },
    {
     "name": "stdout",
     "output_type": "stream",
     "text": [
      "Moviepy - Done !\n",
      "Moviepy - video ready /home/danield/AnyoneAI/Curso/final_project/videos_data_aug/vidaug/data/trailer_aug/tt1559038_0039_aug_1.mp4\n",
      "Moviepy - Building video /home/danield/AnyoneAI/Curso/final_project/videos_data_aug/vidaug/data/trailer_aug/tt1559038_0039_aug_2.mp4.\n",
      "Moviepy - Writing video /home/danield/AnyoneAI/Curso/final_project/videos_data_aug/vidaug/data/trailer_aug/tt1559038_0039_aug_2.mp4\n",
      "\n"
     ]
    },
    {
     "name": "stderr",
     "output_type": "stream",
     "text": [
      "                                                             \r"
     ]
    },
    {
     "name": "stdout",
     "output_type": "stream",
     "text": [
      "Moviepy - Done !\n",
      "Moviepy - video ready /home/danield/AnyoneAI/Curso/final_project/videos_data_aug/vidaug/data/trailer_aug/tt1559038_0039_aug_2.mp4\n",
      "Moviepy - Building video /home/danield/AnyoneAI/Curso/final_project/videos_data_aug/vidaug/data/trailer_aug/tt1559038_0039_aug_3.mp4.\n",
      "Moviepy - Writing video /home/danield/AnyoneAI/Curso/final_project/videos_data_aug/vidaug/data/trailer_aug/tt1559038_0039_aug_3.mp4\n",
      "\n"
     ]
    },
    {
     "name": "stderr",
     "output_type": "stream",
     "text": [
      "                                                   \r"
     ]
    },
    {
     "name": "stdout",
     "output_type": "stream",
     "text": [
      "Moviepy - Done !\n",
      "Moviepy - video ready /home/danield/AnyoneAI/Curso/final_project/videos_data_aug/vidaug/data/trailer_aug/tt1559038_0039_aug_3.mp4\n",
      "Moviepy - Building video /home/danield/AnyoneAI/Curso/final_project/videos_data_aug/vidaug/data/trailer_aug/tt1559038_0039_aug_4.mp4.\n",
      "Moviepy - Writing video /home/danield/AnyoneAI/Curso/final_project/videos_data_aug/vidaug/data/trailer_aug/tt1559038_0039_aug_4.mp4\n",
      "\n"
     ]
    },
    {
     "name": "stderr",
     "output_type": "stream",
     "text": [
      "                                                             \r"
     ]
    },
    {
     "name": "stdout",
     "output_type": "stream",
     "text": [
      "Moviepy - Done !\n",
      "Moviepy - video ready /home/danield/AnyoneAI/Curso/final_project/videos_data_aug/vidaug/data/trailer_aug/tt1559038_0039_aug_4.mp4\n",
      "Moviepy - Building video /home/danield/AnyoneAI/Curso/final_project/videos_data_aug/vidaug/data/trailer_aug/tt1559038_0039_aug_5.mp4.\n",
      "Moviepy - Writing video /home/danield/AnyoneAI/Curso/final_project/videos_data_aug/vidaug/data/trailer_aug/tt1559038_0039_aug_5.mp4\n",
      "\n"
     ]
    },
    {
     "name": "stderr",
     "output_type": "stream",
     "text": [
      "                                                             \r"
     ]
    },
    {
     "name": "stdout",
     "output_type": "stream",
     "text": [
      "Moviepy - Done !\n",
      "Moviepy - video ready /home/danield/AnyoneAI/Curso/final_project/videos_data_aug/vidaug/data/trailer_aug/tt1559038_0039_aug_5.mp4\n",
      "Moviepy - Building video /home/danield/AnyoneAI/Curso/final_project/videos_data_aug/vidaug/data/trailer_aug/tt1559038_0039_aug_6.mp4.\n",
      "Moviepy - Writing video /home/danield/AnyoneAI/Curso/final_project/videos_data_aug/vidaug/data/trailer_aug/tt1559038_0039_aug_6.mp4\n",
      "\n"
     ]
    },
    {
     "name": "stderr",
     "output_type": "stream",
     "text": [
      "                                                             \r"
     ]
    },
    {
     "name": "stdout",
     "output_type": "stream",
     "text": [
      "Moviepy - Done !\n",
      "Moviepy - video ready /home/danield/AnyoneAI/Curso/final_project/videos_data_aug/vidaug/data/trailer_aug/tt1559038_0039_aug_6.mp4\n",
      "Moviepy - Building video /home/danield/AnyoneAI/Curso/final_project/videos_data_aug/vidaug/data/trailer_aug/tt1559038_0039_aug_7.mp4.\n",
      "Moviepy - Writing video /home/danield/AnyoneAI/Curso/final_project/videos_data_aug/vidaug/data/trailer_aug/tt1559038_0039_aug_7.mp4\n",
      "\n"
     ]
    },
    {
     "name": "stderr",
     "output_type": "stream",
     "text": [
      "                                                   "
     ]
    },
    {
     "name": "stdout",
     "output_type": "stream",
     "text": [
      "Moviepy - Done !\n",
      "Moviepy - video ready /home/danield/AnyoneAI/Curso/final_project/videos_data_aug/vidaug/data/trailer_aug/tt1559038_0039_aug_7.mp4\n"
     ]
    },
    {
     "name": "stderr",
     "output_type": "stream",
     "text": [
      "\r"
     ]
    },
    {
     "name": "stdout",
     "output_type": "stream",
     "text": [
      "processing video 48/853\n",
      "Moviepy - Building video /home/danield/AnyoneAI/Curso/final_project/videos_data_aug/vidaug/data/trailer_aug/tt3003620_0017_aug_0.mp4.\n",
      "Moviepy - Writing video /home/danield/AnyoneAI/Curso/final_project/videos_data_aug/vidaug/data/trailer_aug/tt3003620_0017_aug_0.mp4\n",
      "\n"
     ]
    },
    {
     "name": "stderr",
     "output_type": "stream",
     "text": [
      "                                                            \r"
     ]
    },
    {
     "name": "stdout",
     "output_type": "stream",
     "text": [
      "Moviepy - Done !\n",
      "Moviepy - video ready /home/danield/AnyoneAI/Curso/final_project/videos_data_aug/vidaug/data/trailer_aug/tt3003620_0017_aug_0.mp4\n",
      "Moviepy - Building video /home/danield/AnyoneAI/Curso/final_project/videos_data_aug/vidaug/data/trailer_aug/tt3003620_0017_aug_1.mp4.\n",
      "Moviepy - Writing video /home/danield/AnyoneAI/Curso/final_project/videos_data_aug/vidaug/data/trailer_aug/tt3003620_0017_aug_1.mp4\n",
      "\n"
     ]
    },
    {
     "name": "stderr",
     "output_type": "stream",
     "text": [
      "                                                            \r"
     ]
    },
    {
     "name": "stdout",
     "output_type": "stream",
     "text": [
      "Moviepy - Done !\n",
      "Moviepy - video ready /home/danield/AnyoneAI/Curso/final_project/videos_data_aug/vidaug/data/trailer_aug/tt3003620_0017_aug_1.mp4\n",
      "Moviepy - Building video /home/danield/AnyoneAI/Curso/final_project/videos_data_aug/vidaug/data/trailer_aug/tt3003620_0017_aug_2.mp4.\n",
      "Moviepy - Writing video /home/danield/AnyoneAI/Curso/final_project/videos_data_aug/vidaug/data/trailer_aug/tt3003620_0017_aug_2.mp4\n",
      "\n"
     ]
    },
    {
     "name": "stderr",
     "output_type": "stream",
     "text": [
      "                                                            \r"
     ]
    },
    {
     "name": "stdout",
     "output_type": "stream",
     "text": [
      "Moviepy - Done !\n",
      "Moviepy - video ready /home/danield/AnyoneAI/Curso/final_project/videos_data_aug/vidaug/data/trailer_aug/tt3003620_0017_aug_2.mp4\n",
      "Moviepy - Building video /home/danield/AnyoneAI/Curso/final_project/videos_data_aug/vidaug/data/trailer_aug/tt3003620_0017_aug_3.mp4.\n",
      "Moviepy - Writing video /home/danield/AnyoneAI/Curso/final_project/videos_data_aug/vidaug/data/trailer_aug/tt3003620_0017_aug_3.mp4\n",
      "\n"
     ]
    },
    {
     "name": "stderr",
     "output_type": "stream",
     "text": [
      "                                                            \r"
     ]
    },
    {
     "name": "stdout",
     "output_type": "stream",
     "text": [
      "Moviepy - Done !\n",
      "Moviepy - video ready /home/danield/AnyoneAI/Curso/final_project/videos_data_aug/vidaug/data/trailer_aug/tt3003620_0017_aug_3.mp4\n",
      "Moviepy - Building video /home/danield/AnyoneAI/Curso/final_project/videos_data_aug/vidaug/data/trailer_aug/tt3003620_0017_aug_4.mp4.\n",
      "Moviepy - Writing video /home/danield/AnyoneAI/Curso/final_project/videos_data_aug/vidaug/data/trailer_aug/tt3003620_0017_aug_4.mp4\n",
      "\n"
     ]
    },
    {
     "name": "stderr",
     "output_type": "stream",
     "text": [
      "                                                            \r"
     ]
    },
    {
     "name": "stdout",
     "output_type": "stream",
     "text": [
      "Moviepy - Done !\n",
      "Moviepy - video ready /home/danield/AnyoneAI/Curso/final_project/videos_data_aug/vidaug/data/trailer_aug/tt3003620_0017_aug_4.mp4\n",
      "Moviepy - Building video /home/danield/AnyoneAI/Curso/final_project/videos_data_aug/vidaug/data/trailer_aug/tt3003620_0017_aug_5.mp4.\n",
      "Moviepy - Writing video /home/danield/AnyoneAI/Curso/final_project/videos_data_aug/vidaug/data/trailer_aug/tt3003620_0017_aug_5.mp4\n",
      "\n"
     ]
    },
    {
     "name": "stderr",
     "output_type": "stream",
     "text": [
      "                                                            \r"
     ]
    },
    {
     "name": "stdout",
     "output_type": "stream",
     "text": [
      "Moviepy - Done !\n",
      "Moviepy - video ready /home/danield/AnyoneAI/Curso/final_project/videos_data_aug/vidaug/data/trailer_aug/tt3003620_0017_aug_5.mp4\n",
      "Moviepy - Building video /home/danield/AnyoneAI/Curso/final_project/videos_data_aug/vidaug/data/trailer_aug/tt3003620_0017_aug_6.mp4.\n",
      "Moviepy - Writing video /home/danield/AnyoneAI/Curso/final_project/videos_data_aug/vidaug/data/trailer_aug/tt3003620_0017_aug_6.mp4\n",
      "\n"
     ]
    },
    {
     "name": "stderr",
     "output_type": "stream",
     "text": [
      "                                                            \r"
     ]
    },
    {
     "name": "stdout",
     "output_type": "stream",
     "text": [
      "Moviepy - Done !\n",
      "Moviepy - video ready /home/danield/AnyoneAI/Curso/final_project/videos_data_aug/vidaug/data/trailer_aug/tt3003620_0017_aug_6.mp4\n",
      "Moviepy - Building video /home/danield/AnyoneAI/Curso/final_project/videos_data_aug/vidaug/data/trailer_aug/tt3003620_0017_aug_7.mp4.\n",
      "Moviepy - Writing video /home/danield/AnyoneAI/Curso/final_project/videos_data_aug/vidaug/data/trailer_aug/tt3003620_0017_aug_7.mp4\n",
      "\n"
     ]
    },
    {
     "name": "stderr",
     "output_type": "stream",
     "text": [
      "                                                           \r"
     ]
    },
    {
     "name": "stdout",
     "output_type": "stream",
     "text": [
      "Moviepy - Done !\n",
      "Moviepy - video ready /home/danield/AnyoneAI/Curso/final_project/videos_data_aug/vidaug/data/trailer_aug/tt3003620_0017_aug_7.mp4\n",
      "processing video 49/853\n",
      "Moviepy - Building video /home/danield/AnyoneAI/Curso/final_project/videos_data_aug/vidaug/data/trailer_aug/tt0116447_0025_aug_0.mp4.\n",
      "Moviepy - Writing video /home/danield/AnyoneAI/Curso/final_project/videos_data_aug/vidaug/data/trailer_aug/tt0116447_0025_aug_0.mp4\n",
      "\n"
     ]
    },
    {
     "name": "stderr",
     "output_type": "stream",
     "text": [
      "                                                            \r"
     ]
    },
    {
     "name": "stdout",
     "output_type": "stream",
     "text": [
      "Moviepy - Done !\n",
      "Moviepy - video ready /home/danield/AnyoneAI/Curso/final_project/videos_data_aug/vidaug/data/trailer_aug/tt0116447_0025_aug_0.mp4\n",
      "Moviepy - Building video /home/danield/AnyoneAI/Curso/final_project/videos_data_aug/vidaug/data/trailer_aug/tt0116447_0025_aug_1.mp4.\n",
      "Moviepy - Writing video /home/danield/AnyoneAI/Curso/final_project/videos_data_aug/vidaug/data/trailer_aug/tt0116447_0025_aug_1.mp4\n",
      "\n"
     ]
    },
    {
     "name": "stderr",
     "output_type": "stream",
     "text": [
      "                                                            \r"
     ]
    },
    {
     "name": "stdout",
     "output_type": "stream",
     "text": [
      "Moviepy - Done !\n",
      "Moviepy - video ready /home/danield/AnyoneAI/Curso/final_project/videos_data_aug/vidaug/data/trailer_aug/tt0116447_0025_aug_1.mp4\n",
      "Moviepy - Building video /home/danield/AnyoneAI/Curso/final_project/videos_data_aug/vidaug/data/trailer_aug/tt0116447_0025_aug_2.mp4.\n",
      "Moviepy - Writing video /home/danield/AnyoneAI/Curso/final_project/videos_data_aug/vidaug/data/trailer_aug/tt0116447_0025_aug_2.mp4\n",
      "\n"
     ]
    },
    {
     "name": "stderr",
     "output_type": "stream",
     "text": [
      "                                                            \r"
     ]
    },
    {
     "name": "stdout",
     "output_type": "stream",
     "text": [
      "Moviepy - Done !\n",
      "Moviepy - video ready /home/danield/AnyoneAI/Curso/final_project/videos_data_aug/vidaug/data/trailer_aug/tt0116447_0025_aug_2.mp4\n",
      "Moviepy - Building video /home/danield/AnyoneAI/Curso/final_project/videos_data_aug/vidaug/data/trailer_aug/tt0116447_0025_aug_3.mp4.\n",
      "Moviepy - Writing video /home/danield/AnyoneAI/Curso/final_project/videos_data_aug/vidaug/data/trailer_aug/tt0116447_0025_aug_3.mp4\n",
      "\n"
     ]
    },
    {
     "name": "stderr",
     "output_type": "stream",
     "text": [
      "                                                            \r"
     ]
    },
    {
     "name": "stdout",
     "output_type": "stream",
     "text": [
      "Moviepy - Done !\n",
      "Moviepy - video ready /home/danield/AnyoneAI/Curso/final_project/videos_data_aug/vidaug/data/trailer_aug/tt0116447_0025_aug_3.mp4\n",
      "Moviepy - Building video /home/danield/AnyoneAI/Curso/final_project/videos_data_aug/vidaug/data/trailer_aug/tt0116447_0025_aug_4.mp4.\n",
      "Moviepy - Writing video /home/danield/AnyoneAI/Curso/final_project/videos_data_aug/vidaug/data/trailer_aug/tt0116447_0025_aug_4.mp4\n",
      "\n"
     ]
    },
    {
     "name": "stderr",
     "output_type": "stream",
     "text": [
      "                                                            \r"
     ]
    },
    {
     "name": "stdout",
     "output_type": "stream",
     "text": [
      "Moviepy - Done !\n",
      "Moviepy - video ready /home/danield/AnyoneAI/Curso/final_project/videos_data_aug/vidaug/data/trailer_aug/tt0116447_0025_aug_4.mp4\n",
      "Moviepy - Building video /home/danield/AnyoneAI/Curso/final_project/videos_data_aug/vidaug/data/trailer_aug/tt0116447_0025_aug_5.mp4.\n",
      "Moviepy - Writing video /home/danield/AnyoneAI/Curso/final_project/videos_data_aug/vidaug/data/trailer_aug/tt0116447_0025_aug_5.mp4\n",
      "\n"
     ]
    },
    {
     "name": "stderr",
     "output_type": "stream",
     "text": [
      "                                                            \r"
     ]
    },
    {
     "name": "stdout",
     "output_type": "stream",
     "text": [
      "Moviepy - Done !\n",
      "Moviepy - video ready /home/danield/AnyoneAI/Curso/final_project/videos_data_aug/vidaug/data/trailer_aug/tt0116447_0025_aug_5.mp4\n",
      "Moviepy - Building video /home/danield/AnyoneAI/Curso/final_project/videos_data_aug/vidaug/data/trailer_aug/tt0116447_0025_aug_6.mp4.\n",
      "Moviepy - Writing video /home/danield/AnyoneAI/Curso/final_project/videos_data_aug/vidaug/data/trailer_aug/tt0116447_0025_aug_6.mp4\n",
      "\n"
     ]
    },
    {
     "name": "stderr",
     "output_type": "stream",
     "text": [
      "                                                            \r"
     ]
    },
    {
     "name": "stdout",
     "output_type": "stream",
     "text": [
      "Moviepy - Done !\n",
      "Moviepy - video ready /home/danield/AnyoneAI/Curso/final_project/videos_data_aug/vidaug/data/trailer_aug/tt0116447_0025_aug_6.mp4\n",
      "Moviepy - Building video /home/danield/AnyoneAI/Curso/final_project/videos_data_aug/vidaug/data/trailer_aug/tt0116447_0025_aug_7.mp4.\n",
      "Moviepy - Writing video /home/danield/AnyoneAI/Curso/final_project/videos_data_aug/vidaug/data/trailer_aug/tt0116447_0025_aug_7.mp4\n",
      "\n"
     ]
    },
    {
     "name": "stderr",
     "output_type": "stream",
     "text": [
      "                                                           \r"
     ]
    },
    {
     "name": "stdout",
     "output_type": "stream",
     "text": [
      "Moviepy - Done !\n",
      "Moviepy - video ready /home/danield/AnyoneAI/Curso/final_project/videos_data_aug/vidaug/data/trailer_aug/tt0116447_0025_aug_7.mp4\n",
      "processing video 50/853\n",
      "Moviepy - Building video /home/danield/AnyoneAI/Curso/final_project/videos_data_aug/vidaug/data/trailer_aug/tt1582196_0106_aug_0.mp4.\n",
      "Moviepy - Writing video /home/danield/AnyoneAI/Curso/final_project/videos_data_aug/vidaug/data/trailer_aug/tt1582196_0106_aug_0.mp4\n",
      "\n"
     ]
    },
    {
     "name": "stderr",
     "output_type": "stream",
     "text": [
      "                                                            \r"
     ]
    },
    {
     "name": "stdout",
     "output_type": "stream",
     "text": [
      "Moviepy - Done !\n",
      "Moviepy - video ready /home/danield/AnyoneAI/Curso/final_project/videos_data_aug/vidaug/data/trailer_aug/tt1582196_0106_aug_0.mp4\n",
      "Moviepy - Building video /home/danield/AnyoneAI/Curso/final_project/videos_data_aug/vidaug/data/trailer_aug/tt1582196_0106_aug_1.mp4.\n",
      "Moviepy - Writing video /home/danield/AnyoneAI/Curso/final_project/videos_data_aug/vidaug/data/trailer_aug/tt1582196_0106_aug_1.mp4\n",
      "\n"
     ]
    },
    {
     "name": "stderr",
     "output_type": "stream",
     "text": [
      "                                                            \r"
     ]
    },
    {
     "name": "stdout",
     "output_type": "stream",
     "text": [
      "Moviepy - Done !\n",
      "Moviepy - video ready /home/danield/AnyoneAI/Curso/final_project/videos_data_aug/vidaug/data/trailer_aug/tt1582196_0106_aug_1.mp4\n",
      "Moviepy - Building video /home/danield/AnyoneAI/Curso/final_project/videos_data_aug/vidaug/data/trailer_aug/tt1582196_0106_aug_2.mp4.\n",
      "Moviepy - Writing video /home/danield/AnyoneAI/Curso/final_project/videos_data_aug/vidaug/data/trailer_aug/tt1582196_0106_aug_2.mp4\n",
      "\n"
     ]
    },
    {
     "name": "stderr",
     "output_type": "stream",
     "text": [
      "                                                            \r"
     ]
    },
    {
     "name": "stdout",
     "output_type": "stream",
     "text": [
      "Moviepy - Done !\n",
      "Moviepy - video ready /home/danield/AnyoneAI/Curso/final_project/videos_data_aug/vidaug/data/trailer_aug/tt1582196_0106_aug_2.mp4\n",
      "Moviepy - Building video /home/danield/AnyoneAI/Curso/final_project/videos_data_aug/vidaug/data/trailer_aug/tt1582196_0106_aug_3.mp4.\n",
      "Moviepy - Writing video /home/danield/AnyoneAI/Curso/final_project/videos_data_aug/vidaug/data/trailer_aug/tt1582196_0106_aug_3.mp4\n",
      "\n"
     ]
    },
    {
     "name": "stderr",
     "output_type": "stream",
     "text": [
      "                                                            \r"
     ]
    },
    {
     "name": "stdout",
     "output_type": "stream",
     "text": [
      "Moviepy - Done !\n",
      "Moviepy - video ready /home/danield/AnyoneAI/Curso/final_project/videos_data_aug/vidaug/data/trailer_aug/tt1582196_0106_aug_3.mp4\n",
      "Moviepy - Building video /home/danield/AnyoneAI/Curso/final_project/videos_data_aug/vidaug/data/trailer_aug/tt1582196_0106_aug_4.mp4.\n",
      "Moviepy - Writing video /home/danield/AnyoneAI/Curso/final_project/videos_data_aug/vidaug/data/trailer_aug/tt1582196_0106_aug_4.mp4\n",
      "\n"
     ]
    },
    {
     "name": "stderr",
     "output_type": "stream",
     "text": [
      "                                                            \r"
     ]
    },
    {
     "name": "stdout",
     "output_type": "stream",
     "text": [
      "Moviepy - Done !\n",
      "Moviepy - video ready /home/danield/AnyoneAI/Curso/final_project/videos_data_aug/vidaug/data/trailer_aug/tt1582196_0106_aug_4.mp4\n",
      "Moviepy - Building video /home/danield/AnyoneAI/Curso/final_project/videos_data_aug/vidaug/data/trailer_aug/tt1582196_0106_aug_5.mp4.\n",
      "Moviepy - Writing video /home/danield/AnyoneAI/Curso/final_project/videos_data_aug/vidaug/data/trailer_aug/tt1582196_0106_aug_5.mp4\n",
      "\n"
     ]
    },
    {
     "name": "stderr",
     "output_type": "stream",
     "text": [
      "                                                            \r"
     ]
    },
    {
     "name": "stdout",
     "output_type": "stream",
     "text": [
      "Moviepy - Done !\n",
      "Moviepy - video ready /home/danield/AnyoneAI/Curso/final_project/videos_data_aug/vidaug/data/trailer_aug/tt1582196_0106_aug_5.mp4\n",
      "Moviepy - Building video /home/danield/AnyoneAI/Curso/final_project/videos_data_aug/vidaug/data/trailer_aug/tt1582196_0106_aug_6.mp4.\n",
      "Moviepy - Writing video /home/danield/AnyoneAI/Curso/final_project/videos_data_aug/vidaug/data/trailer_aug/tt1582196_0106_aug_6.mp4\n",
      "\n"
     ]
    },
    {
     "name": "stderr",
     "output_type": "stream",
     "text": [
      "                                                            \r"
     ]
    },
    {
     "name": "stdout",
     "output_type": "stream",
     "text": [
      "Moviepy - Done !\n",
      "Moviepy - video ready /home/danield/AnyoneAI/Curso/final_project/videos_data_aug/vidaug/data/trailer_aug/tt1582196_0106_aug_6.mp4\n",
      "Moviepy - Building video /home/danield/AnyoneAI/Curso/final_project/videos_data_aug/vidaug/data/trailer_aug/tt1582196_0106_aug_7.mp4.\n",
      "Moviepy - Writing video /home/danield/AnyoneAI/Curso/final_project/videos_data_aug/vidaug/data/trailer_aug/tt1582196_0106_aug_7.mp4\n",
      "\n"
     ]
    },
    {
     "name": "stderr",
     "output_type": "stream",
     "text": [
      "                                                           \r"
     ]
    },
    {
     "name": "stdout",
     "output_type": "stream",
     "text": [
      "Moviepy - Done !\n",
      "Moviepy - video ready /home/danield/AnyoneAI/Curso/final_project/videos_data_aug/vidaug/data/trailer_aug/tt1582196_0106_aug_7.mp4\n",
      "processing video 51/853\n",
      "Moviepy - Building video /home/danield/AnyoneAI/Curso/final_project/videos_data_aug/vidaug/data/trailer_aug/tt4886338_0024_aug_0.mp4.\n",
      "Moviepy - Writing video /home/danield/AnyoneAI/Curso/final_project/videos_data_aug/vidaug/data/trailer_aug/tt4886338_0024_aug_0.mp4\n",
      "\n"
     ]
    },
    {
     "name": "stderr",
     "output_type": "stream",
     "text": [
      "                                                             \r"
     ]
    },
    {
     "name": "stdout",
     "output_type": "stream",
     "text": [
      "Moviepy - Done !\n",
      "Moviepy - video ready /home/danield/AnyoneAI/Curso/final_project/videos_data_aug/vidaug/data/trailer_aug/tt4886338_0024_aug_0.mp4\n",
      "Moviepy - Building video /home/danield/AnyoneAI/Curso/final_project/videos_data_aug/vidaug/data/trailer_aug/tt4886338_0024_aug_1.mp4.\n",
      "Moviepy - Writing video /home/danield/AnyoneAI/Curso/final_project/videos_data_aug/vidaug/data/trailer_aug/tt4886338_0024_aug_1.mp4\n",
      "\n"
     ]
    },
    {
     "name": "stderr",
     "output_type": "stream",
     "text": [
      "                                                             \r"
     ]
    },
    {
     "name": "stdout",
     "output_type": "stream",
     "text": [
      "Moviepy - Done !\n",
      "Moviepy - video ready /home/danield/AnyoneAI/Curso/final_project/videos_data_aug/vidaug/data/trailer_aug/tt4886338_0024_aug_1.mp4\n",
      "Moviepy - Building video /home/danield/AnyoneAI/Curso/final_project/videos_data_aug/vidaug/data/trailer_aug/tt4886338_0024_aug_2.mp4.\n",
      "Moviepy - Writing video /home/danield/AnyoneAI/Curso/final_project/videos_data_aug/vidaug/data/trailer_aug/tt4886338_0024_aug_2.mp4\n",
      "\n"
     ]
    },
    {
     "name": "stderr",
     "output_type": "stream",
     "text": [
      "                                                             \r"
     ]
    },
    {
     "name": "stdout",
     "output_type": "stream",
     "text": [
      "Moviepy - Done !\n",
      "Moviepy - video ready /home/danield/AnyoneAI/Curso/final_project/videos_data_aug/vidaug/data/trailer_aug/tt4886338_0024_aug_2.mp4\n",
      "Moviepy - Building video /home/danield/AnyoneAI/Curso/final_project/videos_data_aug/vidaug/data/trailer_aug/tt4886338_0024_aug_3.mp4.\n",
      "Moviepy - Writing video /home/danield/AnyoneAI/Curso/final_project/videos_data_aug/vidaug/data/trailer_aug/tt4886338_0024_aug_3.mp4\n",
      "\n"
     ]
    },
    {
     "name": "stderr",
     "output_type": "stream",
     "text": [
      "                                                   \r"
     ]
    },
    {
     "name": "stdout",
     "output_type": "stream",
     "text": [
      "Moviepy - Done !\n",
      "Moviepy - video ready /home/danield/AnyoneAI/Curso/final_project/videos_data_aug/vidaug/data/trailer_aug/tt4886338_0024_aug_3.mp4\n",
      "Moviepy - Building video /home/danield/AnyoneAI/Curso/final_project/videos_data_aug/vidaug/data/trailer_aug/tt4886338_0024_aug_4.mp4.\n",
      "Moviepy - Writing video /home/danield/AnyoneAI/Curso/final_project/videos_data_aug/vidaug/data/trailer_aug/tt4886338_0024_aug_4.mp4\n",
      "\n"
     ]
    },
    {
     "name": "stderr",
     "output_type": "stream",
     "text": [
      "                                                             \r"
     ]
    },
    {
     "name": "stdout",
     "output_type": "stream",
     "text": [
      "Moviepy - Done !\n",
      "Moviepy - video ready /home/danield/AnyoneAI/Curso/final_project/videos_data_aug/vidaug/data/trailer_aug/tt4886338_0024_aug_4.mp4\n",
      "Moviepy - Building video /home/danield/AnyoneAI/Curso/final_project/videos_data_aug/vidaug/data/trailer_aug/tt4886338_0024_aug_5.mp4.\n",
      "Moviepy - Writing video /home/danield/AnyoneAI/Curso/final_project/videos_data_aug/vidaug/data/trailer_aug/tt4886338_0024_aug_5.mp4\n",
      "\n"
     ]
    },
    {
     "name": "stderr",
     "output_type": "stream",
     "text": [
      "                                                             \r"
     ]
    },
    {
     "name": "stdout",
     "output_type": "stream",
     "text": [
      "Moviepy - Done !\n",
      "Moviepy - video ready /home/danield/AnyoneAI/Curso/final_project/videos_data_aug/vidaug/data/trailer_aug/tt4886338_0024_aug_5.mp4\n",
      "Moviepy - Building video /home/danield/AnyoneAI/Curso/final_project/videos_data_aug/vidaug/data/trailer_aug/tt4886338_0024_aug_6.mp4.\n",
      "Moviepy - Writing video /home/danield/AnyoneAI/Curso/final_project/videos_data_aug/vidaug/data/trailer_aug/tt4886338_0024_aug_6.mp4\n",
      "\n"
     ]
    },
    {
     "name": "stderr",
     "output_type": "stream",
     "text": [
      "                                                             \r"
     ]
    },
    {
     "name": "stdout",
     "output_type": "stream",
     "text": [
      "Moviepy - Done !\n",
      "Moviepy - video ready /home/danield/AnyoneAI/Curso/final_project/videos_data_aug/vidaug/data/trailer_aug/tt4886338_0024_aug_6.mp4\n",
      "Moviepy - Building video /home/danield/AnyoneAI/Curso/final_project/videos_data_aug/vidaug/data/trailer_aug/tt4886338_0024_aug_7.mp4.\n",
      "Moviepy - Writing video /home/danield/AnyoneAI/Curso/final_project/videos_data_aug/vidaug/data/trailer_aug/tt4886338_0024_aug_7.mp4\n",
      "\n"
     ]
    },
    {
     "name": "stderr",
     "output_type": "stream",
     "text": [
      "                                                   \r"
     ]
    },
    {
     "name": "stdout",
     "output_type": "stream",
     "text": [
      "Moviepy - Done !\n",
      "Moviepy - video ready /home/danield/AnyoneAI/Curso/final_project/videos_data_aug/vidaug/data/trailer_aug/tt4886338_0024_aug_7.mp4\n",
      "processing video 52/853\n",
      "Moviepy - Building video /home/danield/AnyoneAI/Curso/final_project/videos_data_aug/vidaug/data/trailer_aug/tt0431197_0039_aug_0.mp4.\n",
      "Moviepy - Writing video /home/danield/AnyoneAI/Curso/final_project/videos_data_aug/vidaug/data/trailer_aug/tt0431197_0039_aug_0.mp4\n",
      "\n"
     ]
    },
    {
     "name": "stderr",
     "output_type": "stream",
     "text": [
      "                                                             \r"
     ]
    },
    {
     "name": "stdout",
     "output_type": "stream",
     "text": [
      "Moviepy - Done !\n",
      "Moviepy - video ready /home/danield/AnyoneAI/Curso/final_project/videos_data_aug/vidaug/data/trailer_aug/tt0431197_0039_aug_0.mp4\n",
      "Moviepy - Building video /home/danield/AnyoneAI/Curso/final_project/videos_data_aug/vidaug/data/trailer_aug/tt0431197_0039_aug_1.mp4.\n",
      "Moviepy - Writing video /home/danield/AnyoneAI/Curso/final_project/videos_data_aug/vidaug/data/trailer_aug/tt0431197_0039_aug_1.mp4\n",
      "\n"
     ]
    },
    {
     "name": "stderr",
     "output_type": "stream",
     "text": [
      "                                                             \r"
     ]
    },
    {
     "name": "stdout",
     "output_type": "stream",
     "text": [
      "Moviepy - Done !\n",
      "Moviepy - video ready /home/danield/AnyoneAI/Curso/final_project/videos_data_aug/vidaug/data/trailer_aug/tt0431197_0039_aug_1.mp4\n",
      "Moviepy - Building video /home/danield/AnyoneAI/Curso/final_project/videos_data_aug/vidaug/data/trailer_aug/tt0431197_0039_aug_2.mp4.\n",
      "Moviepy - Writing video /home/danield/AnyoneAI/Curso/final_project/videos_data_aug/vidaug/data/trailer_aug/tt0431197_0039_aug_2.mp4\n",
      "\n"
     ]
    },
    {
     "name": "stderr",
     "output_type": "stream",
     "text": [
      "                                                             \r"
     ]
    },
    {
     "name": "stdout",
     "output_type": "stream",
     "text": [
      "Moviepy - Done !\n",
      "Moviepy - video ready /home/danield/AnyoneAI/Curso/final_project/videos_data_aug/vidaug/data/trailer_aug/tt0431197_0039_aug_2.mp4\n",
      "Moviepy - Building video /home/danield/AnyoneAI/Curso/final_project/videos_data_aug/vidaug/data/trailer_aug/tt0431197_0039_aug_3.mp4.\n",
      "Moviepy - Writing video /home/danield/AnyoneAI/Curso/final_project/videos_data_aug/vidaug/data/trailer_aug/tt0431197_0039_aug_3.mp4\n",
      "\n"
     ]
    },
    {
     "name": "stderr",
     "output_type": "stream",
     "text": [
      "                                                   \r"
     ]
    },
    {
     "name": "stdout",
     "output_type": "stream",
     "text": [
      "Moviepy - Done !\n",
      "Moviepy - video ready /home/danield/AnyoneAI/Curso/final_project/videos_data_aug/vidaug/data/trailer_aug/tt0431197_0039_aug_3.mp4\n",
      "Moviepy - Building video /home/danield/AnyoneAI/Curso/final_project/videos_data_aug/vidaug/data/trailer_aug/tt0431197_0039_aug_4.mp4.\n",
      "Moviepy - Writing video /home/danield/AnyoneAI/Curso/final_project/videos_data_aug/vidaug/data/trailer_aug/tt0431197_0039_aug_4.mp4\n",
      "\n"
     ]
    },
    {
     "name": "stderr",
     "output_type": "stream",
     "text": [
      "                                                             \r"
     ]
    },
    {
     "name": "stdout",
     "output_type": "stream",
     "text": [
      "Moviepy - Done !\n",
      "Moviepy - video ready /home/danield/AnyoneAI/Curso/final_project/videos_data_aug/vidaug/data/trailer_aug/tt0431197_0039_aug_4.mp4\n",
      "Moviepy - Building video /home/danield/AnyoneAI/Curso/final_project/videos_data_aug/vidaug/data/trailer_aug/tt0431197_0039_aug_5.mp4.\n",
      "Moviepy - Writing video /home/danield/AnyoneAI/Curso/final_project/videos_data_aug/vidaug/data/trailer_aug/tt0431197_0039_aug_5.mp4\n",
      "\n"
     ]
    },
    {
     "name": "stderr",
     "output_type": "stream",
     "text": [
      "                                                             \r"
     ]
    },
    {
     "name": "stdout",
     "output_type": "stream",
     "text": [
      "Moviepy - Done !\n",
      "Moviepy - video ready /home/danield/AnyoneAI/Curso/final_project/videos_data_aug/vidaug/data/trailer_aug/tt0431197_0039_aug_5.mp4\n",
      "Moviepy - Building video /home/danield/AnyoneAI/Curso/final_project/videos_data_aug/vidaug/data/trailer_aug/tt0431197_0039_aug_6.mp4.\n",
      "Moviepy - Writing video /home/danield/AnyoneAI/Curso/final_project/videos_data_aug/vidaug/data/trailer_aug/tt0431197_0039_aug_6.mp4\n",
      "\n"
     ]
    },
    {
     "name": "stderr",
     "output_type": "stream",
     "text": [
      "                                                             \r"
     ]
    },
    {
     "name": "stdout",
     "output_type": "stream",
     "text": [
      "Moviepy - Done !\n",
      "Moviepy - video ready /home/danield/AnyoneAI/Curso/final_project/videos_data_aug/vidaug/data/trailer_aug/tt0431197_0039_aug_6.mp4\n",
      "Moviepy - Building video /home/danield/AnyoneAI/Curso/final_project/videos_data_aug/vidaug/data/trailer_aug/tt0431197_0039_aug_7.mp4.\n",
      "Moviepy - Writing video /home/danield/AnyoneAI/Curso/final_project/videos_data_aug/vidaug/data/trailer_aug/tt0431197_0039_aug_7.mp4\n",
      "\n"
     ]
    },
    {
     "name": "stderr",
     "output_type": "stream",
     "text": [
      "                                                   "
     ]
    },
    {
     "name": "stdout",
     "output_type": "stream",
     "text": [
      "Moviepy - Done !\n",
      "Moviepy - video ready /home/danield/AnyoneAI/Curso/final_project/videos_data_aug/vidaug/data/trailer_aug/tt0431197_0039_aug_7.mp4\n"
     ]
    },
    {
     "name": "stderr",
     "output_type": "stream",
     "text": [
      "\r"
     ]
    },
    {
     "name": "stdout",
     "output_type": "stream",
     "text": [
      "processing video 53/853\n",
      "Moviepy - Building video /home/danield/AnyoneAI/Curso/final_project/videos_data_aug/vidaug/data/trailer_aug/tt0068655_0015_aug_0.mp4.\n",
      "Moviepy - Writing video /home/danield/AnyoneAI/Curso/final_project/videos_data_aug/vidaug/data/trailer_aug/tt0068655_0015_aug_0.mp4\n",
      "\n"
     ]
    },
    {
     "name": "stderr",
     "output_type": "stream",
     "text": [
      "                                                             \r"
     ]
    },
    {
     "name": "stdout",
     "output_type": "stream",
     "text": [
      "Moviepy - Done !\n",
      "Moviepy - video ready /home/danield/AnyoneAI/Curso/final_project/videos_data_aug/vidaug/data/trailer_aug/tt0068655_0015_aug_0.mp4\n",
      "Moviepy - Building video /home/danield/AnyoneAI/Curso/final_project/videos_data_aug/vidaug/data/trailer_aug/tt0068655_0015_aug_1.mp4.\n",
      "Moviepy - Writing video /home/danield/AnyoneAI/Curso/final_project/videos_data_aug/vidaug/data/trailer_aug/tt0068655_0015_aug_1.mp4\n",
      "\n"
     ]
    },
    {
     "name": "stderr",
     "output_type": "stream",
     "text": [
      "                                                             \r"
     ]
    },
    {
     "name": "stdout",
     "output_type": "stream",
     "text": [
      "Moviepy - Done !\n",
      "Moviepy - video ready /home/danield/AnyoneAI/Curso/final_project/videos_data_aug/vidaug/data/trailer_aug/tt0068655_0015_aug_1.mp4\n",
      "Moviepy - Building video /home/danield/AnyoneAI/Curso/final_project/videos_data_aug/vidaug/data/trailer_aug/tt0068655_0015_aug_2.mp4.\n",
      "Moviepy - Writing video /home/danield/AnyoneAI/Curso/final_project/videos_data_aug/vidaug/data/trailer_aug/tt0068655_0015_aug_2.mp4\n",
      "\n"
     ]
    },
    {
     "name": "stderr",
     "output_type": "stream",
     "text": [
      "                                                             \r"
     ]
    },
    {
     "name": "stdout",
     "output_type": "stream",
     "text": [
      "Moviepy - Done !\n",
      "Moviepy - video ready /home/danield/AnyoneAI/Curso/final_project/videos_data_aug/vidaug/data/trailer_aug/tt0068655_0015_aug_2.mp4\n",
      "Moviepy - Building video /home/danield/AnyoneAI/Curso/final_project/videos_data_aug/vidaug/data/trailer_aug/tt0068655_0015_aug_3.mp4.\n",
      "Moviepy - Writing video /home/danield/AnyoneAI/Curso/final_project/videos_data_aug/vidaug/data/trailer_aug/tt0068655_0015_aug_3.mp4\n",
      "\n"
     ]
    },
    {
     "name": "stderr",
     "output_type": "stream",
     "text": [
      "                                                   \r"
     ]
    },
    {
     "name": "stdout",
     "output_type": "stream",
     "text": [
      "Moviepy - Done !\n",
      "Moviepy - video ready /home/danield/AnyoneAI/Curso/final_project/videos_data_aug/vidaug/data/trailer_aug/tt0068655_0015_aug_3.mp4\n",
      "Moviepy - Building video /home/danield/AnyoneAI/Curso/final_project/videos_data_aug/vidaug/data/trailer_aug/tt0068655_0015_aug_4.mp4.\n",
      "Moviepy - Writing video /home/danield/AnyoneAI/Curso/final_project/videos_data_aug/vidaug/data/trailer_aug/tt0068655_0015_aug_4.mp4\n",
      "\n"
     ]
    },
    {
     "name": "stderr",
     "output_type": "stream",
     "text": [
      "                                                             \r"
     ]
    },
    {
     "name": "stdout",
     "output_type": "stream",
     "text": [
      "Moviepy - Done !\n",
      "Moviepy - video ready /home/danield/AnyoneAI/Curso/final_project/videos_data_aug/vidaug/data/trailer_aug/tt0068655_0015_aug_4.mp4\n",
      "Moviepy - Building video /home/danield/AnyoneAI/Curso/final_project/videos_data_aug/vidaug/data/trailer_aug/tt0068655_0015_aug_5.mp4.\n",
      "Moviepy - Writing video /home/danield/AnyoneAI/Curso/final_project/videos_data_aug/vidaug/data/trailer_aug/tt0068655_0015_aug_5.mp4\n",
      "\n"
     ]
    },
    {
     "name": "stderr",
     "output_type": "stream",
     "text": [
      "                                                             \r"
     ]
    },
    {
     "name": "stdout",
     "output_type": "stream",
     "text": [
      "Moviepy - Done !\n",
      "Moviepy - video ready /home/danield/AnyoneAI/Curso/final_project/videos_data_aug/vidaug/data/trailer_aug/tt0068655_0015_aug_5.mp4\n",
      "Moviepy - Building video /home/danield/AnyoneAI/Curso/final_project/videos_data_aug/vidaug/data/trailer_aug/tt0068655_0015_aug_6.mp4.\n",
      "Moviepy - Writing video /home/danield/AnyoneAI/Curso/final_project/videos_data_aug/vidaug/data/trailer_aug/tt0068655_0015_aug_6.mp4\n",
      "\n"
     ]
    },
    {
     "name": "stderr",
     "output_type": "stream",
     "text": [
      "                                                             \r"
     ]
    },
    {
     "name": "stdout",
     "output_type": "stream",
     "text": [
      "Moviepy - Done !\n",
      "Moviepy - video ready /home/danield/AnyoneAI/Curso/final_project/videos_data_aug/vidaug/data/trailer_aug/tt0068655_0015_aug_6.mp4\n",
      "Moviepy - Building video /home/danield/AnyoneAI/Curso/final_project/videos_data_aug/vidaug/data/trailer_aug/tt0068655_0015_aug_7.mp4.\n",
      "Moviepy - Writing video /home/danield/AnyoneAI/Curso/final_project/videos_data_aug/vidaug/data/trailer_aug/tt0068655_0015_aug_7.mp4\n",
      "\n"
     ]
    },
    {
     "name": "stderr",
     "output_type": "stream",
     "text": [
      "                                                   "
     ]
    },
    {
     "name": "stdout",
     "output_type": "stream",
     "text": [
      "Moviepy - Done !\n",
      "Moviepy - video ready /home/danield/AnyoneAI/Curso/final_project/videos_data_aug/vidaug/data/trailer_aug/tt0068655_0015_aug_7.mp4\n"
     ]
    },
    {
     "name": "stderr",
     "output_type": "stream",
     "text": [
      "\r"
     ]
    },
    {
     "name": "stdout",
     "output_type": "stream",
     "text": [
      "processing video 54/853\n",
      "Moviepy - Building video /home/danield/AnyoneAI/Curso/final_project/videos_data_aug/vidaug/data/trailer_aug/tt2101347_0020_aug_0.mp4.\n",
      "Moviepy - Writing video /home/danield/AnyoneAI/Curso/final_project/videos_data_aug/vidaug/data/trailer_aug/tt2101347_0020_aug_0.mp4\n",
      "\n"
     ]
    },
    {
     "name": "stderr",
     "output_type": "stream",
     "text": [
      "                                                            \r"
     ]
    },
    {
     "name": "stdout",
     "output_type": "stream",
     "text": [
      "Moviepy - Done !\n",
      "Moviepy - video ready /home/danield/AnyoneAI/Curso/final_project/videos_data_aug/vidaug/data/trailer_aug/tt2101347_0020_aug_0.mp4\n",
      "Moviepy - Building video /home/danield/AnyoneAI/Curso/final_project/videos_data_aug/vidaug/data/trailer_aug/tt2101347_0020_aug_1.mp4.\n",
      "Moviepy - Writing video /home/danield/AnyoneAI/Curso/final_project/videos_data_aug/vidaug/data/trailer_aug/tt2101347_0020_aug_1.mp4\n",
      "\n"
     ]
    },
    {
     "name": "stderr",
     "output_type": "stream",
     "text": [
      "                                                            \r"
     ]
    },
    {
     "name": "stdout",
     "output_type": "stream",
     "text": [
      "Moviepy - Done !\n",
      "Moviepy - video ready /home/danield/AnyoneAI/Curso/final_project/videos_data_aug/vidaug/data/trailer_aug/tt2101347_0020_aug_1.mp4\n",
      "Moviepy - Building video /home/danield/AnyoneAI/Curso/final_project/videos_data_aug/vidaug/data/trailer_aug/tt2101347_0020_aug_2.mp4.\n",
      "Moviepy - Writing video /home/danield/AnyoneAI/Curso/final_project/videos_data_aug/vidaug/data/trailer_aug/tt2101347_0020_aug_2.mp4\n",
      "\n"
     ]
    },
    {
     "name": "stderr",
     "output_type": "stream",
     "text": [
      "                                                            \r"
     ]
    },
    {
     "name": "stdout",
     "output_type": "stream",
     "text": [
      "Moviepy - Done !\n",
      "Moviepy - video ready /home/danield/AnyoneAI/Curso/final_project/videos_data_aug/vidaug/data/trailer_aug/tt2101347_0020_aug_2.mp4\n",
      "Moviepy - Building video /home/danield/AnyoneAI/Curso/final_project/videos_data_aug/vidaug/data/trailer_aug/tt2101347_0020_aug_3.mp4.\n",
      "Moviepy - Writing video /home/danield/AnyoneAI/Curso/final_project/videos_data_aug/vidaug/data/trailer_aug/tt2101347_0020_aug_3.mp4\n",
      "\n"
     ]
    },
    {
     "name": "stderr",
     "output_type": "stream",
     "text": [
      "                                                            \r"
     ]
    },
    {
     "name": "stdout",
     "output_type": "stream",
     "text": [
      "Moviepy - Done !\n",
      "Moviepy - video ready /home/danield/AnyoneAI/Curso/final_project/videos_data_aug/vidaug/data/trailer_aug/tt2101347_0020_aug_3.mp4\n",
      "Moviepy - Building video /home/danield/AnyoneAI/Curso/final_project/videos_data_aug/vidaug/data/trailer_aug/tt2101347_0020_aug_4.mp4.\n",
      "Moviepy - Writing video /home/danield/AnyoneAI/Curso/final_project/videos_data_aug/vidaug/data/trailer_aug/tt2101347_0020_aug_4.mp4\n",
      "\n"
     ]
    },
    {
     "name": "stderr",
     "output_type": "stream",
     "text": [
      "                                                            \r"
     ]
    },
    {
     "name": "stdout",
     "output_type": "stream",
     "text": [
      "Moviepy - Done !\n",
      "Moviepy - video ready /home/danield/AnyoneAI/Curso/final_project/videos_data_aug/vidaug/data/trailer_aug/tt2101347_0020_aug_4.mp4\n",
      "Moviepy - Building video /home/danield/AnyoneAI/Curso/final_project/videos_data_aug/vidaug/data/trailer_aug/tt2101347_0020_aug_5.mp4.\n",
      "Moviepy - Writing video /home/danield/AnyoneAI/Curso/final_project/videos_data_aug/vidaug/data/trailer_aug/tt2101347_0020_aug_5.mp4\n",
      "\n"
     ]
    },
    {
     "name": "stderr",
     "output_type": "stream",
     "text": [
      "                                                            \r"
     ]
    },
    {
     "name": "stdout",
     "output_type": "stream",
     "text": [
      "Moviepy - Done !\n",
      "Moviepy - video ready /home/danield/AnyoneAI/Curso/final_project/videos_data_aug/vidaug/data/trailer_aug/tt2101347_0020_aug_5.mp4\n",
      "Moviepy - Building video /home/danield/AnyoneAI/Curso/final_project/videos_data_aug/vidaug/data/trailer_aug/tt2101347_0020_aug_6.mp4.\n",
      "Moviepy - Writing video /home/danield/AnyoneAI/Curso/final_project/videos_data_aug/vidaug/data/trailer_aug/tt2101347_0020_aug_6.mp4\n",
      "\n"
     ]
    },
    {
     "name": "stderr",
     "output_type": "stream",
     "text": [
      "                                                            \r"
     ]
    },
    {
     "name": "stdout",
     "output_type": "stream",
     "text": [
      "Moviepy - Done !\n",
      "Moviepy - video ready /home/danield/AnyoneAI/Curso/final_project/videos_data_aug/vidaug/data/trailer_aug/tt2101347_0020_aug_6.mp4\n",
      "Moviepy - Building video /home/danield/AnyoneAI/Curso/final_project/videos_data_aug/vidaug/data/trailer_aug/tt2101347_0020_aug_7.mp4.\n",
      "Moviepy - Writing video /home/danield/AnyoneAI/Curso/final_project/videos_data_aug/vidaug/data/trailer_aug/tt2101347_0020_aug_7.mp4\n",
      "\n"
     ]
    },
    {
     "name": "stderr",
     "output_type": "stream",
     "text": [
      "                                                           \r"
     ]
    },
    {
     "name": "stdout",
     "output_type": "stream",
     "text": [
      "Moviepy - Done !\n",
      "Moviepy - video ready /home/danield/AnyoneAI/Curso/final_project/videos_data_aug/vidaug/data/trailer_aug/tt2101347_0020_aug_7.mp4\n",
      "processing video 55/853\n",
      "Moviepy - Building video /home/danield/AnyoneAI/Curso/final_project/videos_data_aug/vidaug/data/trailer_aug/tt3544008_0061_aug_0.mp4.\n",
      "Moviepy - Writing video /home/danield/AnyoneAI/Curso/final_project/videos_data_aug/vidaug/data/trailer_aug/tt3544008_0061_aug_0.mp4\n",
      "\n"
     ]
    },
    {
     "name": "stderr",
     "output_type": "stream",
     "text": [
      "                                                            \r"
     ]
    },
    {
     "name": "stdout",
     "output_type": "stream",
     "text": [
      "Moviepy - Done !\n",
      "Moviepy - video ready /home/danield/AnyoneAI/Curso/final_project/videos_data_aug/vidaug/data/trailer_aug/tt3544008_0061_aug_0.mp4\n",
      "Moviepy - Building video /home/danield/AnyoneAI/Curso/final_project/videos_data_aug/vidaug/data/trailer_aug/tt3544008_0061_aug_1.mp4.\n",
      "Moviepy - Writing video /home/danield/AnyoneAI/Curso/final_project/videos_data_aug/vidaug/data/trailer_aug/tt3544008_0061_aug_1.mp4\n",
      "\n"
     ]
    },
    {
     "name": "stderr",
     "output_type": "stream",
     "text": [
      "                                                            \r"
     ]
    },
    {
     "name": "stdout",
     "output_type": "stream",
     "text": [
      "Moviepy - Done !\n",
      "Moviepy - video ready /home/danield/AnyoneAI/Curso/final_project/videos_data_aug/vidaug/data/trailer_aug/tt3544008_0061_aug_1.mp4\n",
      "Moviepy - Building video /home/danield/AnyoneAI/Curso/final_project/videos_data_aug/vidaug/data/trailer_aug/tt3544008_0061_aug_2.mp4.\n",
      "Moviepy - Writing video /home/danield/AnyoneAI/Curso/final_project/videos_data_aug/vidaug/data/trailer_aug/tt3544008_0061_aug_2.mp4\n",
      "\n"
     ]
    },
    {
     "name": "stderr",
     "output_type": "stream",
     "text": [
      "                                                            \r"
     ]
    },
    {
     "name": "stdout",
     "output_type": "stream",
     "text": [
      "Moviepy - Done !\n",
      "Moviepy - video ready /home/danield/AnyoneAI/Curso/final_project/videos_data_aug/vidaug/data/trailer_aug/tt3544008_0061_aug_2.mp4\n",
      "Moviepy - Building video /home/danield/AnyoneAI/Curso/final_project/videos_data_aug/vidaug/data/trailer_aug/tt3544008_0061_aug_3.mp4.\n",
      "Moviepy - Writing video /home/danield/AnyoneAI/Curso/final_project/videos_data_aug/vidaug/data/trailer_aug/tt3544008_0061_aug_3.mp4\n",
      "\n"
     ]
    },
    {
     "name": "stderr",
     "output_type": "stream",
     "text": [
      "                                                             \r"
     ]
    },
    {
     "name": "stdout",
     "output_type": "stream",
     "text": [
      "Moviepy - Done !\n",
      "Moviepy - video ready /home/danield/AnyoneAI/Curso/final_project/videos_data_aug/vidaug/data/trailer_aug/tt3544008_0061_aug_3.mp4\n",
      "Moviepy - Building video /home/danield/AnyoneAI/Curso/final_project/videos_data_aug/vidaug/data/trailer_aug/tt3544008_0061_aug_4.mp4.\n",
      "Moviepy - Writing video /home/danield/AnyoneAI/Curso/final_project/videos_data_aug/vidaug/data/trailer_aug/tt3544008_0061_aug_4.mp4\n",
      "\n"
     ]
    },
    {
     "name": "stderr",
     "output_type": "stream",
     "text": [
      "                                                            \r"
     ]
    },
    {
     "name": "stdout",
     "output_type": "stream",
     "text": [
      "Moviepy - Done !\n",
      "Moviepy - video ready /home/danield/AnyoneAI/Curso/final_project/videos_data_aug/vidaug/data/trailer_aug/tt3544008_0061_aug_4.mp4\n",
      "Moviepy - Building video /home/danield/AnyoneAI/Curso/final_project/videos_data_aug/vidaug/data/trailer_aug/tt3544008_0061_aug_5.mp4.\n",
      "Moviepy - Writing video /home/danield/AnyoneAI/Curso/final_project/videos_data_aug/vidaug/data/trailer_aug/tt3544008_0061_aug_5.mp4\n",
      "\n"
     ]
    },
    {
     "name": "stderr",
     "output_type": "stream",
     "text": [
      "                                                             \r"
     ]
    },
    {
     "name": "stdout",
     "output_type": "stream",
     "text": [
      "Moviepy - Done !\n",
      "Moviepy - video ready /home/danield/AnyoneAI/Curso/final_project/videos_data_aug/vidaug/data/trailer_aug/tt3544008_0061_aug_5.mp4\n",
      "Moviepy - Building video /home/danield/AnyoneAI/Curso/final_project/videos_data_aug/vidaug/data/trailer_aug/tt3544008_0061_aug_6.mp4.\n",
      "Moviepy - Writing video /home/danield/AnyoneAI/Curso/final_project/videos_data_aug/vidaug/data/trailer_aug/tt3544008_0061_aug_6.mp4\n",
      "\n"
     ]
    },
    {
     "name": "stderr",
     "output_type": "stream",
     "text": [
      "                                                            \r"
     ]
    },
    {
     "name": "stdout",
     "output_type": "stream",
     "text": [
      "Moviepy - Done !\n",
      "Moviepy - video ready /home/danield/AnyoneAI/Curso/final_project/videos_data_aug/vidaug/data/trailer_aug/tt3544008_0061_aug_6.mp4\n",
      "Moviepy - Building video /home/danield/AnyoneAI/Curso/final_project/videos_data_aug/vidaug/data/trailer_aug/tt3544008_0061_aug_7.mp4.\n",
      "Moviepy - Writing video /home/danield/AnyoneAI/Curso/final_project/videos_data_aug/vidaug/data/trailer_aug/tt3544008_0061_aug_7.mp4\n",
      "\n"
     ]
    },
    {
     "name": "stderr",
     "output_type": "stream",
     "text": [
      "                                                   \r"
     ]
    },
    {
     "name": "stdout",
     "output_type": "stream",
     "text": [
      "Moviepy - Done !\n",
      "Moviepy - video ready /home/danield/AnyoneAI/Curso/final_project/videos_data_aug/vidaug/data/trailer_aug/tt3544008_0061_aug_7.mp4\n",
      "processing video 56/853\n",
      "Moviepy - Building video /home/danield/AnyoneAI/Curso/final_project/videos_data_aug/vidaug/data/trailer_aug/tt1629439_0044_aug_0.mp4.\n",
      "Moviepy - Writing video /home/danield/AnyoneAI/Curso/final_project/videos_data_aug/vidaug/data/trailer_aug/tt1629439_0044_aug_0.mp4\n",
      "\n"
     ]
    },
    {
     "name": "stderr",
     "output_type": "stream",
     "text": [
      "                                                            \r"
     ]
    },
    {
     "name": "stdout",
     "output_type": "stream",
     "text": [
      "Moviepy - Done !\n",
      "Moviepy - video ready /home/danield/AnyoneAI/Curso/final_project/videos_data_aug/vidaug/data/trailer_aug/tt1629439_0044_aug_0.mp4\n",
      "Moviepy - Building video /home/danield/AnyoneAI/Curso/final_project/videos_data_aug/vidaug/data/trailer_aug/tt1629439_0044_aug_1.mp4.\n",
      "Moviepy - Writing video /home/danield/AnyoneAI/Curso/final_project/videos_data_aug/vidaug/data/trailer_aug/tt1629439_0044_aug_1.mp4\n",
      "\n"
     ]
    },
    {
     "name": "stderr",
     "output_type": "stream",
     "text": [
      "                                                            \r"
     ]
    },
    {
     "name": "stdout",
     "output_type": "stream",
     "text": [
      "Moviepy - Done !\n",
      "Moviepy - video ready /home/danield/AnyoneAI/Curso/final_project/videos_data_aug/vidaug/data/trailer_aug/tt1629439_0044_aug_1.mp4\n",
      "Moviepy - Building video /home/danield/AnyoneAI/Curso/final_project/videos_data_aug/vidaug/data/trailer_aug/tt1629439_0044_aug_2.mp4.\n",
      "Moviepy - Writing video /home/danield/AnyoneAI/Curso/final_project/videos_data_aug/vidaug/data/trailer_aug/tt1629439_0044_aug_2.mp4\n",
      "\n"
     ]
    },
    {
     "name": "stderr",
     "output_type": "stream",
     "text": [
      "                                                            \r"
     ]
    },
    {
     "name": "stdout",
     "output_type": "stream",
     "text": [
      "Moviepy - Done !\n",
      "Moviepy - video ready /home/danield/AnyoneAI/Curso/final_project/videos_data_aug/vidaug/data/trailer_aug/tt1629439_0044_aug_2.mp4\n",
      "Moviepy - Building video /home/danield/AnyoneAI/Curso/final_project/videos_data_aug/vidaug/data/trailer_aug/tt1629439_0044_aug_3.mp4.\n",
      "Moviepy - Writing video /home/danield/AnyoneAI/Curso/final_project/videos_data_aug/vidaug/data/trailer_aug/tt1629439_0044_aug_3.mp4\n",
      "\n"
     ]
    },
    {
     "name": "stderr",
     "output_type": "stream",
     "text": [
      "                                                            \r"
     ]
    },
    {
     "name": "stdout",
     "output_type": "stream",
     "text": [
      "Moviepy - Done !\n",
      "Moviepy - video ready /home/danield/AnyoneAI/Curso/final_project/videos_data_aug/vidaug/data/trailer_aug/tt1629439_0044_aug_3.mp4\n",
      "Moviepy - Building video /home/danield/AnyoneAI/Curso/final_project/videos_data_aug/vidaug/data/trailer_aug/tt1629439_0044_aug_4.mp4.\n",
      "Moviepy - Writing video /home/danield/AnyoneAI/Curso/final_project/videos_data_aug/vidaug/data/trailer_aug/tt1629439_0044_aug_4.mp4\n",
      "\n"
     ]
    },
    {
     "name": "stderr",
     "output_type": "stream",
     "text": [
      "                                                            \r"
     ]
    },
    {
     "name": "stdout",
     "output_type": "stream",
     "text": [
      "Moviepy - Done !\n",
      "Moviepy - video ready /home/danield/AnyoneAI/Curso/final_project/videos_data_aug/vidaug/data/trailer_aug/tt1629439_0044_aug_4.mp4\n",
      "Moviepy - Building video /home/danield/AnyoneAI/Curso/final_project/videos_data_aug/vidaug/data/trailer_aug/tt1629439_0044_aug_5.mp4.\n",
      "Moviepy - Writing video /home/danield/AnyoneAI/Curso/final_project/videos_data_aug/vidaug/data/trailer_aug/tt1629439_0044_aug_5.mp4\n",
      "\n"
     ]
    },
    {
     "name": "stderr",
     "output_type": "stream",
     "text": [
      "                                                            \r"
     ]
    },
    {
     "name": "stdout",
     "output_type": "stream",
     "text": [
      "Moviepy - Done !\n",
      "Moviepy - video ready /home/danield/AnyoneAI/Curso/final_project/videos_data_aug/vidaug/data/trailer_aug/tt1629439_0044_aug_5.mp4\n",
      "Moviepy - Building video /home/danield/AnyoneAI/Curso/final_project/videos_data_aug/vidaug/data/trailer_aug/tt1629439_0044_aug_6.mp4.\n",
      "Moviepy - Writing video /home/danield/AnyoneAI/Curso/final_project/videos_data_aug/vidaug/data/trailer_aug/tt1629439_0044_aug_6.mp4\n",
      "\n"
     ]
    },
    {
     "name": "stderr",
     "output_type": "stream",
     "text": [
      "                                                            \r"
     ]
    },
    {
     "name": "stdout",
     "output_type": "stream",
     "text": [
      "Moviepy - Done !\n",
      "Moviepy - video ready /home/danield/AnyoneAI/Curso/final_project/videos_data_aug/vidaug/data/trailer_aug/tt1629439_0044_aug_6.mp4\n",
      "Moviepy - Building video /home/danield/AnyoneAI/Curso/final_project/videos_data_aug/vidaug/data/trailer_aug/tt1629439_0044_aug_7.mp4.\n",
      "Moviepy - Writing video /home/danield/AnyoneAI/Curso/final_project/videos_data_aug/vidaug/data/trailer_aug/tt1629439_0044_aug_7.mp4\n",
      "\n"
     ]
    },
    {
     "name": "stderr",
     "output_type": "stream",
     "text": [
      "                                                           \r"
     ]
    },
    {
     "name": "stdout",
     "output_type": "stream",
     "text": [
      "Moviepy - Done !\n",
      "Moviepy - video ready /home/danield/AnyoneAI/Curso/final_project/videos_data_aug/vidaug/data/trailer_aug/tt1629439_0044_aug_7.mp4\n",
      "processing video 57/853\n",
      "Moviepy - Building video /home/danield/AnyoneAI/Curso/final_project/videos_data_aug/vidaug/data/trailer_aug/tt0071615_0028_aug_0.mp4.\n",
      "Moviepy - Writing video /home/danield/AnyoneAI/Curso/final_project/videos_data_aug/vidaug/data/trailer_aug/tt0071615_0028_aug_0.mp4\n",
      "\n"
     ]
    },
    {
     "name": "stderr",
     "output_type": "stream",
     "text": [
      "                                                            \r"
     ]
    },
    {
     "name": "stdout",
     "output_type": "stream",
     "text": [
      "Moviepy - Done !\n",
      "Moviepy - video ready /home/danield/AnyoneAI/Curso/final_project/videos_data_aug/vidaug/data/trailer_aug/tt0071615_0028_aug_0.mp4\n",
      "Moviepy - Building video /home/danield/AnyoneAI/Curso/final_project/videos_data_aug/vidaug/data/trailer_aug/tt0071615_0028_aug_1.mp4.\n",
      "Moviepy - Writing video /home/danield/AnyoneAI/Curso/final_project/videos_data_aug/vidaug/data/trailer_aug/tt0071615_0028_aug_1.mp4\n",
      "\n"
     ]
    },
    {
     "name": "stderr",
     "output_type": "stream",
     "text": [
      "                                                            \r"
     ]
    },
    {
     "name": "stdout",
     "output_type": "stream",
     "text": [
      "Moviepy - Done !\n",
      "Moviepy - video ready /home/danield/AnyoneAI/Curso/final_project/videos_data_aug/vidaug/data/trailer_aug/tt0071615_0028_aug_1.mp4\n",
      "Moviepy - Building video /home/danield/AnyoneAI/Curso/final_project/videos_data_aug/vidaug/data/trailer_aug/tt0071615_0028_aug_2.mp4.\n",
      "Moviepy - Writing video /home/danield/AnyoneAI/Curso/final_project/videos_data_aug/vidaug/data/trailer_aug/tt0071615_0028_aug_2.mp4\n",
      "\n"
     ]
    },
    {
     "name": "stderr",
     "output_type": "stream",
     "text": [
      "                                                            \r"
     ]
    },
    {
     "name": "stdout",
     "output_type": "stream",
     "text": [
      "Moviepy - Done !\n",
      "Moviepy - video ready /home/danield/AnyoneAI/Curso/final_project/videos_data_aug/vidaug/data/trailer_aug/tt0071615_0028_aug_2.mp4\n",
      "Moviepy - Building video /home/danield/AnyoneAI/Curso/final_project/videos_data_aug/vidaug/data/trailer_aug/tt0071615_0028_aug_3.mp4.\n",
      "Moviepy - Writing video /home/danield/AnyoneAI/Curso/final_project/videos_data_aug/vidaug/data/trailer_aug/tt0071615_0028_aug_3.mp4\n",
      "\n"
     ]
    },
    {
     "name": "stderr",
     "output_type": "stream",
     "text": [
      "                                                             \r"
     ]
    },
    {
     "name": "stdout",
     "output_type": "stream",
     "text": [
      "Moviepy - Done !\n",
      "Moviepy - video ready /home/danield/AnyoneAI/Curso/final_project/videos_data_aug/vidaug/data/trailer_aug/tt0071615_0028_aug_3.mp4\n",
      "Moviepy - Building video /home/danield/AnyoneAI/Curso/final_project/videos_data_aug/vidaug/data/trailer_aug/tt0071615_0028_aug_4.mp4.\n",
      "Moviepy - Writing video /home/danield/AnyoneAI/Curso/final_project/videos_data_aug/vidaug/data/trailer_aug/tt0071615_0028_aug_4.mp4\n",
      "\n"
     ]
    },
    {
     "name": "stderr",
     "output_type": "stream",
     "text": [
      "                                                            \r"
     ]
    },
    {
     "name": "stdout",
     "output_type": "stream",
     "text": [
      "Moviepy - Done !\n",
      "Moviepy - video ready /home/danield/AnyoneAI/Curso/final_project/videos_data_aug/vidaug/data/trailer_aug/tt0071615_0028_aug_4.mp4\n",
      "Moviepy - Building video /home/danield/AnyoneAI/Curso/final_project/videos_data_aug/vidaug/data/trailer_aug/tt0071615_0028_aug_5.mp4.\n",
      "Moviepy - Writing video /home/danield/AnyoneAI/Curso/final_project/videos_data_aug/vidaug/data/trailer_aug/tt0071615_0028_aug_5.mp4\n",
      "\n"
     ]
    },
    {
     "name": "stderr",
     "output_type": "stream",
     "text": [
      "                                                            \r"
     ]
    },
    {
     "name": "stdout",
     "output_type": "stream",
     "text": [
      "Moviepy - Done !\n",
      "Moviepy - video ready /home/danield/AnyoneAI/Curso/final_project/videos_data_aug/vidaug/data/trailer_aug/tt0071615_0028_aug_5.mp4\n"
     ]
    },
    {
     "ename": "KeyboardInterrupt",
     "evalue": "",
     "output_type": "error",
     "traceback": [
      "\u001b[0;31m---------------------------------------------------------------------------\u001b[0m",
      "\u001b[0;31mKeyboardInterrupt\u001b[0m                         Traceback (most recent call last)",
      "\u001b[0;32m/tmp/ipykernel_800105/2532494731.py\u001b[0m in \u001b[0;36m<cell line: 18>\u001b[0;34m()\u001b[0m\n\u001b[1;32m     28\u001b[0m         \u001b[0mvideo_aug\u001b[0m \u001b[0;34m=\u001b[0m \u001b[0miter_seq\u001b[0m\u001b[0;34m(\u001b[0m\u001b[0mframes\u001b[0m\u001b[0;34m)\u001b[0m\u001b[0;34m\u001b[0m\u001b[0;34m\u001b[0m\u001b[0m\n\u001b[1;32m     29\u001b[0m         \u001b[0;31m# save augmentad frames as gif\u001b[0m\u001b[0;34m\u001b[0m\u001b[0;34m\u001b[0m\u001b[0m\n\u001b[0;32m---> 30\u001b[0;31m         \u001b[0mvideo_aug\u001b[0m\u001b[0;34m[\u001b[0m\u001b[0;36m0\u001b[0m\u001b[0;34m]\u001b[0m\u001b[0;34m.\u001b[0m\u001b[0msave\u001b[0m\u001b[0;34m(\u001b[0m\u001b[0mpath_temp_folder\u001b[0m \u001b[0;34m+\u001b[0m \u001b[0;34mf'aug_{idx_seq}'\u001b[0m \u001b[0;34m+\u001b[0m \u001b[0;34m\".gif\"\u001b[0m\u001b[0;34m,\u001b[0m \u001b[0msave_all\u001b[0m\u001b[0;34m=\u001b[0m\u001b[0;32mTrue\u001b[0m\u001b[0;34m,\u001b[0m \u001b[0mappend_images\u001b[0m\u001b[0;34m=\u001b[0m\u001b[0mvideo_aug\u001b[0m\u001b[0;34m[\u001b[0m\u001b[0;36m1\u001b[0m\u001b[0;34m:\u001b[0m\u001b[0mint\u001b[0m\u001b[0;34m(\u001b[0m\u001b[0mmax_frames\u001b[0m\u001b[0;34m)\u001b[0m\u001b[0;34m]\u001b[0m\u001b[0;34m,\u001b[0m \u001b[0mloop\u001b[0m\u001b[0;34m=\u001b[0m\u001b[0;36m0\u001b[0m\u001b[0;34m)\u001b[0m\u001b[0;34m\u001b[0m\u001b[0;34m\u001b[0m\u001b[0m\n\u001b[0m\u001b[1;32m     31\u001b[0m         \u001b[0;31m# Converting .gif augmented videos as final .mp4\u001b[0m\u001b[0;34m\u001b[0m\u001b[0;34m\u001b[0m\u001b[0m\n\u001b[1;32m     32\u001b[0m         \u001b[0mclip\u001b[0m \u001b[0;34m=\u001b[0m \u001b[0mmp\u001b[0m\u001b[0;34m.\u001b[0m\u001b[0mVideoFileClip\u001b[0m\u001b[0;34m(\u001b[0m\u001b[0mpath_temp_folder\u001b[0m \u001b[0;34m+\u001b[0m \u001b[0;34mf'aug_{idx_seq}'\u001b[0m \u001b[0;34m+\u001b[0m \u001b[0;34m\".gif\"\u001b[0m\u001b[0;34m)\u001b[0m\u001b[0;34m\u001b[0m\u001b[0;34m\u001b[0m\u001b[0m\n",
      "\u001b[0;32m~/.local/lib/python3.10/site-packages/PIL/Image.py\u001b[0m in \u001b[0;36msave\u001b[0;34m(self, fp, format, **params)\u001b[0m\n\u001b[1;32m   2351\u001b[0m \u001b[0;34m\u001b[0m\u001b[0m\n\u001b[1;32m   2352\u001b[0m         \u001b[0;32mtry\u001b[0m\u001b[0;34m:\u001b[0m\u001b[0;34m\u001b[0m\u001b[0;34m\u001b[0m\u001b[0m\n\u001b[0;32m-> 2353\u001b[0;31m             \u001b[0msave_handler\u001b[0m\u001b[0;34m(\u001b[0m\u001b[0mself\u001b[0m\u001b[0;34m,\u001b[0m \u001b[0mfp\u001b[0m\u001b[0;34m,\u001b[0m \u001b[0mfilename\u001b[0m\u001b[0;34m)\u001b[0m\u001b[0;34m\u001b[0m\u001b[0;34m\u001b[0m\u001b[0m\n\u001b[0m\u001b[1;32m   2354\u001b[0m         \u001b[0;32mexcept\u001b[0m \u001b[0mException\u001b[0m\u001b[0;34m:\u001b[0m\u001b[0;34m\u001b[0m\u001b[0;34m\u001b[0m\u001b[0m\n\u001b[1;32m   2355\u001b[0m             \u001b[0;32mif\u001b[0m \u001b[0mopen_fp\u001b[0m\u001b[0;34m:\u001b[0m\u001b[0;34m\u001b[0m\u001b[0;34m\u001b[0m\u001b[0m\n",
      "\u001b[0;32m~/.local/lib/python3.10/site-packages/PIL/GifImagePlugin.py\u001b[0m in \u001b[0;36m_save_all\u001b[0;34m(im, fp, filename)\u001b[0m\n\u001b[1;32m    651\u001b[0m \u001b[0;34m\u001b[0m\u001b[0m\n\u001b[1;32m    652\u001b[0m \u001b[0;32mdef\u001b[0m \u001b[0m_save_all\u001b[0m\u001b[0;34m(\u001b[0m\u001b[0mim\u001b[0m\u001b[0;34m,\u001b[0m \u001b[0mfp\u001b[0m\u001b[0;34m,\u001b[0m \u001b[0mfilename\u001b[0m\u001b[0;34m)\u001b[0m\u001b[0;34m:\u001b[0m\u001b[0;34m\u001b[0m\u001b[0;34m\u001b[0m\u001b[0m\n\u001b[0;32m--> 653\u001b[0;31m     \u001b[0m_save\u001b[0m\u001b[0;34m(\u001b[0m\u001b[0mim\u001b[0m\u001b[0;34m,\u001b[0m \u001b[0mfp\u001b[0m\u001b[0;34m,\u001b[0m \u001b[0mfilename\u001b[0m\u001b[0;34m,\u001b[0m \u001b[0msave_all\u001b[0m\u001b[0;34m=\u001b[0m\u001b[0;32mTrue\u001b[0m\u001b[0;34m)\u001b[0m\u001b[0;34m\u001b[0m\u001b[0;34m\u001b[0m\u001b[0m\n\u001b[0m\u001b[1;32m    654\u001b[0m \u001b[0;34m\u001b[0m\u001b[0m\n\u001b[1;32m    655\u001b[0m \u001b[0;34m\u001b[0m\u001b[0m\n",
      "\u001b[0;32m~/.local/lib/python3.10/site-packages/PIL/GifImagePlugin.py\u001b[0m in \u001b[0;36m_save\u001b[0;34m(im, fp, filename, save_all)\u001b[0m\n\u001b[1;32m    662\u001b[0m         \u001b[0mim\u001b[0m\u001b[0;34m.\u001b[0m\u001b[0mencoderinfo\u001b[0m\u001b[0;34m[\u001b[0m\u001b[0;34m\"optimize\"\u001b[0m\u001b[0;34m]\u001b[0m \u001b[0;34m=\u001b[0m \u001b[0mim\u001b[0m\u001b[0;34m.\u001b[0m\u001b[0mencoderinfo\u001b[0m\u001b[0;34m.\u001b[0m\u001b[0mget\u001b[0m\u001b[0;34m(\u001b[0m\u001b[0;34m\"optimize\"\u001b[0m\u001b[0;34m,\u001b[0m \u001b[0;32mTrue\u001b[0m\u001b[0;34m)\u001b[0m\u001b[0;34m\u001b[0m\u001b[0;34m\u001b[0m\u001b[0m\n\u001b[1;32m    663\u001b[0m \u001b[0;34m\u001b[0m\u001b[0m\n\u001b[0;32m--> 664\u001b[0;31m     \u001b[0;32mif\u001b[0m \u001b[0;32mnot\u001b[0m \u001b[0msave_all\u001b[0m \u001b[0;32mor\u001b[0m \u001b[0;32mnot\u001b[0m \u001b[0m_write_multiple_frames\u001b[0m\u001b[0;34m(\u001b[0m\u001b[0mim\u001b[0m\u001b[0;34m,\u001b[0m \u001b[0mfp\u001b[0m\u001b[0;34m,\u001b[0m \u001b[0mpalette\u001b[0m\u001b[0;34m)\u001b[0m\u001b[0;34m:\u001b[0m\u001b[0;34m\u001b[0m\u001b[0;34m\u001b[0m\u001b[0m\n\u001b[0m\u001b[1;32m    665\u001b[0m         \u001b[0m_write_single_frame\u001b[0m\u001b[0;34m(\u001b[0m\u001b[0mim\u001b[0m\u001b[0;34m,\u001b[0m \u001b[0mfp\u001b[0m\u001b[0;34m,\u001b[0m \u001b[0mpalette\u001b[0m\u001b[0;34m)\u001b[0m\u001b[0;34m\u001b[0m\u001b[0;34m\u001b[0m\u001b[0m\n\u001b[1;32m    666\u001b[0m \u001b[0;34m\u001b[0m\u001b[0m\n",
      "\u001b[0;32m~/.local/lib/python3.10/site-packages/PIL/GifImagePlugin.py\u001b[0m in \u001b[0;36m_write_multiple_frames\u001b[0;34m(im, fp, palette)\u001b[0m\n\u001b[1;32m    577\u001b[0m         \u001b[0;32mfor\u001b[0m \u001b[0mim_frame\u001b[0m \u001b[0;32min\u001b[0m \u001b[0mImageSequence\u001b[0m\u001b[0;34m.\u001b[0m\u001b[0mIterator\u001b[0m\u001b[0;34m(\u001b[0m\u001b[0mimSequence\u001b[0m\u001b[0;34m)\u001b[0m\u001b[0;34m:\u001b[0m\u001b[0;34m\u001b[0m\u001b[0;34m\u001b[0m\u001b[0m\n\u001b[1;32m    578\u001b[0m             \u001b[0;31m# a copy is required here since seek can still mutate the image\u001b[0m\u001b[0;34m\u001b[0m\u001b[0;34m\u001b[0m\u001b[0m\n\u001b[0;32m--> 579\u001b[0;31m             \u001b[0mim_frame\u001b[0m \u001b[0;34m=\u001b[0m \u001b[0m_normalize_mode\u001b[0m\u001b[0;34m(\u001b[0m\u001b[0mim_frame\u001b[0m\u001b[0;34m.\u001b[0m\u001b[0mcopy\u001b[0m\u001b[0;34m(\u001b[0m\u001b[0;34m)\u001b[0m\u001b[0;34m)\u001b[0m\u001b[0;34m\u001b[0m\u001b[0;34m\u001b[0m\u001b[0m\n\u001b[0m\u001b[1;32m    580\u001b[0m             \u001b[0;32mif\u001b[0m \u001b[0mframe_count\u001b[0m \u001b[0;34m==\u001b[0m \u001b[0;36m0\u001b[0m\u001b[0;34m:\u001b[0m\u001b[0;34m\u001b[0m\u001b[0;34m\u001b[0m\u001b[0m\n\u001b[1;32m    581\u001b[0m                 \u001b[0;32mfor\u001b[0m \u001b[0mk\u001b[0m\u001b[0;34m,\u001b[0m \u001b[0mv\u001b[0m \u001b[0;32min\u001b[0m \u001b[0mim_frame\u001b[0m\u001b[0;34m.\u001b[0m\u001b[0minfo\u001b[0m\u001b[0;34m.\u001b[0m\u001b[0mitems\u001b[0m\u001b[0;34m(\u001b[0m\u001b[0;34m)\u001b[0m\u001b[0;34m:\u001b[0m\u001b[0;34m\u001b[0m\u001b[0;34m\u001b[0m\u001b[0m\n",
      "\u001b[0;32m~/.local/lib/python3.10/site-packages/PIL/GifImagePlugin.py\u001b[0m in \u001b[0;36m_normalize_mode\u001b[0;34m(im)\u001b[0m\n\u001b[1;32m    483\u001b[0m         \u001b[0;32mreturn\u001b[0m \u001b[0mim\u001b[0m\u001b[0;34m\u001b[0m\u001b[0;34m\u001b[0m\u001b[0m\n\u001b[1;32m    484\u001b[0m     \u001b[0;32mif\u001b[0m \u001b[0mImage\u001b[0m\u001b[0;34m.\u001b[0m\u001b[0mgetmodebase\u001b[0m\u001b[0;34m(\u001b[0m\u001b[0mim\u001b[0m\u001b[0;34m.\u001b[0m\u001b[0mmode\u001b[0m\u001b[0;34m)\u001b[0m \u001b[0;34m==\u001b[0m \u001b[0;34m\"RGB\"\u001b[0m\u001b[0;34m:\u001b[0m\u001b[0;34m\u001b[0m\u001b[0;34m\u001b[0m\u001b[0m\n\u001b[0;32m--> 485\u001b[0;31m         \u001b[0mim\u001b[0m \u001b[0;34m=\u001b[0m \u001b[0mim\u001b[0m\u001b[0;34m.\u001b[0m\u001b[0mconvert\u001b[0m\u001b[0;34m(\u001b[0m\u001b[0;34m\"P\"\u001b[0m\u001b[0;34m,\u001b[0m \u001b[0mpalette\u001b[0m\u001b[0;34m=\u001b[0m\u001b[0mImage\u001b[0m\u001b[0;34m.\u001b[0m\u001b[0mPalette\u001b[0m\u001b[0;34m.\u001b[0m\u001b[0mADAPTIVE\u001b[0m\u001b[0;34m)\u001b[0m\u001b[0;34m\u001b[0m\u001b[0;34m\u001b[0m\u001b[0m\n\u001b[0m\u001b[1;32m    486\u001b[0m         \u001b[0;32mif\u001b[0m \u001b[0mim\u001b[0m\u001b[0;34m.\u001b[0m\u001b[0mpalette\u001b[0m\u001b[0;34m.\u001b[0m\u001b[0mmode\u001b[0m \u001b[0;34m==\u001b[0m \u001b[0;34m\"RGBA\"\u001b[0m\u001b[0;34m:\u001b[0m\u001b[0;34m\u001b[0m\u001b[0;34m\u001b[0m\u001b[0m\n\u001b[1;32m    487\u001b[0m             \u001b[0;32mfor\u001b[0m \u001b[0mrgba\u001b[0m \u001b[0;32min\u001b[0m \u001b[0mim\u001b[0m\u001b[0;34m.\u001b[0m\u001b[0mpalette\u001b[0m\u001b[0;34m.\u001b[0m\u001b[0mcolors\u001b[0m\u001b[0;34m.\u001b[0m\u001b[0mkeys\u001b[0m\u001b[0;34m(\u001b[0m\u001b[0;34m)\u001b[0m\u001b[0;34m:\u001b[0m\u001b[0;34m\u001b[0m\u001b[0;34m\u001b[0m\u001b[0m\n",
      "\u001b[0;32m~/.local/lib/python3.10/site-packages/PIL/Image.py\u001b[0m in \u001b[0;36mconvert\u001b[0;34m(self, mode, matrix, dither, palette, colors)\u001b[0m\n\u001b[1;32m   1024\u001b[0m \u001b[0;34m\u001b[0m\u001b[0m\n\u001b[1;32m   1025\u001b[0m         \u001b[0;32mif\u001b[0m \u001b[0mmode\u001b[0m \u001b[0;34m==\u001b[0m \u001b[0;34m\"P\"\u001b[0m \u001b[0;32mand\u001b[0m \u001b[0mpalette\u001b[0m \u001b[0;34m==\u001b[0m \u001b[0mPalette\u001b[0m\u001b[0;34m.\u001b[0m\u001b[0mADAPTIVE\u001b[0m\u001b[0;34m:\u001b[0m\u001b[0;34m\u001b[0m\u001b[0;34m\u001b[0m\u001b[0m\n\u001b[0;32m-> 1026\u001b[0;31m             \u001b[0mim\u001b[0m \u001b[0;34m=\u001b[0m \u001b[0mself\u001b[0m\u001b[0;34m.\u001b[0m\u001b[0mim\u001b[0m\u001b[0;34m.\u001b[0m\u001b[0mquantize\u001b[0m\u001b[0;34m(\u001b[0m\u001b[0mcolors\u001b[0m\u001b[0;34m)\u001b[0m\u001b[0;34m\u001b[0m\u001b[0;34m\u001b[0m\u001b[0m\n\u001b[0m\u001b[1;32m   1027\u001b[0m             \u001b[0mnew\u001b[0m \u001b[0;34m=\u001b[0m \u001b[0mself\u001b[0m\u001b[0;34m.\u001b[0m\u001b[0m_new\u001b[0m\u001b[0;34m(\u001b[0m\u001b[0mim\u001b[0m\u001b[0;34m)\u001b[0m\u001b[0;34m\u001b[0m\u001b[0;34m\u001b[0m\u001b[0m\n\u001b[1;32m   1028\u001b[0m             \u001b[0;32mfrom\u001b[0m \u001b[0;34m.\u001b[0m \u001b[0;32mimport\u001b[0m \u001b[0mImagePalette\u001b[0m\u001b[0;34m\u001b[0m\u001b[0;34m\u001b[0m\u001b[0m\n",
      "\u001b[0;31mKeyboardInterrupt\u001b[0m: "
     ]
    }
   ],
   "source": [
    "# VIDEO AUGMENTATION\n",
    "\n",
    "# max lenght of each video\n",
    "max_frames = 20\n",
    "\n",
    "path_temp_folder = '/home/danield/AnyoneAI/Curso/final_project/videos_data_aug/vidaug/data/shot-type-dataset/temp/'\n",
    "# path of .mp4 to augment\n",
    "#video_path_mp4 = '/home/app/src/vidaug/videos/shot_0018.mp4'\n",
    "\n",
    "#path to intermediate .gif\n",
    "video_path_save_gif = '/home/danield/AnyoneAI/Curso/final_project/videos_data_aug/vidaug/data/shot-type-dataset/temp/transitional.gif'\n",
    "#path to final .mp4 videos\n",
    "path_to_save_aug_videos = '/home/danield/AnyoneAI/Curso/final_project/videos_data_aug/vidaug/data/trailer_aug/'\n",
    "\n",
    "video_aug_name = []\n",
    "tag = []\n",
    "# Getting each video of theirs df video_name and processing\n",
    "for idx_videos, video_to_aug in df_videos_to_aug.iterrows():\n",
    "    \n",
    "    # Converting .mp4 to gif\n",
    "    to_gif(video_to_aug['video_name'], video_path_save_gif, max_frames = max_frames)\n",
    "    # loading .gif\n",
    "    frames = gif_loader(video_path_save_gif)\n",
    "    print(f'processing video {idx_videos}/{len(df_videos_to_aug.video_name)}')\n",
    " \n",
    "    # applying every transformation over the videos\n",
    "    for idx_seq, iter_seq in enumerate(list_seq): \n",
    "        video_aug = iter_seq(frames)\n",
    "        # save augmentad frames as gif \n",
    "        video_aug[0].save(path_temp_folder + f'aug_{idx_seq}' + \".gif\", save_all=True, append_images=video_aug[1:int(max_frames)], loop=0)\n",
    "        # Converting .gif augmented videos as final .mp4\n",
    "        clip = mp.VideoFileClip(path_temp_folder + f'aug_{idx_seq}' + \".gif\")\n",
    "        clip.write_videofile(path_to_save_aug_videos + df_videos_to_aug.movie[idx_videos]+ '_' + \\\n",
    "                             df_videos_to_aug.shot[idx_videos]+ f'_aug_{idx_seq}' + \".mp4\")\n",
    "\n",
    "        # Building the list to the new movies df\n",
    "        video_aug_name.append(df_videos_to_aug.movie[idx_videos]+ '_' +df_videos_to_aug.shot[idx_videos]+ f'_aug_{idx_seq}' + \".mp4\")\n",
    "        tag.append(df_videos_to_aug.tag[idx_videos])\n",
    "        \n",
    "# Building new movies df\n",
    "data = list(zip(video_aug_name, tag))  \n",
    "columns = ['video_aug_name', 'tag']  \n",
    "        \n",
    "df_trailer_aug = pd.DataFrame(data, columns=columns)      \n",
    "\n",
    "    "
   ]
  },
  {
   "cell_type": "code",
   "execution_count": null,
   "metadata": {},
   "outputs": [],
   "source": [
    "\n",
    "df_trailer_aug.to_csv('/home/danield/AnyoneAI/Curso/final_project/videos_data_aug/vidaug/CSV/df_trailer_aug.csv', index = False)\n"
   ]
  },
  {
   "cell_type": "code",
   "execution_count": null,
   "metadata": {},
   "outputs": [
    {
     "data": {
      "text/html": [
       "<div>\n",
       "<style scoped>\n",
       "    .dataframe tbody tr th:only-of-type {\n",
       "        vertical-align: middle;\n",
       "    }\n",
       "\n",
       "    .dataframe tbody tr th {\n",
       "        vertical-align: top;\n",
       "    }\n",
       "\n",
       "    .dataframe thead th {\n",
       "        text-align: right;\n",
       "    }\n",
       "</style>\n",
       "<table border=\"1\" class=\"dataframe\">\n",
       "  <thead>\n",
       "    <tr style=\"text-align: right;\">\n",
       "      <th></th>\n",
       "      <th>video_aug_name</th>\n",
       "      <th>tag</th>\n",
       "    </tr>\n",
       "  </thead>\n",
       "  <tbody>\n",
       "    <tr>\n",
       "      <th>0</th>\n",
       "      <td>tt1376168_0034_aug_0.mp4</td>\n",
       "      <td>Pull</td>\n",
       "    </tr>\n",
       "    <tr>\n",
       "      <th>1</th>\n",
       "      <td>tt1376168_0034_aug_1.mp4</td>\n",
       "      <td>Pull</td>\n",
       "    </tr>\n",
       "    <tr>\n",
       "      <th>2</th>\n",
       "      <td>tt1376168_0034_aug_2.mp4</td>\n",
       "      <td>Pull</td>\n",
       "    </tr>\n",
       "    <tr>\n",
       "      <th>3</th>\n",
       "      <td>tt1376168_0034_aug_3.mp4</td>\n",
       "      <td>Pull</td>\n",
       "    </tr>\n",
       "    <tr>\n",
       "      <th>4</th>\n",
       "      <td>tt1376168_0034_aug_4.mp4</td>\n",
       "      <td>Pull</td>\n",
       "    </tr>\n",
       "    <tr>\n",
       "      <th>...</th>\n",
       "      <td>...</td>\n",
       "      <td>...</td>\n",
       "    </tr>\n",
       "    <tr>\n",
       "      <th>8525</th>\n",
       "      <td>tt6210456_0021_aug_5.mp4</td>\n",
       "      <td>Pull</td>\n",
       "    </tr>\n",
       "    <tr>\n",
       "      <th>8526</th>\n",
       "      <td>tt6210456_0021_aug_6.mp4</td>\n",
       "      <td>Pull</td>\n",
       "    </tr>\n",
       "    <tr>\n",
       "      <th>8527</th>\n",
       "      <td>tt6210456_0021_aug_7.mp4</td>\n",
       "      <td>Pull</td>\n",
       "    </tr>\n",
       "    <tr>\n",
       "      <th>8528</th>\n",
       "      <td>tt6210456_0021_aug_8.mp4</td>\n",
       "      <td>Pull</td>\n",
       "    </tr>\n",
       "    <tr>\n",
       "      <th>8529</th>\n",
       "      <td>tt6210456_0021_aug_9.mp4</td>\n",
       "      <td>Pull</td>\n",
       "    </tr>\n",
       "  </tbody>\n",
       "</table>\n",
       "<p>8530 rows × 2 columns</p>\n",
       "</div>"
      ],
      "text/plain": [
       "                video_aug_name   tag\n",
       "0     tt1376168_0034_aug_0.mp4  Pull\n",
       "1     tt1376168_0034_aug_1.mp4  Pull\n",
       "2     tt1376168_0034_aug_2.mp4  Pull\n",
       "3     tt1376168_0034_aug_3.mp4  Pull\n",
       "4     tt1376168_0034_aug_4.mp4  Pull\n",
       "...                        ...   ...\n",
       "8525  tt6210456_0021_aug_5.mp4  Pull\n",
       "8526  tt6210456_0021_aug_6.mp4  Pull\n",
       "8527  tt6210456_0021_aug_7.mp4  Pull\n",
       "8528  tt6210456_0021_aug_8.mp4  Pull\n",
       "8529  tt6210456_0021_aug_9.mp4  Pull\n",
       "\n",
       "[8530 rows x 2 columns]"
      ]
     },
     "execution_count": 142,
     "metadata": {},
     "output_type": "execute_result"
    }
   ],
   "source": [
    "df_trailer_aug"
   ]
  },
  {
   "cell_type": "code",
   "execution_count": null,
   "metadata": {},
   "outputs": [],
   "source": []
  }
 ],
 "metadata": {
  "kernelspec": {
   "display_name": "Python 3.8.10 64-bit",
   "language": "python",
   "name": "python3"
  },
  "language_info": {
   "codemirror_mode": {
    "name": "ipython",
    "version": 3
   },
   "file_extension": ".py",
   "mimetype": "text/x-python",
   "name": "python",
   "nbconvert_exporter": "python",
   "pygments_lexer": "ipython3",
   "version": "3.10.6 (main, Nov  2 2022, 18:53:38) [GCC 11.3.0]"
  },
  "stem_cell": {
   "cell_type": "raw",
   "metadata": {
    "pycharm": {
     "metadata": false
    }
   },
   "source": ""
  },
  "vscode": {
   "interpreter": {
    "hash": "31f2aee4e71d21fbe5cf8b01ff0e069b9275f58929596ceb00d14d90e3e16cd6"
   }
  }
 },
 "nbformat": 4,
 "nbformat_minor": 1
}
