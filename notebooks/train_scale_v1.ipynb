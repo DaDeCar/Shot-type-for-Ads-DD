{
 "cells": [
  {
   "cell_type": "code",
   "execution_count": 15,
   "metadata": {},
   "outputs": [],
   "source": [
    "#from tensorflow_docs.vis import embed\n",
    "from tensorflow import keras\n",
    "#from imutils import paths\n",
    "\n",
    "import matplotlib.pyplot as plt\n",
    "import tensorflow as tf\n",
    "import pandas as pd\n",
    "import numpy as np\n",
    "#import imageio\n",
    "import cv2\n",
    "import os\n",
    "import json"
   ]
  },
  {
   "cell_type": "markdown",
   "metadata": {},
   "source": [
    "Data preparation"
   ]
  },
  {
   "cell_type": "markdown",
   "metadata": {},
   "source": [
    "Preparing training data"
   ]
  },
  {
   "cell_type": "code",
   "execution_count": 21,
   "metadata": {},
   "outputs": [],
   "source": [
    "data_df = pd. read_csv('/home/app/src/data/CSV/dataset_df.csv', dtype={\"shot\": str})\n",
    "\n",
    "data_df.drop(columns=['scale_val'], inplace=True)\n",
    "data_df.drop(columns = ['move_val'], inplace=True)\n",
    "\n",
    "train_path = '/workspaces/final-project-shot-type/data/shot-type-dataset/trailer_v3/train/'\n",
    "data_df['video_name'] = train_path + 'shot_' + data_df['movie'] + '_' + data_df['shot'] + '.mp4'\n",
    "train_df = data_df[(data_df['dataset']=='train') | (data_df['dataset']=='val') ]\n",
    "train_df = train_df[['video_name', 'move_label','scale_label']]\n",
    "train_df = train_df.rename(columns ={'scale_label': 'tag'})\n",
    "\n",
    "\n",
    "test_path = '/workspaces/final-project-shot-type/data/shot-type-dataset/trailer_v3/test/'\n",
    "data_df['video_name'] = test_path + 'shot_' + data_df['movie'] + '_' + data_df['shot'] + '.mp4'\n",
    "test_df = data_df[data_df['dataset']=='test']\n",
    "test_df = test_df[['video_name', 'move_label','scale_label']]\n",
    "test_df = test_df.rename(columns ={'scale_label': 'tag'})"
   ]
  },
  {
   "cell_type": "code",
   "execution_count": 22,
   "metadata": {},
   "outputs": [
    {
     "data": {
      "text/html": [
       "<div>\n",
       "<style scoped>\n",
       "    .dataframe tbody tr th:only-of-type {\n",
       "        vertical-align: middle;\n",
       "    }\n",
       "\n",
       "    .dataframe tbody tr th {\n",
       "        vertical-align: top;\n",
       "    }\n",
       "\n",
       "    .dataframe thead th {\n",
       "        text-align: right;\n",
       "    }\n",
       "</style>\n",
       "<table border=\"1\" class=\"dataframe\">\n",
       "  <thead>\n",
       "    <tr style=\"text-align: right;\">\n",
       "      <th></th>\n",
       "      <th>video_name</th>\n",
       "      <th>move_label</th>\n",
       "      <th>tag</th>\n",
       "    </tr>\n",
       "  </thead>\n",
       "  <tbody>\n",
       "    <tr>\n",
       "      <th>0</th>\n",
       "      <td>/workspaces/final-project-shot-type/data/shot-...</td>\n",
       "      <td>Static</td>\n",
       "      <td>CS</td>\n",
       "    </tr>\n",
       "    <tr>\n",
       "      <th>1</th>\n",
       "      <td>/workspaces/final-project-shot-type/data/shot-...</td>\n",
       "      <td>Static</td>\n",
       "      <td>CS</td>\n",
       "    </tr>\n",
       "    <tr>\n",
       "      <th>2</th>\n",
       "      <td>/workspaces/final-project-shot-type/data/shot-...</td>\n",
       "      <td>Static</td>\n",
       "      <td>ECS</td>\n",
       "    </tr>\n",
       "    <tr>\n",
       "      <th>3</th>\n",
       "      <td>/workspaces/final-project-shot-type/data/shot-...</td>\n",
       "      <td>Static</td>\n",
       "      <td>MS</td>\n",
       "    </tr>\n",
       "    <tr>\n",
       "      <th>4</th>\n",
       "      <td>/workspaces/final-project-shot-type/data/shot-...</td>\n",
       "      <td>Static</td>\n",
       "      <td>CS</td>\n",
       "    </tr>\n",
       "    <tr>\n",
       "      <th>...</th>\n",
       "      <td>...</td>\n",
       "      <td>...</td>\n",
       "      <td>...</td>\n",
       "    </tr>\n",
       "    <tr>\n",
       "      <th>20851</th>\n",
       "      <td>/workspaces/final-project-shot-type/data/shot-...</td>\n",
       "      <td>Push</td>\n",
       "      <td>FS</td>\n",
       "    </tr>\n",
       "    <tr>\n",
       "      <th>20852</th>\n",
       "      <td>/workspaces/final-project-shot-type/data/shot-...</td>\n",
       "      <td>Motion</td>\n",
       "      <td>LS</td>\n",
       "    </tr>\n",
       "    <tr>\n",
       "      <th>20853</th>\n",
       "      <td>/workspaces/final-project-shot-type/data/shot-...</td>\n",
       "      <td>Push</td>\n",
       "      <td>LS</td>\n",
       "    </tr>\n",
       "    <tr>\n",
       "      <th>20854</th>\n",
       "      <td>/workspaces/final-project-shot-type/data/shot-...</td>\n",
       "      <td>Motion</td>\n",
       "      <td>FS</td>\n",
       "    </tr>\n",
       "    <tr>\n",
       "      <th>20855</th>\n",
       "      <td>/workspaces/final-project-shot-type/data/shot-...</td>\n",
       "      <td>Static</td>\n",
       "      <td>LS</td>\n",
       "    </tr>\n",
       "  </tbody>\n",
       "</table>\n",
       "<p>20856 rows × 3 columns</p>\n",
       "</div>"
      ],
      "text/plain": [
       "                                              video_name move_label  tag\n",
       "0      /workspaces/final-project-shot-type/data/shot-...     Static   CS\n",
       "1      /workspaces/final-project-shot-type/data/shot-...     Static   CS\n",
       "2      /workspaces/final-project-shot-type/data/shot-...     Static  ECS\n",
       "3      /workspaces/final-project-shot-type/data/shot-...     Static   MS\n",
       "4      /workspaces/final-project-shot-type/data/shot-...     Static   CS\n",
       "...                                                  ...        ...  ...\n",
       "20851  /workspaces/final-project-shot-type/data/shot-...       Push   FS\n",
       "20852  /workspaces/final-project-shot-type/data/shot-...     Motion   LS\n",
       "20853  /workspaces/final-project-shot-type/data/shot-...       Push   LS\n",
       "20854  /workspaces/final-project-shot-type/data/shot-...     Motion   FS\n",
       "20855  /workspaces/final-project-shot-type/data/shot-...     Static   LS\n",
       "\n",
       "[20856 rows x 3 columns]"
      ]
     },
     "execution_count": 22,
     "metadata": {},
     "output_type": "execute_result"
    }
   ],
   "source": [
    "train_df "
   ]
  },
  {
   "cell_type": "code",
   "execution_count": 145,
   "metadata": {},
   "outputs": [
    {
     "data": {
      "text/html": [
       "<div>\n",
       "<style scoped>\n",
       "    .dataframe tbody tr th:only-of-type {\n",
       "        vertical-align: middle;\n",
       "    }\n",
       "\n",
       "    .dataframe tbody tr th {\n",
       "        vertical-align: top;\n",
       "    }\n",
       "\n",
       "    .dataframe thead th {\n",
       "        text-align: right;\n",
       "    }\n",
       "</style>\n",
       "<table border=\"1\" class=\"dataframe\">\n",
       "  <thead>\n",
       "    <tr style=\"text-align: right;\">\n",
       "      <th></th>\n",
       "      <th>video_name</th>\n",
       "      <th>move_label</th>\n",
       "      <th>tag</th>\n",
       "    </tr>\n",
       "  </thead>\n",
       "  <tbody>\n",
       "    <tr>\n",
       "      <th>25466</th>\n",
       "      <td>/workspaces/final-project-shot-type/data/shot-...</td>\n",
       "      <td>Static</td>\n",
       "      <td>LS</td>\n",
       "    </tr>\n",
       "    <tr>\n",
       "      <th>25467</th>\n",
       "      <td>/workspaces/final-project-shot-type/data/shot-...</td>\n",
       "      <td>Static</td>\n",
       "      <td>MS</td>\n",
       "    </tr>\n",
       "    <tr>\n",
       "      <th>25468</th>\n",
       "      <td>/workspaces/final-project-shot-type/data/shot-...</td>\n",
       "      <td>Static</td>\n",
       "      <td>MS</td>\n",
       "    </tr>\n",
       "    <tr>\n",
       "      <th>25469</th>\n",
       "      <td>/workspaces/final-project-shot-type/data/shot-...</td>\n",
       "      <td>Static</td>\n",
       "      <td>LS</td>\n",
       "    </tr>\n",
       "    <tr>\n",
       "      <th>25470</th>\n",
       "      <td>/workspaces/final-project-shot-type/data/shot-...</td>\n",
       "      <td>Motion</td>\n",
       "      <td>FS</td>\n",
       "    </tr>\n",
       "    <tr>\n",
       "      <th>...</th>\n",
       "      <td>...</td>\n",
       "      <td>...</td>\n",
       "      <td>...</td>\n",
       "    </tr>\n",
       "    <tr>\n",
       "      <th>33648</th>\n",
       "      <td>/workspaces/final-project-shot-type/data/shot-...</td>\n",
       "      <td>Static</td>\n",
       "      <td>FS</td>\n",
       "    </tr>\n",
       "    <tr>\n",
       "      <th>33649</th>\n",
       "      <td>/workspaces/final-project-shot-type/data/shot-...</td>\n",
       "      <td>Motion</td>\n",
       "      <td>MS</td>\n",
       "    </tr>\n",
       "    <tr>\n",
       "      <th>33650</th>\n",
       "      <td>/workspaces/final-project-shot-type/data/shot-...</td>\n",
       "      <td>Motion</td>\n",
       "      <td>FS</td>\n",
       "    </tr>\n",
       "    <tr>\n",
       "      <th>33651</th>\n",
       "      <td>/workspaces/final-project-shot-type/data/shot-...</td>\n",
       "      <td>Static</td>\n",
       "      <td>LS</td>\n",
       "    </tr>\n",
       "    <tr>\n",
       "      <th>33652</th>\n",
       "      <td>/workspaces/final-project-shot-type/data/shot-...</td>\n",
       "      <td>Static</td>\n",
       "      <td>ECS</td>\n",
       "    </tr>\n",
       "  </tbody>\n",
       "</table>\n",
       "<p>8187 rows × 3 columns</p>\n",
       "</div>"
      ],
      "text/plain": [
       "                                              video_name move_label  tag\n",
       "25466  /workspaces/final-project-shot-type/data/shot-...     Static   LS\n",
       "25467  /workspaces/final-project-shot-type/data/shot-...     Static   MS\n",
       "25468  /workspaces/final-project-shot-type/data/shot-...     Static   MS\n",
       "25469  /workspaces/final-project-shot-type/data/shot-...     Static   LS\n",
       "25470  /workspaces/final-project-shot-type/data/shot-...     Motion   FS\n",
       "...                                                  ...        ...  ...\n",
       "33648  /workspaces/final-project-shot-type/data/shot-...     Static   FS\n",
       "33649  /workspaces/final-project-shot-type/data/shot-...     Motion   MS\n",
       "33650  /workspaces/final-project-shot-type/data/shot-...     Motion   FS\n",
       "33651  /workspaces/final-project-shot-type/data/shot-...     Static   LS\n",
       "33652  /workspaces/final-project-shot-type/data/shot-...     Static  ECS\n",
       "\n",
       "[8187 rows x 3 columns]"
      ]
     },
     "execution_count": 145,
     "metadata": {},
     "output_type": "execute_result"
    }
   ],
   "source": [
    "test_df"
   ]
  },
  {
   "cell_type": "code",
   "execution_count": 32,
   "metadata": {},
   "outputs": [],
   "source": [
    "#df_train.to_csv('/workspaces/final-project-shot-type/data/CSV/dataset_train_v1.csv')"
   ]
  },
  {
   "cell_type": "markdown",
   "metadata": {},
   "source": [
    "Preparing Test Data"
   ]
  },
  {
   "cell_type": "code",
   "execution_count": 41,
   "metadata": {},
   "outputs": [],
   "source": [
    "#df_test.to_csv('/workspaces/final-project-shot-type/data/CSV/dataset_test_v1.csv')"
   ]
  },
  {
   "cell_type": "code",
   "execution_count": null,
   "metadata": {},
   "outputs": [],
   "source": []
  },
  {
   "cell_type": "code",
   "execution_count": 23,
   "metadata": {},
   "outputs": [
    {
     "name": "stdout",
     "output_type": "stream",
     "text": [
      "Total videos for training: 20856\n",
      "Total videos for testing: 8187\n"
     ]
    },
    {
     "data": {
      "text/html": [
       "<div>\n",
       "<style scoped>\n",
       "    .dataframe tbody tr th:only-of-type {\n",
       "        vertical-align: middle;\n",
       "    }\n",
       "\n",
       "    .dataframe tbody tr th {\n",
       "        vertical-align: top;\n",
       "    }\n",
       "\n",
       "    .dataframe thead th {\n",
       "        text-align: right;\n",
       "    }\n",
       "</style>\n",
       "<table border=\"1\" class=\"dataframe\">\n",
       "  <thead>\n",
       "    <tr style=\"text-align: right;\">\n",
       "      <th></th>\n",
       "      <th>video_name</th>\n",
       "      <th>move_label</th>\n",
       "      <th>tag</th>\n",
       "    </tr>\n",
       "  </thead>\n",
       "  <tbody>\n",
       "    <tr>\n",
       "      <th>12220</th>\n",
       "      <td>/workspaces/final-project-shot-type/data/shot-...</td>\n",
       "      <td>Static</td>\n",
       "      <td>LS</td>\n",
       "    </tr>\n",
       "    <tr>\n",
       "      <th>12561</th>\n",
       "      <td>/workspaces/final-project-shot-type/data/shot-...</td>\n",
       "      <td>Static</td>\n",
       "      <td>CS</td>\n",
       "    </tr>\n",
       "    <tr>\n",
       "      <th>6338</th>\n",
       "      <td>/workspaces/final-project-shot-type/data/shot-...</td>\n",
       "      <td>Motion</td>\n",
       "      <td>CS</td>\n",
       "    </tr>\n",
       "    <tr>\n",
       "      <th>19673</th>\n",
       "      <td>/workspaces/final-project-shot-type/data/shot-...</td>\n",
       "      <td>Static</td>\n",
       "      <td>CS</td>\n",
       "    </tr>\n",
       "    <tr>\n",
       "      <th>5723</th>\n",
       "      <td>/workspaces/final-project-shot-type/data/shot-...</td>\n",
       "      <td>Static</td>\n",
       "      <td>FS</td>\n",
       "    </tr>\n",
       "    <tr>\n",
       "      <th>16038</th>\n",
       "      <td>/workspaces/final-project-shot-type/data/shot-...</td>\n",
       "      <td>Pull</td>\n",
       "      <td>FS</td>\n",
       "    </tr>\n",
       "    <tr>\n",
       "      <th>6516</th>\n",
       "      <td>/workspaces/final-project-shot-type/data/shot-...</td>\n",
       "      <td>Static</td>\n",
       "      <td>CS</td>\n",
       "    </tr>\n",
       "    <tr>\n",
       "      <th>9734</th>\n",
       "      <td>/workspaces/final-project-shot-type/data/shot-...</td>\n",
       "      <td>Motion</td>\n",
       "      <td>LS</td>\n",
       "    </tr>\n",
       "    <tr>\n",
       "      <th>19561</th>\n",
       "      <td>/workspaces/final-project-shot-type/data/shot-...</td>\n",
       "      <td>Static</td>\n",
       "      <td>CS</td>\n",
       "    </tr>\n",
       "    <tr>\n",
       "      <th>17454</th>\n",
       "      <td>/workspaces/final-project-shot-type/data/shot-...</td>\n",
       "      <td>Static</td>\n",
       "      <td>MS</td>\n",
       "    </tr>\n",
       "  </tbody>\n",
       "</table>\n",
       "</div>"
      ],
      "text/plain": [
       "                                              video_name move_label tag\n",
       "12220  /workspaces/final-project-shot-type/data/shot-...     Static  LS\n",
       "12561  /workspaces/final-project-shot-type/data/shot-...     Static  CS\n",
       "6338   /workspaces/final-project-shot-type/data/shot-...     Motion  CS\n",
       "19673  /workspaces/final-project-shot-type/data/shot-...     Static  CS\n",
       "5723   /workspaces/final-project-shot-type/data/shot-...     Static  FS\n",
       "16038  /workspaces/final-project-shot-type/data/shot-...       Pull  FS\n",
       "6516   /workspaces/final-project-shot-type/data/shot-...     Static  CS\n",
       "9734   /workspaces/final-project-shot-type/data/shot-...     Motion  LS\n",
       "19561  /workspaces/final-project-shot-type/data/shot-...     Static  CS\n",
       "17454  /workspaces/final-project-shot-type/data/shot-...     Static  MS"
      ]
     },
     "execution_count": 23,
     "metadata": {},
     "output_type": "execute_result"
    }
   ],
   "source": [
    "train_df= train_df\n",
    "\n",
    "# train_df = pd.read_csv('/workspaces/final-project-shot-type/data/CSV/dataset_train_v1.csv')\n",
    "test_df = test_df\n",
    "\n",
    "print(f\"Total videos for training: {len(train_df)}\")\n",
    "print(f\"Total videos for testing: {len(test_df)}\")\n",
    "\n",
    "train_df.sample(10)"
   ]
  },
  {
   "cell_type": "code",
   "execution_count": 24,
   "metadata": {},
   "outputs": [
    {
     "data": {
      "text/plain": [
       "MS     4650\n",
       "CS     4529\n",
       "FS     4275\n",
       "ECS    3946\n",
       "LS     3456\n",
       "Name: tag, dtype: int64"
      ]
     },
     "execution_count": 24,
     "metadata": {},
     "output_type": "execute_result"
    }
   ],
   "source": [
    "train_df['tag'].value_counts()"
   ]
  },
  {
   "cell_type": "markdown",
   "metadata": {},
   "source": [
    "Define hyperparameters"
   ]
  },
  {
   "cell_type": "code",
   "execution_count": 31,
   "metadata": {},
   "outputs": [],
   "source": [
    "IMG_SIZE = 224\n",
    "BATCH_SIZE = 64\n",
    "EPOCHS = 25\n",
    "\n",
    "MAX_SEQ_LENGTH = 10\n",
    "NUM_FEATURES = 2048"
   ]
  },
  {
   "cell_type": "markdown",
   "metadata": {},
   "source": [
    "Loading frames and working on frame's size"
   ]
  },
  {
   "cell_type": "code",
   "execution_count": 26,
   "metadata": {},
   "outputs": [],
   "source": [
    "def crop_center_square(frame):\n",
    "    y, x = frame.shape[0:2]\n",
    "    min_dim = min(y, x)\n",
    "    start_x = (x // 2) - (min_dim // 2)\n",
    "    start_y = (y // 2) - (min_dim // 2)\n",
    "    return frame[start_y : start_y + min_dim, start_x : start_x + min_dim]\n",
    "\n",
    "\n",
    "def load_video(path, max_frames=0, resize=(IMG_SIZE, IMG_SIZE)):\n",
    "    cap = cv2.VideoCapture(path)\n",
    "    frames = []\n",
    "    try:\n",
    "        while True:\n",
    "            ret, frame = cap.read()\n",
    "            if not ret:\n",
    "                break\n",
    "            frame = crop_center_square(frame)\n",
    "            frame = cv2.resize(frame, resize)\n",
    "            frame = frame[:, :, [2, 1, 0]]\n",
    "            frames.append(frame)\n",
    "\n",
    "            if len(frames) == max_frames:\n",
    "                break\n",
    "    finally:\n",
    "        cap.release()\n",
    "    return np.array(frames)"
   ]
  },
  {
   "cell_type": "markdown",
   "metadata": {},
   "source": [
    "Feature extractor"
   ]
  },
  {
   "cell_type": "code",
   "execution_count": 27,
   "metadata": {},
   "outputs": [
    {
     "name": "stdout",
     "output_type": "stream",
     "text": [
      "Model: \"feature_extractor\"\n",
      "_________________________________________________________________\n",
      " Layer (type)                Output Shape              Param #   \n",
      "=================================================================\n",
      " input_4 (InputLayer)        [(None, 224, 224, 3)]     0         \n",
      "                                                                 \n",
      " tf.math.truediv_1 (TFOpLamb  (None, 224, 224, 3)      0         \n",
      " da)                                                             \n",
      "                                                                 \n",
      " tf.math.subtract_1 (TFOpLam  (None, 224, 224, 3)      0         \n",
      " bda)                                                            \n",
      "                                                                 \n",
      " inception_v3 (Functional)   (None, 2048)              21802784  \n",
      "                                                                 \n",
      "=================================================================\n",
      "Total params: 21,802,784\n",
      "Trainable params: 21,768,352\n",
      "Non-trainable params: 34,432\n",
      "_________________________________________________________________\n",
      "None\n"
     ]
    }
   ],
   "source": [
    "def build_feature_extractor():\n",
    "    feature_extractor = keras.applications.InceptionV3(\n",
    "        weights=\"imagenet\",\n",
    "        include_top=False,\n",
    "        pooling=\"avg\",\n",
    "        input_shape=(IMG_SIZE, IMG_SIZE, 3),\n",
    "    )\n",
    "    preprocess_input = keras.applications.inception_v3.preprocess_input\n",
    "\n",
    "    inputs = keras.Input((IMG_SIZE, IMG_SIZE, 3))\n",
    "    preprocessed = preprocess_input(inputs)\n",
    "\n",
    "    outputs = feature_extractor(preprocessed)\n",
    "    return keras.Model(inputs, outputs, name=\"feature_extractor\")\n",
    "\n",
    "\n",
    "feature_extractor = build_feature_extractor()\n",
    "print(feature_extractor.summary())"
   ]
  },
  {
   "cell_type": "markdown",
   "metadata": {},
   "source": [
    "Working on labels"
   ]
  },
  {
   "cell_type": "code",
   "execution_count": 28,
   "metadata": {},
   "outputs": [
    {
     "name": "stdout",
     "output_type": "stream",
     "text": [
      "['CS', 'ECS', 'FS', 'LS', 'MS']\n"
     ]
    }
   ],
   "source": [
    "label_processor = keras.layers.StringLookup(\n",
    "    num_oov_indices=0, vocabulary=np.unique(train_df[\"tag\"])\n",
    ")\n",
    "print(label_processor.get_vocabulary())"
   ]
  },
  {
   "cell_type": "markdown",
   "metadata": {},
   "source": [
    "Preparing videos"
   ]
  },
  {
   "cell_type": "code",
   "execution_count": 153,
   "metadata": {},
   "outputs": [
    {
     "name": "stdout",
     "output_type": "stream",
     "text": [
      "Frame features in train set: (10000, 10, 2048)\n",
      "Frame masks in train set: (10000, 10)\n"
     ]
    }
   ],
   "source": [
    "# def prepare_all_videos(df, root_dir):\n",
    "#     num_samples = len(df)\n",
    "#     video_paths = df[\"video_name\"].values.tolist()\n",
    "#     labels = df[\"tag\"].values\n",
    "#     labels = label_processor(labels[..., None]).numpy()\n",
    "\n",
    "#     # `frame_masks` and `frame_features` are what we will feed to our sequence model.\n",
    "#     # `frame_masks` will contain a bunch of booleans denoting if a timestep is\n",
    "#     # masked with padding or not.\n",
    "#     frame_masks = np.zeros(shape=(num_samples, MAX_SEQ_LENGTH), dtype=\"bool\")\n",
    "#     frame_features = np.zeros(\n",
    "#         shape=(num_samples, MAX_SEQ_LENGTH, NUM_FEATURES), dtype=\"float32\"\n",
    "#     )\n",
    "\n",
    "#     # For each video.\n",
    "#     for idx, path in enumerate(video_paths):\n",
    "#         # Gather all its frames and add a batch dimension.\n",
    "#         frames = load_video(os.path.join(root_dir, path))\n",
    "#         frames = frames[None, ...]\n",
    "\n",
    "#         # Initialize placeholders to store the masks and features of the current video.\n",
    "#         temp_frame_mask = np.zeros(shape=(1, MAX_SEQ_LENGTH,), dtype=\"bool\")\n",
    "#         temp_frame_features = np.zeros(\n",
    "#             shape=(1, MAX_SEQ_LENGTH, NUM_FEATURES), dtype=\"float32\"\n",
    "#         )\n",
    "\n",
    "#         # Extract features from the frames of the current video.\n",
    "#         for i, batch in enumerate(frames):\n",
    "#             video_length = batch.shape[0]\n",
    "#             length = min(MAX_SEQ_LENGTH, video_length)\n",
    "#             for j in range(length):\n",
    "#                 temp_frame_features[i, j, :] = feature_extractor.predict(\n",
    "#                     batch[None, j, :]\n",
    "#                 )\n",
    "#             temp_frame_mask[i, :length] = 1  # 1 = not masked, 0 = masked\n",
    "\n",
    "#         frame_features[idx,] = temp_frame_features.squeeze()\n",
    "#         frame_masks[idx,] = temp_frame_mask.squeeze()\n",
    "\n",
    "#     return (frame_features, frame_masks), labels\n",
    "\n",
    "\n",
    "# train_data, train_labels = prepare_all_videos(train_df, \"train\")\n",
    "# test_data, test_labels = prepare_all_videos(test_df, \"test\")\n",
    "\n",
    "# print(f\"Frame features in train set: {train_data[0].shape}\")\n",
    "# print(f\"Frame masks in train set: {train_data[1].shape}\")"
   ]
  },
  {
   "cell_type": "markdown",
   "metadata": {},
   "source": [
    "Saving embeddings"
   ]
  },
  {
   "cell_type": "markdown",
   "metadata": {},
   "source": [
    "Train"
   ]
  },
  {
   "cell_type": "code",
   "execution_count": 176,
   "metadata": {},
   "outputs": [],
   "source": [
    "train_data_embedding_0_10k = np.save('/workspaces/final-project-shot-type/embeddings/train_data_embedding_0_10k.npy', train_data[0])"
   ]
  },
  {
   "cell_type": "code",
   "execution_count": 177,
   "metadata": {},
   "outputs": [],
   "source": [
    "train_data_embedding_1_10k = np.save('/workspaces/final-project-shot-type/embeddings/train_data_embedding_1_10k.npy', train_data[1])"
   ]
  },
  {
   "cell_type": "code",
   "execution_count": 178,
   "metadata": {},
   "outputs": [],
   "source": [
    "train_labels_embedding_10k = np.save('/workspaces/final-project-shot-type/embeddings/train_labels_embedding_10k.npy', train_labels)"
   ]
  },
  {
   "cell_type": "markdown",
   "metadata": {},
   "source": [
    "Test"
   ]
  },
  {
   "cell_type": "code",
   "execution_count": 182,
   "metadata": {},
   "outputs": [],
   "source": [
    "test_data_embedding_0_10k = np.save('/workspaces/final-project-shot-type/embeddings/test_data_embedding_0_10k.npy', test_data[0])"
   ]
  },
  {
   "cell_type": "code",
   "execution_count": 183,
   "metadata": {},
   "outputs": [],
   "source": [
    "test_data_embedding_1_10k = np.save('/workspaces/final-project-shot-type/embeddings/test_data_embedding_1_10k.npy', test_data[1])"
   ]
  },
  {
   "cell_type": "code",
   "execution_count": 184,
   "metadata": {},
   "outputs": [],
   "source": [
    "test_labels_embedding_10k = np.save('/workspaces/final-project-shot-type/embeddings/test_labels_embedding_10k.npy', test_labels)"
   ]
  },
  {
   "cell_type": "markdown",
   "metadata": {},
   "source": []
  },
  {
   "cell_type": "markdown",
   "metadata": {},
   "source": []
  },
  {
   "cell_type": "code",
   "execution_count": 3,
   "metadata": {},
   "outputs": [],
   "source": [
    "train_data_0 = np.load('/home/app/src/embeddings/train_data_embedding_0_complete_10_frames.npy')"
   ]
  },
  {
   "cell_type": "code",
   "execution_count": 4,
   "metadata": {},
   "outputs": [],
   "source": [
    "train_data_1 = np.load('/home/app/src/embeddings/train_data_embedding_1_complete_10_frames.npy')"
   ]
  },
  {
   "cell_type": "code",
   "execution_count": 5,
   "metadata": {},
   "outputs": [],
   "source": [
    "train_data=(train_data_0, train_data_1)"
   ]
  },
  {
   "cell_type": "code",
   "execution_count": 9,
   "metadata": {},
   "outputs": [],
   "source": [
    "train_labels = np.load('/home/app/src/embeddings/train_labels_embedding_complete.npy')"
   ]
  },
  {
   "cell_type": "code",
   "execution_count": 10,
   "metadata": {},
   "outputs": [],
   "source": [
    "test_data_0 = np.load('/home/app/src/embeddings/test_data_embedding_0_complete_10_frames.npy')"
   ]
  },
  {
   "cell_type": "code",
   "execution_count": 11,
   "metadata": {},
   "outputs": [],
   "source": [
    "test_data_1 = np.load('/home/app/src/embeddings/test_data_embedding_1_complete_10_frames.npy')"
   ]
  },
  {
   "cell_type": "code",
   "execution_count": 12,
   "metadata": {},
   "outputs": [],
   "source": [
    "test_data=(test_data_0, test_data_1)"
   ]
  },
  {
   "cell_type": "code",
   "execution_count": 13,
   "metadata": {},
   "outputs": [],
   "source": [
    "test_labels = np.load('/home/app/src/embeddings/test_labels_embedding_complete.npy')"
   ]
  },
  {
   "cell_type": "markdown",
   "metadata": {},
   "source": [
    "Sequence model (RNN)"
   ]
  },
  {
   "cell_type": "code",
   "execution_count": 32,
   "metadata": {},
   "outputs": [
    {
     "name": "stdout",
     "output_type": "stream",
     "text": [
      "Epoch 1/25\n",
      "457/457 [==============================] - ETA: 0s - loss: 1.4524 - accuracy: 0.3454\n",
      "Epoch 1: val_loss improved from inf to 1.26983, saving model to /home/app/src/experiments/inceptionv3_GRU/exp_006/model.weights_exp_005.h5\n",
      "457/457 [==============================] - 28s 41ms/step - loss: 1.4524 - accuracy: 0.3454 - val_loss: 1.2698 - val_accuracy: 0.5288 - lr: 1.0000e-04\n",
      "Epoch 2/25\n",
      "455/457 [============================>.] - ETA: 0s - loss: 1.2523 - accuracy: 0.4975\n",
      "Epoch 2: val_loss improved from 1.26983 to 1.13488, saving model to /home/app/src/experiments/inceptionv3_GRU/exp_006/model.weights_exp_005.h5\n",
      "457/457 [==============================] - 15s 32ms/step - loss: 1.2517 - accuracy: 0.4978 - val_loss: 1.1349 - val_accuracy: 0.6358 - lr: 1.0000e-04\n",
      "Epoch 3/25\n",
      "457/457 [==============================] - ETA: 0s - loss: 1.1376 - accuracy: 0.5607\n",
      "Epoch 3: val_loss improved from 1.13488 to 1.02800, saving model to /home/app/src/experiments/inceptionv3_GRU/exp_006/model.weights_exp_005.h5\n",
      "457/457 [==============================] - 15s 33ms/step - loss: 1.1376 - accuracy: 0.5607 - val_loss: 1.0280 - val_accuracy: 0.6585 - lr: 1.0000e-04\n",
      "Epoch 4/25\n",
      "457/457 [==============================] - ETA: 0s - loss: 1.0535 - accuracy: 0.6037\n",
      "Epoch 4: val_loss improved from 1.02800 to 0.98701, saving model to /home/app/src/experiments/inceptionv3_GRU/exp_006/model.weights_exp_005.h5\n",
      "457/457 [==============================] - 16s 35ms/step - loss: 1.0535 - accuracy: 0.6037 - val_loss: 0.9870 - val_accuracy: 0.6577 - lr: 1.0000e-04\n",
      "Epoch 5/25\n",
      "456/457 [============================>.] - ETA: 0s - loss: 0.9762 - accuracy: 0.6542\n",
      "Epoch 5: val_loss improved from 0.98701 to 0.88749, saving model to /home/app/src/experiments/inceptionv3_GRU/exp_006/model.weights_exp_005.h5\n",
      "457/457 [==============================] - 16s 36ms/step - loss: 0.9761 - accuracy: 0.6543 - val_loss: 0.8875 - val_accuracy: 0.7544 - lr: 1.0000e-04\n",
      "Epoch 6/25\n",
      "456/457 [============================>.] - ETA: 0s - loss: 0.9132 - accuracy: 0.6904\n",
      "Epoch 6: val_loss improved from 0.88749 to 0.86656, saving model to /home/app/src/experiments/inceptionv3_GRU/exp_006/model.weights_exp_005.h5\n",
      "457/457 [==============================] - 16s 34ms/step - loss: 0.9135 - accuracy: 0.6903 - val_loss: 0.8666 - val_accuracy: 0.7534 - lr: 1.0000e-04\n",
      "Epoch 7/25\n",
      "455/457 [============================>.] - ETA: 0s - loss: 0.8547 - accuracy: 0.7192\n",
      "Epoch 7: val_loss improved from 0.86656 to 0.77158, saving model to /home/app/src/experiments/inceptionv3_GRU/exp_006/model.weights_exp_005.h5\n",
      "457/457 [==============================] - 16s 34ms/step - loss: 0.8542 - accuracy: 0.7193 - val_loss: 0.7716 - val_accuracy: 0.7850 - lr: 1.0000e-04\n",
      "Epoch 8/25\n",
      "456/457 [============================>.] - ETA: 0s - loss: 0.7950 - accuracy: 0.7409\n",
      "Epoch 8: val_loss improved from 0.77158 to 0.71746, saving model to /home/app/src/experiments/inceptionv3_GRU/exp_006/model.weights_exp_005.h5\n",
      "457/457 [==============================] - 16s 35ms/step - loss: 0.7951 - accuracy: 0.7409 - val_loss: 0.7175 - val_accuracy: 0.7914 - lr: 1.0000e-04\n",
      "Epoch 9/25\n",
      "456/457 [============================>.] - ETA: 0s - loss: 0.7372 - accuracy: 0.7615\n",
      "Epoch 9: val_loss improved from 0.71746 to 0.65861, saving model to /home/app/src/experiments/inceptionv3_GRU/exp_006/model.weights_exp_005.h5\n",
      "457/457 [==============================] - 16s 35ms/step - loss: 0.7370 - accuracy: 0.7616 - val_loss: 0.6586 - val_accuracy: 0.8068 - lr: 1.0000e-04\n",
      "Epoch 10/25\n",
      "456/457 [============================>.] - ETA: 0s - loss: 0.6902 - accuracy: 0.7747\n",
      "Epoch 10: val_loss improved from 0.65861 to 0.62902, saving model to /home/app/src/experiments/inceptionv3_GRU/exp_006/model.weights_exp_005.h5\n",
      "457/457 [==============================] - 16s 35ms/step - loss: 0.6900 - accuracy: 0.7748 - val_loss: 0.6290 - val_accuracy: 0.8050 - lr: 1.0000e-04\n",
      "Epoch 11/25\n",
      "456/457 [============================>.] - ETA: 0s - loss: 0.6509 - accuracy: 0.7874\n",
      "Epoch 11: val_loss improved from 0.62902 to 0.59442, saving model to /home/app/src/experiments/inceptionv3_GRU/exp_006/model.weights_exp_005.h5\n",
      "457/457 [==============================] - 16s 34ms/step - loss: 0.6507 - accuracy: 0.7875 - val_loss: 0.5944 - val_accuracy: 0.8066 - lr: 1.0000e-04\n",
      "Epoch 12/25\n",
      "456/457 [============================>.] - ETA: 0s - loss: 0.6140 - accuracy: 0.7973\n",
      "Epoch 12: val_loss improved from 0.59442 to 0.57177, saving model to /home/app/src/experiments/inceptionv3_GRU/exp_006/model.weights_exp_005.h5\n",
      "457/457 [==============================] - 16s 34ms/step - loss: 0.6143 - accuracy: 0.7971 - val_loss: 0.5718 - val_accuracy: 0.8141 - lr: 1.0000e-04\n",
      "Epoch 13/25\n",
      "456/457 [============================>.] - ETA: 0s - loss: 0.5772 - accuracy: 0.8155\n",
      "Epoch 13: val_loss improved from 0.57177 to 0.56132, saving model to /home/app/src/experiments/inceptionv3_GRU/exp_006/model.weights_exp_005.h5\n",
      "457/457 [==============================] - 16s 34ms/step - loss: 0.5772 - accuracy: 0.8155 - val_loss: 0.5613 - val_accuracy: 0.8152 - lr: 1.0000e-04\n",
      "Epoch 14/25\n",
      "456/457 [============================>.] - ETA: 0s - loss: 0.5683 - accuracy: 0.8150\n",
      "Epoch 14: val_loss improved from 0.56132 to 0.55052, saving model to /home/app/src/experiments/inceptionv3_GRU/exp_006/model.weights_exp_005.h5\n",
      "457/457 [==============================] - 15s 32ms/step - loss: 0.5683 - accuracy: 0.8150 - val_loss: 0.5505 - val_accuracy: 0.8101 - lr: 1.0000e-04\n",
      "Epoch 15/25\n",
      "457/457 [==============================] - ETA: 0s - loss: 0.5372 - accuracy: 0.8225\n",
      "Epoch 15: val_loss improved from 0.55052 to 0.54595, saving model to /home/app/src/experiments/inceptionv3_GRU/exp_006/model.weights_exp_005.h5\n",
      "457/457 [==============================] - 16s 34ms/step - loss: 0.5372 - accuracy: 0.8225 - val_loss: 0.5459 - val_accuracy: 0.8130 - lr: 1.0000e-04\n",
      "Epoch 16/25\n",
      "456/457 [============================>.] - ETA: 0s - loss: 0.5128 - accuracy: 0.8296\n",
      "Epoch 16: val_loss improved from 0.54595 to 0.53941, saving model to /home/app/src/experiments/inceptionv3_GRU/exp_006/model.weights_exp_005.h5\n",
      "457/457 [==============================] - 17s 36ms/step - loss: 0.5127 - accuracy: 0.8296 - val_loss: 0.5394 - val_accuracy: 0.8135 - lr: 1.0000e-04\n",
      "Epoch 17/25\n",
      "456/457 [============================>.] - ETA: 0s - loss: 0.4935 - accuracy: 0.8335\n",
      "Epoch 17: val_loss did not improve from 0.53941\n",
      "457/457 [==============================] - 16s 34ms/step - loss: 0.4937 - accuracy: 0.8333 - val_loss: 0.5439 - val_accuracy: 0.8113 - lr: 1.0000e-04\n",
      "Epoch 18/25\n",
      "456/457 [============================>.] - ETA: 0s - loss: 0.4877 - accuracy: 0.8391\n",
      "Epoch 18: val_loss did not improve from 0.53941\n",
      "457/457 [==============================] - 16s 34ms/step - loss: 0.4877 - accuracy: 0.8391 - val_loss: 0.5467 - val_accuracy: 0.8165 - lr: 1.0000e-04\n",
      "Epoch 19/25\n",
      "456/457 [============================>.] - ETA: 0s - loss: 0.4667 - accuracy: 0.8437\n",
      "Epoch 19: val_loss did not improve from 0.53941\n",
      "457/457 [==============================] - 16s 35ms/step - loss: 0.4669 - accuracy: 0.8436 - val_loss: 0.5619 - val_accuracy: 0.8105 - lr: 1.0000e-04\n",
      "Epoch 20/25\n",
      "456/457 [============================>.] - ETA: 0s - loss: 0.4382 - accuracy: 0.8564\n",
      "Epoch 20: val_loss did not improve from 0.53941\n",
      "457/457 [==============================] - 16s 34ms/step - loss: 0.4387 - accuracy: 0.8563 - val_loss: 0.5404 - val_accuracy: 0.8154 - lr: 5.0000e-05\n",
      "Epoch 21/25\n",
      "456/457 [============================>.] - ETA: 0s - loss: 0.4348 - accuracy: 0.8554\n",
      "Epoch 21: val_loss improved from 0.53941 to 0.53885, saving model to /home/app/src/experiments/inceptionv3_GRU/exp_006/model.weights_exp_005.h5\n",
      "457/457 [==============================] - 16s 35ms/step - loss: 0.4347 - accuracy: 0.8555 - val_loss: 0.5389 - val_accuracy: 0.8186 - lr: 5.0000e-05\n",
      "Epoch 22/25\n",
      "457/457 [==============================] - ETA: 0s - loss: 0.4207 - accuracy: 0.8650\n",
      "Epoch 22: val_loss did not improve from 0.53885\n",
      "457/457 [==============================] - 16s 34ms/step - loss: 0.4207 - accuracy: 0.8650 - val_loss: 0.5578 - val_accuracy: 0.8119 - lr: 5.0000e-05\n",
      "Epoch 23/25\n",
      "456/457 [============================>.] - ETA: 0s - loss: 0.4193 - accuracy: 0.8663\n",
      "Epoch 23: val_loss did not improve from 0.53885\n",
      "457/457 [==============================] - 17s 38ms/step - loss: 0.4193 - accuracy: 0.8663 - val_loss: 0.5553 - val_accuracy: 0.8188 - lr: 5.0000e-05\n",
      "Epoch 24/25\n",
      "456/457 [============================>.] - ETA: 0s - loss: 0.4114 - accuracy: 0.8667\n",
      "Epoch 24: val_loss did not improve from 0.53885\n",
      "457/457 [==============================] - 15s 33ms/step - loss: 0.4114 - accuracy: 0.8667 - val_loss: 0.5480 - val_accuracy: 0.8128 - lr: 5.0000e-05\n",
      "Epoch 25/25\n",
      "457/457 [==============================] - ETA: 0s - loss: 0.3942 - accuracy: 0.8721\n",
      "Epoch 25: val_loss did not improve from 0.53885\n",
      "457/457 [==============================] - 16s 35ms/step - loss: 0.3942 - accuracy: 0.8721 - val_loss: 0.5542 - val_accuracy: 0.8175 - lr: 2.5000e-05\n",
      "256/256 [==============================] - 3s 10ms/step - loss: 0.5506 - accuracy: 0.8165\n",
      "Test accuracy: 81.65%\n"
     ]
    }
   ],
   "source": [
    "def get_sequence_model():\n",
    "    class_vocab = label_processor.get_vocabulary()\n",
    "\n",
    "    frame_features_input = keras.Input((MAX_SEQ_LENGTH, NUM_FEATURES))\n",
    "    mask_input = keras.Input((MAX_SEQ_LENGTH,), dtype=\"bool\")\n",
    "\n",
    "    # Refer to the following tutorial to understand the significance of using `mask`:\n",
    "    # https://keras.io/api/layers/recurrent_layers/gru/\n",
    "    x = keras.layers.GRU(16, return_sequences=True)(\n",
    "        frame_features_input, mask=mask_input\n",
    "    )\n",
    "    x = keras.layers.GRU(8)(x)\n",
    "    x = keras.layers.Dropout(0.4)(x)\n",
    "    x = keras.layers.Dense(8, activation=\"relu\")(x)\n",
    "    output = keras.layers.Dense(len(class_vocab), activation=\"softmax\")(x)\n",
    "\n",
    "    rnn_model = keras.Model([frame_features_input, mask_input], output)\n",
    "\n",
    "    rnn_model.compile(\n",
    "        loss=\"sparse_categorical_crossentropy\", optimizer=tf.keras.optimizers.Adam(learning_rate=1e-4), metrics=[\"accuracy\"],\n",
    "    )\n",
    "    return rnn_model\n",
    "\n",
    "\n",
    "# Utility for running experiments.\n",
    "def run_experiment():\n",
    "    filepath = \"/home/app/src/experiments/inceptionv3_GRU/exp_006/model.weights_exp_005.h5\"\n",
    "    reduce_lr = keras.callbacks.ReduceLROnPlateau(monitor='val_loss', factor=0.5,\n",
    "                              patience=3, min_lr=0.000001)\n",
    "    checkpoint = keras.callbacks.ModelCheckpoint(\n",
    "        filepath, save_weights_only=True, save_best_only=True, verbose=1\n",
    "    )\n",
    "\n",
    "    seq_model = get_sequence_model()\n",
    "    history = seq_model.fit(\n",
    "        [train_data[0], train_data[1]],\n",
    "        train_labels,\n",
    "        validation_split=0.3,\n",
    "        epochs=EPOCHS,\n",
    "        callbacks=[checkpoint, reduce_lr],\n",
    "    )\n",
    "\n",
    "    seq_model.load_weights(filepath)\n",
    "    _, accuracy = seq_model.evaluate([test_data[0], test_data[1]], test_labels)\n",
    "    print(f\"Test accuracy: {round(accuracy * 100, 2)}%\")\n",
    "\n",
    "    return history, seq_model\n",
    "\n",
    "\n",
    "_, sequence_model = run_experiment()"
   ]
  },
  {
   "cell_type": "code",
   "execution_count": null,
   "metadata": {},
   "outputs": [],
   "source": []
  },
  {
   "cell_type": "markdown",
   "metadata": {},
   "source": [
    "Predictions"
   ]
  },
  {
   "cell_type": "code",
   "execution_count": null,
   "metadata": {},
   "outputs": [],
   "source": [
    "def prepare_single_video(frames):\n",
    "    frames = frames[None, ...]\n",
    "    frame_mask = np.zeros(shape=(1, MAX_SEQ_LENGTH,), dtype=\"bool\")\n",
    "    frame_features = np.zeros(shape=(1, MAX_SEQ_LENGTH, NUM_FEATURES), dtype=\"float32\")\n",
    "\n",
    "    for i, batch in enumerate(frames):\n",
    "        video_length = batch.shape[0]\n",
    "        length = min(MAX_SEQ_LENGTH, video_length)\n",
    "        for j in range(length):\n",
    "            frame_features[i, j, :] = feature_extractor.predict(batch[None, j, :])\n",
    "        frame_mask[i, :length] = 1  # 1 = not masked, 0 = masked\n",
    "\n",
    "    return frame_features, frame_mask\n",
    "\n",
    "\n",
    "def sequence_prediction(path):\n",
    "    class_vocab = label_processor.get_vocabulary()\n",
    "\n",
    "    frames = load_video(os.path.join(\"test\", path))\n",
    "    frame_features, frame_mask = prepare_single_video(frames)\n",
    "    probabilities = sequence_model.predict([frame_features, frame_mask])[0]\n",
    "\n",
    "    for i in np.argsort(probabilities)[::-1]:\n",
    "        print(f\"  {class_vocab[i]}: {probabilities[i] * 100:5.2f}%\")\n",
    "    return frames\n",
    "\n",
    "\n",
    "# This utility is for visualization.\n",
    "# Referenced from:\n",
    "# https://www.tensorflow.org/hub/tutorials/action_recognition_with_tf_hub\n",
    "# def to_gif(images):\n",
    "#     converted_images = images.astype(np.uint8)\n",
    "#     imageio.mimsave(\"animation.gif\", converted_images, fps=10)\n",
    "#     return embed.embed_file(\"animation.gif\")\n",
    "\n",
    "\n",
    "test_video = np.random.choice(test_df[\"video_name\"].values.tolist())\n",
    "print(f\"Test video path: {test_video}\")\n",
    "test_frames = sequence_prediction(test_video)\n",
    "# to_gif(test_frames[:MAX_SEQ_LENGTH])"
   ]
  }
 ],
 "metadata": {
  "kernelspec": {
   "display_name": "Python 3.10.6 64-bit",
   "language": "python",
   "name": "python3"
  },
  "language_info": {
   "codemirror_mode": {
    "name": "ipython",
    "version": 3
   },
   "file_extension": ".py",
   "mimetype": "text/x-python",
   "name": "python",
   "nbconvert_exporter": "python",
   "pygments_lexer": "ipython3",
   "version": "3.8.10"
  },
  "orig_nbformat": 4,
  "vscode": {
   "interpreter": {
    "hash": "31f2aee4e71d21fbe5cf8b01ff0e069b9275f58929596ceb00d14d90e3e16cd6"
   }
  }
 },
 "nbformat": 4,
 "nbformat_minor": 2
}
