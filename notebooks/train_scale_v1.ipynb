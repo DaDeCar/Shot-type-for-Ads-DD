{
 "cells": [
  {
   "cell_type": "code",
   "execution_count": 45,
   "metadata": {},
   "outputs": [],
   "source": [
    "#from tensorflow_docs.vis import embed\n",
    "from tensorflow import keras\n",
    "#from imutils import paths\n",
    "\n",
    "#import matplotlib.pyplot as plt\n",
    "import tensorflow as tf\n",
    "import pandas as pd\n",
    "import numpy as np\n",
    "#import imageio\n",
    "import cv2\n",
    "import os\n",
    "import json"
   ]
  },
  {
   "cell_type": "markdown",
   "metadata": {},
   "source": [
    "Data preparation"
   ]
  },
  {
   "cell_type": "code",
   "execution_count": null,
   "metadata": {},
   "outputs": [],
   "source": []
  },
  {
   "cell_type": "markdown",
   "metadata": {},
   "source": [
    "Preparing training data"
   ]
  },
  {
   "cell_type": "code",
   "execution_count": 46,
   "metadata": {},
   "outputs": [],
   "source": [
    "# data_df = pd. read_csv('/home/app/src/data/CSV/dataset_df.csv', dtype={\"shot\": str})\n",
    "\n",
    "# data_df.drop(columns=['scale_val'], inplace=True)\n",
    "# data_df.drop(columns = ['move_val'], inplace=True)\n",
    "\n",
    "# train_path = '/workspaces/final-project-shot-type/data/shot-type-dataset/trailer_v3/train/'\n",
    "# data_df['video_name'] = train_path + 'shot_' + data_df['movie'] + '_' + data_df['shot'] + '.mp4'\n",
    "# train_df = data_df[(data_df['dataset']=='train') | (data_df['dataset']=='val') ]\n",
    "# train_df = train_df[['video_name', 'move_label','scale_label']]\n",
    "# train_df = train_df.rename(columns ={'scale_label': 'tag'})\n",
    "\n",
    "\n",
    "# test_path = '/workspaces/final-project-shot-type/data/shot-type-dataset/trailer_v3/test/'\n",
    "# data_df['video_name'] = test_path + 'shot_' + data_df['movie'] + '_' + data_df['shot'] + '.mp4'\n",
    "# test_df = data_df[data_df['dataset']=='test']\n",
    "# test_df = test_df[['video_name', 'move_label','scale_label']]\n",
    "# test_df = test_df.rename(columns ={'scale_label': 'tag'})"
   ]
  },
  {
   "cell_type": "code",
   "execution_count": 47,
   "metadata": {},
   "outputs": [],
   "source": [
    "#train_df = pd.read_csv('/home/app/src/data/CSV/dataset_train_10k_v1.csv', )"
   ]
  },
  {
   "cell_type": "code",
   "execution_count": 48,
   "metadata": {},
   "outputs": [],
   "source": [
    "#test_df = pd.read_csv('/home/app/src/data/CSV/dataset_test_10k_v1.csv', )"
   ]
  },
  {
   "cell_type": "code",
   "execution_count": 49,
   "metadata": {},
   "outputs": [],
   "source": [
    "#df_train.to_csv('/workspaces/final-project-shot-type/data/CSV/dataset_train_v1.csv')"
   ]
  },
  {
   "cell_type": "markdown",
   "metadata": {},
   "source": [
    "Preparing Test Data"
   ]
  },
  {
   "cell_type": "code",
   "execution_count": 50,
   "metadata": {},
   "outputs": [],
   "source": [
    "#df_test.to_csv('/workspaces/final-project-shot-type/data/CSV/dataset_test_v1.csv')"
   ]
  },
  {
   "cell_type": "code",
   "execution_count": 51,
   "metadata": {},
   "outputs": [],
   "source": [
    "train_df= pd.read_csv('/home/app/src/data/CSV/dataset_train_v2+v3.csv', )\n",
    "test_df= pd.read_csv('/home/app/src/data/CSV/dataset_test_v3.csv', )"
   ]
  },
  {
   "cell_type": "code",
   "execution_count": 52,
   "metadata": {},
   "outputs": [
    {
     "name": "stdout",
     "output_type": "stream",
     "text": [
      "Total videos for training: 26072\n",
      "Total videos for testing: 8187\n"
     ]
    },
    {
     "data": {
      "text/html": [
       "<div>\n",
       "<style scoped>\n",
       "    .dataframe tbody tr th:only-of-type {\n",
       "        vertical-align: middle;\n",
       "    }\n",
       "\n",
       "    .dataframe tbody tr th {\n",
       "        vertical-align: top;\n",
       "    }\n",
       "\n",
       "    .dataframe thead th {\n",
       "        text-align: right;\n",
       "    }\n",
       "</style>\n",
       "<table border=\"1\" class=\"dataframe\">\n",
       "  <thead>\n",
       "    <tr style=\"text-align: right;\">\n",
       "      <th></th>\n",
       "      <th>video_name</th>\n",
       "      <th>move_label</th>\n",
       "      <th>tag</th>\n",
       "    </tr>\n",
       "  </thead>\n",
       "  <tbody>\n",
       "    <tr>\n",
       "      <th>13202</th>\n",
       "      <td>/home/app/src/data/shot-type-dataset/trailer_v...</td>\n",
       "      <td>Motion</td>\n",
       "      <td>MS</td>\n",
       "    </tr>\n",
       "    <tr>\n",
       "      <th>2185</th>\n",
       "      <td>/home/app/src/data/shot-type-dataset/trailer_v...</td>\n",
       "      <td>Static</td>\n",
       "      <td>MS</td>\n",
       "    </tr>\n",
       "    <tr>\n",
       "      <th>4442</th>\n",
       "      <td>/home/app/src/data/shot-type-dataset/trailer_v...</td>\n",
       "      <td>Pull</td>\n",
       "      <td>MS</td>\n",
       "    </tr>\n",
       "    <tr>\n",
       "      <th>9549</th>\n",
       "      <td>/home/app/src/data/shot-type-dataset/trailer_v...</td>\n",
       "      <td>Motion</td>\n",
       "      <td>MS</td>\n",
       "    </tr>\n",
       "    <tr>\n",
       "      <th>181</th>\n",
       "      <td>/home/app/src/data/shot-type-dataset/trailer_v...</td>\n",
       "      <td>Motion</td>\n",
       "      <td>LS</td>\n",
       "    </tr>\n",
       "    <tr>\n",
       "      <th>21663</th>\n",
       "      <td>/home/app/src/data/shot-type-dataset/trailer_v...</td>\n",
       "      <td>Static</td>\n",
       "      <td>CS</td>\n",
       "    </tr>\n",
       "    <tr>\n",
       "      <th>4631</th>\n",
       "      <td>/home/app/src/data/shot-type-dataset/trailer_v...</td>\n",
       "      <td>Static</td>\n",
       "      <td>ECS</td>\n",
       "    </tr>\n",
       "    <tr>\n",
       "      <th>15277</th>\n",
       "      <td>/home/app/src/data/shot-type-dataset/trailer_v...</td>\n",
       "      <td>Static</td>\n",
       "      <td>CS</td>\n",
       "    </tr>\n",
       "    <tr>\n",
       "      <th>18905</th>\n",
       "      <td>/home/app/src/data/shot-type-dataset/trailer_v...</td>\n",
       "      <td>Static</td>\n",
       "      <td>ECS</td>\n",
       "    </tr>\n",
       "    <tr>\n",
       "      <th>17812</th>\n",
       "      <td>/home/app/src/data/shot-type-dataset/trailer_v...</td>\n",
       "      <td>Pull</td>\n",
       "      <td>LS</td>\n",
       "    </tr>\n",
       "  </tbody>\n",
       "</table>\n",
       "</div>"
      ],
      "text/plain": [
       "                                              video_name move_label  tag\n",
       "13202  /home/app/src/data/shot-type-dataset/trailer_v...     Motion   MS\n",
       "2185   /home/app/src/data/shot-type-dataset/trailer_v...     Static   MS\n",
       "4442   /home/app/src/data/shot-type-dataset/trailer_v...       Pull   MS\n",
       "9549   /home/app/src/data/shot-type-dataset/trailer_v...     Motion   MS\n",
       "181    /home/app/src/data/shot-type-dataset/trailer_v...     Motion   LS\n",
       "21663  /home/app/src/data/shot-type-dataset/trailer_v...     Static   CS\n",
       "4631   /home/app/src/data/shot-type-dataset/trailer_v...     Static  ECS\n",
       "15277  /home/app/src/data/shot-type-dataset/trailer_v...     Static   CS\n",
       "18905  /home/app/src/data/shot-type-dataset/trailer_v...     Static  ECS\n",
       "17812  /home/app/src/data/shot-type-dataset/trailer_v...       Pull   LS"
      ]
     },
     "execution_count": 52,
     "metadata": {},
     "output_type": "execute_result"
    }
   ],
   "source": [
    "train_df= train_df\n",
    "\n",
    "# train_df = pd.read_csv('/workspaces/final-project-shot-type/data/CSV/dataset_train_v1.csv')\n",
    "test_df = test_df\n",
    "\n",
    "print(f\"Total videos for training: {len(train_df)}\")\n",
    "print(f\"Total videos for testing: {len(test_df)}\")\n",
    "\n",
    "train_df.sample(10)"
   ]
  },
  {
   "cell_type": "code",
   "execution_count": 53,
   "metadata": {},
   "outputs": [
    {
     "data": {
      "text/plain": [
       "MS      5656\n",
       "CS      5578\n",
       "FS      5161\n",
       "ECS     4868\n",
       "LS      4203\n",
       "None     606\n",
       "Name: tag, dtype: int64"
      ]
     },
     "execution_count": 53,
     "metadata": {},
     "output_type": "execute_result"
    }
   ],
   "source": [
    "train_df['tag'].value_counts()"
   ]
  },
  {
   "cell_type": "markdown",
   "metadata": {},
   "source": [
    "Define hyperparameters"
   ]
  },
  {
   "cell_type": "code",
   "execution_count": 54,
   "metadata": {},
   "outputs": [],
   "source": [
    "IMG_SIZE = 224\n",
    "BATCH_SIZE = 64\n",
    "EPOCHS = 25\n",
    "\n",
    "MAX_SEQ_LENGTH = 10\n",
    "NUM_FEATURES = 2048"
   ]
  },
  {
   "cell_type": "markdown",
   "metadata": {},
   "source": [
    "Loading frames and working on frame's size"
   ]
  },
  {
   "cell_type": "code",
   "execution_count": 55,
   "metadata": {},
   "outputs": [],
   "source": [
    "def crop_center_square(frame):\n",
    "    y, x = frame.shape[0:2]\n",
    "    min_dim = min(y, x)\n",
    "    start_x = (x // 2) - (min_dim // 2)\n",
    "    start_y = (y // 2) - (min_dim // 2)\n",
    "    return frame[start_y : start_y + min_dim, start_x : start_x + min_dim]\n",
    "\n",
    "\n",
    "def load_video(path, max_frames=0, resize=(IMG_SIZE, IMG_SIZE)):\n",
    "    cap = cv2.VideoCapture(path)\n",
    "    frames = []\n",
    "    try:\n",
    "        while True:\n",
    "            ret, frame = cap.read()\n",
    "            if not ret:\n",
    "                break\n",
    "            frame = crop_center_square(frame)\n",
    "            frame = cv2.resize(frame, resize)\n",
    "            frame = frame[:, :, [2, 1, 0]]\n",
    "            frames.append(frame)\n",
    "\n",
    "            if len(frames) == max_frames:\n",
    "                break\n",
    "    finally:\n",
    "        cap.release()\n",
    "    return np.array(frames)"
   ]
  },
  {
   "cell_type": "markdown",
   "metadata": {},
   "source": [
    "Feature extractor"
   ]
  },
  {
   "cell_type": "code",
   "execution_count": 56,
   "metadata": {},
   "outputs": [
    {
     "name": "stdout",
     "output_type": "stream",
     "text": [
      "Model: \"feature_extractor\"\n",
      "_________________________________________________________________\n",
      " Layer (type)                Output Shape              Param #   \n",
      "=================================================================\n",
      " input_8 (InputLayer)        [(None, 224, 224, 3)]     0         \n",
      "                                                                 \n",
      " tf.math.truediv_2 (TFOpLamb  (None, 224, 224, 3)      0         \n",
      " da)                                                             \n",
      "                                                                 \n",
      " tf.math.subtract_2 (TFOpLam  (None, 224, 224, 3)      0         \n",
      " bda)                                                            \n",
      "                                                                 \n",
      " inception_v3 (Functional)   (None, 2048)              21802784  \n",
      "                                                                 \n",
      "=================================================================\n",
      "Total params: 21,802,784\n",
      "Trainable params: 21,768,352\n",
      "Non-trainable params: 34,432\n",
      "_________________________________________________________________\n",
      "None\n"
     ]
    }
   ],
   "source": [
    "def build_feature_extractor():\n",
    "    feature_extractor = keras.applications.InceptionV3(\n",
    "        weights=\"imagenet\",\n",
    "        include_top=False,\n",
    "        pooling=\"avg\",\n",
    "        input_shape=(IMG_SIZE, IMG_SIZE, 3),\n",
    "    )\n",
    "    preprocess_input = keras.applications.inception_v3.preprocess_input\n",
    "\n",
    "    inputs = keras.Input((IMG_SIZE, IMG_SIZE, 3))\n",
    "    preprocessed = preprocess_input(inputs)\n",
    "\n",
    "    outputs = feature_extractor(preprocessed)\n",
    "    return keras.Model(inputs, outputs, name=\"feature_extractor\")\n",
    "\n",
    "\n",
    "feature_extractor = build_feature_extractor()\n",
    "print(feature_extractor.summary())"
   ]
  },
  {
   "cell_type": "markdown",
   "metadata": {},
   "source": [
    "Working on labels"
   ]
  },
  {
   "cell_type": "code",
   "execution_count": 57,
   "metadata": {},
   "outputs": [
    {
     "name": "stdout",
     "output_type": "stream",
     "text": [
      "['CS', 'ECS', 'FS', 'LS', 'MS', 'None']\n"
     ]
    }
   ],
   "source": [
    "label_processor = keras.layers.StringLookup(\n",
    "    num_oov_indices=0, vocabulary=np.unique(train_df[\"tag\"])\n",
    ")\n",
    "print(label_processor.get_vocabulary())"
   ]
  },
  {
   "cell_type": "markdown",
   "metadata": {},
   "source": [
    "Preparing videos"
   ]
  },
  {
   "cell_type": "code",
   "execution_count": 58,
   "metadata": {},
   "outputs": [],
   "source": [
    "# def prepare_all_videos(df, root_dir):\n",
    "#     num_samples = len(df)\n",
    "#     video_paths = df[\"video_name\"].values.tolist()\n",
    "#     labels = df[\"tag\"].values\n",
    "#     labels = label_processor(labels[..., None]).numpy()\n",
    "\n",
    "#     # `frame_masks` and `frame_features` are what we will feed to our sequence model.\n",
    "#     # `frame_masks` will contain a bunch of booleans denoting if a timestep is\n",
    "#     # masked with padding or not.\n",
    "#     frame_masks = np.zeros(shape=(num_samples, MAX_SEQ_LENGTH), dtype=\"bool\")\n",
    "#     frame_features = np.zeros(\n",
    "#         shape=(num_samples, MAX_SEQ_LENGTH, NUM_FEATURES), dtype=\"float32\"\n",
    "#     )\n",
    "\n",
    "#     # For each video.\n",
    "#     for idx, path in enumerate(video_paths):\n",
    "#         # Gather all its frames and add a batch dimension.\n",
    "#         frames = load_video(os.path.join(root_dir, path))\n",
    "#         frames = frames[None, ...]\n",
    "\n",
    "#         # Initialize placeholders to store the masks and features of the current video.\n",
    "#         temp_frame_mask = np.zeros(shape=(1, MAX_SEQ_LENGTH,), dtype=\"bool\")\n",
    "#         temp_frame_features = np.zeros(\n",
    "#             shape=(1, MAX_SEQ_LENGTH, NUM_FEATURES), dtype=\"float32\"\n",
    "#         )\n",
    "\n",
    "#         # Extract features from the frames of the current video.\n",
    "#         for i, batch in enumerate(frames):\n",
    "#             video_length = batch.shape[0]\n",
    "#             length = min(MAX_SEQ_LENGTH, video_length)\n",
    "#             for j in range(length):\n",
    "#                 temp_frame_features[i, j, :] = feature_extractor.predict(\n",
    "#                     batch[None, j, :]\n",
    "#                 )\n",
    "#             temp_frame_mask[i, :length] = 1  # 1 = not masked, 0 = masked\n",
    "\n",
    "#         frame_features[idx,] = temp_frame_features.squeeze()\n",
    "#         frame_masks[idx,] = temp_frame_mask.squeeze()\n",
    "\n",
    "#     return (frame_features, frame_masks), labels\n",
    "\n",
    "\n",
    "# train_data, train_labels = prepare_all_videos(train_df, \"train\")\n",
    "# test_data, test_labels = prepare_all_videos(test_df, \"test\")\n",
    "\n",
    "# print(f\"Frame features in train set: {train_data[0].shape}\")\n",
    "# print(f\"Frame masks in train set: {train_data[1].shape}\")"
   ]
  },
  {
   "cell_type": "markdown",
   "metadata": {},
   "source": [
    "Saving embeddings"
   ]
  },
  {
   "cell_type": "markdown",
   "metadata": {},
   "source": [
    "Train"
   ]
  },
  {
   "cell_type": "code",
   "execution_count": 59,
   "metadata": {},
   "outputs": [],
   "source": [
    "#train_data_embedding_0_10k = np.save('/workspaces/final-project-shot-type/embeddings/train_data_embedding_0_10k.npy', train_data[0])"
   ]
  },
  {
   "cell_type": "code",
   "execution_count": 60,
   "metadata": {},
   "outputs": [],
   "source": [
    "#train_data_embedding_1_10k = np.save('/workspaces/final-project-shot-type/embeddings/train_data_embedding_1_10k.npy', train_data[1])"
   ]
  },
  {
   "cell_type": "code",
   "execution_count": 61,
   "metadata": {},
   "outputs": [],
   "source": [
    "#train_labels_embedding_10k = np.save('/workspaces/final-project-shot-type/embeddings/train_labels_embedding_10k.npy', train_labels)"
   ]
  },
  {
   "cell_type": "markdown",
   "metadata": {},
   "source": [
    "Test"
   ]
  },
  {
   "cell_type": "code",
   "execution_count": 62,
   "metadata": {},
   "outputs": [],
   "source": [
    "#test_data_embedding_0_10k = np.save('/workspaces/final-project-shot-type/embeddings/test_data_embedding_0_10k.npy', test_data[0])"
   ]
  },
  {
   "cell_type": "code",
   "execution_count": 63,
   "metadata": {},
   "outputs": [],
   "source": [
    "#test_data_embedding_1_10k = np.save('/workspaces/final-project-shot-type/embeddings/test_data_embedding_1_10k.npy', test_data[1])"
   ]
  },
  {
   "cell_type": "code",
   "execution_count": 64,
   "metadata": {},
   "outputs": [],
   "source": [
    "#test_labels_embedding_10k = np.save('/workspaces/final-project-shot-type/embeddings/test_labels_embedding_10k.npy', test_labels)"
   ]
  },
  {
   "cell_type": "markdown",
   "metadata": {},
   "source": []
  },
  {
   "cell_type": "markdown",
   "metadata": {},
   "source": [
    "Loading embeddings"
   ]
  },
  {
   "cell_type": "code",
   "execution_count": 65,
   "metadata": {},
   "outputs": [],
   "source": [
    "path_load_embeddings= '/home/app/src/embeddings/static_shot/10k_embeddings/'\n",
    "\n",
    "#Train\n",
    "train_data_0 = np.load(path_load_embeddings + 'train_data_embedding_0_10k.npy')\n",
    "train_data_1 = np.load(path_load_embeddings + 'train_data_embedding_1_10k.npy')\n",
    "train_data=(train_data_0, train_data_1)\n",
    "train_labels = np.load(path_load_embeddings + 'train_labels_embedding_10k.npy')\n",
    "\n",
    "#Test\n",
    "test_data_0 = np.load(path_load_embeddings + 'test_data_embedding_0_10k.npy')\n",
    "test_data_1 = np.load(path_load_embeddings + 'test_data_embedding_1_10k.npy')\n",
    "test_data=(test_data_0, test_data_1)\n",
    "test_labels = np.load(path_load_embeddings + 'test_labels_embedding_10k.npy')"
   ]
  },
  {
   "cell_type": "markdown",
   "metadata": {},
   "source": [
    "Sequence model (RNN)"
   ]
  },
  {
   "cell_type": "code",
   "execution_count": 66,
   "metadata": {},
   "outputs": [
    {
     "name": "stdout",
     "output_type": "stream",
     "text": [
      "Epoch 1/25\n",
      "219/219 [==============================] - ETA: 0s - loss: 1.6376 - accuracy: 0.2859\n",
      "Epoch 1: val_loss improved from inf to 1.50818, saving model to /home/app/src/experiments/inceptionv3_GRU/exp_006/model.weights_exp_005.h5\n",
      "219/219 [==============================] - 15s 31ms/step - loss: 1.6376 - accuracy: 0.2859 - val_loss: 1.5082 - val_accuracy: 0.4280 - lr: 1.0000e-04\n",
      "Epoch 2/25\n",
      "216/219 [============================>.] - ETA: 0s - loss: 1.4658 - accuracy: 0.3885\n",
      "Epoch 2: val_loss improved from 1.50818 to 1.33487, saving model to /home/app/src/experiments/inceptionv3_GRU/exp_006/model.weights_exp_005.h5\n",
      "219/219 [==============================] - 4s 17ms/step - loss: 1.4661 - accuracy: 0.3886 - val_loss: 1.3349 - val_accuracy: 0.4763 - lr: 1.0000e-04\n",
      "Epoch 3/25\n",
      "219/219 [==============================] - ETA: 0s - loss: 1.3445 - accuracy: 0.4443\n",
      "Epoch 3: val_loss improved from 1.33487 to 1.21826, saving model to /home/app/src/experiments/inceptionv3_GRU/exp_006/model.weights_exp_005.h5\n",
      "219/219 [==============================] - 4s 17ms/step - loss: 1.3445 - accuracy: 0.4443 - val_loss: 1.2183 - val_accuracy: 0.5543 - lr: 1.0000e-04\n",
      "Epoch 4/25\n",
      "217/219 [============================>.] - ETA: 0s - loss: 1.2522 - accuracy: 0.5066\n",
      "Epoch 4: val_loss improved from 1.21826 to 1.13772, saving model to /home/app/src/experiments/inceptionv3_GRU/exp_006/model.weights_exp_005.h5\n",
      "219/219 [==============================] - 4s 17ms/step - loss: 1.2514 - accuracy: 0.5067 - val_loss: 1.1377 - val_accuracy: 0.6037 - lr: 1.0000e-04\n",
      "Epoch 5/25\n",
      "216/219 [============================>.] - ETA: 0s - loss: 1.1766 - accuracy: 0.5589\n",
      "Epoch 5: val_loss improved from 1.13772 to 1.06146, saving model to /home/app/src/experiments/inceptionv3_GRU/exp_006/model.weights_exp_005.h5\n",
      "219/219 [==============================] - 4s 17ms/step - loss: 1.1748 - accuracy: 0.5603 - val_loss: 1.0615 - val_accuracy: 0.6843 - lr: 1.0000e-04\n",
      "Epoch 6/25\n",
      "216/219 [============================>.] - ETA: 0s - loss: 1.1135 - accuracy: 0.5930\n",
      "Epoch 6: val_loss improved from 1.06146 to 1.00141, saving model to /home/app/src/experiments/inceptionv3_GRU/exp_006/model.weights_exp_005.h5\n",
      "219/219 [==============================] - 4s 18ms/step - loss: 1.1133 - accuracy: 0.5930 - val_loss: 1.0014 - val_accuracy: 0.7227 - lr: 1.0000e-04\n",
      "Epoch 7/25\n",
      "218/219 [============================>.] - ETA: 0s - loss: 1.0554 - accuracy: 0.6264\n",
      "Epoch 7: val_loss improved from 1.00141 to 0.95882, saving model to /home/app/src/experiments/inceptionv3_GRU/exp_006/model.weights_exp_005.h5\n",
      "219/219 [==============================] - 4s 17ms/step - loss: 1.0553 - accuracy: 0.6266 - val_loss: 0.9588 - val_accuracy: 0.7413 - lr: 1.0000e-04\n",
      "Epoch 8/25\n",
      "216/219 [============================>.] - ETA: 0s - loss: 1.0040 - accuracy: 0.6506\n",
      "Epoch 8: val_loss improved from 0.95882 to 0.91949, saving model to /home/app/src/experiments/inceptionv3_GRU/exp_006/model.weights_exp_005.h5\n",
      "219/219 [==============================] - 4s 17ms/step - loss: 1.0056 - accuracy: 0.6506 - val_loss: 0.9195 - val_accuracy: 0.7563 - lr: 1.0000e-04\n",
      "Epoch 9/25\n",
      "217/219 [============================>.] - ETA: 0s - loss: 0.9456 - accuracy: 0.6744\n",
      "Epoch 9: val_loss improved from 0.91949 to 0.85712, saving model to /home/app/src/experiments/inceptionv3_GRU/exp_006/model.weights_exp_005.h5\n",
      "219/219 [==============================] - 4s 18ms/step - loss: 0.9450 - accuracy: 0.6754 - val_loss: 0.8571 - val_accuracy: 0.7747 - lr: 1.0000e-04\n",
      "Epoch 10/25\n",
      "219/219 [==============================] - ETA: 0s - loss: 0.9015 - accuracy: 0.7044\n",
      "Epoch 10: val_loss improved from 0.85712 to 0.81034, saving model to /home/app/src/experiments/inceptionv3_GRU/exp_006/model.weights_exp_005.h5\n",
      "219/219 [==============================] - 4s 17ms/step - loss: 0.9015 - accuracy: 0.7044 - val_loss: 0.8103 - val_accuracy: 0.7830 - lr: 1.0000e-04\n",
      "Epoch 11/25\n",
      "218/219 [============================>.] - ETA: 0s - loss: 0.8629 - accuracy: 0.7169\n",
      "Epoch 11: val_loss improved from 0.81034 to 0.77762, saving model to /home/app/src/experiments/inceptionv3_GRU/exp_006/model.weights_exp_005.h5\n",
      "219/219 [==============================] - 4s 17ms/step - loss: 0.8628 - accuracy: 0.7166 - val_loss: 0.7776 - val_accuracy: 0.7863 - lr: 1.0000e-04\n",
      "Epoch 12/25\n",
      "217/219 [============================>.] - ETA: 0s - loss: 0.8168 - accuracy: 0.7359\n",
      "Epoch 12: val_loss improved from 0.77762 to 0.74283, saving model to /home/app/src/experiments/inceptionv3_GRU/exp_006/model.weights_exp_005.h5\n",
      "219/219 [==============================] - 4s 17ms/step - loss: 0.8167 - accuracy: 0.7359 - val_loss: 0.7428 - val_accuracy: 0.7917 - lr: 1.0000e-04\n",
      "Epoch 13/25\n",
      "216/219 [============================>.] - ETA: 0s - loss: 0.7784 - accuracy: 0.7439\n",
      "Epoch 13: val_loss improved from 0.74283 to 0.71051, saving model to /home/app/src/experiments/inceptionv3_GRU/exp_006/model.weights_exp_005.h5\n",
      "219/219 [==============================] - 4s 17ms/step - loss: 0.7776 - accuracy: 0.7443 - val_loss: 0.7105 - val_accuracy: 0.7947 - lr: 1.0000e-04\n",
      "Epoch 14/25\n",
      "219/219 [==============================] - ETA: 0s - loss: 0.7353 - accuracy: 0.7639\n",
      "Epoch 14: val_loss improved from 0.71051 to 0.68828, saving model to /home/app/src/experiments/inceptionv3_GRU/exp_006/model.weights_exp_005.h5\n",
      "219/219 [==============================] - 4s 18ms/step - loss: 0.7353 - accuracy: 0.7639 - val_loss: 0.6883 - val_accuracy: 0.8000 - lr: 1.0000e-04\n",
      "Epoch 15/25\n",
      "219/219 [==============================] - ETA: 0s - loss: 0.7126 - accuracy: 0.7796\n",
      "Epoch 15: val_loss improved from 0.68828 to 0.66830, saving model to /home/app/src/experiments/inceptionv3_GRU/exp_006/model.weights_exp_005.h5\n",
      "219/219 [==============================] - 4s 17ms/step - loss: 0.7126 - accuracy: 0.7796 - val_loss: 0.6683 - val_accuracy: 0.8040 - lr: 1.0000e-04\n",
      "Epoch 16/25\n",
      "218/219 [============================>.] - ETA: 0s - loss: 0.6870 - accuracy: 0.7765\n",
      "Epoch 16: val_loss improved from 0.66830 to 0.65027, saving model to /home/app/src/experiments/inceptionv3_GRU/exp_006/model.weights_exp_005.h5\n",
      "219/219 [==============================] - 4s 17ms/step - loss: 0.6875 - accuracy: 0.7760 - val_loss: 0.6503 - val_accuracy: 0.8057 - lr: 1.0000e-04\n",
      "Epoch 17/25\n",
      "218/219 [============================>.] - ETA: 0s - loss: 0.6593 - accuracy: 0.7909\n",
      "Epoch 17: val_loss improved from 0.65027 to 0.63756, saving model to /home/app/src/experiments/inceptionv3_GRU/exp_006/model.weights_exp_005.h5\n",
      "219/219 [==============================] - 4s 17ms/step - loss: 0.6590 - accuracy: 0.7910 - val_loss: 0.6376 - val_accuracy: 0.8040 - lr: 1.0000e-04\n",
      "Epoch 18/25\n",
      "218/219 [============================>.] - ETA: 0s - loss: 0.6331 - accuracy: 0.7939\n",
      "Epoch 18: val_loss improved from 0.63756 to 0.61827, saving model to /home/app/src/experiments/inceptionv3_GRU/exp_006/model.weights_exp_005.h5\n",
      "219/219 [==============================] - 4s 17ms/step - loss: 0.6334 - accuracy: 0.7936 - val_loss: 0.6183 - val_accuracy: 0.8120 - lr: 1.0000e-04\n",
      "Epoch 19/25\n",
      "217/219 [============================>.] - ETA: 0s - loss: 0.6107 - accuracy: 0.8057\n",
      "Epoch 19: val_loss did not improve from 0.61827\n",
      "219/219 [==============================] - 4s 17ms/step - loss: 0.6098 - accuracy: 0.8063 - val_loss: 0.6237 - val_accuracy: 0.8023 - lr: 1.0000e-04\n",
      "Epoch 20/25\n",
      "217/219 [============================>.] - ETA: 0s - loss: 0.5938 - accuracy: 0.8132\n",
      "Epoch 20: val_loss improved from 0.61827 to 0.60932, saving model to /home/app/src/experiments/inceptionv3_GRU/exp_006/model.weights_exp_005.h5\n",
      "219/219 [==============================] - 4s 17ms/step - loss: 0.5939 - accuracy: 0.8134 - val_loss: 0.6093 - val_accuracy: 0.8090 - lr: 1.0000e-04\n",
      "Epoch 21/25\n",
      "218/219 [============================>.] - ETA: 0s - loss: 0.5636 - accuracy: 0.8234\n",
      "Epoch 21: val_loss did not improve from 0.60932\n",
      "219/219 [==============================] - 4s 17ms/step - loss: 0.5637 - accuracy: 0.8231 - val_loss: 0.6122 - val_accuracy: 0.8037 - lr: 1.0000e-04\n",
      "Epoch 22/25\n",
      "217/219 [============================>.] - ETA: 0s - loss: 0.5436 - accuracy: 0.8273\n",
      "Epoch 22: val_loss improved from 0.60932 to 0.60665, saving model to /home/app/src/experiments/inceptionv3_GRU/exp_006/model.weights_exp_005.h5\n",
      "219/219 [==============================] - 4s 17ms/step - loss: 0.5433 - accuracy: 0.8279 - val_loss: 0.6066 - val_accuracy: 0.8037 - lr: 1.0000e-04\n",
      "Epoch 23/25\n",
      "217/219 [============================>.] - ETA: 0s - loss: 0.5357 - accuracy: 0.8308\n",
      "Epoch 23: val_loss improved from 0.60665 to 0.58787, saving model to /home/app/src/experiments/inceptionv3_GRU/exp_006/model.weights_exp_005.h5\n",
      "219/219 [==============================] - 4s 17ms/step - loss: 0.5352 - accuracy: 0.8306 - val_loss: 0.5879 - val_accuracy: 0.8153 - lr: 1.0000e-04\n",
      "Epoch 24/25\n",
      "217/219 [============================>.] - ETA: 0s - loss: 0.5091 - accuracy: 0.8417\n",
      "Epoch 24: val_loss did not improve from 0.58787\n",
      "219/219 [==============================] - 4s 17ms/step - loss: 0.5091 - accuracy: 0.8420 - val_loss: 0.6094 - val_accuracy: 0.7930 - lr: 1.0000e-04\n",
      "Epoch 25/25\n",
      "217/219 [============================>.] - ETA: 0s - loss: 0.4891 - accuracy: 0.8573\n",
      "Epoch 25: val_loss did not improve from 0.58787\n",
      "219/219 [==============================] - 4s 17ms/step - loss: 0.4888 - accuracy: 0.8571 - val_loss: 0.6013 - val_accuracy: 0.8073 - lr: 1.0000e-04\n",
      "113/113 [==============================] - 1s 7ms/step - loss: 0.6142 - accuracy: 0.7981\n",
      "Test accuracy: 79.81%\n"
     ]
    }
   ],
   "source": [
    "def get_sequence_model():\n",
    "    class_vocab = label_processor.get_vocabulary()\n",
    "\n",
    "    frame_features_input = keras.Input((MAX_SEQ_LENGTH, NUM_FEATURES))\n",
    "    mask_input = keras.Input((MAX_SEQ_LENGTH,), dtype=\"bool\")\n",
    "\n",
    "    # Refer to the following tutorial to understand the significance of using `mask`:\n",
    "    # https://keras.io/api/layers/recurrent_layers/gru/\n",
    "    x = keras.layers.GRU(16, return_sequences=True)(\n",
    "        frame_features_input, mask=mask_input\n",
    "    )\n",
    "    x = keras.layers.GRU(8)(x)\n",
    "    x = keras.layers.Dropout(0.4)(x)\n",
    "    x = keras.layers.Dense(8, activation=\"relu\")(x)\n",
    "    output = keras.layers.Dense(len(class_vocab), activation=\"softmax\")(x)\n",
    "\n",
    "    rnn_model = keras.Model([frame_features_input, mask_input], output)\n",
    "\n",
    "    rnn_model.compile(\n",
    "        loss=\"sparse_categorical_crossentropy\", optimizer=tf.keras.optimizers.Adam(learning_rate=1e-4), metrics=[\"accuracy\"],\n",
    "    )\n",
    "    return rnn_model\n",
    "\n",
    "\n",
    "# Utility for running experiments.\n",
    "def run_experiment():\n",
    "    filepath = \"/home/app/src/experiments/inceptionv3_GRU/exp_006/model.weights_exp_005.h5\"\n",
    "    filepath_log = '/home/app/src/experiments/inceptionv3_GRU/logs/static'\n",
    "    reduce_lr = keras.callbacks.ReduceLROnPlateau(monitor='val_loss', factor=0.5,\n",
    "                              patience=3, min_lr=0.000001)\n",
    "    checkpoint = keras.callbacks.ModelCheckpoint(\n",
    "        filepath, save_weights_only=True, save_best_only=True, verbose=1\n",
    "    )\n",
    "    tensor_board = keras.callbacks.TensorBoard (filepath_log)\n",
    "\n",
    "    seq_model = get_sequence_model()\n",
    "    history = seq_model.fit(\n",
    "        [train_data[0], train_data[1]],\n",
    "        train_labels,\n",
    "        validation_split=0.3,\n",
    "        epochs=EPOCHS,\n",
    "        callbacks=[checkpoint, reduce_lr, tensor_board],\n",
    "    )\n",
    "\n",
    "    seq_model.load_weights(filepath)\n",
    "    _, accuracy = seq_model.evaluate([test_data[0], test_data[1]], test_labels)\n",
    "    print(f\"Test accuracy: {round(accuracy * 100, 2)}%\")\n",
    "\n",
    "    return history, seq_model\n",
    "\n",
    "\n",
    "_, sequence_model = run_experiment()"
   ]
  },
  {
   "cell_type": "code",
   "execution_count": null,
   "metadata": {},
   "outputs": [],
   "source": []
  },
  {
   "cell_type": "markdown",
   "metadata": {},
   "source": [
    "Predictions"
   ]
  },
  {
   "cell_type": "code",
   "execution_count": 71,
   "metadata": {},
   "outputs": [
    {
     "name": "stdout",
     "output_type": "stream",
     "text": [
      "Test video path: /home/app/src/data/shot-type-dataset/trailer_v3/test/shot_tt3404234_0008.mp4\n",
      "  FS: 82.54%\n",
      "  LS:  9.14%\n",
      "  ECS:  6.10%\n",
      "  CS:  1.08%\n",
      "  MS:  1.05%\n",
      "  None:  0.09%\n"
     ]
    }
   ],
   "source": [
    "def prepare_single_video(frames):\n",
    "    frames = frames[None, ...]\n",
    "    frame_mask = np.zeros(shape=(1, MAX_SEQ_LENGTH,), dtype=\"bool\")\n",
    "    frame_features = np.zeros(shape=(1, MAX_SEQ_LENGTH, NUM_FEATURES), dtype=\"float32\")\n",
    "\n",
    "    for i, batch in enumerate(frames):\n",
    "        video_length = batch.shape[0]\n",
    "        length = min(MAX_SEQ_LENGTH, video_length)\n",
    "        for j in range(length):\n",
    "            frame_features[i, j, :] = feature_extractor.predict(batch[None, j, :])\n",
    "        frame_mask[i, :length] = 1  # 1 = not masked, 0 = masked\n",
    "\n",
    "    return frame_features, frame_mask\n",
    "\n",
    "\n",
    "def sequence_prediction(path):\n",
    "    class_vocab = label_processor.get_vocabulary()\n",
    "\n",
    "    frames = load_video(os.path.join(\"test\", path))\n",
    "    frame_features, frame_mask = prepare_single_video(frames)\n",
    "    probabilities = sequence_model.predict([frame_features, frame_mask])[0]\n",
    "\n",
    "    for i in np.argsort(probabilities)[::-1]:\n",
    "        print(f\"  {class_vocab[i]}: {probabilities[i] * 100:5.2f}%\")\n",
    "    return frames\n",
    "\n",
    "\n",
    "# This utility is for visualization.\n",
    "# Referenced from:\n",
    "# https://www.tensorflow.org/hub/tutorials/action_recognition_with_tf_hub\n",
    "# def to_gif(images):\n",
    "#     converted_images = images.astype(np.uint8)\n",
    "#     imageio.mimsave(\"animation.gif\", converted_images, fps=10)\n",
    "#     return embed.embed_file(\"animation.gif\")\n",
    "\n",
    "\n",
    "test_video = np.random.choice(test_df[\"video_name\"].values.tolist())\n",
    "print(f\"Test video path: {test_video}\")\n",
    "test_frames = sequence_prediction(test_video)\n",
    "# to_gif(test_frames[:MAX_SEQ_LENGTH])"
   ]
  }
 ],
 "metadata": {
  "kernelspec": {
   "display_name": "Python 3.10.6 64-bit",
   "language": "python",
   "name": "python3"
  },
  "language_info": {
   "codemirror_mode": {
    "name": "ipython",
    "version": 3
   },
   "file_extension": ".py",
   "mimetype": "text/x-python",
   "name": "python",
   "nbconvert_exporter": "python",
   "pygments_lexer": "ipython3",
   "version": "3.8.10"
  },
  "orig_nbformat": 4,
  "vscode": {
   "interpreter": {
    "hash": "31f2aee4e71d21fbe5cf8b01ff0e069b9275f58929596ceb00d14d90e3e16cd6"
   }
  }
 },
 "nbformat": 4,
 "nbformat_minor": 2
}
