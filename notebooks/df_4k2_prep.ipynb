{
 "cells": [
  {
   "cell_type": "code",
   "execution_count": 1,
   "metadata": {},
   "outputs": [],
   "source": [
    "#from tensorflow_docs.vis import embed\n",
    "from tensorflow import keras\n",
    "#from imutils import paths\n",
    "\n",
    "#import matplotlib.pyplot as plt\n",
    "import tensorflow as tf\n",
    "import pandas as pd\n",
    "import numpy as np\n",
    "#import imageio\n",
    "import cv2\n",
    "from ipywidgets import Video, Image\n",
    "\n",
    "import os\n",
    "import json"
   ]
  },
  {
   "cell_type": "markdown",
   "metadata": {},
   "source": [
    "V2_trailer_Dataset"
   ]
  },
  {
   "cell_type": "code",
   "execution_count": 2,
   "metadata": {},
   "outputs": [],
   "source": [
    "# reading the JSON data using json.load()\n",
    "file = '/home/app/src/data/shot-type-dataset/v2_full_trailer.json'\n",
    "with open(file) as train_file:\n",
    "    dict_v2= json.load(train_file)"
   ]
  },
  {
   "cell_type": "code",
   "execution_count": 3,
   "metadata": {},
   "outputs": [],
   "source": [
    "# Creating a DataFrame with the v2_full_trailer.json\"\n",
    "\n",
    "dataset = []\n",
    "movie = []\n",
    "shot= []\n",
    "scale_label = []\n",
    "scale_val = []\n",
    "mov_label = []\n",
    "mov_val = []\n",
    "\n",
    "# We pass for all JSON keys an append every trailer labels different lists\n",
    "for key_movie in dict_v2:\n",
    "    for key_shot in dict_v2[key_movie]:\n",
    "\n",
    "        dataset.append('v2')\n",
    "        movie.append(key_movie)\n",
    "        shot.append(key_shot)\n",
    "        scale_label.append('None')\n",
    "        scale_val.append(int(0))\n",
    "        mov_label.append(dict_v2[key_movie][key_shot]['movement']['label'])\n",
    "        mov_val.append(dict_v2[key_movie][key_shot]['movement']['value'])\n",
    "\n",
    "# We build the dataframe with the lists data\n",
    "data = list(zip(dataset, movie, shot, scale_label, scale_val, mov_label, mov_val))  \n",
    "columns = ['dataset','movie', 'shot', 'scale_label', 'scale_val', 'move_label', 'move_val']  \n",
    "        \n",
    "dataset_df_v2 = pd.DataFrame(data, columns=columns)"
   ]
  },
  {
   "cell_type": "code",
   "execution_count": 4,
   "metadata": {},
   "outputs": [],
   "source": [
    "v2_df = dataset_df_v2\n",
    "v2_path = '/home/app/src/data/shot-type-dataset/trailer_v2/'\n",
    "v2_df ['video_name'] = v2_path + dataset_df_v2['movie'] + '/'+ 'shot_' + dataset_df_v2['shot'] + '.mp4'\n",
    "v2_df = v2_df[['video_name', 'move_label','scale_label']]\n",
    "v2_df = v2_df.rename(columns ={'scale_label': 'tag'})\n"
   ]
  },
  {
   "cell_type": "code",
   "execution_count": 5,
   "metadata": {},
   "outputs": [
    {
     "data": {
      "text/html": [
       "<div>\n",
       "<style scoped>\n",
       "    .dataframe tbody tr th:only-of-type {\n",
       "        vertical-align: middle;\n",
       "    }\n",
       "\n",
       "    .dataframe tbody tr th {\n",
       "        vertical-align: top;\n",
       "    }\n",
       "\n",
       "    .dataframe thead th {\n",
       "        text-align: right;\n",
       "    }\n",
       "</style>\n",
       "<table border=\"1\" class=\"dataframe\">\n",
       "  <thead>\n",
       "    <tr style=\"text-align: right;\">\n",
       "      <th></th>\n",
       "      <th>video_name</th>\n",
       "      <th>move_label</th>\n",
       "      <th>tag</th>\n",
       "    </tr>\n",
       "  </thead>\n",
       "  <tbody>\n",
       "    <tr>\n",
       "      <th>0</th>\n",
       "      <td>/home/app/src/data/shot-type-dataset/trailer_v...</td>\n",
       "      <td>Pull</td>\n",
       "      <td>None</td>\n",
       "    </tr>\n",
       "    <tr>\n",
       "      <th>1</th>\n",
       "      <td>/home/app/src/data/shot-type-dataset/trailer_v...</td>\n",
       "      <td>Push</td>\n",
       "      <td>None</td>\n",
       "    </tr>\n",
       "    <tr>\n",
       "      <th>2</th>\n",
       "      <td>/home/app/src/data/shot-type-dataset/trailer_v...</td>\n",
       "      <td>Push</td>\n",
       "      <td>None</td>\n",
       "    </tr>\n",
       "    <tr>\n",
       "      <th>3</th>\n",
       "      <td>/home/app/src/data/shot-type-dataset/trailer_v...</td>\n",
       "      <td>Push</td>\n",
       "      <td>None</td>\n",
       "    </tr>\n",
       "    <tr>\n",
       "      <th>4</th>\n",
       "      <td>/home/app/src/data/shot-type-dataset/trailer_v...</td>\n",
       "      <td>Pull</td>\n",
       "      <td>None</td>\n",
       "    </tr>\n",
       "    <tr>\n",
       "      <th>...</th>\n",
       "      <td>...</td>\n",
       "      <td>...</td>\n",
       "      <td>...</td>\n",
       "    </tr>\n",
       "    <tr>\n",
       "      <th>601</th>\n",
       "      <td>/home/app/src/data/shot-type-dataset/trailer_v...</td>\n",
       "      <td>Push</td>\n",
       "      <td>None</td>\n",
       "    </tr>\n",
       "    <tr>\n",
       "      <th>602</th>\n",
       "      <td>/home/app/src/data/shot-type-dataset/trailer_v...</td>\n",
       "      <td>Push</td>\n",
       "      <td>None</td>\n",
       "    </tr>\n",
       "    <tr>\n",
       "      <th>603</th>\n",
       "      <td>/home/app/src/data/shot-type-dataset/trailer_v...</td>\n",
       "      <td>Push</td>\n",
       "      <td>None</td>\n",
       "    </tr>\n",
       "    <tr>\n",
       "      <th>604</th>\n",
       "      <td>/home/app/src/data/shot-type-dataset/trailer_v...</td>\n",
       "      <td>Push</td>\n",
       "      <td>None</td>\n",
       "    </tr>\n",
       "    <tr>\n",
       "      <th>605</th>\n",
       "      <td>/home/app/src/data/shot-type-dataset/trailer_v...</td>\n",
       "      <td>Push</td>\n",
       "      <td>None</td>\n",
       "    </tr>\n",
       "  </tbody>\n",
       "</table>\n",
       "<p>606 rows × 3 columns</p>\n",
       "</div>"
      ],
      "text/plain": [
       "                                            video_name move_label   tag\n",
       "0    /home/app/src/data/shot-type-dataset/trailer_v...       Pull  None\n",
       "1    /home/app/src/data/shot-type-dataset/trailer_v...       Push  None\n",
       "2    /home/app/src/data/shot-type-dataset/trailer_v...       Push  None\n",
       "3    /home/app/src/data/shot-type-dataset/trailer_v...       Push  None\n",
       "4    /home/app/src/data/shot-type-dataset/trailer_v...       Pull  None\n",
       "..                                                 ...        ...   ...\n",
       "601  /home/app/src/data/shot-type-dataset/trailer_v...       Push  None\n",
       "602  /home/app/src/data/shot-type-dataset/trailer_v...       Push  None\n",
       "603  /home/app/src/data/shot-type-dataset/trailer_v...       Push  None\n",
       "604  /home/app/src/data/shot-type-dataset/trailer_v...       Push  None\n",
       "605  /home/app/src/data/shot-type-dataset/trailer_v...       Push  None\n",
       "\n",
       "[606 rows x 3 columns]"
      ]
     },
     "execution_count": 5,
     "metadata": {},
     "output_type": "execute_result"
    }
   ],
   "source": [
    "v2_df"
   ]
  },
  {
   "cell_type": "code",
   "execution_count": 5,
   "metadata": {},
   "outputs": [],
   "source": [
    "# v2_df.to_csv('/home/app/src/data/CSV/dataset_v2.csv', index = False)"
   ]
  },
  {
   "cell_type": "markdown",
   "metadata": {},
   "source": [
    "Preparing Trailer_v3_dataset (The complete dataset)"
   ]
  },
  {
   "cell_type": "code",
   "execution_count": 6,
   "metadata": {},
   "outputs": [],
   "source": [
    "data_df = pd. read_csv('/home/app/src/data/CSV/dataset_df.csv', dtype={\"shot\": str})\n",
    "\n",
    "data_df.drop(columns=['scale_val'], inplace=True)\n",
    "data_df.drop(columns = ['move_val'], inplace=True)\n",
    "\n",
    "train_path = '/home/app/src/data/shot-type-dataset/trailer_v3/train/'\n",
    "data_df['video_name'] = train_path + 'shot_' + data_df['movie'] + '_' + data_df['shot'] + '.mp4'\n",
    "train_df = data_df[(data_df['dataset']=='train') | (data_df['dataset']=='val') ]\n",
    "train_df = train_df[['video_name', 'move_label','scale_label']]\n",
    "train_df = train_df.rename(columns ={'scale_label': 'tag'})\n",
    "\n",
    "\n",
    "test_path = '/home/app/src/data/shot-type-dataset/trailer_v3/test/'\n",
    "data_df['video_name'] = test_path + 'shot_' + data_df['movie'] + '_' + data_df['shot'] + '.mp4'\n",
    "test_df = data_df[data_df['dataset']=='test']\n",
    "test_df = test_df[['video_name', 'move_label','scale_label']]\n",
    "test_df = test_df.rename(columns ={'scale_label': 'tag'})"
   ]
  },
  {
   "cell_type": "code",
   "execution_count": 8,
   "metadata": {},
   "outputs": [],
   "source": [
    "# train_df.to_csv('/home/app/src/data/CSV/dataset_train_v3.csv', index = False)\n",
    "# test_df.to_csv('/home/app/src/data/CSV/dataset_test_v3.csv', index = False)"
   ]
  },
  {
   "cell_type": "code",
   "execution_count": 7,
   "metadata": {},
   "outputs": [],
   "source": [
    "# Adding v2 movies to train_df\n",
    "train_df = pd.concat([train_df, v2_df], axis=0)\n",
    "train_df = train_df.reset_index(drop = True) \n",
    "train_df.to_csv('/home/app/src/data/CSV/dataset_train_v2+v3.csv', index = False)"
   ]
  },
  {
   "cell_type": "code",
   "execution_count": 8,
   "metadata": {},
   "outputs": [
    {
     "data": {
      "text/html": [
       "<div>\n",
       "<style scoped>\n",
       "    .dataframe tbody tr th:only-of-type {\n",
       "        vertical-align: middle;\n",
       "    }\n",
       "\n",
       "    .dataframe tbody tr th {\n",
       "        vertical-align: top;\n",
       "    }\n",
       "\n",
       "    .dataframe thead th {\n",
       "        text-align: right;\n",
       "    }\n",
       "</style>\n",
       "<table border=\"1\" class=\"dataframe\">\n",
       "  <thead>\n",
       "    <tr style=\"text-align: right;\">\n",
       "      <th></th>\n",
       "      <th>video_name</th>\n",
       "      <th>move_label</th>\n",
       "      <th>tag</th>\n",
       "    </tr>\n",
       "  </thead>\n",
       "  <tbody>\n",
       "    <tr>\n",
       "      <th>0</th>\n",
       "      <td>/home/app/src/data/shot-type-dataset/trailer_v...</td>\n",
       "      <td>Static</td>\n",
       "      <td>CS</td>\n",
       "    </tr>\n",
       "    <tr>\n",
       "      <th>1</th>\n",
       "      <td>/home/app/src/data/shot-type-dataset/trailer_v...</td>\n",
       "      <td>Static</td>\n",
       "      <td>CS</td>\n",
       "    </tr>\n",
       "    <tr>\n",
       "      <th>2</th>\n",
       "      <td>/home/app/src/data/shot-type-dataset/trailer_v...</td>\n",
       "      <td>Static</td>\n",
       "      <td>ECS</td>\n",
       "    </tr>\n",
       "    <tr>\n",
       "      <th>3</th>\n",
       "      <td>/home/app/src/data/shot-type-dataset/trailer_v...</td>\n",
       "      <td>Static</td>\n",
       "      <td>MS</td>\n",
       "    </tr>\n",
       "    <tr>\n",
       "      <th>4</th>\n",
       "      <td>/home/app/src/data/shot-type-dataset/trailer_v...</td>\n",
       "      <td>Static</td>\n",
       "      <td>CS</td>\n",
       "    </tr>\n",
       "    <tr>\n",
       "      <th>...</th>\n",
       "      <td>...</td>\n",
       "      <td>...</td>\n",
       "      <td>...</td>\n",
       "    </tr>\n",
       "    <tr>\n",
       "      <th>26067</th>\n",
       "      <td>/home/app/src/data/shot-type-dataset/trailer_v...</td>\n",
       "      <td>Push</td>\n",
       "      <td>None</td>\n",
       "    </tr>\n",
       "    <tr>\n",
       "      <th>26068</th>\n",
       "      <td>/home/app/src/data/shot-type-dataset/trailer_v...</td>\n",
       "      <td>Push</td>\n",
       "      <td>None</td>\n",
       "    </tr>\n",
       "    <tr>\n",
       "      <th>26069</th>\n",
       "      <td>/home/app/src/data/shot-type-dataset/trailer_v...</td>\n",
       "      <td>Push</td>\n",
       "      <td>None</td>\n",
       "    </tr>\n",
       "    <tr>\n",
       "      <th>26070</th>\n",
       "      <td>/home/app/src/data/shot-type-dataset/trailer_v...</td>\n",
       "      <td>Push</td>\n",
       "      <td>None</td>\n",
       "    </tr>\n",
       "    <tr>\n",
       "      <th>26071</th>\n",
       "      <td>/home/app/src/data/shot-type-dataset/trailer_v...</td>\n",
       "      <td>Push</td>\n",
       "      <td>None</td>\n",
       "    </tr>\n",
       "  </tbody>\n",
       "</table>\n",
       "<p>26072 rows × 3 columns</p>\n",
       "</div>"
      ],
      "text/plain": [
       "                                              video_name move_label   tag\n",
       "0      /home/app/src/data/shot-type-dataset/trailer_v...     Static    CS\n",
       "1      /home/app/src/data/shot-type-dataset/trailer_v...     Static    CS\n",
       "2      /home/app/src/data/shot-type-dataset/trailer_v...     Static   ECS\n",
       "3      /home/app/src/data/shot-type-dataset/trailer_v...     Static    MS\n",
       "4      /home/app/src/data/shot-type-dataset/trailer_v...     Static    CS\n",
       "...                                                  ...        ...   ...\n",
       "26067  /home/app/src/data/shot-type-dataset/trailer_v...       Push  None\n",
       "26068  /home/app/src/data/shot-type-dataset/trailer_v...       Push  None\n",
       "26069  /home/app/src/data/shot-type-dataset/trailer_v...       Push  None\n",
       "26070  /home/app/src/data/shot-type-dataset/trailer_v...       Push  None\n",
       "26071  /home/app/src/data/shot-type-dataset/trailer_v...       Push  None\n",
       "\n",
       "[26072 rows x 3 columns]"
      ]
     },
     "execution_count": 8,
     "metadata": {},
     "output_type": "execute_result"
    }
   ],
   "source": [
    "train_df"
   ]
  },
  {
   "cell_type": "code",
   "execution_count": 9,
   "metadata": {},
   "outputs": [
    {
     "data": {
      "text/html": [
       "<div>\n",
       "<style scoped>\n",
       "    .dataframe tbody tr th:only-of-type {\n",
       "        vertical-align: middle;\n",
       "    }\n",
       "\n",
       "    .dataframe tbody tr th {\n",
       "        vertical-align: top;\n",
       "    }\n",
       "\n",
       "    .dataframe thead th {\n",
       "        text-align: right;\n",
       "    }\n",
       "</style>\n",
       "<table border=\"1\" class=\"dataframe\">\n",
       "  <thead>\n",
       "    <tr style=\"text-align: right;\">\n",
       "      <th></th>\n",
       "      <th>video_name</th>\n",
       "      <th>move_label</th>\n",
       "      <th>tag</th>\n",
       "    </tr>\n",
       "  </thead>\n",
       "  <tbody>\n",
       "    <tr>\n",
       "      <th>25466</th>\n",
       "      <td>/home/app/src/data/shot-type-dataset/trailer_v...</td>\n",
       "      <td>Static</td>\n",
       "      <td>LS</td>\n",
       "    </tr>\n",
       "    <tr>\n",
       "      <th>25467</th>\n",
       "      <td>/home/app/src/data/shot-type-dataset/trailer_v...</td>\n",
       "      <td>Static</td>\n",
       "      <td>MS</td>\n",
       "    </tr>\n",
       "    <tr>\n",
       "      <th>25468</th>\n",
       "      <td>/home/app/src/data/shot-type-dataset/trailer_v...</td>\n",
       "      <td>Static</td>\n",
       "      <td>MS</td>\n",
       "    </tr>\n",
       "    <tr>\n",
       "      <th>25469</th>\n",
       "      <td>/home/app/src/data/shot-type-dataset/trailer_v...</td>\n",
       "      <td>Static</td>\n",
       "      <td>LS</td>\n",
       "    </tr>\n",
       "    <tr>\n",
       "      <th>25470</th>\n",
       "      <td>/home/app/src/data/shot-type-dataset/trailer_v...</td>\n",
       "      <td>Motion</td>\n",
       "      <td>FS</td>\n",
       "    </tr>\n",
       "    <tr>\n",
       "      <th>...</th>\n",
       "      <td>...</td>\n",
       "      <td>...</td>\n",
       "      <td>...</td>\n",
       "    </tr>\n",
       "    <tr>\n",
       "      <th>33648</th>\n",
       "      <td>/home/app/src/data/shot-type-dataset/trailer_v...</td>\n",
       "      <td>Static</td>\n",
       "      <td>FS</td>\n",
       "    </tr>\n",
       "    <tr>\n",
       "      <th>33649</th>\n",
       "      <td>/home/app/src/data/shot-type-dataset/trailer_v...</td>\n",
       "      <td>Motion</td>\n",
       "      <td>MS</td>\n",
       "    </tr>\n",
       "    <tr>\n",
       "      <th>33650</th>\n",
       "      <td>/home/app/src/data/shot-type-dataset/trailer_v...</td>\n",
       "      <td>Motion</td>\n",
       "      <td>FS</td>\n",
       "    </tr>\n",
       "    <tr>\n",
       "      <th>33651</th>\n",
       "      <td>/home/app/src/data/shot-type-dataset/trailer_v...</td>\n",
       "      <td>Static</td>\n",
       "      <td>LS</td>\n",
       "    </tr>\n",
       "    <tr>\n",
       "      <th>33652</th>\n",
       "      <td>/home/app/src/data/shot-type-dataset/trailer_v...</td>\n",
       "      <td>Static</td>\n",
       "      <td>ECS</td>\n",
       "    </tr>\n",
       "  </tbody>\n",
       "</table>\n",
       "<p>8187 rows × 3 columns</p>\n",
       "</div>"
      ],
      "text/plain": [
       "                                              video_name move_label  tag\n",
       "25466  /home/app/src/data/shot-type-dataset/trailer_v...     Static   LS\n",
       "25467  /home/app/src/data/shot-type-dataset/trailer_v...     Static   MS\n",
       "25468  /home/app/src/data/shot-type-dataset/trailer_v...     Static   MS\n",
       "25469  /home/app/src/data/shot-type-dataset/trailer_v...     Static   LS\n",
       "25470  /home/app/src/data/shot-type-dataset/trailer_v...     Motion   FS\n",
       "...                                                  ...        ...  ...\n",
       "33648  /home/app/src/data/shot-type-dataset/trailer_v...     Static   FS\n",
       "33649  /home/app/src/data/shot-type-dataset/trailer_v...     Motion   MS\n",
       "33650  /home/app/src/data/shot-type-dataset/trailer_v...     Motion   FS\n",
       "33651  /home/app/src/data/shot-type-dataset/trailer_v...     Static   LS\n",
       "33652  /home/app/src/data/shot-type-dataset/trailer_v...     Static  ECS\n",
       "\n",
       "[8187 rows x 3 columns]"
      ]
     },
     "execution_count": 9,
     "metadata": {},
     "output_type": "execute_result"
    }
   ],
   "source": [
    "test_df"
   ]
  },
  {
   "cell_type": "code",
   "execution_count": 10,
   "metadata": {},
   "outputs": [],
   "source": [
    "# train_df= pd.read_csv('/home/app/src/data/CSV/dataset_train_v2+v3.csv', )\n",
    "# test_df= pd.read_csv('/home/app/src/data/CSV/dataset_test_v3.csv', )"
   ]
  },
  {
   "cell_type": "markdown",
   "metadata": {},
   "source": [
    "Testing dataset\n"
   ]
  },
  {
   "cell_type": "markdown",
   "metadata": {},
   "source": [
    "Creating TRAIN balanced dataset"
   ]
  },
  {
   "cell_type": "code",
   "execution_count": 11,
   "metadata": {},
   "outputs": [],
   "source": [
    "# train_df_bal_static = train_df[train_df.move_label == 'Static'][0:1300]\n",
    "# train_df_bal_motion = train_df[train_df.move_label == 'Motion'][0:1300]\n",
    "\n",
    "# len_push_tag = train_df.move_label[train_df.move_label == 'Push'].shape[0]\n",
    "# len_pull_tag = train_df.move_label[train_df.move_label == 'Pull'].shape[0]\n",
    "\n",
    "# train_df_bal_push = train_df[train_df.move_label == 'Push'][0:len_push_tag]\n",
    "# train_df_bal_pull = train_df[train_df.move_label == 'Pull'][0:len_pull_tag]\n",
    "\n",
    "# train_df_bal = pd.concat([train_df_bal_static, train_df_bal_motion, train_df_bal_pull, train_df_bal_push], axis=0)"
   ]
  },
  {
   "cell_type": "markdown",
   "metadata": {},
   "source": [
    "Creating TEST balanced dataset"
   ]
  },
  {
   "cell_type": "code",
   "execution_count": 12,
   "metadata": {},
   "outputs": [],
   "source": [
    "# test_df_bal_static = test_df[test_df.move_label == 'Static'][0:350]\n",
    "# test_df_bal_motion = test_df[test_df.move_label == 'Motion'][0:350]\n",
    "\n",
    "# len_push_tag = test_df.move_label[test_df.move_label == 'Push'].shape[0]\n",
    "# len_pull_tag = test_df.move_label[test_df.move_label == 'Pull'].shape[0]\n",
    "\n",
    "# test_df_bal_push = test_df[test_df.move_label == 'Push'][0:len_push_tag]\n",
    "# test_df_bal_pull = test_df[test_df.move_label == 'Pull'][0:len_pull_tag]\n",
    "\n",
    "# test_df_bal = pd.concat([test_df_bal_static, test_df_bal_motion, test_df_bal_pull, test_df_bal_push], axis=0)"
   ]
  },
  {
   "cell_type": "markdown",
   "metadata": {},
   "source": [
    "Renaming move_label as 'TAG'"
   ]
  },
  {
   "cell_type": "code",
   "execution_count": 13,
   "metadata": {},
   "outputs": [],
   "source": [
    "# train_df_bal = train_df_bal.rename(columns ={'tag':'scale_label'})\n",
    "# train_df_bal = train_df_bal.rename(columns ={'move_label':'tag'})\n",
    "# train_df_bal = train_df_bal.reset_index(drop = True)\n",
    "\n",
    "# test_df_bal = test_df_bal.rename(columns ={'tag':'scale_label'})\n",
    "# test_df_bal = test_df_bal.rename(columns ={'move_label':'tag'})\n",
    "# test_df_bal = test_df_bal.reset_index(drop = True)"
   ]
  },
  {
   "cell_type": "code",
   "execution_count": 14,
   "metadata": {},
   "outputs": [],
   "source": [
    "# train_df_bal.to_csv('/home/app/src/data/CSV/train_df_bal.csv', index = False)\n",
    "# test_df_bal.to_csv('/home/app/src/data/CSV/test_df_bal.csv', index = False)"
   ]
  },
  {
   "cell_type": "code",
   "execution_count": 15,
   "metadata": {},
   "outputs": [],
   "source": [
    "train_df_bal= pd.read_csv('/home/app/src/data/CSV/train_df_bal.csv')\n",
    "test_df_bal= pd.read_csv('/home/app/src/data/CSV/test_df_bal.csv')"
   ]
  },
  {
   "cell_type": "markdown",
   "metadata": {},
   "source": [
    "Checking datasets"
   ]
  },
  {
   "cell_type": "markdown",
   "metadata": {},
   "source": [
    "1. video_name path check"
   ]
  },
  {
   "cell_type": "code",
   "execution_count": 16,
   "metadata": {},
   "outputs": [
    {
     "data": {
      "text/html": [
       "<div>\n",
       "<style scoped>\n",
       "    .dataframe tbody tr th:only-of-type {\n",
       "        vertical-align: middle;\n",
       "    }\n",
       "\n",
       "    .dataframe tbody tr th {\n",
       "        vertical-align: top;\n",
       "    }\n",
       "\n",
       "    .dataframe thead th {\n",
       "        text-align: right;\n",
       "    }\n",
       "</style>\n",
       "<table border=\"1\" class=\"dataframe\">\n",
       "  <thead>\n",
       "    <tr style=\"text-align: right;\">\n",
       "      <th></th>\n",
       "      <th>video_name</th>\n",
       "      <th>tag</th>\n",
       "      <th>scale_label</th>\n",
       "    </tr>\n",
       "  </thead>\n",
       "  <tbody>\n",
       "    <tr>\n",
       "      <th>0</th>\n",
       "      <td>/home/app/src/data/shot-type-dataset/trailer_v...</td>\n",
       "      <td>Static</td>\n",
       "      <td>CS</td>\n",
       "    </tr>\n",
       "    <tr>\n",
       "      <th>1</th>\n",
       "      <td>/home/app/src/data/shot-type-dataset/trailer_v...</td>\n",
       "      <td>Static</td>\n",
       "      <td>CS</td>\n",
       "    </tr>\n",
       "    <tr>\n",
       "      <th>2</th>\n",
       "      <td>/home/app/src/data/shot-type-dataset/trailer_v...</td>\n",
       "      <td>Static</td>\n",
       "      <td>ECS</td>\n",
       "    </tr>\n",
       "    <tr>\n",
       "      <th>3</th>\n",
       "      <td>/home/app/src/data/shot-type-dataset/trailer_v...</td>\n",
       "      <td>Static</td>\n",
       "      <td>MS</td>\n",
       "    </tr>\n",
       "    <tr>\n",
       "      <th>4</th>\n",
       "      <td>/home/app/src/data/shot-type-dataset/trailer_v...</td>\n",
       "      <td>Static</td>\n",
       "      <td>CS</td>\n",
       "    </tr>\n",
       "    <tr>\n",
       "      <th>...</th>\n",
       "      <td>...</td>\n",
       "      <td>...</td>\n",
       "      <td>...</td>\n",
       "    </tr>\n",
       "    <tr>\n",
       "      <th>4221</th>\n",
       "      <td>/home/app/src/data/shot-type-dataset/trailer_v...</td>\n",
       "      <td>Push</td>\n",
       "      <td>None</td>\n",
       "    </tr>\n",
       "    <tr>\n",
       "      <th>4222</th>\n",
       "      <td>/home/app/src/data/shot-type-dataset/trailer_v...</td>\n",
       "      <td>Push</td>\n",
       "      <td>None</td>\n",
       "    </tr>\n",
       "    <tr>\n",
       "      <th>4223</th>\n",
       "      <td>/home/app/src/data/shot-type-dataset/trailer_v...</td>\n",
       "      <td>Push</td>\n",
       "      <td>None</td>\n",
       "    </tr>\n",
       "    <tr>\n",
       "      <th>4224</th>\n",
       "      <td>/home/app/src/data/shot-type-dataset/trailer_v...</td>\n",
       "      <td>Push</td>\n",
       "      <td>None</td>\n",
       "    </tr>\n",
       "    <tr>\n",
       "      <th>4225</th>\n",
       "      <td>/home/app/src/data/shot-type-dataset/trailer_v...</td>\n",
       "      <td>Push</td>\n",
       "      <td>None</td>\n",
       "    </tr>\n",
       "  </tbody>\n",
       "</table>\n",
       "<p>4226 rows × 3 columns</p>\n",
       "</div>"
      ],
      "text/plain": [
       "                                             video_name     tag scale_label\n",
       "0     /home/app/src/data/shot-type-dataset/trailer_v...  Static          CS\n",
       "1     /home/app/src/data/shot-type-dataset/trailer_v...  Static          CS\n",
       "2     /home/app/src/data/shot-type-dataset/trailer_v...  Static         ECS\n",
       "3     /home/app/src/data/shot-type-dataset/trailer_v...  Static          MS\n",
       "4     /home/app/src/data/shot-type-dataset/trailer_v...  Static          CS\n",
       "...                                                 ...     ...         ...\n",
       "4221  /home/app/src/data/shot-type-dataset/trailer_v...    Push        None\n",
       "4222  /home/app/src/data/shot-type-dataset/trailer_v...    Push        None\n",
       "4223  /home/app/src/data/shot-type-dataset/trailer_v...    Push        None\n",
       "4224  /home/app/src/data/shot-type-dataset/trailer_v...    Push        None\n",
       "4225  /home/app/src/data/shot-type-dataset/trailer_v...    Push        None\n",
       "\n",
       "[4226 rows x 3 columns]"
      ]
     },
     "execution_count": 16,
     "metadata": {},
     "output_type": "execute_result"
    }
   ],
   "source": [
    "train_df_bal"
   ]
  },
  {
   "cell_type": "markdown",
   "metadata": {},
   "source": [
    "Train"
   ]
  },
  {
   "cell_type": "code",
   "execution_count": 17,
   "metadata": {},
   "outputs": [
    {
     "data": {
      "text/plain": [
       "'Push'"
      ]
     },
     "execution_count": 17,
     "metadata": {},
     "output_type": "execute_result"
    }
   ],
   "source": [
    "num= 3729\n",
    "tag = train_df_bal.tag[num]\n",
    "tag"
   ]
  },
  {
   "cell_type": "code",
   "execution_count": 18,
   "metadata": {},
   "outputs": [
    {
     "data": {
      "application/vnd.jupyter.widget-view+json": {
       "model_id": "ae363d29837d4945a0519bcd32f5adf4",
       "version_major": 2,
       "version_minor": 0
      },
      "text/plain": [
       "Video(value=b'\\x00\\x00\\x00 ftypisom\\x00\\x00\\x02\\x00isomiso2avc1mp41\\x00\\x00\\x00\\x08free...')"
      ]
     },
     "execution_count": 18,
     "metadata": {},
     "output_type": "execute_result"
    }
   ],
   "source": [
    "\n",
    "\n",
    "addr = train_df_bal.video_name[num]\n",
    "new_ = Video.from_file(addr,play=True)\n",
    "new_"
   ]
  },
  {
   "cell_type": "code",
   "execution_count": null,
   "metadata": {},
   "outputs": [],
   "source": []
  },
  {
   "cell_type": "markdown",
   "metadata": {},
   "source": [
    "Test"
   ]
  },
  {
   "cell_type": "code",
   "execution_count": 79,
   "metadata": {},
   "outputs": [
    {
     "data": {
      "text/plain": [
       "'Push'"
      ]
     },
     "execution_count": 79,
     "metadata": {},
     "output_type": "execute_result"
    }
   ],
   "source": [
    "num= 999\n",
    "tag = test_df_bal.tag[num]\n",
    "tag"
   ]
  },
  {
   "cell_type": "code",
   "execution_count": 80,
   "metadata": {},
   "outputs": [
    {
     "data": {
      "application/vnd.jupyter.widget-view+json": {
       "model_id": "c993f2f8df6445498f966e5683d2ad99",
       "version_major": 2,
       "version_minor": 0
      },
      "text/plain": [
       "Video(value=b'\\x00\\x00\\x00 ftypisom\\x00\\x00\\x02\\x00isomiso2avc1mp41\\x00\\x00\\x00\\x08free...')"
      ]
     },
     "execution_count": 80,
     "metadata": {},
     "output_type": "execute_result"
    }
   ],
   "source": [
    "\n",
    "addr = test_df_bal.video_name[num]\n",
    "new_ = Video.from_file(addr,play=True)\n",
    "new_"
   ]
  }
 ],
 "metadata": {
  "kernelspec": {
   "display_name": "Python 3.8.10 64-bit",
   "language": "python",
   "name": "python3"
  },
  "language_info": {
   "codemirror_mode": {
    "name": "ipython",
    "version": 3
   },
   "file_extension": ".py",
   "mimetype": "text/x-python",
   "name": "python",
   "nbconvert_exporter": "python",
   "pygments_lexer": "ipython3",
   "version": "3.8.10"
  },
  "orig_nbformat": 4,
  "vscode": {
   "interpreter": {
    "hash": "31f2aee4e71d21fbe5cf8b01ff0e069b9275f58929596ceb00d14d90e3e16cd6"
   }
  }
 },
 "nbformat": 4,
 "nbformat_minor": 2
}
