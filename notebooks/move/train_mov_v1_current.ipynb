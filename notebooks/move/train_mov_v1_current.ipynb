{
 "cells": [
  {
   "cell_type": "code",
   "execution_count": 70,
   "metadata": {},
   "outputs": [],
   "source": [
    "#from tensorflow_docs.vis import embed\n",
    "from tensorflow import keras\n",
    "#from imutils import paths\n",
    "\n",
    "import seaborn as sns\n",
    "import tensorflow as tf\n",
    "import pandas as pd\n",
    "import numpy as np\n",
    "#import imageio\n",
    "import cv2\n",
    "import os\n",
    "import json\n",
    "from ipywidgets import Video, Image\n",
    "\n",
    "from sklearn.tree import DecisionTreeRegressor\n",
    "from sklearn.linear_model import LogisticRegression\n",
    "from sklearn.metrics import precision_recall_fscore_support\n",
    "from sklearn.metrics import accuracy_score\n",
    "from sklearn.metrics import classification_report\n",
    "from sklearn.metrics import confusion_matrix"
   ]
  },
  {
   "cell_type": "code",
   "execution_count": 71,
   "metadata": {},
   "outputs": [],
   "source": [
    "#Prevent tensorflow to allocate the entire GPU\n",
    "#https://www.tensorflow.org/api_docs/python/tf/config/experimental/set_memory_growth\n",
    "physical_devices = tf.config.list_physical_devices(\"GPU\")\n",
    "try:\n",
    "    tf.config.experimental.set_memory_growth(physical_devices[0], True)\n",
    "except:\n",
    "    pass"
   ]
  },
  {
   "cell_type": "code",
   "execution_count": 72,
   "metadata": {},
   "outputs": [],
   "source": [
    "# train_df= pd.read_csv('/home/app/src/data/CSV/dataset_train_v2+v3.csv', )\n",
    "# test_df= pd.read_csv('/home/app/src/data/CSV/dataset_test_v3.csv', )"
   ]
  },
  {
   "cell_type": "code",
   "execution_count": 73,
   "metadata": {},
   "outputs": [],
   "source": [
    "train_df= pd.read_csv('/home/app/src/CSV/dataset_train_v2+v3_with_rep_shuffle.csv')\n",
    "test_df= pd.read_csv('/home/app/src/CSV/dataset_test_v2+v3_with_rep_shuffle.csv')"
   ]
  },
  {
   "cell_type": "code",
   "execution_count": 74,
   "metadata": {},
   "outputs": [],
   "source": [
    "# train_df = train_df.drop(columns =['tag','Unnamed: 0'])\n",
    "# train_df = train_df.rename(columns ={'move_label':'tag'})"
   ]
  },
  {
   "cell_type": "code",
   "execution_count": 75,
   "metadata": {},
   "outputs": [
    {
     "data": {
      "text/html": [
       "<div>\n",
       "<style scoped>\n",
       "    .dataframe tbody tr th:only-of-type {\n",
       "        vertical-align: middle;\n",
       "    }\n",
       "\n",
       "    .dataframe tbody tr th {\n",
       "        vertical-align: top;\n",
       "    }\n",
       "\n",
       "    .dataframe thead th {\n",
       "        text-align: right;\n",
       "    }\n",
       "</style>\n",
       "<table border=\"1\" class=\"dataframe\">\n",
       "  <thead>\n",
       "    <tr style=\"text-align: right;\">\n",
       "      <th></th>\n",
       "      <th>video_name</th>\n",
       "      <th>tag</th>\n",
       "    </tr>\n",
       "  </thead>\n",
       "  <tbody>\n",
       "    <tr>\n",
       "      <th>0</th>\n",
       "      <td>/home/app/src/data/shot-type-dataset/trailer_v...</td>\n",
       "      <td>Pull</td>\n",
       "    </tr>\n",
       "    <tr>\n",
       "      <th>1</th>\n",
       "      <td>/home/app/src/data/shot-type-dataset/trailer_v...</td>\n",
       "      <td>Pull</td>\n",
       "    </tr>\n",
       "    <tr>\n",
       "      <th>2</th>\n",
       "      <td>/home/app/src/data/shot-type-dataset/trailer_v...</td>\n",
       "      <td>Push</td>\n",
       "    </tr>\n",
       "    <tr>\n",
       "      <th>3</th>\n",
       "      <td>/home/app/src/data/shot-type-dataset/trailer_v...</td>\n",
       "      <td>Static</td>\n",
       "    </tr>\n",
       "    <tr>\n",
       "      <th>4</th>\n",
       "      <td>/home/app/src/data/shot-type-dataset/trailer_v...</td>\n",
       "      <td>Push</td>\n",
       "    </tr>\n",
       "    <tr>\n",
       "      <th>...</th>\n",
       "      <td>...</td>\n",
       "      <td>...</td>\n",
       "    </tr>\n",
       "    <tr>\n",
       "      <th>1185</th>\n",
       "      <td>/home/app/src/data/shot-type-dataset/trailer_v...</td>\n",
       "      <td>Static</td>\n",
       "    </tr>\n",
       "    <tr>\n",
       "      <th>1186</th>\n",
       "      <td>/home/app/src/data/shot-type-dataset/trailer_v...</td>\n",
       "      <td>Push</td>\n",
       "    </tr>\n",
       "    <tr>\n",
       "      <th>1187</th>\n",
       "      <td>/home/app/src/data/shot-type-dataset/trailer_v...</td>\n",
       "      <td>Pull</td>\n",
       "    </tr>\n",
       "    <tr>\n",
       "      <th>1188</th>\n",
       "      <td>/home/app/src/data/shot-type-dataset/trailer_v...</td>\n",
       "      <td>Push</td>\n",
       "    </tr>\n",
       "    <tr>\n",
       "      <th>1189</th>\n",
       "      <td>/home/app/src/data/shot-type-dataset/trailer_v...</td>\n",
       "      <td>Static</td>\n",
       "    </tr>\n",
       "  </tbody>\n",
       "</table>\n",
       "<p>1190 rows × 2 columns</p>\n",
       "</div>"
      ],
      "text/plain": [
       "                                             video_name     tag\n",
       "0     /home/app/src/data/shot-type-dataset/trailer_v...    Pull\n",
       "1     /home/app/src/data/shot-type-dataset/trailer_v...    Pull\n",
       "2     /home/app/src/data/shot-type-dataset/trailer_v...    Push\n",
       "3     /home/app/src/data/shot-type-dataset/trailer_v...  Static\n",
       "4     /home/app/src/data/shot-type-dataset/trailer_v...    Push\n",
       "...                                                 ...     ...\n",
       "1185  /home/app/src/data/shot-type-dataset/trailer_v...  Static\n",
       "1186  /home/app/src/data/shot-type-dataset/trailer_v...    Push\n",
       "1187  /home/app/src/data/shot-type-dataset/trailer_v...    Pull\n",
       "1188  /home/app/src/data/shot-type-dataset/trailer_v...    Push\n",
       "1189  /home/app/src/data/shot-type-dataset/trailer_v...  Static\n",
       "\n",
       "[1190 rows x 2 columns]"
      ]
     },
     "execution_count": 75,
     "metadata": {},
     "output_type": "execute_result"
    }
   ],
   "source": [
    "train_df"
   ]
  },
  {
   "cell_type": "code",
   "execution_count": 76,
   "metadata": {},
   "outputs": [],
   "source": [
    "# test_df = test_df.drop(columns =['tag','Unnamed: 0'])\n",
    "# test_df = test_df.rename(columns ={'move_label':'tag'})"
   ]
  },
  {
   "cell_type": "code",
   "execution_count": 77,
   "metadata": {},
   "outputs": [
    {
     "data": {
      "text/html": [
       "<div>\n",
       "<style scoped>\n",
       "    .dataframe tbody tr th:only-of-type {\n",
       "        vertical-align: middle;\n",
       "    }\n",
       "\n",
       "    .dataframe tbody tr th {\n",
       "        vertical-align: top;\n",
       "    }\n",
       "\n",
       "    .dataframe thead th {\n",
       "        text-align: right;\n",
       "    }\n",
       "</style>\n",
       "<table border=\"1\" class=\"dataframe\">\n",
       "  <thead>\n",
       "    <tr style=\"text-align: right;\">\n",
       "      <th></th>\n",
       "      <th>video_name</th>\n",
       "      <th>tag</th>\n",
       "    </tr>\n",
       "  </thead>\n",
       "  <tbody>\n",
       "    <tr>\n",
       "      <th>0</th>\n",
       "      <td>/home/app/src/data/shot-type-dataset/trailer_v...</td>\n",
       "      <td>Static</td>\n",
       "    </tr>\n",
       "    <tr>\n",
       "      <th>1</th>\n",
       "      <td>/home/app/src/data/shot-type-dataset/trailer_v...</td>\n",
       "      <td>Pull</td>\n",
       "    </tr>\n",
       "    <tr>\n",
       "      <th>2</th>\n",
       "      <td>/home/app/src/data/shot-type-dataset/trailer_v...</td>\n",
       "      <td>Motion</td>\n",
       "    </tr>\n",
       "    <tr>\n",
       "      <th>3</th>\n",
       "      <td>/home/app/src/data/shot-type-dataset/trailer_v...</td>\n",
       "      <td>Motion</td>\n",
       "    </tr>\n",
       "    <tr>\n",
       "      <th>4</th>\n",
       "      <td>/home/app/src/data/shot-type-dataset/trailer_v...</td>\n",
       "      <td>Motion</td>\n",
       "    </tr>\n",
       "    <tr>\n",
       "      <th>...</th>\n",
       "      <td>...</td>\n",
       "      <td>...</td>\n",
       "    </tr>\n",
       "    <tr>\n",
       "      <th>315</th>\n",
       "      <td>/home/app/src/data/shot-type-dataset/trailer_v...</td>\n",
       "      <td>Motion</td>\n",
       "    </tr>\n",
       "    <tr>\n",
       "      <th>316</th>\n",
       "      <td>/home/app/src/data/shot-type-dataset/trailer_v...</td>\n",
       "      <td>Static</td>\n",
       "    </tr>\n",
       "    <tr>\n",
       "      <th>317</th>\n",
       "      <td>/home/app/src/data/shot-type-dataset/trailer_v...</td>\n",
       "      <td>Push</td>\n",
       "    </tr>\n",
       "    <tr>\n",
       "      <th>318</th>\n",
       "      <td>/home/app/src/data/shot-type-dataset/trailer_v...</td>\n",
       "      <td>Push</td>\n",
       "    </tr>\n",
       "    <tr>\n",
       "      <th>319</th>\n",
       "      <td>/home/app/src/data/shot-type-dataset/trailer_v...</td>\n",
       "      <td>Static</td>\n",
       "    </tr>\n",
       "  </tbody>\n",
       "</table>\n",
       "<p>320 rows × 2 columns</p>\n",
       "</div>"
      ],
      "text/plain": [
       "                                            video_name     tag\n",
       "0    /home/app/src/data/shot-type-dataset/trailer_v...  Static\n",
       "1    /home/app/src/data/shot-type-dataset/trailer_v...    Pull\n",
       "2    /home/app/src/data/shot-type-dataset/trailer_v...  Motion\n",
       "3    /home/app/src/data/shot-type-dataset/trailer_v...  Motion\n",
       "4    /home/app/src/data/shot-type-dataset/trailer_v...  Motion\n",
       "..                                                 ...     ...\n",
       "315  /home/app/src/data/shot-type-dataset/trailer_v...  Motion\n",
       "316  /home/app/src/data/shot-type-dataset/trailer_v...  Static\n",
       "317  /home/app/src/data/shot-type-dataset/trailer_v...    Push\n",
       "318  /home/app/src/data/shot-type-dataset/trailer_v...    Push\n",
       "319  /home/app/src/data/shot-type-dataset/trailer_v...  Static\n",
       "\n",
       "[320 rows x 2 columns]"
      ]
     },
     "execution_count": 77,
     "metadata": {},
     "output_type": "execute_result"
    }
   ],
   "source": [
    "test_df"
   ]
  },
  {
   "cell_type": "markdown",
   "metadata": {},
   "source": [
    "Checking correct video tagging with original JSON"
   ]
  },
  {
   "cell_type": "code",
   "execution_count": 78,
   "metadata": {},
   "outputs": [],
   "source": [
    "# # reading the JSON data using json.load()\n",
    "# json_path = '/home/app/src/data/shot-type-dataset/v1_split_trailer.json'\n",
    "# json_v2_path = '/home/app/src/data/shot-type-dataset/v2_full_trailer.json'\n",
    "\n",
    "# with open(json_path) as train_file:\n",
    "#     dict_v1= json.load(train_file)\n",
    "# with open(json_v2_path) as v2_file:\n",
    "#     dict_v2= json.load(v2_file)\n",
    "\n",
    "\n",
    "# def tag_ckecker (df, json_dict1, json_dict2, df_name_to_check):\n",
    "#     tag_chek_list = []\n",
    "\n",
    "#     for i in range(len(df.index)):\n",
    "#         movie = df['video_name'][i]\n",
    "#         df_tag = df['tag'][df['video_name'] == movie][i]\n",
    "#         find_char_st = movie.find('_', 55,60)\n",
    "#         find_char_end = movie.find('_', 65,70)\n",
    "#         movie_key = movie[find_char_st+1:find_char_end]\n",
    "#         trailer_key =  movie[find_char_end+1:find_char_end+5]\n",
    "#         try:\n",
    "#             dict_tag = json_dict1[df_name_to_check][movie_key][trailer_key]['movement']['label']\n",
    "#         except KeyError:\n",
    "#             try:\n",
    "#                 dict_tag = json_dict1['val'][movie_key][trailer_key]['movement']['label']\n",
    "#                 if dict_tag == df_tag:\n",
    "#                     pass\n",
    "#                 else:\n",
    "#                     tag_chek_list.append(movie)\n",
    "#             except KeyError:\n",
    "#                 dict_tag = json_dict2[movie_key][trailer_key]['movement']['label']\n",
    "#                 if dict_tag == df_tag:\n",
    "#                     pass\n",
    "#                 else:\n",
    "#                     tag_chek_list.append(movie)\n",
    "\n",
    "            \n",
    "\n",
    "#     if len(tag_chek_list) == 0:\n",
    "#         print(f'tag check {df_name_to_check} OK')\n",
    "#     else: print (tag_chek_list)\n",
    "\n",
    "\n",
    "# tag_ckecker(train_df, dict_v1, dict_v2, 'train')\n",
    "# tag_ckecker(test_df, dict_v1, dict_v2, 'test')\n"
   ]
  },
  {
   "cell_type": "code",
   "execution_count": 79,
   "metadata": {},
   "outputs": [
    {
     "name": "stdout",
     "output_type": "stream",
     "text": [
      "Train value counts:\n",
      " Static    320\n",
      "Motion    320\n",
      "Push      303\n",
      "Pull      247\n",
      "Name: tag, dtype: int64 \n",
      "\n",
      "Test value counts:\n",
      " Static    80\n",
      "Pull      80\n",
      "Motion    80\n",
      "Push      80\n",
      "Name: tag, dtype: int64 \n",
      "\n"
     ]
    }
   ],
   "source": [
    "print(f'Train value counts:' '\\n',train_df['tag'].value_counts(), '\\n')\n",
    "print(f'Test value counts:' '\\n',test_df['tag'].value_counts(), '\\n')\n"
   ]
  },
  {
   "cell_type": "markdown",
   "metadata": {},
   "source": [
    "Define hyperparameters"
   ]
  },
  {
   "cell_type": "code",
   "execution_count": 80,
   "metadata": {},
   "outputs": [],
   "source": [
    "IMG_SIZE = 224\n",
    "BATCH_SIZE = 64\n",
    "EPOCHS = 20\n",
    "\n",
    "MAX_SEQ_LENGTH = 40\n",
    "NUM_FEATURES = 2048"
   ]
  },
  {
   "cell_type": "markdown",
   "metadata": {},
   "source": [
    "Loading frames and working on frame's size"
   ]
  },
  {
   "cell_type": "code",
   "execution_count": 81,
   "metadata": {},
   "outputs": [],
   "source": [
    "def crop_center_square(frame):\n",
    "    y, x = frame.shape[0:2]\n",
    "    min_dim = min(y, x)\n",
    "    start_x = (x // 2) - (min_dim // 2)\n",
    "    start_y = (y // 2) - (min_dim // 2)\n",
    "    return frame[start_y : start_y + min_dim, start_x : start_x + min_dim]\n",
    "\n",
    "\n",
    "def load_video(path, max_frames=0, resize=(IMG_SIZE, IMG_SIZE)):\n",
    "    cap = cv2.VideoCapture(path)\n",
    "    frames = []\n",
    "    try:\n",
    "        while True:\n",
    "            ret, frame = cap.read()\n",
    "            if not ret:\n",
    "                break\n",
    "            frame = crop_center_square(frame)\n",
    "            frame = cv2.resize(frame, resize)\n",
    "            frame = frame[:, :, [2, 1, 0]]\n",
    "            frames.append(frame)\n",
    "\n",
    "            if len(frames) == max_frames:\n",
    "                break\n",
    "    finally:\n",
    "        cap.release()\n",
    "    return np.array(frames)"
   ]
  },
  {
   "cell_type": "markdown",
   "metadata": {},
   "source": [
    "Feature extractor"
   ]
  },
  {
   "cell_type": "code",
   "execution_count": 82,
   "metadata": {},
   "outputs": [
    {
     "name": "stdout",
     "output_type": "stream",
     "text": [
      "Model: \"feature_extractor\"\n",
      "_________________________________________________________________\n",
      " Layer (type)                Output Shape              Param #   \n",
      "=================================================================\n",
      " input_8 (InputLayer)        [(None, 224, 224, 3)]     0         \n",
      "                                                                 \n",
      " tf.math.truediv_3 (TFOpLamb  (None, 224, 224, 3)      0         \n",
      " da)                                                             \n",
      "                                                                 \n",
      " tf.math.subtract_3 (TFOpLam  (None, 224, 224, 3)      0         \n",
      " bda)                                                            \n",
      "                                                                 \n",
      " inception_v3 (Functional)   (None, 2048)              21802784  \n",
      "                                                                 \n",
      "=================================================================\n",
      "Total params: 21,802,784\n",
      "Trainable params: 21,768,352\n",
      "Non-trainable params: 34,432\n",
      "_________________________________________________________________\n",
      "None\n"
     ]
    }
   ],
   "source": [
    "def build_feature_extractor():\n",
    "    feature_extractor = keras.applications.InceptionV3(\n",
    "        weights=\"imagenet\",\n",
    "        include_top=False,\n",
    "        pooling=\"avg\",\n",
    "        input_shape=(IMG_SIZE, IMG_SIZE, 3),\n",
    "    )\n",
    "    preprocess_input = keras.applications.inception_v3.preprocess_input\n",
    "\n",
    "    inputs = keras.Input((IMG_SIZE, IMG_SIZE, 3))\n",
    "    preprocessed = preprocess_input(inputs)\n",
    "\n",
    "    outputs = feature_extractor(preprocessed)\n",
    "    return keras.Model(inputs, outputs, name=\"feature_extractor\")\n",
    "\n",
    "\n",
    "feature_extractor = build_feature_extractor()\n",
    "print(feature_extractor.summary())"
   ]
  },
  {
   "cell_type": "markdown",
   "metadata": {},
   "source": [
    "Working on labels"
   ]
  },
  {
   "cell_type": "code",
   "execution_count": 83,
   "metadata": {},
   "outputs": [
    {
     "name": "stdout",
     "output_type": "stream",
     "text": [
      "['Motion', 'Pull', 'Push', 'Static']\n"
     ]
    }
   ],
   "source": [
    "label_processor = keras.layers.StringLookup(\n",
    "    num_oov_indices=0, vocabulary=np.unique(train_df[\"tag\"])\n",
    ")\n",
    "print(label_processor.get_vocabulary())"
   ]
  },
  {
   "cell_type": "markdown",
   "metadata": {},
   "source": [
    "Preparing videos"
   ]
  },
  {
   "cell_type": "code",
   "execution_count": 84,
   "metadata": {},
   "outputs": [],
   "source": [
    "def prepare_all_videos(df, root_dir):\n",
    "    num_samples = len(df)\n",
    "    video_paths = df[\"video_name\"].values.tolist()\n",
    "    labels = df[\"tag\"].values\n",
    "    labels = label_processor(labels[..., None]).numpy()\n",
    "\n",
    "    # `frame_masks` and `frame_features` are what we will feed to our sequence model.\n",
    "    # `frame_masks` will contain a bunch of booleans denoting if a timestep is\n",
    "    # masked with padding or not.\n",
    "    frame_masks = np.zeros(shape=(num_samples, MAX_SEQ_LENGTH), dtype=\"bool\")\n",
    "    frame_features = np.zeros(\n",
    "        shape=(num_samples, MAX_SEQ_LENGTH, NUM_FEATURES), dtype=\"float32\"\n",
    "    )\n",
    "\n",
    "    # For each video.\n",
    "    for idx, path in enumerate(video_paths):\n",
    "        # Gather all its frames and add a batch dimension.\n",
    "        frames = load_video(os.path.join(root_dir, path))\n",
    "        frames = frames[None, ...]\n",
    "\n",
    "        # Initialize placeholders to store the masks and features of the current video.\n",
    "        temp_frame_mask = np.zeros(shape=(1, MAX_SEQ_LENGTH,), dtype=\"bool\")\n",
    "        temp_frame_features = np.zeros(\n",
    "            shape=(1, MAX_SEQ_LENGTH, NUM_FEATURES), dtype=\"float32\"\n",
    "        )\n",
    "\n",
    "        # Extract features from the frames of the current video.\n",
    "        for i, batch in enumerate(frames):\n",
    "            video_length = batch.shape[0]\n",
    "            length = min(MAX_SEQ_LENGTH, video_length)\n",
    "            for j in range(length):\n",
    "                temp_frame_features[i, j, :] = feature_extractor.predict(\n",
    "                    batch[None, j, :]\n",
    "                )\n",
    "            temp_frame_mask[i, :length] = 1  # 1 = not masked, 0 = masked\n",
    "\n",
    "        frame_features[idx,] = temp_frame_features.squeeze()\n",
    "        frame_masks[idx,] = temp_frame_mask.squeeze()\n",
    "        print(f' {root_dir}_video {idx}/{len(video_paths)} done')\n",
    "\n",
    "    return (frame_features, frame_masks), labels\n",
    "\n",
    "\n",
    "#train_data, train_labels = prepare_all_videos(train_df, \"train\")\n",
    "#print(f\"Frame features in train set: {train_data[0].shape}\")\n"
   ]
  },
  {
   "cell_type": "markdown",
   "metadata": {},
   "source": [
    "Saving TRAIN embeddings"
   ]
  },
  {
   "cell_type": "code",
   "execution_count": 85,
   "metadata": {},
   "outputs": [],
   "source": [
    "# path_save_embeddings= '/home/app/src/embeddings/emb_v2+v3_with_rep_shuffle_40F/'\n",
    "\n",
    "# # Train\n",
    "# train_data_embedding_0 = np.save(path_save_embeddings + 'train_data_embedding_0.npy', train_data[0])\n",
    "# train_data_embedding_1 = np.save(path_save_embeddings + 'train_data_embedding_1.npy', train_data[1])\n",
    "# train_labels_embedding = np.save(path_save_embeddings + 'train_labels_embedding.npy', train_labels)"
   ]
  },
  {
   "cell_type": "markdown",
   "metadata": {},
   "source": [
    "Preparing TEST videos"
   ]
  },
  {
   "cell_type": "code",
   "execution_count": 86,
   "metadata": {},
   "outputs": [],
   "source": [
    "# test_data, test_labels = prepare_all_videos(test_df, \"test\")\n",
    "# print(f\"Frame masks in test set: {test_data[1].shape}\")"
   ]
  },
  {
   "cell_type": "markdown",
   "metadata": {},
   "source": [
    "Saving TEST embeddings"
   ]
  },
  {
   "cell_type": "code",
   "execution_count": 87,
   "metadata": {},
   "outputs": [],
   "source": [
    "# #Test\n",
    "# test_data_embedding_0 = np.save(path_save_embeddings + 'test_data_embedding_0.npy', test_data[0])\n",
    "# test_data_embedding_1 = np.save(path_save_embeddings + 'test_data_embedding_1.npy', test_data[1])\n",
    "# test_labels_embedding = np.save(path_save_embeddings + 'test_labels_embedding.npy', test_labels)"
   ]
  },
  {
   "cell_type": "markdown",
   "metadata": {},
   "source": [
    "Loading embeddings"
   ]
  },
  {
   "cell_type": "code",
   "execution_count": 89,
   "metadata": {},
   "outputs": [],
   "source": [
    "path_load_embeddings= '/home/app/src/embeddings/move_shot/emb_v2+v3_with_rep_shuffle_40F/'\n",
    "\n",
    "#Train\n",
    "train_data_0 = np.load(path_load_embeddings + 'train_data_embedding_0.npy')\n",
    "train_data_1 = np.load(path_load_embeddings + 'train_data_embedding_1.npy')\n",
    "train_data=(train_data_0, train_data_1)\n",
    "train_labels = np.load(path_load_embeddings + 'train_labels_embedding.npy')\n",
    "\n",
    "#Test\n",
    "test_data_0 = np.load(path_load_embeddings + 'test_data_embedding_0.npy')\n",
    "test_data_1 = np.load(path_load_embeddings + 'test_data_embedding_1.npy')\n",
    "test_data=(test_data_0, test_data_1)\n",
    "test_labels = np.load(path_load_embeddings + 'test_labels_embedding.npy')"
   ]
  },
  {
   "cell_type": "code",
   "execution_count": 90,
   "metadata": {},
   "outputs": [
    {
     "data": {
      "text/plain": [
       "(1190, 40, 2048)"
      ]
     },
     "execution_count": 90,
     "metadata": {},
     "output_type": "execute_result"
    }
   ],
   "source": [
    "train_data_0.shape"
   ]
  },
  {
   "cell_type": "code",
   "execution_count": 91,
   "metadata": {},
   "outputs": [
    {
     "data": {
      "text/plain": [
       "(320, 40, 2048)"
      ]
     },
     "execution_count": 91,
     "metadata": {},
     "output_type": "execute_result"
    }
   ],
   "source": [
    "test_data_0.shape"
   ]
  },
  {
   "cell_type": "code",
   "execution_count": 92,
   "metadata": {},
   "outputs": [],
   "source": [
    "# path_load_labels= '/home/app/src/embeddings/aa/'\n",
    "# train_labels = np.load(path_load_labels + 'train_labels_embedding.npy')\n",
    "# test_labels = np.load(path_load_labels + 'test_labels_embedding.npy')\n"
   ]
  },
  {
   "cell_type": "markdown",
   "metadata": {},
   "source": [
    "Sequence model (RNN)"
   ]
  },
  {
   "cell_type": "code",
   "execution_count": 106,
   "metadata": {},
   "outputs": [
    {
     "name": "stdout",
     "output_type": "stream",
     "text": [
      "Epoch 1/20\n",
      "13/14 [==========================>...] - ETA: 0s - loss: 1.4311 - accuracy: 0.2452\n",
      "Epoch 1: val_loss improved from inf to 1.41897, saving model to /home/app/src/experiments/inceptionv3_GRU/exp_006/model.weights_exp_005.h5\n",
      "14/14 [==============================] - 12s 268ms/step - loss: 1.4311 - accuracy: 0.2449 - val_loss: 1.4190 - val_accuracy: 0.2941 - lr: 0.0010\n",
      "Epoch 2/20\n",
      "13/14 [==========================>...] - ETA: 0s - loss: 1.4174 - accuracy: 0.2668\n",
      "Epoch 2: val_loss improved from 1.41897 to 1.41391, saving model to /home/app/src/experiments/inceptionv3_GRU/exp_006/model.weights_exp_005.h5\n",
      "14/14 [==============================] - 1s 42ms/step - loss: 1.4174 - accuracy: 0.2665 - val_loss: 1.4139 - val_accuracy: 0.3053 - lr: 0.0010\n",
      "Epoch 3/20\n",
      "13/14 [==========================>...] - ETA: 0s - loss: 1.4232 - accuracy: 0.2620\n",
      "Epoch 3: val_loss did not improve from 1.41391\n",
      "14/14 [==============================] - 1s 43ms/step - loss: 1.4231 - accuracy: 0.2629 - val_loss: 1.4212 - val_accuracy: 0.2717 - lr: 0.0010\n",
      "Epoch 4/20\n",
      "13/14 [==========================>...] - ETA: 0s - loss: 1.4243 - accuracy: 0.2656\n",
      "Epoch 4: val_loss did not improve from 1.41391\n",
      "14/14 [==============================] - 1s 43ms/step - loss: 1.4243 - accuracy: 0.2653 - val_loss: 1.4176 - val_accuracy: 0.3221 - lr: 0.0010\n",
      "Epoch 5/20\n",
      "13/14 [==========================>...] - ETA: 0s - loss: 1.4222 - accuracy: 0.2656\n",
      "Epoch 5: val_loss improved from 1.41391 to 1.41293, saving model to /home/app/src/experiments/inceptionv3_GRU/exp_006/model.weights_exp_005.h5\n",
      "14/14 [==============================] - 1s 42ms/step - loss: 1.4220 - accuracy: 0.2665 - val_loss: 1.4129 - val_accuracy: 0.3053 - lr: 0.0010\n",
      "Epoch 6/20\n",
      "13/14 [==========================>...] - ETA: 0s - loss: 1.4190 - accuracy: 0.2716\n",
      "Epoch 6: val_loss improved from 1.41293 to 1.41115, saving model to /home/app/src/experiments/inceptionv3_GRU/exp_006/model.weights_exp_005.h5\n",
      "14/14 [==============================] - 1s 42ms/step - loss: 1.4185 - accuracy: 0.2725 - val_loss: 1.4112 - val_accuracy: 0.3613 - lr: 0.0010\n",
      "Epoch 7/20\n",
      "13/14 [==========================>...] - ETA: 0s - loss: 1.4155 - accuracy: 0.2764\n",
      "Epoch 7: val_loss did not improve from 1.41115\n",
      "14/14 [==============================] - 1s 41ms/step - loss: 1.4154 - accuracy: 0.2761 - val_loss: 1.4141 - val_accuracy: 0.2997 - lr: 0.0010\n",
      "Epoch 8/20\n",
      "13/14 [==========================>...] - ETA: 0s - loss: 1.4188 - accuracy: 0.2788\n",
      "Epoch 8: val_loss improved from 1.41115 to 1.40753, saving model to /home/app/src/experiments/inceptionv3_GRU/exp_006/model.weights_exp_005.h5\n",
      "14/14 [==============================] - 1s 45ms/step - loss: 1.4188 - accuracy: 0.2785 - val_loss: 1.4075 - val_accuracy: 0.2997 - lr: 0.0010\n",
      "Epoch 9/20\n",
      "13/14 [==========================>...] - ETA: 0s - loss: 1.4107 - accuracy: 0.2812\n",
      "Epoch 9: val_loss improved from 1.40753 to 1.40711, saving model to /home/app/src/experiments/inceptionv3_GRU/exp_006/model.weights_exp_005.h5\n",
      "14/14 [==============================] - 1s 46ms/step - loss: 1.4109 - accuracy: 0.2809 - val_loss: 1.4071 - val_accuracy: 0.2857 - lr: 0.0010\n",
      "Epoch 10/20\n",
      "13/14 [==========================>...] - ETA: 0s - loss: 1.4052 - accuracy: 0.2873\n",
      "Epoch 10: val_loss did not improve from 1.40711\n",
      "14/14 [==============================] - 1s 41ms/step - loss: 1.4052 - accuracy: 0.2869 - val_loss: 1.4119 - val_accuracy: 0.2801 - lr: 0.0010\n",
      "Epoch 11/20\n",
      "13/14 [==========================>...] - ETA: 0s - loss: 1.4070 - accuracy: 0.2800\n",
      "Epoch 11: val_loss improved from 1.40711 to 1.40280, saving model to /home/app/src/experiments/inceptionv3_GRU/exp_006/model.weights_exp_005.h5\n",
      "14/14 [==============================] - 1s 44ms/step - loss: 1.4069 - accuracy: 0.2809 - val_loss: 1.4028 - val_accuracy: 0.3025 - lr: 0.0010\n",
      "Epoch 12/20\n",
      "13/14 [==========================>...] - ETA: 0s - loss: 1.4061 - accuracy: 0.2692\n",
      "Epoch 12: val_loss improved from 1.40280 to 1.39483, saving model to /home/app/src/experiments/inceptionv3_GRU/exp_006/model.weights_exp_005.h5\n",
      "14/14 [==============================] - 1s 44ms/step - loss: 1.4060 - accuracy: 0.2689 - val_loss: 1.3948 - val_accuracy: 0.3361 - lr: 0.0010\n",
      "Epoch 13/20\n",
      "13/14 [==========================>...] - ETA: 0s - loss: 1.4031 - accuracy: 0.2837\n",
      "Epoch 13: val_loss did not improve from 1.39483\n",
      "14/14 [==============================] - 1s 41ms/step - loss: 1.4030 - accuracy: 0.2833 - val_loss: 1.4008 - val_accuracy: 0.2997 - lr: 0.0010\n",
      "Epoch 14/20\n",
      "13/14 [==========================>...] - ETA: 0s - loss: 1.4075 - accuracy: 0.2788\n",
      "Epoch 14: val_loss did not improve from 1.39483\n",
      "14/14 [==============================] - 1s 41ms/step - loss: 1.4074 - accuracy: 0.2797 - val_loss: 1.4106 - val_accuracy: 0.2745 - lr: 0.0010\n",
      "Epoch 15/20\n",
      "13/14 [==========================>...] - ETA: 0s - loss: 1.4091 - accuracy: 0.2752\n",
      "Epoch 15: val_loss did not improve from 1.39483\n",
      "14/14 [==============================] - 1s 42ms/step - loss: 1.4089 - accuracy: 0.2761 - val_loss: 1.4061 - val_accuracy: 0.2801 - lr: 0.0010\n",
      "Epoch 16/20\n",
      "13/14 [==========================>...] - ETA: 0s - loss: 1.4138 - accuracy: 0.2656\n",
      "Epoch 16: val_loss did not improve from 1.39483\n",
      "14/14 [==============================] - 1s 40ms/step - loss: 1.4137 - accuracy: 0.2665 - val_loss: 1.4017 - val_accuracy: 0.2969 - lr: 5.0000e-04\n",
      "Epoch 17/20\n",
      "13/14 [==========================>...] - ETA: 0s - loss: 1.3994 - accuracy: 0.2692\n",
      "Epoch 17: val_loss did not improve from 1.39483\n",
      "14/14 [==============================] - 1s 41ms/step - loss: 1.3995 - accuracy: 0.2689 - val_loss: 1.3965 - val_accuracy: 0.3445 - lr: 5.0000e-04\n",
      "Epoch 18/20\n",
      "13/14 [==========================>...] - ETA: 0s - loss: 1.3982 - accuracy: 0.2704\n",
      "Epoch 18: val_loss did not improve from 1.39483\n",
      "14/14 [==============================] - 1s 41ms/step - loss: 1.3980 - accuracy: 0.2713 - val_loss: 1.3964 - val_accuracy: 0.3389 - lr: 5.0000e-04\n",
      "Epoch 19/20\n",
      "13/14 [==========================>...] - ETA: 0s - loss: 1.3971 - accuracy: 0.2921\n",
      "Epoch 19: val_loss did not improve from 1.39483\n",
      "14/14 [==============================] - 1s 41ms/step - loss: 1.3972 - accuracy: 0.2917 - val_loss: 1.3967 - val_accuracy: 0.3417 - lr: 2.5000e-04\n",
      "Epoch 20/20\n",
      "13/14 [==========================>...] - ETA: 0s - loss: 1.3989 - accuracy: 0.2488\n",
      "Epoch 20: val_loss did not improve from 1.39483\n",
      "14/14 [==============================] - 1s 40ms/step - loss: 1.3989 - accuracy: 0.2485 - val_loss: 1.3949 - val_accuracy: 0.3585 - lr: 2.5000e-04\n",
      "10/10 [==============================] - 2s 12ms/step - loss: 1.4061 - accuracy: 0.2781\n",
      "Test accuracy: 27.81%\n"
     ]
    }
   ],
   "source": [
    "def get_sequence_model():\n",
    "    class_vocab = label_processor.get_vocabulary()\n",
    "    \n",
    "    frame_features_input = keras.Input((MAX_SEQ_LENGTH, NUM_FEATURES))\n",
    "    mask_input = keras.Input((MAX_SEQ_LENGTH,), dtype=\"bool\")\n",
    "\n",
    "    # Refer to the following tutorial to understand the significance of using `mask`:\n",
    "    # https://keras.io/api/layers/recurrent_layers/gru/\n",
    "    x = keras.layers.GRU(20, return_sequences=True)(\n",
    "        frame_features_input, mask=mask_input\n",
    "    )\n",
    "    x = keras.layers.GRU(10)(x)\n",
    "    x = keras.layers.Dropout(0.4)(x)\n",
    "    x = keras.layers.Dense(10, activation=\"relu\")(x)\n",
    "    output = keras.layers.Dense(len(class_vocab),kernel_regularizer='l2', activation=\"softmax\")(x)\n",
    "\n",
    "    rnn_model = keras.Model([frame_features_input, mask_input], output)\n",
    "\n",
    "    rnn_model.compile(\n",
    "        loss=\"sparse_categorical_crossentropy\", optimizer=tf.keras.optimizers.Adam(learning_rate=1e-3), metrics=[\"accuracy\"],\n",
    "    )\n",
    "    return rnn_model\n",
    "\n",
    "\n",
    "# Utility for running experiments.\n",
    "def run_experiment():\n",
    "    filepath = \"/home/app/src/experiments/inceptionv3_GRU/exp_006/model.weights_exp_005.h5\"\n",
    "    filepath_log = '/home/app/src/experiments/inceptionv3_GRU/logs/logs'\n",
    "\n",
    "    reduce_lr = keras.callbacks.ReduceLROnPlateau(monitor='val_loss', factor=0.5,\n",
    "                              patience=3, min_lr=0.000001)\n",
    "    checkpoint = keras.callbacks.ModelCheckpoint(\n",
    "        filepath, save_weights_only=True, save_best_only=True, verbose=1)\n",
    "    tensor_board = keras.callbacks.TensorBoard (filepath_log)\n",
    "\n",
    "    seq_model = get_sequence_model()\n",
    "    history = seq_model.fit(\n",
    "        [train_data[0], train_data[1]],\n",
    "        train_labels,\n",
    "        validation_split=0.3,\n",
    "        epochs=EPOCHS,\n",
    "        callbacks=[checkpoint, reduce_lr, tensor_board],\n",
    "        batch_size = BATCH_SIZE,\n",
    "        shuffle = True\n",
    "    )\n",
    "\n",
    "    seq_model.load_weights(filepath)\n",
    "    _, accuracy = seq_model.evaluate([test_data[0], test_data[1]], test_labels)\n",
    "    print(f\"Test accuracy: {round(accuracy * 100, 2)}%\")\n",
    "    # Getting predictions\n",
    "    y_pred_proba = seq_model.predict([test_data[0], test_data[1]])\n",
    "    y_pred = []   \n",
    "    for arr in y_pred_proba:\n",
    "        idx_max = np.argmax(arr)\n",
    "        y_pred.append(idx_max)\n",
    "\n",
    "    return history, seq_model, y_pred, y_pred_proba\n",
    "\n",
    "\n",
    "_, sequence_model, y_pred, y_pred_proba = run_experiment()\n"
   ]
  },
  {
   "cell_type": "code",
   "execution_count": 107,
   "metadata": {},
   "outputs": [
    {
     "name": "stderr",
     "output_type": "stream",
     "text": [
      "UsageError: Line magic function `%tensorboard` not found.\n"
     ]
    }
   ],
   "source": [
    "%tensorboard == logdir /home/app/src/experiments/inceptionv3_GRU/logs"
   ]
  },
  {
   "cell_type": "code",
   "execution_count": 115,
   "metadata": {},
   "outputs": [
    {
     "data": {
      "text/plain": [
       "array([[0.27599987, 0.20590512, 0.25338924, 0.26470575],\n",
       "       [0.25489923, 0.22379419, 0.2621644 , 0.2591422 ],\n",
       "       [0.27522898, 0.20703451, 0.25321335, 0.26452318],\n",
       "       ...,\n",
       "       [0.26727453, 0.21494207, 0.25525337, 0.26253003],\n",
       "       [0.25318488, 0.21924049, 0.26954722, 0.2580274 ],\n",
       "       [0.24706602, 0.23786521, 0.26634184, 0.24872693]], dtype=float32)"
      ]
     },
     "execution_count": 115,
     "metadata": {},
     "output_type": "execute_result"
    }
   ],
   "source": [
    "y_pred_proba #predictions proba"
   ]
  },
  {
   "cell_type": "code",
   "execution_count": 108,
   "metadata": {},
   "outputs": [
    {
     "data": {
      "text/plain": [
       "['Motion', 'Pull', 'Push', 'Static']"
      ]
     },
     "execution_count": 108,
     "metadata": {},
     "output_type": "execute_result"
    }
   ],
   "source": [
    "class_vocab = label_processor.get_vocabulary()\n",
    "class_vocab"
   ]
  },
  {
   "cell_type": "code",
   "execution_count": 109,
   "metadata": {},
   "outputs": [
    {
     "data": {
      "text/plain": [
       "array([0, 2, 3])"
      ]
     },
     "execution_count": 109,
     "metadata": {},
     "output_type": "execute_result"
    }
   ],
   "source": [
    "np.unique(y_pred)   # predictions"
   ]
  },
  {
   "cell_type": "code",
   "execution_count": 110,
   "metadata": {},
   "outputs": [
    {
     "data": {
      "text/plain": [
       "array([0, 1, 2, 3])"
      ]
     },
     "execution_count": 110,
     "metadata": {},
     "output_type": "execute_result"
    }
   ],
   "source": [
    "np.unique(test_labels) # True labels"
   ]
  },
  {
   "cell_type": "code",
   "execution_count": 111,
   "metadata": {},
   "outputs": [
    {
     "data": {
      "text/plain": [
       "<AxesSubplot: >"
      ]
     },
     "execution_count": 111,
     "metadata": {},
     "output_type": "execute_result"
    },
    {
     "data": {
      "image/png": "[encoded data removed]",
      "text/plain": [
       "<Figure size 640x480 with 2 Axes>"
      ]
     },
     "metadata": {},
     "output_type": "display_data"
    }
   ],
   "source": [
    "# Confussion Matrix\n",
    "c_matrix = confusion_matrix(test_labels, y_pred , normalize='pred')\n",
    "# Plotting\n",
    "class_vocab = label_processor.get_vocabulary()\n",
    "df_cm = pd.DataFrame(c_matrix,index = [i for i in class_vocab],\n",
    "                  columns = [i for i in class_vocab])\n",
    "sns.set(font_scale=1.4) # for label size\n",
    "sns.heatmap(df_cm, annot=True, annot_kws={\"size\": 16}) # font size\n"
   ]
  },
  {
   "cell_type": "code",
   "execution_count": 112,
   "metadata": {},
   "outputs": [
    {
     "name": "stdout",
     "output_type": "stream",
     "text": [
      "              precision    recall  f1-score   support\n",
      "\n",
      "      Motion       0.25      0.53      0.34        80\n",
      "        Pull       0.00      0.00      0.00        80\n",
      "        Push       0.31      0.53      0.39        80\n",
      "      Static       0.26      0.06      0.10        80\n",
      "\n",
      "    accuracy                           0.28       320\n",
      "   macro avg       0.21      0.28      0.21       320\n",
      "weighted avg       0.21      0.28      0.21       320\n",
      "\n"
     ]
    },
    {
     "name": "stderr",
     "output_type": "stream",
     "text": [
      "/home/app/.local/lib/python3.8/site-packages/sklearn/metrics/_classification.py:1318: UndefinedMetricWarning: Precision and F-score are ill-defined and being set to 0.0 in labels with no predicted samples. Use `zero_division` parameter to control this behavior.\n",
      "  _warn_prf(average, modifier, msg_start, len(result))\n",
      "/home/app/.local/lib/python3.8/site-packages/sklearn/metrics/_classification.py:1318: UndefinedMetricWarning: Precision and F-score are ill-defined and being set to 0.0 in labels with no predicted samples. Use `zero_division` parameter to control this behavior.\n",
      "  _warn_prf(average, modifier, msg_start, len(result))\n",
      "/home/app/.local/lib/python3.8/site-packages/sklearn/metrics/_classification.py:1318: UndefinedMetricWarning: Precision and F-score are ill-defined and being set to 0.0 in labels with no predicted samples. Use `zero_division` parameter to control this behavior.\n",
      "  _warn_prf(average, modifier, msg_start, len(result))\n"
     ]
    }
   ],
   "source": [
    "# Metrics report\n",
    "class_vocab = label_processor.get_vocabulary()\n",
    "print(classification_report(test_labels, y_pred, target_names=class_vocab ))"
   ]
  },
  {
   "cell_type": "code",
   "execution_count": 113,
   "metadata": {},
   "outputs": [],
   "source": [
    "#[precision, recall,f1,support]=precision_recall_fscore_support(y_true, y_pred, average='macro')"
   ]
  },
  {
   "cell_type": "markdown",
   "metadata": {},
   "source": [
    "Predictions"
   ]
  },
  {
   "cell_type": "code",
   "execution_count": 114,
   "metadata": {},
   "outputs": [
    {
     "name": "stdout",
     "output_type": "stream",
     "text": [
      "Test video path: /home/app/src/data/shot-type-dataset/trailer_v3/test/shot_tt2467442_0039.mp4\n",
      "  Motion: 26.27%\n",
      "  Static: 26.13%\n",
      "  Push: 25.81%\n",
      "  Pull: 21.79%\n",
      "Real Label: Pull\n"
     ]
    },
    {
     "data": {
      "application/vnd.jupyter.widget-view+json": {
       "model_id": "f060248899e34fccb063c4831bac70be",
       "version_major": 2,
       "version_minor": 0
      },
      "text/plain": [
       "Video(value=b'\\x00\\x00\\x00 ftypisom\\x00\\x00\\x02\\x00isomiso2avc1mp41\\x00\\x00\\x00\\x08free...')"
      ]
     },
     "execution_count": 114,
     "metadata": {},
     "output_type": "execute_result"
    }
   ],
   "source": [
    "def prepare_single_video(frames):\n",
    "    frames = frames[None, ...]\n",
    "    frame_mask = np.zeros(shape=(1, MAX_SEQ_LENGTH,), dtype=\"bool\")\n",
    "    frame_features = np.zeros(shape=(1, MAX_SEQ_LENGTH, NUM_FEATURES), dtype=\"float32\")\n",
    "\n",
    "    for i, batch in enumerate(frames):\n",
    "        video_length = batch.shape[0]\n",
    "        length = min(MAX_SEQ_LENGTH, video_length)\n",
    "        for j in range(length):\n",
    "            frame_features[i, j, :] = feature_extractor.predict(batch[None, j, :])\n",
    "        frame_mask[i, :length] = 1  # 1 = not masked, 0 = masked\n",
    "\n",
    "    return frame_features, frame_mask\n",
    "\n",
    "\n",
    "def sequence_prediction(path):\n",
    "    class_vocab = label_processor.get_vocabulary()\n",
    "\n",
    "    frames = load_video(os.path.join(\"test\", path))\n",
    "    frame_features, frame_mask = prepare_single_video(frames)\n",
    "    probabilities = sequence_model.predict([frame_features, frame_mask])[0]\n",
    "\n",
    "    for i in np.argsort(probabilities)[::-1]:\n",
    "        print(f\"  {class_vocab[i]}: {probabilities[i] * 100:5.2f}%\")\n",
    "    return frames\n",
    "\n",
    "\n",
    "# This utility is for visualization.\n",
    "# Referenced from:\n",
    "# https://www.tensorflow.org/hub/tutorials/action_recognition_with_tf_hub\n",
    "def to_gif(images):\n",
    "    converted_images = images.astype(np.uint8)\n",
    "    imageio.mimsave(\"animation.gif\", converted_images, fps=10)\n",
    "    return embed.embed_file(\"animation.gif\")\n",
    "\n",
    "\n",
    "test_video = np.random.choice(test_df[\"video_name\"].values.tolist())\n",
    "print(f\"Test video path: {test_video}\")\n",
    "test_frames = sequence_prediction(test_video)\n",
    "real_label = test_df[test_df['video_name'] ==test_video]['tag'].iloc[0]\n",
    "print(f'Real Label: {real_label}')\n",
    "new_ = Video.from_file(test_video,play=True)\n",
    "new_\n",
    "#to_gif(test_frames[:MAX_SEQ_LENGTH])"
   ]
  }
 ],
 "metadata": {
  "kernelspec": {
   "display_name": "Python 3 (ipykernel)",
   "language": "python",
   "name": "python3"
  },
  "language_info": {
   "codemirror_mode": {
    "name": "ipython",
    "version": 3
   },
   "file_extension": ".py",
   "mimetype": "text/x-python",
   "name": "python",
   "nbconvert_exporter": "python",
   "pygments_lexer": "ipython3",
   "version": "3.8.10"
  },
  "orig_nbformat": 4,
  "vscode": {
   "interpreter": {
    "hash": "31f2aee4e71d21fbe5cf8b01ff0e069b9275f58929596ceb00d14d90e3e16cd6"
   }
  }
 },
 "nbformat": 4,
 "nbformat_minor": 2
}
