{
 "cells": [
  {
   "cell_type": "code",
   "execution_count": 1,
   "metadata": {},
   "outputs": [],
   "source": [
    "#from tensorflow_docs.vis import embed\n",
    "from tensorflow import keras\n",
    "#from imutils import paths\n",
    "\n",
    "import seaborn as sns\n",
    "import tensorflow as tf\n",
    "import pandas as pd\n",
    "import numpy as np\n",
    "#import imageio\n",
    "import cv2\n",
    "import os\n",
    "import json\n",
    "from ipywidgets import Video, Image\n",
    "\n",
    "from sklearn.tree import DecisionTreeRegressor\n",
    "from sklearn.linear_model import LogisticRegression\n",
    "from sklearn.metrics import precision_recall_fscore_support\n",
    "from sklearn.metrics import accuracy_score\n",
    "from sklearn.metrics import classification_report\n",
    "from sklearn.metrics import confusion_matrix"
   ]
  },
  {
   "cell_type": "code",
   "execution_count": 2,
   "metadata": {},
   "outputs": [
    {
     "name": "stderr",
     "output_type": "stream",
     "text": [
      "2022-11-22 14:00:08.628805: I tensorflow/stream_executor/cuda/cuda_gpu_executor.cc:936] successful NUMA node read from SysFS had negative value (-1), but there must be at least one NUMA node, so returning NUMA node zero\n",
      "2022-11-22 14:00:08.638307: I tensorflow/stream_executor/cuda/cuda_gpu_executor.cc:936] successful NUMA node read from SysFS had negative value (-1), but there must be at least one NUMA node, so returning NUMA node zero\n",
      "2022-11-22 14:00:08.639213: I tensorflow/stream_executor/cuda/cuda_gpu_executor.cc:936] successful NUMA node read from SysFS had negative value (-1), but there must be at least one NUMA node, so returning NUMA node zero\n"
     ]
    }
   ],
   "source": [
    "#Prevent tensorflow to allocate the entire GPU\n",
    "#https://www.tensorflow.org/api_docs/python/tf/config/experimental/set_memory_growth\n",
    "physical_devices = tf.config.list_physical_devices(\"GPU\")\n",
    "try:\n",
    "    tf.config.experimental.set_memory_growth(physical_devices[0], True)\n",
    "except:\n",
    "    pass"
   ]
  },
  {
   "cell_type": "code",
   "execution_count": 3,
   "metadata": {},
   "outputs": [],
   "source": [
    "# train_df= pd.read_csv('/home/app/src/data/CSV/dataset_train_v2+v3.csv', )\n",
    "# test_df= pd.read_csv('/home/app/src/data/CSV/dataset_test_v3.csv', )"
   ]
  },
  {
   "cell_type": "code",
   "execution_count": 4,
   "metadata": {},
   "outputs": [],
   "source": [
    "train_df= pd.read_csv('/home/app/src/CSV/dataset_train_v2+v3_with_rep_shuffle.csv')\n",
    "test_df= pd.read_csv('/home/app/src/CSV/dataset_test_v2+v3_with_rep_shuffle.csv')"
   ]
  },
  {
   "cell_type": "code",
   "execution_count": 5,
   "metadata": {},
   "outputs": [],
   "source": [
    "# train_df = train_df.drop(columns =['tag','Unnamed: 0'])\n",
    "# train_df = train_df.rename(columns ={'move_label':'tag'})"
   ]
  },
  {
   "cell_type": "code",
   "execution_count": 6,
   "metadata": {},
   "outputs": [
    {
     "data": {
      "text/html": [
       "<div>\n",
       "<style scoped>\n",
       "    .dataframe tbody tr th:only-of-type {\n",
       "        vertical-align: middle;\n",
       "    }\n",
       "\n",
       "    .dataframe tbody tr th {\n",
       "        vertical-align: top;\n",
       "    }\n",
       "\n",
       "    .dataframe thead th {\n",
       "        text-align: right;\n",
       "    }\n",
       "</style>\n",
       "<table border=\"1\" class=\"dataframe\">\n",
       "  <thead>\n",
       "    <tr style=\"text-align: right;\">\n",
       "      <th></th>\n",
       "      <th>video_name</th>\n",
       "      <th>tag</th>\n",
       "    </tr>\n",
       "  </thead>\n",
       "  <tbody>\n",
       "    <tr>\n",
       "      <th>0</th>\n",
       "      <td>/home/app/src/data/shot-type-dataset/trailer_v...</td>\n",
       "      <td>Pull</td>\n",
       "    </tr>\n",
       "    <tr>\n",
       "      <th>1</th>\n",
       "      <td>/home/app/src/data/shot-type-dataset/trailer_v...</td>\n",
       "      <td>Pull</td>\n",
       "    </tr>\n",
       "    <tr>\n",
       "      <th>2</th>\n",
       "      <td>/home/app/src/data/shot-type-dataset/trailer_v...</td>\n",
       "      <td>Push</td>\n",
       "    </tr>\n",
       "    <tr>\n",
       "      <th>3</th>\n",
       "      <td>/home/app/src/data/shot-type-dataset/trailer_v...</td>\n",
       "      <td>Static</td>\n",
       "    </tr>\n",
       "    <tr>\n",
       "      <th>4</th>\n",
       "      <td>/home/app/src/data/shot-type-dataset/trailer_v...</td>\n",
       "      <td>Push</td>\n",
       "    </tr>\n",
       "    <tr>\n",
       "      <th>...</th>\n",
       "      <td>...</td>\n",
       "      <td>...</td>\n",
       "    </tr>\n",
       "    <tr>\n",
       "      <th>1185</th>\n",
       "      <td>/home/app/src/data/shot-type-dataset/trailer_v...</td>\n",
       "      <td>Static</td>\n",
       "    </tr>\n",
       "    <tr>\n",
       "      <th>1186</th>\n",
       "      <td>/home/app/src/data/shot-type-dataset/trailer_v...</td>\n",
       "      <td>Push</td>\n",
       "    </tr>\n",
       "    <tr>\n",
       "      <th>1187</th>\n",
       "      <td>/home/app/src/data/shot-type-dataset/trailer_v...</td>\n",
       "      <td>Pull</td>\n",
       "    </tr>\n",
       "    <tr>\n",
       "      <th>1188</th>\n",
       "      <td>/home/app/src/data/shot-type-dataset/trailer_v...</td>\n",
       "      <td>Push</td>\n",
       "    </tr>\n",
       "    <tr>\n",
       "      <th>1189</th>\n",
       "      <td>/home/app/src/data/shot-type-dataset/trailer_v...</td>\n",
       "      <td>Static</td>\n",
       "    </tr>\n",
       "  </tbody>\n",
       "</table>\n",
       "<p>1190 rows × 2 columns</p>\n",
       "</div>"
      ],
      "text/plain": [
       "                                             video_name     tag\n",
       "0     /home/app/src/data/shot-type-dataset/trailer_v...    Pull\n",
       "1     /home/app/src/data/shot-type-dataset/trailer_v...    Pull\n",
       "2     /home/app/src/data/shot-type-dataset/trailer_v...    Push\n",
       "3     /home/app/src/data/shot-type-dataset/trailer_v...  Static\n",
       "4     /home/app/src/data/shot-type-dataset/trailer_v...    Push\n",
       "...                                                 ...     ...\n",
       "1185  /home/app/src/data/shot-type-dataset/trailer_v...  Static\n",
       "1186  /home/app/src/data/shot-type-dataset/trailer_v...    Push\n",
       "1187  /home/app/src/data/shot-type-dataset/trailer_v...    Pull\n",
       "1188  /home/app/src/data/shot-type-dataset/trailer_v...    Push\n",
       "1189  /home/app/src/data/shot-type-dataset/trailer_v...  Static\n",
       "\n",
       "[1190 rows x 2 columns]"
      ]
     },
     "execution_count": 6,
     "metadata": {},
     "output_type": "execute_result"
    }
   ],
   "source": [
    "train_df"
   ]
  },
  {
   "cell_type": "code",
   "execution_count": 7,
   "metadata": {},
   "outputs": [],
   "source": [
    "# test_df = test_df.drop(columns =['tag','Unnamed: 0'])\n",
    "# test_df = test_df.rename(columns ={'move_label':'tag'})"
   ]
  },
  {
   "cell_type": "code",
   "execution_count": 8,
   "metadata": {},
   "outputs": [
    {
     "data": {
      "text/html": [
       "<div>\n",
       "<style scoped>\n",
       "    .dataframe tbody tr th:only-of-type {\n",
       "        vertical-align: middle;\n",
       "    }\n",
       "\n",
       "    .dataframe tbody tr th {\n",
       "        vertical-align: top;\n",
       "    }\n",
       "\n",
       "    .dataframe thead th {\n",
       "        text-align: right;\n",
       "    }\n",
       "</style>\n",
       "<table border=\"1\" class=\"dataframe\">\n",
       "  <thead>\n",
       "    <tr style=\"text-align: right;\">\n",
       "      <th></th>\n",
       "      <th>video_name</th>\n",
       "      <th>tag</th>\n",
       "    </tr>\n",
       "  </thead>\n",
       "  <tbody>\n",
       "    <tr>\n",
       "      <th>0</th>\n",
       "      <td>/home/app/src/data/shot-type-dataset/trailer_v...</td>\n",
       "      <td>Static</td>\n",
       "    </tr>\n",
       "    <tr>\n",
       "      <th>1</th>\n",
       "      <td>/home/app/src/data/shot-type-dataset/trailer_v...</td>\n",
       "      <td>Pull</td>\n",
       "    </tr>\n",
       "    <tr>\n",
       "      <th>2</th>\n",
       "      <td>/home/app/src/data/shot-type-dataset/trailer_v...</td>\n",
       "      <td>Motion</td>\n",
       "    </tr>\n",
       "    <tr>\n",
       "      <th>3</th>\n",
       "      <td>/home/app/src/data/shot-type-dataset/trailer_v...</td>\n",
       "      <td>Motion</td>\n",
       "    </tr>\n",
       "    <tr>\n",
       "      <th>4</th>\n",
       "      <td>/home/app/src/data/shot-type-dataset/trailer_v...</td>\n",
       "      <td>Motion</td>\n",
       "    </tr>\n",
       "    <tr>\n",
       "      <th>...</th>\n",
       "      <td>...</td>\n",
       "      <td>...</td>\n",
       "    </tr>\n",
       "    <tr>\n",
       "      <th>315</th>\n",
       "      <td>/home/app/src/data/shot-type-dataset/trailer_v...</td>\n",
       "      <td>Motion</td>\n",
       "    </tr>\n",
       "    <tr>\n",
       "      <th>316</th>\n",
       "      <td>/home/app/src/data/shot-type-dataset/trailer_v...</td>\n",
       "      <td>Static</td>\n",
       "    </tr>\n",
       "    <tr>\n",
       "      <th>317</th>\n",
       "      <td>/home/app/src/data/shot-type-dataset/trailer_v...</td>\n",
       "      <td>Push</td>\n",
       "    </tr>\n",
       "    <tr>\n",
       "      <th>318</th>\n",
       "      <td>/home/app/src/data/shot-type-dataset/trailer_v...</td>\n",
       "      <td>Push</td>\n",
       "    </tr>\n",
       "    <tr>\n",
       "      <th>319</th>\n",
       "      <td>/home/app/src/data/shot-type-dataset/trailer_v...</td>\n",
       "      <td>Static</td>\n",
       "    </tr>\n",
       "  </tbody>\n",
       "</table>\n",
       "<p>320 rows × 2 columns</p>\n",
       "</div>"
      ],
      "text/plain": [
       "                                            video_name     tag\n",
       "0    /home/app/src/data/shot-type-dataset/trailer_v...  Static\n",
       "1    /home/app/src/data/shot-type-dataset/trailer_v...    Pull\n",
       "2    /home/app/src/data/shot-type-dataset/trailer_v...  Motion\n",
       "3    /home/app/src/data/shot-type-dataset/trailer_v...  Motion\n",
       "4    /home/app/src/data/shot-type-dataset/trailer_v...  Motion\n",
       "..                                                 ...     ...\n",
       "315  /home/app/src/data/shot-type-dataset/trailer_v...  Motion\n",
       "316  /home/app/src/data/shot-type-dataset/trailer_v...  Static\n",
       "317  /home/app/src/data/shot-type-dataset/trailer_v...    Push\n",
       "318  /home/app/src/data/shot-type-dataset/trailer_v...    Push\n",
       "319  /home/app/src/data/shot-type-dataset/trailer_v...  Static\n",
       "\n",
       "[320 rows x 2 columns]"
      ]
     },
     "execution_count": 8,
     "metadata": {},
     "output_type": "execute_result"
    }
   ],
   "source": [
    "test_df"
   ]
  },
  {
   "cell_type": "markdown",
   "metadata": {},
   "source": [
    "Checking correct video tagging with original JSON"
   ]
  },
  {
   "cell_type": "code",
   "execution_count": 9,
   "metadata": {},
   "outputs": [],
   "source": [
    "# # reading the JSON data using json.load()\n",
    "# json_path = '/home/app/src/data/shot-type-dataset/v1_split_trailer.json'\n",
    "# json_v2_path = '/home/app/src/data/shot-type-dataset/v2_full_trailer.json'\n",
    "\n",
    "# with open(json_path) as train_file:\n",
    "#     dict_v1= json.load(train_file)\n",
    "# with open(json_v2_path) as v2_file:\n",
    "#     dict_v2= json.load(v2_file)\n",
    "\n",
    "\n",
    "# def tag_ckecker (df, json_dict1, json_dict2, df_name_to_check):\n",
    "#     tag_chek_list = []\n",
    "\n",
    "#     for i in range(len(df.index)):\n",
    "#         movie = df['video_name'][i]\n",
    "#         df_tag = df['tag'][df['video_name'] == movie][i]\n",
    "#         find_char_st = movie.find('_', 55,60)\n",
    "#         find_char_end = movie.find('_', 65,70)\n",
    "#         movie_key = movie[find_char_st+1:find_char_end]\n",
    "#         trailer_key =  movie[find_char_end+1:find_char_end+5]\n",
    "#         try:\n",
    "#             dict_tag = json_dict1[df_name_to_check][movie_key][trailer_key]['movement']['label']\n",
    "#         except KeyError:\n",
    "#             try:\n",
    "#                 dict_tag = json_dict1['val'][movie_key][trailer_key]['movement']['label']\n",
    "#                 if dict_tag == df_tag:\n",
    "#                     pass\n",
    "#                 else:\n",
    "#                     tag_chek_list.append(movie)\n",
    "#             except KeyError:\n",
    "#                 dict_tag = json_dict2[movie_key][trailer_key]['movement']['label']\n",
    "#                 if dict_tag == df_tag:\n",
    "#                     pass\n",
    "#                 else:\n",
    "#                     tag_chek_list.append(movie)\n",
    "\n",
    "            \n",
    "\n",
    "#     if len(tag_chek_list) == 0:\n",
    "#         print(f'tag check {df_name_to_check} OK')\n",
    "#     else: print (tag_chek_list)\n",
    "\n",
    "\n",
    "# tag_ckecker(train_df, dict_v1, dict_v2, 'train')\n",
    "# tag_ckecker(test_df, dict_v1, dict_v2, 'test')\n"
   ]
  },
  {
   "cell_type": "code",
   "execution_count": 10,
   "metadata": {},
   "outputs": [
    {
     "name": "stdout",
     "output_type": "stream",
     "text": [
      "Train value counts:\n",
      " Static    320\n",
      "Motion    320\n",
      "Push      303\n",
      "Pull      247\n",
      "Name: tag, dtype: int64 \n",
      "\n",
      "Test value counts:\n",
      " Static    80\n",
      "Pull      80\n",
      "Motion    80\n",
      "Push      80\n",
      "Name: tag, dtype: int64 \n",
      "\n"
     ]
    }
   ],
   "source": [
    "print(f'Train value counts:' '\\n',train_df['tag'].value_counts(), '\\n')\n",
    "print(f'Test value counts:' '\\n',test_df['tag'].value_counts(), '\\n')\n"
   ]
  },
  {
   "cell_type": "markdown",
   "metadata": {},
   "source": [
    "Define hyperparameters"
   ]
  },
  {
   "cell_type": "code",
   "execution_count": 11,
   "metadata": {},
   "outputs": [],
   "source": [
    "IMG_SIZE = 224\n",
    "BATCH_SIZE = 64\n",
    "EPOCHS = 20\n",
    "\n",
    "MAX_SEQ_LENGTH = 20\n",
    "NUM_FEATURES = 2048"
   ]
  },
  {
   "cell_type": "markdown",
   "metadata": {},
   "source": [
    "Loading frames and working on frame's size"
   ]
  },
  {
   "cell_type": "code",
   "execution_count": 12,
   "metadata": {},
   "outputs": [],
   "source": [
    "def crop_center_square(frame):\n",
    "    y, x = frame.shape[0:2]\n",
    "    min_dim = min(y, x)\n",
    "    start_x = (x // 2) - (min_dim // 2)\n",
    "    start_y = (y // 2) - (min_dim // 2)\n",
    "    return frame[start_y : start_y + min_dim, start_x : start_x + min_dim]\n",
    "\n",
    "\n",
    "def load_video(path, max_frames=0, resize=(IMG_SIZE, IMG_SIZE)):\n",
    "    cap = cv2.VideoCapture(path)\n",
    "    frames = []\n",
    "    try:\n",
    "        while True:\n",
    "            ret, frame = cap.read()\n",
    "            if not ret:\n",
    "                break\n",
    "            frame = crop_center_square(frame)\n",
    "            frame = cv2.resize(frame, resize)\n",
    "            frame = frame[:, :, [2, 1, 0]]\n",
    "            frames.append(frame)\n",
    "\n",
    "            if len(frames) == max_frames:\n",
    "                break\n",
    "    finally:\n",
    "        cap.release()\n",
    "    return np.array(frames)"
   ]
  },
  {
   "cell_type": "markdown",
   "metadata": {},
   "source": [
    "Feature extractor"
   ]
  },
  {
   "cell_type": "code",
   "execution_count": 13,
   "metadata": {},
   "outputs": [
    {
     "name": "stderr",
     "output_type": "stream",
     "text": [
      "2022-11-22 14:00:11.416147: I tensorflow/core/platform/cpu_feature_guard.cc:151] This TensorFlow binary is optimized with oneAPI Deep Neural Network Library (oneDNN) to use the following CPU instructions in performance-critical operations:  AVX2 FMA\n",
      "To enable them in other operations, rebuild TensorFlow with the appropriate compiler flags.\n",
      "2022-11-22 14:00:11.416913: I tensorflow/stream_executor/cuda/cuda_gpu_executor.cc:936] successful NUMA node read from SysFS had negative value (-1), but there must be at least one NUMA node, so returning NUMA node zero\n",
      "2022-11-22 14:00:11.417851: I tensorflow/stream_executor/cuda/cuda_gpu_executor.cc:936] successful NUMA node read from SysFS had negative value (-1), but there must be at least one NUMA node, so returning NUMA node zero\n",
      "2022-11-22 14:00:11.418669: I tensorflow/stream_executor/cuda/cuda_gpu_executor.cc:936] successful NUMA node read from SysFS had negative value (-1), but there must be at least one NUMA node, so returning NUMA node zero\n",
      "2022-11-22 14:00:12.063565: I tensorflow/stream_executor/cuda/cuda_gpu_executor.cc:936] successful NUMA node read from SysFS had negative value (-1), but there must be at least one NUMA node, so returning NUMA node zero\n",
      "2022-11-22 14:00:12.064483: I tensorflow/stream_executor/cuda/cuda_gpu_executor.cc:936] successful NUMA node read from SysFS had negative value (-1), but there must be at least one NUMA node, so returning NUMA node zero\n",
      "2022-11-22 14:00:12.065297: I tensorflow/stream_executor/cuda/cuda_gpu_executor.cc:936] successful NUMA node read from SysFS had negative value (-1), but there must be at least one NUMA node, so returning NUMA node zero\n",
      "2022-11-22 14:00:12.066049: I tensorflow/core/common_runtime/gpu/gpu_device.cc:1525] Created device /job:localhost/replica:0/task:0/device:GPU:0 with 10794 MB memory:  -> device: 0, name: Tesla K80, pci bus id: 0000:00:1e.0, compute capability: 3.7\n"
     ]
    },
    {
     "name": "stdout",
     "output_type": "stream",
     "text": [
      "Model: \"feature_extractor\"\n",
      "_________________________________________________________________\n",
      " Layer (type)                Output Shape              Param #   \n",
      "=================================================================\n",
      " input_2 (InputLayer)        [(None, 224, 224, 3)]     0         \n",
      "                                                                 \n",
      " tf.math.truediv (TFOpLambda  (None, 224, 224, 3)      0         \n",
      " )                                                               \n",
      "                                                                 \n",
      " tf.math.subtract (TFOpLambd  (None, 224, 224, 3)      0         \n",
      " a)                                                              \n",
      "                                                                 \n",
      " inception_v3 (Functional)   (None, 2048)              21802784  \n",
      "                                                                 \n",
      "=================================================================\n",
      "Total params: 21,802,784\n",
      "Trainable params: 21,768,352\n",
      "Non-trainable params: 34,432\n",
      "_________________________________________________________________\n",
      "None\n"
     ]
    }
   ],
   "source": [
    "def build_feature_extractor():\n",
    "    feature_extractor = keras.applications.InceptionV3(\n",
    "        weights=\"imagenet\",\n",
    "        include_top=False,\n",
    "        pooling=\"avg\",\n",
    "        input_shape=(IMG_SIZE, IMG_SIZE, 3),\n",
    "    )\n",
    "    preprocess_input = keras.applications.inception_v3.preprocess_input\n",
    "\n",
    "    inputs = keras.Input((IMG_SIZE, IMG_SIZE, 3))\n",
    "    preprocessed = preprocess_input(inputs)\n",
    "\n",
    "    outputs = feature_extractor(preprocessed)\n",
    "    return keras.Model(inputs, outputs, name=\"feature_extractor\")\n",
    "\n",
    "\n",
    "feature_extractor = build_feature_extractor()\n",
    "print(feature_extractor.summary())"
   ]
  },
  {
   "cell_type": "markdown",
   "metadata": {},
   "source": [
    "Working on labels"
   ]
  },
  {
   "cell_type": "code",
   "execution_count": 14,
   "metadata": {},
   "outputs": [
    {
     "name": "stdout",
     "output_type": "stream",
     "text": [
      "['Motion', 'Pull', 'Push', 'Static']\n"
     ]
    }
   ],
   "source": [
    "label_processor = keras.layers.StringLookup(\n",
    "    num_oov_indices=0, vocabulary=np.unique(train_df[\"tag\"])\n",
    ")\n",
    "print(label_processor.get_vocabulary())"
   ]
  },
  {
   "cell_type": "markdown",
   "metadata": {},
   "source": [
    "Preparing videos"
   ]
  },
  {
   "cell_type": "code",
   "execution_count": 15,
   "metadata": {},
   "outputs": [],
   "source": [
    "def prepare_all_videos(df, root_dir):\n",
    "    num_samples = len(df)\n",
    "    video_paths = df[\"video_name\"].values.tolist()\n",
    "    labels = df[\"tag\"].values\n",
    "    labels = label_processor(labels[..., None]).numpy()\n",
    "\n",
    "    # `frame_masks` and `frame_features` are what we will feed to our sequence model.\n",
    "    # `frame_masks` will contain a bunch of booleans denoting if a timestep is\n",
    "    # masked with padding or not.\n",
    "    frame_masks = np.zeros(shape=(num_samples, MAX_SEQ_LENGTH), dtype=\"bool\")\n",
    "    frame_features = np.zeros(\n",
    "        shape=(num_samples, MAX_SEQ_LENGTH, NUM_FEATURES), dtype=\"float32\"\n",
    "    )\n",
    "\n",
    "    # For each video.\n",
    "    for idx, path in enumerate(video_paths):\n",
    "        # Gather all its frames and add a batch dimension.\n",
    "        frames = load_video(os.path.join(root_dir, path))\n",
    "        frames = frames[None, ...]\n",
    "\n",
    "        # Initialize placeholders to store the masks and features of the current video.\n",
    "        temp_frame_mask = np.zeros(shape=(1, MAX_SEQ_LENGTH,), dtype=\"bool\")\n",
    "        temp_frame_features = np.zeros(\n",
    "            shape=(1, MAX_SEQ_LENGTH, NUM_FEATURES), dtype=\"float32\"\n",
    "        )\n",
    "\n",
    "        # Extract features from the frames of the current video.\n",
    "        for i, batch in enumerate(frames):\n",
    "            video_length = batch.shape[0]\n",
    "            length = min(MAX_SEQ_LENGTH, video_length)\n",
    "            for j in range(length):\n",
    "                temp_frame_features[i, j, :] = feature_extractor.predict(\n",
    "                    batch[None, j, :]\n",
    "                )\n",
    "            temp_frame_mask[i, :length] = 1  # 1 = not masked, 0 = masked\n",
    "\n",
    "        frame_features[idx,] = temp_frame_features.squeeze()\n",
    "        frame_masks[idx,] = temp_frame_mask.squeeze()\n",
    "        print(f' {root_dir}_video {idx}/{len(video_paths)} done')\n",
    "\n",
    "    return (frame_features, frame_masks), labels\n",
    "\n",
    "\n",
    "#train_data, train_labels = prepare_all_videos(train_df, \"train\")\n",
    "#print(f\"Frame features in train set: {train_data[0].shape}\")\n"
   ]
  },
  {
   "cell_type": "markdown",
   "metadata": {},
   "source": [
    "Saving TRAIN embeddings"
   ]
  },
  {
   "cell_type": "code",
   "execution_count": 16,
   "metadata": {},
   "outputs": [],
   "source": [
    "# path_save_embeddings= '/home/app/src/embeddings/emb_v2+v3_with_rep_shuffle_40F/'\n",
    "\n",
    "# # Train\n",
    "# train_data_embedding_0 = np.save(path_save_embeddings + 'train_data_embedding_0.npy', train_data[0])\n",
    "# train_data_embedding_1 = np.save(path_save_embeddings + 'train_data_embedding_1.npy', train_data[1])\n",
    "# train_labels_embedding = np.save(path_save_embeddings + 'train_labels_embedding.npy', train_labels)"
   ]
  },
  {
   "cell_type": "markdown",
   "metadata": {},
   "source": [
    "Preparing TEST videos"
   ]
  },
  {
   "cell_type": "code",
   "execution_count": 17,
   "metadata": {},
   "outputs": [],
   "source": [
    "# test_data, test_labels = prepare_all_videos(test_df, \"test\")\n",
    "# print(f\"Frame masks in test set: {test_data[1].shape}\")"
   ]
  },
  {
   "cell_type": "markdown",
   "metadata": {},
   "source": [
    "Saving TEST embeddings"
   ]
  },
  {
   "cell_type": "code",
   "execution_count": 18,
   "metadata": {},
   "outputs": [],
   "source": [
    "# #Test\n",
    "# test_data_embedding_0 = np.save(path_save_embeddings + 'test_data_embedding_0.npy', test_data[0])\n",
    "# test_data_embedding_1 = np.save(path_save_embeddings + 'test_data_embedding_1.npy', test_data[1])\n",
    "# test_labels_embedding = np.save(path_save_embeddings + 'test_labels_embedding.npy', test_labels)"
   ]
  },
  {
   "cell_type": "markdown",
   "metadata": {},
   "source": [
    "Loading embeddings"
   ]
  },
  {
   "cell_type": "code",
   "execution_count": 19,
   "metadata": {},
   "outputs": [],
   "source": [
    "# path_load_embeddings= '/home/app/src/embeddings/move_shot/all_20_frames/'\n",
    "\n",
    "# #Train\n",
    "# train_data_0 = np.load(path_load_embeddings + 'train_data_embedding_0.npy')\n",
    "# train_data_1 = np.load(path_load_embeddings + 'train_data_embedding_1.npy')\n",
    "# train_data=(train_data_0, train_data_1)\n",
    "# train_labels = np.load(path_load_embeddings + 'train_labels_embedding.npy')\n",
    "\n",
    "# #Test\n",
    "# test_data_0 = np.load(path_load_embeddings + 'test_data_embedding_0.npy')\n",
    "# test_data_1 = np.load(path_load_embeddings + 'test_data_embedding_1.npy')\n",
    "# test_data=(test_data_0, test_data_1)\n",
    "# test_labels = np.load(path_load_embeddings + 'test_labels_embedding.npy')"
   ]
  },
  {
   "cell_type": "code",
   "execution_count": 20,
   "metadata": {},
   "outputs": [],
   "source": [
    "path_load_embeddings= '/home/app/src/embeddings/move_shot/all_20_frames/'\n",
    "\n",
    "#Train\n",
    "train_data_0_base = np.load(path_load_embeddings + 'train_data_embedding_0.npy')\n",
    "train_data_1_base = np.load(path_load_embeddings + 'train_data_embedding_1.npy')\n",
    "train_data_base=(train_data_0_base, train_data_1_base)\n",
    "train_labels_base = np.load(path_load_embeddings + 'train_labels_embedding.npy')\n",
    "\n",
    "#Test\n",
    "test_data_0 = np.load(path_load_embeddings + 'test_data_embedding_0.npy')\n",
    "test_data_1 = np.load(path_load_embeddings + 'test_data_embedding_1.npy')\n",
    "test_data=(test_data_0, test_data_1)\n",
    "test_labels = np.load(path_load_embeddings + 'test_labels_embedding.npy')"
   ]
  },
  {
   "cell_type": "code",
   "execution_count": 21,
   "metadata": {},
   "outputs": [
    {
     "data": {
      "text/plain": [
       "(21366, 20, 2048)"
      ]
     },
     "execution_count": 21,
     "metadata": {},
     "output_type": "execute_result"
    }
   ],
   "source": [
    "train_data_0_base.shape"
   ]
  },
  {
   "cell_type": "markdown",
   "metadata": {},
   "source": [
    "Loading embeddings data_aug\n"
   ]
  },
  {
   "cell_type": "code",
   "execution_count": 22,
   "metadata": {},
   "outputs": [],
   "source": [
    "path_load_embeddings_aug= '/home/app/src/embeddings/move_shot/emb_data_trailer_aug_6826_20F_dd/'\n",
    "\n",
    "#Train\n",
    "train_data_0_aug = np.load(path_load_embeddings_aug + 'train_data_embedding_0.npy')\n",
    "train_data_1_aug = np.load(path_load_embeddings_aug + 'train_data_embedding_1.npy')\n",
    "train_data_aug=(train_data_0_aug, train_data_1_aug)\n",
    "train_labels_aug = np.load(path_load_embeddings_aug + 'train_labels_embedding.npy')"
   ]
  },
  {
   "cell_type": "code",
   "execution_count": 23,
   "metadata": {},
   "outputs": [
    {
     "data": {
      "text/plain": [
       "(6826, 20, 2048)"
      ]
     },
     "execution_count": 23,
     "metadata": {},
     "output_type": "execute_result"
    }
   ],
   "source": [
    "train_data_0_aug.shape"
   ]
  },
  {
   "cell_type": "code",
   "execution_count": 24,
   "metadata": {},
   "outputs": [],
   "source": [
    "train_data_0 = np.concatenate ((train_data_0_base, train_data_0_aug))\n",
    "train_data_1 = np.concatenate ((train_data_1_base, train_data_1_aug))\n",
    "train_labels = np.concatenate ((train_labels_base, train_labels_aug))\n",
    "train_data = (train_data_0, train_data_1)"
   ]
  },
  {
   "cell_type": "code",
   "execution_count": 25,
   "metadata": {},
   "outputs": [],
   "source": [
    "perm = np.random.permutation(train_data_0.shape[0]) \n",
    "train_data_0_shuffle = train_data_0[perm]\n",
    "train_data_1_shuffle = train_data_1[perm]\n",
    "train_labels_shuffle = train_labels[perm]\n",
    "\n",
    "train_data = (train_data_0_shuffle, train_data_1_shuffle)"
   ]
  },
  {
   "cell_type": "code",
   "execution_count": 26,
   "metadata": {},
   "outputs": [],
   "source": [
    "# train_labels.shape"
   ]
  },
  {
   "cell_type": "code",
   "execution_count": 27,
   "metadata": {},
   "outputs": [],
   "source": [
    "# np.unique(train_labels_shuffle)"
   ]
  },
  {
   "cell_type": "code",
   "execution_count": 28,
   "metadata": {},
   "outputs": [],
   "source": [
    "# path_load_labels= '/home/app/src/embeddings/aa/'\n",
    "# train_labels = np.load(path_load_labels + 'train_labels_embedding.npy')\n",
    "# test_labels = np.load(path_load_labels + 'test_labels_embedding.npy')\n"
   ]
  },
  {
   "cell_type": "markdown",
   "metadata": {},
   "source": [
    "Sequence model (RNN)"
   ]
  },
  {
   "cell_type": "code",
   "execution_count": 29,
   "metadata": {},
   "outputs": [
    {
     "name": "stderr",
     "output_type": "stream",
     "text": [
      "2022-11-22 14:00:28.817932: W tensorflow/core/framework/cpu_allocator_impl.cc:82] Allocation of 3233218560 exceeds 10% of free system memory.\n",
      "2022-11-22 14:00:31.950766: W tensorflow/core/framework/cpu_allocator_impl.cc:82] Allocation of 3233218560 exceeds 10% of free system memory.\n"
     ]
    },
    {
     "name": "stdout",
     "output_type": "stream",
     "text": [
      "Epoch 1/20\n"
     ]
    },
    {
     "name": "stderr",
     "output_type": "stream",
     "text": [
      "2022-11-22 14:00:42.905001: I tensorflow/stream_executor/cuda/cuda_dnn.cc:368] Loaded cuDNN version 8200\n"
     ]
    },
    {
     "name": "stdout",
     "output_type": "stream",
     "text": [
      "309/309 [==============================] - ETA: 0s - loss: 0.9596 - accuracy: 0.5823\n",
      "Epoch 1: val_loss improved from inf to 3.34143, saving model to /home/app/src/experiments/inceptionv3_GRU/exp_006/model.weights_move.h5\n",
      "309/309 [==============================] - 24s 43ms/step - loss: 0.9596 - accuracy: 0.5823 - val_loss: 3.3414 - val_accuracy: 0.0782 - lr: 0.0010\n",
      "Epoch 2/20\n",
      "307/309 [============================>.] - ETA: 0s - loss: 0.8167 - accuracy: 0.6682\n",
      "Epoch 2: val_loss did not improve from 3.34143\n",
      "309/309 [==============================] - 8s 27ms/step - loss: 0.8167 - accuracy: 0.6681 - val_loss: 3.4908 - val_accuracy: 0.0782 - lr: 0.0010\n",
      "Epoch 3/20\n",
      "307/309 [============================>.] - ETA: 0s - loss: 0.8034 - accuracy: 0.6678\n",
      "Epoch 3: val_loss did not improve from 3.34143\n",
      "309/309 [==============================] - 8s 27ms/step - loss: 0.8029 - accuracy: 0.6683 - val_loss: 3.4595 - val_accuracy: 0.0782 - lr: 0.0010\n",
      "Epoch 4/20\n",
      "307/309 [============================>.] - ETA: 0s - loss: 0.7989 - accuracy: 0.6680\n",
      "Epoch 4: val_loss did not improve from 3.34143\n",
      "309/309 [==============================] - 8s 27ms/step - loss: 0.7986 - accuracy: 0.6683 - val_loss: 3.4051 - val_accuracy: 0.0782 - lr: 0.0010\n",
      "Epoch 5/20\n",
      "308/309 [============================>.] - ETA: 0s - loss: 0.7934 - accuracy: 0.6683\n",
      "Epoch 5: val_loss did not improve from 3.34143\n",
      "309/309 [==============================] - 8s 27ms/step - loss: 0.7934 - accuracy: 0.6683 - val_loss: 3.4477 - val_accuracy: 0.0782 - lr: 5.0000e-04\n",
      "Epoch 6/20\n",
      "307/309 [============================>.] - ETA: 0s - loss: 0.7939 - accuracy: 0.6684\n",
      "Epoch 6: val_loss did not improve from 3.34143\n",
      "309/309 [==============================] - 8s 27ms/step - loss: 0.7942 - accuracy: 0.6683 - val_loss: 3.4738 - val_accuracy: 0.0782 - lr: 5.0000e-04\n",
      "Epoch 7/20\n",
      "307/309 [============================>.] - ETA: 0s - loss: 0.7904 - accuracy: 0.6682\n",
      "Epoch 7: val_loss did not improve from 3.34143\n",
      "309/309 [==============================] - 8s 27ms/step - loss: 0.7903 - accuracy: 0.6683 - val_loss: 3.4514 - val_accuracy: 0.0782 - lr: 5.0000e-04\n",
      "Epoch 8/20\n",
      "308/309 [============================>.] - ETA: 0s - loss: 0.7894 - accuracy: 0.6684\n",
      "Epoch 8: val_loss did not improve from 3.34143\n",
      "309/309 [==============================] - 8s 27ms/step - loss: 0.7895 - accuracy: 0.6683 - val_loss: 3.4834 - val_accuracy: 0.0782 - lr: 2.5000e-04\n",
      "Epoch 9/20\n",
      "309/309 [==============================] - ETA: 0s - loss: 0.7888 - accuracy: 0.6683\n",
      "Epoch 9: val_loss did not improve from 3.34143\n",
      "309/309 [==============================] - 8s 27ms/step - loss: 0.7888 - accuracy: 0.6683 - val_loss: 3.4626 - val_accuracy: 0.0782 - lr: 2.5000e-04\n",
      "Epoch 10/20\n",
      "309/309 [==============================] - ETA: 0s - loss: 0.7891 - accuracy: 0.6683\n",
      "Epoch 10: val_loss did not improve from 3.34143\n",
      "309/309 [==============================] - 8s 27ms/step - loss: 0.7891 - accuracy: 0.6683 - val_loss: 3.4227 - val_accuracy: 0.0782 - lr: 2.5000e-04\n",
      "Epoch 11/20\n",
      "307/309 [============================>.] - ETA: 0s - loss: 0.7886 - accuracy: 0.6683\n",
      "Epoch 11: val_loss did not improve from 3.34143\n",
      "309/309 [==============================] - 8s 27ms/step - loss: 0.7887 - accuracy: 0.6683 - val_loss: 3.4737 - val_accuracy: 0.0782 - lr: 1.2500e-04\n",
      "Epoch 12/20\n",
      "307/309 [============================>.] - ETA: 0s - loss: 0.7884 - accuracy: 0.6685\n",
      "Epoch 12: val_loss did not improve from 3.34143\n",
      "309/309 [==============================] - 9s 31ms/step - loss: 0.7886 - accuracy: 0.6683 - val_loss: 3.4823 - val_accuracy: 0.0782 - lr: 1.2500e-04\n",
      "Epoch 13/20\n",
      "309/309 [==============================] - ETA: 0s - loss: 0.7889 - accuracy: 0.6683\n",
      "Epoch 13: val_loss did not improve from 3.34143\n",
      "309/309 [==============================] - 8s 27ms/step - loss: 0.7889 - accuracy: 0.6683 - val_loss: 3.4734 - val_accuracy: 0.0782 - lr: 1.2500e-04\n",
      "Epoch 14/20\n",
      "309/309 [==============================] - ETA: 0s - loss: 0.7871 - accuracy: 0.6683\n",
      "Epoch 14: val_loss did not improve from 3.34143\n",
      "309/309 [==============================] - 8s 27ms/step - loss: 0.7871 - accuracy: 0.6683 - val_loss: 3.4738 - val_accuracy: 0.0782 - lr: 6.2500e-05\n",
      "Epoch 15/20\n",
      "307/309 [============================>.] - ETA: 0s - loss: 0.7876 - accuracy: 0.6686\n",
      "Epoch 15: val_loss did not improve from 3.34143\n",
      "309/309 [==============================] - 8s 27ms/step - loss: 0.7879 - accuracy: 0.6683 - val_loss: 3.4523 - val_accuracy: 0.0782 - lr: 6.2500e-05\n",
      "Epoch 16/20\n",
      "307/309 [============================>.] - ETA: 0s - loss: 0.7854 - accuracy: 0.6682\n",
      "Epoch 16: val_loss did not improve from 3.34143\n",
      "309/309 [==============================] - 8s 27ms/step - loss: 0.7853 - accuracy: 0.6683 - val_loss: 3.5073 - val_accuracy: 0.0782 - lr: 6.2500e-05\n",
      "Epoch 17/20\n",
      "307/309 [============================>.] - ETA: 0s - loss: 0.7860 - accuracy: 0.6684\n",
      "Epoch 17: val_loss did not improve from 3.34143\n",
      "309/309 [==============================] - 8s 27ms/step - loss: 0.7860 - accuracy: 0.6683 - val_loss: 3.4339 - val_accuracy: 0.0782 - lr: 3.1250e-05\n",
      "Epoch 18/20\n",
      "307/309 [============================>.] - ETA: 0s - loss: 0.7862 - accuracy: 0.6680\n",
      "Epoch 18: val_loss did not improve from 3.34143\n",
      "309/309 [==============================] - 8s 27ms/step - loss: 0.7855 - accuracy: 0.6683 - val_loss: 3.4459 - val_accuracy: 0.0782 - lr: 3.1250e-05\n",
      "Epoch 19/20\n",
      "309/309 [==============================] - ETA: 0s - loss: 0.7851 - accuracy: 0.6683\n",
      "Epoch 19: val_loss did not improve from 3.34143\n",
      "309/309 [==============================] - 8s 27ms/step - loss: 0.7851 - accuracy: 0.6683 - val_loss: 3.4359 - val_accuracy: 0.0782 - lr: 3.1250e-05\n",
      "Epoch 20/20\n",
      "308/309 [============================>.] - ETA: 0s - loss: 0.7855 - accuracy: 0.6683\n",
      "Epoch 20: val_loss did not improve from 3.34143\n",
      "309/309 [==============================] - 8s 27ms/step - loss: 0.7855 - accuracy: 0.6683 - val_loss: 3.4528 - val_accuracy: 0.0782 - lr: 1.5625e-05\n",
      "255/255 [==============================] - 2s 10ms/step - loss: 0.8054 - accuracy: 0.6705\n",
      "Test accuracy: 67.05%\n"
     ]
    }
   ],
   "source": [
    "def get_sequence_model():\n",
    "    class_vocab = label_processor.get_vocabulary()\n",
    "    \n",
    "    frame_features_input = keras.Input((MAX_SEQ_LENGTH, NUM_FEATURES))\n",
    "    mask_input = keras.Input((MAX_SEQ_LENGTH,), dtype=\"bool\")\n",
    "\n",
    "    # Refer to the following tutorial to understand the significance of using `mask`:\n",
    "    # https://keras.io/api/layers/recurrent_layers/gru/\n",
    "    x = keras.layers.GRU(20, return_sequences=True)(\n",
    "        frame_features_input, mask=mask_input\n",
    "    )\n",
    "    x = keras.layers.GRU(10)(x)\n",
    "    x = keras.layers.Dropout(0.4)(x)\n",
    "    x = keras.layers.Dense(10, activation=\"relu\")(x)\n",
    "    output = keras.layers.Dense(len(class_vocab),kernel_regularizer='l2', activation=\"softmax\")(x)\n",
    "\n",
    "    rnn_model = keras.Model([frame_features_input, mask_input], output)\n",
    "\n",
    "    rnn_model.compile(\n",
    "        loss=\"sparse_categorical_crossentropy\", optimizer=tf.keras.optimizers.Adam(learning_rate=1e-3), metrics=[\"accuracy\"],\n",
    "    )\n",
    "    return rnn_model\n",
    "\n",
    "\n",
    "# Utility for running experiments.\n",
    "def run_experiment():\n",
    "    filepath = \"/home/app/src/experiments/inceptionv3_GRU/exp_006/model.weights_move.h5\"\n",
    "    filepath_log = '/home/app/src/experiments/inceptionv3_GRU/logs/move'\n",
    "\n",
    "    reduce_lr = keras.callbacks.ReduceLROnPlateau(monitor='val_loss', factor=0.5,\n",
    "                              patience=3, min_lr=0.000001)\n",
    "    checkpoint = keras.callbacks.ModelCheckpoint(\n",
    "        filepath, save_weights_only=True, save_best_only=True, verbose=1)\n",
    "    tensor_board = keras.callbacks.TensorBoard (filepath_log)\n",
    "\n",
    "    seq_model = get_sequence_model()\n",
    "    history = seq_model.fit(\n",
    "        [train_data[0], train_data[1]],\n",
    "        train_labels,\n",
    "        validation_split=0.3,\n",
    "        epochs=EPOCHS,\n",
    "        callbacks=[checkpoint, reduce_lr, tensor_board],\n",
    "        batch_size = BATCH_SIZE,\n",
    "        shuffle = True\n",
    "    )\n",
    "\n",
    "    seq_model.load_weights(filepath)\n",
    "    _, accuracy = seq_model.evaluate([test_data[0], test_data[1]], test_labels)\n",
    "    print(f\"Test accuracy: {round(accuracy * 100, 2)}%\")\n",
    "    # Getting predictions\n",
    "    y_pred_proba = seq_model.predict([test_data[0], test_data[1]], batch_size = 128)\n",
    "    y_pred = []   \n",
    "    for arr in y_pred_proba:\n",
    "        idx_max = np.argmax(arr)\n",
    "        y_pred.append(idx_max)\n",
    "\n",
    "    return history, seq_model, y_pred, y_pred_proba\n",
    "\n",
    "\n",
    "_, sequence_model, y_pred, y_pred_proba = run_experiment()\n"
   ]
  },
  {
   "cell_type": "code",
   "execution_count": 30,
   "metadata": {},
   "outputs": [
    {
     "name": "stderr",
     "output_type": "stream",
     "text": [
      "UsageError: Line magic function `%tensorboard` not found.\n"
     ]
    }
   ],
   "source": [
    "%tensorboard == logdir /home/app/src/experiments/inceptionv3_GRU/logs"
   ]
  },
  {
   "cell_type": "code",
   "execution_count": 31,
   "metadata": {},
   "outputs": [
    {
     "data": {
      "text/plain": [
       "array([[0.30321062, 0.01350524, 0.03696957, 0.64631456],\n",
       "       [0.30311197, 0.01359644, 0.03699716, 0.6462945 ],\n",
       "       [0.30305433, 0.01359524, 0.03694758, 0.6464029 ],\n",
       "       ...,\n",
       "       [0.30304682, 0.01359914, 0.03694458, 0.6464095 ],\n",
       "       [0.3031741 , 0.01355633, 0.03700006, 0.64626944],\n",
       "       [0.30304298, 0.01360394, 0.03694838, 0.64640474]], dtype=float32)"
      ]
     },
     "execution_count": 31,
     "metadata": {},
     "output_type": "execute_result"
    }
   ],
   "source": [
    "y_pred_proba #predictions proba"
   ]
  },
  {
   "cell_type": "code",
   "execution_count": 32,
   "metadata": {},
   "outputs": [
    {
     "data": {
      "text/plain": [
       "['Motion', 'Pull', 'Push', 'Static']"
      ]
     },
     "execution_count": 32,
     "metadata": {},
     "output_type": "execute_result"
    }
   ],
   "source": [
    "class_vocab = label_processor.get_vocabulary()\n",
    "class_vocab"
   ]
  },
  {
   "cell_type": "code",
   "execution_count": 33,
   "metadata": {},
   "outputs": [
    {
     "data": {
      "text/plain": [
       "array([3])"
      ]
     },
     "execution_count": 33,
     "metadata": {},
     "output_type": "execute_result"
    }
   ],
   "source": [
    "np.unique(y_pred)   # predictions"
   ]
  },
  {
   "cell_type": "code",
   "execution_count": 34,
   "metadata": {},
   "outputs": [
    {
     "data": {
      "text/plain": [
       "array([0, 1, 2, 3])"
      ]
     },
     "execution_count": 34,
     "metadata": {},
     "output_type": "execute_result"
    }
   ],
   "source": [
    "np.unique(test_labels) # True labels"
   ]
  },
  {
   "cell_type": "code",
   "execution_count": 35,
   "metadata": {},
   "outputs": [
    {
     "data": {
      "text/plain": [
       "<AxesSubplot: >"
      ]
     },
     "execution_count": 35,
     "metadata": {},
     "output_type": "execute_result"
    },
    {
     "data": {
      "image/png": "[encoded data removed]",
      "text/plain": [
       "<Figure size 640x480 with 2 Axes>"
      ]
     },
     "metadata": {},
     "output_type": "display_data"
    }
   ],
   "source": [
    "# Confussion Matrix\n",
    "c_matrix = confusion_matrix(test_labels, y_pred , normalize='pred')\n",
    "# Plotting\n",
    "class_vocab = label_processor.get_vocabulary()\n",
    "df_cm = pd.DataFrame(c_matrix,index = [i for i in class_vocab],\n",
    "                  columns = [i for i in class_vocab])\n",
    "sns.set(font_scale=1.4) # for label size\n",
    "sns.heatmap(df_cm, annot=True, annot_kws={\"size\": 16}) # font size\n"
   ]
  },
  {
   "cell_type": "code",
   "execution_count": 36,
   "metadata": {},
   "outputs": [
    {
     "name": "stdout",
     "output_type": "stream",
     "text": [
      "              precision    recall  f1-score   support\n",
      "\n",
      "      Motion       0.00      0.00      0.00      2385\n",
      "        Pull       0.00      0.00      0.00        80\n",
      "        Push       0.00      0.00      0.00       220\n",
      "      Static       0.67      1.00      0.80      5464\n",
      "\n",
      "    accuracy                           0.67      8149\n",
      "   macro avg       0.17      0.25      0.20      8149\n",
      "weighted avg       0.45      0.67      0.54      8149\n",
      "\n"
     ]
    },
    {
     "name": "stderr",
     "output_type": "stream",
     "text": [
      "/home/app/.local/lib/python3.8/site-packages/sklearn/metrics/_classification.py:1318: UndefinedMetricWarning: Precision and F-score are ill-defined and being set to 0.0 in labels with no predicted samples. Use `zero_division` parameter to control this behavior.\n",
      "  _warn_prf(average, modifier, msg_start, len(result))\n",
      "/home/app/.local/lib/python3.8/site-packages/sklearn/metrics/_classification.py:1318: UndefinedMetricWarning: Precision and F-score are ill-defined and being set to 0.0 in labels with no predicted samples. Use `zero_division` parameter to control this behavior.\n",
      "  _warn_prf(average, modifier, msg_start, len(result))\n",
      "/home/app/.local/lib/python3.8/site-packages/sklearn/metrics/_classification.py:1318: UndefinedMetricWarning: Precision and F-score are ill-defined and being set to 0.0 in labels with no predicted samples. Use `zero_division` parameter to control this behavior.\n",
      "  _warn_prf(average, modifier, msg_start, len(result))\n"
     ]
    }
   ],
   "source": [
    "# Metrics report\n",
    "class_vocab = label_processor.get_vocabulary()\n",
    "print(classification_report(test_labels, y_pred, target_names=class_vocab ))"
   ]
  },
  {
   "cell_type": "code",
   "execution_count": 37,
   "metadata": {},
   "outputs": [],
   "source": [
    "#[precision, recall,f1,support]=precision_recall_fscore_support(y_true, y_pred, average='macro')"
   ]
  },
  {
   "cell_type": "markdown",
   "metadata": {},
   "source": [
    "Predictions"
   ]
  },
  {
   "cell_type": "code",
   "execution_count": 38,
   "metadata": {},
   "outputs": [
    {
     "name": "stdout",
     "output_type": "stream",
     "text": [
      "Test video path: /home/app/src/data/shot-type-dataset/trailer_v3/test/shot_tt2069715_0036.mp4\n",
      "  Static: 34.90%\n",
      "  Motion: 24.55%\n",
      "  Push: 20.48%\n",
      "  Pull: 20.07%\n",
      "Real Label: Motion\n"
     ]
    },
    {
     "ename": "FileNotFoundError",
     "evalue": "[Errno 2] No such file or directory: '/home/app/src/data/shot-type-dataset/trailer_v3/test/shot_tt2069715_0036.mp4'",
     "output_type": "error",
     "traceback": [
      "\u001b[0;31m---------------------------------------------------------------------------\u001b[0m",
      "\u001b[0;31mFileNotFoundError\u001b[0m                         Traceback (most recent call last)",
      "Cell \u001b[0;32mIn [38], line 42\u001b[0m\n\u001b[1;32m     40\u001b[0m real_label \u001b[39m=\u001b[39m test_df[test_df[\u001b[39m'\u001b[39m\u001b[39mvideo_name\u001b[39m\u001b[39m'\u001b[39m] \u001b[39m==\u001b[39mtest_video][\u001b[39m'\u001b[39m\u001b[39mtag\u001b[39m\u001b[39m'\u001b[39m]\u001b[39m.\u001b[39miloc[\u001b[39m0\u001b[39m]\n\u001b[1;32m     41\u001b[0m \u001b[39mprint\u001b[39m(\u001b[39mf\u001b[39m\u001b[39m'\u001b[39m\u001b[39mReal Label: \u001b[39m\u001b[39m{\u001b[39;00mreal_label\u001b[39m}\u001b[39;00m\u001b[39m'\u001b[39m)\n\u001b[0;32m---> 42\u001b[0m new_ \u001b[39m=\u001b[39m Video\u001b[39m.\u001b[39;49mfrom_file(test_video,play\u001b[39m=\u001b[39;49m\u001b[39mTrue\u001b[39;49;00m)\n\u001b[1;32m     43\u001b[0m new_\n\u001b[1;32m     44\u001b[0m \u001b[39m#to_gif(test_frames[:MAX_SEQ_LENGTH])\u001b[39;00m\n",
      "File \u001b[0;32m~/.local/lib/python3.8/site-packages/ipywidgets/widgets/widget_media.py:192\u001b[0m, in \u001b[0;36mVideo.from_file\u001b[0;34m(cls, filename, **kwargs)\u001b[0m\n\u001b[1;32m    190\u001b[0m \u001b[39m@classmethod\u001b[39m\n\u001b[1;32m    191\u001b[0m \u001b[39mdef\u001b[39;00m \u001b[39mfrom_file\u001b[39m(\u001b[39mcls\u001b[39m, filename, \u001b[39m*\u001b[39m\u001b[39m*\u001b[39mkwargs):\n\u001b[0;32m--> 192\u001b[0m     \u001b[39mreturn\u001b[39;00m \u001b[39mcls\u001b[39;49m\u001b[39m.\u001b[39;49m_from_file(\u001b[39m'\u001b[39;49m\u001b[39mvideo\u001b[39;49m\u001b[39m'\u001b[39;49m, filename, \u001b[39m*\u001b[39;49m\u001b[39m*\u001b[39;49mkwargs)\n",
      "File \u001b[0;32m~/.local/lib/python3.8/site-packages/ipywidgets/widgets/widget_media.py:43\u001b[0m, in \u001b[0;36m_Media._from_file\u001b[0;34m(cls, tag, filename, **kwargs)\u001b[0m\n\u001b[1;32m     28\u001b[0m \u001b[39m@classmethod\u001b[39m\n\u001b[1;32m     29\u001b[0m \u001b[39mdef\u001b[39;00m \u001b[39m_from_file\u001b[39m(\u001b[39mcls\u001b[39m, tag, filename, \u001b[39m*\u001b[39m\u001b[39m*\u001b[39mkwargs):\n\u001b[1;32m     30\u001b[0m     \u001b[39m\"\"\"\u001b[39;00m\n\u001b[1;32m     31\u001b[0m \u001b[39m    Create an :class:`Media` from a local file.\u001b[39;00m\n\u001b[1;32m     32\u001b[0m \n\u001b[0;32m   (...)\u001b[0m\n\u001b[1;32m     41\u001b[0m \u001b[39m    Returns an `Media` with the value set from the filename.\u001b[39;00m\n\u001b[1;32m     42\u001b[0m \u001b[39m    \"\"\"\u001b[39;00m\n\u001b[0;32m---> 43\u001b[0m     value \u001b[39m=\u001b[39m \u001b[39mcls\u001b[39;49m\u001b[39m.\u001b[39;49m_load_file_value(filename)\n\u001b[1;32m     45\u001b[0m     \u001b[39mif\u001b[39;00m \u001b[39m'\u001b[39m\u001b[39mformat\u001b[39m\u001b[39m'\u001b[39m \u001b[39mnot\u001b[39;00m \u001b[39min\u001b[39;00m kwargs:\n\u001b[1;32m     46\u001b[0m         \u001b[39mformat\u001b[39m \u001b[39m=\u001b[39m \u001b[39mcls\u001b[39m\u001b[39m.\u001b[39m_guess_format(tag, filename)\n",
      "File \u001b[0;32m~/.local/lib/python3.8/site-packages/ipywidgets/widgets/widget_media.py:94\u001b[0m, in \u001b[0;36m_Media._load_file_value\u001b[0;34m(cls, filename)\u001b[0m\n\u001b[1;32m     92\u001b[0m     \u001b[39mreturn\u001b[39;00m filename\u001b[39m.\u001b[39mread()\n\u001b[1;32m     93\u001b[0m \u001b[39melse\u001b[39;00m:\n\u001b[0;32m---> 94\u001b[0m     \u001b[39mwith\u001b[39;00m \u001b[39mopen\u001b[39;49m(filename, \u001b[39m'\u001b[39;49m\u001b[39mrb\u001b[39;49m\u001b[39m'\u001b[39;49m) \u001b[39mas\u001b[39;00m f:\n\u001b[1;32m     95\u001b[0m         \u001b[39mreturn\u001b[39;00m f\u001b[39m.\u001b[39mread()\n",
      "\u001b[0;31mFileNotFoundError\u001b[0m: [Errno 2] No such file or directory: '/home/app/src/data/shot-type-dataset/trailer_v3/test/shot_tt2069715_0036.mp4'"
     ]
    }
   ],
   "source": [
    "def prepare_single_video(frames):\n",
    "    frames = frames[None, ...]\n",
    "    frame_mask = np.zeros(shape=(1, MAX_SEQ_LENGTH,), dtype=\"bool\")\n",
    "    frame_features = np.zeros(shape=(1, MAX_SEQ_LENGTH, NUM_FEATURES), dtype=\"float32\")\n",
    "\n",
    "    for i, batch in enumerate(frames):\n",
    "        video_length = batch.shape[0]\n",
    "        length = min(MAX_SEQ_LENGTH, video_length)\n",
    "        for j in range(length):\n",
    "            frame_features[i, j, :] = feature_extractor.predict(batch[None, j, :])\n",
    "        frame_mask[i, :length] = 1  # 1 = not masked, 0 = masked\n",
    "\n",
    "    return frame_features, frame_mask\n",
    "\n",
    "\n",
    "def sequence_prediction(path):\n",
    "    class_vocab = label_processor.get_vocabulary()\n",
    "\n",
    "    frames = load_video(os.path.join(\"test\", path))\n",
    "    frame_features, frame_mask = prepare_single_video(frames)\n",
    "    probabilities = sequence_model.predict([frame_features, frame_mask])[0]\n",
    "\n",
    "    for i in np.argsort(probabilities)[::-1]:\n",
    "        print(f\"  {class_vocab[i]}: {probabilities[i] * 100:5.2f}%\")\n",
    "    return frames\n",
    "\n",
    "\n",
    "# This utility is for visualization.\n",
    "# Referenced from:\n",
    "# https://www.tensorflow.org/hub/tutorials/action_recognition_with_tf_hub\n",
    "def to_gif(images):\n",
    "    converted_images = images.astype(np.uint8)\n",
    "    imageio.mimsave(\"animation.gif\", converted_images, fps=10)\n",
    "    return embed.embed_file(\"animation.gif\")\n",
    "\n",
    "\n",
    "test_video = np.random.choice(test_df[\"video_name\"].values.tolist())\n",
    "print(f\"Test video path: {test_video}\")\n",
    "test_frames = sequence_prediction(test_video)\n",
    "real_label = test_df[test_df['video_name'] ==test_video]['tag'].iloc[0]\n",
    "print(f'Real Label: {real_label}')\n",
    "new_ = Video.from_file(test_video,play=True)\n",
    "new_\n",
    "#to_gif(test_frames[:MAX_SEQ_LENGTH])"
   ]
  }
 ],
 "metadata": {
  "kernelspec": {
   "display_name": "Python 3 (ipykernel)",
   "language": "python",
   "name": "python3"
  },
  "language_info": {
   "codemirror_mode": {
    "name": "ipython",
    "version": 3
   },
   "file_extension": ".py",
   "mimetype": "text/x-python",
   "name": "python",
   "nbconvert_exporter": "python",
   "pygments_lexer": "ipython3",
   "version": "3.8.10"
  },
  "orig_nbformat": 4,
  "vscode": {
   "interpreter": {
    "hash": "31f2aee4e71d21fbe5cf8b01ff0e069b9275f58929596ceb00d14d90e3e16cd6"
   }
  }
 },
 "nbformat": 4,
 "nbformat_minor": 2
}
