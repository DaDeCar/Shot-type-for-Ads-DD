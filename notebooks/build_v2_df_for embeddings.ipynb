{
 "cells": [
  {
   "cell_type": "code",
   "execution_count": 2,
   "metadata": {},
   "outputs": [],
   "source": [
    "#from tensorflow_docs.vis import embed\n",
    "from tensorflow import keras\n",
    "#from imutils import paths\n",
    "\n",
    "#import matplotlib.pyplot as plt\n",
    "import tensorflow as tf\n",
    "import pandas as pd\n",
    "import numpy as np\n",
    "#import imageio\n",
    "import cv2\n",
    "from ipywidgets import Video, Image\n",
    "\n",
    "import os\n",
    "import json"
   ]
  },
  {
   "cell_type": "markdown",
   "metadata": {},
   "source": [
    "Building V2_trailer_Dataset"
   ]
  },
  {
   "cell_type": "code",
   "execution_count": 3,
   "metadata": {},
   "outputs": [],
   "source": [
    "# reading the JSON data using json.load()\n",
    "file = '/home/app/src/data/shot-type-dataset/v2_full_trailer.json'\n",
    "with open(file) as train_file:\n",
    "    dict_v2= json.load(train_file)"
   ]
  },
  {
   "cell_type": "code",
   "execution_count": 4,
   "metadata": {},
   "outputs": [],
   "source": [
    "# Creating a DataFrame with the v2_full_trailer.json\"\n",
    "\n",
    "dataset = []\n",
    "movie = []\n",
    "shot= []\n",
    "scale_label = []\n",
    "scale_val = []\n",
    "mov_label = []\n",
    "mov_val = []\n",
    "\n",
    "# We pass for all JSON keys an append every trailer labels different lists\n",
    "for key_movie in dict_v2:\n",
    "    for key_shot in dict_v2[key_movie]:\n",
    "\n",
    "        dataset.append('v2')\n",
    "        movie.append(key_movie)\n",
    "        shot.append(key_shot)\n",
    "        scale_label.append('None')\n",
    "        scale_val.append(int(0))\n",
    "        mov_label.append(dict_v2[key_movie][key_shot]['movement']['label'])\n",
    "        mov_val.append(dict_v2[key_movie][key_shot]['movement']['value'])\n",
    "\n",
    "# We build the dataframe with the lists data\n",
    "data = list(zip(dataset, movie, shot, scale_label, scale_val, mov_label, mov_val))  \n",
    "columns = ['dataset','movie', 'shot', 'scale_label', 'scale_val', 'move_label', 'move_val']  \n",
    "        \n",
    "dataset_df_v2 = pd.DataFrame(data, columns=columns)"
   ]
  },
  {
   "cell_type": "code",
   "execution_count": 5,
   "metadata": {},
   "outputs": [],
   "source": [
    "v2_df = dataset_df_v2\n",
    "v2_path = '/home/app/src/data/shot-type-dataset/trailer_v2/'\n",
    "v2_df ['video_name'] = v2_path + dataset_df_v2['movie'] + '/'+ 'shot_' + dataset_df_v2['shot'] + '.mp4'\n",
    "v2_df = v2_df[['video_name', 'move_label']]\n",
    "v2_df = v2_df.rename(columns ={'move_label': 'tag'})\n"
   ]
  },
  {
   "cell_type": "code",
   "execution_count": 6,
   "metadata": {},
   "outputs": [
    {
     "data": {
      "text/html": [
       "<div>\n",
       "<style scoped>\n",
       "    .dataframe tbody tr th:only-of-type {\n",
       "        vertical-align: middle;\n",
       "    }\n",
       "\n",
       "    .dataframe tbody tr th {\n",
       "        vertical-align: top;\n",
       "    }\n",
       "\n",
       "    .dataframe thead th {\n",
       "        text-align: right;\n",
       "    }\n",
       "</style>\n",
       "<table border=\"1\" class=\"dataframe\">\n",
       "  <thead>\n",
       "    <tr style=\"text-align: right;\">\n",
       "      <th></th>\n",
       "      <th>video_name</th>\n",
       "      <th>tag</th>\n",
       "    </tr>\n",
       "  </thead>\n",
       "  <tbody>\n",
       "    <tr>\n",
       "      <th>0</th>\n",
       "      <td>/home/app/src/data/shot-type-dataset/trailer_v...</td>\n",
       "      <td>Pull</td>\n",
       "    </tr>\n",
       "    <tr>\n",
       "      <th>1</th>\n",
       "      <td>/home/app/src/data/shot-type-dataset/trailer_v...</td>\n",
       "      <td>Push</td>\n",
       "    </tr>\n",
       "    <tr>\n",
       "      <th>2</th>\n",
       "      <td>/home/app/src/data/shot-type-dataset/trailer_v...</td>\n",
       "      <td>Push</td>\n",
       "    </tr>\n",
       "    <tr>\n",
       "      <th>3</th>\n",
       "      <td>/home/app/src/data/shot-type-dataset/trailer_v...</td>\n",
       "      <td>Push</td>\n",
       "    </tr>\n",
       "    <tr>\n",
       "      <th>4</th>\n",
       "      <td>/home/app/src/data/shot-type-dataset/trailer_v...</td>\n",
       "      <td>Pull</td>\n",
       "    </tr>\n",
       "    <tr>\n",
       "      <th>...</th>\n",
       "      <td>...</td>\n",
       "      <td>...</td>\n",
       "    </tr>\n",
       "    <tr>\n",
       "      <th>601</th>\n",
       "      <td>/home/app/src/data/shot-type-dataset/trailer_v...</td>\n",
       "      <td>Push</td>\n",
       "    </tr>\n",
       "    <tr>\n",
       "      <th>602</th>\n",
       "      <td>/home/app/src/data/shot-type-dataset/trailer_v...</td>\n",
       "      <td>Push</td>\n",
       "    </tr>\n",
       "    <tr>\n",
       "      <th>603</th>\n",
       "      <td>/home/app/src/data/shot-type-dataset/trailer_v...</td>\n",
       "      <td>Push</td>\n",
       "    </tr>\n",
       "    <tr>\n",
       "      <th>604</th>\n",
       "      <td>/home/app/src/data/shot-type-dataset/trailer_v...</td>\n",
       "      <td>Push</td>\n",
       "    </tr>\n",
       "    <tr>\n",
       "      <th>605</th>\n",
       "      <td>/home/app/src/data/shot-type-dataset/trailer_v...</td>\n",
       "      <td>Push</td>\n",
       "    </tr>\n",
       "  </tbody>\n",
       "</table>\n",
       "<p>606 rows × 2 columns</p>\n",
       "</div>"
      ],
      "text/plain": [
       "                                            video_name   tag\n",
       "0    /home/app/src/data/shot-type-dataset/trailer_v...  Pull\n",
       "1    /home/app/src/data/shot-type-dataset/trailer_v...  Push\n",
       "2    /home/app/src/data/shot-type-dataset/trailer_v...  Push\n",
       "3    /home/app/src/data/shot-type-dataset/trailer_v...  Push\n",
       "4    /home/app/src/data/shot-type-dataset/trailer_v...  Pull\n",
       "..                                                 ...   ...\n",
       "601  /home/app/src/data/shot-type-dataset/trailer_v...  Push\n",
       "602  /home/app/src/data/shot-type-dataset/trailer_v...  Push\n",
       "603  /home/app/src/data/shot-type-dataset/trailer_v...  Push\n",
       "604  /home/app/src/data/shot-type-dataset/trailer_v...  Push\n",
       "605  /home/app/src/data/shot-type-dataset/trailer_v...  Push\n",
       "\n",
       "[606 rows x 2 columns]"
      ]
     },
     "execution_count": 6,
     "metadata": {},
     "output_type": "execute_result"
    }
   ],
   "source": [
    "v2_df"
   ]
  },
  {
   "cell_type": "code",
   "execution_count": 7,
   "metadata": {},
   "outputs": [],
   "source": [
    "#v2_df.to_csv('/home/app/src/data/CSV/dataset_v2.csv', index = False)"
   ]
  },
  {
   "cell_type": "markdown",
   "metadata": {},
   "source": [
    "Preparing Trailer_v3_dataset (The complete dataset)"
   ]
  },
  {
   "cell_type": "code",
   "execution_count": 75,
   "metadata": {},
   "outputs": [],
   "source": [
    "# data_df = pd. read_csv('/home/app/src/data/CSV/dataset_df.csv', dtype={\"shot\": str})\n",
    "\n",
    "# data_df.drop(columns=['scale_val'], inplace=True)\n",
    "# data_df.drop(columns = ['move_val'], inplace=True)\n",
    "\n",
    "# train_path = '/home/app/src/data/shot-type-dataset/trailer_v3/train/'\n",
    "# data_df['video_name'] = train_path + 'shot_' + data_df['movie'] + '_' + data_df['shot'] + '.mp4'\n",
    "# train_df = data_df[(data_df['dataset']=='train') | (data_df['dataset']=='val') ]\n",
    "# train_df = train_df[['video_name', 'move_label']]\n",
    "# train_df = train_df.rename(columns ={'move_label': 'tag'})\n",
    "\n",
    "\n",
    "# test_path = '/home/app/src/data/shot-type-dataset/trailer_v3/test/'\n",
    "# data_df['video_name'] = test_path + 'shot_' + data_df['movie'] + '_' + data_df['shot'] + '.mp4'\n",
    "# test_df = data_df[data_df['dataset']=='test']\n",
    "# test_df = test_df[['video_name', 'move_label']]\n",
    "# test_df = test_df.rename(columns ={'move_label': 'tag'})"
   ]
  },
  {
   "cell_type": "code",
   "execution_count": null,
   "metadata": {},
   "outputs": [],
   "source": []
  },
  {
   "cell_type": "markdown",
   "metadata": {},
   "source": [
    "Adding the same v2_videos 5 times"
   ]
  },
  {
   "cell_type": "code",
   "execution_count": 76,
   "metadata": {},
   "outputs": [],
   "source": [
    "# Adding v2 movies to train_df (1st)\n",
    "train_df = pd.concat([train_df, v2_df], axis=0)\n",
    "train_df = train_df.reset_index(drop = True) "
   ]
  },
  {
   "cell_type": "code",
   "execution_count": 77,
   "metadata": {},
   "outputs": [],
   "source": [
    "# Adding v2 movies to train_df (2nd)\n",
    "train_df = pd.concat([train_df, v2_df], axis=0)\n",
    "train_df = train_df.reset_index(drop = True) "
   ]
  },
  {
   "cell_type": "code",
   "execution_count": 78,
   "metadata": {},
   "outputs": [],
   "source": [
    "# Adding v2 movies to train_df (3rd)\n",
    "train_df = pd.concat([train_df, v2_df], axis=0)\n",
    "train_df = train_df.reset_index(drop = True) "
   ]
  },
  {
   "cell_type": "code",
   "execution_count": 79,
   "metadata": {},
   "outputs": [],
   "source": [
    "# Adding v2 movies to train_df (4rd)\n",
    "train_df = pd.concat([train_df, v2_df], axis=0)\n",
    "train_df = train_df.reset_index(drop = True) \n",
    "train_df.to_csv('/home/app/src/data/CSV/dataset_train_v2+v3.csv', index = False)"
   ]
  },
  {
   "cell_type": "code",
   "execution_count": 80,
   "metadata": {},
   "outputs": [],
   "source": [
    "# Adding v2 movies to train_df (5rd)\n",
    "train_df = pd.concat([train_df, v2_df], axis=0)\n",
    "train_df = train_df.reset_index(drop = True) \n",
    "train_df.to_csv('/home/app/src/data/CSV/dataset_train_v2+v3.csv', index = False)"
   ]
  },
  {
   "cell_type": "markdown",
   "metadata": {},
   "source": [
    "Finals DFs"
   ]
  },
  {
   "cell_type": "code",
   "execution_count": 81,
   "metadata": {},
   "outputs": [
    {
     "data": {
      "text/html": [
       "<div>\n",
       "<style scoped>\n",
       "    .dataframe tbody tr th:only-of-type {\n",
       "        vertical-align: middle;\n",
       "    }\n",
       "\n",
       "    .dataframe tbody tr th {\n",
       "        vertical-align: top;\n",
       "    }\n",
       "\n",
       "    .dataframe thead th {\n",
       "        text-align: right;\n",
       "    }\n",
       "</style>\n",
       "<table border=\"1\" class=\"dataframe\">\n",
       "  <thead>\n",
       "    <tr style=\"text-align: right;\">\n",
       "      <th></th>\n",
       "      <th>video_name</th>\n",
       "      <th>tag</th>\n",
       "    </tr>\n",
       "  </thead>\n",
       "  <tbody>\n",
       "    <tr>\n",
       "      <th>0</th>\n",
       "      <td>/home/app/src/data/shot-type-dataset/trailer_v...</td>\n",
       "      <td>Static</td>\n",
       "    </tr>\n",
       "    <tr>\n",
       "      <th>1</th>\n",
       "      <td>/home/app/src/data/shot-type-dataset/trailer_v...</td>\n",
       "      <td>Static</td>\n",
       "    </tr>\n",
       "    <tr>\n",
       "      <th>2</th>\n",
       "      <td>/home/app/src/data/shot-type-dataset/trailer_v...</td>\n",
       "      <td>Static</td>\n",
       "    </tr>\n",
       "    <tr>\n",
       "      <th>3</th>\n",
       "      <td>/home/app/src/data/shot-type-dataset/trailer_v...</td>\n",
       "      <td>Static</td>\n",
       "    </tr>\n",
       "    <tr>\n",
       "      <th>4</th>\n",
       "      <td>/home/app/src/data/shot-type-dataset/trailer_v...</td>\n",
       "      <td>Static</td>\n",
       "    </tr>\n",
       "    <tr>\n",
       "      <th>...</th>\n",
       "      <td>...</td>\n",
       "      <td>...</td>\n",
       "    </tr>\n",
       "    <tr>\n",
       "      <th>28491</th>\n",
       "      <td>/home/app/src/data/shot-type-dataset/trailer_v...</td>\n",
       "      <td>Push</td>\n",
       "    </tr>\n",
       "    <tr>\n",
       "      <th>28492</th>\n",
       "      <td>/home/app/src/data/shot-type-dataset/trailer_v...</td>\n",
       "      <td>Push</td>\n",
       "    </tr>\n",
       "    <tr>\n",
       "      <th>28493</th>\n",
       "      <td>/home/app/src/data/shot-type-dataset/trailer_v...</td>\n",
       "      <td>Push</td>\n",
       "    </tr>\n",
       "    <tr>\n",
       "      <th>28494</th>\n",
       "      <td>/home/app/src/data/shot-type-dataset/trailer_v...</td>\n",
       "      <td>Push</td>\n",
       "    </tr>\n",
       "    <tr>\n",
       "      <th>28495</th>\n",
       "      <td>/home/app/src/data/shot-type-dataset/trailer_v...</td>\n",
       "      <td>Push</td>\n",
       "    </tr>\n",
       "  </tbody>\n",
       "</table>\n",
       "<p>28496 rows × 2 columns</p>\n",
       "</div>"
      ],
      "text/plain": [
       "                                              video_name     tag\n",
       "0      /home/app/src/data/shot-type-dataset/trailer_v...  Static\n",
       "1      /home/app/src/data/shot-type-dataset/trailer_v...  Static\n",
       "2      /home/app/src/data/shot-type-dataset/trailer_v...  Static\n",
       "3      /home/app/src/data/shot-type-dataset/trailer_v...  Static\n",
       "4      /home/app/src/data/shot-type-dataset/trailer_v...  Static\n",
       "...                                                  ...     ...\n",
       "28491  /home/app/src/data/shot-type-dataset/trailer_v...    Push\n",
       "28492  /home/app/src/data/shot-type-dataset/trailer_v...    Push\n",
       "28493  /home/app/src/data/shot-type-dataset/trailer_v...    Push\n",
       "28494  /home/app/src/data/shot-type-dataset/trailer_v...    Push\n",
       "28495  /home/app/src/data/shot-type-dataset/trailer_v...    Push\n",
       "\n",
       "[28496 rows x 2 columns]"
      ]
     },
     "execution_count": 81,
     "metadata": {},
     "output_type": "execute_result"
    }
   ],
   "source": [
    "train_df"
   ]
  },
  {
   "cell_type": "code",
   "execution_count": 82,
   "metadata": {},
   "outputs": [
    {
     "data": {
      "text/html": [
       "<div>\n",
       "<style scoped>\n",
       "    .dataframe tbody tr th:only-of-type {\n",
       "        vertical-align: middle;\n",
       "    }\n",
       "\n",
       "    .dataframe tbody tr th {\n",
       "        vertical-align: top;\n",
       "    }\n",
       "\n",
       "    .dataframe thead th {\n",
       "        text-align: right;\n",
       "    }\n",
       "</style>\n",
       "<table border=\"1\" class=\"dataframe\">\n",
       "  <thead>\n",
       "    <tr style=\"text-align: right;\">\n",
       "      <th></th>\n",
       "      <th>video_name</th>\n",
       "      <th>tag</th>\n",
       "    </tr>\n",
       "  </thead>\n",
       "  <tbody>\n",
       "    <tr>\n",
       "      <th>25466</th>\n",
       "      <td>/home/app/src/data/shot-type-dataset/trailer_v...</td>\n",
       "      <td>Static</td>\n",
       "    </tr>\n",
       "    <tr>\n",
       "      <th>25467</th>\n",
       "      <td>/home/app/src/data/shot-type-dataset/trailer_v...</td>\n",
       "      <td>Static</td>\n",
       "    </tr>\n",
       "    <tr>\n",
       "      <th>25468</th>\n",
       "      <td>/home/app/src/data/shot-type-dataset/trailer_v...</td>\n",
       "      <td>Static</td>\n",
       "    </tr>\n",
       "    <tr>\n",
       "      <th>25469</th>\n",
       "      <td>/home/app/src/data/shot-type-dataset/trailer_v...</td>\n",
       "      <td>Static</td>\n",
       "    </tr>\n",
       "    <tr>\n",
       "      <th>25470</th>\n",
       "      <td>/home/app/src/data/shot-type-dataset/trailer_v...</td>\n",
       "      <td>Motion</td>\n",
       "    </tr>\n",
       "    <tr>\n",
       "      <th>...</th>\n",
       "      <td>...</td>\n",
       "      <td>...</td>\n",
       "    </tr>\n",
       "    <tr>\n",
       "      <th>33648</th>\n",
       "      <td>/home/app/src/data/shot-type-dataset/trailer_v...</td>\n",
       "      <td>Static</td>\n",
       "    </tr>\n",
       "    <tr>\n",
       "      <th>33649</th>\n",
       "      <td>/home/app/src/data/shot-type-dataset/trailer_v...</td>\n",
       "      <td>Motion</td>\n",
       "    </tr>\n",
       "    <tr>\n",
       "      <th>33650</th>\n",
       "      <td>/home/app/src/data/shot-type-dataset/trailer_v...</td>\n",
       "      <td>Motion</td>\n",
       "    </tr>\n",
       "    <tr>\n",
       "      <th>33651</th>\n",
       "      <td>/home/app/src/data/shot-type-dataset/trailer_v...</td>\n",
       "      <td>Static</td>\n",
       "    </tr>\n",
       "    <tr>\n",
       "      <th>33652</th>\n",
       "      <td>/home/app/src/data/shot-type-dataset/trailer_v...</td>\n",
       "      <td>Static</td>\n",
       "    </tr>\n",
       "  </tbody>\n",
       "</table>\n",
       "<p>8187 rows × 2 columns</p>\n",
       "</div>"
      ],
      "text/plain": [
       "                                              video_name     tag\n",
       "25466  /home/app/src/data/shot-type-dataset/trailer_v...  Static\n",
       "25467  /home/app/src/data/shot-type-dataset/trailer_v...  Static\n",
       "25468  /home/app/src/data/shot-type-dataset/trailer_v...  Static\n",
       "25469  /home/app/src/data/shot-type-dataset/trailer_v...  Static\n",
       "25470  /home/app/src/data/shot-type-dataset/trailer_v...  Motion\n",
       "...                                                  ...     ...\n",
       "33648  /home/app/src/data/shot-type-dataset/trailer_v...  Static\n",
       "33649  /home/app/src/data/shot-type-dataset/trailer_v...  Motion\n",
       "33650  /home/app/src/data/shot-type-dataset/trailer_v...  Motion\n",
       "33651  /home/app/src/data/shot-type-dataset/trailer_v...  Static\n",
       "33652  /home/app/src/data/shot-type-dataset/trailer_v...  Static\n",
       "\n",
       "[8187 rows x 2 columns]"
      ]
     },
     "execution_count": 82,
     "metadata": {},
     "output_type": "execute_result"
    }
   ],
   "source": [
    "\n",
    "test_df"
   ]
  },
  {
   "cell_type": "code",
   "execution_count": null,
   "metadata": {},
   "outputs": [],
   "source": []
  }
 ],
 "metadata": {
  "kernelspec": {
   "display_name": "Python 3.8.10 64-bit",
   "language": "python",
   "name": "python3"
  },
  "language_info": {
   "codemirror_mode": {
    "name": "ipython",
    "version": 3
   },
   "file_extension": ".py",
   "mimetype": "text/x-python",
   "name": "python",
   "nbconvert_exporter": "python",
   "pygments_lexer": "ipython3",
   "version": "3.8.10"
  },
  "orig_nbformat": 4,
  "vscode": {
   "interpreter": {
    "hash": "31f2aee4e71d21fbe5cf8b01ff0e069b9275f58929596ceb00d14d90e3e16cd6"
   }
  }
 },
 "nbformat": 4,
 "nbformat_minor": 2
}
