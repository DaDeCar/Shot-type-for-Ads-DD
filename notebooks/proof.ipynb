{
 "cells": [
  {
   "cell_type": "code",
   "execution_count": null,
   "metadata": {},
   "outputs": [],
   "source": [
    "import os\n",
    "\n",
    "import cv2\n",
    "import matplotlib.pyplot as plt\n",
    "import seaborn as sns\n",
    "\n",
    "import pandas as pd\n",
    "import json\n",
    "\n",
    "import warnings\n",
    "warnings.filterwarnings('ignore')"
   ]
  },
  {
   "cell_type": "code",
   "execution_count": null,
   "metadata": {},
   "outputs": [],
   "source": [
    "\n",
    "# # Frames that we are going to extract per video\n",
    "# N =  8\n",
    "\n",
    "# for idx in df.index.values[0:1]:\n",
    "#     movie = df['movie'].iloc[idx]\n",
    "#     shot = df['shot'].iloc[idx]\n",
    "#     # We use VideoCapture to obtain trailer's characteristics\n",
    "#     video2 = cv2.VideoCapture('/workspaces/final-project-shot-type/data/shot-type-dataset/trailer/'+ movie +'/shot_'+ str(shot) +'.mp4')\n",
    "    \n",
    "#     #Extracting the frame by position\n",
    "\n",
    "#     # obtaining the separation of each frame\n",
    "#     mult_frame = int((df['total_frames'][idx])/ N)\n",
    "#     # getting the N frames from the video\n",
    "#     for i in range(N):\n",
    "#         frame_id = int(i*mult_frame)\n",
    "#         video2.set(cv2.CAP_PROP_POS_FRAMES, frame_id)\n",
    "#         ret, frame = video2.read()\n",
    "#         print(frame.shape[2])\n",
    "\n",
    "        # # Saving frames as .jpeg\n",
    "        # img = frame\n",
    "        # dimensions = img.shape\n",
    "        # cv2.imshow('frame', frame); cv2.waitKey(25)\n",
    "        # save_path = '/workspaces/final-project-shot-type/data/frames/'+ movie +'/shot_' + str(shot) + 'frame_' + str(i) + '.jpeg'\n",
    "        # cv2.imwrite(save_path, frame)"
   ]
  }
 ],
 "metadata": {
  "kernelspec": {
   "display_name": "Python 3.8.10 64-bit",
   "language": "python",
   "name": "python3"
  },
  "language_info": {
   "name": "python",
   "version": "3.8.10"
  },
  "orig_nbformat": 4,
  "vscode": {
   "interpreter": {
    "hash": "31f2aee4e71d21fbe5cf8b01ff0e069b9275f58929596ceb00d14d90e3e16cd6"
   }
  }
 },
 "nbformat": 4,
 "nbformat_minor": 2
}
