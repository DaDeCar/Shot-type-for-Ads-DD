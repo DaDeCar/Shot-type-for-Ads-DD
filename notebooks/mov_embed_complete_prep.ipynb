{
 "cells": [
  {
   "cell_type": "code",
   "execution_count": 1,
   "metadata": {},
   "outputs": [],
   "source": [
    "#from tensorflow_docs.vis import embed\n",
    "from tensorflow import keras\n",
    "#from imutils import paths\n",
    "\n",
    "#import matplotlib.pyplot as plt\n",
    "import tensorflow as tf\n",
    "import pandas as pd\n",
    "import numpy as np\n",
    "#import imageio\n",
    "import cv2\n",
    "from ipywidgets import Video, Image\n",
    "\n",
    "import os\n",
    "import json"
   ]
  },
  {
   "cell_type": "markdown",
   "metadata": {},
   "source": [
    "Label preparation"
   ]
  },
  {
   "cell_type": "code",
   "execution_count": 2,
   "metadata": {},
   "outputs": [],
   "source": [
    "data_df = pd. read_csv('/home/app/src/data/CSV/dataset_df.csv', dtype={\"shot\": str})\n",
    "\n",
    "data_df.drop(columns=['scale_val'], inplace=True)\n",
    "data_df.drop(columns = ['move_val'], inplace=True)\n",
    "\n",
    "train_path = '/workspaces/final-project-shot-type/data/shot-type-dataset/trailer_v3/train/'\n",
    "data_df['video_name'] = train_path + 'shot_' + data_df['movie'] + '_' + data_df['shot'] + '.mp4'\n",
    "train_df = data_df[(data_df['dataset']=='train')]\n",
    "train_df = train_df[['video_name', 'move_label','scale_label']]\n",
    "train_df = train_df.rename(columns ={'move_label': 'tag'})\n",
    "\n",
    "\n",
    "test_path = '/workspaces/final-project-shot-type/data/shot-type-dataset/trailer_v3/test/'\n",
    "data_df['video_name'] = test_path + 'shot_' + data_df['movie'] + '_' + data_df['shot'] + '.mp4'\n",
    "test_df = data_df[data_df['dataset']=='test']\n",
    "test_df = test_df[['video_name', 'move_label','scale_label']]\n",
    "test_df = test_df.rename(columns ={'move_label': 'tag'})"
   ]
  },
  {
   "cell_type": "code",
   "execution_count": 3,
   "metadata": {},
   "outputs": [
    {
     "data": {
      "text/html": [
       "<div>\n",
       "<style scoped>\n",
       "    .dataframe tbody tr th:only-of-type {\n",
       "        vertical-align: middle;\n",
       "    }\n",
       "\n",
       "    .dataframe tbody tr th {\n",
       "        vertical-align: top;\n",
       "    }\n",
       "\n",
       "    .dataframe thead th {\n",
       "        text-align: right;\n",
       "    }\n",
       "</style>\n",
       "<table border=\"1\" class=\"dataframe\">\n",
       "  <thead>\n",
       "    <tr style=\"text-align: right;\">\n",
       "      <th></th>\n",
       "      <th>video_name</th>\n",
       "      <th>tag</th>\n",
       "      <th>scale_label</th>\n",
       "    </tr>\n",
       "  </thead>\n",
       "  <tbody>\n",
       "    <tr>\n",
       "      <th>0</th>\n",
       "      <td>/workspaces/final-project-shot-type/data/shot-...</td>\n",
       "      <td>Static</td>\n",
       "      <td>CS</td>\n",
       "    </tr>\n",
       "    <tr>\n",
       "      <th>1</th>\n",
       "      <td>/workspaces/final-project-shot-type/data/shot-...</td>\n",
       "      <td>Static</td>\n",
       "      <td>CS</td>\n",
       "    </tr>\n",
       "    <tr>\n",
       "      <th>2</th>\n",
       "      <td>/workspaces/final-project-shot-type/data/shot-...</td>\n",
       "      <td>Static</td>\n",
       "      <td>ECS</td>\n",
       "    </tr>\n",
       "    <tr>\n",
       "      <th>3</th>\n",
       "      <td>/workspaces/final-project-shot-type/data/shot-...</td>\n",
       "      <td>Static</td>\n",
       "      <td>MS</td>\n",
       "    </tr>\n",
       "    <tr>\n",
       "      <th>4</th>\n",
       "      <td>/workspaces/final-project-shot-type/data/shot-...</td>\n",
       "      <td>Static</td>\n",
       "      <td>CS</td>\n",
       "    </tr>\n",
       "    <tr>\n",
       "      <th>...</th>\n",
       "      <td>...</td>\n",
       "      <td>...</td>\n",
       "      <td>...</td>\n",
       "    </tr>\n",
       "    <tr>\n",
       "      <th>20851</th>\n",
       "      <td>/workspaces/final-project-shot-type/data/shot-...</td>\n",
       "      <td>Push</td>\n",
       "      <td>FS</td>\n",
       "    </tr>\n",
       "    <tr>\n",
       "      <th>20852</th>\n",
       "      <td>/workspaces/final-project-shot-type/data/shot-...</td>\n",
       "      <td>Motion</td>\n",
       "      <td>LS</td>\n",
       "    </tr>\n",
       "    <tr>\n",
       "      <th>20853</th>\n",
       "      <td>/workspaces/final-project-shot-type/data/shot-...</td>\n",
       "      <td>Push</td>\n",
       "      <td>LS</td>\n",
       "    </tr>\n",
       "    <tr>\n",
       "      <th>20854</th>\n",
       "      <td>/workspaces/final-project-shot-type/data/shot-...</td>\n",
       "      <td>Motion</td>\n",
       "      <td>FS</td>\n",
       "    </tr>\n",
       "    <tr>\n",
       "      <th>20855</th>\n",
       "      <td>/workspaces/final-project-shot-type/data/shot-...</td>\n",
       "      <td>Static</td>\n",
       "      <td>LS</td>\n",
       "    </tr>\n",
       "  </tbody>\n",
       "</table>\n",
       "<p>20856 rows × 3 columns</p>\n",
       "</div>"
      ],
      "text/plain": [
       "                                              video_name     tag scale_label\n",
       "0      /workspaces/final-project-shot-type/data/shot-...  Static          CS\n",
       "1      /workspaces/final-project-shot-type/data/shot-...  Static          CS\n",
       "2      /workspaces/final-project-shot-type/data/shot-...  Static         ECS\n",
       "3      /workspaces/final-project-shot-type/data/shot-...  Static          MS\n",
       "4      /workspaces/final-project-shot-type/data/shot-...  Static          CS\n",
       "...                                                  ...     ...         ...\n",
       "20851  /workspaces/final-project-shot-type/data/shot-...    Push          FS\n",
       "20852  /workspaces/final-project-shot-type/data/shot-...  Motion          LS\n",
       "20853  /workspaces/final-project-shot-type/data/shot-...    Push          LS\n",
       "20854  /workspaces/final-project-shot-type/data/shot-...  Motion          FS\n",
       "20855  /workspaces/final-project-shot-type/data/shot-...  Static          LS\n",
       "\n",
       "[20856 rows x 3 columns]"
      ]
     },
     "execution_count": 3,
     "metadata": {},
     "output_type": "execute_result"
    }
   ],
   "source": [
    "train_df"
   ]
  },
  {
   "cell_type": "code",
   "execution_count": 4,
   "metadata": {},
   "outputs": [
    {
     "data": {
      "text/html": [
       "<div>\n",
       "<style scoped>\n",
       "    .dataframe tbody tr th:only-of-type {\n",
       "        vertical-align: middle;\n",
       "    }\n",
       "\n",
       "    .dataframe tbody tr th {\n",
       "        vertical-align: top;\n",
       "    }\n",
       "\n",
       "    .dataframe thead th {\n",
       "        text-align: right;\n",
       "    }\n",
       "</style>\n",
       "<table border=\"1\" class=\"dataframe\">\n",
       "  <thead>\n",
       "    <tr style=\"text-align: right;\">\n",
       "      <th></th>\n",
       "      <th>video_name</th>\n",
       "      <th>tag</th>\n",
       "      <th>scale_label</th>\n",
       "    </tr>\n",
       "  </thead>\n",
       "  <tbody>\n",
       "    <tr>\n",
       "      <th>25466</th>\n",
       "      <td>/workspaces/final-project-shot-type/data/shot-...</td>\n",
       "      <td>Static</td>\n",
       "      <td>LS</td>\n",
       "    </tr>\n",
       "    <tr>\n",
       "      <th>25467</th>\n",
       "      <td>/workspaces/final-project-shot-type/data/shot-...</td>\n",
       "      <td>Static</td>\n",
       "      <td>MS</td>\n",
       "    </tr>\n",
       "    <tr>\n",
       "      <th>25468</th>\n",
       "      <td>/workspaces/final-project-shot-type/data/shot-...</td>\n",
       "      <td>Static</td>\n",
       "      <td>MS</td>\n",
       "    </tr>\n",
       "    <tr>\n",
       "      <th>25469</th>\n",
       "      <td>/workspaces/final-project-shot-type/data/shot-...</td>\n",
       "      <td>Static</td>\n",
       "      <td>LS</td>\n",
       "    </tr>\n",
       "    <tr>\n",
       "      <th>25470</th>\n",
       "      <td>/workspaces/final-project-shot-type/data/shot-...</td>\n",
       "      <td>Motion</td>\n",
       "      <td>FS</td>\n",
       "    </tr>\n",
       "    <tr>\n",
       "      <th>...</th>\n",
       "      <td>...</td>\n",
       "      <td>...</td>\n",
       "      <td>...</td>\n",
       "    </tr>\n",
       "    <tr>\n",
       "      <th>33648</th>\n",
       "      <td>/workspaces/final-project-shot-type/data/shot-...</td>\n",
       "      <td>Static</td>\n",
       "      <td>FS</td>\n",
       "    </tr>\n",
       "    <tr>\n",
       "      <th>33649</th>\n",
       "      <td>/workspaces/final-project-shot-type/data/shot-...</td>\n",
       "      <td>Motion</td>\n",
       "      <td>MS</td>\n",
       "    </tr>\n",
       "    <tr>\n",
       "      <th>33650</th>\n",
       "      <td>/workspaces/final-project-shot-type/data/shot-...</td>\n",
       "      <td>Motion</td>\n",
       "      <td>FS</td>\n",
       "    </tr>\n",
       "    <tr>\n",
       "      <th>33651</th>\n",
       "      <td>/workspaces/final-project-shot-type/data/shot-...</td>\n",
       "      <td>Static</td>\n",
       "      <td>LS</td>\n",
       "    </tr>\n",
       "    <tr>\n",
       "      <th>33652</th>\n",
       "      <td>/workspaces/final-project-shot-type/data/shot-...</td>\n",
       "      <td>Static</td>\n",
       "      <td>ECS</td>\n",
       "    </tr>\n",
       "  </tbody>\n",
       "</table>\n",
       "<p>8187 rows × 3 columns</p>\n",
       "</div>"
      ],
      "text/plain": [
       "                                              video_name     tag scale_label\n",
       "25466  /workspaces/final-project-shot-type/data/shot-...  Static          LS\n",
       "25467  /workspaces/final-project-shot-type/data/shot-...  Static          MS\n",
       "25468  /workspaces/final-project-shot-type/data/shot-...  Static          MS\n",
       "25469  /workspaces/final-project-shot-type/data/shot-...  Static          LS\n",
       "25470  /workspaces/final-project-shot-type/data/shot-...  Motion          FS\n",
       "...                                                  ...     ...         ...\n",
       "33648  /workspaces/final-project-shot-type/data/shot-...  Static          FS\n",
       "33649  /workspaces/final-project-shot-type/data/shot-...  Motion          MS\n",
       "33650  /workspaces/final-project-shot-type/data/shot-...  Motion          FS\n",
       "33651  /workspaces/final-project-shot-type/data/shot-...  Static          LS\n",
       "33652  /workspaces/final-project-shot-type/data/shot-...  Static         ECS\n",
       "\n",
       "[8187 rows x 3 columns]"
      ]
     },
     "execution_count": 4,
     "metadata": {},
     "output_type": "execute_result"
    }
   ],
   "source": [
    "test_df"
   ]
  },
  {
   "cell_type": "code",
   "execution_count": 5,
   "metadata": {},
   "outputs": [],
   "source": [
    "# train_df.to_csv('/home/app/src/data/CSV/dataset_train_20856_train_test_8187.csv', index = False)\n",
    "# test_df.to_csv('/home/app/src/data/CSV/dataset_test_20856_train_test_8187.csv', index = False)"
   ]
  },
  {
   "cell_type": "code",
   "execution_count": 6,
   "metadata": {},
   "outputs": [
    {
     "name": "stderr",
     "output_type": "stream",
     "text": [
      "2022-11-14 21:50:34.809931: I tensorflow/stream_executor/cuda/cuda_gpu_executor.cc:936] successful NUMA node read from SysFS had negative value (-1), but there must be at least one NUMA node, so returning NUMA node zero\n",
      "2022-11-14 21:50:34.818019: I tensorflow/stream_executor/cuda/cuda_gpu_executor.cc:936] successful NUMA node read from SysFS had negative value (-1), but there must be at least one NUMA node, so returning NUMA node zero\n",
      "2022-11-14 21:50:34.818870: I tensorflow/stream_executor/cuda/cuda_gpu_executor.cc:936] successful NUMA node read from SysFS had negative value (-1), but there must be at least one NUMA node, so returning NUMA node zero\n",
      "2022-11-14 21:50:34.820516: I tensorflow/core/platform/cpu_feature_guard.cc:151] This TensorFlow binary is optimized with oneAPI Deep Neural Network Library (oneDNN) to use the following CPU instructions in performance-critical operations:  AVX2 FMA\n",
      "To enable them in other operations, rebuild TensorFlow with the appropriate compiler flags.\n",
      "2022-11-14 21:50:34.820989: I tensorflow/stream_executor/cuda/cuda_gpu_executor.cc:936] successful NUMA node read from SysFS had negative value (-1), but there must be at least one NUMA node, so returning NUMA node zero\n",
      "2022-11-14 21:50:34.821823: I tensorflow/stream_executor/cuda/cuda_gpu_executor.cc:936] successful NUMA node read from SysFS had negative value (-1), but there must be at least one NUMA node, so returning NUMA node zero\n",
      "2022-11-14 21:50:34.822621: I tensorflow/stream_executor/cuda/cuda_gpu_executor.cc:936] successful NUMA node read from SysFS had negative value (-1), but there must be at least one NUMA node, so returning NUMA node zero\n",
      "2022-11-14 21:50:35.499289: I tensorflow/stream_executor/cuda/cuda_gpu_executor.cc:936] successful NUMA node read from SysFS had negative value (-1), but there must be at least one NUMA node, so returning NUMA node zero\n",
      "2022-11-14 21:50:35.500205: I tensorflow/stream_executor/cuda/cuda_gpu_executor.cc:936] successful NUMA node read from SysFS had negative value (-1), but there must be at least one NUMA node, so returning NUMA node zero\n",
      "2022-11-14 21:50:35.501070: I tensorflow/stream_executor/cuda/cuda_gpu_executor.cc:936] successful NUMA node read from"
     ]
    },
    {
     "name": "stdout",
     "output_type": "stream",
     "text": [
      "['Motion', 'Multi_movement', 'Pull', 'Push', 'Static']\n"
     ]
    },
    {
     "name": "stderr",
     "output_type": "stream",
     "text": [
      " SysFS had negative value (-1), but there must be at least one NUMA node, so returning NUMA node zero\n",
      "2022-11-14 21:50:35.501833: I tensorflow/core/common_runtime/gpu/gpu_device.cc:1525] Created device /job:localhost/replica:0/task:0/device:GPU:0 with 10794 MB memory:  -> device: 0, name: Tesla K80, pci bus id: 0000:00:1e.0, compute capability: 3.7\n"
     ]
    }
   ],
   "source": [
    "label_processor = keras.layers.StringLookup(\n",
    "    num_oov_indices=0, vocabulary=np.unique(train_df[\"tag\"])\n",
    ")\n",
    "print(label_processor.get_vocabulary())"
   ]
  },
  {
   "cell_type": "code",
   "execution_count": 7,
   "metadata": {},
   "outputs": [],
   "source": [
    "def prepare_all_videos(df, root_dir):\n",
    "    num_samples = len(df)\n",
    "    video_paths = df[\"video_name\"].values.tolist()\n",
    "    labels = df[\"tag\"].values\n",
    "    labels = label_processor(labels[..., None]).numpy()\n",
    "\n",
    "    return labels\n",
    "\n",
    "train_labels = prepare_all_videos(train_df, \"train\")\n",
    "test_labels = prepare_all_videos(test_df, \"test\")\n"
   ]
  },
  {
   "cell_type": "code",
   "execution_count": 8,
   "metadata": {},
   "outputs": [],
   "source": [
    "# path_load_embeddings= '/home/app/src/embeddings/mov_20856_train_8187_test_emb/'\n",
    "\n",
    "# #Train\n",
    "# train_data_0 = np.load(path_load_embeddings + 'train_data_embedding_0_10k.npy')\n",
    "# train_data_1 = np.load(path_load_embeddings + 'train_data_embedding_1_10k.npy')\n",
    "# train_data=(train_data_0, train_data_1)\n",
    "# #train_labels = np.load(path_load_embeddings + 'train_labels_embedding.npy')\n",
    "\n",
    "# #Test\n",
    "# test_data_0 = np.load(path_load_embeddings + 'test_data_embedding_0_10k.npy')\n",
    "# test_data_1 = np.load(path_load_embeddings + 'test_data_embedding_1_10k.npy')\n",
    "# test_data=(test_data_0, test_data_1)\n",
    "# #test_labels = np.load(path_load_embeddings + 'test_labels_embedding.npy')"
   ]
  },
  {
   "cell_type": "code",
   "execution_count": 9,
   "metadata": {},
   "outputs": [
    {
     "ename": "PermissionError",
     "evalue": "[Errno 13] Permission denied: '/home/app/src/embeddings/mov_20856_train_8187_test_emb/20856_train_8187_test_10_frames/train_labels_embedding.npy'",
     "output_type": "error",
     "traceback": [
      "\u001b[0;31m---------------------------------------------------------------------------\u001b[0m",
      "\u001b[0;31mPermissionError\u001b[0m                           Traceback (most recent call last)",
      "Cell \u001b[0;32mIn [9], line 6\u001b[0m\n\u001b[1;32m      1\u001b[0m path_save_embeddings\u001b[39m=\u001b[39m \u001b[39m'\u001b[39m\u001b[39m/home/app/src/embeddings/mov_20856_train_8187_test_emb/20856_train_8187_test_10_frames/\u001b[39m\u001b[39m'\u001b[39m\n\u001b[1;32m      3\u001b[0m \u001b[39m# Train\u001b[39;00m\n\u001b[1;32m      4\u001b[0m \u001b[39m#train_data_embedding_0 = np.save(path_save_embeddings + 'train_data_embedding_0.npy', train_data[0])\u001b[39;00m\n\u001b[1;32m      5\u001b[0m \u001b[39m#train_data_embedding_1 = np.save(path_save_embeddings + 'train_data_embedding_1.npy', train_data[1])\u001b[39;00m\n\u001b[0;32m----> 6\u001b[0m train_labels_embedding \u001b[39m=\u001b[39m np\u001b[39m.\u001b[39;49msave(path_save_embeddings \u001b[39m+\u001b[39;49m \u001b[39m'\u001b[39;49m\u001b[39mtrain_labels_embedding.npy\u001b[39;49m\u001b[39m'\u001b[39;49m, train_labels)\n",
      "File \u001b[0;32m<__array_function__ internals>:180\u001b[0m, in \u001b[0;36msave\u001b[0;34m(*args, **kwargs)\u001b[0m\n",
      "File \u001b[0;32m~/.local/lib/python3.8/site-packages/numpy/lib/npyio.py:498\u001b[0m, in \u001b[0;36msave\u001b[0;34m(file, arr, allow_pickle, fix_imports)\u001b[0m\n\u001b[1;32m    496\u001b[0m     \u001b[39mif\u001b[39;00m \u001b[39mnot\u001b[39;00m file\u001b[39m.\u001b[39mendswith(\u001b[39m'\u001b[39m\u001b[39m.npy\u001b[39m\u001b[39m'\u001b[39m):\n\u001b[1;32m    497\u001b[0m         file \u001b[39m=\u001b[39m file \u001b[39m+\u001b[39m \u001b[39m'\u001b[39m\u001b[39m.npy\u001b[39m\u001b[39m'\u001b[39m\n\u001b[0;32m--> 498\u001b[0m     file_ctx \u001b[39m=\u001b[39m \u001b[39mopen\u001b[39;49m(file, \u001b[39m\"\u001b[39;49m\u001b[39mwb\u001b[39;49m\u001b[39m\"\u001b[39;49m)\n\u001b[1;32m    500\u001b[0m \u001b[39mwith\u001b[39;00m file_ctx \u001b[39mas\u001b[39;00m fid:\n\u001b[1;32m    501\u001b[0m     arr \u001b[39m=\u001b[39m np\u001b[39m.\u001b[39masanyarray(arr)\n",
      "\u001b[0;31mPermissionError\u001b[0m: [Errno 13] Permission denied: '/home/app/src/embeddings/mov_20856_train_8187_test_emb/20856_train_8187_test_10_frames/train_labels_embedding.npy'"
     ]
    }
   ],
   "source": [
    "path_save_embeddings= '/home/app/src/embeddings/mov_20856_train_8187_test_emb/20856_train_8187_test_10_frames/'\n",
    "\n",
    "# Train\n",
    "#train_data_embedding_0 = np.save(path_save_embeddings + 'train_data_embedding_0.npy', train_data[0])\n",
    "#train_data_embedding_1 = np.save(path_save_embeddings + 'train_data_embedding_1.npy', train_data[1])\n",
    "train_labels_embedding = np.save(path_save_embeddings + 'train_labels_embedding.npy', train_labels)"
   ]
  },
  {
   "cell_type": "code",
   "execution_count": null,
   "metadata": {},
   "outputs": [
    {
     "ename": "PermissionError",
     "evalue": "[Errno 13] Permission denied: '/home/app/src/embeddings/mov_20856_train_8187_test_emb/20856_train_8187_test_10_frames/test_labels_embedding.npy'",
     "output_type": "error",
     "traceback": [
      "\u001b[0;31m---------------------------------------------------------------------------\u001b[0m",
      "\u001b[0;31mPermissionError\u001b[0m                           Traceback (most recent call last)",
      "Cell \u001b[0;32mIn [32], line 4\u001b[0m\n\u001b[1;32m      1\u001b[0m \u001b[39m#Test\u001b[39;00m\n\u001b[1;32m      2\u001b[0m \u001b[39m#test_data_embedding_0 = np.save(path_save_embeddings + 'test_data_embedding_0.npy', test_data[0])\u001b[39;00m\n\u001b[1;32m      3\u001b[0m \u001b[39m#test_data_embedding_1 = np.save(path_save_embeddings + 'test_data_embedding_1.npy', test_data[1])\u001b[39;00m\n\u001b[0;32m----> 4\u001b[0m test_labels_embedding \u001b[39m=\u001b[39m np\u001b[39m.\u001b[39;49msave(path_save_embeddings \u001b[39m+\u001b[39;49m \u001b[39m'\u001b[39;49m\u001b[39mtest_labels_embedding.npy\u001b[39;49m\u001b[39m'\u001b[39;49m, test_labels)\n",
      "File \u001b[0;32m<__array_function__ internals>:180\u001b[0m, in \u001b[0;36msave\u001b[0;34m(*args, **kwargs)\u001b[0m\n",
      "File \u001b[0;32m~/.local/lib/python3.8/site-packages/numpy/lib/npyio.py:498\u001b[0m, in \u001b[0;36msave\u001b[0;34m(file, arr, allow_pickle, fix_imports)\u001b[0m\n\u001b[1;32m    496\u001b[0m     \u001b[39mif\u001b[39;00m \u001b[39mnot\u001b[39;00m file\u001b[39m.\u001b[39mendswith(\u001b[39m'\u001b[39m\u001b[39m.npy\u001b[39m\u001b[39m'\u001b[39m):\n\u001b[1;32m    497\u001b[0m         file \u001b[39m=\u001b[39m file \u001b[39m+\u001b[39m \u001b[39m'\u001b[39m\u001b[39m.npy\u001b[39m\u001b[39m'\u001b[39m\n\u001b[0;32m--> 498\u001b[0m     file_ctx \u001b[39m=\u001b[39m \u001b[39mopen\u001b[39;49m(file, \u001b[39m\"\u001b[39;49m\u001b[39mwb\u001b[39;49m\u001b[39m\"\u001b[39;49m)\n\u001b[1;32m    500\u001b[0m \u001b[39mwith\u001b[39;00m file_ctx \u001b[39mas\u001b[39;00m fid:\n\u001b[1;32m    501\u001b[0m     arr \u001b[39m=\u001b[39m np\u001b[39m.\u001b[39masanyarray(arr)\n",
      "\u001b[0;31mPermissionError\u001b[0m: [Errno 13] Permission denied: '/home/app/src/embeddings/mov_20856_train_8187_test_emb/20856_train_8187_test_10_frames/test_labels_embedding.npy'"
     ]
    }
   ],
   "source": [
    "#Test\n",
    "#test_data_embedding_0 = np.save(path_save_embeddings + 'test_data_embedding_0.npy', test_data[0])\n",
    "#test_data_embedding_1 = np.save(path_save_embeddings + 'test_data_embedding_1.npy', test_data[1])\n",
    "test_labels_embedding = np.save(path_save_embeddings + 'test_labels_embedding.npy', test_labels)"
   ]
  }
 ],
 "metadata": {
  "kernelspec": {
   "display_name": "Python 3.8.10 64-bit",
   "language": "python",
   "name": "python3"
  },
  "language_info": {
   "codemirror_mode": {
    "name": "ipython",
    "version": 3
   },
   "file_extension": ".py",
   "mimetype": "text/x-python",
   "name": "python",
   "nbconvert_exporter": "python",
   "pygments_lexer": "ipython3",
   "version": "3.8.10"
  },
  "orig_nbformat": 4,
  "vscode": {
   "interpreter": {
    "hash": "31f2aee4e71d21fbe5cf8b01ff0e069b9275f58929596ceb00d14d90e3e16cd6"
   }
  }
 },
 "nbformat": 4,
 "nbformat_minor": 2
}
