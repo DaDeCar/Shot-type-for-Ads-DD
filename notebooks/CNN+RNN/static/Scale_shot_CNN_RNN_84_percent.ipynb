{
 "cells": [
  {
   "cell_type": "code",
   "execution_count": 2,
   "metadata": {},
   "outputs": [],
   "source": [
    "#from tensorflow_docs.vis import embed\n",
    "from tensorflow import keras\n",
    "#from imutils import paths\n",
    "\n",
    "import seaborn as sns\n",
    "import tensorflow as tf\n",
    "import pandas as pd\n",
    "import numpy as np\n",
    "#import imageio\n",
    "import cv2\n",
    "import os\n",
    "import json\n",
    "from ipywidgets import Video, Image\n",
    "\n",
    "from sklearn.tree import DecisionTreeRegressor\n",
    "from sklearn.linear_model import LogisticRegression\n",
    "from sklearn.metrics import precision_recall_fscore_support\n",
    "from sklearn.metrics import accuracy_score\n",
    "from sklearn.metrics import classification_report\n",
    "from sklearn.metrics import confusion_matrix"
   ]
  },
  {
   "cell_type": "markdown",
   "metadata": {},
   "source": [
    "Data preparation"
   ]
  },
  {
   "cell_type": "markdown",
   "metadata": {},
   "source": [
    "Preparing training data"
   ]
  },
  {
   "cell_type": "code",
   "execution_count": 3,
   "metadata": {},
   "outputs": [],
   "source": [
    "# data_df = pd. read_csv('/home/app/src/CSV/dataset_df.csv', dtype={\"shot\": str})\n",
    "\n",
    "# data_df.drop(columns=['scale_val'], inplace=True)\n",
    "# data_df.drop(columns = ['move_val'], inplace=True)\n",
    "\n",
    "# train_path = '/home/app/src/data/shot-type-dataset/trailer_v3/train/'\n",
    "# data_df['video_name'] = train_path + 'shot_' + data_df['movie'] + '_' + data_df['shot'] + '.mp4'\n",
    "# train_df = data_df[(data_df['dataset']=='train') | (data_df['dataset']=='val') ]\n",
    "# train_df = train_df[['video_name', 'move_label','scale_label']]\n",
    "# train_df = train_df.rename(columns ={'scale_label': 'tag'})\n",
    "\n",
    "\n",
    "# test_path = '/home/app/src/data/shot-type-dataset/trailer_v3/test/'\n",
    "# data_df['video_name'] = test_path + 'shot_' + data_df['movie'] + '_' + data_df['shot'] + '.mp4'\n",
    "# test_df = data_df[data_df['dataset']=='test']\n",
    "# test_df = test_df[['video_name', 'move_label','scale_label']]\n",
    "# test_df = test_df.rename(columns ={'scale_label': 'tag'})"
   ]
  },
  {
   "cell_type": "code",
   "execution_count": 4,
   "metadata": {},
   "outputs": [],
   "source": [
    "#train_df = pd.read_csv('/home/app/src/data/CSV/dataset_train_10k_v1.csv', )"
   ]
  },
  {
   "cell_type": "code",
   "execution_count": 5,
   "metadata": {},
   "outputs": [],
   "source": [
    "#test_df = pd.read_csv('/home/app/src/data/CSV/dataset_test_10k_v1.csv', )"
   ]
  },
  {
   "cell_type": "code",
   "execution_count": 6,
   "metadata": {},
   "outputs": [],
   "source": [
    "#train_df.to_csv('/home/app/src/CSV/dataset_train_static.csv')"
   ]
  },
  {
   "cell_type": "code",
   "execution_count": 7,
   "metadata": {},
   "outputs": [],
   "source": [
    "#test_df.to_csv('/home/app/src/CSV/dataset_test_static.csv')"
   ]
  },
  {
   "cell_type": "code",
   "execution_count": 8,
   "metadata": {},
   "outputs": [],
   "source": [
    "train_df= pd.read_csv('/home/app/src/CSV/static/dataset_train_static.csv', )\n",
    "test_df= pd.read_csv('//home/app/src/CSV/static/dataset_test_static.csv', )"
   ]
  },
  {
   "cell_type": "code",
   "execution_count": 9,
   "metadata": {},
   "outputs": [
    {
     "name": "stdout",
     "output_type": "stream",
     "text": [
      "Total videos for training: 25466\n",
      "Total videos for testing: 8187\n"
     ]
    },
    {
     "data": {
      "text/html": [
       "<div>\n",
       "<style scoped>\n",
       "    .dataframe tbody tr th:only-of-type {\n",
       "        vertical-align: middle;\n",
       "    }\n",
       "\n",
       "    .dataframe tbody tr th {\n",
       "        vertical-align: top;\n",
       "    }\n",
       "\n",
       "    .dataframe thead th {\n",
       "        text-align: right;\n",
       "    }\n",
       "</style>\n",
       "<table border=\"1\" class=\"dataframe\">\n",
       "  <thead>\n",
       "    <tr style=\"text-align: right;\">\n",
       "      <th></th>\n",
       "      <th>Unnamed: 0</th>\n",
       "      <th>video_name</th>\n",
       "      <th>move_label</th>\n",
       "      <th>tag</th>\n",
       "    </tr>\n",
       "  </thead>\n",
       "  <tbody>\n",
       "    <tr>\n",
       "      <th>3584</th>\n",
       "      <td>3584</td>\n",
       "      <td>/home/app/src/data/shot-type-dataset/trailer_v...</td>\n",
       "      <td>Static</td>\n",
       "      <td>LS</td>\n",
       "    </tr>\n",
       "    <tr>\n",
       "      <th>18073</th>\n",
       "      <td>18073</td>\n",
       "      <td>/home/app/src/data/shot-type-dataset/trailer_v...</td>\n",
       "      <td>Static</td>\n",
       "      <td>MS</td>\n",
       "    </tr>\n",
       "    <tr>\n",
       "      <th>3839</th>\n",
       "      <td>3839</td>\n",
       "      <td>/home/app/src/data/shot-type-dataset/trailer_v...</td>\n",
       "      <td>Static</td>\n",
       "      <td>CS</td>\n",
       "    </tr>\n",
       "    <tr>\n",
       "      <th>11604</th>\n",
       "      <td>11604</td>\n",
       "      <td>/home/app/src/data/shot-type-dataset/trailer_v...</td>\n",
       "      <td>Pull</td>\n",
       "      <td>MS</td>\n",
       "    </tr>\n",
       "    <tr>\n",
       "      <th>25302</th>\n",
       "      <td>25302</td>\n",
       "      <td>/home/app/src/data/shot-type-dataset/trailer_v...</td>\n",
       "      <td>Static</td>\n",
       "      <td>LS</td>\n",
       "    </tr>\n",
       "    <tr>\n",
       "      <th>2106</th>\n",
       "      <td>2106</td>\n",
       "      <td>/home/app/src/data/shot-type-dataset/trailer_v...</td>\n",
       "      <td>Motion</td>\n",
       "      <td>MS</td>\n",
       "    </tr>\n",
       "    <tr>\n",
       "      <th>16430</th>\n",
       "      <td>16430</td>\n",
       "      <td>/home/app/src/data/shot-type-dataset/trailer_v...</td>\n",
       "      <td>Static</td>\n",
       "      <td>LS</td>\n",
       "    </tr>\n",
       "    <tr>\n",
       "      <th>24870</th>\n",
       "      <td>24870</td>\n",
       "      <td>/home/app/src/data/shot-type-dataset/trailer_v...</td>\n",
       "      <td>Static</td>\n",
       "      <td>MS</td>\n",
       "    </tr>\n",
       "    <tr>\n",
       "      <th>15028</th>\n",
       "      <td>15028</td>\n",
       "      <td>/home/app/src/data/shot-type-dataset/trailer_v...</td>\n",
       "      <td>Static</td>\n",
       "      <td>FS</td>\n",
       "    </tr>\n",
       "    <tr>\n",
       "      <th>19177</th>\n",
       "      <td>19177</td>\n",
       "      <td>/home/app/src/data/shot-type-dataset/trailer_v...</td>\n",
       "      <td>Motion</td>\n",
       "      <td>LS</td>\n",
       "    </tr>\n",
       "  </tbody>\n",
       "</table>\n",
       "</div>"
      ],
      "text/plain": [
       "       Unnamed: 0                                         video_name  \\\n",
       "3584         3584  /home/app/src/data/shot-type-dataset/trailer_v...   \n",
       "18073       18073  /home/app/src/data/shot-type-dataset/trailer_v...   \n",
       "3839         3839  /home/app/src/data/shot-type-dataset/trailer_v...   \n",
       "11604       11604  /home/app/src/data/shot-type-dataset/trailer_v...   \n",
       "25302       25302  /home/app/src/data/shot-type-dataset/trailer_v...   \n",
       "2106         2106  /home/app/src/data/shot-type-dataset/trailer_v...   \n",
       "16430       16430  /home/app/src/data/shot-type-dataset/trailer_v...   \n",
       "24870       24870  /home/app/src/data/shot-type-dataset/trailer_v...   \n",
       "15028       15028  /home/app/src/data/shot-type-dataset/trailer_v...   \n",
       "19177       19177  /home/app/src/data/shot-type-dataset/trailer_v...   \n",
       "\n",
       "      move_label tag  \n",
       "3584      Static  LS  \n",
       "18073     Static  MS  \n",
       "3839      Static  CS  \n",
       "11604       Pull  MS  \n",
       "25302     Static  LS  \n",
       "2106      Motion  MS  \n",
       "16430     Static  LS  \n",
       "24870     Static  MS  \n",
       "15028     Static  FS  \n",
       "19177     Motion  LS  "
      ]
     },
     "execution_count": 9,
     "metadata": {},
     "output_type": "execute_result"
    }
   ],
   "source": [
    "train_df= train_df\n",
    "\n",
    "# train_df = pd.read_csv('/workspaces/final-project-shot-type/data/CSV/dataset_train_v1.csv')\n",
    "test_df = test_df\n",
    "\n",
    "print(f\"Total videos for training: {len(train_df)}\")\n",
    "print(f\"Total videos for testing: {len(test_df)}\")\n",
    "\n",
    "train_df.sample(10)"
   ]
  },
  {
   "cell_type": "code",
   "execution_count": 10,
   "metadata": {},
   "outputs": [
    {
     "data": {
      "text/plain": [
       "MS     5656\n",
       "CS     5578\n",
       "FS     5161\n",
       "ECS    4868\n",
       "LS     4203\n",
       "Name: tag, dtype: int64"
      ]
     },
     "execution_count": 10,
     "metadata": {},
     "output_type": "execute_result"
    }
   ],
   "source": [
    "train_df['tag'].value_counts()"
   ]
  },
  {
   "cell_type": "markdown",
   "metadata": {},
   "source": [
    "Define hyperparameters"
   ]
  },
  {
   "cell_type": "code",
   "execution_count": 11,
   "metadata": {},
   "outputs": [],
   "source": [
    "IMG_SIZE = 224\n",
    "BATCH_SIZE = 64\n",
    "EPOCHS = 20\n",
    "\n",
    "MAX_SEQ_LENGTH = 30\n",
    "NUM_FEATURES = 2048"
   ]
  },
  {
   "cell_type": "markdown",
   "metadata": {},
   "source": [
    "Loading frames and working on frame's size"
   ]
  },
  {
   "cell_type": "code",
   "execution_count": 12,
   "metadata": {},
   "outputs": [],
   "source": [
    "def crop_center_square(frame):\n",
    "    y, x = frame.shape[0:2]\n",
    "    min_dim = min(y, x)\n",
    "    start_x = (x // 2) - (min_dim // 2)\n",
    "    start_y = (y // 2) - (min_dim // 2)\n",
    "    return frame[start_y : start_y + min_dim, start_x : start_x + min_dim]\n",
    "\n",
    "\n",
    "def load_video(path, max_frames=0, resize=(IMG_SIZE, IMG_SIZE)):\n",
    "    cap = cv2.VideoCapture(path)\n",
    "    frames = []\n",
    "    try:\n",
    "        while True:\n",
    "            ret, frame = cap.read()\n",
    "            if not ret:\n",
    "                break\n",
    "            frame = crop_center_square(frame)\n",
    "            frame = cv2.resize(frame, resize)\n",
    "            frame = frame[:, :, [2, 1, 0]]\n",
    "            frames.append(frame)\n",
    "\n",
    "            if len(frames) == max_frames:\n",
    "                break\n",
    "    finally:\n",
    "        cap.release()\n",
    "    return np.array(frames)"
   ]
  },
  {
   "cell_type": "markdown",
   "metadata": {},
   "source": [
    "Feature extractor"
   ]
  },
  {
   "cell_type": "code",
   "execution_count": 13,
   "metadata": {},
   "outputs": [
    {
     "name": "stderr",
     "output_type": "stream",
     "text": [
      "2022-12-08 16:59:10.001162: I tensorflow/stream_executor/cuda/cuda_gpu_executor.cc:936] successful NUMA node read from SysFS had negative value (-1), but there must be at least one NUMA node, so returning NUMA node zero\n",
      "2022-12-08 16:59:10.010326: I tensorflow/stream_executor/cuda/cuda_gpu_executor.cc:936] successful NUMA node read from SysFS had negative value (-1), but there must be at least one NUMA node, so returning NUMA node zero\n",
      "2022-12-08 16:59:10.011165: I tensorflow/stream_executor/cuda/cuda_gpu_executor.cc:936] successful NUMA node read from SysFS had negative value (-1), but there must be at least one NUMA node, so returning NUMA node zero\n",
      "2022-12-08 16:59:10.013048: I tensorflow/core/platform/cpu_feature_guard.cc:151] This TensorFlow binary is optimized with oneAPI Deep Neural Network Library (oneDNN) to use the following CPU instructions in performance-critical operations:  AVX2 FMA\n",
      "To enable them in other operations, rebuild TensorFlow with the appropriate compiler flags.\n",
      "2022-12-08 16:59:10.013538: I tensorflow/stream_executor/cuda/cuda_gpu_executor.cc:936] successful NUMA node read from SysFS had negative value (-1), but there must be at least one NUMA node, so returning NUMA node zero\n",
      "2022-12-08 16:59:10.014380: I tensorflow/stream_executor/cuda/cuda_gpu_executor.cc:936] successful NUMA node read from SysFS had negative value (-1), but there must be at least one NUMA node, so returning NUMA node zero\n",
      "2022-12-08 16:59:10.015191: I tensorflow/stream_executor/cuda/cuda_gpu_executor.cc:936] successful NUMA node read from SysFS had negative value (-1), but there must be at least one NUMA node, so returning NUMA node zero\n",
      "2022-12-08 16:59:10.611084: I tensorflow/stream_executor/cuda/cuda_gpu_executor.cc:936] successful NUMA node read from SysFS had negative value (-1), but there must be at least one NUMA node, so returning NUMA node zero\n",
      "2022-12-08 16:59:10.611942: I tensorflow/stream_executor/cuda/cuda_gpu_executor.cc:936] successful NUMA node read from SysFS had negative value (-1), but there must be at least one NUMA node, so returning NUMA node zero\n",
      "2022-12-08 16:59:10.612744: I tensorflow/stream_executor/cuda/cuda_gpu_executor.cc:936] successful NUMA node read from SysFS had negative value (-1), but there must be at least one NUMA node, so returning NUMA node zero\n",
      "2022-12-08 16:59:10.613541: I tensorflow/core/common_runtime/gpu/gpu_device.cc:1525] Created device /job:localhost/replica:0/task:0/device:GPU:0 with 10795 MB memory:  -> device: 0, name: Tesla K80, pci bus id: 0000:00:1e.0, compute capability: 3.7\n"
     ]
    },
    {
     "name": "stdout",
     "output_type": "stream",
     "text": [
      "Downloading data from https://storage.googleapis.com/tensorflow/keras-applications/inception_v3/inception_v3_weights_tf_dim_ordering_tf_kernels_notop.h5\n",
      "87916544/87910968 [==============================] - 2s 0us/step\n",
      "87924736/87910968 [==============================] - 2s 0us/step\n",
      "Model: \"feature_extractor\"\n",
      "_________________________________________________________________\n",
      " Layer (type)                Output Shape              Param #   \n",
      "=================================================================\n",
      " input_2 (InputLayer)        [(None, 224, 224, 3)]     0         \n",
      "                                                                 \n",
      " tf.math.truediv (TFOpLambda  (None, 224, 224, 3)      0         \n",
      " )                                                               \n",
      "                                                                 \n",
      " tf.math.subtract (TFOpLambd  (None, 224, 224, 3)      0         \n",
      " a)                                                              \n",
      "                                                                 \n",
      " inception_v3 (Functional)   (None, 2048)              21802784  \n",
      "                                                                 \n",
      "=================================================================\n",
      "Total params: 21,802,784\n",
      "Trainable params: 21,768,352\n",
      "Non-trainable params: 34,432\n",
      "_________________________________________________________________\n",
      "None\n"
     ]
    }
   ],
   "source": [
    "def build_feature_extractor():\n",
    "    feature_extractor = keras.applications.InceptionV3(\n",
    "        weights=\"imagenet\",\n",
    "        include_top=False,\n",
    "        pooling=\"avg\",\n",
    "        input_shape=(IMG_SIZE, IMG_SIZE, 3),\n",
    "    )\n",
    "    preprocess_input = keras.applications.inception_v3.preprocess_input\n",
    "\n",
    "    inputs = keras.Input((IMG_SIZE, IMG_SIZE, 3))\n",
    "    preprocessed = preprocess_input(inputs)\n",
    "\n",
    "    outputs = feature_extractor(preprocessed)\n",
    "    return keras.Model(inputs, outputs, name=\"feature_extractor\")\n",
    "\n",
    "\n",
    "feature_extractor = build_feature_extractor()\n",
    "print(feature_extractor.summary())"
   ]
  },
  {
   "cell_type": "markdown",
   "metadata": {},
   "source": [
    "Working on labels"
   ]
  },
  {
   "cell_type": "code",
   "execution_count": 14,
   "metadata": {},
   "outputs": [
    {
     "name": "stdout",
     "output_type": "stream",
     "text": [
      "['CS', 'ECS', 'FS', 'LS', 'MS']\n"
     ]
    }
   ],
   "source": [
    "label_processor = keras.layers.StringLookup(\n",
    "    num_oov_indices=0, vocabulary=np.unique(train_df[\"tag\"])\n",
    ")\n",
    "print(label_processor.get_vocabulary())"
   ]
  },
  {
   "cell_type": "markdown",
   "metadata": {},
   "source": [
    "Preparing videos"
   ]
  },
  {
   "cell_type": "code",
   "execution_count": 15,
   "metadata": {},
   "outputs": [],
   "source": [
    "# def prepare_all_videos(df, root_dir):\n",
    "#     num_samples = len(df)\n",
    "#     video_paths = df[\"video_name\"].values.tolist()\n",
    "#     labels = df[\"tag\"].values\n",
    "#     labels = label_processor(labels[..., None]).numpy()\n",
    "\n",
    "#     # `frame_masks` and `frame_features` are what we will feed to our sequence model.\n",
    "#     # `frame_masks` will contain a bunch of booleans denoting if a timestep is\n",
    "#     # masked with padding or not.\n",
    "#     frame_masks = np.zeros(shape=(num_samples, MAX_SEQ_LENGTH), dtype=\"bool\")\n",
    "#     frame_features = np.zeros(\n",
    "#         shape=(num_samples, MAX_SEQ_LENGTH, NUM_FEATURES), dtype=\"float32\"\n",
    "#     )\n",
    "\n",
    "#     # For each video.\n",
    "#     for idx, path in enumerate(video_paths):\n",
    "#         # Gather all its frames and add a batch dimension.\n",
    "#         frames = load_video(os.path.join(root_dir, path))\n",
    "#         frames = frames[None, ...]\n",
    "\n",
    "#         # Initialize placeholders to store the masks and features of the current video.\n",
    "#         temp_frame_mask = np.zeros(shape=(1, MAX_SEQ_LENGTH,), dtype=\"bool\")\n",
    "#         temp_frame_features = np.zeros(\n",
    "#             shape=(1, MAX_SEQ_LENGTH, NUM_FEATURES), dtype=\"float32\"\n",
    "#         )\n",
    "\n",
    "#         # Extract features from the frames of the current video.\n",
    "#         for i, batch in enumerate(frames):\n",
    "#             video_length = batch.shape[0]\n",
    "#             length = min(MAX_SEQ_LENGTH, video_length)\n",
    "#             for j in range(length):\n",
    "#                 temp_frame_features[i, j, :] = feature_extractor.predict(\n",
    "#                     batch[None, j, :]\n",
    "#                 )\n",
    "#             temp_frame_mask[i, :length] = 1  # 1 = not masked, 0 = masked\n",
    "\n",
    "#         frame_features[idx,] = temp_frame_features.squeeze()\n",
    "#         frame_masks[idx,] = temp_frame_mask.squeeze()\n",
    "\n",
    "#     return (frame_features, frame_masks), labels\n",
    "\n",
    "\n",
    "# train_data, train_labels = prepare_all_videos(train_df, \"train\")\n",
    "# test_data, test_labels = prepare_all_videos(test_df, \"test\")\n",
    "\n",
    "# print(f\"Frame features in train set: {train_data[0].shape}\")\n",
    "# print(f\"Frame masks in train set: {train_data[1].shape}\")"
   ]
  },
  {
   "cell_type": "markdown",
   "metadata": {},
   "source": [
    "Saving embeddings"
   ]
  },
  {
   "cell_type": "markdown",
   "metadata": {},
   "source": [
    "Train"
   ]
  },
  {
   "cell_type": "code",
   "execution_count": 16,
   "metadata": {},
   "outputs": [],
   "source": [
    "#train_data_embedding_0_10k = np.save('/workspaces/final-project-shot-type/embeddings/train_data_embedding_0_10k.npy', train_data[0])"
   ]
  },
  {
   "cell_type": "code",
   "execution_count": 17,
   "metadata": {},
   "outputs": [],
   "source": [
    "#train_data_embedding_1_10k = np.save('/workspaces/final-project-shot-type/embeddings/train_data_embedding_1_10k.npy', train_data[1])"
   ]
  },
  {
   "cell_type": "code",
   "execution_count": 18,
   "metadata": {},
   "outputs": [],
   "source": [
    "#train_labels_embedding_10k = np.save('/workspaces/final-project-shot-type/embeddings/train_labels_embedding_10k.npy', train_labels)"
   ]
  },
  {
   "cell_type": "markdown",
   "metadata": {},
   "source": [
    "Test"
   ]
  },
  {
   "cell_type": "code",
   "execution_count": 19,
   "metadata": {},
   "outputs": [],
   "source": [
    "#test_data_embedding_0_10k = np.save('/workspaces/final-project-shot-type/embeddings/test_data_embedding_0_10k.npy', test_data[0])"
   ]
  },
  {
   "cell_type": "code",
   "execution_count": 20,
   "metadata": {},
   "outputs": [],
   "source": [
    "#test_data_embedding_1_10k = np.save('/workspaces/final-project-shot-type/embeddings/test_data_embedding_1_10k.npy', test_data[1])"
   ]
  },
  {
   "cell_type": "code",
   "execution_count": 21,
   "metadata": {},
   "outputs": [],
   "source": [
    "#test_labels_embedding_10k = np.save('/workspaces/final-project-shot-type/embeddings/test_labels_embedding_10k.npy', test_labels)"
   ]
  },
  {
   "cell_type": "markdown",
   "metadata": {},
   "source": []
  },
  {
   "cell_type": "markdown",
   "metadata": {},
   "source": [
    "Loading embeddings"
   ]
  },
  {
   "cell_type": "code",
   "execution_count": 22,
   "metadata": {},
   "outputs": [],
   "source": [
    "path_load_embeddings= '/home/app/src/embeddings/'\n",
    "\n",
    "#Train\n",
    "train_data_0 = np.load(path_load_embeddings + 'train_data_embedding_0_full_30F.npy')\n",
    "train_data_1 = np.load(path_load_embeddings + 'train_data_embedding_1_full_30F.npy')\n",
    "train_data=(train_data_0, train_data_1)\n",
    "train_labels = np.load(path_load_embeddings + 'train_labels1_embedding_full_30F.npy')\n",
    "\n",
    "#Test\n",
    "test_data_0 = np.load(path_load_embeddings + 'test_data_embedding_0_full_30F.npy')\n",
    "test_data_1 = np.load(path_load_embeddings + 'test_data_embedding_1_full_30F.npy')\n",
    "test_data=(test_data_0, test_data_1)\n",
    "test_labels = np.load(path_load_embeddings + 'test_labels1_embedding_full_30F.npy')"
   ]
  },
  {
   "cell_type": "markdown",
   "metadata": {},
   "source": [
    "Sequence model (RNN)"
   ]
  },
  {
   "cell_type": "code",
   "execution_count": 23,
   "metadata": {},
   "outputs": [
    {
     "name": "stderr",
     "output_type": "stream",
     "text": [
      "2022-12-08 17:00:47.528413: W tensorflow/core/framework/cpu_allocator_impl.cc:82] Allocation of 4380917760 exceeds 10% of free system memory.\n",
      "2022-12-08 17:00:51.700073: W tensorflow/core/framework/cpu_allocator_impl.cc:82] Allocation of 4380917760 exceeds 10% of free system memory.\n"
     ]
    },
    {
     "name": "stdout",
     "output_type": "stream",
     "text": [
      "Epoch 1/20\n"
     ]
    },
    {
     "name": "stderr",
     "output_type": "stream",
     "text": [
      "2022-12-08 17:01:02.912760: I tensorflow/stream_executor/cuda/cuda_dnn.cc:368] Loaded cuDNN version 8200\n"
     ]
    },
    {
     "name": "stdout",
     "output_type": "stream",
     "text": [
      "557/558 [============================>.] - ETA: 0s - loss: 1.0486 - accuracy: 0.6015"
     ]
    },
    {
     "name": "stderr",
     "output_type": "stream",
     "text": [
      "2022-12-08 17:01:16.598514: W tensorflow/core/framework/cpu_allocator_impl.cc:82] Allocation of 1877606400 exceeds 10% of free system memory.\n",
      "2022-12-08 17:01:18.497543: W tensorflow/core/framework/cpu_allocator_impl.cc:82] Allocation of 1877606400 exceeds 10% of free system memory.\n"
     ]
    },
    {
     "name": "stdout",
     "output_type": "stream",
     "text": [
      "\n",
      "Epoch 1: val_loss improved from inf to 0.61452, saving model to /home/app/src/experiments/inceptionv3_GRU/static/model.weights_static.h5\n",
      "558/558 [==============================] - 30s 37ms/step - loss: 1.0485 - accuracy: 0.6015 - val_loss: 0.6145 - val_accuracy: 0.7884 - lr: 0.0010\n",
      "Epoch 2/20\n",
      "557/558 [============================>.] - ETA: 0s - loss: 0.6883 - accuracy: 0.7530\n",
      "Epoch 2: val_loss did not improve from 0.61452\n",
      "558/558 [==============================] - 14s 25ms/step - loss: 0.6886 - accuracy: 0.7529 - val_loss: 0.6188 - val_accuracy: 0.7754 - lr: 0.0010\n",
      "Epoch 3/20\n",
      "556/558 [============================>.] - ETA: 0s - loss: 0.6171 - accuracy: 0.7846\n",
      "Epoch 3: val_loss improved from 0.61452 to 0.56197, saving model to /home/app/src/experiments/inceptionv3_GRU/static/model.weights_static.h5\n",
      "558/558 [==============================] - 15s 26ms/step - loss: 0.6177 - accuracy: 0.7845 - val_loss: 0.5620 - val_accuracy: 0.7959 - lr: 0.0010\n",
      "Epoch 4/20\n",
      "557/558 [============================>.] - ETA: 0s - loss: 0.5668 - accuracy: 0.8050\n",
      "Epoch 4: val_loss improved from 0.56197 to 0.49879, saving model to /home/app/src/experiments/inceptionv3_GRU/static/model.weights_static.h5\n",
      "558/558 [==============================] - 15s 26ms/step - loss: 0.5668 - accuracy: 0.8051 - val_loss: 0.4988 - val_accuracy: 0.8202 - lr: 0.0010\n",
      "Epoch 5/20\n",
      "556/558 [============================>.] - ETA: 0s - loss: 0.5282 - accuracy: 0.8200\n",
      "Epoch 5: val_loss did not improve from 0.49879\n",
      "558/558 [==============================] - 15s 27ms/step - loss: 0.5285 - accuracy: 0.8199 - val_loss: 0.5090 - val_accuracy: 0.8113 - lr: 0.0010\n",
      "Epoch 6/20\n",
      "557/558 [============================>.] - ETA: 0s - loss: 0.5035 - accuracy: 0.8279\n",
      "Epoch 6: val_loss did not improve from 0.49879\n",
      "558/558 [==============================] - 14s 26ms/step - loss: 0.5035 - accuracy: 0.8279 - val_loss: 0.5024 - val_accuracy: 0.8243 - lr: 0.0010\n",
      "Epoch 7/20\n",
      "557/558 [============================>.] - ETA: 0s - loss: 0.4873 - accuracy: 0.8379\n",
      "Epoch 7: val_loss did not improve from 0.49879\n",
      "558/558 [==============================] - 14s 26ms/step - loss: 0.4873 - accuracy: 0.8378 - val_loss: 0.5607 - val_accuracy: 0.8005 - lr: 0.0010\n",
      "Epoch 8/20\n",
      "558/558 [==============================] - ETA: 0s - loss: 0.4296 - accuracy: 0.8585\n",
      "Epoch 8: val_loss improved from 0.49879 to 0.49805, saving model to /home/app/src/experiments/inceptionv3_GRU/static/model.weights_static.h5\n",
      "558/558 [==============================] - 15s 26ms/step - loss: 0.4296 - accuracy: 0.8585 - val_loss: 0.4980 - val_accuracy: 0.8285 - lr: 5.0000e-04\n",
      "Epoch 9/20\n",
      "557/558 [============================>.] - ETA: 0s - loss: 0.4189 - accuracy: 0.8618\n",
      "Epoch 9: val_loss improved from 0.49805 to 0.47230, saving model to /home/app/src/experiments/inceptionv3_GRU/static/model.weights_static.h5\n",
      "558/558 [==============================] - 15s 26ms/step - loss: 0.4189 - accuracy: 0.8618 - val_loss: 0.4723 - val_accuracy: 0.8322 - lr: 5.0000e-04\n",
      "Epoch 10/20\n",
      "556/558 [============================>.] - ETA: 0s - loss: 0.4038 - accuracy: 0.8672\n",
      "Epoch 10: val_loss did not improve from 0.47230\n",
      "558/558 [==============================] - 15s 26ms/step - loss: 0.4040 - accuracy: 0.8670 - val_loss: 0.4824 - val_accuracy: 0.8338 - lr: 5.0000e-04\n",
      "Epoch 11/20\n",
      "556/558 [============================>.] - ETA: 0s - loss: 0.3931 - accuracy: 0.8694\n",
      "Epoch 11: val_loss did not improve from 0.47230\n",
      "558/558 [==============================] - 15s 26ms/step - loss: 0.3932 - accuracy: 0.8693 - val_loss: 0.5091 - val_accuracy: 0.8246 - lr: 5.0000e-04\n",
      "Epoch 12/20\n",
      "558/558 [==============================] - ETA: 0s - loss: 0.3850 - accuracy: 0.8709\n",
      "Epoch 12: val_loss did not improve from 0.47230\n",
      "558/558 [==============================] - 15s 26ms/step - loss: 0.3850 - accuracy: 0.8709 - val_loss: 0.4989 - val_accuracy: 0.8315 - lr: 5.0000e-04\n",
      "Epoch 13/20\n",
      "556/558 [============================>.] - ETA: 0s - loss: 0.3578 - accuracy: 0.8824\n",
      "Epoch 13: val_loss did not improve from 0.47230\n",
      "558/558 [==============================] - 15s 26ms/step - loss: 0.3582 - accuracy: 0.8823 - val_loss: 0.4930 - val_accuracy: 0.8361 - lr: 2.5000e-04\n",
      "Epoch 14/20\n",
      "558/558 [==============================] - ETA: 0s - loss: 0.3476 - accuracy: 0.8856\n",
      "Epoch 14: val_loss did not improve from 0.47230\n",
      "558/558 [==============================] - 15s 26ms/step - loss: 0.3476 - accuracy: 0.8856 - val_loss: 0.5061 - val_accuracy: 0.8364 - lr: 2.5000e-04\n",
      "Epoch 15/20\n",
      "557/558 [============================>.] - ETA: 0s - loss: 0.3438 - accuracy: 0.8900\n",
      "Epoch 15: val_loss did not improve from 0.47230\n",
      "558/558 [==============================] - 15s 26ms/step - loss: 0.3438 - accuracy: 0.8900 - val_loss: 0.5056 - val_accuracy: 0.8351 - lr: 2.5000e-04\n",
      "Epoch 16/20\n",
      "557/558 [============================>.] - ETA: 0s - loss: 0.3271 - accuracy: 0.8954\n",
      "Epoch 16: val_loss did not improve from 0.47230\n",
      "558/558 [==============================] - 15s 26ms/step - loss: 0.3271 - accuracy: 0.8954 - val_loss: 0.5057 - val_accuracy: 0.8330 - lr: 1.2500e-04\n",
      "Epoch 17/20\n",
      "558/558 [==============================] - ETA: 0s - loss: 0.3245 - accuracy: 0.8981\n",
      "Epoch 17: val_loss did not improve from 0.47230\n",
      "558/558 [==============================] - 15s 26ms/step - loss: 0.3245 - accuracy: 0.8981 - val_loss: 0.5115 - val_accuracy: 0.8363 - lr: 1.2500e-04\n",
      "Epoch 18/20\n",
      "557/558 [============================>.] - ETA: 0s - loss: 0.3113 - accuracy: 0.8985\n",
      "Epoch 18: val_loss did not improve from 0.47230\n",
      "558/558 [==============================] - 14s 26ms/step - loss: 0.3113 - accuracy: 0.8985 - val_loss: 0.5148 - val_accuracy: 0.8352 - lr: 1.2500e-04\n",
      "Epoch 19/20\n",
      "558/558 [==============================] - ETA: 0s - loss: 0.3038 - accuracy: 0.9016\n",
      "Epoch 19: val_loss did not improve from 0.47230\n",
      "558/558 [==============================] - 15s 26ms/step - loss: 0.3038 - accuracy: 0.9016 - val_loss: 0.5176 - val_accuracy: 0.8348 - lr: 6.2500e-05\n",
      "Epoch 20/20\n",
      "556/558 [============================>.] - ETA: 0s - loss: 0.2990 - accuracy: 0.9032\n",
      "Epoch 20: val_loss did not improve from 0.47230\n",
      "558/558 [==============================] - 15s 26ms/step - loss: 0.2991 - accuracy: 0.9031 - val_loss: 0.5240 - val_accuracy: 0.8378 - lr: 6.2500e-05\n"
     ]
    },
    {
     "name": "stderr",
     "output_type": "stream",
     "text": [
      "2022-12-08 17:06:02.233059: W tensorflow/core/framework/cpu_allocator_impl.cc:82] Allocation of 2012037120 exceeds 10% of free system memory.\n"
     ]
    },
    {
     "name": "stdout",
     "output_type": "stream",
     "text": [
      "256/256 [==============================] - 3s 11ms/step - loss: 0.4690 - accuracy: 0.8364\n",
      "Test accuracy: 83.64%\n"
     ]
    }
   ],
   "source": [
    "def get_sequence_model():\n",
    "    class_vocab = label_processor.get_vocabulary()\n",
    "\n",
    "    frame_features_input = keras.Input((MAX_SEQ_LENGTH, NUM_FEATURES))\n",
    "    mask_input = keras.Input((MAX_SEQ_LENGTH,), dtype=\"bool\")\n",
    "\n",
    "    # Refer to the following tutorial to understand the significance of using `mask`:\n",
    "    # https://keras.io/api/layers/recurrent_layers/gru/\n",
    "    x = keras.layers.GRU(16, return_sequences=True)(\n",
    "        frame_features_input, mask=mask_input\n",
    "    )\n",
    "    x = keras.layers.GRU(8)(x)\n",
    "    x = keras.layers.Dropout(0.4)(x)\n",
    "    x = keras.layers.Dense(8, activation=\"relu\")(x)\n",
    "    output = keras.layers.Dense(len(class_vocab), activation=\"softmax\")(x)\n",
    "\n",
    "    rnn_model = keras.Model([frame_features_input, mask_input], output)\n",
    "\n",
    "    rnn_model.compile(\n",
    "        loss=\"sparse_categorical_crossentropy\", optimizer=tf.keras.optimizers.Adam(learning_rate=1e-3), metrics=[\"accuracy\"],\n",
    "    )\n",
    "    return rnn_model\n",
    "\n",
    "\n",
    "# Utility for running experiments.\n",
    "def run_experiment():\n",
    "    filepath = \"/home/app/src/experiments/inceptionv3_GRU/static/model.weights_static.h5\"\n",
    "    filepath_log = '/home/app/src/experiments/inceptionv3_GRU/static'\n",
    "    reduce_lr = keras.callbacks.ReduceLROnPlateau(monitor='val_loss', factor=0.5,\n",
    "                              patience=3, min_lr=0.000001)\n",
    "    checkpoint = keras.callbacks.ModelCheckpoint(\n",
    "        filepath, save_weights_only=True, save_best_only=True, verbose=1\n",
    "    )\n",
    "    tensor_board = keras.callbacks.TensorBoard (filepath_log)\n",
    "\n",
    "    seq_model = get_sequence_model()\n",
    "    history = seq_model.fit(\n",
    "        [train_data[0], train_data[1]],\n",
    "        train_labels,\n",
    "        validation_split=0.3,\n",
    "        epochs=EPOCHS,\n",
    "        callbacks=[checkpoint, reduce_lr, tensor_board],\n",
    "    )\n",
    "\n",
    "    seq_model.load_weights(filepath)\n",
    "    _, accuracy = seq_model.evaluate([test_data[0], test_data[1]], test_labels)\n",
    "    print(f\"Test accuracy: {round(accuracy * 100, 2)}%\")\n",
    "    # Getting predictions\n",
    "    y_pred_proba = seq_model.predict([test_data[0], test_data[1]])\n",
    "    y_pred = []   \n",
    "    for arr in y_pred_proba:\n",
    "        idx_max = np.argmax(arr)\n",
    "        y_pred.append(idx_max)\n",
    "\n",
    "    return history, seq_model, y_pred\n",
    "\n",
    "\n",
    "_, sequence_model, y_pred = run_experiment()"
   ]
  },
  {
   "cell_type": "code",
   "execution_count": 24,
   "metadata": {},
   "outputs": [
    {
     "name": "stderr",
     "output_type": "stream",
     "text": [
      "UsageError: Line magic function `%tensorboard` not found.\n"
     ]
    }
   ],
   "source": [
    "%tensorboard == logdir /home/app/src/final-project-shot-type/experiments/inceptionv3_GRU/static"
   ]
  },
  {
   "cell_type": "code",
   "execution_count": 25,
   "metadata": {},
   "outputs": [
    {
     "data": {
      "text/plain": [
       "<AxesSubplot: >"
      ]
     },
     "execution_count": 25,
     "metadata": {},
     "output_type": "execute_result"
    },
    {
     "data": {
      "image/png": "[encoded data removed]",
      "text/plain": [
       "<Figure size 640x480 with 2 Axes>"
      ]
     },
     "metadata": {},
     "output_type": "display_data"
    }
   ],
   "source": [
    "# Confussion Matrix\n",
    "c_matrix = confusion_matrix(test_labels, y_pred , normalize='pred')\n",
    "# Plotting\n",
    "class_vocab = label_processor.get_vocabulary()\n",
    "df_cm = pd.DataFrame(c_matrix,index = [i for i in class_vocab],\n",
    "                  columns = [i for i in class_vocab])\n",
    "sns.set(font_scale=1.4) # for label size\n",
    "sns.heatmap(df_cm, annot=True, annot_kws={\"size\": 16}) # font size"
   ]
  },
  {
   "cell_type": "code",
   "execution_count": 26,
   "metadata": {},
   "outputs": [
    {
     "name": "stdout",
     "output_type": "stream",
     "text": [
      "              precision    recall  f1-score   support\n",
      "\n",
      "          CS       0.77      0.81      0.79      1792\n",
      "         ECS       0.86      0.84      0.85      1641\n",
      "          FS       0.85      0.84      0.84      1642\n",
      "          LS       0.91      0.90      0.90      1359\n",
      "          MS       0.82      0.81      0.82      1753\n",
      "\n",
      "    accuracy                           0.84      8187\n",
      "   macro avg       0.84      0.84      0.84      8187\n",
      "weighted avg       0.84      0.84      0.84      8187\n",
      "\n"
     ]
    }
   ],
   "source": [
    "# Metrics report\n",
    "class_vocab = label_processor.get_vocabulary()\n",
    "print(classification_report(test_labels, y_pred, target_names=class_vocab ))"
   ]
  },
  {
   "cell_type": "markdown",
   "metadata": {},
   "source": [
    "Predictions"
   ]
  },
  {
   "cell_type": "code",
   "execution_count": null,
   "metadata": {},
   "outputs": [],
   "source": [
    "def prepare_single_video(frames):\n",
    "    frames = frames[None, ...]\n",
    "    frame_mask = np.zeros(shape=(1, MAX_SEQ_LENGTH,), dtype=\"bool\")\n",
    "    frame_features = np.zeros(shape=(1, MAX_SEQ_LENGTH, NUM_FEATURES), dtype=\"float32\")\n",
    "\n",
    "    for i, batch in enumerate(frames):\n",
    "        video_length = batch.shape[0]\n",
    "        length = min(MAX_SEQ_LENGTH, video_length)\n",
    "        for j in range(length):\n",
    "            frame_features[i, j, :] = feature_extractor.predict(batch[None, j, :])\n",
    "        frame_mask[i, :length] = 1  # 1 = not masked, 0 = masked\n",
    "\n",
    "    return frame_features, frame_mask\n",
    "\n",
    "\n",
    "def sequence_prediction(path):\n",
    "    class_vocab = label_processor.get_vocabulary()\n",
    "\n",
    "    frames = load_video(os.path.join(\"test\", path))\n",
    "    frame_features, frame_mask = prepare_single_video(frames)\n",
    "    probabilities = sequence_model.predict([frame_features, frame_mask])[0]\n",
    "\n",
    "    for i in np.argsort(probabilities)[::-1]:\n",
    "        print(f\"  {class_vocab[i]}: {probabilities[i] * 100:5.2f}%\")\n",
    "    return frames\n",
    "\n",
    "\n",
    "# This utility is for visualization.\n",
    "# Referenced from:\n",
    "# https://www.tensorflow.org/hub/tutorials/action_recognition_with_tf_hub\n",
    "def to_gif(images):\n",
    "    converted_images = images.astype(np.uint8)\n",
    "    imageio.mimsave(\"animation.gif\", converted_images, fps=10)\n",
    "    return embed.embed_file(\"animation.gif\")\n",
    "\n",
    "\n",
    "test_video = np.random.choice(test_df[\"video_name\"].values.tolist())\n",
    "print(f\"Test video path: {test_video}\")\n",
    "test_frames = sequence_prediction(test_video)\n",
    "real_label = test_df[test_df['video_name'] ==test_video]['tag'].iloc[0]\n",
    "print(f'Real Label: {real_label}')\n",
    "new_ = Video.from_file(test_video,play=True)\n",
    "new_\n",
    "#to_gif(test_frames[:MAX_SEQ_LENGTH])"
   ]
  }
 ],
 "metadata": {
  "kernelspec": {
   "display_name": "Python 3.10.6 64-bit",
   "language": "python",
   "name": "python3"
  },
  "language_info": {
   "codemirror_mode": {
    "name": "ipython",
    "version": 3
   },
   "file_extension": ".py",
   "mimetype": "text/x-python",
   "name": "python",
   "nbconvert_exporter": "python",
   "pygments_lexer": "ipython3",
   "version": "3.8.10"
  },
  "orig_nbformat": 4,
  "vscode": {
   "interpreter": {
    "hash": "31f2aee4e71d21fbe5cf8b01ff0e069b9275f58929596ceb00d14d90e3e16cd6"
   }
  }
 },
 "nbformat": 4,
 "nbformat_minor": 2
}
