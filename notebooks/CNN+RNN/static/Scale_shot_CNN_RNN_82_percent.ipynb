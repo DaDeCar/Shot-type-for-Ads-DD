{
 "cells": [
  {
   "cell_type": "code",
   "execution_count": 62,
   "metadata": {},
   "outputs": [],
   "source": [
    "#from tensorflow_docs.vis import embed\n",
    "from tensorflow import keras\n",
    "#from imutils import paths\n",
    "\n",
    "import seaborn as sns\n",
    "import tensorflow as tf\n",
    "import pandas as pd\n",
    "import numpy as np\n",
    "#import imageio\n",
    "import cv2\n",
    "import os\n",
    "import json\n",
    "from ipywidgets import Video, Image\n",
    "\n",
    "from sklearn.tree import DecisionTreeRegressor\n",
    "from sklearn.linear_model import LogisticRegression\n",
    "from sklearn.metrics import precision_recall_fscore_support\n",
    "from sklearn.metrics import accuracy_score\n",
    "from sklearn.metrics import classification_report\n",
    "from sklearn.metrics import confusion_matrix"
   ]
  },
  {
   "cell_type": "markdown",
   "metadata": {},
   "source": [
    "Data preparation"
   ]
  },
  {
   "cell_type": "markdown",
   "metadata": {},
   "source": [
    "Preparing training data"
   ]
  },
  {
   "cell_type": "code",
   "execution_count": 63,
   "metadata": {},
   "outputs": [],
   "source": [
    "# We use the dataframe did in EDA notebook to build the needed new dataset for training and testing\n",
    "data_df = pd. read_csv('/home/app/src/CSV/dataset_df.csv', dtype={\"shot\": str})\n",
    "\n",
    "# we drop non-used columns\n",
    "data_df.drop(columns=['scale_val'], inplace=True)\n",
    "data_df.drop(columns = ['move_val'], inplace=True)\n",
    "\n",
    "# Assigning path to every file\n",
    "train_path = '/home/app/src/data/shot-type-dataset/trailer_v3/train/'\n",
    "data_df['video_name'] = train_path + 'shot_' + data_df['movie'] + '_' + data_df['shot'] + '.mp4'\n",
    "train_df = data_df[(data_df['dataset']=='train') | (data_df['dataset']=='val') ]\n",
    "train_df = train_df[['video_name', 'move_label','scale_label']]\n",
    "train_df = train_df.rename(columns ={'scale_label': 'tag'})\n",
    "\n",
    "# Assigning path to every file\n",
    "test_path = '/home/app/src/data/shot-type-dataset/trailer_v3/test/'\n",
    "data_df['video_name'] = test_path + 'shot_' + data_df['movie'] + '_' + data_df['shot'] + '.mp4'\n",
    "test_df = data_df[data_df['dataset']=='test']\n",
    "test_df = test_df[['video_name', 'move_label','scale_label']]\n",
    "test_df = test_df.rename(columns ={'scale_label': 'tag'})"
   ]
  },
  {
   "cell_type": "code",
   "execution_count": 69,
   "metadata": {},
   "outputs": [
    {
     "name": "stdout",
     "output_type": "stream",
     "text": [
      "Total videos for training: 25466\n",
      "Total videos for testing: 8187\n"
     ]
    },
    {
     "data": {
      "text/html": [
       "<div>\n",
       "<style scoped>\n",
       "    .dataframe tbody tr th:only-of-type {\n",
       "        vertical-align: middle;\n",
       "    }\n",
       "\n",
       "    .dataframe tbody tr th {\n",
       "        vertical-align: top;\n",
       "    }\n",
       "\n",
       "    .dataframe thead th {\n",
       "        text-align: right;\n",
       "    }\n",
       "</style>\n",
       "<table border=\"1\" class=\"dataframe\">\n",
       "  <thead>\n",
       "    <tr style=\"text-align: right;\">\n",
       "      <th></th>\n",
       "      <th>Unnamed: 0</th>\n",
       "      <th>video_name</th>\n",
       "      <th>move_label</th>\n",
       "      <th>tag</th>\n",
       "    </tr>\n",
       "  </thead>\n",
       "  <tbody>\n",
       "    <tr>\n",
       "      <th>20923</th>\n",
       "      <td>20923</td>\n",
       "      <td>/home/app/src/data/shot-type-dataset/trailer_v...</td>\n",
       "      <td>Static</td>\n",
       "      <td>FS</td>\n",
       "    </tr>\n",
       "    <tr>\n",
       "      <th>17541</th>\n",
       "      <td>17541</td>\n",
       "      <td>/home/app/src/data/shot-type-dataset/trailer_v...</td>\n",
       "      <td>Static</td>\n",
       "      <td>FS</td>\n",
       "    </tr>\n",
       "    <tr>\n",
       "      <th>8319</th>\n",
       "      <td>8319</td>\n",
       "      <td>/home/app/src/data/shot-type-dataset/trailer_v...</td>\n",
       "      <td>Static</td>\n",
       "      <td>MS</td>\n",
       "    </tr>\n",
       "    <tr>\n",
       "      <th>22539</th>\n",
       "      <td>22539</td>\n",
       "      <td>/home/app/src/data/shot-type-dataset/trailer_v...</td>\n",
       "      <td>Motion</td>\n",
       "      <td>LS</td>\n",
       "    </tr>\n",
       "    <tr>\n",
       "      <th>16189</th>\n",
       "      <td>16189</td>\n",
       "      <td>/home/app/src/data/shot-type-dataset/trailer_v...</td>\n",
       "      <td>Static</td>\n",
       "      <td>LS</td>\n",
       "    </tr>\n",
       "    <tr>\n",
       "      <th>10384</th>\n",
       "      <td>10384</td>\n",
       "      <td>/home/app/src/data/shot-type-dataset/trailer_v...</td>\n",
       "      <td>Static</td>\n",
       "      <td>CS</td>\n",
       "    </tr>\n",
       "    <tr>\n",
       "      <th>20897</th>\n",
       "      <td>20897</td>\n",
       "      <td>/home/app/src/data/shot-type-dataset/trailer_v...</td>\n",
       "      <td>Static</td>\n",
       "      <td>ECS</td>\n",
       "    </tr>\n",
       "    <tr>\n",
       "      <th>19737</th>\n",
       "      <td>19737</td>\n",
       "      <td>/home/app/src/data/shot-type-dataset/trailer_v...</td>\n",
       "      <td>Motion</td>\n",
       "      <td>MS</td>\n",
       "    </tr>\n",
       "    <tr>\n",
       "      <th>22278</th>\n",
       "      <td>22278</td>\n",
       "      <td>/home/app/src/data/shot-type-dataset/trailer_v...</td>\n",
       "      <td>Motion</td>\n",
       "      <td>FS</td>\n",
       "    </tr>\n",
       "    <tr>\n",
       "      <th>12891</th>\n",
       "      <td>12891</td>\n",
       "      <td>/home/app/src/data/shot-type-dataset/trailer_v...</td>\n",
       "      <td>Static</td>\n",
       "      <td>CS</td>\n",
       "    </tr>\n",
       "  </tbody>\n",
       "</table>\n",
       "</div>"
      ],
      "text/plain": [
       "       Unnamed: 0                                         video_name  \\\n",
       "20923       20923  /home/app/src/data/shot-type-dataset/trailer_v...   \n",
       "17541       17541  /home/app/src/data/shot-type-dataset/trailer_v...   \n",
       "8319         8319  /home/app/src/data/shot-type-dataset/trailer_v...   \n",
       "22539       22539  /home/app/src/data/shot-type-dataset/trailer_v...   \n",
       "16189       16189  /home/app/src/data/shot-type-dataset/trailer_v...   \n",
       "10384       10384  /home/app/src/data/shot-type-dataset/trailer_v...   \n",
       "20897       20897  /home/app/src/data/shot-type-dataset/trailer_v...   \n",
       "19737       19737  /home/app/src/data/shot-type-dataset/trailer_v...   \n",
       "22278       22278  /home/app/src/data/shot-type-dataset/trailer_v...   \n",
       "12891       12891  /home/app/src/data/shot-type-dataset/trailer_v...   \n",
       "\n",
       "      move_label  tag  \n",
       "20923     Static   FS  \n",
       "17541     Static   FS  \n",
       "8319      Static   MS  \n",
       "22539     Motion   LS  \n",
       "16189     Static   LS  \n",
       "10384     Static   CS  \n",
       "20897     Static  ECS  \n",
       "19737     Motion   MS  \n",
       "22278     Motion   FS  \n",
       "12891     Static   CS  "
      ]
     },
     "execution_count": 69,
     "metadata": {},
     "output_type": "execute_result"
    }
   ],
   "source": [
    "# Seeing quantities of each dataset\n",
    "\n",
    "print(f\"Total videos for training: {len(train_df)}\")\n",
    "print(f\"Total videos for testing: {len(test_df)}\")\n",
    "\n",
    "train_df.sample(10)"
   ]
  },
  {
   "cell_type": "code",
   "execution_count": 70,
   "metadata": {},
   "outputs": [
    {
     "data": {
      "text/plain": [
       "MS     5656\n",
       "CS     5578\n",
       "FS     5161\n",
       "ECS    4868\n",
       "LS     4203\n",
       "Name: tag, dtype: int64"
      ]
     },
     "execution_count": 70,
     "metadata": {},
     "output_type": "execute_result"
    }
   ],
   "source": [
    "# Seeing quantities of videos per label \n",
    "\n",
    "train_df['tag'].value_counts()"
   ]
  },
  {
   "cell_type": "markdown",
   "metadata": {},
   "source": [
    "Define hyperparameters"
   ]
  },
  {
   "cell_type": "code",
   "execution_count": 71,
   "metadata": {},
   "outputs": [],
   "source": [
    "IMG_SIZE = 224\n",
    "BATCH_SIZE = 64\n",
    "EPOCHS = 20\n",
    "\n",
    "MAX_SEQ_LENGTH = 10\n",
    "NUM_FEATURES = 2048"
   ]
  },
  {
   "cell_type": "markdown",
   "metadata": {},
   "source": [
    "Pre-Processing\n",
    "\n",
    "Loading videos, capturing frames and working on frame's size"
   ]
  },
  {
   "cell_type": "code",
   "execution_count": 72,
   "metadata": {},
   "outputs": [],
   "source": [
    "def crop_center_square(frame):\n",
    "    y, x = frame.shape[0:2]\n",
    "    min_dim = min(y, x)\n",
    "    start_x = (x // 2) - (min_dim // 2)\n",
    "    start_y = (y // 2) - (min_dim // 2)\n",
    "    return frame[start_y : start_y + min_dim, start_x : start_x + min_dim]\n",
    "\n",
    "\n",
    "def load_video(path, max_frames=0, resize=(IMG_SIZE, IMG_SIZE)):\n",
    "    cap = cv2.VideoCapture(path)\n",
    "    frames = []\n",
    "    try:\n",
    "        while True:\n",
    "            ret, frame = cap.read()\n",
    "            if not ret:\n",
    "                break\n",
    "            frame = crop_center_square(frame)\n",
    "            frame = cv2.resize(frame, resize)\n",
    "            frame = frame[:, :, [2, 1, 0]]\n",
    "            frames.append(frame)\n",
    "\n",
    "            if len(frames) == max_frames:\n",
    "                break\n",
    "    finally:\n",
    "        cap.release()\n",
    "    return np.array(frames)"
   ]
  },
  {
   "cell_type": "markdown",
   "metadata": {},
   "source": [
    "Feature extractor"
   ]
  },
  {
   "cell_type": "code",
   "execution_count": 73,
   "metadata": {},
   "outputs": [
    {
     "name": "stdout",
     "output_type": "stream",
     "text": [
      "Model: \"feature_extractor\"\n",
      "_________________________________________________________________\n",
      " Layer (type)                Output Shape              Param #   \n",
      "=================================================================\n",
      " input_12 (InputLayer)       [(None, 224, 224, 3)]     0         \n",
      "                                                                 \n",
      " tf.math.truediv_2 (TFOpLamb  (None, 224, 224, 3)      0         \n",
      " da)                                                             \n",
      "                                                                 \n",
      " tf.math.subtract_2 (TFOpLam  (None, 224, 224, 3)      0         \n",
      " bda)                                                            \n",
      "                                                                 \n",
      " inception_v3 (Functional)   (None, 2048)              21802784  \n",
      "                                                                 \n",
      "=================================================================\n",
      "Total params: 21,802,784\n",
      "Trainable params: 21,768,352\n",
      "Non-trainable params: 34,432\n",
      "_________________________________________________________________\n",
      "None\n"
     ]
    }
   ],
   "source": [
    "def build_feature_extractor():\n",
    "    feature_extractor = keras.applications.InceptionV3(\n",
    "        weights=\"imagenet\",\n",
    "        include_top=False,\n",
    "        pooling=\"avg\",\n",
    "        input_shape=(IMG_SIZE, IMG_SIZE, 3),\n",
    "    )\n",
    "    preprocess_input = keras.applications.inception_v3.preprocess_input\n",
    "\n",
    "    inputs = keras.Input((IMG_SIZE, IMG_SIZE, 3))\n",
    "    preprocessed = preprocess_input(inputs)\n",
    "\n",
    "    outputs = feature_extractor(preprocessed)\n",
    "    return keras.Model(inputs, outputs, name=\"feature_extractor\")\n",
    "\n",
    "\n",
    "feature_extractor = build_feature_extractor()\n",
    "print(feature_extractor.summary())"
   ]
  },
  {
   "cell_type": "markdown",
   "metadata": {},
   "source": [
    "Working on labels"
   ]
  },
  {
   "cell_type": "code",
   "execution_count": 74,
   "metadata": {},
   "outputs": [
    {
     "name": "stdout",
     "output_type": "stream",
     "text": [
      "['CS', 'ECS', 'FS', 'LS', 'MS']\n"
     ]
    }
   ],
   "source": [
    "label_processor = keras.layers.StringLookup(\n",
    "    num_oov_indices=0, vocabulary=np.unique(train_df[\"tag\"])\n",
    ")\n",
    "print(label_processor.get_vocabulary())"
   ]
  },
  {
   "cell_type": "markdown",
   "metadata": {},
   "source": [
    "Building embeddings (Test & Train)"
   ]
  },
  {
   "cell_type": "code",
   "execution_count": 75,
   "metadata": {},
   "outputs": [],
   "source": [
    "def prepare_all_videos(df, root_dir):\n",
    "    num_samples = len(df)\n",
    "    video_paths = df[\"video_name\"].values.tolist()\n",
    "    labels = df[\"tag\"].values\n",
    "    labels = label_processor(labels[..., None]).numpy()\n",
    "\n",
    "    # `frame_masks` and `frame_features` are what we will feed to our sequence model.\n",
    "    # `frame_masks` will contain a bunch of booleans denoting if a timestep is\n",
    "    # masked with padding or not.\n",
    "    frame_masks = np.zeros(shape=(num_samples, MAX_SEQ_LENGTH), dtype=\"bool\")\n",
    "    frame_features = np.zeros(\n",
    "        shape=(num_samples, MAX_SEQ_LENGTH, NUM_FEATURES), dtype=\"float32\"\n",
    "    )\n",
    "\n",
    "    # For each video.\n",
    "    for idx, path in enumerate(video_paths):\n",
    "        # Gather all its frames and add a batch dimension.\n",
    "        frames = load_video(os.path.join(root_dir, path))\n",
    "        frames = frames[None, ...]\n",
    "\n",
    "        # Initialize placeholders to store the masks and features of the current video.\n",
    "        temp_frame_mask = np.zeros(shape=(1, MAX_SEQ_LENGTH,), dtype=\"bool\")\n",
    "        temp_frame_features = np.zeros(\n",
    "            shape=(1, MAX_SEQ_LENGTH, NUM_FEATURES), dtype=\"float32\"\n",
    "        )\n",
    "\n",
    "        # Extract features from the frames of the current video.\n",
    "        for i, batch in enumerate(frames):\n",
    "            video_length = batch.shape[0]\n",
    "            length = min(MAX_SEQ_LENGTH, video_length)\n",
    "            for j in range(length):\n",
    "                temp_frame_features[i, j, :] = feature_extractor.predict(\n",
    "                    batch[None, j, :]\n",
    "                )\n",
    "            temp_frame_mask[i, :length] = 1  # 1 = not masked, 0 = masked\n",
    "\n",
    "        frame_features[idx,] = temp_frame_features.squeeze()\n",
    "        frame_masks[idx,] = temp_frame_mask.squeeze()\n",
    "\n",
    "    return (frame_features, frame_masks), labels\n",
    "\n",
    "\n",
    "train_data, train_labels = prepare_all_videos(train_df, \"train\")\n",
    "test_data, test_labels = prepare_all_videos(test_df, \"test\")\n",
    "\n",
    "print(f\"Frame features in train set: {train_data[0].shape}\")\n",
    "print(f\"Frame masks in train set: {train_data[1].shape}\")"
   ]
  },
  {
   "cell_type": "markdown",
   "metadata": {},
   "source": []
  },
  {
   "cell_type": "markdown",
   "metadata": {},
   "source": [
    "Loading embeddings"
   ]
  },
  {
   "cell_type": "code",
   "execution_count": 82,
   "metadata": {},
   "outputs": [],
   "source": [
    "# path_load_embeddings= '/home/app/src/embeddings/static_shot/10k_embeddings_10F/'\n",
    "\n",
    "# #Train\n",
    "# train_data_0 = np.load(path_load_embeddings + 'train_data_embedding_0.npy')\n",
    "# train_data_1 = np.load(path_load_embeddings + 'train_data_embedding_1.npy')\n",
    "# train_data=(train_data_0, train_data_1)\n",
    "# train_labels = np.load(path_load_embeddings + 'train_labels_embedding.npy')\n",
    "\n",
    "# #Test\n",
    "# test_data_0 = np.load(path_load_embeddings + 'test_data_embedding_0.npy')\n",
    "# test_data_1 = np.load(path_load_embeddings + 'test_data_embedding_1.npy')\n",
    "# test_data=(test_data_0, test_data_1)\n",
    "# test_labels = np.load(path_load_embeddings + 'test_labels_embedding.npy')"
   ]
  },
  {
   "cell_type": "markdown",
   "metadata": {},
   "source": [
    "Sequence model (RNN)\n",
    "\n",
    "Training RNN and getting Test Accuracy"
   ]
  },
  {
   "cell_type": "code",
   "execution_count": 83,
   "metadata": {},
   "outputs": [
    {
     "name": "stdout",
     "output_type": "stream",
     "text": [
      "Epoch 1/20\n",
      "216/219 [============================>.] - ETA: 0s - loss: 1.1803 - accuracy: 0.5197\n",
      "Epoch 1: val_loss improved from inf to 0.89557, saving model to /home/app/src/experiments/inceptionv3_GRU/static/model.weights_static.h5\n",
      "219/219 [==============================] - 15s 31ms/step - loss: 1.1771 - accuracy: 0.5209 - val_loss: 0.8956 - val_accuracy: 0.6950 - lr: 0.0010\n",
      "Epoch 2/20\n",
      "218/219 [============================>.] - ETA: 0s - loss: 0.8514 - accuracy: 0.6810\n",
      "Epoch 2: val_loss improved from 0.89557 to 0.68036, saving model to /home/app/src/experiments/inceptionv3_GRU/static/model.weights_static.h5\n",
      "219/219 [==============================] - 4s 17ms/step - loss: 0.8510 - accuracy: 0.6813 - val_loss: 0.6804 - val_accuracy: 0.7667 - lr: 0.0010\n",
      "Epoch 3/20\n",
      "216/219 [============================>.] - ETA: 0s - loss: 0.7353 - accuracy: 0.7322\n",
      "Epoch 3: val_loss improved from 0.68036 to 0.64818, saving model to /home/app/src/experiments/inceptionv3_GRU/static/model.weights_static.h5\n",
      "219/219 [==============================] - 4s 17ms/step - loss: 0.7357 - accuracy: 0.7319 - val_loss: 0.6482 - val_accuracy: 0.7683 - lr: 0.0010\n",
      "Epoch 4/20\n",
      "218/219 [============================>.] - ETA: 0s - loss: 0.6710 - accuracy: 0.7577\n",
      "Epoch 4: val_loss improved from 0.64818 to 0.58340, saving model to /home/app/src/experiments/inceptionv3_GRU/static/model.weights_static.h5\n",
      "219/219 [==============================] - 4s 17ms/step - loss: 0.6707 - accuracy: 0.7579 - val_loss: 0.5834 - val_accuracy: 0.7953 - lr: 0.0010\n",
      "Epoch 5/20\n",
      "218/219 [============================>.] - ETA: 0s - loss: 0.6240 - accuracy: 0.7758\n",
      "Epoch 5: val_loss did not improve from 0.58340\n",
      "219/219 [==============================] - 4s 17ms/step - loss: 0.6240 - accuracy: 0.7760 - val_loss: 0.6284 - val_accuracy: 0.7823 - lr: 0.0010\n",
      "Epoch 6/20\n",
      "217/219 [============================>.] - ETA: 0s - loss: 0.5902 - accuracy: 0.7872\n",
      "Epoch 6: val_loss did not improve from 0.58340\n",
      "219/219 [==============================] - 4s 16ms/step - loss: 0.5890 - accuracy: 0.7877 - val_loss: 0.7066 - val_accuracy: 0.7553 - lr: 0.0010\n",
      "Epoch 7/20\n",
      "217/219 [============================>.] - ETA: 0s - loss: 0.5674 - accuracy: 0.7935\n",
      "Epoch 7: val_loss did not improve from 0.58340\n",
      "219/219 [==============================] - 4s 17ms/step - loss: 0.5684 - accuracy: 0.7929 - val_loss: 0.6122 - val_accuracy: 0.7810 - lr: 0.0010\n",
      "Epoch 8/20\n",
      "219/219 [==============================] - ETA: 0s - loss: 0.5168 - accuracy: 0.8184\n",
      "Epoch 8: val_loss improved from 0.58340 to 0.55931, saving model to /home/app/src/experiments/inceptionv3_GRU/static/model.weights_static.h5\n",
      "219/219 [==============================] - 4s 17ms/step - loss: 0.5168 - accuracy: 0.8184 - val_loss: 0.5593 - val_accuracy: 0.8110 - lr: 5.0000e-04\n",
      "Epoch 9/20\n",
      "217/219 [============================>.] - ETA: 0s - loss: 0.4752 - accuracy: 0.8342\n",
      "Epoch 9: val_loss did not improve from 0.55931\n",
      "219/219 [==============================] - 5s 21ms/step - loss: 0.4746 - accuracy: 0.8346 - val_loss: 0.5639 - val_accuracy: 0.8080 - lr: 5.0000e-04\n",
      "Epoch 10/20\n",
      "218/219 [============================>.] - ETA: 0s - loss: 0.4474 - accuracy: 0.8460\n",
      "Epoch 10: val_loss did not improve from 0.55931\n",
      "219/219 [==============================] - 4s 19ms/step - loss: 0.4469 - accuracy: 0.8460 - val_loss: 0.5897 - val_accuracy: 0.8013 - lr: 5.0000e-04\n",
      "Epoch 11/20\n",
      "217/219 [============================>.] - ETA: 0s - loss: 0.4466 - accuracy: 0.8472\n",
      "Epoch 11: val_loss did not improve from 0.55931\n",
      "219/219 [==============================] - 4s 17ms/step - loss: 0.4455 - accuracy: 0.8477 - val_loss: 0.5770 - val_accuracy: 0.8037 - lr: 5.0000e-04\n",
      "Epoch 12/20\n",
      "217/219 [============================>.] - ETA: 0s - loss: 0.4015 - accuracy: 0.8643\n",
      "Epoch 12: val_loss did not improve from 0.55931\n",
      "219/219 [==============================] - 4s 17ms/step - loss: 0.4017 - accuracy: 0.8637 - val_loss: 0.5773 - val_accuracy: 0.8093 - lr: 2.5000e-04\n",
      "Epoch 13/20\n",
      "216/219 [============================>.] - ETA: 0s - loss: 0.3986 - accuracy: 0.8582\n",
      "Epoch 13: val_loss did not improve from 0.55931\n",
      "219/219 [==============================] - 4s 17ms/step - loss: 0.3982 - accuracy: 0.8589 - val_loss: 0.5858 - val_accuracy: 0.8070 - lr: 2.5000e-04\n",
      "Epoch 14/20\n",
      "218/219 [============================>.] - ETA: 0s - loss: 0.3843 - accuracy: 0.8721\n",
      "Epoch 14: val_loss did not improve from 0.55931\n",
      "219/219 [==============================] - 4s 17ms/step - loss: 0.3841 - accuracy: 0.8723 - val_loss: 0.5966 - val_accuracy: 0.8060 - lr: 2.5000e-04\n",
      "Epoch 15/20\n",
      "217/219 [============================>.] - ETA: 0s - loss: 0.3653 - accuracy: 0.8749\n",
      "Epoch 15: val_loss did not improve from 0.55931\n",
      "219/219 [==============================] - 4s 17ms/step - loss: 0.3651 - accuracy: 0.8750 - val_loss: 0.5894 - val_accuracy: 0.8060 - lr: 1.2500e-04\n",
      "Epoch 16/20\n",
      "217/219 [============================>.] - ETA: 0s - loss: 0.3515 - accuracy: 0.8841\n",
      "Epoch 16: val_loss did not improve from 0.55931\n",
      "219/219 [==============================] - 4s 17ms/step - loss: 0.3509 - accuracy: 0.8841 - val_loss: 0.6002 - val_accuracy: 0.8057 - lr: 1.2500e-04\n",
      "Epoch 17/20\n",
      "216/219 [============================>.] - ETA: 0s - loss: 0.3519 - accuracy: 0.8869\n",
      "Epoch 17: val_loss did not improve from 0.55931\n",
      "219/219 [==============================] - 4s 17ms/step - loss: 0.3529 - accuracy: 0.8864 - val_loss: 0.6017 - val_accuracy: 0.8073 - lr: 1.2500e-04\n",
      "Epoch 18/20\n",
      "218/219 [============================>.] - ETA: 0s - loss: 0.3374 - accuracy: 0.8893\n",
      "Epoch 18: val_loss did not improve from 0.55931\n",
      "219/219 [==============================] - 4s 17ms/step - loss: 0.3374 - accuracy: 0.8890 - val_loss: 0.6041 - val_accuracy: 0.8100 - lr: 6.2500e-05\n",
      "Epoch 19/20\n",
      "219/219 [==============================] - ETA: 0s - loss: 0.3353 - accuracy: 0.8907\n",
      "Epoch 19: val_loss did not improve from 0.55931\n",
      "219/219 [==============================] - 4s 17ms/step - loss: 0.3353 - accuracy: 0.8907 - val_loss: 0.6061 - val_accuracy: 0.8090 - lr: 6.2500e-05\n",
      "Epoch 20/20\n",
      "218/219 [============================>.] - ETA: 0s - loss: 0.3344 - accuracy: 0.8868\n",
      "Epoch 20: val_loss did not improve from 0.55931\n",
      "219/219 [==============================] - 4s 17ms/step - loss: 0.3348 - accuracy: 0.8866 - val_loss: 0.6072 - val_accuracy: 0.8100 - lr: 6.2500e-05\n",
      "113/113 [==============================] - 1s 7ms/step - loss: 0.5616 - accuracy: 0.8117\n",
      "Test accuracy: 81.17%\n"
     ]
    }
   ],
   "source": [
    "def get_sequence_model():\n",
    "    class_vocab = label_processor.get_vocabulary()\n",
    "\n",
    "    frame_features_input = keras.Input((MAX_SEQ_LENGTH, NUM_FEATURES))\n",
    "    mask_input = keras.Input((MAX_SEQ_LENGTH,), dtype=\"bool\")\n",
    "\n",
    "    # Refer to the following tutorial to understand the significance of using `mask`:\n",
    "    # https://keras.io/api/layers/recurrent_layers/gru/\n",
    "    x = keras.layers.GRU(16, return_sequences=True)(\n",
    "        frame_features_input, mask=mask_input\n",
    "    )\n",
    "    x = keras.layers.GRU(8)(x)\n",
    "    x = keras.layers.Dropout(0.4)(x)\n",
    "    x = keras.layers.Dense(8, activation=\"relu\")(x)\n",
    "    output = keras.layers.Dense(len(class_vocab), activation=\"softmax\")(x)\n",
    "\n",
    "    rnn_model = keras.Model([frame_features_input, mask_input], output)\n",
    "\n",
    "    rnn_model.compile(\n",
    "        loss=\"sparse_categorical_crossentropy\", optimizer=tf.keras.optimizers.Adam(learning_rate=1e-3), metrics=[\"accuracy\"],\n",
    "    )\n",
    "    return rnn_model\n",
    "\n",
    "\n",
    "# Utility for running experiments.\n",
    "def run_experiment():\n",
    "    filepath = \"/home/app/src/experiments/inceptionv3_GRU/static/model.weights_static.h5\"\n",
    "    filepath_log = '/home/app/src/experiments/inceptionv3_GRU/static'\n",
    "    reduce_lr = keras.callbacks.ReduceLROnPlateau(monitor='val_loss', factor=0.5,\n",
    "                              patience=3, min_lr=0.000001)\n",
    "    checkpoint = keras.callbacks.ModelCheckpoint(\n",
    "        filepath, save_weights_only=True, save_best_only=True, verbose=1\n",
    "    )\n",
    "    tensor_board = keras.callbacks.TensorBoard (filepath_log)\n",
    "\n",
    "    seq_model = get_sequence_model()\n",
    "    history = seq_model.fit(\n",
    "        [train_data[0], train_data[1]],\n",
    "        train_labels,\n",
    "        validation_split=0.3,\n",
    "        epochs=EPOCHS,\n",
    "        callbacks=[checkpoint, reduce_lr, tensor_board],\n",
    "    )\n",
    "\n",
    "    seq_model.load_weights(filepath)\n",
    "    _, accuracy = seq_model.evaluate([test_data[0], test_data[1]], test_labels)\n",
    "    print(f\"Test accuracy: {round(accuracy * 100, 2)}%\")\n",
    "    # Getting predictions\n",
    "    y_pred_proba = seq_model.predict([test_data[0], test_data[1]])\n",
    "    y_pred = []   \n",
    "    for arr in y_pred_proba:\n",
    "        idx_max = np.argmax(arr)\n",
    "        y_pred.append(idx_max)\n",
    "\n",
    "    return history, seq_model, y_pred\n",
    "\n",
    "\n",
    "_, sequence_model, y_pred = run_experiment()"
   ]
  },
  {
   "cell_type": "markdown",
   "metadata": {},
   "source": [
    "### Getting Metrics"
   ]
  },
  {
   "cell_type": "code",
   "execution_count": 84,
   "metadata": {},
   "outputs": [
    {
     "name": "stderr",
     "output_type": "stream",
     "text": [
      "UsageError: Line magic function `%tensorboard` not found.\n"
     ]
    }
   ],
   "source": [
    "%tensorboard == logdir /home/app/src/final-project-shot-type/experiments/inceptionv3_GRU/static"
   ]
  },
  {
   "cell_type": "code",
   "execution_count": 86,
   "metadata": {},
   "outputs": [
    {
     "data": {
      "text/plain": [
       "<AxesSubplot: >"
      ]
     },
     "execution_count": 86,
     "metadata": {},
     "output_type": "execute_result"
    },
    {
     "data": {
      "image/png": "[encoded data removed]",
      "text/plain": [
       "<Figure size 640x480 with 2 Axes>"
      ]
     },
     "metadata": {},
     "output_type": "display_data"
    }
   ],
   "source": [
    "# Confussion Matrix\n",
    "c_matrix = confusion_matrix(test_labels, y_pred , normalize='pred')\n",
    "# Plotting\n",
    "class_vocab = label_processor.get_vocabulary()\n",
    "df_cm = pd.DataFrame(c_matrix,index = [i for i in class_vocab],\n",
    "                  columns = [i for i in class_vocab])\n",
    "sns.set(font_scale=1.4) # for label size\n",
    "sns.heatmap(df_cm, annot=True, annot_kws={\"size\": 16}) # font size"
   ]
  },
  {
   "cell_type": "code",
   "execution_count": 87,
   "metadata": {},
   "outputs": [
    {
     "name": "stdout",
     "output_type": "stream",
     "text": [
      "              precision    recall  f1-score   support\n",
      "\n",
      "          CS       0.82      0.69      0.75       783\n",
      "         ECS       0.83      0.85      0.84       802\n",
      "          FS       0.80      0.81      0.80       688\n",
      "          LS       0.83      0.91      0.87       561\n",
      "          MS       0.78      0.82      0.80       766\n",
      "\n",
      "    accuracy                           0.81      3600\n",
      "   macro avg       0.81      0.82      0.81      3600\n",
      "weighted avg       0.81      0.81      0.81      3600\n",
      "\n"
     ]
    }
   ],
   "source": [
    "# Metrics report\n",
    "class_vocab = label_processor.get_vocabulary()\n",
    "print(classification_report(test_labels, y_pred, target_names=class_vocab ))"
   ]
  },
  {
   "cell_type": "markdown",
   "metadata": {},
   "source": [
    "Predictions"
   ]
  },
  {
   "cell_type": "code",
   "execution_count": 88,
   "metadata": {},
   "outputs": [
    {
     "name": "stdout",
     "output_type": "stream",
     "text": [
      "Test video path: /home/app/src/data/shot-type-dataset/trailer_v3/test/shot_tt2914386_0014.mp4\n"
     ]
    },
    {
     "name": "stderr",
     "output_type": "stream",
     "text": [
      "2022-11-19 20:21:45.282188: I tensorflow/core/platform/default/subprocess.cc:304] Start cannot spawn child process: No such file or directory\n",
      "2022-11-19 20:21:45.283964: I tensorflow/core/platform/default/subprocess.cc:304] Start cannot spawn child process: No such file or directory\n",
      "2022-11-19 20:21:45.284026: W tensorflow/stream_executor/gpu/asm_compiler.cc:80] Couldn't get ptxas version string: INTERNAL: Couldn't invoke ptxas --version\n",
      "2022-11-19 20:21:45.284665: I tensorflow/core/platform/default/subprocess.cc:304] Start cannot spawn child process: No such file or directory\n",
      "2022-11-19 20:21:45.284788: W tensorflow/stream_executor/gpu/redzone_allocator.cc:314] INTERNAL: Failed to launch ptxas\n",
      "Relying on driver to perform ptx compilation. \n",
      "Modify $PATH to customize ptxas location.\n",
      "This message will be only logged once.\n"
     ]
    },
    {
     "name": "stdout",
     "output_type": "stream",
     "text": [
      "  ECS: 92.25%\n",
      "  CS:  7.28%\n",
      "  MS:  0.26%\n",
      "  LS:  0.16%\n",
      "  FS:  0.05%\n",
      "Real Label: ECS\n"
     ]
    },
    {
     "data": {
      "application/vnd.jupyter.widget-view+json": {
       "model_id": "1585778c40094b17b75a8f4a91148b71",
       "version_major": 2,
       "version_minor": 0
      },
      "text/plain": [
       "Video(value=b'\\x00\\x00\\x00 ftypisom\\x00\\x00\\x02\\x00isomiso2avc1mp41\\x00\\x00\\x00\\x08free...')"
      ]
     },
     "execution_count": 88,
     "metadata": {},
     "output_type": "execute_result"
    }
   ],
   "source": [
    "def prepare_single_video(frames):\n",
    "    frames = frames[None, ...]\n",
    "    frame_mask = np.zeros(shape=(1, MAX_SEQ_LENGTH,), dtype=\"bool\")\n",
    "    frame_features = np.zeros(shape=(1, MAX_SEQ_LENGTH, NUM_FEATURES), dtype=\"float32\")\n",
    "\n",
    "    for i, batch in enumerate(frames):\n",
    "        video_length = batch.shape[0]\n",
    "        length = min(MAX_SEQ_LENGTH, video_length)\n",
    "        for j in range(length):\n",
    "            frame_features[i, j, :] = feature_extractor.predict(batch[None, j, :])\n",
    "        frame_mask[i, :length] = 1  # 1 = not masked, 0 = masked\n",
    "\n",
    "    return frame_features, frame_mask\n",
    "\n",
    "\n",
    "def sequence_prediction(path):\n",
    "    class_vocab = label_processor.get_vocabulary()\n",
    "\n",
    "    frames = load_video(os.path.join(\"test\", path))\n",
    "    frame_features, frame_mask = prepare_single_video(frames)\n",
    "    probabilities = sequence_model.predict([frame_features, frame_mask])[0]\n",
    "\n",
    "    for i in np.argsort(probabilities)[::-1]:\n",
    "        print(f\"  {class_vocab[i]}: {probabilities[i] * 100:5.2f}%\")\n",
    "    return frames\n",
    "\n",
    "\n",
    "# This utility is for visualization.\n",
    "# Referenced from:\n",
    "# https://www.tensorflow.org/hub/tutorials/action_recognition_with_tf_hub\n",
    "def to_gif(images):\n",
    "    converted_images = images.astype(np.uint8)\n",
    "    imageio.mimsave(\"animation.gif\", converted_images, fps=10)\n",
    "    return embed.embed_file(\"animation.gif\")\n",
    "\n",
    "\n",
    "test_video = np.random.choice(test_df[\"video_name\"].values.tolist())\n",
    "print(f\"Test video path: {test_video}\")\n",
    "test_frames = sequence_prediction(test_video)\n",
    "real_label = test_df[test_df['video_name'] ==test_video]['tag'].iloc[0]\n",
    "print(f'Real Label: {real_label}')\n",
    "new_ = Video.from_file(test_video,play=True)\n",
    "new_\n",
    "#to_gif(test_frames[:MAX_SEQ_LENGTH])"
   ]
  }
 ],
 "metadata": {
  "kernelspec": {
   "display_name": "Python 3.10.6 64-bit",
   "language": "python",
   "name": "python3"
  },
  "language_info": {
   "codemirror_mode": {
    "name": "ipython",
    "version": 3
   },
   "file_extension": ".py",
   "mimetype": "text/x-python",
   "name": "python",
   "nbconvert_exporter": "python",
   "pygments_lexer": "ipython3",
   "version": "3.10.6 (main, Nov 14 2022, 16:10:14) [GCC 11.3.0]"
  },
  "orig_nbformat": 4,
  "vscode": {
   "interpreter": {
    "hash": "31f2aee4e71d21fbe5cf8b01ff0e069b9275f58929596ceb00d14d90e3e16cd6"
   }
  }
 },
 "nbformat": 4,
 "nbformat_minor": 2
}
